{
 "cells": [
  {
   "cell_type": "code",
   "execution_count": 8,
   "metadata": {},
   "outputs": [],
   "source": [
    "import torch.nn as nn\n",
    "from transformers import BertModel\n",
    "\n",
    "# Bert\n",
    "\n",
    "class BertClassifier(nn.Module):\n",
    "    def __init__(self, bert_config, num_labels):\n",
    "        super().__init__()\n",
    "        # 定义BERT模型\n",
    "        self.bert = BertModel(config=bert_config)\n",
    "        # 定义Dropout层\n",
    "        self.dropout = nn.Dropout(p=0.2)  # Dropout概率为0.2\n",
    "        # 定义分类器\n",
    "        self.classifier = nn.Linear(bert_config.hidden_size, num_labels)\n",
    "\n",
    "    def forward(self, input_ids, attention_mask, token_type_ids):\n",
    "        # BERT的输出\n",
    "        bert_output = self.bert(input_ids=input_ids, attention_mask=attention_mask, token_type_ids=token_type_ids)\n",
    "        # 取[CLS]位置的pooled output\n",
    "        pooled = bert_output[1]\n",
    "        # 在pooled output上应用Dropout\n",
    "        pooled = self.dropout(pooled)\n",
    "        # 分类\n",
    "        logits = self.classifier(pooled)\n",
    "        # 返回结果\n",
    "        return logits\n",
    "\n",
    "\n",
    "# Bert+BiLSTM，用法与BertClassifier一样，可直接在train里面调用\n",
    "class BertLstmClassifier(nn.Module):\n",
    "    def __init__(self, bert_config, num_labels):\n",
    "        super().__init__()\n",
    "        self.bert = BertModel(config=bert_config)\n",
    "        self.lstm = nn.LSTM(input_size=bert_config.hidden_size, hidden_size=bert_config.hidden_size, num_layers=2, batch_first=True, bidirectional=True)\n",
    "        self.classifier = nn.Linear(bert_config.hidden_size*2, num_labels)  # 双向LSTM 需要乘以2\n",
    "\n",
    "    def forward(self, input_ids, attention_mask, token_type_ids):\n",
    "        outputs = self.bert(input_ids=input_ids, attention_mask=attention_mask, token_type_ids=token_type_ids)\n",
    "        last_hidden_state = outputs.last_hidden_state\n",
    "        out, _ = self.lstm(last_hidden_state)\n",
    "        logits = self.classifier(out[:, -1, :]) # 取最后时刻的输出\n",
    "        return logits\n"
   ]
  },
  {
   "cell_type": "code",
   "execution_count": 9,
   "metadata": {},
   "outputs": [
    {
     "name": "stdout",
     "output_type": "stream",
     "text": [
      "数据集划分完成：\n",
      "训练集保存在 data/train_ori.json\n",
      "测试集保存在 data/test.json\n"
     ]
    }
   ],
   "source": [
    "import json\n",
    "\n",
    "# 假设你的 JSON 数据存储在一个文件中\n",
    "input_file = 'data/2016.json'  # 替换为你的 JSON 文件路径\n",
    "output_train_file = 'data/train_ori.json'\n",
    "output_test_file = 'data/test.json'\n",
    "\n",
    "# 读取 JSON 数据\n",
    "with open(input_file, 'r', encoding='utf-8') as f:\n",
    "    data = json.load(f)\n",
    "\n",
    "# 确保数据是一个列表\n",
    "if isinstance(data, list):\n",
    "    # 划分数据集\n",
    "    train_data = data[:3109]\n",
    "    test_data = data[3109:]\n",
    "\n",
    "    # 保存训练集和测试集到文件\n",
    "    with open(output_train_file, 'w', encoding='utf-8') as f_train:\n",
    "        json.dump(train_data, f_train, ensure_ascii=False, indent=4)\n",
    "\n",
    "    with open(output_test_file, 'w', encoding='utf-8') as f_test:\n",
    "        json.dump(test_data, f_test, ensure_ascii=False, indent=4)\n",
    "\n",
    "    print(f\"数据集划分完成：\\n训练集保存在 {output_train_file}\\n测试集保存在 {output_test_file}\")\n",
    "else:\n",
    "    print(\"JSON 数据不是列表格式，无法划分数据集。\")"
   ]
  },
  {
   "cell_type": "code",
   "execution_count": 10,
   "metadata": {},
   "outputs": [
    {
     "name": "stdout",
     "output_type": "stream",
     "text": [
      "合并后的数据已保存到 data/train.json\n"
     ]
    }
   ],
   "source": [
    "import json\n",
    "\n",
    "# 文件路径\n",
    "file1_path = \"data/train_ori.json\"  # 原始 JSON 文件路径\n",
    "file2_path = \"dataGenerate/output_updated.json\"  # 新的 JSON 文件路径\n",
    "output_file_path = \"data/train.json\"  # 合并后输出的文件路径\n",
    "\n",
    "# 读取 JSON 数据\n",
    "def read_json(file_path):\n",
    "    try:\n",
    "        with open(file_path, \"r\", encoding=\"utf-8\") as file:\n",
    "            return json.load(file)\n",
    "    except FileNotFoundError:\n",
    "        print(f\"文件 {file_path} 未找到，将使用空列表。\")\n",
    "        return []\n",
    "    except json.JSONDecodeError:\n",
    "        print(f\"文件 {file_path} 格式错误，将使用空列表。\")\n",
    "        return []\n",
    "\n",
    "# 写入 JSON 数据\n",
    "def write_json(data, file_path):\n",
    "    with open(file_path, \"w\", encoding=\"utf-8\") as file:\n",
    "        json.dump(data, file, ensure_ascii=False, indent=4)\n",
    "    print(f\"合并后的数据已保存到 {file_path}\")\n",
    "\n",
    "# 合并逻辑\n",
    "def merge_json(file1, file2, output_file):\n",
    "    data1 = read_json(file1)\n",
    "    data2 = read_json(file2)\n",
    "\n",
    "    # 确保数据是列表\n",
    "    if not isinstance(data1, list) or not isinstance(data2, list):\n",
    "        print(\"JSON 数据格式错误，合并失败。\")\n",
    "        return\n",
    "\n",
    "    # 合并数据\n",
    "    merged_data = data1 + data2\n",
    "\n",
    "    # 写入合并结果\n",
    "    write_json(merged_data, output_file)\n",
    "\n",
    "# 执行合并\n",
    "merge_json(file1_path, file2_path, output_file_path)\n"
   ]
  },
  {
   "cell_type": "code",
   "execution_count": 11,
   "metadata": {},
   "outputs": [
    {
     "name": "stdout",
     "output_type": "stream",
     "text": [
      "loading data from: test_data.json\n"
     ]
    },
    {
     "name": "stderr",
     "output_type": "stream",
     "text": [
      "100%|██████████| 1/1 [00:00<00:00, 1061.58it/s]"
     ]
    },
    {
     "name": "stdout",
     "output_type": "stream",
     "text": [
      "Input IDs: [ 101 6857 3221  671 5063 5080 1606 4638 3152 4995  102    0    0    0\n",
      "    0    0    0    0    0    0    0    0    0    0    0    0    0    0\n",
      "    0    0    0    0    0    0    0    0    0    0    0    0    0    0\n",
      "    0    0    0    0    0    0    0    0    0    0    0    0    0    0\n",
      "    0    0    0    0    0    0    0    0    0    0    0    0    0    0\n",
      "    0    0    0    0    0    0    0    0    0    0    0    0    0    0\n",
      "    0    0    0    0    0    0    0    0    0    0    0    0    0    0\n",
      "    0    0    0    0    0    0    0    0    0    0    0    0    0    0\n",
      "    0    0    0    0    0    0    0    0    0    0    0    0    0    0\n",
      "    0    0    0    0    0    0    0    0    0    0    0    0    0    0\n",
      "    0    0    0    0    0    0    0    0    0    0    0    0    0    0\n",
      "    0    0    0    0    0    0    0    0    0    0    0    0    0    0\n",
      "    0    0    0    0    0    0    0    0    0    0    0    0    0    0\n",
      "    0    0    0    0    0    0    0    0    0    0    0    0    0    0\n",
      "    0    0    0    0    0    0    0    0    0    0    0    0    0    0\n",
      "    0    0    0    0    0    0    0    0    0    0    0    0    0    0\n",
      "    0    0    0    0    0    0    0    0    0    0    0    0    0    0\n",
      "    0    0    0    0    0    0    0    0    0    0    0    0    0    0\n",
      "    0    0    0    0    0    0    0    0    0    0    0    0    0    0\n",
      "    0    0    0    0    0    0    0    0    0    0    0    0    0    0\n",
      "    0    0    0    0    0    0    0    0    0    0    0    0    0    0\n",
      "    0    0    0    0    0    0    0    0    0    0    0    0    0    0\n",
      "    0    0    0    0    0    0    0    0    0    0    0    0    0    0\n",
      "    0    0    0    0    0    0    0    0    0    0    0    0    0    0\n",
      "    0    0    0    0    0    0    0    0    0    0    0    0    0    0\n",
      "    0    0    0    0    0    0    0    0    0    0    0    0    0    0\n",
      "    0    0    0    0    0    0    0    0    0    0    0    0    0    0\n",
      "    0    0    0    0    0    0    0    0    0    0    0    0    0    0\n",
      "    0    0    0    0    0    0    0    0    0    0    0    0    0    0\n",
      "    0    0    0    0    0    0    0    0    0    0    0    0    0    0\n",
      "    0    0    0    0    0    0    0    0    0    0    0    0    0    0\n",
      "    0    0    0    0    0    0    0    0    0    0    0    0    0    0\n",
      "    0    0    0    0    0    0    0    0    0    0    0    0    0    0\n",
      "    0    0    0    0    0    0    0    0    0    0    0    0    0    0\n",
      "    0    0    0    0    0    0    0    0    0    0    0    0    0    0\n",
      "    0    0    0    0    0    0    0    0    0    0    0    0    0    0\n",
      "    0    0    0    0    0    0    0    0]\n",
      "Token Type IDs: [0 0 0 0 0 0 0 0 0 0 0 0 0 0 0 0 0 0 0 0 0 0 0 0 0 0 0 0 0 0 0 0 0 0 0 0 0\n",
      " 0 0 0 0 0 0 0 0 0 0 0 0 0 0 0 0 0 0 0 0 0 0 0 0 0 0 0 0 0 0 0 0 0 0 0 0 0\n",
      " 0 0 0 0 0 0 0 0 0 0 0 0 0 0 0 0 0 0 0 0 0 0 0 0 0 0 0 0 0 0 0 0 0 0 0 0 0\n",
      " 0 0 0 0 0 0 0 0 0 0 0 0 0 0 0 0 0 0 0 0 0 0 0 0 0 0 0 0 0 0 0 0 0 0 0 0 0\n",
      " 0 0 0 0 0 0 0 0 0 0 0 0 0 0 0 0 0 0 0 0 0 0 0 0 0 0 0 0 0 0 0 0 0 0 0 0 0\n",
      " 0 0 0 0 0 0 0 0 0 0 0 0 0 0 0 0 0 0 0 0 0 0 0 0 0 0 0 0 0 0 0 0 0 0 0 0 0\n",
      " 0 0 0 0 0 0 0 0 0 0 0 0 0 0 0 0 0 0 0 0 0 0 0 0 0 0 0 0 0 0 0 0 0 0 0 0 0\n",
      " 0 0 0 0 0 0 0 0 0 0 0 0 0 0 0 0 0 0 0 0 0 0 0 0 0 0 0 0 0 0 0 0 0 0 0 0 0\n",
      " 0 0 0 0 0 0 0 0 0 0 0 0 0 0 0 0 0 0 0 0 0 0 0 0 0 0 0 0 0 0 0 0 0 0 0 0 0\n",
      " 0 0 0 0 0 0 0 0 0 0 0 0 0 0 0 0 0 0 0 0 0 0 0 0 0 0 0 0 0 0 0 0 0 0 0 0 0\n",
      " 0 0 0 0 0 0 0 0 0 0 0 0 0 0 0 0 0 0 0 0 0 0 0 0 0 0 0 0 0 0 0 0 0 0 0 0 0\n",
      " 0 0 0 0 0 0 0 0 0 0 0 0 0 0 0 0 0 0 0 0 0 0 0 0 0 0 0 0 0 0 0 0 0 0 0 0 0\n",
      " 0 0 0 0 0 0 0 0 0 0 0 0 0 0 0 0 0 0 0 0 0 0 0 0 0 0 0 0 0 0 0 0 0 0 0 0 0\n",
      " 0 0 0 0 0 0 0 0 0 0 0 0 0 0 0 0 0 0 0 0 0 0 0 0 0 0 0 0 0 0 0]\n",
      "Attention Mask: [1 1 1 1 1 1 1 1 1 1 1 0 0 0 0 0 0 0 0 0 0 0 0 0 0 0 0 0 0 0 0 0 0 0 0 0 0\n",
      " 0 0 0 0 0 0 0 0 0 0 0 0 0 0 0 0 0 0 0 0 0 0 0 0 0 0 0 0 0 0 0 0 0 0 0 0 0\n",
      " 0 0 0 0 0 0 0 0 0 0 0 0 0 0 0 0 0 0 0 0 0 0 0 0 0 0 0 0 0 0 0 0 0 0 0 0 0\n",
      " 0 0 0 0 0 0 0 0 0 0 0 0 0 0 0 0 0 0 0 0 0 0 0 0 0 0 0 0 0 0 0 0 0 0 0 0 0\n",
      " 0 0 0 0 0 0 0 0 0 0 0 0 0 0 0 0 0 0 0 0 0 0 0 0 0 0 0 0 0 0 0 0 0 0 0 0 0\n",
      " 0 0 0 0 0 0 0 0 0 0 0 0 0 0 0 0 0 0 0 0 0 0 0 0 0 0 0 0 0 0 0 0 0 0 0 0 0\n",
      " 0 0 0 0 0 0 0 0 0 0 0 0 0 0 0 0 0 0 0 0 0 0 0 0 0 0 0 0 0 0 0 0 0 0 0 0 0\n",
      " 0 0 0 0 0 0 0 0 0 0 0 0 0 0 0 0 0 0 0 0 0 0 0 0 0 0 0 0 0 0 0 0 0 0 0 0 0\n",
      " 0 0 0 0 0 0 0 0 0 0 0 0 0 0 0 0 0 0 0 0 0 0 0 0 0 0 0 0 0 0 0 0 0 0 0 0 0\n",
      " 0 0 0 0 0 0 0 0 0 0 0 0 0 0 0 0 0 0 0 0 0 0 0 0 0 0 0 0 0 0 0 0 0 0 0 0 0\n",
      " 0 0 0 0 0 0 0 0 0 0 0 0 0 0 0 0 0 0 0 0 0 0 0 0 0 0 0 0 0 0 0 0 0 0 0 0 0\n",
      " 0 0 0 0 0 0 0 0 0 0 0 0 0 0 0 0 0 0 0 0 0 0 0 0 0 0 0 0 0 0 0 0 0 0 0 0 0\n",
      " 0 0 0 0 0 0 0 0 0 0 0 0 0 0 0 0 0 0 0 0 0 0 0 0 0 0 0 0 0 0 0 0 0 0 0 0 0\n",
      " 0 0 0 0 0 0 0 0 0 0 0 0 0 0 0 0 0 0 0 0 0 0 0 0 0 0 0 0 0 0 0]\n",
      "Label ID: 0\n",
      "Label Scores: tensor([0.5000, 0.3333, 0.1667, 0.0000, 0.0000, 0.0000])\n"
     ]
    },
    {
     "name": "stderr",
     "output_type": "stream",
     "text": [
      "\n"
     ]
    }
   ],
   "source": [
    "import json\n",
    "import numpy as np\n",
    "from tqdm import tqdm\n",
    "from torch.utils.data import Dataset\n",
    "import torch\n",
    "\n",
    "class SinaNewsDataset(Dataset):\n",
    "    def __init__(self,filename,tokenizer):\n",
    "        \n",
    "        self.labels = [\"moved\",\"angry\",\"funny\",\"sad\",\"novel\",\"shocked\"]\n",
    "        self.labels_id  = list(range(len(self.labels)))\n",
    "        self.tokenizer = tokenizer\n",
    "        self.input_ids = []\n",
    "        self.token_type_ids = []\n",
    "        self.attention_mask = []\n",
    "        self.label_id = []\n",
    "        self.label_scores = []\n",
    "        self.load_data(filename)\n",
    "        \n",
    "    def load_data(self,filename):\n",
    "        print('loading data from:', filename)\n",
    "        with open(filename,'r',encoding='utf-8') as f:\n",
    "            data = json.load(f)\n",
    "        for item in tqdm(data):\n",
    "            emotions = {k: v for k, v in item.items() if k in self.labels}\n",
    "            label = max(emotions, key=emotions.get)\n",
    "            text = item['news']\n",
    "            label_id = self.labels.index(label)\n",
    "            token = self.tokenizer(text, add_special_tokens=True, padding='max_length', truncation=True, max_length=512)\n",
    "            self.input_ids.append(np.array(token['input_ids']))\n",
    "            self.token_type_ids.append(np.array(token['token_type_ids']))\n",
    "            self.attention_mask.append(np.array(token['attention_mask']))\n",
    "            self.label_id.append(label_id)\n",
    "            \n",
    "            ## 添加的部分\n",
    "            total = int(item[\"Total\"])\n",
    "            if total > 0:\n",
    "                scores =torch.tensor([emotions[label] for label in self.labels], dtype=torch.float32)\n",
    "                # label_vector = torch.softmax(scores,dim=0)  # 使用 softmax 归一化 \n",
    "                label_vector = (scores / scores.sum())\n",
    "            else:\n",
    "                label_vector = [0.0] * len(self.labels)  # 如果 Total 为 0，所有情感归为 0\n",
    "            self.label_scores.append(label_vector)\n",
    "            \n",
    "    def __getitem__(self, index):\n",
    "        return self.input_ids[index], self.token_type_ids[index], self.attention_mask[index], self.label_id[index],self.label_scores[index],\n",
    "\n",
    "    def __len__(self):\n",
    "        return len(self.input_ids)\n",
    "    \n",
    "from transformers import BertTokenizer\n",
    "   \n",
    "def test_sina_news_dataset():\n",
    "    # 创建一个测试数据文件\n",
    "    test_data = [\n",
    "        {\n",
    "            \"news\": \"這是一篇簡單的文章\",\n",
    "            \"moved\": 3,\n",
    "            \"angry\": 2,\n",
    "            \"funny\": 1,\n",
    "            \"sad\": 0,\n",
    "            \"novel\": 0,\n",
    "            \"shocked\": 0,\n",
    "            \"Total\": 6\n",
    "        }\n",
    "    ]\n",
    "\n",
    "    test_filename = 'test_data.json'\n",
    "    with open(test_filename, 'w', encoding='utf-8') as f:\n",
    "        json.dump(test_data, f, ensure_ascii=False, indent=4)\n",
    "\n",
    "\n",
    "    # 使用 BertTokenizer\n",
    "    tokenizer = BertTokenizer.from_pretrained('model/bert-base-chinese')\n",
    "\n",
    "    # 加载数据集\n",
    "    dataset = SinaNewsDataset(test_filename, tokenizer)\n",
    "\n",
    "    # 打印第一行\n",
    "    first_item = dataset[0]\n",
    "    print(\"Input IDs:\", first_item[0])\n",
    "    print(\"Token Type IDs:\", first_item[1])\n",
    "    print(\"Attention Mask:\", first_item[2])\n",
    "    print(\"Label ID:\", first_item[3])\n",
    "    print(\"Label Scores:\", first_item[4])\n",
    "\n",
    "# 调用测试函数\n",
    "test_sina_news_dataset()"
   ]
  },
  {
   "cell_type": "code",
   "execution_count": 12,
   "metadata": {},
   "outputs": [],
   "source": [
    "import os\n",
    "import torch\n",
    "import torch.nn as nn\n",
    "from transformers import BertTokenizer, BertConfig\n",
    "from torch.utils.data import DataLoader\n",
    "from tqdm import tqdm\n",
    "from sklearn import metrics\n",
    "from scipy.stats import pearsonr\n",
    "from torch.optim import AdamW\n",
    "import torch.nn.functional as F\n",
    "\n",
    "def calculate_acc1(pred_labels, labels_score):\n",
    "    \"\"\"\n",
    "    计算 ACC@1\n",
    "    :param pred_labels: 模型预测的标签 (Tensor)\n",
    "    :param labels_score: 真实标签的分数 (Tensor 或列表)\n",
    "    :return: 当前 batch 的 ACC@1\n",
    "    \"\"\"\n",
    "    correct = 0  # 正确计数\n",
    "    batch_size = len(pred_labels)  # 批次大小\n",
    "    label_id_rank = torch.argsort(labels_score, dim=1, descending=True)  # 对情感进行排序\n",
    "    for i in range(batch_size):\n",
    "        pred_label = pred_labels[i].item()\n",
    "        true_rank = label_id_rank[i]\n",
    "        scores = labels_score[i]\n",
    "\n",
    "        # 判断预测是否正确\n",
    "        for rank_idx in range(len(true_rank)):\n",
    "            if scores[true_rank[rank_idx]] == scores[true_rank[0]]:  # 判断是否与第一分数相同\n",
    "                if pred_label == true_rank[rank_idx]:  # 检查预测是否在相同分数的排名中\n",
    "                    correct += 1\n",
    "                    break  # 预测正确，跳出循环\n",
    "            else:\n",
    "                break  # 一旦分数不同，结束判断\n",
    "\n",
    "    return correct / batch_size  # 返回准确率\n",
    "\n",
    "\n",
    "\n",
    "\n",
    "def train(learning_rate = 1e-5):\n",
    "    MODEL_PATH = 'model/bert-base-chinese'\n",
    "    DATA_PATH = 'data/'\n",
    "    batch_size = 64\n",
    "    device = 'cuda' if torch.cuda.is_available() else 'cpu'\n",
    "    epochs = 40\n",
    "        # Learning Rate不宜太大\n",
    "    tokenizer = BertTokenizer.from_pretrained(MODEL_PATH)\n",
    "\n",
    "    train_dataset = SinaNewsDataset(DATA_PATH + 'train.json', tokenizer)\n",
    "    valid_dataset = SinaNewsDataset(DATA_PATH + 'test.json', tokenizer)\n",
    "\n",
    "    bert_config = BertConfig.from_pretrained(MODEL_PATH)\n",
    "    num_labels = len(train_dataset.labels)\n",
    "\n",
    "    model = BertClassifier(bert_config, num_labels).to(device)\n",
    "    model.bert = BertModel.from_pretrained(MODEL_PATH).to(device)\n",
    "    model = nn.DataParallel(model)\n",
    "    optimizer = AdamW(model.parameters(), lr=learning_rate,)\n",
    "    # criterion = nn.CrossEntropyLoss()\n",
    "    criterion = nn.KLDivLoss(reduction='batchmean') ## 使用 KLDivLoss 作为损失函数\n",
    "\n",
    "    best_f1 = 0\n",
    "\n",
    "    metrics_history = {\n",
    "        'train_accuracy': [],\n",
    "        'train_pearson': [],\n",
    "        'valid_accuracy': [],\n",
    "        'valid_pearson': []\n",
    "    }\n",
    "\n",
    "    for epoch in range(epochs):\n",
    "        model.train()\n",
    "\n",
    "        train_dataloader = DataLoader(train_dataset, batch_size=batch_size, shuffle=True)\n",
    "        train_bar = tqdm(train_dataloader, ncols=100)\n",
    "        \n",
    "        train_losses, train_acc,train_pearson,pearson_count  = 0, 0, 0,0\n",
    "\n",
    "        for input_ids, token_type_ids, attention_mask, label_id ,labels_score in train_bar:\n",
    "            model.zero_grad()\n",
    "            train_bar.set_description(f'Epoch {epoch} train')\n",
    "\n",
    "            output = model(\n",
    "                input_ids=input_ids.to(device),\n",
    "                attention_mask=attention_mask.to(device),\n",
    "                token_type_ids=token_type_ids.to(device),\n",
    "            )\n",
    "\n",
    "            # loss = criterion(output, label_id.to(device))\n",
    "            loss = criterion(F.log_softmax(output, dim=1), labels_score.to(device))\n",
    "            train_losses += loss.item()\n",
    "            \n",
    "            pred_labels = torch.argmax(output, dim=1)\n",
    "            acc = calculate_acc1(pred_labels, labels_score)\n",
    "            train_acc += acc\n",
    "            logits = output.clone().detach()\n",
    "            \n",
    "            for i in range(logits.size(0)):\n",
    "                pearson, _ = pearsonr(logits[i].cpu().numpy(), labels_score[i].cpu().detach().numpy())\n",
    "                train_pearson += pearson\n",
    "                pearson_count += 1\n",
    "                \n",
    "            \n",
    "            loss.backward()\n",
    "            optimizer.step()\n",
    "            train_bar.set_postfix(loss=loss.item(), acc=acc)\n",
    "            \n",
    "        train_pearson = train_pearson / pearson_count\n",
    "        train_accuracy = train_acc / len(train_dataloader)\n",
    "        metrics_history['train_accuracy'].append(train_accuracy)\n",
    "        metrics_history['train_pearson'].append(train_pearson)\n",
    "        print(f'\\tTrain ACC: {train_accuracy}, Train Pearson: {train_pearson}')\n",
    "        # Validation\n",
    "        model.eval()\n",
    "        \n",
    "        valid_dataloader = DataLoader(valid_dataset, batch_size=batch_size, shuffle=False)\n",
    "        valid_bar = tqdm(valid_dataloader, ncols=100)\n",
    "        \n",
    "        valid_losses, valid_acc,valid_pearson, pearson_count,valid_preds, valid_labels = 0, 0,0,0, [], []\n",
    "\n",
    "        for input_ids, token_type_ids, attention_mask, label_id,labels_score in valid_bar:\n",
    "            valid_bar.set_description(f'Epoch {epoch} valid')\n",
    "\n",
    "            with torch.no_grad():\n",
    "                output = model(\n",
    "                    input_ids=input_ids.to(device),\n",
    "                    attention_mask=attention_mask.to(device),\n",
    "                    token_type_ids=token_type_ids.to(device),\n",
    "                )\n",
    "\n",
    "            # loss = criterion(output, label_id.to(device))\n",
    "            loss = criterion(F.log_softmax(output, dim=1), labels_score.to(device))\n",
    "\n",
    "            valid_losses += loss.item()\n",
    "\n",
    "            pred_label = torch.argmax(output, dim=1)\n",
    "            # acc = torch.sum(pred_label == label_id.to(device)).item() / len(pred_label)\n",
    "            acc = calculate_acc1(pred_label, labels_score)\n",
    "            valid_acc += acc\n",
    "            logits = output.clone()\n",
    "            for i in range(logits.size(0)):\n",
    "                    pearson, _ = pearsonr(logits[i].cpu().numpy(), labels_score[i].cpu().numpy())\n",
    "                    valid_pearson += pearson\n",
    "                    pearson_count += 1\n",
    "\n",
    "            valid_preds.extend(pred_label.cpu().numpy())\n",
    "            valid_labels.extend(label_id.cpu().numpy())\n",
    "            valid_bar.set_postfix(loss=loss.item(), acc=acc)\n",
    "\n",
    "        \n",
    "        valid_pearson = valid_pearson / pearson_count\n",
    "        valid_accuracy = valid_acc / len(valid_dataloader)\n",
    "        metrics_history['valid_accuracy'].append(valid_accuracy)\n",
    "        metrics_history['valid_pearson'].append(valid_pearson)\n",
    "        print(f'\\tValid ACC: {valid_accuracy}, Valid Pearson: {valid_pearson}')\n",
    "\n",
    "        report = metrics.classification_report(valid_labels, valid_preds, labels=valid_dataset.labels_id, target_names=valid_dataset.labels)\n",
    "        print('* Classification Report:')\n",
    "        print(report)\n",
    "\n",
    "        f1 = metrics.f1_score(valid_labels, valid_preds, labels=valid_dataset.labels_id, average='micro')\n",
    "\n",
    "        if not os.path.exists('models'):\n",
    "            os.makedirs('models')\n",
    "\n",
    "        if f1 > best_f1:\n",
    "            best_f1 = f1\n",
    "            torch.save(model.state_dict(), 'model/best_model.pkl')\n",
    "\n",
    "    return metrics_history\n",
    "\n",
    "        "
   ]
  },
  {
   "cell_type": "code",
   "execution_count": 13,
   "metadata": {},
   "outputs": [],
   "source": [
    "# import matplotlib.pyplot as plt\n",
    "\n",
    "# learning_rate = [5e-7,1e-6,2e-6,5e-6,1e-5,2e-5,5e-5,1e-4,1e-3]\n",
    "# metrics_historys = []\n",
    "# for lr in learning_rate:\n",
    "#     metrics_historys.append(train(lr))\n",
    "    \n",
    "# # 提取每个学习率的最大验证集准确率和皮尔逊系数\n",
    "# max_valid_accuracy = [max(history['valid_accuracy']) for history in metrics_historys]\n",
    "# max_valid_pearson = [max(history['valid_pearson']) for history in metrics_historys]\n",
    "\n",
    "# # 保存图表为文件\n",
    "# plt.figure(figsize=(12, 6))\n",
    "\n",
    "# # 验证集准确率\n",
    "# plt.subplot(1, 2, 1)\n",
    "# plt.plot(learning_rate, max_valid_accuracy, marker='o')\n",
    "# plt.xscale('log')\n",
    "# plt.xlabel('Learning Rate (log scale)')\n",
    "# plt.ylabel('Max Validation Accuracy')\n",
    "# plt.title('Max Validation Accuracy vs Learning Rate')\n",
    "# plt.grid(True)\n",
    "\n",
    "# # 验证集皮尔逊系数\n",
    "# plt.subplot(1, 2, 2)\n",
    "# plt.plot(learning_rate, max_valid_pearson, marker='o', color='orange')\n",
    "# plt.xscale('log')\n",
    "# plt.xlabel('Learning Rate (log scale)')\n",
    "# plt.ylabel('Max Validation Pearson')\n",
    "# plt.title('Max Validation Pearson vs Learning Rate')\n",
    "# plt.grid(True)\n",
    "\n",
    "# plt.tight_layout()\n",
    "# plt.savefig('learning_rate_vs_metrics.png')\n",
    "# print(\"图表已保存为 'learning_rate_vs_metrics.png' 文件。\")\n"
   ]
  },
  {
   "cell_type": "code",
   "execution_count": 14,
   "metadata": {},
   "outputs": [
    {
     "name": "stdout",
     "output_type": "stream",
     "text": [
      "loading data from: data/train.json\n"
     ]
    },
    {
     "name": "stderr",
     "output_type": "stream",
     "text": [
      "100%|██████████| 5358/5358 [00:13<00:00, 398.30it/s]\n"
     ]
    },
    {
     "name": "stdout",
     "output_type": "stream",
     "text": [
      "loading data from: data/test.json\n"
     ]
    },
    {
     "name": "stderr",
     "output_type": "stream",
     "text": [
      "100%|██████████| 2148/2148 [00:06<00:00, 308.28it/s]\n",
      "Epoch 0 train: 100%|█████████████████████████| 84/84 [01:09<00:00,  1.20it/s, acc=0.609, loss=0.298]\n"
     ]
    },
    {
     "name": "stdout",
     "output_type": "stream",
     "text": [
      "\tTrain ACC: 0.5219413172877847, Train Pearson: 0.5108855611003171\n"
     ]
    },
    {
     "name": "stderr",
     "output_type": "stream",
     "text": [
      "Epoch 0 valid: 100%|█████████████████████████| 34/34 [00:11<00:00,  3.04it/s, acc=0.639, loss=0.368]\n"
     ]
    },
    {
     "name": "stdout",
     "output_type": "stream",
     "text": [
      "\tValid ACC: 0.6548202614379085, Valid Pearson: 0.671043224827033\n",
      "* Classification Report:\n",
      "              precision    recall  f1-score   support\n",
      "\n",
      "       moved       0.68      0.74      0.71       365\n",
      "       angry       0.74      0.68      0.71       837\n",
      "       funny       0.60      0.63      0.62       530\n",
      "         sad       0.56      0.68      0.61       292\n",
      "       novel       0.39      0.59      0.47        34\n",
      "     shocked       0.45      0.11      0.18        90\n",
      "\n",
      "    accuracy                           0.65      2148\n",
      "   macro avg       0.57      0.57      0.55      2148\n",
      "weighted avg       0.66      0.65      0.65      2148\n",
      "\n"
     ]
    },
    {
     "name": "stderr",
     "output_type": "stream",
     "text": [
      "Epoch 1 train: 100%|█████████████████████████| 84/84 [01:11<00:00,  1.18it/s, acc=0.717, loss=0.224]\n"
     ]
    },
    {
     "name": "stdout",
     "output_type": "stream",
     "text": [
      "\tTrain ACC: 0.7135254917184265, Train Pearson: 0.7425244951707225\n"
     ]
    },
    {
     "name": "stderr",
     "output_type": "stream",
     "text": [
      "Epoch 1 valid: 100%|█████████████████████████| 34/34 [00:10<00:00,  3.23it/s, acc=0.722, loss=0.283]\n"
     ]
    },
    {
     "name": "stdout",
     "output_type": "stream",
     "text": [
      "\tValid ACC: 0.6949550653594772, Valid Pearson: 0.729774095824606\n",
      "* Classification Report:\n",
      "              precision    recall  f1-score   support\n",
      "\n",
      "       moved       0.73      0.77      0.75       365\n",
      "       angry       0.69      0.84      0.76       837\n",
      "       funny       0.73      0.52      0.61       530\n",
      "         sad       0.64      0.66      0.65       292\n",
      "       novel       0.60      0.44      0.51        34\n",
      "     shocked       0.53      0.23      0.32        90\n",
      "\n",
      "    accuracy                           0.69      2148\n",
      "   macro avg       0.65      0.58      0.60      2148\n",
      "weighted avg       0.69      0.69      0.68      2148\n",
      "\n"
     ]
    },
    {
     "name": "stderr",
     "output_type": "stream",
     "text": [
      "Epoch 2 train: 100%|█████████████████████████| 84/84 [01:11<00:00,  1.17it/s, acc=0.761, loss=0.203]\n"
     ]
    },
    {
     "name": "stdout",
     "output_type": "stream",
     "text": [
      "\tTrain ACC: 0.760360054347826, Train Pearson: 0.7824431926921073\n"
     ]
    },
    {
     "name": "stderr",
     "output_type": "stream",
     "text": [
      "Epoch 2 valid: 100%|█████████████████████████| 34/34 [00:10<00:00,  3.22it/s, acc=0.778, loss=0.258]\n"
     ]
    },
    {
     "name": "stdout",
     "output_type": "stream",
     "text": [
      "\tValid ACC: 0.7089971405228759, Valid Pearson: 0.7485644145785688\n",
      "* Classification Report:\n",
      "              precision    recall  f1-score   support\n",
      "\n",
      "       moved       0.78      0.78      0.78       365\n",
      "       angry       0.74      0.80      0.77       837\n",
      "       funny       0.67      0.64      0.65       530\n",
      "         sad       0.64      0.70      0.67       292\n",
      "       novel       0.42      0.47      0.44        34\n",
      "     shocked       0.44      0.13      0.21        90\n",
      "\n",
      "    accuracy                           0.71      2148\n",
      "   macro avg       0.62      0.59      0.59      2148\n",
      "weighted avg       0.70      0.71      0.70      2148\n",
      "\n"
     ]
    },
    {
     "name": "stderr",
     "output_type": "stream",
     "text": [
      "Epoch 3 train: 100%|██████████████████████████| 84/84 [01:11<00:00,  1.17it/s, acc=0.87, loss=0.164]\n"
     ]
    },
    {
     "name": "stdout",
     "output_type": "stream",
     "text": [
      "\tTrain ACC: 0.787509704968944, Train Pearson: 0.8002261100423126\n"
     ]
    },
    {
     "name": "stderr",
     "output_type": "stream",
     "text": [
      "Epoch 3 valid: 100%|██████████████████████████| 34/34 [00:10<00:00,  3.22it/s, acc=0.75, loss=0.239]\n"
     ]
    },
    {
     "name": "stdout",
     "output_type": "stream",
     "text": [
      "\tValid ACC: 0.7155330882352942, Valid Pearson: 0.7475817590600402\n",
      "* Classification Report:\n",
      "              precision    recall  f1-score   support\n",
      "\n",
      "       moved       0.81      0.76      0.79       365\n",
      "       angry       0.79      0.75      0.77       837\n",
      "       funny       0.63      0.72      0.68       530\n",
      "         sad       0.68      0.70      0.69       292\n",
      "       novel       0.35      0.50      0.41        34\n",
      "     shocked       0.38      0.24      0.30        90\n",
      "\n",
      "    accuracy                           0.71      2148\n",
      "   macro avg       0.61      0.61      0.61      2148\n",
      "weighted avg       0.72      0.71      0.71      2148\n",
      "\n"
     ]
    },
    {
     "name": "stderr",
     "output_type": "stream",
     "text": [
      "Epoch 4 train: 100%|█████████████████████████| 84/84 [01:12<00:00,  1.17it/s, acc=0.913, loss=0.135]\n"
     ]
    },
    {
     "name": "stdout",
     "output_type": "stream",
     "text": [
      "\tTrain ACC: 0.8070005175983438, Train Pearson: 0.8184189555780208\n"
     ]
    },
    {
     "name": "stderr",
     "output_type": "stream",
     "text": [
      "Epoch 4 valid: 100%|█████████████████████████| 34/34 [00:10<00:00,  3.22it/s, acc=0.778, loss=0.243]\n"
     ]
    },
    {
     "name": "stdout",
     "output_type": "stream",
     "text": [
      "\tValid ACC: 0.7168096405228759, Valid Pearson: 0.7471217241809711\n",
      "* Classification Report:\n",
      "              precision    recall  f1-score   support\n",
      "\n",
      "       moved       0.80      0.78      0.79       365\n",
      "       angry       0.76      0.79      0.77       837\n",
      "       funny       0.66      0.69      0.67       530\n",
      "         sad       0.66      0.66      0.66       292\n",
      "       novel       0.57      0.38      0.46        34\n",
      "     shocked       0.38      0.26      0.31        90\n",
      "\n",
      "    accuracy                           0.71      2148\n",
      "   macro avg       0.64      0.59      0.61      2148\n",
      "weighted avg       0.71      0.71      0.71      2148\n",
      "\n"
     ]
    },
    {
     "name": "stderr",
     "output_type": "stream",
     "text": [
      "Epoch 5 train: 100%|█████████████████████████| 84/84 [01:11<00:00,  1.18it/s, acc=0.891, loss=0.149]\n"
     ]
    },
    {
     "name": "stdout",
     "output_type": "stream",
     "text": [
      "\tTrain ACC: 0.8299932065217392, Train Pearson: 0.8298869247466591\n"
     ]
    },
    {
     "name": "stderr",
     "output_type": "stream",
     "text": [
      "Epoch 5 valid: 100%|█████████████████████████| 34/34 [00:10<00:00,  3.23it/s, acc=0.722, loss=0.238]\n"
     ]
    },
    {
     "name": "stdout",
     "output_type": "stream",
     "text": [
      "\tValid ACC: 0.7101205065359477, Valid Pearson: 0.7339116758217274\n",
      "* Classification Report:\n",
      "              precision    recall  f1-score   support\n",
      "\n",
      "       moved       0.86      0.71      0.78       365\n",
      "       angry       0.79      0.73      0.76       837\n",
      "       funny       0.64      0.72      0.68       530\n",
      "         sad       0.63      0.78      0.70       292\n",
      "       novel       0.40      0.47      0.43        34\n",
      "     shocked       0.34      0.34      0.34        90\n",
      "\n",
      "    accuracy                           0.71      2148\n",
      "   macro avg       0.61      0.62      0.61      2148\n",
      "weighted avg       0.72      0.71      0.71      2148\n",
      "\n"
     ]
    },
    {
     "name": "stderr",
     "output_type": "stream",
     "text": [
      "Epoch 6 train: 100%|██████████████████████████| 84/84 [01:11<00:00,  1.17it/s, acc=0.826, loss=0.12]\n"
     ]
    },
    {
     "name": "stdout",
     "output_type": "stream",
     "text": [
      "\tTrain ACC: 0.8491200828157349, Train Pearson: 0.8425515229861497\n"
     ]
    },
    {
     "name": "stderr",
     "output_type": "stream",
     "text": [
      "Epoch 6 valid: 100%|██████████████████████████| 34/34 [00:10<00:00,  3.22it/s, acc=0.778, loss=0.22]\n"
     ]
    },
    {
     "name": "stdout",
     "output_type": "stream",
     "text": [
      "\tValid ACC: 0.7250816993464052, Valid Pearson: 0.7455227139671763\n",
      "* Classification Report:\n",
      "              precision    recall  f1-score   support\n",
      "\n",
      "       moved       0.83      0.75      0.79       365\n",
      "       angry       0.76      0.80      0.78       837\n",
      "       funny       0.68      0.67      0.68       530\n",
      "         sad       0.66      0.72      0.69       292\n",
      "       novel       0.44      0.41      0.42        34\n",
      "     shocked       0.43      0.34      0.38        90\n",
      "\n",
      "    accuracy                           0.72      2148\n",
      "   macro avg       0.63      0.62      0.62      2148\n",
      "weighted avg       0.72      0.72      0.72      2148\n",
      "\n"
     ]
    },
    {
     "name": "stderr",
     "output_type": "stream",
     "text": [
      "Epoch 7 train: 100%|████████████████████████| 84/84 [01:12<00:00,  1.17it/s, acc=0.891, loss=0.0816]\n"
     ]
    },
    {
     "name": "stdout",
     "output_type": "stream",
     "text": [
      "\tTrain ACC: 0.8502685041407868, Train Pearson: 0.8475191893977277\n"
     ]
    },
    {
     "name": "stderr",
     "output_type": "stream",
     "text": [
      "Epoch 7 valid: 100%|█████████████████████████| 34/34 [00:10<00:00,  3.23it/s, acc=0.778, loss=0.216]\n"
     ]
    },
    {
     "name": "stdout",
     "output_type": "stream",
     "text": [
      "\tValid ACC: 0.7200265522875817, Valid Pearson: 0.7522933253654077\n",
      "* Classification Report:\n",
      "              precision    recall  f1-score   support\n",
      "\n",
      "       moved       0.82      0.75      0.78       365\n",
      "       angry       0.77      0.79      0.78       837\n",
      "       funny       0.65      0.71      0.68       530\n",
      "         sad       0.69      0.65      0.67       292\n",
      "       novel       0.41      0.35      0.38        34\n",
      "     shocked       0.37      0.29      0.33        90\n",
      "\n",
      "    accuracy                           0.72      2148\n",
      "   macro avg       0.62      0.59      0.60      2148\n",
      "weighted avg       0.72      0.72      0.72      2148\n",
      "\n"
     ]
    },
    {
     "name": "stderr",
     "output_type": "stream",
     "text": [
      "Epoch 8 train: 100%|█████████████████████████| 84/84 [01:11<00:00,  1.18it/s, acc=0.87, loss=0.0847]\n"
     ]
    },
    {
     "name": "stdout",
     "output_type": "stream",
     "text": [
      "\tTrain ACC: 0.8647046454451345, Train Pearson: 0.8549377931749944\n"
     ]
    },
    {
     "name": "stderr",
     "output_type": "stream",
     "text": [
      "Epoch 8 valid: 100%|█████████████████████████| 34/34 [00:10<00:00,  3.23it/s, acc=0.778, loss=0.203]\n"
     ]
    },
    {
     "name": "stdout",
     "output_type": "stream",
     "text": [
      "\tValid ACC: 0.7126736111111112, Valid Pearson: 0.7480300097420913\n",
      "* Classification Report:\n",
      "              precision    recall  f1-score   support\n",
      "\n",
      "       moved       0.81      0.76      0.79       365\n",
      "       angry       0.75      0.79      0.77       837\n",
      "       funny       0.66      0.67      0.66       530\n",
      "         sad       0.69      0.67      0.68       292\n",
      "       novel       0.39      0.32      0.35        34\n",
      "     shocked       0.40      0.33      0.36        90\n",
      "\n",
      "    accuracy                           0.71      2148\n",
      "   macro avg       0.62      0.59      0.60      2148\n",
      "weighted avg       0.71      0.71      0.71      2148\n",
      "\n"
     ]
    },
    {
     "name": "stderr",
     "output_type": "stream",
     "text": [
      "Epoch 9 train: 100%|████████████████████████| 84/84 [01:11<00:00,  1.17it/s, acc=0.848, loss=0.0742]\n"
     ]
    },
    {
     "name": "stdout",
     "output_type": "stream",
     "text": [
      "\tTrain ACC: 0.8800708462732919, Train Pearson: 0.8606723500725804\n"
     ]
    },
    {
     "name": "stderr",
     "output_type": "stream",
     "text": [
      "Epoch 9 valid: 100%|█████████████████████████| 34/34 [00:10<00:00,  3.23it/s, acc=0.778, loss=0.213]\n"
     ]
    },
    {
     "name": "stdout",
     "output_type": "stream",
     "text": [
      "\tValid ACC: 0.7195669934640523, Valid Pearson: 0.7394200248793902\n",
      "* Classification Report:\n",
      "              precision    recall  f1-score   support\n",
      "\n",
      "       moved       0.84      0.75      0.79       365\n",
      "       angry       0.74      0.85      0.79       837\n",
      "       funny       0.72      0.57      0.64       530\n",
      "         sad       0.68      0.71      0.69       292\n",
      "       novel       0.35      0.44      0.39        34\n",
      "     shocked       0.36      0.37      0.36        90\n",
      "\n",
      "    accuracy                           0.72      2148\n",
      "   macro avg       0.61      0.62      0.61      2148\n",
      "weighted avg       0.72      0.72      0.72      2148\n",
      "\n"
     ]
    },
    {
     "name": "stderr",
     "output_type": "stream",
     "text": [
      "Epoch 10 train: 100%|███████████████████████| 84/84 [01:11<00:00,  1.18it/s, acc=0.935, loss=0.0827]\n"
     ]
    },
    {
     "name": "stdout",
     "output_type": "stream",
     "text": [
      "\tTrain ACC: 0.8902206262939959, Train Pearson: 0.8662726906776258\n"
     ]
    },
    {
     "name": "stderr",
     "output_type": "stream",
     "text": [
      "Epoch 10 valid: 100%|█████████████████████████| 34/34 [00:10<00:00,  3.23it/s, acc=0.75, loss=0.216]\n"
     ]
    },
    {
     "name": "stdout",
     "output_type": "stream",
     "text": [
      "\tValid ACC: 0.7219669117647058, Valid Pearson: 0.7513963211278196\n",
      "* Classification Report:\n",
      "              precision    recall  f1-score   support\n",
      "\n",
      "       moved       0.78      0.79      0.78       365\n",
      "       angry       0.74      0.84      0.79       837\n",
      "       funny       0.71      0.61      0.66       530\n",
      "         sad       0.67      0.66      0.67       292\n",
      "       novel       0.48      0.35      0.41        34\n",
      "     shocked       0.46      0.37      0.41        90\n",
      "\n",
      "    accuracy                           0.72      2148\n",
      "   macro avg       0.64      0.60      0.62      2148\n",
      "weighted avg       0.72      0.72      0.72      2148\n",
      "\n"
     ]
    },
    {
     "name": "stderr",
     "output_type": "stream",
     "text": [
      "Epoch 11 train: 100%|████████████████████████| 84/84 [01:11<00:00,  1.17it/s, acc=0.935, loss=0.071]\n"
     ]
    },
    {
     "name": "stdout",
     "output_type": "stream",
     "text": [
      "\tTrain ACC: 0.8889185429606625, Train Pearson: 0.8696674785319238\n"
     ]
    },
    {
     "name": "stderr",
     "output_type": "stream",
     "text": [
      "Epoch 11 valid: 100%|█████████████████████████| 34/34 [00:10<00:00,  3.23it/s, acc=0.75, loss=0.205]\n"
     ]
    },
    {
     "name": "stdout",
     "output_type": "stream",
     "text": [
      "\tValid ACC: 0.7113970588235294, Valid Pearson: 0.7507023144446732\n",
      "* Classification Report:\n",
      "              precision    recall  f1-score   support\n",
      "\n",
      "       moved       0.81      0.75      0.78       365\n",
      "       angry       0.74      0.80      0.77       837\n",
      "       funny       0.66      0.66      0.66       530\n",
      "         sad       0.68      0.66      0.67       292\n",
      "       novel       0.38      0.32      0.35        34\n",
      "     shocked       0.45      0.33      0.38        90\n",
      "\n",
      "    accuracy                           0.71      2148\n",
      "   macro avg       0.62      0.59      0.60      2148\n",
      "weighted avg       0.71      0.71      0.71      2148\n",
      "\n"
     ]
    },
    {
     "name": "stderr",
     "output_type": "stream",
     "text": [
      "Epoch 12 train: 100%|███████████████████████| 84/84 [01:11<00:00,  1.17it/s, acc=0.891, loss=0.0779]\n"
     ]
    },
    {
     "name": "stdout",
     "output_type": "stream",
     "text": [
      "\tTrain ACC: 0.8941673136645963, Train Pearson: 0.870718960467744\n"
     ]
    },
    {
     "name": "stderr",
     "output_type": "stream",
     "text": [
      "Epoch 12 valid: 100%|████████████████████████| 34/34 [00:10<00:00,  3.22it/s, acc=0.806, loss=0.213]\n"
     ]
    },
    {
     "name": "stdout",
     "output_type": "stream",
     "text": [
      "\tValid ACC: 0.7056781045751634, Valid Pearson: 0.7293642272231896\n",
      "* Classification Report:\n",
      "              precision    recall  f1-score   support\n",
      "\n",
      "       moved       0.81      0.73      0.77       365\n",
      "       angry       0.78      0.74      0.76       837\n",
      "       funny       0.66      0.67      0.66       530\n",
      "         sad       0.65      0.74      0.69       292\n",
      "       novel       0.33      0.41      0.37        34\n",
      "     shocked       0.35      0.42      0.38        90\n",
      "\n",
      "    accuracy                           0.70      2148\n",
      "   macro avg       0.60      0.62      0.61      2148\n",
      "weighted avg       0.71      0.70      0.71      2148\n",
      "\n"
     ]
    },
    {
     "name": "stderr",
     "output_type": "stream",
     "text": [
      "Epoch 13 train: 100%|████████████████████████| 84/84 [01:11<00:00,  1.18it/s, acc=0.891, loss=0.058]\n"
     ]
    },
    {
     "name": "stdout",
     "output_type": "stream",
     "text": [
      "\tTrain ACC: 0.8975155279503106, Train Pearson: 0.8748756538097434\n"
     ]
    },
    {
     "name": "stderr",
     "output_type": "stream",
     "text": [
      "Epoch 13 valid: 100%|████████████████████████| 34/34 [00:10<00:00,  3.23it/s, acc=0.722, loss=0.211]\n"
     ]
    },
    {
     "name": "stdout",
     "output_type": "stream",
     "text": [
      "\tValid ACC: 0.7128778594771241, Valid Pearson: 0.7559735484805398\n",
      "* Classification Report:\n",
      "              precision    recall  f1-score   support\n",
      "\n",
      "       moved       0.80      0.75      0.78       365\n",
      "       angry       0.73      0.84      0.78       837\n",
      "       funny       0.69      0.62      0.65       530\n",
      "         sad       0.70      0.61      0.65       292\n",
      "       novel       0.40      0.47      0.43        34\n",
      "     shocked       0.43      0.32      0.37        90\n",
      "\n",
      "    accuracy                           0.71      2148\n",
      "   macro avg       0.63      0.60      0.61      2148\n",
      "weighted avg       0.71      0.71      0.71      2148\n",
      "\n"
     ]
    },
    {
     "name": "stderr",
     "output_type": "stream",
     "text": [
      "Epoch 14 train: 100%|███████████████████████| 84/84 [01:11<00:00,  1.17it/s, acc=0.957, loss=0.0601]\n"
     ]
    },
    {
     "name": "stdout",
     "output_type": "stream",
     "text": [
      "\tTrain ACC: 0.8990359730848861, Train Pearson: 0.8753804813932845\n"
     ]
    },
    {
     "name": "stderr",
     "output_type": "stream",
     "text": [
      "Epoch 14 valid: 100%|█████████████████████████| 34/34 [00:10<00:00,  3.22it/s, acc=0.778, loss=0.21]\n"
     ]
    },
    {
     "name": "stdout",
     "output_type": "stream",
     "text": [
      "\tValid ACC: 0.7163500816993464, Valid Pearson: 0.7469416336312665\n",
      "* Classification Report:\n",
      "              precision    recall  f1-score   support\n",
      "\n",
      "       moved       0.80      0.77      0.79       365\n",
      "       angry       0.73      0.83      0.78       837\n",
      "       funny       0.70      0.60      0.65       530\n",
      "         sad       0.64      0.69      0.66       292\n",
      "       novel       0.45      0.38      0.41        34\n",
      "     shocked       0.46      0.29      0.36        90\n",
      "\n",
      "    accuracy                           0.72      2148\n",
      "   macro avg       0.63      0.59      0.61      2148\n",
      "weighted avg       0.71      0.72      0.71      2148\n",
      "\n"
     ]
    },
    {
     "name": "stderr",
     "output_type": "stream",
     "text": [
      "Epoch 15 train: 100%|███████████████████████| 84/84 [01:11<00:00,  1.18it/s, acc=0.913, loss=0.0495]\n"
     ]
    },
    {
     "name": "stdout",
     "output_type": "stream",
     "text": [
      "\tTrain ACC: 0.9054008152173914, Train Pearson: 0.8764306407349454\n"
     ]
    },
    {
     "name": "stderr",
     "output_type": "stream",
     "text": [
      "Epoch 15 valid: 100%|████████████████████████| 34/34 [00:10<00:00,  3.23it/s, acc=0.806, loss=0.205]\n"
     ]
    },
    {
     "name": "stdout",
     "output_type": "stream",
     "text": [
      "\tValid ACC: 0.705218545751634, Valid Pearson: 0.7405273792228927\n",
      "* Classification Report:\n",
      "              precision    recall  f1-score   support\n",
      "\n",
      "       moved       0.80      0.76      0.78       365\n",
      "       angry       0.80      0.71      0.75       837\n",
      "       funny       0.63      0.72      0.67       530\n",
      "         sad       0.65      0.70      0.67       292\n",
      "       novel       0.39      0.35      0.37        34\n",
      "     shocked       0.37      0.42      0.40        90\n",
      "\n",
      "    accuracy                           0.70      2148\n",
      "   macro avg       0.61      0.61      0.61      2148\n",
      "weighted avg       0.71      0.70      0.70      2148\n",
      "\n"
     ]
    },
    {
     "name": "stderr",
     "output_type": "stream",
     "text": [
      "Epoch 16 train: 100%|███████████████████████| 84/84 [01:11<00:00,  1.17it/s, acc=0.913, loss=0.0644]\n"
     ]
    },
    {
     "name": "stdout",
     "output_type": "stream",
     "text": [
      "\tTrain ACC: 0.9057728390269152, Train Pearson: 0.8769472471804057\n"
     ]
    },
    {
     "name": "stderr",
     "output_type": "stream",
     "text": [
      "Epoch 16 valid: 100%|████████████████████████| 34/34 [00:10<00:00,  3.23it/s, acc=0.778, loss=0.192]\n"
     ]
    },
    {
     "name": "stdout",
     "output_type": "stream",
     "text": [
      "\tValid ACC: 0.7126736111111112, Valid Pearson: 0.7482554018728025\n",
      "* Classification Report:\n",
      "              precision    recall  f1-score   support\n",
      "\n",
      "       moved       0.77      0.79      0.78       365\n",
      "       angry       0.74      0.81      0.77       837\n",
      "       funny       0.68      0.61      0.64       530\n",
      "         sad       0.69      0.64      0.66       292\n",
      "       novel       0.44      0.35      0.39        34\n",
      "     shocked       0.44      0.41      0.43        90\n",
      "\n",
      "    accuracy                           0.71      2148\n",
      "   macro avg       0.63      0.60      0.61      2148\n",
      "weighted avg       0.71      0.71      0.71      2148\n",
      "\n"
     ]
    },
    {
     "name": "stderr",
     "output_type": "stream",
     "text": [
      "Epoch 17 train: 100%|████████████████████████| 84/84 [01:12<00:00,  1.17it/s, acc=0.87, loss=0.0616]\n"
     ]
    },
    {
     "name": "stdout",
     "output_type": "stream",
     "text": [
      "\tTrain ACC: 0.9117656573498965, Train Pearson: 0.8791060878313937\n"
     ]
    },
    {
     "name": "stderr",
     "output_type": "stream",
     "text": [
      "Epoch 17 valid: 100%|████████████████████████| 34/34 [00:10<00:00,  3.23it/s, acc=0.833, loss=0.196]\n"
     ]
    },
    {
     "name": "stdout",
     "output_type": "stream",
     "text": [
      "\tValid ACC: 0.7129289215686274, Valid Pearson: 0.7406608800551099\n",
      "* Classification Report:\n",
      "              precision    recall  f1-score   support\n",
      "\n",
      "       moved       0.77      0.80      0.78       365\n",
      "       angry       0.77      0.77      0.77       837\n",
      "       funny       0.68      0.63      0.65       530\n",
      "         sad       0.62      0.71      0.66       292\n",
      "       novel       0.50      0.44      0.47        34\n",
      "     shocked       0.44      0.39      0.41        90\n",
      "\n",
      "    accuracy                           0.71      2148\n",
      "   macro avg       0.63      0.62      0.62      2148\n",
      "weighted avg       0.71      0.71      0.71      2148\n",
      "\n"
     ]
    },
    {
     "name": "stderr",
     "output_type": "stream",
     "text": [
      "Epoch 18 train: 100%|███████████████████████| 84/84 [01:11<00:00,  1.18it/s, acc=0.935, loss=0.0457]\n"
     ]
    },
    {
     "name": "stdout",
     "output_type": "stream",
     "text": [
      "\tTrain ACC: 0.9108679477225673, Train Pearson: 0.8797600589755628\n"
     ]
    },
    {
     "name": "stderr",
     "output_type": "stream",
     "text": [
      "Epoch 18 valid: 100%|████████████████████████| 34/34 [00:11<00:00,  3.03it/s, acc=0.833, loss=0.203]\n"
     ]
    },
    {
     "name": "stdout",
     "output_type": "stream",
     "text": [
      "\tValid ACC: 0.7032781862745098, Valid Pearson: 0.7413887154053248\n",
      "* Classification Report:\n",
      "              precision    recall  f1-score   support\n",
      "\n",
      "       moved       0.78      0.77      0.78       365\n",
      "       angry       0.79      0.72      0.75       837\n",
      "       funny       0.65      0.68      0.66       530\n",
      "         sad       0.63      0.71      0.66       292\n",
      "       novel       0.38      0.38      0.38        34\n",
      "     shocked       0.36      0.40      0.38        90\n",
      "\n",
      "    accuracy                           0.70      2148\n",
      "   macro avg       0.60      0.61      0.60      2148\n",
      "weighted avg       0.71      0.70      0.70      2148\n",
      "\n"
     ]
    },
    {
     "name": "stderr",
     "output_type": "stream",
     "text": [
      "Epoch 19 train: 100%|███████████████████████| 84/84 [01:11<00:00,  1.18it/s, acc=0.935, loss=0.0528]\n"
     ]
    },
    {
     "name": "stdout",
     "output_type": "stream",
     "text": [
      "\tTrain ACC: 0.9110539596273293, Train Pearson: 0.8797105159141266\n"
     ]
    },
    {
     "name": "stderr",
     "output_type": "stream",
     "text": [
      "Epoch 19 valid: 100%|████████████████████████| 34/34 [00:10<00:00,  3.23it/s, acc=0.833, loss=0.196]\n"
     ]
    },
    {
     "name": "stdout",
     "output_type": "stream",
     "text": [
      "\tValid ACC: 0.7097120098039216, Valid Pearson: 0.7441648530743828\n",
      "* Classification Report:\n",
      "              precision    recall  f1-score   support\n",
      "\n",
      "       moved       0.78      0.79      0.78       365\n",
      "       angry       0.75      0.78      0.77       837\n",
      "       funny       0.70      0.59      0.64       530\n",
      "         sad       0.62      0.73      0.67       292\n",
      "       novel       0.42      0.44      0.43        34\n",
      "     shocked       0.41      0.36      0.38        90\n",
      "\n",
      "    accuracy                           0.71      2148\n",
      "   macro avg       0.61      0.62      0.61      2148\n",
      "weighted avg       0.71      0.71      0.70      2148\n",
      "\n"
     ]
    },
    {
     "name": "stderr",
     "output_type": "stream",
     "text": [
      "Epoch 20 train: 100%|███████████████████████| 84/84 [01:11<00:00,  1.17it/s, acc=0.978, loss=0.0466]\n"
     ]
    },
    {
     "name": "stdout",
     "output_type": "stream",
     "text": [
      "\tTrain ACC: 0.9125016174948241, Train Pearson: 0.8802540003893127\n"
     ]
    },
    {
     "name": "stderr",
     "output_type": "stream",
     "text": [
      "Epoch 20 valid: 100%|████████████████████████| 34/34 [00:10<00:00,  3.23it/s, acc=0.806, loss=0.218]\n"
     ]
    },
    {
     "name": "stdout",
     "output_type": "stream",
     "text": [
      "\tValid ACC: 0.7148692810457516, Valid Pearson: 0.7360259348917765\n",
      "* Classification Report:\n",
      "              precision    recall  f1-score   support\n",
      "\n",
      "       moved       0.84      0.75      0.79       365\n",
      "       angry       0.74      0.82      0.78       837\n",
      "       funny       0.72      0.58      0.64       530\n",
      "         sad       0.63      0.72      0.67       292\n",
      "       novel       0.42      0.41      0.42        34\n",
      "     shocked       0.38      0.46      0.42        90\n",
      "\n",
      "    accuracy                           0.71      2148\n",
      "   macro avg       0.62      0.62      0.62      2148\n",
      "weighted avg       0.72      0.71      0.71      2148\n",
      "\n"
     ]
    },
    {
     "name": "stderr",
     "output_type": "stream",
     "text": [
      "Epoch 21 train: 100%|███████████████████████| 84/84 [01:11<00:00,  1.18it/s, acc=0.935, loss=0.0513]\n"
     ]
    },
    {
     "name": "stdout",
     "output_type": "stream",
     "text": [
      "\tTrain ACC: 0.9170063405797102, Train Pearson: 0.8813734327787904\n"
     ]
    },
    {
     "name": "stderr",
     "output_type": "stream",
     "text": [
      "Epoch 21 valid: 100%|████████████████████████| 34/34 [00:11<00:00,  3.02it/s, acc=0.833, loss=0.199]\n"
     ]
    },
    {
     "name": "stdout",
     "output_type": "stream",
     "text": [
      "\tValid ACC: 0.7152267156862745, Valid Pearson: 0.7357034948639791\n",
      "* Classification Report:\n",
      "              precision    recall  f1-score   support\n",
      "\n",
      "       moved       0.81      0.78      0.79       365\n",
      "       angry       0.79      0.76      0.77       837\n",
      "       funny       0.65      0.67      0.66       530\n",
      "         sad       0.67      0.71      0.69       292\n",
      "       novel       0.35      0.38      0.37        34\n",
      "     shocked       0.39      0.46      0.42        90\n",
      "\n",
      "    accuracy                           0.71      2148\n",
      "   macro avg       0.61      0.62      0.62      2148\n",
      "weighted avg       0.72      0.71      0.71      2148\n",
      "\n"
     ]
    },
    {
     "name": "stderr",
     "output_type": "stream",
     "text": [
      "Epoch 22 train: 100%|████████████████████████| 84/84 [01:11<00:00,  1.18it/s, acc=0.913, loss=0.048]\n"
     ]
    },
    {
     "name": "stdout",
     "output_type": "stream",
     "text": [
      "\tTrain ACC: 0.91209724378882, Train Pearson: 0.8820835048512374\n"
     ]
    },
    {
     "name": "stderr",
     "output_type": "stream",
     "text": [
      "Epoch 22 valid: 100%|████████████████████████| 34/34 [00:10<00:00,  3.23it/s, acc=0.833, loss=0.192]\n"
     ]
    },
    {
     "name": "stdout",
     "output_type": "stream",
     "text": [
      "\tValid ACC: 0.7152267156862745, Valid Pearson: 0.7380481687599503\n",
      "* Classification Report:\n",
      "              precision    recall  f1-score   support\n",
      "\n",
      "       moved       0.80      0.78      0.79       365\n",
      "       angry       0.74      0.83      0.78       837\n",
      "       funny       0.72      0.58      0.64       530\n",
      "         sad       0.62      0.71      0.66       292\n",
      "       novel       0.42      0.38      0.40        34\n",
      "     shocked       0.42      0.33      0.37        90\n",
      "\n",
      "    accuracy                           0.71      2148\n",
      "   macro avg       0.62      0.60      0.61      2148\n",
      "weighted avg       0.71      0.71      0.71      2148\n",
      "\n"
     ]
    },
    {
     "name": "stderr",
     "output_type": "stream",
     "text": [
      "Epoch 23 train: 100%|███████████████████████| 84/84 [01:11<00:00,  1.17it/s, acc=0.913, loss=0.0542]\n"
     ]
    },
    {
     "name": "stdout",
     "output_type": "stream",
     "text": [
      "\tTrain ACC: 0.91600349378882, Train Pearson: 0.8818110437359481\n"
     ]
    },
    {
     "name": "stderr",
     "output_type": "stream",
     "text": [
      "Epoch 23 valid: 100%|████████████████████████| 34/34 [00:10<00:00,  3.23it/s, acc=0.833, loss=0.207]\n"
     ]
    },
    {
     "name": "stdout",
     "output_type": "stream",
     "text": [
      "\tValid ACC: 0.7101715686274509, Valid Pearson: 0.7430192972149594\n",
      "* Classification Report:\n",
      "              precision    recall  f1-score   support\n",
      "\n",
      "       moved       0.81      0.75      0.78       365\n",
      "       angry       0.78      0.74      0.76       837\n",
      "       funny       0.63      0.72      0.67       530\n",
      "         sad       0.64      0.71      0.67       292\n",
      "       novel       0.40      0.41      0.41        34\n",
      "     shocked       0.47      0.32      0.38        90\n",
      "\n",
      "    accuracy                           0.71      2148\n",
      "   macro avg       0.62      0.61      0.61      2148\n",
      "weighted avg       0.71      0.71      0.71      2148\n",
      "\n"
     ]
    },
    {
     "name": "stderr",
     "output_type": "stream",
     "text": [
      "Epoch 24 train: 100%|███████████████████████| 84/84 [01:11<00:00,  1.18it/s, acc=0.891, loss=0.0448]\n"
     ]
    },
    {
     "name": "stdout",
     "output_type": "stream",
     "text": [
      "\tTrain ACC: 0.9153726708074534, Train Pearson: 0.8820776773916406\n"
     ]
    },
    {
     "name": "stderr",
     "output_type": "stream",
     "text": [
      "Epoch 24 valid: 100%|████████████████████████| 34/34 [00:10<00:00,  3.23it/s, acc=0.778, loss=0.221]\n"
     ]
    },
    {
     "name": "stdout",
     "output_type": "stream",
     "text": [
      "\tValid ACC: 0.7145118464052288, Valid Pearson: 0.7447787066782382\n",
      "* Classification Report:\n",
      "              precision    recall  f1-score   support\n",
      "\n",
      "       moved       0.82      0.73      0.77       365\n",
      "       angry       0.76      0.80      0.78       837\n",
      "       funny       0.65      0.68      0.66       530\n",
      "         sad       0.68      0.65      0.66       292\n",
      "       novel       0.48      0.41      0.44        34\n",
      "     shocked       0.44      0.38      0.40        90\n",
      "\n",
      "    accuracy                           0.71      2148\n",
      "   macro avg       0.64      0.61      0.62      2148\n",
      "weighted avg       0.71      0.71      0.71      2148\n",
      "\n"
     ]
    },
    {
     "name": "stderr",
     "output_type": "stream",
     "text": [
      "Epoch 25 train: 100%|███████████████████████████| 84/84 [01:11<00:00,  1.17it/s, acc=1, loss=0.0438]\n"
     ]
    },
    {
     "name": "stdout",
     "output_type": "stream",
     "text": [
      "\tTrain ACC: 0.9185267857142857, Train Pearson: 0.8835242621973635\n"
     ]
    },
    {
     "name": "stderr",
     "output_type": "stream",
     "text": [
      "Epoch 25 valid: 100%|████████████████████████| 34/34 [00:10<00:00,  3.24it/s, acc=0.833, loss=0.212]\n"
     ]
    },
    {
     "name": "stdout",
     "output_type": "stream",
     "text": [
      "\tValid ACC: 0.7152267156862745, Valid Pearson: 0.7345496891538291\n",
      "* Classification Report:\n",
      "              precision    recall  f1-score   support\n",
      "\n",
      "       moved       0.84      0.73      0.78       365\n",
      "       angry       0.76      0.80      0.78       837\n",
      "       funny       0.70      0.63      0.66       530\n",
      "         sad       0.63      0.73      0.68       292\n",
      "       novel       0.38      0.38      0.38        34\n",
      "     shocked       0.38      0.42      0.40        90\n",
      "\n",
      "    accuracy                           0.71      2148\n",
      "   macro avg       0.61      0.62      0.61      2148\n",
      "weighted avg       0.72      0.71      0.71      2148\n",
      "\n"
     ]
    },
    {
     "name": "stderr",
     "output_type": "stream",
     "text": [
      "Epoch 26 train: 100%|███████████████████████████| 84/84 [01:11<00:00,  1.17it/s, acc=1, loss=0.0448]\n"
     ]
    },
    {
     "name": "stdout",
     "output_type": "stream",
     "text": [
      "\tTrain ACC: 0.9233630952380952, Train Pearson: 0.8851604437474291\n"
     ]
    },
    {
     "name": "stderr",
     "output_type": "stream",
     "text": [
      "Epoch 26 valid: 100%|████████████████████████| 34/34 [00:10<00:00,  3.23it/s, acc=0.833, loss=0.214]\n"
     ]
    },
    {
     "name": "stdout",
     "output_type": "stream",
     "text": [
      "\tValid ACC: 0.7184436274509803, Valid Pearson: 0.7401731490986214\n",
      "* Classification Report:\n",
      "              precision    recall  f1-score   support\n",
      "\n",
      "       moved       0.82      0.76      0.79       365\n",
      "       angry       0.77      0.78      0.77       837\n",
      "       funny       0.69      0.66      0.67       530\n",
      "         sad       0.62      0.72      0.67       292\n",
      "       novel       0.50      0.41      0.45        34\n",
      "     shocked       0.41      0.37      0.39        90\n",
      "\n",
      "    accuracy                           0.72      2148\n",
      "   macro avg       0.63      0.62      0.62      2148\n",
      "weighted avg       0.72      0.72      0.72      2148\n",
      "\n"
     ]
    },
    {
     "name": "stderr",
     "output_type": "stream",
     "text": [
      "Epoch 27 train: 100%|████████████████████████| 84/84 [01:11<00:00,  1.18it/s, acc=0.87, loss=0.0416]\n"
     ]
    },
    {
     "name": "stdout",
     "output_type": "stream",
     "text": [
      "\tTrain ACC: 0.9264605978260869, Train Pearson: 0.8834103031395089\n"
     ]
    },
    {
     "name": "stderr",
     "output_type": "stream",
     "text": [
      "Epoch 27 valid: 100%|████████████████████████| 34/34 [00:10<00:00,  3.23it/s, acc=0.778, loss=0.217]\n"
     ]
    },
    {
     "name": "stdout",
     "output_type": "stream",
     "text": [
      "\tValid ACC: 0.7227839052287582, Valid Pearson: 0.7463373313413229\n",
      "* Classification Report:\n",
      "              precision    recall  f1-score   support\n",
      "\n",
      "       moved       0.82      0.77      0.79       365\n",
      "       angry       0.74      0.84      0.79       837\n",
      "       funny       0.70      0.62      0.66       530\n",
      "         sad       0.65      0.69      0.67       292\n",
      "       novel       0.46      0.38      0.42        34\n",
      "     shocked       0.50      0.29      0.37        90\n",
      "\n",
      "    accuracy                           0.72      2148\n",
      "   macro avg       0.65      0.60      0.62      2148\n",
      "weighted avg       0.72      0.72      0.72      2148\n",
      "\n"
     ]
    },
    {
     "name": "stderr",
     "output_type": "stream",
     "text": [
      "Epoch 28 train: 100%|███████████████████████| 84/84 [01:11<00:00,  1.17it/s, acc=0.891, loss=0.0389]\n"
     ]
    },
    {
     "name": "stdout",
     "output_type": "stream",
     "text": [
      "\tTrain ACC: 0.916488742236025, Train Pearson: 0.8837716305208335\n"
     ]
    },
    {
     "name": "stderr",
     "output_type": "stream",
     "text": [
      "Epoch 28 valid: 100%|████████████████████████| 34/34 [00:10<00:00,  3.23it/s, acc=0.806, loss=0.205]\n"
     ]
    },
    {
     "name": "stdout",
     "output_type": "stream",
     "text": [
      "\tValid ACC: 0.7033803104575164, Valid Pearson: 0.7278857600342085\n",
      "* Classification Report:\n",
      "              precision    recall  f1-score   support\n",
      "\n",
      "       moved       0.81      0.75      0.78       365\n",
      "       angry       0.79      0.73      0.76       837\n",
      "       funny       0.66      0.66      0.66       530\n",
      "         sad       0.61      0.74      0.67       292\n",
      "       novel       0.35      0.44      0.39        34\n",
      "     shocked       0.37      0.41      0.39        90\n",
      "\n",
      "    accuracy                           0.70      2148\n",
      "   macro avg       0.60      0.62      0.61      2148\n",
      "weighted avg       0.71      0.70      0.70      2148\n",
      "\n"
     ]
    },
    {
     "name": "stderr",
     "output_type": "stream",
     "text": [
      "Epoch 29 train: 100%|███████████████████████| 84/84 [01:11<00:00,  1.18it/s, acc=0.913, loss=0.0331]\n"
     ]
    },
    {
     "name": "stdout",
     "output_type": "stream",
     "text": [
      "\tTrain ACC: 0.9180496247412009, Train Pearson: 0.8824521264815426\n"
     ]
    },
    {
     "name": "stderr",
     "output_type": "stream",
     "text": [
      "Epoch 29 valid: 100%|████████████████████████| 34/34 [00:11<00:00,  3.03it/s, acc=0.833, loss=0.205]\n"
     ]
    },
    {
     "name": "stdout",
     "output_type": "stream",
     "text": [
      "\tValid ACC: 0.7175245098039216, Valid Pearson: 0.7376003688313734\n",
      "* Classification Report:\n",
      "              precision    recall  f1-score   support\n",
      "\n",
      "       moved       0.79      0.76      0.78       365\n",
      "       angry       0.77      0.78      0.78       837\n",
      "       funny       0.68      0.66      0.67       530\n",
      "         sad       0.65      0.70      0.67       292\n",
      "       novel       0.40      0.41      0.41        34\n",
      "     shocked       0.41      0.41      0.41        90\n",
      "\n",
      "    accuracy                           0.72      2148\n",
      "   macro avg       0.62      0.62      0.62      2148\n",
      "weighted avg       0.72      0.72      0.72      2148\n",
      "\n"
     ]
    },
    {
     "name": "stderr",
     "output_type": "stream",
     "text": [
      "Epoch 30 train: 100%|███████████████████████| 84/84 [01:11<00:00,  1.18it/s, acc=0.935, loss=0.0309]\n"
     ]
    },
    {
     "name": "stdout",
     "output_type": "stream",
     "text": [
      "\tTrain ACC: 0.9209125905797102, Train Pearson: 0.8844242693398391\n"
     ]
    },
    {
     "name": "stderr",
     "output_type": "stream",
     "text": [
      "Epoch 30 valid: 100%|████████████████████████| 34/34 [00:10<00:00,  3.22it/s, acc=0.806, loss=0.197]\n"
     ]
    },
    {
     "name": "stdout",
     "output_type": "stream",
     "text": [
      "\tValid ACC: 0.7171670751633987, Valid Pearson: 0.7431953098446358\n",
      "* Classification Report:\n",
      "              precision    recall  f1-score   support\n",
      "\n",
      "       moved       0.80      0.78      0.79       365\n",
      "       angry       0.75      0.81      0.78       837\n",
      "       funny       0.70      0.62      0.66       530\n",
      "         sad       0.65      0.68      0.67       292\n",
      "       novel       0.45      0.41      0.43        34\n",
      "     shocked       0.43      0.39      0.41        90\n",
      "\n",
      "    accuracy                           0.72      2148\n",
      "   macro avg       0.63      0.61      0.62      2148\n",
      "weighted avg       0.71      0.72      0.71      2148\n",
      "\n"
     ]
    },
    {
     "name": "stderr",
     "output_type": "stream",
     "text": [
      "Epoch 31 train: 100%|███████████████████████| 84/84 [01:11<00:00,  1.17it/s, acc=0.957, loss=0.0368]\n"
     ]
    },
    {
     "name": "stdout",
     "output_type": "stream",
     "text": [
      "\tTrain ACC: 0.9219154373706004, Train Pearson: 0.8845296757172096\n"
     ]
    },
    {
     "name": "stderr",
     "output_type": "stream",
     "text": [
      "Epoch 31 valid: 100%|████████████████████████| 34/34 [00:10<00:00,  3.23it/s, acc=0.861, loss=0.211]\n"
     ]
    },
    {
     "name": "stdout",
     "output_type": "stream",
     "text": [
      "\tValid ACC: 0.7165032679738562, Valid Pearson: 0.7381733434954664\n",
      "* Classification Report:\n",
      "              precision    recall  f1-score   support\n",
      "\n",
      "       moved       0.81      0.77      0.79       365\n",
      "       angry       0.76      0.78      0.77       837\n",
      "       funny       0.68      0.65      0.67       530\n",
      "         sad       0.61      0.73      0.66       292\n",
      "       novel       0.54      0.41      0.47        34\n",
      "     shocked       0.46      0.34      0.39        90\n",
      "\n",
      "    accuracy                           0.71      2148\n",
      "   macro avg       0.64      0.61      0.62      2148\n",
      "weighted avg       0.71      0.71      0.71      2148\n",
      "\n"
     ]
    },
    {
     "name": "stderr",
     "output_type": "stream",
     "text": [
      "Epoch 32 train: 100%|███████████████████████| 84/84 [01:11<00:00,  1.18it/s, acc=0.848, loss=0.0408]\n"
     ]
    },
    {
     "name": "stdout",
     "output_type": "stream",
     "text": [
      "\tTrain ACC: 0.9224815605590061, Train Pearson: 0.8841032931559782\n"
     ]
    },
    {
     "name": "stderr",
     "output_type": "stream",
     "text": [
      "Epoch 32 valid: 100%|████████████████████████| 34/34 [00:10<00:00,  3.22it/s, acc=0.833, loss=0.199]\n"
     ]
    },
    {
     "name": "stdout",
     "output_type": "stream",
     "text": [
      "\tValid ACC: 0.7120098039215685, Valid Pearson: 0.7406986840820027\n",
      "* Classification Report:\n",
      "              precision    recall  f1-score   support\n",
      "\n",
      "       moved       0.78      0.78      0.78       365\n",
      "       angry       0.74      0.83      0.78       837\n",
      "       funny       0.71      0.55      0.62       530\n",
      "         sad       0.62      0.72      0.67       292\n",
      "       novel       0.47      0.41      0.44        34\n",
      "     shocked       0.41      0.33      0.37        90\n",
      "\n",
      "    accuracy                           0.71      2148\n",
      "   macro avg       0.62      0.60      0.61      2148\n",
      "weighted avg       0.71      0.71      0.70      2148\n",
      "\n"
     ]
    },
    {
     "name": "stderr",
     "output_type": "stream",
     "text": [
      "Epoch 33 train: 100%|███████████████████████| 84/84 [01:11<00:00,  1.17it/s, acc=0.957, loss=0.0309]\n"
     ]
    },
    {
     "name": "stdout",
     "output_type": "stream",
     "text": [
      "\tTrain ACC: 0.92675174689441, Train Pearson: 0.8840277851058569\n"
     ]
    },
    {
     "name": "stderr",
     "output_type": "stream",
     "text": [
      "Epoch 33 valid: 100%|████████████████████████| 34/34 [00:10<00:00,  3.23it/s, acc=0.833, loss=0.199]\n"
     ]
    },
    {
     "name": "stdout",
     "output_type": "stream",
     "text": [
      "\tValid ACC: 0.7133884803921569, Valid Pearson: 0.7363989505996831\n",
      "* Classification Report:\n",
      "              precision    recall  f1-score   support\n",
      "\n",
      "       moved       0.81      0.76      0.78       365\n",
      "       angry       0.77      0.76      0.77       837\n",
      "       funny       0.67      0.65      0.66       530\n",
      "         sad       0.62      0.73      0.67       292\n",
      "       novel       0.40      0.47      0.43        34\n",
      "     shocked       0.42      0.36      0.38        90\n",
      "\n",
      "    accuracy                           0.71      2148\n",
      "   macro avg       0.61      0.62      0.62      2148\n",
      "weighted avg       0.71      0.71      0.71      2148\n",
      "\n"
     ]
    },
    {
     "name": "stderr",
     "output_type": "stream",
     "text": [
      "Epoch 34 train: 100%|███████████████████████| 84/84 [01:11<00:00,  1.17it/s, acc=0.935, loss=0.0299]\n"
     ]
    },
    {
     "name": "stdout",
     "output_type": "stream",
     "text": [
      "\tTrain ACC: 0.9257489001035197, Train Pearson: 0.8848673200911878\n"
     ]
    },
    {
     "name": "stderr",
     "output_type": "stream",
     "text": [
      "Epoch 34 valid: 100%|████████████████████████| 34/34 [00:10<00:00,  3.22it/s, acc=0.778, loss=0.221]\n"
     ]
    },
    {
     "name": "stdout",
     "output_type": "stream",
     "text": [
      "\tValid ACC: 0.7126736111111112, Valid Pearson: 0.7375888350503904\n",
      "* Classification Report:\n",
      "              precision    recall  f1-score   support\n",
      "\n",
      "       moved       0.83      0.76      0.79       365\n",
      "       angry       0.71      0.85      0.78       837\n",
      "       funny       0.74      0.56      0.64       530\n",
      "         sad       0.63      0.67      0.65       292\n",
      "       novel       0.50      0.38      0.43        34\n",
      "     shocked       0.46      0.36      0.40        90\n",
      "\n",
      "    accuracy                           0.71      2148\n",
      "   macro avg       0.65      0.60      0.62      2148\n",
      "weighted avg       0.71      0.71      0.71      2148\n",
      "\n"
     ]
    },
    {
     "name": "stderr",
     "output_type": "stream",
     "text": [
      "Epoch 35 train: 100%|███████████████████████| 84/84 [01:11<00:00,  1.18it/s, acc=0.935, loss=0.0284]\n"
     ]
    },
    {
     "name": "stdout",
     "output_type": "stream",
     "text": [
      "\tTrain ACC: 0.9242608048654245, Train Pearson: 0.8843328746830647\n"
     ]
    },
    {
     "name": "stderr",
     "output_type": "stream",
     "text": [
      "Epoch 35 valid: 100%|████████████████████████| 34/34 [00:10<00:00,  3.22it/s, acc=0.806, loss=0.206]\n"
     ]
    },
    {
     "name": "stdout",
     "output_type": "stream",
     "text": [
      "\tValid ACC: 0.7185457516339869, Valid Pearson: 0.7485397632381502\n",
      "* Classification Report:\n",
      "              precision    recall  f1-score   support\n",
      "\n",
      "       moved       0.78      0.78      0.78       365\n",
      "       angry       0.77      0.78      0.77       837\n",
      "       funny       0.67      0.68      0.67       530\n",
      "         sad       0.66      0.66      0.66       292\n",
      "       novel       0.50      0.41      0.45        34\n",
      "     shocked       0.46      0.40      0.43        90\n",
      "\n",
      "    accuracy                           0.72      2148\n",
      "   macro avg       0.64      0.62      0.63      2148\n",
      "weighted avg       0.71      0.72      0.72      2148\n",
      "\n"
     ]
    },
    {
     "name": "stderr",
     "output_type": "stream",
     "text": [
      "Epoch 36 train: 100%|███████████████████████| 84/84 [01:11<00:00,  1.17it/s, acc=0.935, loss=0.0327]\n"
     ]
    },
    {
     "name": "stdout",
     "output_type": "stream",
     "text": [
      "\tTrain ACC: 0.927050983436853, Train Pearson: 0.8841929997590708\n"
     ]
    },
    {
     "name": "stderr",
     "output_type": "stream",
     "text": [
      "Epoch 36 valid: 100%|████████████████████████| 34/34 [00:10<00:00,  3.22it/s, acc=0.833, loss=0.209]\n"
     ]
    },
    {
     "name": "stdout",
     "output_type": "stream",
     "text": [
      "\tValid ACC: 0.7129289215686274, Valid Pearson: 0.7372165459695103\n",
      "* Classification Report:\n",
      "              precision    recall  f1-score   support\n",
      "\n",
      "       moved       0.83      0.75      0.79       365\n",
      "       angry       0.76      0.77      0.77       837\n",
      "       funny       0.66      0.66      0.66       530\n",
      "         sad       0.64      0.73      0.68       292\n",
      "       novel       0.39      0.41      0.40        34\n",
      "     shocked       0.42      0.38      0.40        90\n",
      "\n",
      "    accuracy                           0.71      2148\n",
      "   macro avg       0.62      0.61      0.62      2148\n",
      "weighted avg       0.71      0.71      0.71      2148\n",
      "\n"
     ]
    },
    {
     "name": "stderr",
     "output_type": "stream",
     "text": [
      "Epoch 37 train: 100%|████████████████████████| 84/84 [01:11<00:00,  1.17it/s, acc=0.957, loss=0.031]\n"
     ]
    },
    {
     "name": "stdout",
     "output_type": "stream",
     "text": [
      "\tTrain ACC: 0.9319600802277433, Train Pearson: 0.8847105098316582\n"
     ]
    },
    {
     "name": "stderr",
     "output_type": "stream",
     "text": [
      "Epoch 37 valid: 100%|████████████████████████| 34/34 [00:10<00:00,  3.23it/s, acc=0.778, loss=0.216]\n"
     ]
    },
    {
     "name": "stdout",
     "output_type": "stream",
     "text": [
      "\tValid ACC: 0.7126736111111112, Valid Pearson: 0.7386573745467865\n",
      "* Classification Report:\n",
      "              precision    recall  f1-score   support\n",
      "\n",
      "       moved       0.82      0.76      0.79       365\n",
      "       angry       0.72      0.85      0.78       837\n",
      "       funny       0.72      0.55      0.62       530\n",
      "         sad       0.66      0.68      0.67       292\n",
      "       novel       0.48      0.38      0.43        34\n",
      "     shocked       0.45      0.38      0.41        90\n",
      "\n",
      "    accuracy                           0.71      2148\n",
      "   macro avg       0.64      0.60      0.62      2148\n",
      "weighted avg       0.71      0.71      0.71      2148\n",
      "\n"
     ]
    },
    {
     "name": "stderr",
     "output_type": "stream",
     "text": [
      "Epoch 38 train: 100%|███████████████████████| 84/84 [01:11<00:00,  1.18it/s, acc=0.891, loss=0.0338]\n"
     ]
    },
    {
     "name": "stdout",
     "output_type": "stream",
     "text": [
      "\tTrain ACC: 0.9308116589026916, Train Pearson: 0.8836017784426083\n"
     ]
    },
    {
     "name": "stderr",
     "output_type": "stream",
     "text": [
      "Epoch 38 valid: 100%|████████████████████████| 34/34 [00:10<00:00,  3.22it/s, acc=0.833, loss=0.216]\n"
     ]
    },
    {
     "name": "stdout",
     "output_type": "stream",
     "text": [
      "\tValid ACC: 0.7064950980392156, Valid Pearson: 0.7333678089066735\n",
      "* Classification Report:\n",
      "              precision    recall  f1-score   support\n",
      "\n",
      "       moved       0.77      0.78      0.77       365\n",
      "       angry       0.77      0.76      0.77       837\n",
      "       funny       0.68      0.62      0.65       530\n",
      "         sad       0.63      0.69      0.66       292\n",
      "       novel       0.43      0.47      0.45        34\n",
      "     shocked       0.38      0.49      0.43        90\n",
      "\n",
      "    accuracy                           0.70      2148\n",
      "   macro avg       0.61      0.63      0.62      2148\n",
      "weighted avg       0.71      0.70      0.71      2148\n",
      "\n"
     ]
    },
    {
     "name": "stderr",
     "output_type": "stream",
     "text": [
      "Epoch 39 train: 100%|███████████████████████| 84/84 [01:11<00:00,  1.17it/s, acc=0.891, loss=0.0306]\n"
     ]
    },
    {
     "name": "stdout",
     "output_type": "stream",
     "text": [
      "\tTrain ACC: 0.9246732660455488, Train Pearson: 0.8834081072348594\n"
     ]
    },
    {
     "name": "stderr",
     "output_type": "stream",
     "text": [
      "Epoch 39 valid: 100%|████████████████████████| 34/34 [00:10<00:00,  3.23it/s, acc=0.778, loss=0.205]"
     ]
    },
    {
     "name": "stdout",
     "output_type": "stream",
     "text": [
      "\tValid ACC: 0.7204861111111112, Valid Pearson: 0.7444501106535032\n",
      "* Classification Report:\n",
      "              precision    recall  f1-score   support\n",
      "\n",
      "       moved       0.80      0.78      0.79       365\n",
      "       angry       0.74      0.82      0.78       837\n",
      "       funny       0.70      0.63      0.66       530\n",
      "         sad       0.64      0.68      0.66       292\n",
      "       novel       0.50      0.41      0.45        34\n",
      "     shocked       0.45      0.28      0.34        90\n",
      "\n",
      "    accuracy                           0.72      2148\n",
      "   macro avg       0.64      0.60      0.62      2148\n",
      "weighted avg       0.71      0.72      0.71      2148\n",
      "\n"
     ]
    },
    {
     "name": "stderr",
     "output_type": "stream",
     "text": [
      "\n"
     ]
    },
    {
     "data": {
      "image/png": "[encoded data removed]",
      "text/plain": [
       "<Figure size 1400x800 with 2 Axes>"
      ]
     },
     "metadata": {},
     "output_type": "display_data"
    }
   ],
   "source": [
    "import matplotlib.pyplot as plt\n",
    "\n",
    "def plot_metrics(metrics_history):\n",
    "    epochs = range(1, len(metrics_history['train_accuracy']) + 1)\n",
    "\n",
    "    plt.figure(figsize=(14, 8))\n",
    "\n",
    "    # Plot accuracy\n",
    "    plt.subplot(2, 1, 1)\n",
    "    plt.plot(epochs, metrics_history['train_accuracy'], label='Train Accuracy', marker='o')\n",
    "    plt.plot(epochs, metrics_history['valid_accuracy'], label='Valid Accuracy', marker='o')\n",
    "    plt.title('Training and Validation Accuracy')\n",
    "    plt.xlabel('Epoch')\n",
    "    plt.ylabel('Accuracy')\n",
    "    plt.legend()\n",
    "\n",
    "    # Plot Pearson correlation\n",
    "    plt.subplot(2, 1, 2)\n",
    "    plt.plot(epochs, metrics_history['train_pearson'], label='Train Pearson', marker='o')\n",
    "    plt.plot(epochs, metrics_history['valid_pearson'], label='Valid Pearson', marker='o')\n",
    "    plt.title('Training and Validation Pearson Correlation')\n",
    "    plt.xlabel('Epoch')\n",
    "    plt.ylabel('Pearson Correlation')\n",
    "    plt.legend()\n",
    "\n",
    "    plt.tight_layout()\n",
    "    plt.show()\n",
    "\n",
    "# Call the train function and plot metrics\n",
    "metrics_history = train()\n",
    "plot_metrics(metrics_history)\n"
   ]
  }
 ],
 "metadata": {
  "kernelspec": {
   "display_name": "LLM",
   "language": "python",
   "name": "python3"
  },
  "language_info": {
   "codemirror_mode": {
    "name": "ipython",
    "version": 3
   },
   "file_extension": ".py",
   "mimetype": "text/x-python",
   "name": "python",
   "nbconvert_exporter": "python",
   "pygments_lexer": "ipython3",
   "version": "3.11.11"
  }
 },
 "nbformat": 4,
 "nbformat_minor": 2
}
