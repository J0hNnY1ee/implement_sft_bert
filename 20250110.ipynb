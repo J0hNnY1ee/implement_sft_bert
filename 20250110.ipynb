{
 "cells": [
  {
   "cell_type": "code",
   "execution_count": 1,
   "metadata": {},
   "outputs": [],
   "source": [
    "import torch.nn as nn\n",
    "from transformers import BertModel\n",
    "\n",
    "# Bert\n",
    "\n",
    "class BertClassifier(nn.Module):\n",
    "    def __init__(self, bert_config, num_labels):\n",
    "        super().__init__()\n",
    "        # 定义BERT模型\n",
    "        self.bert = BertModel(config=bert_config)\n",
    "        # 定义Dropout层\n",
    "        self.dropout = nn.Dropout(p=0.2)  # Dropout概率为0.2\n",
    "        # 定义分类器\n",
    "        self.classifier = nn.Linear(bert_config.hidden_size, num_labels)\n",
    "\n",
    "    def forward(self, input_ids, attention_mask, token_type_ids):\n",
    "        # BERT的输出\n",
    "        bert_output = self.bert(input_ids=input_ids, attention_mask=attention_mask, token_type_ids=token_type_ids)\n",
    "        # 取[CLS]位置的pooled output\n",
    "        pooled = bert_output[1]\n",
    "        # 在pooled output上应用Dropout\n",
    "        pooled = self.dropout(pooled)\n",
    "        # 分类\n",
    "        logits = self.classifier(pooled)\n",
    "        # 返回结果\n",
    "        return logits\n",
    "\n",
    "\n",
    "# Bert+BiLSTM，用法与BertClassifier一样，可直接在train里面调用\n",
    "class BertLstmClassifier(nn.Module):\n",
    "    def __init__(self, bert_config, num_labels):\n",
    "        super().__init__()\n",
    "        self.bert = BertModel(config=bert_config)\n",
    "        self.lstm = nn.LSTM(input_size=bert_config.hidden_size, hidden_size=bert_config.hidden_size, num_layers=2, batch_first=True, bidirectional=True)\n",
    "        self.classifier = nn.Linear(bert_config.hidden_size*2, num_labels)  # 双向LSTM 需要乘以2\n",
    "\n",
    "    def forward(self, input_ids, attention_mask, token_type_ids):\n",
    "        outputs = self.bert(input_ids=input_ids, attention_mask=attention_mask, token_type_ids=token_type_ids)\n",
    "        last_hidden_state = outputs.last_hidden_state\n",
    "        out, _ = self.lstm(last_hidden_state)\n",
    "        logits = self.classifier(out[:, -1, :]) # 取最后时刻的输出\n",
    "        return logits\n"
   ]
  },
  {
   "cell_type": "code",
   "execution_count": 9,
   "metadata": {},
   "outputs": [
    {
     "name": "stdout",
     "output_type": "stream",
     "text": [
      "数据集划分完成：\n",
      "训练集保存在 data/train_ori.json\n",
      "测试集保存在 data/test.json\n"
     ]
    }
   ],
   "source": [
    "import json\n",
    "\n",
    "# 假设你的 JSON 数据存储在一个文件中\n",
    "input_file = 'data/2016.json'  # 替换为你的 JSON 文件路径\n",
    "output_train_file = 'data/train_ori.json'\n",
    "output_test_file = 'data/test.json'\n",
    "\n",
    "# 读取 JSON 数据\n",
    "with open(input_file, 'r', encoding='utf-8') as f:\n",
    "    data = json.load(f)\n",
    "\n",
    "# 确保数据是一个列表\n",
    "if isinstance(data, list):\n",
    "    # 划分数据集\n",
    "    train_data = data[:3109]\n",
    "    test_data = data[3109:]\n",
    "\n",
    "    # 保存训练集和测试集到文件\n",
    "    with open(output_train_file, 'w', encoding='utf-8') as f_train:\n",
    "        json.dump(train_data, f_train, ensure_ascii=False, indent=4)\n",
    "\n",
    "    with open(output_test_file, 'w', encoding='utf-8') as f_test:\n",
    "        json.dump(test_data, f_test, ensure_ascii=False, indent=4)\n",
    "\n",
    "    print(f\"数据集划分完成：\\n训练集保存在 {output_train_file}\\n测试集保存在 {output_test_file}\")\n",
    "else:\n",
    "    print(\"JSON 数据不是列表格式，无法划分数据集。\")"
   ]
  },
  {
   "cell_type": "code",
   "execution_count": 10,
   "metadata": {},
   "outputs": [
    {
     "name": "stdout",
     "output_type": "stream",
     "text": [
      "合并后的数据已保存到 data/train.json\n"
     ]
    }
   ],
   "source": [
    "import json\n",
    "\n",
    "# 文件路径\n",
    "file1_path = \"data/train_ori.json\"  # 原始 JSON 文件路径\n",
    "file2_path = \"dataGenerate/output_updated.json\"  # 新的 JSON 文件路径\n",
    "output_file_path = \"data/train.json\"  # 合并后输出的文件路径\n",
    "\n",
    "# 读取 JSON 数据\n",
    "def read_json(file_path):\n",
    "    try:\n",
    "        with open(file_path, \"r\", encoding=\"utf-8\") as file:\n",
    "            return json.load(file)\n",
    "    except FileNotFoundError:\n",
    "        print(f\"文件 {file_path} 未找到，将使用空列表。\")\n",
    "        return []\n",
    "    except json.JSONDecodeError:\n",
    "        print(f\"文件 {file_path} 格式错误，将使用空列表。\")\n",
    "        return []\n",
    "\n",
    "# 写入 JSON 数据\n",
    "def write_json(data, file_path):\n",
    "    with open(file_path, \"w\", encoding=\"utf-8\") as file:\n",
    "        json.dump(data, file, ensure_ascii=False, indent=4)\n",
    "    print(f\"合并后的数据已保存到 {file_path}\")\n",
    "\n",
    "# 合并逻辑\n",
    "def merge_json(file1, file2, output_file):\n",
    "    data1 = read_json(file1)\n",
    "    data2 = read_json(file2)\n",
    "\n",
    "    # 确保数据是列表\n",
    "    if not isinstance(data1, list) or not isinstance(data2, list):\n",
    "        print(\"JSON 数据格式错误，合并失败。\")\n",
    "        return\n",
    "\n",
    "    # 合并数据\n",
    "    merged_data = data1 + data2\n",
    "\n",
    "    # 写入合并结果\n",
    "    write_json(merged_data, output_file)\n",
    "\n",
    "# 执行合并\n",
    "merge_json(file1_path, file2_path, output_file_path)\n"
   ]
  },
  {
   "cell_type": "code",
   "execution_count": 2,
   "metadata": {},
   "outputs": [
    {
     "name": "stdout",
     "output_type": "stream",
     "text": [
      "loading data from: test_data.json\n"
     ]
    },
    {
     "name": "stderr",
     "output_type": "stream",
     "text": [
      "100%|██████████| 1/1 [00:00<00:00, 324.91it/s]"
     ]
    },
    {
     "name": "stdout",
     "output_type": "stream",
     "text": [
      "Input IDs: [ 101 6857 3221  671 5063 5080 1606 4638 3152 4995  102    0    0    0\n",
      "    0    0    0    0    0    0    0    0    0    0    0    0    0    0\n",
      "    0    0    0    0    0    0    0    0    0    0    0    0    0    0\n",
      "    0    0    0    0    0    0    0    0    0    0    0    0    0    0\n",
      "    0    0    0    0    0    0    0    0    0    0    0    0    0    0\n",
      "    0    0    0    0    0    0    0    0    0    0    0    0    0    0\n",
      "    0    0    0    0    0    0    0    0    0    0    0    0    0    0\n",
      "    0    0    0    0    0    0    0    0    0    0    0    0    0    0\n",
      "    0    0    0    0    0    0    0    0    0    0    0    0    0    0\n",
      "    0    0    0    0    0    0    0    0    0    0    0    0    0    0\n",
      "    0    0    0    0    0    0    0    0    0    0    0    0    0    0\n",
      "    0    0    0    0    0    0    0    0    0    0    0    0    0    0\n",
      "    0    0    0    0    0    0    0    0    0    0    0    0    0    0\n",
      "    0    0    0    0    0    0    0    0    0    0    0    0    0    0\n",
      "    0    0    0    0    0    0    0    0    0    0    0    0    0    0\n",
      "    0    0    0    0    0    0    0    0    0    0    0    0    0    0\n",
      "    0    0    0    0    0    0    0    0    0    0    0    0    0    0\n",
      "    0    0    0    0    0    0    0    0    0    0    0    0    0    0\n",
      "    0    0    0    0    0    0    0    0    0    0    0    0    0    0\n",
      "    0    0    0    0    0    0    0    0    0    0    0    0    0    0\n",
      "    0    0    0    0    0    0    0    0    0    0    0    0    0    0\n",
      "    0    0    0    0    0    0    0    0    0    0    0    0    0    0\n",
      "    0    0    0    0    0    0    0    0    0    0    0    0    0    0\n",
      "    0    0    0    0    0    0    0    0    0    0    0    0    0    0\n",
      "    0    0    0    0    0    0    0    0    0    0    0    0    0    0\n",
      "    0    0    0    0    0    0    0    0    0    0    0    0    0    0\n",
      "    0    0    0    0    0    0    0    0    0    0    0    0    0    0\n",
      "    0    0    0    0    0    0    0    0    0    0    0    0    0    0\n",
      "    0    0    0    0    0    0    0    0    0    0    0    0    0    0\n",
      "    0    0    0    0    0    0    0    0    0    0    0    0    0    0\n",
      "    0    0    0    0    0    0    0    0    0    0    0    0    0    0\n",
      "    0    0    0    0    0    0    0    0    0    0    0    0    0    0\n",
      "    0    0    0    0    0    0    0    0    0    0    0    0    0    0\n",
      "    0    0    0    0    0    0    0    0    0    0    0    0    0    0\n",
      "    0    0    0    0    0    0    0    0    0    0    0    0    0    0\n",
      "    0    0    0    0    0    0    0    0    0    0    0    0    0    0\n",
      "    0    0    0    0    0    0    0    0]\n",
      "Token Type IDs: [0 0 0 0 0 0 0 0 0 0 0 0 0 0 0 0 0 0 0 0 0 0 0 0 0 0 0 0 0 0 0 0 0 0 0 0 0\n",
      " 0 0 0 0 0 0 0 0 0 0 0 0 0 0 0 0 0 0 0 0 0 0 0 0 0 0 0 0 0 0 0 0 0 0 0 0 0\n",
      " 0 0 0 0 0 0 0 0 0 0 0 0 0 0 0 0 0 0 0 0 0 0 0 0 0 0 0 0 0 0 0 0 0 0 0 0 0\n",
      " 0 0 0 0 0 0 0 0 0 0 0 0 0 0 0 0 0 0 0 0 0 0 0 0 0 0 0 0 0 0 0 0 0 0 0 0 0\n",
      " 0 0 0 0 0 0 0 0 0 0 0 0 0 0 0 0 0 0 0 0 0 0 0 0 0 0 0 0 0 0 0 0 0 0 0 0 0\n",
      " 0 0 0 0 0 0 0 0 0 0 0 0 0 0 0 0 0 0 0 0 0 0 0 0 0 0 0 0 0 0 0 0 0 0 0 0 0\n",
      " 0 0 0 0 0 0 0 0 0 0 0 0 0 0 0 0 0 0 0 0 0 0 0 0 0 0 0 0 0 0 0 0 0 0 0 0 0\n",
      " 0 0 0 0 0 0 0 0 0 0 0 0 0 0 0 0 0 0 0 0 0 0 0 0 0 0 0 0 0 0 0 0 0 0 0 0 0\n",
      " 0 0 0 0 0 0 0 0 0 0 0 0 0 0 0 0 0 0 0 0 0 0 0 0 0 0 0 0 0 0 0 0 0 0 0 0 0\n",
      " 0 0 0 0 0 0 0 0 0 0 0 0 0 0 0 0 0 0 0 0 0 0 0 0 0 0 0 0 0 0 0 0 0 0 0 0 0\n",
      " 0 0 0 0 0 0 0 0 0 0 0 0 0 0 0 0 0 0 0 0 0 0 0 0 0 0 0 0 0 0 0 0 0 0 0 0 0\n",
      " 0 0 0 0 0 0 0 0 0 0 0 0 0 0 0 0 0 0 0 0 0 0 0 0 0 0 0 0 0 0 0 0 0 0 0 0 0\n",
      " 0 0 0 0 0 0 0 0 0 0 0 0 0 0 0 0 0 0 0 0 0 0 0 0 0 0 0 0 0 0 0 0 0 0 0 0 0\n",
      " 0 0 0 0 0 0 0 0 0 0 0 0 0 0 0 0 0 0 0 0 0 0 0 0 0 0 0 0 0 0 0]\n",
      "Attention Mask: [1 1 1 1 1 1 1 1 1 1 1 0 0 0 0 0 0 0 0 0 0 0 0 0 0 0 0 0 0 0 0 0 0 0 0 0 0\n",
      " 0 0 0 0 0 0 0 0 0 0 0 0 0 0 0 0 0 0 0 0 0 0 0 0 0 0 0 0 0 0 0 0 0 0 0 0 0\n",
      " 0 0 0 0 0 0 0 0 0 0 0 0 0 0 0 0 0 0 0 0 0 0 0 0 0 0 0 0 0 0 0 0 0 0 0 0 0\n",
      " 0 0 0 0 0 0 0 0 0 0 0 0 0 0 0 0 0 0 0 0 0 0 0 0 0 0 0 0 0 0 0 0 0 0 0 0 0\n",
      " 0 0 0 0 0 0 0 0 0 0 0 0 0 0 0 0 0 0 0 0 0 0 0 0 0 0 0 0 0 0 0 0 0 0 0 0 0\n",
      " 0 0 0 0 0 0 0 0 0 0 0 0 0 0 0 0 0 0 0 0 0 0 0 0 0 0 0 0 0 0 0 0 0 0 0 0 0\n",
      " 0 0 0 0 0 0 0 0 0 0 0 0 0 0 0 0 0 0 0 0 0 0 0 0 0 0 0 0 0 0 0 0 0 0 0 0 0\n",
      " 0 0 0 0 0 0 0 0 0 0 0 0 0 0 0 0 0 0 0 0 0 0 0 0 0 0 0 0 0 0 0 0 0 0 0 0 0\n",
      " 0 0 0 0 0 0 0 0 0 0 0 0 0 0 0 0 0 0 0 0 0 0 0 0 0 0 0 0 0 0 0 0 0 0 0 0 0\n",
      " 0 0 0 0 0 0 0 0 0 0 0 0 0 0 0 0 0 0 0 0 0 0 0 0 0 0 0 0 0 0 0 0 0 0 0 0 0\n",
      " 0 0 0 0 0 0 0 0 0 0 0 0 0 0 0 0 0 0 0 0 0 0 0 0 0 0 0 0 0 0 0 0 0 0 0 0 0\n",
      " 0 0 0 0 0 0 0 0 0 0 0 0 0 0 0 0 0 0 0 0 0 0 0 0 0 0 0 0 0 0 0 0 0 0 0 0 0\n",
      " 0 0 0 0 0 0 0 0 0 0 0 0 0 0 0 0 0 0 0 0 0 0 0 0 0 0 0 0 0 0 0 0 0 0 0 0 0\n",
      " 0 0 0 0 0 0 0 0 0 0 0 0 0 0 0 0 0 0 0 0 0 0 0 0 0 0 0 0 0 0 0]\n",
      "Label ID: 0\n",
      "Label Scores: tensor([0.5000, 0.3333, 0.1667, 0.0000, 0.0000, 0.0000])\n"
     ]
    },
    {
     "name": "stderr",
     "output_type": "stream",
     "text": [
      "\n"
     ]
    }
   ],
   "source": [
    "import json\n",
    "import numpy as np\n",
    "from tqdm import tqdm\n",
    "from torch.utils.data import Dataset\n",
    "import torch\n",
    "\n",
    "class SinaNewsDataset(Dataset):\n",
    "    def __init__(self,filename,tokenizer):\n",
    "        \n",
    "        self.labels = [\"moved\",\"angry\",\"funny\",\"sad\",\"novel\",\"shocked\"]\n",
    "        self.labels_id  = list(range(len(self.labels)))\n",
    "        self.tokenizer = tokenizer\n",
    "        self.input_ids = []\n",
    "        self.token_type_ids = []\n",
    "        self.attention_mask = []\n",
    "        self.label_id = []\n",
    "        self.label_scores = []\n",
    "        self.load_data(filename)\n",
    "        \n",
    "    def load_data(self,filename):\n",
    "        print('loading data from:', filename)\n",
    "        with open(filename,'r',encoding='utf-8') as f:\n",
    "            data = json.load(f)\n",
    "        for item in tqdm(data):\n",
    "            emotions = {k: v for k, v in item.items() if k in self.labels}\n",
    "            label = max(emotions, key=emotions.get)\n",
    "            text = item['news']\n",
    "            label_id = self.labels.index(label)\n",
    "            token = self.tokenizer(text, add_special_tokens=True, padding='max_length', truncation=True, max_length=512)\n",
    "            self.input_ids.append(np.array(token['input_ids']))\n",
    "            self.token_type_ids.append(np.array(token['token_type_ids']))\n",
    "            self.attention_mask.append(np.array(token['attention_mask']))\n",
    "            self.label_id.append(label_id)\n",
    "            \n",
    "            ## 添加的部分\n",
    "            total = int(item[\"Total\"])\n",
    "            if total > 0:\n",
    "                scores =torch.tensor([emotions[label] for label in self.labels], dtype=torch.float32)\n",
    "                # label_vector = torch.softmax(scores,dim=0)  # 使用 softmax 归一化 \n",
    "                label_vector = (scores / scores.sum())\n",
    "            else:\n",
    "                label_vector = [0.0] * len(self.labels)  # 如果 Total 为 0，所有情感归为 0\n",
    "            self.label_scores.append(label_vector)\n",
    "            \n",
    "    def __getitem__(self, index):\n",
    "        return self.input_ids[index], self.token_type_ids[index], self.attention_mask[index], self.label_id[index],self.label_scores[index],\n",
    "\n",
    "    def __len__(self):\n",
    "        return len(self.input_ids)\n",
    "    \n",
    "from transformers import BertTokenizer\n",
    "   \n",
    "def test_sina_news_dataset():\n",
    "    # 创建一个测试数据文件\n",
    "    test_data = [\n",
    "        {\n",
    "            \"news\": \"這是一篇簡單的文章\",\n",
    "            \"moved\": 3,\n",
    "            \"angry\": 2,\n",
    "            \"funny\": 1,\n",
    "            \"sad\": 0,\n",
    "            \"novel\": 0,\n",
    "            \"shocked\": 0,\n",
    "            \"Total\": 6\n",
    "        }\n",
    "    ]\n",
    "\n",
    "    test_filename = 'test_data.json'\n",
    "    with open(test_filename, 'w', encoding='utf-8') as f:\n",
    "        json.dump(test_data, f, ensure_ascii=False, indent=4)\n",
    "\n",
    "\n",
    "    # 使用 BertTokenizer\n",
    "    tokenizer = BertTokenizer.from_pretrained('model/bert-base-chinese')\n",
    "\n",
    "    # 加载数据集\n",
    "    dataset = SinaNewsDataset(test_filename, tokenizer)\n",
    "\n",
    "    # 打印第一行\n",
    "    first_item = dataset[0]\n",
    "    print(\"Input IDs:\", first_item[0])\n",
    "    print(\"Token Type IDs:\", first_item[1])\n",
    "    print(\"Attention Mask:\", first_item[2])\n",
    "    print(\"Label ID:\", first_item[3])\n",
    "    print(\"Label Scores:\", first_item[4])\n",
    "\n",
    "# 调用测试函数\n",
    "test_sina_news_dataset()"
   ]
  },
  {
   "cell_type": "code",
   "execution_count": 3,
   "metadata": {},
   "outputs": [],
   "source": [
    "import os\n",
    "import torch\n",
    "import torch.nn as nn\n",
    "from transformers import BertTokenizer, BertConfig\n",
    "from torch.utils.data import DataLoader\n",
    "from tqdm import tqdm\n",
    "from sklearn import metrics\n",
    "from scipy.stats import pearsonr\n",
    "from torch.optim import AdamW\n",
    "import torch.nn.functional as F\n",
    "\n",
    "def calculate_acc1(pred_labels, labels_score):\n",
    "    \"\"\"\n",
    "    计算 ACC@1\n",
    "    :param pred_labels: 模型预测的标签 (Tensor)\n",
    "    :param labels_score: 真实标签的分数 (Tensor 或列表)\n",
    "    :return: 当前 batch 的 ACC@1\n",
    "    \"\"\"\n",
    "    correct = 0  # 正确计数\n",
    "    batch_size = len(pred_labels)  # 批次大小\n",
    "    label_id_rank = torch.argsort(labels_score, dim=1, descending=True)  # 对情感进行排序\n",
    "    for i in range(batch_size):\n",
    "        pred_label = pred_labels[i].item()\n",
    "        true_rank = label_id_rank[i]\n",
    "        scores = labels_score[i]\n",
    "\n",
    "        # 判断预测是否正确\n",
    "        for rank_idx in range(len(true_rank)):\n",
    "            if scores[true_rank[rank_idx]] == scores[true_rank[0]]:  # 判断是否与第一分数相同\n",
    "                if pred_label == true_rank[rank_idx]:  # 检查预测是否在相同分数的排名中\n",
    "                    correct += 1\n",
    "                    break  # 预测正确，跳出循环\n",
    "            else:\n",
    "                break  # 一旦分数不同，结束判断\n",
    "\n",
    "    return correct / batch_size  # 返回准确率\n",
    "\n",
    "\n",
    "\n",
    "\n",
    "def train(learning_rate = 1e-5):\n",
    "    MODEL_PATH = 'model/bert-base-chinese'\n",
    "    DATA_PATH = 'data/'\n",
    "    batch_size = 64\n",
    "    device = 'cuda' if torch.cuda.is_available() else 'cpu'\n",
    "    epochs = 40\n",
    "        # Learning Rate不宜太大\n",
    "    tokenizer = BertTokenizer.from_pretrained(MODEL_PATH)\n",
    "\n",
    "    train_dataset = SinaNewsDataset(DATA_PATH + 'train.json', tokenizer)\n",
    "    valid_dataset = SinaNewsDataset(DATA_PATH + 'test.json', tokenizer)\n",
    "\n",
    "    bert_config = BertConfig.from_pretrained(MODEL_PATH)\n",
    "    num_labels = len(train_dataset.labels)\n",
    "\n",
    "    model = BertClassifier(bert_config, num_labels).to(device)\n",
    "    model.bert = BertModel.from_pretrained(MODEL_PATH).to(device)\n",
    "    model = nn.DataParallel(model)\n",
    "    optimizer = AdamW(model.parameters(), lr=learning_rate,)\n",
    "    # criterion = nn.CrossEntropyLoss()\n",
    "    criterion = nn.KLDivLoss(reduction='batchmean') ## 使用 KLDivLoss 作为损失函数\n",
    "\n",
    "    best_f1 = 0\n",
    "\n",
    "    metrics_history = {\n",
    "        'train_accuracy': [],\n",
    "        'train_pearson': [],\n",
    "        'valid_accuracy': [],\n",
    "        'valid_pearson': []\n",
    "    }\n",
    "\n",
    "    for epoch in range(epochs):\n",
    "        model.train()\n",
    "\n",
    "        train_dataloader = DataLoader(train_dataset, batch_size=batch_size, shuffle=True)\n",
    "        train_bar = tqdm(train_dataloader, ncols=100)\n",
    "        \n",
    "        train_losses, train_acc,train_pearson,pearson_count  = 0, 0, 0,0\n",
    "\n",
    "        for input_ids, token_type_ids, attention_mask, label_id ,labels_score in train_bar:\n",
    "            model.zero_grad()\n",
    "            train_bar.set_description(f'Epoch {epoch} train')\n",
    "\n",
    "            output = model(\n",
    "                input_ids=input_ids.to(device),\n",
    "                attention_mask=attention_mask.to(device),\n",
    "                token_type_ids=token_type_ids.to(device),\n",
    "            )\n",
    "\n",
    "            # loss = criterion(output, label_id.to(device))\n",
    "            loss = criterion(F.log_softmax(output, dim=1), labels_score.to(device))\n",
    "            train_losses += loss.item()\n",
    "            \n",
    "            pred_labels = torch.argmax(output, dim=1)\n",
    "            acc = calculate_acc1(pred_labels, labels_score)\n",
    "            train_acc += acc\n",
    "            logits = output.clone().detach()\n",
    "            \n",
    "            for i in range(logits.size(0)):\n",
    "                pearson, _ = pearsonr(logits[i].cpu().numpy(), labels_score[i].cpu().detach().numpy())\n",
    "                train_pearson += pearson\n",
    "                pearson_count += 1\n",
    "                \n",
    "            \n",
    "            loss.backward()\n",
    "            optimizer.step()\n",
    "            train_bar.set_postfix(loss=loss.item(), acc=acc)\n",
    "            \n",
    "        train_pearson = train_pearson / pearson_count\n",
    "        train_accuracy = train_acc / len(train_dataloader)\n",
    "        metrics_history['train_accuracy'].append(train_accuracy)\n",
    "        metrics_history['train_pearson'].append(train_pearson)\n",
    "        print(f'\\tTrain ACC: {train_accuracy}, Train Pearson: {train_pearson}')\n",
    "        # Validation\n",
    "        model.eval()\n",
    "        \n",
    "        valid_dataloader = DataLoader(valid_dataset, batch_size=batch_size, shuffle=False)\n",
    "        valid_bar = tqdm(valid_dataloader, ncols=100)\n",
    "        \n",
    "        valid_losses, valid_acc,valid_pearson, pearson_count,valid_preds, valid_labels = 0, 0,0,0, [], []\n",
    "\n",
    "        for input_ids, token_type_ids, attention_mask, label_id,labels_score in valid_bar:\n",
    "            valid_bar.set_description(f'Epoch {epoch} valid')\n",
    "\n",
    "            with torch.no_grad():\n",
    "                output = model(\n",
    "                    input_ids=input_ids.to(device),\n",
    "                    attention_mask=attention_mask.to(device),\n",
    "                    token_type_ids=token_type_ids.to(device),\n",
    "                )\n",
    "\n",
    "            # loss = criterion(output, label_id.to(device))\n",
    "            loss = criterion(F.log_softmax(output, dim=1), labels_score.to(device))\n",
    "\n",
    "            valid_losses += loss.item()\n",
    "\n",
    "            pred_label = torch.argmax(output, dim=1)\n",
    "            # acc = torch.sum(pred_label == label_id.to(device)).item() / len(pred_label)\n",
    "            acc = calculate_acc1(pred_label, labels_score)\n",
    "            valid_acc += acc\n",
    "            logits = output.clone()\n",
    "            for i in range(logits.size(0)):\n",
    "                    pearson, _ = pearsonr(logits[i].cpu().numpy(), labels_score[i].cpu().numpy())\n",
    "                    valid_pearson += pearson\n",
    "                    pearson_count += 1\n",
    "\n",
    "            valid_preds.extend(pred_label.cpu().numpy())\n",
    "            valid_labels.extend(label_id.cpu().numpy())\n",
    "            valid_bar.set_postfix(loss=loss.item(), acc=acc)\n",
    "\n",
    "        \n",
    "        valid_pearson = valid_pearson / pearson_count\n",
    "        valid_accuracy = valid_acc / len(valid_dataloader)\n",
    "        metrics_history['valid_accuracy'].append(valid_accuracy)\n",
    "        metrics_history['valid_pearson'].append(valid_pearson)\n",
    "        print(f'\\tValid ACC: {valid_accuracy}, Valid Pearson: {valid_pearson}')\n",
    "\n",
    "        report = metrics.classification_report(valid_labels, valid_preds, labels=valid_dataset.labels_id, target_names=valid_dataset.labels)\n",
    "        print('* Classification Report:')\n",
    "        print(report)\n",
    "\n",
    "        f1 = metrics.f1_score(valid_labels, valid_preds, labels=valid_dataset.labels_id, average='micro')\n",
    "\n",
    "        if not os.path.exists('models'):\n",
    "            os.makedirs('models')\n",
    "\n",
    "        if f1 > best_f1:\n",
    "            best_f1 = f1\n",
    "            torch.save(model.state_dict(), 'model/best_model.pkl')\n",
    "\n",
    "    return metrics_history\n",
    "\n",
    "        "
   ]
  },
  {
   "cell_type": "code",
   "execution_count": 4,
   "metadata": {},
   "outputs": [],
   "source": [
    "# import matplotlib.pyplot as plt\n",
    "\n",
    "# learning_rate = [5e-7,1e-6,2e-6,5e-6,1e-5,2e-5,5e-5,1e-4,1e-3]\n",
    "# metrics_historys = []\n",
    "# for lr in learning_rate:\n",
    "#     metrics_historys.append(train(lr))\n",
    "    \n",
    "# # 提取每个学习率的最大验证集准确率和皮尔逊系数\n",
    "# max_valid_accuracy = [max(history['valid_accuracy']) for history in metrics_historys]\n",
    "# max_valid_pearson = [max(history['valid_pearson']) for history in metrics_historys]\n",
    "\n",
    "# # 保存图表为文件\n",
    "# plt.figure(figsize=(12, 6))\n",
    "\n",
    "# # 验证集准确率\n",
    "# plt.subplot(1, 2, 1)\n",
    "# plt.plot(learning_rate, max_valid_accuracy, marker='o')\n",
    "# plt.xscale('log')\n",
    "# plt.xlabel('Learning Rate (log scale)')\n",
    "# plt.ylabel('Max Validation Accuracy')\n",
    "# plt.title('Max Validation Accuracy vs Learning Rate')\n",
    "# plt.grid(True)\n",
    "\n",
    "# # 验证集皮尔逊系数\n",
    "# plt.subplot(1, 2, 2)\n",
    "# plt.plot(learning_rate, max_valid_pearson, marker='o', color='orange')\n",
    "# plt.xscale('log')\n",
    "# plt.xlabel('Learning Rate (log scale)')\n",
    "# plt.ylabel('Max Validation Pearson')\n",
    "# plt.title('Max Validation Pearson vs Learning Rate')\n",
    "# plt.grid(True)\n",
    "\n",
    "# plt.tight_layout()\n",
    "# plt.savefig('learning_rate_vs_metrics.png')\n",
    "# print(\"图表已保存为 'learning_rate_vs_metrics.png' 文件。\")\n"
   ]
  },
  {
   "cell_type": "code",
   "execution_count": 5,
   "metadata": {},
   "outputs": [
    {
     "name": "stdout",
     "output_type": "stream",
     "text": [
      "loading data from: data/train.json\n"
     ]
    },
    {
     "name": "stderr",
     "output_type": "stream",
     "text": [
      "100%|██████████| 3109/3109 [00:08<00:00, 360.94it/s]\n"
     ]
    },
    {
     "name": "stdout",
     "output_type": "stream",
     "text": [
      "loading data from: data/test.json\n"
     ]
    },
    {
     "name": "stderr",
     "output_type": "stream",
     "text": [
      "100%|██████████| 2148/2148 [00:06<00:00, 334.23it/s]\n",
      "Epoch 0 train: 100%|█████████████████████████| 49/49 [00:41<00:00,  1.18it/s, acc=0.595, loss=0.435]\n"
     ]
    },
    {
     "name": "stdout",
     "output_type": "stream",
     "text": [
      "\tTrain ACC: 0.4859866243794815, Train Pearson: 0.5528153902295665\n"
     ]
    },
    {
     "name": "stderr",
     "output_type": "stream",
     "text": [
      "Epoch 0 valid: 100%|█████████████████████████| 34/34 [00:10<00:00,  3.11it/s, acc=0.528, loss=0.679]\n",
      "/home/lijianhang/anaconda3/envs/LLM/lib/python3.11/site-packages/sklearn/metrics/_classification.py:1565: UndefinedMetricWarning: Precision is ill-defined and being set to 0.0 in labels with no predicted samples. Use `zero_division` parameter to control this behavior.\n",
      "  _warn_prf(average, modifier, f\"{metric.capitalize()} is\", len(result))\n",
      "/home/lijianhang/anaconda3/envs/LLM/lib/python3.11/site-packages/sklearn/metrics/_classification.py:1565: UndefinedMetricWarning: Precision is ill-defined and being set to 0.0 in labels with no predicted samples. Use `zero_division` parameter to control this behavior.\n",
      "  _warn_prf(average, modifier, f\"{metric.capitalize()} is\", len(result))\n",
      "/home/lijianhang/anaconda3/envs/LLM/lib/python3.11/site-packages/sklearn/metrics/_classification.py:1565: UndefinedMetricWarning: Precision is ill-defined and being set to 0.0 in labels with no predicted samples. Use `zero_division` parameter to control this behavior.\n",
      "  _warn_prf(average, modifier, f\"{metric.capitalize()} is\", len(result))\n"
     ]
    },
    {
     "name": "stdout",
     "output_type": "stream",
     "text": [
      "\tValid ACC: 0.4148794934640523, Valid Pearson: 0.3915897771442356\n",
      "* Classification Report:\n",
      "              precision    recall  f1-score   support\n",
      "\n",
      "       moved       0.00      0.00      0.00       365\n",
      "       angry       0.60      0.49      0.54       837\n",
      "       funny       0.42      0.38      0.40       530\n",
      "         sad       0.28      0.92      0.43       292\n",
      "       novel       0.05      0.03      0.04        34\n",
      "     shocked       0.00      0.00      0.00        90\n",
      "\n",
      "    accuracy                           0.41      2148\n",
      "   macro avg       0.23      0.30      0.23      2148\n",
      "weighted avg       0.38      0.41      0.37      2148\n",
      "\n"
     ]
    },
    {
     "name": "stderr",
     "output_type": "stream",
     "text": [
      "Epoch 1 train: 100%|█████████████████████████| 49/49 [00:41<00:00,  1.17it/s, acc=0.757, loss=0.358]\n"
     ]
    },
    {
     "name": "stdout",
     "output_type": "stream",
     "text": [
      "\tTrain ACC: 0.6790281991174849, Train Pearson: 0.7344795308040979\n"
     ]
    },
    {
     "name": "stderr",
     "output_type": "stream",
     "text": [
      "Epoch 1 valid: 100%|█████████████████████████| 34/34 [00:10<00:00,  3.27it/s, acc=0.667, loss=0.579]\n",
      "/home/lijianhang/anaconda3/envs/LLM/lib/python3.11/site-packages/sklearn/metrics/_classification.py:1565: UndefinedMetricWarning: Precision is ill-defined and being set to 0.0 in labels with no predicted samples. Use `zero_division` parameter to control this behavior.\n",
      "  _warn_prf(average, modifier, f\"{metric.capitalize()} is\", len(result))\n",
      "/home/lijianhang/anaconda3/envs/LLM/lib/python3.11/site-packages/sklearn/metrics/_classification.py:1565: UndefinedMetricWarning: Precision is ill-defined and being set to 0.0 in labels with no predicted samples. Use `zero_division` parameter to control this behavior.\n",
      "  _warn_prf(average, modifier, f\"{metric.capitalize()} is\", len(result))\n",
      "/home/lijianhang/anaconda3/envs/LLM/lib/python3.11/site-packages/sklearn/metrics/_classification.py:1565: UndefinedMetricWarning: Precision is ill-defined and being set to 0.0 in labels with no predicted samples. Use `zero_division` parameter to control this behavior.\n",
      "  _warn_prf(average, modifier, f\"{metric.capitalize()} is\", len(result))\n"
     ]
    },
    {
     "name": "stdout",
     "output_type": "stream",
     "text": [
      "\tValid ACC: 0.44745710784313725, Valid Pearson: 0.48792988864169506\n",
      "* Classification Report:\n",
      "              precision    recall  f1-score   support\n",
      "\n",
      "       moved       1.00      0.00      0.01       365\n",
      "       angry       0.62      0.60      0.61       837\n",
      "       funny       0.54      0.32      0.41       530\n",
      "         sad       0.35      0.89      0.50       292\n",
      "       novel       0.08      0.62      0.14        34\n",
      "     shocked       0.00      0.00      0.00        90\n",
      "\n",
      "    accuracy                           0.44      2148\n",
      "   macro avg       0.43      0.40      0.28      2148\n",
      "weighted avg       0.59      0.44      0.41      2148\n",
      "\n"
     ]
    },
    {
     "name": "stderr",
     "output_type": "stream",
     "text": [
      "Epoch 2 train: 100%|██████████████████████████| 49/49 [00:40<00:00,  1.20it/s, acc=0.73, loss=0.229]\n"
     ]
    },
    {
     "name": "stdout",
     "output_type": "stream",
     "text": [
      "\tTrain ACC: 0.7412955046883618, Train Pearson: 0.7757441287176403\n"
     ]
    },
    {
     "name": "stderr",
     "output_type": "stream",
     "text": [
      "Epoch 2 valid: 100%|█████████████████████████| 34/34 [00:10<00:00,  3.24it/s, acc=0.556, loss=0.741]\n",
      "/home/lijianhang/anaconda3/envs/LLM/lib/python3.11/site-packages/sklearn/metrics/_classification.py:1565: UndefinedMetricWarning: Precision is ill-defined and being set to 0.0 in labels with no predicted samples. Use `zero_division` parameter to control this behavior.\n",
      "  _warn_prf(average, modifier, f\"{metric.capitalize()} is\", len(result))\n",
      "/home/lijianhang/anaconda3/envs/LLM/lib/python3.11/site-packages/sklearn/metrics/_classification.py:1565: UndefinedMetricWarning: Precision is ill-defined and being set to 0.0 in labels with no predicted samples. Use `zero_division` parameter to control this behavior.\n",
      "  _warn_prf(average, modifier, f\"{metric.capitalize()} is\", len(result))\n",
      "/home/lijianhang/anaconda3/envs/LLM/lib/python3.11/site-packages/sklearn/metrics/_classification.py:1565: UndefinedMetricWarning: Precision is ill-defined and being set to 0.0 in labels with no predicted samples. Use `zero_division` parameter to control this behavior.\n",
      "  _warn_prf(average, modifier, f\"{metric.capitalize()} is\", len(result))\n"
     ]
    },
    {
     "name": "stdout",
     "output_type": "stream",
     "text": [
      "\tValid ACC: 0.38812295751633985, Valid Pearson: 0.4430559397483258\n",
      "* Classification Report:\n",
      "              precision    recall  f1-score   support\n",
      "\n",
      "       moved       1.00      0.08      0.14       365\n",
      "       angry       0.61      0.45      0.52       837\n",
      "       funny       0.62      0.21      0.31       530\n",
      "         sad       0.25      0.97      0.40       292\n",
      "       novel       0.12      0.65      0.20        34\n",
      "     shocked       0.00      0.00      0.00        90\n",
      "\n",
      "    accuracy                           0.38      2148\n",
      "   macro avg       0.43      0.39      0.26      2148\n",
      "weighted avg       0.60      0.38      0.36      2148\n",
      "\n"
     ]
    },
    {
     "name": "stderr",
     "output_type": "stream",
     "text": [
      "Epoch 3 train: 100%|█████████████████████████| 49/49 [00:41<00:00,  1.18it/s, acc=0.757, loss=0.191]\n"
     ]
    },
    {
     "name": "stdout",
     "output_type": "stream",
     "text": [
      "\tTrain ACC: 0.7727781991174849, Train Pearson: 0.7950955632442427\n"
     ]
    },
    {
     "name": "stderr",
     "output_type": "stream",
     "text": [
      "Epoch 3 valid: 100%|█████████████████████████| 34/34 [00:10<00:00,  3.24it/s, acc=0.611, loss=0.764]\n",
      "/home/lijianhang/anaconda3/envs/LLM/lib/python3.11/site-packages/sklearn/metrics/_classification.py:1565: UndefinedMetricWarning: Precision is ill-defined and being set to 0.0 in labels with no predicted samples. Use `zero_division` parameter to control this behavior.\n",
      "  _warn_prf(average, modifier, f\"{metric.capitalize()} is\", len(result))\n",
      "/home/lijianhang/anaconda3/envs/LLM/lib/python3.11/site-packages/sklearn/metrics/_classification.py:1565: UndefinedMetricWarning: Precision is ill-defined and being set to 0.0 in labels with no predicted samples. Use `zero_division` parameter to control this behavior.\n",
      "  _warn_prf(average, modifier, f\"{metric.capitalize()} is\", len(result))\n",
      "/home/lijianhang/anaconda3/envs/LLM/lib/python3.11/site-packages/sklearn/metrics/_classification.py:1565: UndefinedMetricWarning: Precision is ill-defined and being set to 0.0 in labels with no predicted samples. Use `zero_division` parameter to control this behavior.\n",
      "  _warn_prf(average, modifier, f\"{metric.capitalize()} is\", len(result))\n"
     ]
    },
    {
     "name": "stdout",
     "output_type": "stream",
     "text": [
      "\tValid ACC: 0.42146650326797386, Valid Pearson: 0.46302465453769076\n",
      "* Classification Report:\n",
      "              precision    recall  f1-score   support\n",
      "\n",
      "       moved       1.00      0.14      0.25       365\n",
      "       angry       0.62      0.46      0.53       837\n",
      "       funny       0.60      0.30      0.40       530\n",
      "         sad       0.27      0.97      0.42       292\n",
      "       novel       0.12      0.65      0.21        34\n",
      "     shocked       0.00      0.00      0.00        90\n",
      "\n",
      "    accuracy                           0.42      2148\n",
      "   macro avg       0.44      0.42      0.30      2148\n",
      "weighted avg       0.60      0.42      0.41      2148\n",
      "\n"
     ]
    },
    {
     "name": "stderr",
     "output_type": "stream",
     "text": [
      "Epoch 4 train: 100%|█████████████████████████| 49/49 [00:41<00:00,  1.17it/s, acc=0.649, loss=0.148]\n"
     ]
    },
    {
     "name": "stdout",
     "output_type": "stream",
     "text": [
      "\tTrain ACC: 0.8008652785438499, Train Pearson: 0.8077743128714867\n"
     ]
    },
    {
     "name": "stderr",
     "output_type": "stream",
     "text": [
      "Epoch 4 valid: 100%|█████████████████████████| 34/34 [00:10<00:00,  3.25it/s, acc=0.639, loss=0.718]\n",
      "/home/lijianhang/anaconda3/envs/LLM/lib/python3.11/site-packages/sklearn/metrics/_classification.py:1565: UndefinedMetricWarning: Precision is ill-defined and being set to 0.0 in labels with no predicted samples. Use `zero_division` parameter to control this behavior.\n",
      "  _warn_prf(average, modifier, f\"{metric.capitalize()} is\", len(result))\n",
      "/home/lijianhang/anaconda3/envs/LLM/lib/python3.11/site-packages/sklearn/metrics/_classification.py:1565: UndefinedMetricWarning: Precision is ill-defined and being set to 0.0 in labels with no predicted samples. Use `zero_division` parameter to control this behavior.\n",
      "  _warn_prf(average, modifier, f\"{metric.capitalize()} is\", len(result))\n",
      "/home/lijianhang/anaconda3/envs/LLM/lib/python3.11/site-packages/sklearn/metrics/_classification.py:1565: UndefinedMetricWarning: Precision is ill-defined and being set to 0.0 in labels with no predicted samples. Use `zero_division` parameter to control this behavior.\n",
      "  _warn_prf(average, modifier, f\"{metric.capitalize()} is\", len(result))\n"
     ]
    },
    {
     "name": "stdout",
     "output_type": "stream",
     "text": [
      "\tValid ACC: 0.4673202614379085, Valid Pearson: 0.4916091210642708\n",
      "* Classification Report:\n",
      "              precision    recall  f1-score   support\n",
      "\n",
      "       moved       0.99      0.22      0.36       365\n",
      "       angry       0.62      0.57      0.59       837\n",
      "       funny       0.62      0.28      0.39       530\n",
      "         sad       0.30      0.93      0.46       292\n",
      "       novel       0.13      0.68      0.22        34\n",
      "     shocked       0.00      0.00      0.00        90\n",
      "\n",
      "    accuracy                           0.46      2148\n",
      "   macro avg       0.45      0.44      0.34      2148\n",
      "weighted avg       0.61      0.46      0.45      2148\n",
      "\n"
     ]
    },
    {
     "name": "stderr",
     "output_type": "stream",
     "text": [
      "Epoch 5 train: 100%|█████████████████████████| 49/49 [00:41<00:00,  1.19it/s, acc=0.838, loss=0.136]\n"
     ]
    },
    {
     "name": "stdout",
     "output_type": "stream",
     "text": [
      "\tTrain ACC: 0.8404405681191396, Train Pearson: 0.8200229047204841\n"
     ]
    },
    {
     "name": "stderr",
     "output_type": "stream",
     "text": [
      "Epoch 5 valid: 100%|█████████████████████████| 34/34 [00:10<00:00,  3.24it/s, acc=0.667, loss=0.715]\n",
      "/home/lijianhang/anaconda3/envs/LLM/lib/python3.11/site-packages/sklearn/metrics/_classification.py:1565: UndefinedMetricWarning: Precision is ill-defined and being set to 0.0 in labels with no predicted samples. Use `zero_division` parameter to control this behavior.\n",
      "  _warn_prf(average, modifier, f\"{metric.capitalize()} is\", len(result))\n",
      "/home/lijianhang/anaconda3/envs/LLM/lib/python3.11/site-packages/sklearn/metrics/_classification.py:1565: UndefinedMetricWarning: Precision is ill-defined and being set to 0.0 in labels with no predicted samples. Use `zero_division` parameter to control this behavior.\n",
      "  _warn_prf(average, modifier, f\"{metric.capitalize()} is\", len(result))\n",
      "/home/lijianhang/anaconda3/envs/LLM/lib/python3.11/site-packages/sklearn/metrics/_classification.py:1565: UndefinedMetricWarning: Precision is ill-defined and being set to 0.0 in labels with no predicted samples. Use `zero_division` parameter to control this behavior.\n",
      "  _warn_prf(average, modifier, f\"{metric.capitalize()} is\", len(result))\n"
     ]
    },
    {
     "name": "stdout",
     "output_type": "stream",
     "text": [
      "\tValid ACC: 0.4800857843137255, Valid Pearson: 0.49689776758343823\n",
      "* Classification Report:\n",
      "              precision    recall  f1-score   support\n",
      "\n",
      "       moved       0.95      0.28      0.44       365\n",
      "       angry       0.63      0.56      0.60       837\n",
      "       funny       0.63      0.30      0.40       530\n",
      "         sad       0.33      0.90      0.48       292\n",
      "       novel       0.11      0.74      0.18        34\n",
      "     shocked       0.00      0.00      0.00        90\n",
      "\n",
      "    accuracy                           0.48      2148\n",
      "   macro avg       0.44      0.46      0.35      2148\n",
      "weighted avg       0.61      0.48      0.47      2148\n",
      "\n"
     ]
    },
    {
     "name": "stderr",
     "output_type": "stream",
     "text": [
      "Epoch 6 train: 100%|█████████████████████████| 49/49 [00:41<00:00,  1.17it/s, acc=0.676, loss=0.159]\n"
     ]
    },
    {
     "name": "stdout",
     "output_type": "stream",
     "text": [
      "\tTrain ACC: 0.846378585217871, Train Pearson: 0.8242569081094816\n"
     ]
    },
    {
     "name": "stderr",
     "output_type": "stream",
     "text": [
      "Epoch 6 valid: 100%|█████████████████████████| 34/34 [00:10<00:00,  3.24it/s, acc=0.639, loss=0.817]\n",
      "/home/lijianhang/anaconda3/envs/LLM/lib/python3.11/site-packages/sklearn/metrics/_classification.py:1565: UndefinedMetricWarning: Precision is ill-defined and being set to 0.0 in labels with no predicted samples. Use `zero_division` parameter to control this behavior.\n",
      "  _warn_prf(average, modifier, f\"{metric.capitalize()} is\", len(result))\n",
      "/home/lijianhang/anaconda3/envs/LLM/lib/python3.11/site-packages/sklearn/metrics/_classification.py:1565: UndefinedMetricWarning: Precision is ill-defined and being set to 0.0 in labels with no predicted samples. Use `zero_division` parameter to control this behavior.\n",
      "  _warn_prf(average, modifier, f\"{metric.capitalize()} is\", len(result))\n",
      "/home/lijianhang/anaconda3/envs/LLM/lib/python3.11/site-packages/sklearn/metrics/_classification.py:1565: UndefinedMetricWarning: Precision is ill-defined and being set to 0.0 in labels with no predicted samples. Use `zero_division` parameter to control this behavior.\n",
      "  _warn_prf(average, modifier, f\"{metric.capitalize()} is\", len(result))\n"
     ]
    },
    {
     "name": "stdout",
     "output_type": "stream",
     "text": [
      "\tValid ACC: 0.45766952614379086, Valid Pearson: 0.4870633554454607\n",
      "* Classification Report:\n",
      "              precision    recall  f1-score   support\n",
      "\n",
      "       moved       0.96      0.25      0.39       365\n",
      "       angry       0.64      0.47      0.54       837\n",
      "       funny       0.58      0.36      0.44       530\n",
      "         sad       0.30      0.94      0.46       292\n",
      "       novel       0.12      0.71      0.20        34\n",
      "     shocked       0.00      0.00      0.00        90\n",
      "\n",
      "    accuracy                           0.45      2148\n",
      "   macro avg       0.43      0.45      0.34      2148\n",
      "weighted avg       0.60      0.45      0.45      2148\n",
      "\n"
     ]
    },
    {
     "name": "stderr",
     "output_type": "stream",
     "text": [
      "Epoch 7 train: 100%|█████████████████████████| 49/49 [00:41<00:00,  1.19it/s, acc=0.865, loss=0.133]\n"
     ]
    },
    {
     "name": "stdout",
     "output_type": "stream",
     "text": [
      "\tTrain ACC: 0.865226833976834, Train Pearson: 0.8301661124974263\n"
     ]
    },
    {
     "name": "stderr",
     "output_type": "stream",
     "text": [
      "Epoch 7 valid: 100%|█████████████████████████| 34/34 [00:10<00:00,  3.24it/s, acc=0.667, loss=0.781]\n",
      "/home/lijianhang/anaconda3/envs/LLM/lib/python3.11/site-packages/sklearn/metrics/_classification.py:1565: UndefinedMetricWarning: Precision is ill-defined and being set to 0.0 in labels with no predicted samples. Use `zero_division` parameter to control this behavior.\n",
      "  _warn_prf(average, modifier, f\"{metric.capitalize()} is\", len(result))\n",
      "/home/lijianhang/anaconda3/envs/LLM/lib/python3.11/site-packages/sklearn/metrics/_classification.py:1565: UndefinedMetricWarning: Precision is ill-defined and being set to 0.0 in labels with no predicted samples. Use `zero_division` parameter to control this behavior.\n",
      "  _warn_prf(average, modifier, f\"{metric.capitalize()} is\", len(result))\n",
      "/home/lijianhang/anaconda3/envs/LLM/lib/python3.11/site-packages/sklearn/metrics/_classification.py:1565: UndefinedMetricWarning: Precision is ill-defined and being set to 0.0 in labels with no predicted samples. Use `zero_division` parameter to control this behavior.\n",
      "  _warn_prf(average, modifier, f\"{metric.capitalize()} is\", len(result))\n"
     ]
    },
    {
     "name": "stdout",
     "output_type": "stream",
     "text": [
      "\tValid ACC: 0.46354166666666663, Valid Pearson: 0.49014534384369624\n",
      "* Classification Report:\n",
      "              precision    recall  f1-score   support\n",
      "\n",
      "       moved       0.95      0.27      0.43       365\n",
      "       angry       0.63      0.53      0.57       837\n",
      "       funny       0.63      0.29      0.40       530\n",
      "         sad       0.31      0.93      0.46       292\n",
      "       novel       0.11      0.68      0.19        34\n",
      "     shocked       0.00      0.00      0.00        90\n",
      "\n",
      "    accuracy                           0.46      2148\n",
      "   macro avg       0.44      0.45      0.34      2148\n",
      "weighted avg       0.61      0.46      0.46      2148\n",
      "\n"
     ]
    },
    {
     "name": "stderr",
     "output_type": "stream",
     "text": [
      "Epoch 8 train: 100%|█████████████████████████| 49/49 [00:41<00:00,  1.17it/s, acc=0.784, loss=0.103]\n"
     ]
    },
    {
     "name": "stdout",
     "output_type": "stream",
     "text": [
      "\tTrain ACC: 0.8705874241588527, Train Pearson: 0.8298422783928306\n"
     ]
    },
    {
     "name": "stderr",
     "output_type": "stream",
     "text": [
      "Epoch 8 valid: 100%|█████████████████████████| 34/34 [00:10<00:00,  3.24it/s, acc=0.667, loss=0.846]\n"
     ]
    },
    {
     "name": "stdout",
     "output_type": "stream",
     "text": [
      "\tValid ACC: 0.4713541666666667, Valid Pearson: 0.485217181742294\n",
      "* Classification Report:\n",
      "              precision    recall  f1-score   support\n",
      "\n",
      "       moved       0.99      0.24      0.38       365\n",
      "       angry       0.63      0.54      0.58       837\n",
      "       funny       0.59      0.32      0.41       530\n",
      "         sad       0.31      0.95      0.47       292\n",
      "       novel       0.13      0.65      0.22        34\n",
      "     shocked       1.00      0.01      0.02        90\n",
      "\n",
      "    accuracy                           0.47      2148\n",
      "   macro avg       0.61      0.45      0.35      2148\n",
      "weighted avg       0.64      0.47      0.46      2148\n",
      "\n"
     ]
    },
    {
     "name": "stderr",
     "output_type": "stream",
     "text": [
      "Epoch 9 train: 100%|█████████████████████████| 49/49 [00:41<00:00,  1.19it/s, acc=0.892, loss=0.113]\n"
     ]
    },
    {
     "name": "stdout",
     "output_type": "stream",
     "text": [
      "\tTrain ACC: 0.8833166712630999, Train Pearson: 0.8342543172019393\n"
     ]
    },
    {
     "name": "stderr",
     "output_type": "stream",
     "text": [
      "Epoch 9 valid: 100%|██████████████████████████| 34/34 [00:10<00:00,  3.24it/s, acc=0.639, loss=0.86]\n"
     ]
    },
    {
     "name": "stdout",
     "output_type": "stream",
     "text": [
      "\tValid ACC: 0.4664011437908497, Valid Pearson: 0.4717381599069887\n",
      "* Classification Report:\n",
      "              precision    recall  f1-score   support\n",
      "\n",
      "       moved       0.95      0.26      0.41       365\n",
      "       angry       0.66      0.46      0.54       837\n",
      "       funny       0.58      0.41      0.48       530\n",
      "         sad       0.31      0.93      0.47       292\n",
      "       novel       0.11      0.71      0.19        34\n",
      "     shocked       0.20      0.01      0.02        90\n",
      "\n",
      "    accuracy                           0.46      2148\n",
      "   macro avg       0.47      0.46      0.35      2148\n",
      "weighted avg       0.61      0.46      0.47      2148\n",
      "\n"
     ]
    },
    {
     "name": "stderr",
     "output_type": "stream",
     "text": [
      "Epoch 10 train: 100%|████████████████████████| 49/49 [00:41<00:00,  1.19it/s, acc=0.865, loss=0.085]\n"
     ]
    },
    {
     "name": "stdout",
     "output_type": "stream",
     "text": [
      "\tTrain ACC: 0.8967957115278543, Train Pearson: 0.8367616733168265\n"
     ]
    },
    {
     "name": "stderr",
     "output_type": "stream",
     "text": [
      "Epoch 10 valid: 100%|████████████████████████| 34/34 [00:10<00:00,  3.25it/s, acc=0.639, loss=0.901]\n"
     ]
    },
    {
     "name": "stdout",
     "output_type": "stream",
     "text": [
      "\tValid ACC: 0.4526143790849673, Valid Pearson: 0.46630869109996936\n",
      "* Classification Report:\n",
      "              precision    recall  f1-score   support\n",
      "\n",
      "       moved       0.99      0.19      0.32       365\n",
      "       angry       0.64      0.49      0.55       837\n",
      "       funny       0.59      0.34      0.43       530\n",
      "         sad       0.30      0.95      0.45       292\n",
      "       novel       0.12      0.71      0.21        34\n",
      "     shocked       0.33      0.01      0.02        90\n",
      "\n",
      "    accuracy                           0.45      2148\n",
      "   macro avg       0.49      0.45      0.33      2148\n",
      "weighted avg       0.62      0.45      0.44      2148\n",
      "\n"
     ]
    },
    {
     "name": "stderr",
     "output_type": "stream",
     "text": [
      "Epoch 11 train: 100%|███████████████████████| 49/49 [00:41<00:00,  1.17it/s, acc=0.973, loss=0.0846]\n"
     ]
    },
    {
     "name": "stdout",
     "output_type": "stream",
     "text": [
      "\tTrain ACC: 0.8996397545504689, Train Pearson: 0.8349865758308533\n"
     ]
    },
    {
     "name": "stderr",
     "output_type": "stream",
     "text": [
      "Epoch 11 valid: 100%|████████████████████████| 34/34 [00:10<00:00,  3.24it/s, acc=0.667, loss=0.908]\n"
     ]
    },
    {
     "name": "stdout",
     "output_type": "stream",
     "text": [
      "\tValid ACC: 0.4704350490196078, Valid Pearson: 0.48546136981892357\n",
      "* Classification Report:\n",
      "              precision    recall  f1-score   support\n",
      "\n",
      "       moved       0.96      0.27      0.42       365\n",
      "       angry       0.62      0.55      0.58       837\n",
      "       funny       0.63      0.27      0.38       530\n",
      "         sad       0.30      0.95      0.46       292\n",
      "       novel       0.13      0.62      0.22        34\n",
      "     shocked       0.17      0.01      0.02        90\n",
      "\n",
      "    accuracy                           0.47      2148\n",
      "   macro avg       0.47      0.44      0.35      2148\n",
      "weighted avg       0.61      0.47      0.46      2148\n",
      "\n"
     ]
    },
    {
     "name": "stderr",
     "output_type": "stream",
     "text": [
      "Epoch 12 train: 100%|████████████████████████| 49/49 [00:41<00:00,  1.19it/s, acc=0.838, loss=0.107]\n"
     ]
    },
    {
     "name": "stdout",
     "output_type": "stream",
     "text": [
      "\tTrain ACC: 0.8981574048538334, Train Pearson: 0.8395164939740938\n"
     ]
    },
    {
     "name": "stderr",
     "output_type": "stream",
     "text": [
      "Epoch 12 valid: 100%|████████████████████████| 34/34 [00:10<00:00,  3.24it/s, acc=0.667, loss=0.875]\n"
     ]
    },
    {
     "name": "stdout",
     "output_type": "stream",
     "text": [
      "\tValid ACC: 0.45205269607843135, Valid Pearson: 0.46357554455662137\n",
      "* Classification Report:\n",
      "              precision    recall  f1-score   support\n",
      "\n",
      "       moved       0.94      0.22      0.36       365\n",
      "       angry       0.63      0.51      0.56       837\n",
      "       funny       0.62      0.30      0.41       530\n",
      "         sad       0.31      0.93      0.46       292\n",
      "       novel       0.10      0.71      0.17        34\n",
      "     shocked       0.12      0.01      0.02        90\n",
      "\n",
      "    accuracy                           0.45      2148\n",
      "   macro avg       0.45      0.45      0.33      2148\n",
      "weighted avg       0.61      0.45      0.45      2148\n",
      "\n"
     ]
    },
    {
     "name": "stderr",
     "output_type": "stream",
     "text": [
      "Epoch 13 train: 100%|███████████████████████| 49/49 [00:41<00:00,  1.17it/s, acc=0.946, loss=0.0746]\n"
     ]
    },
    {
     "name": "stdout",
     "output_type": "stream",
     "text": [
      "\tTrain ACC: 0.8952616519580805, Train Pearson: 0.8357685437621863\n"
     ]
    },
    {
     "name": "stderr",
     "output_type": "stream",
     "text": [
      "Epoch 13 valid: 100%|████████████████████████| 34/34 [00:10<00:00,  3.24it/s, acc=0.694, loss=0.911]\n"
     ]
    },
    {
     "name": "stdout",
     "output_type": "stream",
     "text": [
      "\tValid ACC: 0.4827410130718954, Valid Pearson: 0.4872968308968276\n",
      "* Classification Report:\n",
      "              precision    recall  f1-score   support\n",
      "\n",
      "       moved       0.97      0.26      0.41       365\n",
      "       angry       0.63      0.55      0.59       837\n",
      "       funny       0.57      0.34      0.43       530\n",
      "         sad       0.32      0.93      0.48       292\n",
      "       novel       0.14      0.68      0.23        34\n",
      "     shocked       0.20      0.01      0.02        90\n",
      "\n",
      "    accuracy                           0.48      2148\n",
      "   macro avg       0.47      0.46      0.36      2148\n",
      "weighted avg       0.61      0.48      0.47      2148\n",
      "\n"
     ]
    },
    {
     "name": "stderr",
     "output_type": "stream",
     "text": [
      "Epoch 14 train: 100%|███████████████████████| 49/49 [00:41<00:00,  1.19it/s, acc=0.892, loss=0.0791]\n"
     ]
    },
    {
     "name": "stdout",
     "output_type": "stream",
     "text": [
      "\tTrain ACC: 0.9024493243243243, Train Pearson: 0.8347848176190257\n"
     ]
    },
    {
     "name": "stderr",
     "output_type": "stream",
     "text": [
      "Epoch 14 valid: 100%|████████████████████████| 34/34 [00:10<00:00,  3.23it/s, acc=0.667, loss=0.922]\n"
     ]
    },
    {
     "name": "stdout",
     "output_type": "stream",
     "text": [
      "\tValid ACC: 0.4649203431372549, Valid Pearson: 0.4804214049157543\n",
      "* Classification Report:\n",
      "              precision    recall  f1-score   support\n",
      "\n",
      "       moved       0.95      0.28      0.43       365\n",
      "       angry       0.63      0.50      0.56       837\n",
      "       funny       0.59      0.32      0.42       530\n",
      "         sad       0.31      0.93      0.47       292\n",
      "       novel       0.12      0.71      0.21        34\n",
      "     shocked       0.11      0.01      0.02        90\n",
      "\n",
      "    accuracy                           0.46      2148\n",
      "   macro avg       0.45      0.46      0.35      2148\n",
      "weighted avg       0.60      0.46      0.46      2148\n",
      "\n"
     ]
    },
    {
     "name": "stderr",
     "output_type": "stream",
     "text": [
      "Epoch 15 train: 100%|███████████████████████| 49/49 [00:41<00:00,  1.18it/s, acc=0.865, loss=0.0839]\n"
     ]
    },
    {
     "name": "stdout",
     "output_type": "stream",
     "text": [
      "\tTrain ACC: 0.9015788747931605, Train Pearson: 0.8366627297141694\n"
     ]
    },
    {
     "name": "stderr",
     "output_type": "stream",
     "text": [
      "Epoch 15 valid: 100%|████████████████████████| 34/34 [00:11<00:00,  3.03it/s, acc=0.639, loss=0.925]\n"
     ]
    },
    {
     "name": "stdout",
     "output_type": "stream",
     "text": [
      "\tValid ACC: 0.4797283496732026, Valid Pearson: 0.48261675862751735\n",
      "* Classification Report:\n",
      "              precision    recall  f1-score   support\n",
      "\n",
      "       moved       0.99      0.24      0.38       365\n",
      "       angry       0.62      0.57      0.59       837\n",
      "       funny       0.59      0.31      0.40       530\n",
      "         sad       0.33      0.93      0.48       292\n",
      "       novel       0.14      0.68      0.23        34\n",
      "     shocked       0.09      0.01      0.02        90\n",
      "\n",
      "    accuracy                           0.48      2148\n",
      "   macro avg       0.46      0.46      0.35      2148\n",
      "weighted avg       0.60      0.48      0.47      2148\n",
      "\n"
     ]
    },
    {
     "name": "stderr",
     "output_type": "stream",
     "text": [
      "Epoch 16 train: 100%|███████████████████████| 49/49 [00:41<00:00,  1.19it/s, acc=0.919, loss=0.0684]\n"
     ]
    },
    {
     "name": "stdout",
     "output_type": "stream",
     "text": [
      "\tTrain ACC: 0.905551916712631, Train Pearson: 0.8332866186396382\n"
     ]
    },
    {
     "name": "stderr",
     "output_type": "stream",
     "text": [
      "Epoch 16 valid: 100%|████████████████████████| 34/34 [00:10<00:00,  3.26it/s, acc=0.667, loss=0.926]\n"
     ]
    },
    {
     "name": "stdout",
     "output_type": "stream",
     "text": [
      "\tValid ACC: 0.4704350490196078, Valid Pearson: 0.491406716259455\n",
      "* Classification Report:\n",
      "              precision    recall  f1-score   support\n",
      "\n",
      "       moved       0.96      0.29      0.45       365\n",
      "       angry       0.63      0.51      0.56       837\n",
      "       funny       0.61      0.32      0.42       530\n",
      "         sad       0.30      0.95      0.46       292\n",
      "       novel       0.15      0.71      0.24        34\n",
      "     shocked       0.07      0.01      0.02        90\n",
      "\n",
      "    accuracy                           0.47      2148\n",
      "   macro avg       0.45      0.46      0.36      2148\n",
      "weighted avg       0.61      0.47      0.47      2148\n",
      "\n"
     ]
    },
    {
     "name": "stderr",
     "output_type": "stream",
     "text": [
      "Epoch 17 train: 100%|███████████████████████| 49/49 [00:41<00:00,  1.19it/s, acc=0.973, loss=0.0743]\n"
     ]
    },
    {
     "name": "stdout",
     "output_type": "stream",
     "text": [
      "\tTrain ACC: 0.9002775096525097, Train Pearson: 0.8370439074103654\n"
     ]
    },
    {
     "name": "stderr",
     "output_type": "stream",
     "text": [
      "Epoch 17 valid: 100%|████████████████████████| 34/34 [00:11<00:00,  3.02it/s, acc=0.639, loss=0.923]\n"
     ]
    },
    {
     "name": "stdout",
     "output_type": "stream",
     "text": [
      "\tValid ACC: 0.4636437908496732, Valid Pearson: 0.48385384439289875\n",
      "* Classification Report:\n",
      "              precision    recall  f1-score   support\n",
      "\n",
      "       moved       0.95      0.29      0.44       365\n",
      "       angry       0.63      0.50      0.56       837\n",
      "       funny       0.62      0.32      0.42       530\n",
      "         sad       0.30      0.93      0.46       292\n",
      "       novel       0.12      0.71      0.21        34\n",
      "     shocked       0.07      0.01      0.02        90\n",
      "\n",
      "    accuracy                           0.46      2148\n",
      "   macro avg       0.45      0.46      0.35      2148\n",
      "weighted avg       0.61      0.46      0.46      2148\n",
      "\n"
     ]
    },
    {
     "name": "stderr",
     "output_type": "stream",
     "text": [
      "Epoch 18 train: 100%|███████████████████████| 49/49 [00:41<00:00,  1.19it/s, acc=0.919, loss=0.0808]\n"
     ]
    },
    {
     "name": "stdout",
     "output_type": "stream",
     "text": [
      "\tTrain ACC: 0.9052330391616106, Train Pearson: 0.8338308423513398\n"
     ]
    },
    {
     "name": "stderr",
     "output_type": "stream",
     "text": [
      "Epoch 18 valid: 100%|████████████████████████| 34/34 [00:10<00:00,  3.23it/s, acc=0.667, loss=0.943]\n"
     ]
    },
    {
     "name": "stdout",
     "output_type": "stream",
     "text": [
      "\tValid ACC: 0.45618872549019607, Valid Pearson: 0.4734239607725359\n",
      "* Classification Report:\n",
      "              precision    recall  f1-score   support\n",
      "\n",
      "       moved       0.95      0.27      0.43       365\n",
      "       angry       0.64      0.49      0.55       837\n",
      "       funny       0.62      0.30      0.40       530\n",
      "         sad       0.30      0.95      0.45       292\n",
      "       novel       0.12      0.71      0.20        34\n",
      "     shocked       0.07      0.01      0.02        90\n",
      "\n",
      "    accuracy                           0.45      2148\n",
      "   macro avg       0.45      0.45      0.34      2148\n",
      "weighted avg       0.61      0.45      0.45      2148\n",
      "\n"
     ]
    },
    {
     "name": "stderr",
     "output_type": "stream",
     "text": [
      "Epoch 19 train: 100%|███████████████████████| 49/49 [00:41<00:00,  1.19it/s, acc=0.892, loss=0.0724]\n"
     ]
    },
    {
     "name": "stdout",
     "output_type": "stream",
     "text": [
      "\tTrain ACC: 0.9030870794263652, Train Pearson: 0.8339563557217394\n"
     ]
    },
    {
     "name": "stderr",
     "output_type": "stream",
     "text": [
      "Epoch 19 valid: 100%|████████████████████████| 34/34 [00:10<00:00,  3.24it/s, acc=0.667, loss=0.979]\n"
     ]
    },
    {
     "name": "stdout",
     "output_type": "stream",
     "text": [
      "\tValid ACC: 0.46537990196078427, Valid Pearson: 0.47992534004933085\n",
      "* Classification Report:\n",
      "              precision    recall  f1-score   support\n",
      "\n",
      "       moved       0.97      0.27      0.42       365\n",
      "       angry       0.63      0.50      0.56       837\n",
      "       funny       0.59      0.33      0.42       530\n",
      "         sad       0.31      0.94      0.46       292\n",
      "       novel       0.13      0.68      0.22        34\n",
      "     shocked       0.10      0.01      0.02        90\n",
      "\n",
      "    accuracy                           0.46      2148\n",
      "   macro avg       0.45      0.45      0.35      2148\n",
      "weighted avg       0.60      0.46      0.46      2148\n",
      "\n"
     ]
    },
    {
     "name": "stderr",
     "output_type": "stream",
     "text": [
      "Epoch 20 train: 100%|███████████████████████| 49/49 [00:41<00:00,  1.17it/s, acc=0.892, loss=0.0686]\n"
     ]
    },
    {
     "name": "stdout",
     "output_type": "stream",
     "text": [
      "\tTrain ACC: 0.9043625896304468, Train Pearson: 0.8351206381687551\n"
     ]
    },
    {
     "name": "stderr",
     "output_type": "stream",
     "text": [
      "Epoch 20 valid: 100%|████████████████████████| 34/34 [00:10<00:00,  3.24it/s, acc=0.694, loss=0.981]\n"
     ]
    },
    {
     "name": "stdout",
     "output_type": "stream",
     "text": [
      "\tValid ACC: 0.46895424836601307, Valid Pearson: 0.47985392180199965\n",
      "* Classification Report:\n",
      "              precision    recall  f1-score   support\n",
      "\n",
      "       moved       0.98      0.25      0.40       365\n",
      "       angry       0.63      0.53      0.57       837\n",
      "       funny       0.57      0.32      0.41       530\n",
      "         sad       0.31      0.94      0.46       292\n",
      "       novel       0.14      0.65      0.23        34\n",
      "     shocked       0.14      0.01      0.02        90\n",
      "\n",
      "    accuracy                           0.46      2148\n",
      "   macro avg       0.46      0.45      0.35      2148\n",
      "weighted avg       0.60      0.46      0.46      2148\n",
      "\n"
     ]
    },
    {
     "name": "stderr",
     "output_type": "stream",
     "text": [
      "Epoch 21 train: 100%|████████████████████████| 49/49 [00:41<00:00,  1.19it/s, acc=0.973, loss=0.056]\n"
     ]
    },
    {
     "name": "stdout",
     "output_type": "stream",
     "text": [
      "\tTrain ACC: 0.9213234280198567, Train Pearson: 0.833426065531637\n"
     ]
    },
    {
     "name": "stderr",
     "output_type": "stream",
     "text": [
      "Epoch 21 valid: 100%|█████████████████████████| 34/34 [00:10<00:00,  3.23it/s, acc=0.667, loss=0.96]\n"
     ]
    },
    {
     "name": "stdout",
     "output_type": "stream",
     "text": [
      "\tValid ACC: 0.4649203431372549, Valid Pearson: 0.4742965675390658\n",
      "* Classification Report:\n",
      "              precision    recall  f1-score   support\n",
      "\n",
      "       moved       0.96      0.24      0.39       365\n",
      "       angry       0.63      0.51      0.56       837\n",
      "       funny       0.58      0.33      0.42       530\n",
      "         sad       0.31      0.93      0.46       292\n",
      "       novel       0.13      0.68      0.22        34\n",
      "     shocked       0.07      0.01      0.02        90\n",
      "\n",
      "    accuracy                           0.46      2148\n",
      "   macro avg       0.45      0.45      0.35      2148\n",
      "weighted avg       0.60      0.46      0.46      2148\n",
      "\n"
     ]
    },
    {
     "name": "stderr",
     "output_type": "stream",
     "text": [
      "Epoch 22 train: 100%|███████████████████████| 49/49 [00:41<00:00,  1.17it/s, acc=0.892, loss=0.0497]\n"
     ]
    },
    {
     "name": "stdout",
     "output_type": "stream",
     "text": [
      "\tTrain ACC: 0.8989416712630999, Train Pearson: 0.8324046839270965\n"
     ]
    },
    {
     "name": "stderr",
     "output_type": "stream",
     "text": [
      "Epoch 22 valid: 100%|████████████████████████| 34/34 [00:10<00:00,  3.24it/s, acc=0.667, loss=0.998]\n"
     ]
    },
    {
     "name": "stdout",
     "output_type": "stream",
     "text": [
      "\tValid ACC: 0.4649203431372549, Valid Pearson: 0.47233710747511115\n",
      "* Classification Report:\n",
      "              precision    recall  f1-score   support\n",
      "\n",
      "       moved       0.98      0.22      0.37       365\n",
      "       angry       0.63      0.51      0.56       837\n",
      "       funny       0.58      0.34      0.43       530\n",
      "         sad       0.31      0.94      0.47       292\n",
      "       novel       0.12      0.65      0.21        34\n",
      "     shocked       0.09      0.01      0.02        90\n",
      "\n",
      "    accuracy                           0.46      2148\n",
      "   macro avg       0.45      0.45      0.34      2148\n",
      "weighted avg       0.60      0.46      0.46      2148\n",
      "\n"
     ]
    },
    {
     "name": "stderr",
     "output_type": "stream",
     "text": [
      "Epoch 23 train: 100%|███████████████████████| 49/49 [00:41<00:00,  1.19it/s, acc=0.865, loss=0.0682]\n"
     ]
    },
    {
     "name": "stdout",
     "output_type": "stream",
     "text": [
      "\tTrain ACC: 0.9149717319360177, Train Pearson: 0.8352164733813253\n"
     ]
    },
    {
     "name": "stderr",
     "output_type": "stream",
     "text": [
      "Epoch 23 valid: 100%|████████████████████████| 34/34 [00:10<00:00,  3.24it/s, acc=0.667, loss=0.992]\n"
     ]
    },
    {
     "name": "stdout",
     "output_type": "stream",
     "text": [
      "\tValid ACC: 0.4722732843137255, Valid Pearson: 0.48254264640368166\n",
      "* Classification Report:\n",
      "              precision    recall  f1-score   support\n",
      "\n",
      "       moved       0.96      0.25      0.40       365\n",
      "       angry       0.63      0.52      0.57       837\n",
      "       funny       0.58      0.34      0.43       530\n",
      "         sad       0.32      0.93      0.48       292\n",
      "       novel       0.12      0.65      0.20        34\n",
      "     shocked       0.10      0.01      0.02        90\n",
      "\n",
      "    accuracy                           0.47      2148\n",
      "   macro avg       0.45      0.45      0.35      2148\n",
      "weighted avg       0.60      0.47      0.46      2148\n",
      "\n"
     ]
    },
    {
     "name": "stderr",
     "output_type": "stream",
     "text": [
      "Epoch 24 train: 100%|███████████████████████| 49/49 [00:41<00:00,  1.19it/s, acc=0.865, loss=0.0501]\n"
     ]
    },
    {
     "name": "stdout",
     "output_type": "stream",
     "text": [
      "\tTrain ACC: 0.9073186707115278, Train Pearson: 0.8322339549554472\n"
     ]
    },
    {
     "name": "stderr",
     "output_type": "stream",
     "text": [
      "Epoch 24 valid: 100%|████████████████████████| 34/34 [00:10<00:00,  3.24it/s, acc=0.639, loss=0.995]\n"
     ]
    },
    {
     "name": "stdout",
     "output_type": "stream",
     "text": [
      "\tValid ACC: 0.4636437908496732, Valid Pearson: 0.4712406831754053\n",
      "* Classification Report:\n",
      "              precision    recall  f1-score   support\n",
      "\n",
      "       moved       0.97      0.25      0.39       365\n",
      "       angry       0.62      0.50      0.55       837\n",
      "       funny       0.59      0.34      0.43       530\n",
      "         sad       0.30      0.95      0.46       292\n",
      "       novel       0.14      0.65      0.23        34\n",
      "     shocked       0.08      0.01      0.02        90\n",
      "\n",
      "    accuracy                           0.46      2148\n",
      "   macro avg       0.45      0.45      0.35      2148\n",
      "weighted avg       0.60      0.46      0.46      2148\n",
      "\n"
     ]
    },
    {
     "name": "stderr",
     "output_type": "stream",
     "text": [
      "Epoch 25 train: 100%|███████████████████████| 49/49 [00:41<00:00,  1.17it/s, acc=0.919, loss=0.0502]\n"
     ]
    },
    {
     "name": "stdout",
     "output_type": "stream",
     "text": [
      "\tTrain ACC: 0.9081029371207943, Train Pearson: 0.8312852284397407\n"
     ]
    },
    {
     "name": "stderr",
     "output_type": "stream",
     "text": [
      "Epoch 25 valid: 100%|█████████████████████████| 34/34 [00:10<00:00,  3.24it/s, acc=0.639, loss=1.02]\n"
     ]
    },
    {
     "name": "stdout",
     "output_type": "stream",
     "text": [
      "\tValid ACC: 0.4507761437908497, Valid Pearson: 0.46099562116061876\n",
      "* Classification Report:\n",
      "              precision    recall  f1-score   support\n",
      "\n",
      "       moved       0.98      0.22      0.37       365\n",
      "       angry       0.64      0.47      0.54       837\n",
      "       funny       0.61      0.34      0.43       530\n",
      "         sad       0.30      0.95      0.45       292\n",
      "       novel       0.12      0.68      0.20        34\n",
      "     shocked       0.09      0.01      0.02        90\n",
      "\n",
      "    accuracy                           0.45      2148\n",
      "   macro avg       0.45      0.45      0.33      2148\n",
      "weighted avg       0.61      0.45      0.45      2148\n",
      "\n"
     ]
    },
    {
     "name": "stderr",
     "output_type": "stream",
     "text": [
      "Epoch 26 train: 100%|███████████████████████| 49/49 [00:41<00:00,  1.19it/s, acc=0.973, loss=0.0619]\n"
     ]
    },
    {
     "name": "stdout",
     "output_type": "stream",
     "text": [
      "\tTrain ACC: 0.9206856729178158, Train Pearson: 0.8327238393789482\n"
     ]
    },
    {
     "name": "stderr",
     "output_type": "stream",
     "text": [
      "Epoch 26 valid: 100%|█████████████████████████| 34/34 [00:10<00:00,  3.24it/s, acc=0.639, loss=1.03]\n"
     ]
    },
    {
     "name": "stdout",
     "output_type": "stream",
     "text": [
      "\tValid ACC: 0.46134599673202614, Valid Pearson: 0.470115652587635\n",
      "* Classification Report:\n",
      "              precision    recall  f1-score   support\n",
      "\n",
      "       moved       0.97      0.25      0.39       365\n",
      "       angry       0.64      0.49      0.55       837\n",
      "       funny       0.59      0.35      0.44       530\n",
      "         sad       0.30      0.94      0.46       292\n",
      "       novel       0.12      0.68      0.20        34\n",
      "     shocked       0.08      0.01      0.02        90\n",
      "\n",
      "    accuracy                           0.46      2148\n",
      "   macro avg       0.45      0.45      0.35      2148\n",
      "weighted avg       0.61      0.46      0.46      2148\n",
      "\n"
     ]
    },
    {
     "name": "stderr",
     "output_type": "stream",
     "text": [
      "Epoch 27 train: 100%|███████████████████████| 49/49 [00:41<00:00,  1.17it/s, acc=0.892, loss=0.0488]\n"
     ]
    },
    {
     "name": "stdout",
     "output_type": "stream",
     "text": [
      "\tTrain ACC: 0.9190309569773856, Train Pearson: 0.8315503269290584\n"
     ]
    },
    {
     "name": "stderr",
     "output_type": "stream",
     "text": [
      "Epoch 27 valid: 100%|█████████████████████████| 34/34 [00:10<00:00,  3.25it/s, acc=0.667, loss=1.05]\n"
     ]
    },
    {
     "name": "stdout",
     "output_type": "stream",
     "text": [
      "\tValid ACC: 0.45664828431372545, Valid Pearson: 0.46990790546770056\n",
      "* Classification Report:\n",
      "              precision    recall  f1-score   support\n",
      "\n",
      "       moved       0.96      0.23      0.37       365\n",
      "       angry       0.63      0.51      0.57       837\n",
      "       funny       0.59      0.30      0.40       530\n",
      "         sad       0.30      0.93      0.46       292\n",
      "       novel       0.12      0.68      0.20        34\n",
      "     shocked       0.09      0.01      0.02        90\n",
      "\n",
      "    accuracy                           0.45      2148\n",
      "   macro avg       0.45      0.44      0.34      2148\n",
      "weighted avg       0.60      0.45      0.45      2148\n",
      "\n"
     ]
    },
    {
     "name": "stderr",
     "output_type": "stream",
     "text": [
      "Epoch 28 train: 100%|███████████████████████| 49/49 [00:41<00:00,  1.19it/s, acc=0.919, loss=0.0555]\n"
     ]
    },
    {
     "name": "stdout",
     "output_type": "stream",
     "text": [
      "\tTrain ACC: 0.9116105901820187, Train Pearson: 0.8310685607455076\n"
     ]
    },
    {
     "name": "stderr",
     "output_type": "stream",
     "text": [
      "Epoch 28 valid: 100%|█████████████████████████| 34/34 [00:10<00:00,  3.23it/s, acc=0.639, loss=1.08]\n"
     ]
    },
    {
     "name": "stdout",
     "output_type": "stream",
     "text": [
      "\tValid ACC: 0.4493974673202614, Valid Pearson: 0.4650838992469117\n",
      "* Classification Report:\n",
      "              precision    recall  f1-score   support\n",
      "\n",
      "       moved       0.96      0.22      0.36       365\n",
      "       angry       0.63      0.48      0.54       837\n",
      "       funny       0.60      0.32      0.42       530\n",
      "         sad       0.30      0.95      0.45       292\n",
      "       novel       0.12      0.68      0.20        34\n",
      "     shocked       0.10      0.01      0.02        90\n",
      "\n",
      "    accuracy                           0.44      2148\n",
      "   macro avg       0.45      0.44      0.33      2148\n",
      "weighted avg       0.60      0.44      0.44      2148\n",
      "\n"
     ]
    },
    {
     "name": "stderr",
     "output_type": "stream",
     "text": [
      "Epoch 29 train: 100%|███████████████████████| 49/49 [00:41<00:00,  1.19it/s, acc=0.919, loss=0.0441]\n"
     ]
    },
    {
     "name": "stdout",
     "output_type": "stream",
     "text": [
      "\tTrain ACC: 0.9106539575289575, Train Pearson: 0.8319359250827381\n"
     ]
    },
    {
     "name": "stderr",
     "output_type": "stream",
     "text": [
      "Epoch 29 valid: 100%|█████████████████████████| 34/34 [00:10<00:00,  3.24it/s, acc=0.639, loss=1.09]\n"
     ]
    },
    {
     "name": "stdout",
     "output_type": "stream",
     "text": [
      "\tValid ACC: 0.44985702614379086, Valid Pearson: 0.4603966990507734\n",
      "* Classification Report:\n",
      "              precision    recall  f1-score   support\n",
      "\n",
      "       moved       0.99      0.19      0.32       365\n",
      "       angry       0.64      0.47      0.54       837\n",
      "       funny       0.58      0.36      0.45       530\n",
      "         sad       0.29      0.95      0.45       292\n",
      "       novel       0.13      0.65      0.21        34\n",
      "     shocked       0.11      0.01      0.02        90\n",
      "\n",
      "    accuracy                           0.44      2148\n",
      "   macro avg       0.46      0.44      0.33      2148\n",
      "weighted avg       0.61      0.44      0.44      2148\n",
      "\n"
     ]
    },
    {
     "name": "stderr",
     "output_type": "stream",
     "text": [
      "Epoch 30 train: 100%|███████████████████████| 49/49 [00:41<00:00,  1.17it/s, acc=0.865, loss=0.0468]\n"
     ]
    },
    {
     "name": "stdout",
     "output_type": "stream",
     "text": [
      "\tTrain ACC: 0.9197548952013237, Train Pearson: 0.8304927323436652\n"
     ]
    },
    {
     "name": "stderr",
     "output_type": "stream",
     "text": [
      "Epoch 30 valid: 100%|█████████████████████████| 34/34 [00:10<00:00,  3.24it/s, acc=0.639, loss=1.05]\n"
     ]
    },
    {
     "name": "stdout",
     "output_type": "stream",
     "text": [
      "\tValid ACC: 0.4516952614379085, Valid Pearson: 0.46567908933260915\n",
      "* Classification Report:\n",
      "              precision    recall  f1-score   support\n",
      "\n",
      "       moved       0.96      0.21      0.35       365\n",
      "       angry       0.63      0.49      0.55       837\n",
      "       funny       0.58      0.32      0.42       530\n",
      "         sad       0.30      0.95      0.46       292\n",
      "       novel       0.12      0.65      0.20        34\n",
      "     shocked       0.07      0.01      0.02        90\n",
      "\n",
      "    accuracy                           0.45      2148\n",
      "   macro avg       0.44      0.44      0.33      2148\n",
      "weighted avg       0.60      0.45      0.44      2148\n",
      "\n"
     ]
    },
    {
     "name": "stderr",
     "output_type": "stream",
     "text": [
      "Epoch 31 train: 100%|███████████████████████| 49/49 [00:41<00:00,  1.19it/s, acc=0.973, loss=0.0578]\n"
     ]
    },
    {
     "name": "stdout",
     "output_type": "stream",
     "text": [
      "\tTrain ACC: 0.9181346525096525, Train Pearson: 0.8290278730356971\n"
     ]
    },
    {
     "name": "stderr",
     "output_type": "stream",
     "text": [
      "Epoch 31 valid: 100%|█████████████████████████| 34/34 [00:10<00:00,  3.23it/s, acc=0.667, loss=1.05]\n"
     ]
    },
    {
     "name": "stdout",
     "output_type": "stream",
     "text": [
      "\tValid ACC: 0.47365196078431376, Valid Pearson: 0.4776444739326788\n",
      "* Classification Report:\n",
      "              precision    recall  f1-score   support\n",
      "\n",
      "       moved       0.99      0.24      0.38       365\n",
      "       angry       0.64      0.53      0.58       837\n",
      "       funny       0.55      0.34      0.42       530\n",
      "         sad       0.31      0.95      0.47       292\n",
      "       novel       0.14      0.68      0.24        34\n",
      "     shocked       0.09      0.01      0.02        90\n",
      "\n",
      "    accuracy                           0.47      2148\n",
      "   macro avg       0.46      0.46      0.35      2148\n",
      "weighted avg       0.60      0.47      0.46      2148\n",
      "\n"
     ]
    },
    {
     "name": "stderr",
     "output_type": "stream",
     "text": [
      "Epoch 32 train: 100%|███████████████████████| 49/49 [00:41<00:00,  1.17it/s, acc=0.946, loss=0.0543]\n"
     ]
    },
    {
     "name": "stdout",
     "output_type": "stream",
     "text": [
      "\tTrain ACC: 0.9096111417539988, Train Pearson: 0.8288970744820572\n"
     ]
    },
    {
     "name": "stderr",
     "output_type": "stream",
     "text": [
      "Epoch 32 valid: 100%|█████████████████████████| 34/34 [00:10<00:00,  3.24it/s, acc=0.667, loss=1.13]\n"
     ]
    },
    {
     "name": "stdout",
     "output_type": "stream",
     "text": [
      "\tValid ACC: 0.44837622549019607, Valid Pearson: 0.4495171103152056\n",
      "* Classification Report:\n",
      "              precision    recall  f1-score   support\n",
      "\n",
      "       moved       0.98      0.17      0.29       365\n",
      "       angry       0.65      0.48      0.55       837\n",
      "       funny       0.58      0.35      0.44       530\n",
      "         sad       0.29      0.96      0.44       292\n",
      "       novel       0.13      0.65      0.21        34\n",
      "     shocked       0.12      0.01      0.02        90\n",
      "\n",
      "    accuracy                           0.44      2148\n",
      "   macro avg       0.46      0.44      0.33      2148\n",
      "weighted avg       0.61      0.44      0.44      2148\n",
      "\n"
     ]
    },
    {
     "name": "stderr",
     "output_type": "stream",
     "text": [
      "Epoch 33 train: 100%|███████████████████████| 49/49 [00:41<00:00,  1.19it/s, acc=0.946, loss=0.0556]\n"
     ]
    },
    {
     "name": "stdout",
     "output_type": "stream",
     "text": [
      "\tTrain ACC: 0.9185397131825703, Train Pearson: 0.8293662112989449\n"
     ]
    },
    {
     "name": "stderr",
     "output_type": "stream",
     "text": [
      "Epoch 33 valid: 100%|█████████████████████████| 34/34 [00:10<00:00,  3.23it/s, acc=0.667, loss=1.11]\n"
     ]
    },
    {
     "name": "stdout",
     "output_type": "stream",
     "text": [
      "\tValid ACC: 0.44975490196078427, Valid Pearson: 0.44568752405280254\n",
      "* Classification Report:\n",
      "              precision    recall  f1-score   support\n",
      "\n",
      "       moved       0.97      0.16      0.27       365\n",
      "       angry       0.64      0.50      0.56       837\n",
      "       funny       0.57      0.34      0.43       530\n",
      "         sad       0.29      0.95      0.45       292\n",
      "       novel       0.14      0.68      0.23        34\n",
      "     shocked       0.12      0.01      0.02        90\n",
      "\n",
      "    accuracy                           0.44      2148\n",
      "   macro avg       0.46      0.44      0.33      2148\n",
      "weighted avg       0.60      0.44      0.43      2148\n",
      "\n"
     ]
    },
    {
     "name": "stderr",
     "output_type": "stream",
     "text": [
      "Epoch 34 train: 100%|███████████████████████| 49/49 [00:41<00:00,  1.19it/s, acc=0.919, loss=0.0426]\n"
     ]
    },
    {
     "name": "stdout",
     "output_type": "stream",
     "text": [
      "\tTrain ACC: 0.9199014065085493, Train Pearson: 0.8289109316595911\n"
     ]
    },
    {
     "name": "stderr",
     "output_type": "stream",
     "text": [
      "Epoch 34 valid: 100%|█████████████████████████| 34/34 [00:11<00:00,  3.04it/s, acc=0.639, loss=1.13]\n"
     ]
    },
    {
     "name": "stdout",
     "output_type": "stream",
     "text": [
      "\tValid ACC: 0.4631842320261438, Valid Pearson: 0.46924983008753063\n",
      "* Classification Report:\n",
      "              precision    recall  f1-score   support\n",
      "\n",
      "       moved       0.97      0.23      0.37       365\n",
      "       angry       0.64      0.49      0.55       837\n",
      "       funny       0.57      0.36      0.44       530\n",
      "         sad       0.30      0.95      0.46       292\n",
      "       novel       0.14      0.68      0.23        34\n",
      "     shocked       0.10      0.01      0.02        90\n",
      "\n",
      "    accuracy                           0.46      2148\n",
      "   macro avg       0.45      0.45      0.35      2148\n",
      "weighted avg       0.60      0.46      0.45      2148\n",
      "\n"
     ]
    },
    {
     "name": "stderr",
     "output_type": "stream",
     "text": [
      "Epoch 35 train: 100%|████████████████████████| 49/49 [00:41<00:00,  1.19it/s, acc=0.865, loss=0.052]\n"
     ]
    },
    {
     "name": "stdout",
     "output_type": "stream",
     "text": [
      "\tTrain ACC: 0.9057242829564258, Train Pearson: 0.8299509985631307\n"
     ]
    },
    {
     "name": "stderr",
     "output_type": "stream",
     "text": [
      "Epoch 35 valid: 100%|█████████████████████████| 34/34 [00:10<00:00,  3.23it/s, acc=0.667, loss=1.09]\n"
     ]
    },
    {
     "name": "stdout",
     "output_type": "stream",
     "text": [
      "\tValid ACC: 0.461703431372549, Valid Pearson: 0.4618048250566094\n",
      "* Classification Report:\n",
      "              precision    recall  f1-score   support\n",
      "\n",
      "       moved       0.97      0.21      0.34       365\n",
      "       angry       0.62      0.52      0.57       837\n",
      "       funny       0.57      0.33      0.42       530\n",
      "         sad       0.31      0.94      0.47       292\n",
      "       novel       0.13      0.68      0.22        34\n",
      "     shocked       0.11      0.01      0.02        90\n",
      "\n",
      "    accuracy                           0.46      2148\n",
      "   macro avg       0.45      0.45      0.34      2148\n",
      "weighted avg       0.60      0.46      0.45      2148\n",
      "\n"
     ]
    },
    {
     "name": "stderr",
     "output_type": "stream",
     "text": [
      "Epoch 36 train: 100%|███████████████████████| 49/49 [00:42<00:00,  1.16it/s, acc=0.892, loss=0.0454]\n"
     ]
    },
    {
     "name": "stdout",
     "output_type": "stream",
     "text": [
      "\tTrain ACC: 0.9215819773855489, Train Pearson: 0.828339570060384\n"
     ]
    },
    {
     "name": "stderr",
     "output_type": "stream",
     "text": [
      "Epoch 36 valid: 100%|██████████████████████████| 34/34 [00:10<00:00,  3.24it/s, acc=0.667, loss=1.1]\n"
     ]
    },
    {
     "name": "stdout",
     "output_type": "stream",
     "text": [
      "\tValid ACC: 0.4621629901960784, Valid Pearson: 0.46230332424059295\n",
      "* Classification Report:\n",
      "              precision    recall  f1-score   support\n",
      "\n",
      "       moved       0.95      0.19      0.32       365\n",
      "       angry       0.64      0.51      0.57       837\n",
      "       funny       0.56      0.36      0.44       530\n",
      "         sad       0.31      0.94      0.47       292\n",
      "       novel       0.13      0.68      0.22        34\n",
      "     shocked       0.08      0.01      0.02        90\n",
      "\n",
      "    accuracy                           0.46      2148\n",
      "   macro avg       0.44      0.45      0.34      2148\n",
      "weighted avg       0.60      0.46      0.45      2148\n",
      "\n"
     ]
    },
    {
     "name": "stderr",
     "output_type": "stream",
     "text": [
      "Epoch 37 train: 100%|███████████████████████| 49/49 [00:41<00:00,  1.19it/s, acc=0.865, loss=0.0585]\n"
     ]
    },
    {
     "name": "stdout",
     "output_type": "stream",
     "text": [
      "\tTrain ACC: 0.9191171400992829, Train Pearson: 0.8281242935928301\n"
     ]
    },
    {
     "name": "stderr",
     "output_type": "stream",
     "text": [
      "Epoch 37 valid: 100%|█████████████████████████| 34/34 [00:10<00:00,  3.24it/s, acc=0.639, loss=1.15]\n"
     ]
    },
    {
     "name": "stdout",
     "output_type": "stream",
     "text": [
      "\tValid ACC: 0.4562908496732026, Valid Pearson: 0.46636478042308155\n",
      "* Classification Report:\n",
      "              precision    recall  f1-score   support\n",
      "\n",
      "       moved       0.96      0.24      0.39       365\n",
      "       angry       0.64      0.47      0.54       837\n",
      "       funny       0.59      0.35      0.44       530\n",
      "         sad       0.29      0.96      0.45       292\n",
      "       novel       0.14      0.68      0.23        34\n",
      "     shocked       0.14      0.01      0.02        90\n",
      "\n",
      "    accuracy                           0.45      2148\n",
      "   macro avg       0.46      0.45      0.34      2148\n",
      "weighted avg       0.60      0.45      0.45      2148\n",
      "\n"
     ]
    },
    {
     "name": "stderr",
     "output_type": "stream",
     "text": [
      "Epoch 38 train: 100%|███████████████████████| 49/49 [00:41<00:00,  1.19it/s, acc=0.973, loss=0.0367]\n"
     ]
    },
    {
     "name": "stdout",
     "output_type": "stream",
     "text": [
      "\tTrain ACC: 0.921642305570877, Train Pearson: 0.8284793357446606\n"
     ]
    },
    {
     "name": "stderr",
     "output_type": "stream",
     "text": [
      "Epoch 38 valid: 100%|█████████████████████████| 34/34 [00:10<00:00,  3.24it/s, acc=0.639, loss=1.11]\n"
     ]
    },
    {
     "name": "stdout",
     "output_type": "stream",
     "text": [
      "\tValid ACC: 0.4641033496732026, Valid Pearson: 0.47365702928727604\n",
      "* Classification Report:\n",
      "              precision    recall  f1-score   support\n",
      "\n",
      "       moved       0.95      0.26      0.41       365\n",
      "       angry       0.64      0.48      0.55       837\n",
      "       funny       0.58      0.35      0.44       530\n",
      "         sad       0.30      0.95      0.45       292\n",
      "       novel       0.15      0.68      0.24        34\n",
      "     shocked       0.08      0.01      0.02        90\n",
      "\n",
      "    accuracy                           0.46      2148\n",
      "   macro avg       0.45      0.46      0.35      2148\n",
      "weighted avg       0.60      0.46      0.46      2148\n",
      "\n"
     ]
    },
    {
     "name": "stderr",
     "output_type": "stream",
     "text": [
      "Epoch 39 train: 100%|███████████████████████| 49/49 [00:41<00:00,  1.17it/s, acc=0.946, loss=0.0339]\n"
     ]
    },
    {
     "name": "stdout",
     "output_type": "stream",
     "text": [
      "\tTrain ACC: 0.9153509376723662, Train Pearson: 0.8272721494392689\n"
     ]
    },
    {
     "name": "stderr",
     "output_type": "stream",
     "text": [
      "Epoch 39 valid: 100%|█████████████████████████| 34/34 [00:10<00:00,  3.24it/s, acc=0.667, loss=1.07]\n"
     ]
    },
    {
     "name": "stdout",
     "output_type": "stream",
     "text": [
      "\tValid ACC: 0.45572916666666663, Valid Pearson: 0.46501846844109024\n",
      "* Classification Report:\n",
      "              precision    recall  f1-score   support\n",
      "\n",
      "       moved       0.95      0.22      0.36       365\n",
      "       angry       0.63      0.51      0.56       837\n",
      "       funny       0.59      0.30      0.40       530\n",
      "         sad       0.30      0.93      0.45       292\n",
      "       novel       0.13      0.68      0.22        34\n",
      "     shocked       0.08      0.01      0.02        90\n",
      "\n",
      "    accuracy                           0.45      2148\n",
      "   macro avg       0.45      0.44      0.34      2148\n",
      "weighted avg       0.60      0.45      0.45      2148\n",
      "\n"
     ]
    },
    {
     "data": {
      "image/png": "[encoded data removed]",
      "text/plain": [
       "<Figure size 1400x800 with 2 Axes>"
      ]
     },
     "metadata": {},
     "output_type": "display_data"
    }
   ],
   "source": [
    "import matplotlib.pyplot as plt\n",
    "\n",
    "def plot_metrics(metrics_history):\n",
    "    epochs = range(1, len(metrics_history['train_accuracy']) + 1)\n",
    "\n",
    "    plt.figure(figsize=(14, 8))\n",
    "\n",
    "    # Plot accuracy\n",
    "    plt.subplot(2, 1, 1)\n",
    "    plt.plot(epochs, metrics_history['train_accuracy'], label='Train Accuracy', marker='o')\n",
    "    plt.plot(epochs, metrics_history['valid_accuracy'], label='Valid Accuracy', marker='o')\n",
    "    plt.title('Training and Validation Accuracy')\n",
    "    plt.xlabel('Epoch')\n",
    "    plt.ylabel('Accuracy')\n",
    "    plt.legend()\n",
    "\n",
    "    # Plot Pearson correlation\n",
    "    plt.subplot(2, 1, 2)\n",
    "    plt.plot(epochs, metrics_history['train_pearson'], label='Train Pearson', marker='o')\n",
    "    plt.plot(epochs, metrics_history['valid_pearson'], label='Valid Pearson', marker='o')\n",
    "    plt.title('Training and Validation Pearson Correlation')\n",
    "    plt.xlabel('Epoch')\n",
    "    plt.ylabel('Pearson Correlation')\n",
    "    plt.legend()\n",
    "\n",
    "    plt.tight_layout()\n",
    "    plt.show()\n",
    "\n",
    "# Call the train function and plot metrics\n",
    "metrics_history = train()\n",
    "plot_metrics(metrics_history)\n"
   ]
  }
 ],
 "metadata": {
  "kernelspec": {
   "display_name": "LLM",
   "language": "python",
   "name": "python3"
  },
  "language_info": {
   "codemirror_mode": {
    "name": "ipython",
    "version": 3
   },
   "file_extension": ".py",
   "mimetype": "text/x-python",
   "name": "python",
   "nbconvert_exporter": "python",
   "pygments_lexer": "ipython3",
   "version": "3.11.11"
  }
 },
 "nbformat": 4,
 "nbformat_minor": 2
}
