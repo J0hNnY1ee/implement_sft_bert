{
 "cells": [
  {
   "cell_type": "code",
   "execution_count": 1,
   "metadata": {},
   "outputs": [],
   "source": [
    "\n",
    "\n",
    "## 1. 定义模型\n",
    "import torch.nn as nn\n",
    "from transformers import BertModel, BertTokenizer\n",
    "class BertClassifier(nn.Module):\n",
    "    def __init__(self, bert_config, num_labels):\n",
    "        super().__init__()\n",
    "        # 定义BERT模型\n",
    "        self.bert = BertModel(config=bert_config)\n",
    "        # 定义分类器\n",
    "        self.classifier = nn.Linear(bert_config.hidden_size, num_labels)\n",
    "        \n",
    "    def forward(self, input_ids, attention_mask=None, token_type_ids=None):\n",
    "        outputs = self.bert(input_ids, attention_mask=attention_mask, token_type_ids=token_type_ids)\n",
    "        pooled_output = outputs[1]\n",
    "        logits = self.classifier(pooled_output)\n",
    "        return logits\n",
    "    \n",
    "    \n",
    "class BertLstmClassifier(nn.Module):\n",
    "    def __init__(self, bert_config, num_labels):\n",
    "        super().__init__()\n",
    "        self.bert = BertModel(config=bert_config)\n",
    "        self.lstm = nn.LSTM(bert_config.hidden_size, bert_config.hidden_size, num_layers=2,batch_first=True, bidirectional=True)\n",
    "        self.classifier = nn.Linear(bert_config.hidden_size * 2, num_labels) ## 双向LSTM\n",
    "        \n",
    "    def forward(self, input_ids, attention_mask=None, token_type_ids=None):\n",
    "        outputs = self.bert(input_ids, attention_mask=attention_mask, token_type_ids=token_type_ids)\n",
    "        sequence_output = outputs.last_hidden_state\n",
    "        lstm_output, _ = self.lstm(sequence_output)\n",
    "        logits = self.classifier(lstm_output[:, -1, :])\n",
    "        return logits\n",
    "    \n"
   ]
  },
  {
   "cell_type": "code",
   "execution_count": 2,
   "metadata": {},
   "outputs": [
    {
     "name": "stdout",
     "output_type": "stream",
     "text": [
      "数据集长度: 5257\n",
      "解码后的文本: 女 子 与 情 夫 偷 情 时 遭 歹 徒 强 暴 情 夫 争 执 中 被 杀 商 报 消 息 （ 庞 孝 君 记 者 郑 芷 南 通 讯 员 孙 明 华 付 朝 旺 ） 聊 城 一 女 子 在 家 中 与 同 村 男 子 偷 情 时 ， 被 突 然 闯 入 的 两 名 陌 生 人 带 走 施 暴 ， 而 其 情 夫 在 与 两 人 争 执 过 程 中 死 亡 。 日 前 ， 聊 城 市 东 昌 府 警 方 侦 破 了 这 起 强 奸 案 ， 并 带 破 了 10 余 起 盗 窃 案 ， 犯 罪 嫌 疑 人 魏 某 、 吕 某 被 东 昌 府 警 方 缉 拿 归 案 。 今 年 8 月 16 日 ， 东 昌 府 公 安 分 局 刑 侦 五 中 队 接 梁 水 镇 派 出 所 移 交 案 件 ： 8 月 15 日 23 时 许 ， 梁 水 镇 的 女 子 栾 某 与 其 村 男 子 王 某 在 家 中 偷 情 时 ， 两 名 男 子 闯 进 栾 某 家 中 ， 与 王 某 发 生 争 执 ， 而 后 两 名 男 子 强 行 将 栾 某 带 至 一 空 宅 内 强 奸 。 栾 某 回 到 家 中 时 发 现 王 某 死 亡 。 案 发 后 ， 技 术 民 警 对 现 场 进 行 勘 查 及 尸 体 检 验 。 办 案 民 警 围 绕 现 场 物 证 、 周 边 监 控 录 像 及 受 害 人 关 系 网 等 展 开 全 面 摸 排 工 作 ， 最 终 在 距 案 发 地 两 公 里 处 发 现 可 疑 车 辆 。 为 此 ， 民 警 立 即 对 案 发 现 场 周 边 可 疑 年 龄 段 且 有 前 科 人 员 展 开 重 点 摸 排 。 经 细 致 比 对 ， 梁 水 镇 辖 区 魏 某 曾 被 劳 动 教 养 ， 且 有 一 辆 面 包 车 与 嫌 疑 车 辆 相 似 ， 有 重 大 作 案 嫌 疑 。 同 时 ， 办 案 民 警 锁 定 斗 虎 屯 辖 区 的 吕 某 有 重 大 嫌 疑 。 在 确 定 嫌 疑 人 行 踪 后 ， 9 月 12 日 ， 民 警 兵 分 两 路 展 开 抓 捕 行 动 。 当 日 11 时 许 ， 犯 罪 嫌 疑 人 吕 某 （ 男 ， 44 岁 ） 在 其 家 门 口 被 成 功 抓 获 。 12 时 许 ， 犯 罪 嫌 疑 人 魏 某 （ 男 ， 39 岁 ） 在 回 家 途 中 被\n",
      "情感强度向量: [0.04590018 0.19117647 0.51693404 0.03475936 0.11185383 0.09937611]\n",
      "情感标签及归一化值:\n",
      "moved: 0.0459\n",
      "angry: 0.1912\n",
      "funny: 0.5169\n",
      "sad: 0.0348\n",
      "novel: 0.1119\n",
      "shocked: 0.0994\n"
     ]
    },
    {
     "name": "stderr",
     "output_type": "stream",
     "text": [
      "数据加载成功...\n"
     ]
    }
   ],
   "source": [
    "from torch.utils.data import Dataset\n",
    "import json\n",
    "import numpy as np\n",
    "import torch\n",
    "import sys\n",
    "from transformers import BertTokenizer\n",
    "\n",
    "class _2016Dataset(Dataset):\n",
    "    def __init__(\n",
    "        self, file_path, tokenizer, max_length=1024, is_dynamic_max_length=True\n",
    "    ):\n",
    "        self.lib_labels = [\"moved\", \"angry\", \"funny\", \"sad\", \"novel\", \"shocked\"]\n",
    "        self.label_to_id = {label: i for i, label in enumerate(self.lib_labels)}\n",
    "        self.id_to_label = {i: label for i, label in enumerate(self.lib_labels)}\n",
    "        self.tokenizer = tokenizer\n",
    "        self.input_ids = []\n",
    "        self.attention_mask = []\n",
    "        self.token_type_ids = []\n",
    "        self.label_scores = []\n",
    "        self.max_length = max_length\n",
    "        self.load_data(file_path, is_dynamic_max_length)\n",
    "\n",
    "    def load_data(self, file_path, is_dynamic_max_length):\n",
    "        with open(file_path, \"r\", encoding=\"utf-8\") as f:\n",
    "            data = json.load(f)\n",
    "        if is_dynamic_max_length:\n",
    "            for item in data:\n",
    "                text = item[\"news\"].replace(\" \", \"\")\n",
    "                self.max_length = min(512, max(self.max_length, len(text)))\n",
    "        for item in data:\n",
    "            text = item[\"news\"].replace(\" \", \"\")  # 移除空格\n",
    "            # 提取情感值并转换为整数\n",
    "            emotions = {k: int(v) for k, v in item.items() if k in self.lib_labels}\n",
    "            total = int(item[\"Total\"])  # 确保 Total 也转换为整数\n",
    "\n",
    "            # 情感强度归一化\n",
    "            if total > 0:\n",
    "                label_vector = [emotions[label] / total for label in self.lib_labels]\n",
    "            else:\n",
    "                label_vector = [0.0] * len(\n",
    "                    self.lib_labels\n",
    "                )  # 如果 Total 为 0，所有情感归为 0\n",
    "\n",
    "            # Tokenization\n",
    "            token = self.tokenizer(\n",
    "                text,\n",
    "                max_length=self.max_length,\n",
    "                add_special_tokens=True,\n",
    "                padding=\"max_length\",\n",
    "                truncation=True,\n",
    "                return_tensors=\"pt\",\n",
    "            )\n",
    "            self.input_ids.append(token[\"input_ids\"].clone().detach())\n",
    "            self.attention_mask.append(token[\"attention_mask\"].clone().detach())\n",
    "            self.token_type_ids.append(token[\"token_type_ids\"].clone().detach())\n",
    "            self.label_scores.append(torch.tensor(label_vector, dtype=torch.float))\n",
    "\n",
    "    def __len__(self):\n",
    "        return len(self.input_ids)\n",
    "\n",
    "    def __getitem__(self, idx):\n",
    "        return (\n",
    "            self.input_ids[idx].squeeze(0),\n",
    "            self.attention_mask[idx].squeeze(0),\n",
    "            self.token_type_ids[idx].squeeze(0),\n",
    "            self.label_scores[idx],\n",
    "        )\n",
    "\n",
    "\n",
    "tokenizer = BertTokenizer.from_pretrained(\n",
    "    \"model/bert-base-chinese\"\n",
    ")  # 替换为适合的 tokenizer 路径\n",
    "test_data = _2016Dataset(\"data/2016.json\", tokenizer)\n",
    "print(\"数据集长度:\", len(test_data))\n",
    "input_ids, attention_mask, token_type_ids, label_scores = test_data[2]\n",
    "\n",
    "# 解码文本\n",
    "decoded_text = tokenizer.decode(input_ids.tolist(), skip_special_tokens=True)\n",
    "print(\"解码后的文本:\", decoded_text)\n",
    "print(\"情感强度向量:\", label_scores.numpy())\n",
    "\n",
    "# 输出对应情感标签和归一化值\n",
    "print(\"情感标签及归一化值:\")\n",
    "for i, score in enumerate(label_scores.numpy()):\n",
    "    print(f\"{test_data.id_to_label[i]}: {score:.4f}\")\n",
    "\n",
    "\n",
    "print(\"数据加载成功...\", file=sys.stderr)"
   ]
  },
  {
   "cell_type": "code",
   "execution_count": 3,
   "metadata": {},
   "outputs": [
    {
     "name": "stdout",
     "output_type": "stream",
     "text": [
      "训练集大小: 4205\n",
      "测试集大小: 1052\n"
     ]
    }
   ],
   "source": [
    "#分割数据集\n",
    "import json\n",
    "import random\n",
    "\n",
    "# 加载原始数据集\n",
    "with open('data/2016.json', 'r', encoding='utf-8') as file:\n",
    "    data = json.load(file)\n",
    "\n",
    "# 打乱数据集\n",
    "random.shuffle(data)\n",
    "\n",
    "# 分割数据集\n",
    "split_index = int(len(data) * 0.8)\n",
    "train_data = data[:split_index]\n",
    "test_data = data[split_index:]\n",
    "\n",
    "# 保存训练集到 train.json\n",
    "with open('data/train.json', 'w', encoding='utf-8') as train_file:\n",
    "    json.dump(train_data, train_file, ensure_ascii=False, indent=4)\n",
    "\n",
    "# 保存测试集到 test.json\n",
    "with open('data/test.json', 'w', encoding='utf-8') as test_file:\n",
    "    json.dump(test_data, test_file, ensure_ascii=False, indent=4)\n",
    "\n",
    "print(f\"训练集大小: {len(train_data)}\")\n",
    "print(f\"测试集大小: {len(test_data)}\")"
   ]
  },
  {
   "cell_type": "code",
   "execution_count": 4,
   "metadata": {},
   "outputs": [],
   "source": [
    "import torch\n",
    "import torch.nn as nn\n",
    "from torch.utils.data import DataLoader\n",
    "from scipy.stats import pearsonr\n",
    "from tqdm import tqdm\n",
    "import torch.nn.functional as F\n",
    "def train(\n",
    "    model,\n",
    "    train_dataset,\n",
    "    val_dataset,\n",
    "    epochs=10,\n",
    "    batch_size=5,\n",
    "    learning_rate=2e-5,\n",
    "    weight_decay=1e-4,\n",
    "    patience=3,\n",
    "    device=\"cuda\" if torch.cuda.is_available() else \"cpu\",\n",
    "):\n",
    "    train_loader = DataLoader(train_dataset, batch_size=batch_size, shuffle=True)\n",
    "    val_loader = DataLoader(val_dataset, batch_size=batch_size, shuffle=False)\n",
    "    optimizer = torch.optim.AdamW(model.parameters(), lr=learning_rate, weight_decay=weight_decay)\n",
    "    scheduler = torch.optim.lr_scheduler.StepLR(optimizer, step_size=3, gamma=0.1)\n",
    "    loss_fn = nn.KLDivLoss(reduction='batchmean')\n",
    "    model.to(device)\n",
    "\n",
    "    train_losses = []\n",
    "    train_accuracies = []\n",
    "    train_pearsons = []\n",
    "    val_accuracies = []\n",
    "    val_pearsons = []\n",
    "    best_val_loss = float('inf')\n",
    "    no_improve_epochs = 0\n",
    "\n",
    "    for epoch in range(epochs):\n",
    "        print(f\"Epoch {epoch + 1}/{epochs}\")\n",
    "        model.train()\n",
    "        train_loss = 0.0\n",
    "        correct = 0\n",
    "        total = 0\n",
    "        pearson_sum = 0\n",
    "        pearson_count = 0\n",
    "\n",
    "        train_loader_tqdm = tqdm(train_loader, desc=\"Training Loss=0.0000\", leave=False)\n",
    "\n",
    "        for batch in train_loader_tqdm:\n",
    "            input_ids, attention_mask, token_type_ids, label_scores = batch\n",
    "            input_ids = input_ids.to(device)\n",
    "            attention_mask = attention_mask.to(device)\n",
    "            token_type_ids = token_type_ids.to(device)\n",
    "\n",
    "            optimizer.zero_grad()\n",
    "\n",
    "            logits = model(input_ids, attention_mask, token_type_ids)\n",
    "            predicted_probs = F.softmax(logits, dim=1)\n",
    "            loss = loss_fn(predicted_probs, label_scores.to(device))\n",
    "            train_loss += loss.item()\n",
    "\n",
    "            loss.backward()\n",
    "            optimizer.step()\n",
    "\n",
    "            _, pred = torch.max(logits, dim=1)\n",
    "            correct += (pred == torch.argmax(label_scores, dim=1).to(device)).sum().item()\n",
    "            total += label_scores.size(0)\n",
    "\n",
    "            # Update Pearson correlation\n",
    "            for i in range(logits.size(0)):\n",
    "                pearson, _ = pearsonr(logits[i].cpu().detach().numpy(), label_scores[i].cpu().detach().numpy())\n",
    "                pearson_sum += pearson\n",
    "                pearson_count += 1\n",
    "\n",
    "            # 动态更新 tqdm 描述\n",
    "            avg_loss_so_far = train_loss / (train_loader_tqdm.n + 1)\n",
    "            train_loader_tqdm.set_description(f\"Training Loss={avg_loss_so_far:.4f}\")\n",
    "\n",
    "        train_accuracy = correct / total\n",
    "        avg_train_loss = train_loss / len(train_loader)\n",
    "        avg_pearson = pearson_sum / pearson_count\n",
    "\n",
    "        train_losses.append(avg_train_loss)\n",
    "        train_accuracies.append(train_accuracy)\n",
    "        train_pearsons.append(avg_pearson)\n",
    "\n",
    "        print(f\"Train Loss={avg_train_loss:.4f}, Train Accuracy={train_accuracy:.4f}, Train Pearson={avg_pearson:.4f}\")\n",
    "\n",
    "        # 验证阶段\n",
    "        model.eval()\n",
    "        val_loss = 0.0\n",
    "        correct = 0\n",
    "        total = 0\n",
    "        pearson_sum = 0\n",
    "        pearson_count = 0\n",
    "\n",
    "        val_loader_tqdm = tqdm(val_loader, desc=\"Validating Loss=0.0000\", leave=False)\n",
    "\n",
    "        with torch.no_grad():\n",
    "            for batch in val_loader_tqdm:\n",
    "                input_ids, attention_mask, token_type_ids, label_scores = batch\n",
    "                input_ids = input_ids.to(device)\n",
    "                attention_mask = attention_mask.to(device)\n",
    "                token_type_ids = token_type_ids.to(device)\n",
    "\n",
    "                logits = model(input_ids, attention_mask, token_type_ids)\n",
    "\n",
    "                predicted_probs = F.softmax(logits, dim=1)\n",
    "                loss = loss_fn(predicted_probs, label_scores.to(device))\n",
    "                val_loss += loss.item()\n",
    "\n",
    "                _, pred = torch.max(logits, dim=1)\n",
    "                correct += (pred == torch.argmax(label_scores, dim=1).to(device)).sum().item()\n",
    "                total += label_scores.size(0)\n",
    "\n",
    "                for i in range(logits.size(0)):\n",
    "                    pearson, _ = pearsonr(logits[i].cpu().numpy(), label_scores[i].cpu().numpy())\n",
    "                    pearson_sum += pearson\n",
    "                    pearson_count += 1\n",
    "\n",
    "                # 动态更新 tqdm 描述\n",
    "                avg_loss_so_far = val_loss / (val_loader_tqdm.n + 1)\n",
    "                val_loader_tqdm.set_description(f\"Validating Loss={avg_loss_so_far:.4f}\")\n",
    "\n",
    "        val_accuracy = correct / total\n",
    "        avg_val_loss = val_loss / len(val_loader)\n",
    "        avg_pearson = pearson_sum / pearson_count\n",
    "\n",
    "        val_accuracies.append(val_accuracy)\n",
    "        val_pearsons.append(avg_pearson)\n",
    "\n",
    "        print(f\"Validation Loss={avg_val_loss:.4f}, Validation Accuracy={val_accuracy:.4f}, Validation Pearson={avg_pearson:.4f}\")\n",
    "\n",
    "        if avg_val_loss < best_val_loss:\n",
    "            best_val_loss = avg_val_loss\n",
    "            no_improve_epochs = 0\n",
    "        else:\n",
    "            no_improve_epochs += 1\n",
    "            if no_improve_epochs >= patience:\n",
    "                print(\"Early stopping triggered.\")\n",
    "                break\n",
    "\n",
    "        scheduler.step()\n",
    "\n",
    "    print(\"Training Complete\")\n",
    "    return train_losses, train_accuracies, train_pearsons, val_accuracies, val_pearsons\n",
    "\n"
   ]
  },
  {
   "cell_type": "code",
   "execution_count": 5,
   "metadata": {},
   "outputs": [
    {
     "name": "stdout",
     "output_type": "stream",
     "text": [
      "Epoch 1/20\n"
     ]
    },
    {
     "name": "stderr",
     "output_type": "stream",
     "text": [
      "                                                                        \r"
     ]
    },
    {
     "name": "stdout",
     "output_type": "stream",
     "text": [
      "Train Loss=-1.4076, Train Accuracy=0.3643, Train Pearson=0.2844\n"
     ]
    },
    {
     "name": "stderr",
     "output_type": "stream",
     "text": [
      "                                                                          \r"
     ]
    },
    {
     "name": "stdout",
     "output_type": "stream",
     "text": [
      "Validation Loss=-1.4210, Validation Accuracy=0.3726, Validation Pearson=0.2948\n",
      "Epoch 2/20\n"
     ]
    },
    {
     "name": "stderr",
     "output_type": "stream",
     "text": [
      "                                                                        \r"
     ]
    },
    {
     "name": "stdout",
     "output_type": "stream",
     "text": [
      "Train Loss=-1.4083, Train Accuracy=0.3646, Train Pearson=0.2839\n"
     ]
    },
    {
     "name": "stderr",
     "output_type": "stream",
     "text": [
      "                                                                          \r"
     ]
    },
    {
     "name": "stdout",
     "output_type": "stream",
     "text": [
      "Validation Loss=-1.4210, Validation Accuracy=0.3726, Validation Pearson=0.2916\n",
      "Epoch 3/20\n"
     ]
    },
    {
     "name": "stderr",
     "output_type": "stream",
     "text": [
      "                                                                        \r"
     ]
    },
    {
     "name": "stdout",
     "output_type": "stream",
     "text": [
      "Train Loss=-1.4085, Train Accuracy=0.3646, Train Pearson=0.2829\n"
     ]
    },
    {
     "name": "stderr",
     "output_type": "stream",
     "text": [
      "                                                                          \r"
     ]
    },
    {
     "name": "stdout",
     "output_type": "stream",
     "text": [
      "Validation Loss=-1.4210, Validation Accuracy=0.3726, Validation Pearson=0.2909\n",
      "Epoch 4/20\n"
     ]
    },
    {
     "name": "stderr",
     "output_type": "stream",
     "text": [
      "                                                                        \r"
     ]
    },
    {
     "name": "stdout",
     "output_type": "stream",
     "text": [
      "Train Loss=-1.4083, Train Accuracy=0.3646, Train Pearson=0.2824\n"
     ]
    },
    {
     "name": "stderr",
     "output_type": "stream",
     "text": [
      "                                                                          \r"
     ]
    },
    {
     "name": "stdout",
     "output_type": "stream",
     "text": [
      "Validation Loss=-1.4210, Validation Accuracy=0.3726, Validation Pearson=0.2909\n",
      "Epoch 5/20\n"
     ]
    },
    {
     "name": "stderr",
     "output_type": "stream",
     "text": [
      "                                                                        \r"
     ]
    },
    {
     "name": "stdout",
     "output_type": "stream",
     "text": [
      "Train Loss=-1.4084, Train Accuracy=0.3646, Train Pearson=0.2823\n"
     ]
    },
    {
     "name": "stderr",
     "output_type": "stream",
     "text": [
      "                                                                          \r"
     ]
    },
    {
     "name": "stdout",
     "output_type": "stream",
     "text": [
      "Validation Loss=-1.4210, Validation Accuracy=0.3726, Validation Pearson=0.2909\n",
      "Epoch 6/20\n"
     ]
    },
    {
     "name": "stderr",
     "output_type": "stream",
     "text": [
      "                                                                        \r"
     ]
    },
    {
     "name": "stdout",
     "output_type": "stream",
     "text": [
      "Train Loss=-1.4083, Train Accuracy=0.3646, Train Pearson=0.2823\n"
     ]
    },
    {
     "name": "stderr",
     "output_type": "stream",
     "text": [
      "                                                                          \r"
     ]
    },
    {
     "name": "stdout",
     "output_type": "stream",
     "text": [
      "Validation Loss=-1.4210, Validation Accuracy=0.3726, Validation Pearson=0.2909\n",
      "Epoch 7/20\n"
     ]
    },
    {
     "name": "stderr",
     "output_type": "stream",
     "text": [
      "                                                                        \r"
     ]
    },
    {
     "name": "stdout",
     "output_type": "stream",
     "text": [
      "Train Loss=-1.4085, Train Accuracy=0.3646, Train Pearson=0.2822\n"
     ]
    },
    {
     "name": "stderr",
     "output_type": "stream",
     "text": [
      "                                                                          \r"
     ]
    },
    {
     "name": "stdout",
     "output_type": "stream",
     "text": [
      "Validation Loss=-1.4210, Validation Accuracy=0.3726, Validation Pearson=0.2908\n",
      "Epoch 8/20\n"
     ]
    },
    {
     "name": "stderr",
     "output_type": "stream",
     "text": [
      "                                                                        \r"
     ]
    },
    {
     "name": "stdout",
     "output_type": "stream",
     "text": [
      "Train Loss=-1.4085, Train Accuracy=0.3646, Train Pearson=0.2822\n"
     ]
    },
    {
     "name": "stderr",
     "output_type": "stream",
     "text": [
      "                                                                          \r"
     ]
    },
    {
     "name": "stdout",
     "output_type": "stream",
     "text": [
      "Validation Loss=-1.4210, Validation Accuracy=0.3726, Validation Pearson=0.2908\n",
      "Epoch 9/20\n"
     ]
    },
    {
     "name": "stderr",
     "output_type": "stream",
     "text": [
      "                                                                        \r"
     ]
    },
    {
     "name": "stdout",
     "output_type": "stream",
     "text": [
      "Train Loss=-1.4083, Train Accuracy=0.3646, Train Pearson=0.2823\n"
     ]
    },
    {
     "name": "stderr",
     "output_type": "stream",
     "text": [
      "                                                                          \r"
     ]
    },
    {
     "name": "stdout",
     "output_type": "stream",
     "text": [
      "Validation Loss=-1.4210, Validation Accuracy=0.3726, Validation Pearson=0.2908\n",
      "Epoch 10/20\n"
     ]
    },
    {
     "name": "stderr",
     "output_type": "stream",
     "text": [
      "                                                                        \r"
     ]
    },
    {
     "name": "stdout",
     "output_type": "stream",
     "text": [
      "Train Loss=-1.4083, Train Accuracy=0.3646, Train Pearson=0.2823\n"
     ]
    },
    {
     "name": "stderr",
     "output_type": "stream",
     "text": [
      "                                                                          \r"
     ]
    },
    {
     "name": "stdout",
     "output_type": "stream",
     "text": [
      "Validation Loss=-1.4210, Validation Accuracy=0.3726, Validation Pearson=0.2908\n",
      "Epoch 11/20\n"
     ]
    },
    {
     "name": "stderr",
     "output_type": "stream",
     "text": [
      "                                                                        \r"
     ]
    },
    {
     "name": "stdout",
     "output_type": "stream",
     "text": [
      "Train Loss=-1.4085, Train Accuracy=0.3646, Train Pearson=0.2822\n"
     ]
    },
    {
     "name": "stderr",
     "output_type": "stream",
     "text": [
      "                                                                          \r"
     ]
    },
    {
     "name": "stdout",
     "output_type": "stream",
     "text": [
      "Validation Loss=-1.4210, Validation Accuracy=0.3726, Validation Pearson=0.2908\n",
      "Epoch 12/20\n"
     ]
    },
    {
     "name": "stderr",
     "output_type": "stream",
     "text": [
      "                                                                        \r"
     ]
    },
    {
     "name": "stdout",
     "output_type": "stream",
     "text": [
      "Train Loss=-1.4083, Train Accuracy=0.3646, Train Pearson=0.2822\n"
     ]
    },
    {
     "name": "stderr",
     "output_type": "stream",
     "text": [
      "                                                                          \r"
     ]
    },
    {
     "name": "stdout",
     "output_type": "stream",
     "text": [
      "Validation Loss=-1.4210, Validation Accuracy=0.3726, Validation Pearson=0.2908\n",
      "Epoch 13/20\n"
     ]
    },
    {
     "name": "stderr",
     "output_type": "stream",
     "text": [
      "                                                                        \r"
     ]
    },
    {
     "name": "stdout",
     "output_type": "stream",
     "text": [
      "Train Loss=-1.4085, Train Accuracy=0.3646, Train Pearson=0.2823\n"
     ]
    },
    {
     "name": "stderr",
     "output_type": "stream",
     "text": [
      "                                                                          \r"
     ]
    },
    {
     "name": "stdout",
     "output_type": "stream",
     "text": [
      "Validation Loss=-1.4210, Validation Accuracy=0.3726, Validation Pearson=0.2908\n",
      "Epoch 14/20\n"
     ]
    },
    {
     "name": "stderr",
     "output_type": "stream",
     "text": [
      "                                                                        \r"
     ]
    },
    {
     "name": "stdout",
     "output_type": "stream",
     "text": [
      "Train Loss=-1.4085, Train Accuracy=0.3646, Train Pearson=0.2823\n"
     ]
    },
    {
     "name": "stderr",
     "output_type": "stream",
     "text": [
      "                                                                          \r"
     ]
    },
    {
     "name": "stdout",
     "output_type": "stream",
     "text": [
      "Validation Loss=-1.4210, Validation Accuracy=0.3726, Validation Pearson=0.2908\n",
      "Epoch 15/20\n"
     ]
    },
    {
     "name": "stderr",
     "output_type": "stream",
     "text": [
      "                                                                        \r"
     ]
    },
    {
     "name": "stdout",
     "output_type": "stream",
     "text": [
      "Train Loss=-1.4082, Train Accuracy=0.3646, Train Pearson=0.2822\n"
     ]
    },
    {
     "name": "stderr",
     "output_type": "stream",
     "text": [
      "                                                                          \r"
     ]
    },
    {
     "name": "stdout",
     "output_type": "stream",
     "text": [
      "Validation Loss=-1.4210, Validation Accuracy=0.3726, Validation Pearson=0.2908\n",
      "Epoch 16/20\n"
     ]
    },
    {
     "name": "stderr",
     "output_type": "stream",
     "text": [
      "                                                                        \r"
     ]
    },
    {
     "name": "stdout",
     "output_type": "stream",
     "text": [
      "Train Loss=-1.4084, Train Accuracy=0.3646, Train Pearson=0.2823\n"
     ]
    },
    {
     "name": "stderr",
     "output_type": "stream",
     "text": [
      "                                                                          \r"
     ]
    },
    {
     "name": "stdout",
     "output_type": "stream",
     "text": [
      "Validation Loss=-1.4210, Validation Accuracy=0.3726, Validation Pearson=0.2908\n",
      "Epoch 17/20\n"
     ]
    },
    {
     "name": "stderr",
     "output_type": "stream",
     "text": [
      "                                                                        \r"
     ]
    },
    {
     "name": "stdout",
     "output_type": "stream",
     "text": [
      "Train Loss=-1.4086, Train Accuracy=0.3646, Train Pearson=0.2823\n"
     ]
    },
    {
     "name": "stderr",
     "output_type": "stream",
     "text": [
      "                                                                          \r"
     ]
    },
    {
     "name": "stdout",
     "output_type": "stream",
     "text": [
      "Validation Loss=-1.4210, Validation Accuracy=0.3726, Validation Pearson=0.2908\n",
      "Epoch 18/20\n"
     ]
    },
    {
     "name": "stderr",
     "output_type": "stream",
     "text": [
      "                                                                        \r"
     ]
    },
    {
     "name": "stdout",
     "output_type": "stream",
     "text": [
      "Train Loss=-1.4085, Train Accuracy=0.3646, Train Pearson=0.2822\n"
     ]
    },
    {
     "name": "stderr",
     "output_type": "stream",
     "text": [
      "                                                                          \r"
     ]
    },
    {
     "name": "stdout",
     "output_type": "stream",
     "text": [
      "Validation Loss=-1.4210, Validation Accuracy=0.3726, Validation Pearson=0.2908\n",
      "Early stopping triggered.\n",
      "Training Complete\n"
     ]
    },
    {
     "data": {
      "image/png": "[encoded data removed]",
      "text/plain": [
       "<Figure size 1800x600 with 3 Axes>"
      ]
     },
     "metadata": {},
     "output_type": "display_data"
    }
   ],
   "source": [
    "# 运行训练过程并获取分类报告数据、训练损失和验证损失\n",
    "import matplotlib.pyplot as plt\n",
    "from transformers import BertConfig, BertTokenizer\n",
    "\n",
    "tokenizer = BertTokenizer.from_pretrained('model/bert-base-chinese')  \n",
    "model = BertClassifier(BertConfig.from_pretrained('model/bert-base-chinese'), num_labels=6)  \n",
    "train_dataset = _2016Dataset('data/train.json', tokenizer)\n",
    "val_dataset = _2016Dataset('data/test.json', tokenizer)\n",
    "# 调用训练函数\n",
    "train_losses, train_accuracies, train_pearsons, val_accuracies, val_pearsons = train(\n",
    "    model, \n",
    "    train_dataset, \n",
    "    val_dataset, \n",
    "    epochs=20, \n",
    "    batch_size=8, \n",
    "    learning_rate=2e-5\n",
    ")\n",
    "\n",
    "# 绘制训练过程中的 Loss、Accuracy 和 Pearson Coefficient 曲线\n",
    "plt.figure(figsize=(18, 6))\n",
    "\n",
    "# Loss 曲线\n",
    "plt.subplot(1, 3, 1)\n",
    "plt.plot(range(1, len(train_losses) + 1), train_losses, label=\"Train Loss\", marker=\"o\")\n",
    "plt.xlabel(\"Epoch\")\n",
    "plt.ylabel(\"Loss\")\n",
    "plt.title(\"Training Loss\")\n",
    "plt.legend()\n",
    "\n",
    "# Accuracy 曲线\n",
    "plt.subplot(1, 3, 2)\n",
    "plt.plot(range(1, len(train_accuracies) + 1), train_accuracies, label=\"Train Accuracy\", marker=\"o\")\n",
    "plt.plot(range(1, len(val_accuracies) + 1), val_accuracies, label=\"Validation Accuracy\", marker=\"o\")\n",
    "plt.xlabel(\"Epoch\")\n",
    "plt.ylabel(\"Accuracy\")\n",
    "plt.title(\"Train & Validation Accuracy\")\n",
    "plt.legend()\n",
    "\n",
    "# Pearson Coefficient 曲线\n",
    "plt.subplot(1, 3, 3)\n",
    "plt.plot(range(1, len(train_pearsons) + 1), train_pearsons, label=\"Train Pearson\", marker=\"o\")\n",
    "plt.plot(range(1, len(val_pearsons) + 1), val_pearsons, label=\"Validation Pearson\", marker=\"o\")\n",
    "plt.xlabel(\"Epoch\")\n",
    "plt.ylabel(\"Pearson Coefficient\")\n",
    "plt.title(\"Train & Validation Pearson Coefficient\")\n",
    "plt.legend()\n",
    "\n",
    "plt.tight_layout()\n",
    "plt.show()\n"
   ]
  }
 ],
 "metadata": {
  "kernelspec": {
   "display_name": "LLM",
   "language": "python",
   "name": "python3"
  },
  "language_info": {
   "codemirror_mode": {
    "name": "ipython",
    "version": 3
   },
   "file_extension": ".py",
   "mimetype": "text/x-python",
   "name": "python",
   "nbconvert_exporter": "python",
   "pygments_lexer": "ipython3",
   "version": "3.11.11"
  }
 },
 "nbformat": 4,
 "nbformat_minor": 2
}
