{
 "cells": [
  {
   "cell_type": "code",
   "execution_count": 53,
   "metadata": {},
   "outputs": [],
   "source": [
    "import torch.nn as nn\n",
    "from transformers import BertModel\n",
    "\n",
    "# Bert\n",
    "\n",
    "class BertClassifier(nn.Module):\n",
    "    def __init__(self, bert_config, num_labels):\n",
    "        super().__init__()\n",
    "        # 定义BERT模型\n",
    "        self.bert = BertModel(config=bert_config)\n",
    "        # 定义Dropout层\n",
    "        self.dropout = nn.Dropout(p=0.2)  # Dropout概率为0.2\n",
    "        # 定义分类器\n",
    "        self.classifier = nn.Linear(bert_config.hidden_size, num_labels)\n",
    "\n",
    "    def forward(self, input_ids, attention_mask, token_type_ids):\n",
    "        # BERT的输出\n",
    "        bert_output = self.bert(input_ids=input_ids, attention_mask=attention_mask, token_type_ids=token_type_ids)\n",
    "        # 取[CLS]位置的pooled output\n",
    "        pooled = bert_output[1]\n",
    "        # 在pooled output上应用Dropout\n",
    "        pooled = self.dropout(pooled)\n",
    "        # 分类\n",
    "        logits = self.classifier(pooled)\n",
    "        # 返回结果\n",
    "        return logits\n",
    "\n",
    "\n",
    "# Bert+BiLSTM，用法与BertClassifier一样，可直接在train里面调用\n",
    "class BertLstmClassifier(nn.Module):\n",
    "    def __init__(self, bert_config, num_labels):\n",
    "        super().__init__()\n",
    "        self.bert = BertModel(config=bert_config)\n",
    "        self.lstm = nn.LSTM(input_size=bert_config.hidden_size, hidden_size=bert_config.hidden_size, num_layers=2, batch_first=True, bidirectional=True)\n",
    "        self.classifier = nn.Linear(bert_config.hidden_size*2, num_labels)  # 双向LSTM 需要乘以2\n",
    "\n",
    "    def forward(self, input_ids, attention_mask, token_type_ids):\n",
    "        outputs = self.bert(input_ids=input_ids, attention_mask=attention_mask, token_type_ids=token_type_ids)\n",
    "        last_hidden_state = outputs.last_hidden_state\n",
    "        out, _ = self.lstm(last_hidden_state)\n",
    "        logits = self.classifier(out[:, -1, :]) # 取最后时刻的输出\n",
    "        return logits\n"
   ]
  },
  {
   "cell_type": "code",
   "execution_count": 54,
   "metadata": {},
   "outputs": [
    {
     "name": "stdout",
     "output_type": "stream",
     "text": [
      "数据集划分完成：\n",
      "训练集保存在 data/train.json\n",
      "测试集保存在 data/test.json\n"
     ]
    }
   ],
   "source": [
    "import json\n",
    "\n",
    "# 假设你的 JSON 数据存储在一个文件中\n",
    "input_file = 'data/2016.json'  # 替换为你的 JSON 文件路径\n",
    "output_train_file = 'data/train.json'\n",
    "output_test_file = 'data/test.json'\n",
    "\n",
    "# 读取 JSON 数据\n",
    "with open(input_file, 'r', encoding='utf-8') as f:\n",
    "    data = json.load(f)\n",
    "\n",
    "# 确保数据是一个列表\n",
    "if isinstance(data, list):\n",
    "    # 划分数据集\n",
    "    train_data = data[:3109]\n",
    "    test_data = data[3109:]\n",
    "\n",
    "    # 保存训练集和测试集到文件\n",
    "    with open(output_train_file, 'w', encoding='utf-8') as f_train:\n",
    "        json.dump(train_data, f_train, ensure_ascii=False, indent=4)\n",
    "\n",
    "    with open(output_test_file, 'w', encoding='utf-8') as f_test:\n",
    "        json.dump(test_data, f_test, ensure_ascii=False, indent=4)\n",
    "\n",
    "    print(f\"数据集划分完成：\\n训练集保存在 {output_train_file}\\n测试集保存在 {output_test_file}\")\n",
    "else:\n",
    "    print(\"JSON 数据不是列表格式，无法划分数据集。\")"
   ]
  },
  {
   "cell_type": "code",
   "execution_count": 55,
   "metadata": {},
   "outputs": [
    {
     "name": "stdout",
     "output_type": "stream",
     "text": [
      "loading data from: test_data.json\n"
     ]
    },
    {
     "name": "stderr",
     "output_type": "stream",
     "text": [
      "100%|██████████| 1/1 [00:00<00:00, 1079.34it/s]"
     ]
    },
    {
     "name": "stdout",
     "output_type": "stream",
     "text": [
      "Input IDs: [ 101 6857 3221  671 5063 5080 1606 4638 3152 4995  102    0    0    0\n",
      "    0    0    0    0    0    0    0    0    0    0    0    0    0    0\n",
      "    0    0    0    0    0    0    0    0    0    0    0    0    0    0\n",
      "    0    0    0    0    0    0    0    0    0    0    0    0    0    0\n",
      "    0    0    0    0    0    0    0    0    0    0    0    0    0    0\n",
      "    0    0    0    0    0    0    0    0    0    0    0    0    0    0\n",
      "    0    0    0    0    0    0    0    0    0    0    0    0    0    0\n",
      "    0    0    0    0    0    0    0    0    0    0    0    0    0    0\n",
      "    0    0    0    0    0    0    0    0    0    0    0    0    0    0\n",
      "    0    0    0    0    0    0    0    0    0    0    0    0    0    0\n",
      "    0    0    0    0    0    0    0    0    0    0    0    0    0    0\n",
      "    0    0    0    0    0    0    0    0    0    0    0    0    0    0\n",
      "    0    0    0    0    0    0    0    0    0    0    0    0    0    0\n",
      "    0    0    0    0    0    0    0    0    0    0    0    0    0    0\n",
      "    0    0    0    0    0    0    0    0    0    0    0    0    0    0\n",
      "    0    0    0    0    0    0    0    0    0    0    0    0    0    0\n",
      "    0    0    0    0    0    0    0    0    0    0    0    0    0    0\n",
      "    0    0    0    0    0    0    0    0    0    0    0    0    0    0\n",
      "    0    0    0    0    0    0    0    0    0    0    0    0    0    0\n",
      "    0    0    0    0    0    0    0    0    0    0    0    0    0    0\n",
      "    0    0    0    0    0    0    0    0    0    0    0    0    0    0\n",
      "    0    0    0    0    0    0    0    0    0    0    0    0    0    0\n",
      "    0    0    0    0    0    0    0    0    0    0    0    0    0    0\n",
      "    0    0    0    0    0    0    0    0    0    0    0    0    0    0\n",
      "    0    0    0    0    0    0    0    0    0    0    0    0    0    0\n",
      "    0    0    0    0    0    0    0    0    0    0    0    0    0    0\n",
      "    0    0    0    0    0    0    0    0    0    0    0    0    0    0\n",
      "    0    0    0    0    0    0    0    0    0    0    0    0    0    0\n",
      "    0    0    0    0    0    0    0    0    0    0    0    0    0    0\n",
      "    0    0    0    0    0    0    0    0    0    0    0    0    0    0\n",
      "    0    0    0    0    0    0    0    0    0    0    0    0    0    0\n",
      "    0    0    0    0    0    0    0    0    0    0    0    0    0    0\n",
      "    0    0    0    0    0    0    0    0    0    0    0    0    0    0\n",
      "    0    0    0    0    0    0    0    0    0    0    0    0    0    0\n",
      "    0    0    0    0    0    0    0    0    0    0    0    0    0    0\n",
      "    0    0    0    0    0    0    0    0    0    0    0    0    0    0\n",
      "    0    0    0    0    0    0    0    0]\n",
      "Token Type IDs: [0 0 0 0 0 0 0 0 0 0 0 0 0 0 0 0 0 0 0 0 0 0 0 0 0 0 0 0 0 0 0 0 0 0 0 0 0\n",
      " 0 0 0 0 0 0 0 0 0 0 0 0 0 0 0 0 0 0 0 0 0 0 0 0 0 0 0 0 0 0 0 0 0 0 0 0 0\n",
      " 0 0 0 0 0 0 0 0 0 0 0 0 0 0 0 0 0 0 0 0 0 0 0 0 0 0 0 0 0 0 0 0 0 0 0 0 0\n",
      " 0 0 0 0 0 0 0 0 0 0 0 0 0 0 0 0 0 0 0 0 0 0 0 0 0 0 0 0 0 0 0 0 0 0 0 0 0\n",
      " 0 0 0 0 0 0 0 0 0 0 0 0 0 0 0 0 0 0 0 0 0 0 0 0 0 0 0 0 0 0 0 0 0 0 0 0 0\n",
      " 0 0 0 0 0 0 0 0 0 0 0 0 0 0 0 0 0 0 0 0 0 0 0 0 0 0 0 0 0 0 0 0 0 0 0 0 0\n",
      " 0 0 0 0 0 0 0 0 0 0 0 0 0 0 0 0 0 0 0 0 0 0 0 0 0 0 0 0 0 0 0 0 0 0 0 0 0\n",
      " 0 0 0 0 0 0 0 0 0 0 0 0 0 0 0 0 0 0 0 0 0 0 0 0 0 0 0 0 0 0 0 0 0 0 0 0 0\n",
      " 0 0 0 0 0 0 0 0 0 0 0 0 0 0 0 0 0 0 0 0 0 0 0 0 0 0 0 0 0 0 0 0 0 0 0 0 0\n",
      " 0 0 0 0 0 0 0 0 0 0 0 0 0 0 0 0 0 0 0 0 0 0 0 0 0 0 0 0 0 0 0 0 0 0 0 0 0\n",
      " 0 0 0 0 0 0 0 0 0 0 0 0 0 0 0 0 0 0 0 0 0 0 0 0 0 0 0 0 0 0 0 0 0 0 0 0 0\n",
      " 0 0 0 0 0 0 0 0 0 0 0 0 0 0 0 0 0 0 0 0 0 0 0 0 0 0 0 0 0 0 0 0 0 0 0 0 0\n",
      " 0 0 0 0 0 0 0 0 0 0 0 0 0 0 0 0 0 0 0 0 0 0 0 0 0 0 0 0 0 0 0 0 0 0 0 0 0\n",
      " 0 0 0 0 0 0 0 0 0 0 0 0 0 0 0 0 0 0 0 0 0 0 0 0 0 0 0 0 0 0 0]\n",
      "Attention Mask: [1 1 1 1 1 1 1 1 1 1 1 0 0 0 0 0 0 0 0 0 0 0 0 0 0 0 0 0 0 0 0 0 0 0 0 0 0\n",
      " 0 0 0 0 0 0 0 0 0 0 0 0 0 0 0 0 0 0 0 0 0 0 0 0 0 0 0 0 0 0 0 0 0 0 0 0 0\n",
      " 0 0 0 0 0 0 0 0 0 0 0 0 0 0 0 0 0 0 0 0 0 0 0 0 0 0 0 0 0 0 0 0 0 0 0 0 0\n",
      " 0 0 0 0 0 0 0 0 0 0 0 0 0 0 0 0 0 0 0 0 0 0 0 0 0 0 0 0 0 0 0 0 0 0 0 0 0\n",
      " 0 0 0 0 0 0 0 0 0 0 0 0 0 0 0 0 0 0 0 0 0 0 0 0 0 0 0 0 0 0 0 0 0 0 0 0 0\n",
      " 0 0 0 0 0 0 0 0 0 0 0 0 0 0 0 0 0 0 0 0 0 0 0 0 0 0 0 0 0 0 0 0 0 0 0 0 0\n",
      " 0 0 0 0 0 0 0 0 0 0 0 0 0 0 0 0 0 0 0 0 0 0 0 0 0 0 0 0 0 0 0 0 0 0 0 0 0\n",
      " 0 0 0 0 0 0 0 0 0 0 0 0 0 0 0 0 0 0 0 0 0 0 0 0 0 0 0 0 0 0 0 0 0 0 0 0 0\n",
      " 0 0 0 0 0 0 0 0 0 0 0 0 0 0 0 0 0 0 0 0 0 0 0 0 0 0 0 0 0 0 0 0 0 0 0 0 0\n",
      " 0 0 0 0 0 0 0 0 0 0 0 0 0 0 0 0 0 0 0 0 0 0 0 0 0 0 0 0 0 0 0 0 0 0 0 0 0\n",
      " 0 0 0 0 0 0 0 0 0 0 0 0 0 0 0 0 0 0 0 0 0 0 0 0 0 0 0 0 0 0 0 0 0 0 0 0 0\n",
      " 0 0 0 0 0 0 0 0 0 0 0 0 0 0 0 0 0 0 0 0 0 0 0 0 0 0 0 0 0 0 0 0 0 0 0 0 0\n",
      " 0 0 0 0 0 0 0 0 0 0 0 0 0 0 0 0 0 0 0 0 0 0 0 0 0 0 0 0 0 0 0 0 0 0 0 0 0\n",
      " 0 0 0 0 0 0 0 0 0 0 0 0 0 0 0 0 0 0 0 0 0 0 0 0 0 0 0 0 0 0 0]\n",
      "Label ID: 0\n",
      "Label Scores: tensor([0.5000, 0.3333, 0.1667, 0.0000, 0.0000, 0.0000])\n"
     ]
    },
    {
     "name": "stderr",
     "output_type": "stream",
     "text": [
      "\n"
     ]
    }
   ],
   "source": [
    "import json\n",
    "import numpy as np\n",
    "from tqdm import tqdm\n",
    "from torch.utils.data import Dataset\n",
    "import torch\n",
    "\n",
    "class SinaNewsDataset(Dataset):\n",
    "    def __init__(self,filename,tokenizer):\n",
    "        \n",
    "        self.labels = [\"moved\",\"angry\",\"funny\",\"sad\",\"novel\",\"shocked\"]\n",
    "        self.labels_id  = list(range(len(self.labels)))\n",
    "        self.tokenizer = tokenizer\n",
    "        self.input_ids = []\n",
    "        self.token_type_ids = []\n",
    "        self.attention_mask = []\n",
    "        self.label_id = []\n",
    "        self.label_scores = []\n",
    "        self.load_data(filename)\n",
    "        \n",
    "    def load_data(self,filename):\n",
    "        print('loading data from:', filename)\n",
    "        with open(filename,'r',encoding='utf-8') as f:\n",
    "            data = json.load(f)\n",
    "        for item in tqdm(data):\n",
    "            emotions = {k: v for k, v in item.items() if k in self.labels}\n",
    "            label = max(emotions, key=emotions.get)\n",
    "            text = item['news']\n",
    "            label_id = self.labels.index(label)\n",
    "            token = self.tokenizer(text, add_special_tokens=True, padding='max_length', truncation=True, max_length=512)\n",
    "            self.input_ids.append(np.array(token['input_ids']))\n",
    "            self.token_type_ids.append(np.array(token['token_type_ids']))\n",
    "            self.attention_mask.append(np.array(token['attention_mask']))\n",
    "            self.label_id.append(label_id)\n",
    "            \n",
    "            ## 添加的部分\n",
    "            total = int(item[\"Total\"])\n",
    "            if total > 0:\n",
    "                scores =torch.tensor([emotions[label] for label in self.labels], dtype=torch.float32)\n",
    "                # label_vector = torch.softmax(scores,dim=0)  # 使用 softmax 归一化 \n",
    "                label_vector = (scores / scores.sum())\n",
    "            else:\n",
    "                label_vector = [0.0] * len(self.labels)  # 如果 Total 为 0，所有情感归为 0\n",
    "            self.label_scores.append(label_vector)\n",
    "            \n",
    "    def __getitem__(self, index):\n",
    "        return self.input_ids[index], self.token_type_ids[index], self.attention_mask[index], self.label_id[index],self.label_scores[index],\n",
    "\n",
    "    def __len__(self):\n",
    "        return len(self.input_ids)\n",
    "    \n",
    "from transformers import BertTokenizer\n",
    "   \n",
    "def test_sina_news_dataset():\n",
    "    # 创建一个测试数据文件\n",
    "    test_data = [\n",
    "        {\n",
    "            \"news\": \"這是一篇簡單的文章\",\n",
    "            \"moved\": 3,\n",
    "            \"angry\": 2,\n",
    "            \"funny\": 1,\n",
    "            \"sad\": 0,\n",
    "            \"novel\": 0,\n",
    "            \"shocked\": 0,\n",
    "            \"Total\": 6\n",
    "        }\n",
    "    ]\n",
    "\n",
    "    test_filename = 'test_data.json'\n",
    "    with open(test_filename, 'w', encoding='utf-8') as f:\n",
    "        json.dump(test_data, f, ensure_ascii=False, indent=4)\n",
    "\n",
    "\n",
    "    # 使用 BertTokenizer\n",
    "    tokenizer = BertTokenizer.from_pretrained('model/bert-base-chinese')\n",
    "\n",
    "    # 加载数据集\n",
    "    dataset = SinaNewsDataset(test_filename, tokenizer)\n",
    "\n",
    "    # 打印第一行\n",
    "    first_item = dataset[0]\n",
    "    print(\"Input IDs:\", first_item[0])\n",
    "    print(\"Token Type IDs:\", first_item[1])\n",
    "    print(\"Attention Mask:\", first_item[2])\n",
    "    print(\"Label ID:\", first_item[3])\n",
    "    print(\"Label Scores:\", first_item[4])\n",
    "\n",
    "# 调用测试函数\n",
    "test_sina_news_dataset()"
   ]
  },
  {
   "cell_type": "code",
   "execution_count": 56,
   "metadata": {},
   "outputs": [],
   "source": [
    "import os\n",
    "import torch\n",
    "import torch.nn as nn\n",
    "from transformers import BertTokenizer, BertConfig\n",
    "from torch.utils.data import DataLoader\n",
    "from tqdm import tqdm\n",
    "from sklearn import metrics\n",
    "from scipy.stats import pearsonr\n",
    "from torch.optim import AdamW\n",
    "import torch.nn.functional as F\n",
    "\n",
    "def calculate_acc1(pred_labels, labels_score):\n",
    "    \"\"\"\n",
    "    计算 ACC@1\n",
    "    :param pred_labels: 模型预测的标签 (Tensor)\n",
    "    :param labels_score: 真实标签的分数 (Tensor 或列表)\n",
    "    :return: 当前 batch 的 ACC@1\n",
    "    \"\"\"\n",
    "    correct = 0  # 正确计数\n",
    "    batch_size = len(pred_labels)  # 批次大小\n",
    "    label_id_rank = torch.argsort(labels_score, dim=1, descending=True)  # 对情感进行排序\n",
    "    for i in range(batch_size):\n",
    "        pred_label = pred_labels[i].item()\n",
    "        true_rank = label_id_rank[i]\n",
    "        scores = labels_score[i]\n",
    "\n",
    "        # 判断预测是否正确\n",
    "        for rank_idx in range(len(true_rank)):\n",
    "            if scores[true_rank[rank_idx]] == scores[true_rank[0]]:  # 判断是否与第一分数相同\n",
    "                if pred_label == true_rank[rank_idx]:  # 检查预测是否在相同分数的排名中\n",
    "                    correct += 1\n",
    "                    break  # 预测正确，跳出循环\n",
    "            else:\n",
    "                break  # 一旦分数不同，结束判断\n",
    "\n",
    "    return correct / batch_size  # 返回准确率\n",
    "\n",
    "\n",
    "\n",
    "\n",
    "def train(learning_rate = 1e-5):\n",
    "    MODEL_PATH = 'model/bert-base-chinese'\n",
    "    DATA_PATH = 'data/'\n",
    "    batch_size = 64\n",
    "    device = 'cuda' if torch.cuda.is_available() else 'cpu'\n",
    "    epochs = 20\n",
    "        # Learning Rate不宜太大\n",
    "    tokenizer = BertTokenizer.from_pretrained(MODEL_PATH)\n",
    "\n",
    "    train_dataset = SinaNewsDataset(DATA_PATH + 'train.json', tokenizer)\n",
    "    valid_dataset = SinaNewsDataset(DATA_PATH + 'test.json', tokenizer)\n",
    "\n",
    "    bert_config = BertConfig.from_pretrained(MODEL_PATH)\n",
    "    num_labels = len(train_dataset.labels)\n",
    "\n",
    "    model = BertClassifier(bert_config, num_labels).to(device)\n",
    "    model.bert = BertModel.from_pretrained(MODEL_PATH).to(device)\n",
    "    model = nn.DataParallel(model)\n",
    "    optimizer = AdamW(model.parameters(), lr=learning_rate,)\n",
    "    # criterion = nn.CrossEntropyLoss()\n",
    "    criterion = nn.KLDivLoss(reduction='batchmean') ## 使用 KLDivLoss 作为损失函数\n",
    "\n",
    "    best_f1 = 0\n",
    "\n",
    "    metrics_history = {\n",
    "        'train_accuracy': [],\n",
    "        'train_pearson': [],\n",
    "        'valid_accuracy': [],\n",
    "        'valid_pearson': []\n",
    "    }\n",
    "\n",
    "    for epoch in range(epochs):\n",
    "        model.train()\n",
    "\n",
    "        train_dataloader = DataLoader(train_dataset, batch_size=batch_size, shuffle=True)\n",
    "        train_bar = tqdm(train_dataloader, ncols=100)\n",
    "        \n",
    "        train_losses, train_acc,train_pearson,pearson_count  = 0, 0, 0,0\n",
    "\n",
    "        for input_ids, token_type_ids, attention_mask, label_id ,labels_score in train_bar:\n",
    "            model.zero_grad()\n",
    "            train_bar.set_description(f'Epoch {epoch} train')\n",
    "\n",
    "            output = model(\n",
    "                input_ids=input_ids.to(device),\n",
    "                attention_mask=attention_mask.to(device),\n",
    "                token_type_ids=token_type_ids.to(device),\n",
    "            )\n",
    "\n",
    "            # loss = criterion(output, label_id.to(device))\n",
    "            loss = criterion(F.log_softmax(output, dim=1), labels_score.to(device))\n",
    "            train_losses += loss.item()\n",
    "            \n",
    "            pred_labels = torch.argmax(output, dim=1)\n",
    "            acc = calculate_acc1(pred_labels, labels_score)\n",
    "            train_acc += acc\n",
    "            logits = output.clone().detach()\n",
    "            \n",
    "            for i in range(logits.size(0)):\n",
    "                pearson, _ = pearsonr(logits[i].cpu().numpy(), labels_score[i].cpu().detach().numpy())\n",
    "                train_pearson += pearson\n",
    "                pearson_count += 1\n",
    "                \n",
    "            \n",
    "            loss.backward()\n",
    "            optimizer.step()\n",
    "            train_bar.set_postfix(loss=loss.item(), acc=acc)\n",
    "            \n",
    "        train_pearson = train_pearson / pearson_count\n",
    "        train_accuracy = train_acc / len(train_dataloader)\n",
    "        metrics_history['train_accuracy'].append(train_accuracy)\n",
    "        metrics_history['train_pearson'].append(train_pearson)\n",
    "        print(f'\\tTrain ACC: {train_accuracy}, Train Pearson: {train_pearson}')\n",
    "        # Validation\n",
    "        model.eval()\n",
    "        \n",
    "        valid_dataloader = DataLoader(valid_dataset, batch_size=batch_size, shuffle=False)\n",
    "        valid_bar = tqdm(valid_dataloader, ncols=100)\n",
    "        \n",
    "        valid_losses, valid_acc,valid_pearson, pearson_count,valid_preds, valid_labels = 0, 0,0,0, [], []\n",
    "\n",
    "        for input_ids, token_type_ids, attention_mask, label_id,labels_score in valid_bar:\n",
    "            valid_bar.set_description(f'Epoch {epoch} valid')\n",
    "\n",
    "            with torch.no_grad():\n",
    "                output = model(\n",
    "                    input_ids=input_ids.to(device),\n",
    "                    attention_mask=attention_mask.to(device),\n",
    "                    token_type_ids=token_type_ids.to(device),\n",
    "                )\n",
    "\n",
    "            # loss = criterion(output, label_id.to(device))\n",
    "            loss = criterion(F.log_softmax(output, dim=1), labels_score.to(device))\n",
    "\n",
    "            valid_losses += loss.item()\n",
    "\n",
    "            pred_label = torch.argmax(output, dim=1)\n",
    "            # acc = torch.sum(pred_label == label_id.to(device)).item() / len(pred_label)\n",
    "            acc = calculate_acc1(pred_label, labels_score)\n",
    "            valid_acc += acc\n",
    "            logits = output.clone()\n",
    "            for i in range(logits.size(0)):\n",
    "                    pearson, _ = pearsonr(logits[i].cpu().numpy(), labels_score[i].cpu().numpy())\n",
    "                    valid_pearson += pearson\n",
    "                    pearson_count += 1\n",
    "\n",
    "            valid_preds.extend(pred_label.cpu().numpy())\n",
    "            valid_labels.extend(label_id.cpu().numpy())\n",
    "            valid_bar.set_postfix(loss=loss.item(), acc=acc)\n",
    "\n",
    "        \n",
    "        valid_pearson = valid_pearson / pearson_count\n",
    "        valid_accuracy = valid_acc / len(valid_dataloader)\n",
    "        metrics_history['valid_accuracy'].append(valid_accuracy)\n",
    "        metrics_history['valid_pearson'].append(valid_pearson)\n",
    "        print(f'\\tValid ACC: {valid_accuracy}, Valid Pearson: {valid_pearson}')\n",
    "\n",
    "        report = metrics.classification_report(valid_labels, valid_preds, labels=valid_dataset.labels_id, target_names=valid_dataset.labels)\n",
    "        print('* Classification Report:')\n",
    "        print(report)\n",
    "\n",
    "        f1 = metrics.f1_score(valid_labels, valid_preds, labels=valid_dataset.labels_id, average='micro')\n",
    "\n",
    "        if not os.path.exists('models'):\n",
    "            os.makedirs('models')\n",
    "\n",
    "        if f1 > best_f1:\n",
    "            best_f1 = f1\n",
    "            torch.save(model.state_dict(), 'model/best_model.pkl')\n",
    "\n",
    "    return metrics_history\n",
    "\n",
    "        "
   ]
  },
  {
   "cell_type": "code",
   "execution_count": 57,
   "metadata": {},
   "outputs": [],
   "source": [
    "# import matplotlib.pyplot as plt\n",
    "\n",
    "# learning_rate = [5e-7,1e-6,2e-6,5e-6,1e-5,2e-5,5e-5,1e-4,1e-3]\n",
    "# metrics_historys = []\n",
    "# for lr in learning_rate:\n",
    "#     metrics_historys.append(train(lr))\n",
    "    \n",
    "# # 提取每个学习率的最大验证集准确率和皮尔逊系数\n",
    "# max_valid_accuracy = [max(history['valid_accuracy']) for history in metrics_historys]\n",
    "# max_valid_pearson = [max(history['valid_pearson']) for history in metrics_historys]\n",
    "\n",
    "# # 保存图表为文件\n",
    "# plt.figure(figsize=(12, 6))\n",
    "\n",
    "# # 验证集准确率\n",
    "# plt.subplot(1, 2, 1)\n",
    "# plt.plot(learning_rate, max_valid_accuracy, marker='o')\n",
    "# plt.xscale('log')\n",
    "# plt.xlabel('Learning Rate (log scale)')\n",
    "# plt.ylabel('Max Validation Accuracy')\n",
    "# plt.title('Max Validation Accuracy vs Learning Rate')\n",
    "# plt.grid(True)\n",
    "\n",
    "# # 验证集皮尔逊系数\n",
    "# plt.subplot(1, 2, 2)\n",
    "# plt.plot(learning_rate, max_valid_pearson, marker='o', color='orange')\n",
    "# plt.xscale('log')\n",
    "# plt.xlabel('Learning Rate (log scale)')\n",
    "# plt.ylabel('Max Validation Pearson')\n",
    "# plt.title('Max Validation Pearson vs Learning Rate')\n",
    "# plt.grid(True)\n",
    "\n",
    "# plt.tight_layout()\n",
    "# plt.savefig('learning_rate_vs_metrics.png')\n",
    "# print(\"图表已保存为 'learning_rate_vs_metrics.png' 文件。\")\n"
   ]
  },
  {
   "cell_type": "code",
   "execution_count": 58,
   "metadata": {},
   "outputs": [
    {
     "name": "stdout",
     "output_type": "stream",
     "text": [
      "loading data from: data/train.json\n"
     ]
    },
    {
     "name": "stderr",
     "output_type": "stream",
     "text": [
      "100%|██████████| 3109/3109 [00:08<00:00, 346.00it/s]\n"
     ]
    },
    {
     "name": "stdout",
     "output_type": "stream",
     "text": [
      "loading data from: data/test.json\n"
     ]
    },
    {
     "name": "stderr",
     "output_type": "stream",
     "text": [
      "100%|██████████| 2148/2148 [00:06<00:00, 318.90it/s]\n",
      "Epoch 0 train: 100%|█████████████████████████| 49/49 [00:39<00:00,  1.24it/s, acc=0.622, loss=0.311]\n"
     ]
    },
    {
     "name": "stdout",
     "output_type": "stream",
     "text": [
      "\tTrain ACC: 0.43392340044125755, Train Pearson: 0.43034813201898625\n"
     ]
    },
    {
     "name": "stderr",
     "output_type": "stream",
     "text": [
      "Epoch 0 valid: 100%|██████████████████████████| 34/34 [00:10<00:00,  3.30it/s, acc=0.611, loss=0.39]\n",
      "/home/lijianhang/anaconda3/envs/LLM/lib/python3.11/site-packages/sklearn/metrics/_classification.py:1565: UndefinedMetricWarning: Precision is ill-defined and being set to 0.0 in labels with no predicted samples. Use `zero_division` parameter to control this behavior.\n",
      "  _warn_prf(average, modifier, f\"{metric.capitalize()} is\", len(result))\n",
      "/home/lijianhang/anaconda3/envs/LLM/lib/python3.11/site-packages/sklearn/metrics/_classification.py:1565: UndefinedMetricWarning: Precision is ill-defined and being set to 0.0 in labels with no predicted samples. Use `zero_division` parameter to control this behavior.\n",
      "  _warn_prf(average, modifier, f\"{metric.capitalize()} is\", len(result))\n",
      "/home/lijianhang/anaconda3/envs/LLM/lib/python3.11/site-packages/sklearn/metrics/_classification.py:1565: UndefinedMetricWarning: Precision is ill-defined and being set to 0.0 in labels with no predicted samples. Use `zero_division` parameter to control this behavior.\n",
      "  _warn_prf(average, modifier, f\"{metric.capitalize()} is\", len(result))\n"
     ]
    },
    {
     "name": "stdout",
     "output_type": "stream",
     "text": [
      "\tValid ACC: 0.6075878267973857, Valid Pearson: 0.6323948589513975\n",
      "* Classification Report:\n",
      "              precision    recall  f1-score   support\n",
      "\n",
      "       moved       0.71      0.57      0.63       365\n",
      "       angry       0.66      0.70      0.68       837\n",
      "       funny       0.54      0.59      0.56       530\n",
      "         sad       0.49      0.65      0.56       292\n",
      "       novel       0.00      0.00      0.00        34\n",
      "     shocked       0.00      0.00      0.00        90\n",
      "\n",
      "    accuracy                           0.61      2148\n",
      "   macro avg       0.40      0.42      0.41      2148\n",
      "weighted avg       0.58      0.61      0.59      2148\n",
      "\n"
     ]
    },
    {
     "name": "stderr",
     "output_type": "stream",
     "text": [
      "Epoch 1 train: 100%|█████████████████████████| 49/49 [00:41<00:00,  1.18it/s, acc=0.568, loss=0.358]\n"
     ]
    },
    {
     "name": "stdout",
     "output_type": "stream",
     "text": [
      "\tTrain ACC: 0.6270166850523994, Train Pearson: 0.652939706660656\n"
     ]
    },
    {
     "name": "stderr",
     "output_type": "stream",
     "text": [
      "Epoch 1 valid: 100%|█████████████████████████| 34/34 [00:10<00:00,  3.19it/s, acc=0.611, loss=0.318]\n",
      "/home/lijianhang/anaconda3/envs/LLM/lib/python3.11/site-packages/sklearn/metrics/_classification.py:1565: UndefinedMetricWarning: Precision is ill-defined and being set to 0.0 in labels with no predicted samples. Use `zero_division` parameter to control this behavior.\n",
      "  _warn_prf(average, modifier, f\"{metric.capitalize()} is\", len(result))\n",
      "/home/lijianhang/anaconda3/envs/LLM/lib/python3.11/site-packages/sklearn/metrics/_classification.py:1565: UndefinedMetricWarning: Precision is ill-defined and being set to 0.0 in labels with no predicted samples. Use `zero_division` parameter to control this behavior.\n",
      "  _warn_prf(average, modifier, f\"{metric.capitalize()} is\", len(result))\n",
      "/home/lijianhang/anaconda3/envs/LLM/lib/python3.11/site-packages/sklearn/metrics/_classification.py:1565: UndefinedMetricWarning: Precision is ill-defined and being set to 0.0 in labels with no predicted samples. Use `zero_division` parameter to control this behavior.\n",
      "  _warn_prf(average, modifier, f\"{metric.capitalize()} is\", len(result))\n"
     ]
    },
    {
     "name": "stdout",
     "output_type": "stream",
     "text": [
      "\tValid ACC: 0.6585988562091503, Valid Pearson: 0.7045496482537043\n",
      "* Classification Report:\n",
      "              precision    recall  f1-score   support\n",
      "\n",
      "       moved       0.87      0.62      0.72       365\n",
      "       angry       0.71      0.74      0.73       837\n",
      "       funny       0.51      0.72      0.60       530\n",
      "         sad       0.70      0.63      0.66       292\n",
      "       novel       0.00      0.00      0.00        34\n",
      "     shocked       0.00      0.00      0.00        90\n",
      "\n",
      "    accuracy                           0.66      2148\n",
      "   macro avg       0.46      0.45      0.45      2148\n",
      "weighted avg       0.64      0.66      0.64      2148\n",
      "\n"
     ]
    },
    {
     "name": "stderr",
     "output_type": "stream",
     "text": [
      "Epoch 2 train: 100%|█████████████████████████| 49/49 [00:40<00:00,  1.21it/s, acc=0.649, loss=0.194]\n"
     ]
    },
    {
     "name": "stdout",
     "output_type": "stream",
     "text": [
      "\tTrain ACC: 0.673633135686707, Train Pearson: 0.7172889872439885\n"
     ]
    },
    {
     "name": "stderr",
     "output_type": "stream",
     "text": [
      "Epoch 2 valid: 100%|██████████████████████████| 34/34 [00:10<00:00,  3.23it/s, acc=0.75, loss=0.264]\n"
     ]
    },
    {
     "name": "stdout",
     "output_type": "stream",
     "text": [
      "\tValid ACC: 0.7026654411764706, Valid Pearson: 0.7240213957040551\n",
      "* Classification Report:\n",
      "              precision    recall  f1-score   support\n",
      "\n",
      "       moved       0.82      0.74      0.78       365\n",
      "       angry       0.69      0.86      0.76       837\n",
      "       funny       0.67      0.57      0.62       530\n",
      "         sad       0.68      0.63      0.65       292\n",
      "       novel       0.88      0.44      0.59        34\n",
      "     shocked       0.61      0.16      0.25        90\n",
      "\n",
      "    accuracy                           0.70      2148\n",
      "   macro avg       0.72      0.57      0.61      2148\n",
      "weighted avg       0.70      0.70      0.69      2148\n",
      "\n"
     ]
    },
    {
     "name": "stderr",
     "output_type": "stream",
     "text": [
      "Epoch 3 train: 100%|█████████████████████████| 49/49 [00:42<00:00,  1.16it/s, acc=0.703, loss=0.206]\n"
     ]
    },
    {
     "name": "stdout",
     "output_type": "stream",
     "text": [
      "\tTrain ACC: 0.7149148510755653, Train Pearson: 0.7568794976702693\n"
     ]
    },
    {
     "name": "stderr",
     "output_type": "stream",
     "text": [
      "Epoch 3 valid: 100%|█████████████████████████| 34/34 [00:10<00:00,  3.20it/s, acc=0.778, loss=0.229]\n"
     ]
    },
    {
     "name": "stdout",
     "output_type": "stream",
     "text": [
      "\tValid ACC: 0.7089971405228759, Valid Pearson: 0.7409965586831607\n",
      "* Classification Report:\n",
      "              precision    recall  f1-score   support\n",
      "\n",
      "       moved       0.81      0.77      0.79       365\n",
      "       angry       0.75      0.77      0.76       837\n",
      "       funny       0.63      0.69      0.66       530\n",
      "         sad       0.63      0.69      0.66       292\n",
      "       novel       0.72      0.53      0.61        34\n",
      "     shocked       0.65      0.14      0.24        90\n",
      "\n",
      "    accuracy                           0.71      2148\n",
      "   macro avg       0.70      0.60      0.62      2148\n",
      "weighted avg       0.71      0.71      0.70      2148\n",
      "\n"
     ]
    },
    {
     "name": "stderr",
     "output_type": "stream",
     "text": [
      "Epoch 4 train: 100%|██████████████████████████| 49/49 [00:41<00:00,  1.18it/s, acc=0.73, loss=0.168]\n"
     ]
    },
    {
     "name": "stdout",
     "output_type": "stream",
     "text": [
      "\tTrain ACC: 0.7502240761169332, Train Pearson: 0.7794378973072644\n"
     ]
    },
    {
     "name": "stderr",
     "output_type": "stream",
     "text": [
      "Epoch 4 valid: 100%|██████████████████████████| 34/34 [00:10<00:00,  3.21it/s, acc=0.75, loss=0.236]\n"
     ]
    },
    {
     "name": "stdout",
     "output_type": "stream",
     "text": [
      "\tValid ACC: 0.7123161764705882, Valid Pearson: 0.7483639899425777\n",
      "* Classification Report:\n",
      "              precision    recall  f1-score   support\n",
      "\n",
      "       moved       0.83      0.74      0.79       365\n",
      "       angry       0.74      0.78      0.76       837\n",
      "       funny       0.63      0.69      0.66       530\n",
      "         sad       0.69      0.67      0.68       292\n",
      "       novel       0.50      0.56      0.53        34\n",
      "     shocked       0.53      0.26      0.35        90\n",
      "\n",
      "    accuracy                           0.71      2148\n",
      "   macro avg       0.66      0.62      0.63      2148\n",
      "weighted avg       0.71      0.71      0.71      2148\n",
      "\n"
     ]
    },
    {
     "name": "stderr",
     "output_type": "stream",
     "text": [
      "Epoch 5 train: 100%|█████████████████████████| 49/49 [00:41<00:00,  1.18it/s, acc=0.892, loss=0.136]\n"
     ]
    },
    {
     "name": "stdout",
     "output_type": "stream",
     "text": [
      "\tTrain ACC: 0.778724834528406, Train Pearson: 0.8011866645483028\n"
     ]
    },
    {
     "name": "stderr",
     "output_type": "stream",
     "text": [
      "Epoch 5 valid: 100%|█████████████████████████| 34/34 [00:11<00:00,  2.96it/s, acc=0.806, loss=0.209]\n"
     ]
    },
    {
     "name": "stdout",
     "output_type": "stream",
     "text": [
      "\tValid ACC: 0.71624795751634, Valid Pearson: 0.744347508159327\n",
      "* Classification Report:\n",
      "              precision    recall  f1-score   support\n",
      "\n",
      "       moved       0.81      0.76      0.79       365\n",
      "       angry       0.74      0.81      0.77       837\n",
      "       funny       0.67      0.64      0.66       530\n",
      "         sad       0.63      0.71      0.67       292\n",
      "       novel       0.62      0.47      0.53        34\n",
      "     shocked       0.56      0.22      0.32        90\n",
      "\n",
      "    accuracy                           0.71      2148\n",
      "   macro avg       0.67      0.60      0.62      2148\n",
      "weighted avg       0.71      0.71      0.71      2148\n",
      "\n"
     ]
    },
    {
     "name": "stderr",
     "output_type": "stream",
     "text": [
      "Epoch 6 train: 100%|█████████████████████████| 49/49 [00:41<00:00,  1.19it/s, acc=0.811, loss=0.139]\n"
     ]
    },
    {
     "name": "stdout",
     "output_type": "stream",
     "text": [
      "\tTrain ACC: 0.8118277716492003, Train Pearson: 0.8226997609648641\n"
     ]
    },
    {
     "name": "stderr",
     "output_type": "stream",
     "text": [
      "Epoch 6 valid: 100%|█████████████████████████| 34/34 [00:10<00:00,  3.21it/s, acc=0.806, loss=0.201]\n"
     ]
    },
    {
     "name": "stdout",
     "output_type": "stream",
     "text": [
      "\tValid ACC: 0.7015420751633987, Valid Pearson: 0.7299127774593596\n",
      "* Classification Report:\n",
      "              precision    recall  f1-score   support\n",
      "\n",
      "       moved       0.83      0.75      0.79       365\n",
      "       angry       0.79      0.69      0.74       837\n",
      "       funny       0.62      0.72      0.67       530\n",
      "         sad       0.58      0.75      0.65       292\n",
      "       novel       0.50      0.56      0.53        34\n",
      "     shocked       0.53      0.28      0.36        90\n",
      "\n",
      "    accuracy                           0.70      2148\n",
      "   macro avg       0.64      0.63      0.62      2148\n",
      "weighted avg       0.71      0.70      0.70      2148\n",
      "\n"
     ]
    },
    {
     "name": "stderr",
     "output_type": "stream",
     "text": [
      "Epoch 7 train: 100%|██████████████████████████| 49/49 [00:41<00:00,  1.18it/s, acc=0.703, loss=0.17]\n"
     ]
    },
    {
     "name": "stdout",
     "output_type": "stream",
     "text": [
      "\tTrain ACC: 0.825565361279647, Train Pearson: 0.832343722555536\n"
     ]
    },
    {
     "name": "stderr",
     "output_type": "stream",
     "text": [
      "Epoch 7 valid: 100%|██████████████████████████| 34/34 [00:10<00:00,  3.22it/s, acc=0.75, loss=0.224]\n"
     ]
    },
    {
     "name": "stdout",
     "output_type": "stream",
     "text": [
      "\tValid ACC: 0.7205882352941176, Valid Pearson: 0.7551598482999283\n",
      "* Classification Report:\n",
      "              precision    recall  f1-score   support\n",
      "\n",
      "       moved       0.81      0.76      0.78       365\n",
      "       angry       0.72      0.85      0.78       837\n",
      "       funny       0.68      0.67      0.68       530\n",
      "         sad       0.74      0.55      0.63       292\n",
      "       novel       0.68      0.50      0.58        34\n",
      "     shocked       0.52      0.26      0.34        90\n",
      "\n",
      "    accuracy                           0.72      2148\n",
      "   macro avg       0.69      0.60      0.63      2148\n",
      "weighted avg       0.72      0.72      0.71      2148\n",
      "\n"
     ]
    },
    {
     "name": "stderr",
     "output_type": "stream",
     "text": [
      "Epoch 8 train: 100%|██████████████████████████| 49/49 [00:42<00:00,  1.16it/s, acc=0.73, loss=0.146]\n"
     ]
    },
    {
     "name": "stdout",
     "output_type": "stream",
     "text": [
      "\tTrain ACC: 0.8398286679536678, Train Pearson: 0.847169819468152\n"
     ]
    },
    {
     "name": "stderr",
     "output_type": "stream",
     "text": [
      "Epoch 8 valid: 100%|█████████████████████████| 34/34 [00:10<00:00,  3.22it/s, acc=0.778, loss=0.212]\n"
     ]
    },
    {
     "name": "stdout",
     "output_type": "stream",
     "text": [
      "\tValid ACC: 0.715890522875817, Valid Pearson: 0.7400430596994003\n",
      "* Classification Report:\n",
      "              precision    recall  f1-score   support\n",
      "\n",
      "       moved       0.82      0.75      0.79       365\n",
      "       angry       0.75      0.77      0.76       837\n",
      "       funny       0.66      0.68      0.67       530\n",
      "         sad       0.61      0.73      0.67       292\n",
      "       novel       0.77      0.50      0.61        34\n",
      "     shocked       0.56      0.33      0.42        90\n",
      "\n",
      "    accuracy                           0.71      2148\n",
      "   macro avg       0.70      0.63      0.65      2148\n",
      "weighted avg       0.72      0.71      0.71      2148\n",
      "\n"
     ]
    },
    {
     "name": "stderr",
     "output_type": "stream",
     "text": [
      "Epoch 9 train: 100%|████████████████████████| 49/49 [00:41<00:00,  1.18it/s, acc=0.784, loss=0.0978]\n"
     ]
    },
    {
     "name": "stdout",
     "output_type": "stream",
     "text": [
      "\tTrain ACC: 0.8485848731384446, Train Pearson: 0.8567709250741068\n"
     ]
    },
    {
     "name": "stderr",
     "output_type": "stream",
     "text": [
      "Epoch 9 valid: 100%|█████████████████████████| 34/34 [00:10<00:00,  3.22it/s, acc=0.778, loss=0.198]\n"
     ]
    },
    {
     "name": "stdout",
     "output_type": "stream",
     "text": [
      "\tValid ACC: 0.7163500816993464, Valid Pearson: 0.7411803304020081\n",
      "* Classification Report:\n",
      "              precision    recall  f1-score   support\n",
      "\n",
      "       moved       0.79      0.75      0.77       365\n",
      "       angry       0.72      0.83      0.77       837\n",
      "       funny       0.73      0.58      0.65       530\n",
      "         sad       0.63      0.72      0.67       292\n",
      "       novel       0.73      0.47      0.57        34\n",
      "     shocked       0.49      0.36      0.41        90\n",
      "\n",
      "    accuracy                           0.71      2148\n",
      "   macro avg       0.68      0.62      0.64      2148\n",
      "weighted avg       0.71      0.71      0.71      2148\n",
      "\n"
     ]
    },
    {
     "name": "stderr",
     "output_type": "stream",
     "text": [
      "Epoch 10 train: 100%|████████████████████████| 49/49 [00:41<00:00,  1.18it/s, acc=0.784, loss=0.119]\n"
     ]
    },
    {
     "name": "stdout",
     "output_type": "stream",
     "text": [
      "\tTrain ACC: 0.857513444567016, Train Pearson: 0.8600996486385191\n"
     ]
    },
    {
     "name": "stderr",
     "output_type": "stream",
     "text": [
      "Epoch 10 valid: 100%|████████████████████████| 34/34 [00:10<00:00,  3.22it/s, acc=0.833, loss=0.197]\n"
     ]
    },
    {
     "name": "stdout",
     "output_type": "stream",
     "text": [
      "\tValid ACC: 0.7138480392156863, Valid Pearson: 0.7378123106293688\n",
      "* Classification Report:\n",
      "              precision    recall  f1-score   support\n",
      "\n",
      "       moved       0.81      0.75      0.78       365\n",
      "       angry       0.78      0.74      0.76       837\n",
      "       funny       0.67      0.68      0.68       530\n",
      "         sad       0.60      0.72      0.66       292\n",
      "       novel       0.52      0.50      0.51        34\n",
      "     shocked       0.43      0.42      0.42        90\n",
      "\n",
      "    accuracy                           0.71      2148\n",
      "   macro avg       0.63      0.64      0.64      2148\n",
      "weighted avg       0.72      0.71      0.71      2148\n",
      "\n"
     ]
    },
    {
     "name": "stderr",
     "output_type": "stream",
     "text": [
      "Epoch 11 train: 100%|███████████████████████| 49/49 [00:41<00:00,  1.19it/s, acc=0.865, loss=0.0847]\n"
     ]
    },
    {
     "name": "stdout",
     "output_type": "stream",
     "text": [
      "\tTrain ACC: 0.8626758135686706, Train Pearson: 0.8653136400975072\n"
     ]
    },
    {
     "name": "stderr",
     "output_type": "stream",
     "text": [
      "Epoch 11 valid: 100%|████████████████████████| 34/34 [00:11<00:00,  2.98it/s, acc=0.778, loss=0.209]\n"
     ]
    },
    {
     "name": "stdout",
     "output_type": "stream",
     "text": [
      "\tValid ACC: 0.7048611111111112, Valid Pearson: 0.7411580017343179\n",
      "* Classification Report:\n",
      "              precision    recall  f1-score   support\n",
      "\n",
      "       moved       0.81      0.76      0.78       365\n",
      "       angry       0.79      0.71      0.75       837\n",
      "       funny       0.63      0.70      0.67       530\n",
      "         sad       0.59      0.74      0.66       292\n",
      "       novel       0.50      0.50      0.50        34\n",
      "     shocked       0.48      0.38      0.42        90\n",
      "\n",
      "    accuracy                           0.70      2148\n",
      "   macro avg       0.63      0.63      0.63      2148\n",
      "weighted avg       0.71      0.70      0.70      2148\n",
      "\n"
     ]
    },
    {
     "name": "stderr",
     "output_type": "stream",
     "text": [
      "Epoch 12 train: 100%|███████████████████████| 49/49 [00:41<00:00,  1.19it/s, acc=0.838, loss=0.0719]\n"
     ]
    },
    {
     "name": "stdout",
     "output_type": "stream",
     "text": [
      "\tTrain ACC: 0.8783869966905682, Train Pearson: 0.8730948483434319\n"
     ]
    },
    {
     "name": "stderr",
     "output_type": "stream",
     "text": [
      "Epoch 12 valid: 100%|████████████████████████| 34/34 [00:10<00:00,  3.22it/s, acc=0.778, loss=0.199]\n"
     ]
    },
    {
     "name": "stdout",
     "output_type": "stream",
     "text": [
      "\tValid ACC: 0.7163500816993464, Valid Pearson: 0.7390107493083421\n",
      "* Classification Report:\n",
      "              precision    recall  f1-score   support\n",
      "\n",
      "       moved       0.81      0.77      0.79       365\n",
      "       angry       0.76      0.77      0.77       837\n",
      "       funny       0.68      0.65      0.66       530\n",
      "         sad       0.63      0.72      0.67       292\n",
      "       novel       0.58      0.41      0.48        34\n",
      "     shocked       0.45      0.47      0.46        90\n",
      "\n",
      "    accuracy                           0.71      2148\n",
      "   macro avg       0.65      0.63      0.64      2148\n",
      "weighted avg       0.72      0.71      0.71      2148\n",
      "\n"
     ]
    },
    {
     "name": "stderr",
     "output_type": "stream",
     "text": [
      "Epoch 13 train: 100%|███████████████████████| 49/49 [00:41<00:00,  1.18it/s, acc=0.946, loss=0.0729]\n"
     ]
    },
    {
     "name": "stdout",
     "output_type": "stream",
     "text": [
      "\tTrain ACC: 0.8821876723662437, Train Pearson: 0.8772680501915318\n"
     ]
    },
    {
     "name": "stderr",
     "output_type": "stream",
     "text": [
      "Epoch 13 valid: 100%|████████████████████████| 34/34 [00:10<00:00,  3.22it/s, acc=0.806, loss=0.207]\n"
     ]
    },
    {
     "name": "stdout",
     "output_type": "stream",
     "text": [
      "\tValid ACC: 0.7116523692810458, Valid Pearson: 0.7384978689390704\n",
      "* Classification Report:\n",
      "              precision    recall  f1-score   support\n",
      "\n",
      "       moved       0.84      0.73      0.78       365\n",
      "       angry       0.76      0.78      0.77       837\n",
      "       funny       0.66      0.65      0.66       530\n",
      "         sad       0.60      0.74      0.66       292\n",
      "       novel       0.53      0.56      0.54        34\n",
      "     shocked       0.46      0.33      0.39        90\n",
      "\n",
      "    accuracy                           0.71      2148\n",
      "   macro avg       0.64      0.63      0.63      2148\n",
      "weighted avg       0.71      0.71      0.71      2148\n",
      "\n"
     ]
    },
    {
     "name": "stderr",
     "output_type": "stream",
     "text": [
      "Epoch 14 train: 100%|███████████████████████| 49/49 [00:42<00:00,  1.16it/s, acc=0.946, loss=0.0648]\n"
     ]
    },
    {
     "name": "stdout",
     "output_type": "stream",
     "text": [
      "\tTrain ACC: 0.8860142029784887, Train Pearson: 0.8842137436937082\n"
     ]
    },
    {
     "name": "stderr",
     "output_type": "stream",
     "text": [
      "Epoch 14 valid: 100%|████████████████████████| 34/34 [00:10<00:00,  3.21it/s, acc=0.778, loss=0.196]\n"
     ]
    },
    {
     "name": "stdout",
     "output_type": "stream",
     "text": [
      "\tValid ACC: 0.7076184640522876, Valid Pearson: 0.7434371965269791\n",
      "* Classification Report:\n",
      "              precision    recall  f1-score   support\n",
      "\n",
      "       moved       0.78      0.78      0.78       365\n",
      "       angry       0.79      0.73      0.76       837\n",
      "       funny       0.64      0.70      0.67       530\n",
      "         sad       0.61      0.68      0.64       292\n",
      "       novel       0.53      0.56      0.54        34\n",
      "     shocked       0.43      0.36      0.39        90\n",
      "\n",
      "    accuracy                           0.70      2148\n",
      "   macro avg       0.63      0.63      0.63      2148\n",
      "weighted avg       0.71      0.70      0.70      2148\n",
      "\n"
     ]
    },
    {
     "name": "stderr",
     "output_type": "stream",
     "text": [
      "Epoch 15 train: 100%|███████████████████████| 49/49 [00:41<00:00,  1.18it/s, acc=0.946, loss=0.0569]\n"
     ]
    },
    {
     "name": "stdout",
     "output_type": "stream",
     "text": [
      "\tTrain ACC: 0.8844198152233866, Train Pearson: 0.8856732074010699\n"
     ]
    },
    {
     "name": "stderr",
     "output_type": "stream",
     "text": [
      "Epoch 15 valid: 100%|████████████████████████| 34/34 [00:10<00:00,  3.21it/s, acc=0.889, loss=0.193]\n"
     ]
    },
    {
     "name": "stdout",
     "output_type": "stream",
     "text": [
      "\tValid ACC: 0.7090482026143791, Valid Pearson: 0.7349785961235759\n",
      "* Classification Report:\n",
      "              precision    recall  f1-score   support\n",
      "\n",
      "       moved       0.80      0.74      0.77       365\n",
      "       angry       0.76      0.77      0.77       837\n",
      "       funny       0.69      0.62      0.66       530\n",
      "         sad       0.59      0.74      0.66       292\n",
      "       novel       0.50      0.53      0.51        34\n",
      "     shocked       0.42      0.39      0.40        90\n",
      "\n",
      "    accuracy                           0.71      2148\n",
      "   macro avg       0.63      0.63      0.63      2148\n",
      "weighted avg       0.71      0.71      0.71      2148\n",
      "\n"
     ]
    },
    {
     "name": "stderr",
     "output_type": "stream",
     "text": [
      "Epoch 16 train: 100%|███████████████████████| 49/49 [00:41<00:00,  1.18it/s, acc=0.811, loss=0.0598]\n"
     ]
    },
    {
     "name": "stdout",
     "output_type": "stream",
     "text": [
      "\tTrain ACC: 0.8845318532818534, Train Pearson: 0.887275297996683\n"
     ]
    },
    {
     "name": "stderr",
     "output_type": "stream",
     "text": [
      "Epoch 16 valid: 100%|█████████████████████████| 34/34 [00:10<00:00,  3.22it/s, acc=0.75, loss=0.201]\n"
     ]
    },
    {
     "name": "stdout",
     "output_type": "stream",
     "text": [
      "\tValid ACC: 0.7068014705882353, Valid Pearson: 0.7363431472421896\n",
      "* Classification Report:\n",
      "              precision    recall  f1-score   support\n",
      "\n",
      "       moved       0.83      0.72      0.77       365\n",
      "       angry       0.77      0.75      0.76       837\n",
      "       funny       0.66      0.70      0.68       530\n",
      "         sad       0.61      0.70      0.65       292\n",
      "       novel       0.52      0.50      0.51        34\n",
      "     shocked       0.41      0.38      0.39        90\n",
      "\n",
      "    accuracy                           0.70      2148\n",
      "   macro avg       0.63      0.62      0.63      2148\n",
      "weighted avg       0.71      0.70      0.71      2148\n",
      "\n"
     ]
    },
    {
     "name": "stderr",
     "output_type": "stream",
     "text": [
      "Epoch 17 train: 100%|███████████████████████| 49/49 [00:42<00:00,  1.16it/s, acc=0.892, loss=0.0665]\n"
     ]
    },
    {
     "name": "stdout",
     "output_type": "stream",
     "text": [
      "\tTrain ACC: 0.8976661610590183, Train Pearson: 0.8923061376314214\n"
     ]
    },
    {
     "name": "stderr",
     "output_type": "stream",
     "text": [
      "Epoch 17 valid: 100%|████████████████████████| 34/34 [00:10<00:00,  3.22it/s, acc=0.806, loss=0.199]\n"
     ]
    },
    {
     "name": "stdout",
     "output_type": "stream",
     "text": [
      "\tValid ACC: 0.7144097222222223, Valid Pearson: 0.7353059244804886\n",
      "* Classification Report:\n",
      "              precision    recall  f1-score   support\n",
      "\n",
      "       moved       0.81      0.76      0.79       365\n",
      "       angry       0.78      0.74      0.76       837\n",
      "       funny       0.66      0.69      0.67       530\n",
      "         sad       0.60      0.74      0.66       292\n",
      "       novel       0.55      0.47      0.51        34\n",
      "     shocked       0.46      0.40      0.43        90\n",
      "\n",
      "    accuracy                           0.71      2148\n",
      "   macro avg       0.65      0.63      0.64      2148\n",
      "weighted avg       0.72      0.71      0.71      2148\n",
      "\n"
     ]
    },
    {
     "name": "stderr",
     "output_type": "stream",
     "text": [
      "Epoch 18 train: 100%|███████████████████████| 49/49 [00:41<00:00,  1.18it/s, acc=0.811, loss=0.0603]\n"
     ]
    },
    {
     "name": "stdout",
     "output_type": "stream",
     "text": [
      "\tTrain ACC: 0.8947359349145064, Train Pearson: 0.8934394672774034\n"
     ]
    },
    {
     "name": "stderr",
     "output_type": "stream",
     "text": [
      "Epoch 18 valid: 100%|██████████████████████████| 34/34 [00:10<00:00,  3.21it/s, acc=0.75, loss=0.21]\n"
     ]
    },
    {
     "name": "stdout",
     "output_type": "stream",
     "text": [
      "\tValid ACC: 0.7095588235294118, Valid Pearson: 0.7392097223949037\n",
      "* Classification Report:\n",
      "              precision    recall  f1-score   support\n",
      "\n",
      "       moved       0.84      0.72      0.77       365\n",
      "       angry       0.78      0.73      0.76       837\n",
      "       funny       0.63      0.74      0.68       530\n",
      "         sad       0.62      0.68      0.65       292\n",
      "       novel       0.59      0.50      0.54        34\n",
      "     shocked       0.45      0.38      0.41        90\n",
      "\n",
      "    accuracy                           0.71      2148\n",
      "   macro avg       0.65      0.63      0.64      2148\n",
      "weighted avg       0.71      0.71      0.71      2148\n",
      "\n"
     ]
    },
    {
     "name": "stderr",
     "output_type": "stream",
     "text": [
      "Epoch 19 train: 100%|███████████████████████| 49/49 [00:41<00:00,  1.18it/s, acc=0.892, loss=0.0616]\n"
     ]
    },
    {
     "name": "stdout",
     "output_type": "stream",
     "text": [
      "\tTrain ACC: 0.8970284059569774, Train Pearson: 0.891994567303135\n"
     ]
    },
    {
     "name": "stderr",
     "output_type": "stream",
     "text": [
      "Epoch 19 valid: 100%|████████████████████████| 34/34 [00:10<00:00,  3.21it/s, acc=0.806, loss=0.201]"
     ]
    },
    {
     "name": "stdout",
     "output_type": "stream",
     "text": [
      "\tValid ACC: 0.7111928104575164, Valid Pearson: 0.7408539331261293\n",
      "* Classification Report:\n",
      "              precision    recall  f1-score   support\n",
      "\n",
      "       moved       0.78      0.78      0.78       365\n",
      "       angry       0.78      0.75      0.76       837\n",
      "       funny       0.67      0.68      0.68       530\n",
      "         sad       0.62      0.67      0.64       292\n",
      "       novel       0.56      0.53      0.55        34\n",
      "     shocked       0.42      0.38      0.40        90\n",
      "\n",
      "    accuracy                           0.71      2148\n",
      "   macro avg       0.64      0.63      0.63      2148\n",
      "weighted avg       0.71      0.71      0.71      2148\n",
      "\n"
     ]
    },
    {
     "name": "stderr",
     "output_type": "stream",
     "text": [
      "\n"
     ]
    },
    {
     "data": {
      "image/png": "[encoded data removed]",
      "text/plain": [
       "<Figure size 1400x800 with 2 Axes>"
      ]
     },
     "metadata": {},
     "output_type": "display_data"
    }
   ],
   "source": [
    "import matplotlib.pyplot as plt\n",
    "\n",
    "def plot_metrics(metrics_history):\n",
    "    epochs = range(1, len(metrics_history['train_accuracy']) + 1)\n",
    "\n",
    "    plt.figure(figsize=(14, 8))\n",
    "\n",
    "    # Plot accuracy\n",
    "    plt.subplot(2, 1, 1)\n",
    "    plt.plot(epochs, metrics_history['train_accuracy'], label='Train Accuracy', marker='o')\n",
    "    plt.plot(epochs, metrics_history['valid_accuracy'], label='Valid Accuracy', marker='o')\n",
    "    plt.title('Training and Validation Accuracy')\n",
    "    plt.xlabel('Epoch')\n",
    "    plt.ylabel('Accuracy')\n",
    "    plt.legend()\n",
    "\n",
    "    # Plot Pearson correlation\n",
    "    plt.subplot(2, 1, 2)\n",
    "    plt.plot(epochs, metrics_history['train_pearson'], label='Train Pearson', marker='o')\n",
    "    plt.plot(epochs, metrics_history['valid_pearson'], label='Valid Pearson', marker='o')\n",
    "    plt.title('Training and Validation Pearson Correlation')\n",
    "    plt.xlabel('Epoch')\n",
    "    plt.ylabel('Pearson Correlation')\n",
    "    plt.legend()\n",
    "\n",
    "    plt.tight_layout()\n",
    "    plt.show()\n",
    "\n",
    "# Call the train function and plot metrics\n",
    "metrics_history = train()\n",
    "plot_metrics(metrics_history)\n"
   ]
  }
 ],
 "metadata": {
  "kernelspec": {
   "display_name": "LLM",
   "language": "python",
   "name": "python3"
  },
  "language_info": {
   "codemirror_mode": {
    "name": "ipython",
    "version": 3
   },
   "file_extension": ".py",
   "mimetype": "text/x-python",
   "name": "python",
   "nbconvert_exporter": "python",
   "pygments_lexer": "ipython3",
   "version": "3.11.11"
  }
 },
 "nbformat": 4,
 "nbformat_minor": 2
}
