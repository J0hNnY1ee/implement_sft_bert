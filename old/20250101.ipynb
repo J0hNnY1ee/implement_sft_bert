{
 "cells": [
  {
   "cell_type": "code",
   "execution_count": 1,
   "metadata": {},
   "outputs": [],
   "source": [
    "import torch.nn as nn\n",
    "from transformers import BertModel\n",
    "\n",
    "# Bert\n",
    "\n",
    "class BertClassifier(nn.Module):\n",
    "    def __init__(self, bert_config, num_labels):\n",
    "        super().__init__()\n",
    "        # 定义BERT模型\n",
    "        self.bert = BertModel(config=bert_config)\n",
    "        # 定义Dropout层\n",
    "        self.dropout = nn.Dropout(p=0.2)  # Dropout概率为0.2\n",
    "        # 定义分类器\n",
    "        self.classifier = nn.Linear(bert_config.hidden_size, num_labels)\n",
    "\n",
    "    def forward(self, input_ids, attention_mask, token_type_ids):\n",
    "        # BERT的输出\n",
    "        bert_output = self.bert(input_ids=input_ids, attention_mask=attention_mask, token_type_ids=token_type_ids)\n",
    "        # 取[CLS]位置的pooled output\n",
    "        pooled = bert_output[1]\n",
    "        # 在pooled output上应用Dropout\n",
    "        pooled = self.dropout(pooled)\n",
    "        # 分类\n",
    "        logits = self.classifier(pooled)\n",
    "        # 返回结果\n",
    "        return logits\n",
    "\n",
    "\n",
    "# Bert+BiLSTM，用法与BertClassifier一样，可直接在train里面调用\n",
    "class BertLstmClassifier(nn.Module):\n",
    "    def __init__(self, bert_config, num_labels):\n",
    "        super().__init__()\n",
    "        self.bert = BertModel(config=bert_config)\n",
    "        self.lstm = nn.LSTM(input_size=bert_config.hidden_size, hidden_size=bert_config.hidden_size, num_layers=2, batch_first=True, bidirectional=True)\n",
    "        self.classifier = nn.Linear(bert_config.hidden_size*2, num_labels)  # 双向LSTM 需要乘以2\n",
    "\n",
    "    def forward(self, input_ids, attention_mask, token_type_ids):\n",
    "        outputs = self.bert(input_ids=input_ids, attention_mask=attention_mask, token_type_ids=token_type_ids)\n",
    "        last_hidden_state = outputs.last_hidden_state\n",
    "        out, _ = self.lstm(last_hidden_state)\n",
    "        logits = self.classifier(out[:, -1, :]) # 取最后时刻的输出\n",
    "        return logits\n"
   ]
  },
  {
   "cell_type": "code",
   "execution_count": 2,
   "metadata": {},
   "outputs": [
    {
     "name": "stdout",
     "output_type": "stream",
     "text": [
      "数据集划分完成：\n",
      "训练集保存在 data/train.json\n",
      "测试集保存在 data/test.json\n"
     ]
    }
   ],
   "source": [
    "import json\n",
    "\n",
    "# 假设你的 JSON 数据存储在一个文件中\n",
    "input_file = 'data/2016.json'  # 替换为你的 JSON 文件路径\n",
    "output_train_file = 'data/train.json'\n",
    "output_test_file = 'data/test.json'\n",
    "\n",
    "# 读取 JSON 数据\n",
    "with open(input_file, 'r', encoding='utf-8') as f:\n",
    "    data = json.load(f)\n",
    "\n",
    "# 确保数据是一个列表\n",
    "if isinstance(data, list):\n",
    "    # 划分数据集\n",
    "    train_data = data[:3109]\n",
    "    test_data = data[3109:]\n",
    "\n",
    "    # 保存训练集和测试集到文件\n",
    "    with open(output_train_file, 'w', encoding='utf-8') as f_train:\n",
    "        json.dump(train_data, f_train, ensure_ascii=False, indent=4)\n",
    "\n",
    "    with open(output_test_file, 'w', encoding='utf-8') as f_test:\n",
    "        json.dump(test_data, f_test, ensure_ascii=False, indent=4)\n",
    "\n",
    "    print(f\"数据集划分完成：\\n训练集保存在 {output_train_file}\\n测试集保存在 {output_test_file}\")\n",
    "else:\n",
    "    print(\"JSON 数据不是列表格式，无法划分数据集。\")"
   ]
  },
  {
   "cell_type": "code",
   "execution_count": 3,
   "metadata": {},
   "outputs": [
    {
     "name": "stdout",
     "output_type": "stream",
     "text": [
      "loading data from: test_data.json\n"
     ]
    },
    {
     "name": "stderr",
     "output_type": "stream",
     "text": [
      "100%|██████████| 1/1 [00:00<00:00, 435.59it/s]"
     ]
    },
    {
     "name": "stdout",
     "output_type": "stream",
     "text": [
      "Input IDs: [ 101 6857 3221  671 5063 5080 1606 4638 3152 4995  102    0    0    0\n",
      "    0    0    0    0    0    0    0    0    0    0    0    0    0    0\n",
      "    0    0    0    0    0    0    0    0    0    0    0    0    0    0\n",
      "    0    0    0    0    0    0    0    0    0    0    0    0    0    0\n",
      "    0    0    0    0    0    0    0    0    0    0    0    0    0    0\n",
      "    0    0    0    0    0    0    0    0    0    0    0    0    0    0\n",
      "    0    0    0    0    0    0    0    0    0    0    0    0    0    0\n",
      "    0    0    0    0    0    0    0    0    0    0    0    0    0    0\n",
      "    0    0    0    0    0    0    0    0    0    0    0    0    0    0\n",
      "    0    0    0    0    0    0    0    0    0    0    0    0    0    0\n",
      "    0    0    0    0    0    0    0    0    0    0    0    0    0    0\n",
      "    0    0    0    0    0    0    0    0    0    0    0    0    0    0\n",
      "    0    0    0    0    0    0    0    0    0    0    0    0    0    0\n",
      "    0    0    0    0    0    0    0    0    0    0    0    0    0    0\n",
      "    0    0    0    0    0    0    0    0    0    0    0    0    0    0\n",
      "    0    0    0    0    0    0    0    0    0    0    0    0    0    0\n",
      "    0    0    0    0    0    0    0    0    0    0    0    0    0    0\n",
      "    0    0    0    0    0    0    0    0    0    0    0    0    0    0\n",
      "    0    0    0    0    0    0    0    0    0    0    0    0    0    0\n",
      "    0    0    0    0    0    0    0    0    0    0    0    0    0    0\n",
      "    0    0    0    0    0    0    0    0    0    0    0    0    0    0\n",
      "    0    0    0    0    0    0    0    0    0    0    0    0    0    0\n",
      "    0    0    0    0    0    0    0    0    0    0    0    0    0    0\n",
      "    0    0    0    0    0    0    0    0    0    0    0    0    0    0\n",
      "    0    0    0    0    0    0    0    0    0    0    0    0    0    0\n",
      "    0    0    0    0    0    0    0    0    0    0    0    0    0    0\n",
      "    0    0    0    0    0    0    0    0    0    0    0    0    0    0\n",
      "    0    0    0    0    0    0    0    0    0    0    0    0    0    0\n",
      "    0    0    0    0    0    0    0    0    0    0    0    0    0    0\n",
      "    0    0    0    0    0    0    0    0    0    0    0    0    0    0\n",
      "    0    0    0    0    0    0    0    0    0    0    0    0    0    0\n",
      "    0    0    0    0    0    0    0    0    0    0    0    0    0    0\n",
      "    0    0    0    0    0    0    0    0    0    0    0    0    0    0\n",
      "    0    0    0    0    0    0    0    0    0    0    0    0    0    0\n",
      "    0    0    0    0    0    0    0    0    0    0    0    0    0    0\n",
      "    0    0    0    0    0    0    0    0    0    0    0    0    0    0\n",
      "    0    0    0    0    0    0    0    0]\n",
      "Token Type IDs: [0 0 0 0 0 0 0 0 0 0 0 0 0 0 0 0 0 0 0 0 0 0 0 0 0 0 0 0 0 0 0 0 0 0 0 0 0\n",
      " 0 0 0 0 0 0 0 0 0 0 0 0 0 0 0 0 0 0 0 0 0 0 0 0 0 0 0 0 0 0 0 0 0 0 0 0 0\n",
      " 0 0 0 0 0 0 0 0 0 0 0 0 0 0 0 0 0 0 0 0 0 0 0 0 0 0 0 0 0 0 0 0 0 0 0 0 0\n",
      " 0 0 0 0 0 0 0 0 0 0 0 0 0 0 0 0 0 0 0 0 0 0 0 0 0 0 0 0 0 0 0 0 0 0 0 0 0\n",
      " 0 0 0 0 0 0 0 0 0 0 0 0 0 0 0 0 0 0 0 0 0 0 0 0 0 0 0 0 0 0 0 0 0 0 0 0 0\n",
      " 0 0 0 0 0 0 0 0 0 0 0 0 0 0 0 0 0 0 0 0 0 0 0 0 0 0 0 0 0 0 0 0 0 0 0 0 0\n",
      " 0 0 0 0 0 0 0 0 0 0 0 0 0 0 0 0 0 0 0 0 0 0 0 0 0 0 0 0 0 0 0 0 0 0 0 0 0\n",
      " 0 0 0 0 0 0 0 0 0 0 0 0 0 0 0 0 0 0 0 0 0 0 0 0 0 0 0 0 0 0 0 0 0 0 0 0 0\n",
      " 0 0 0 0 0 0 0 0 0 0 0 0 0 0 0 0 0 0 0 0 0 0 0 0 0 0 0 0 0 0 0 0 0 0 0 0 0\n",
      " 0 0 0 0 0 0 0 0 0 0 0 0 0 0 0 0 0 0 0 0 0 0 0 0 0 0 0 0 0 0 0 0 0 0 0 0 0\n",
      " 0 0 0 0 0 0 0 0 0 0 0 0 0 0 0 0 0 0 0 0 0 0 0 0 0 0 0 0 0 0 0 0 0 0 0 0 0\n",
      " 0 0 0 0 0 0 0 0 0 0 0 0 0 0 0 0 0 0 0 0 0 0 0 0 0 0 0 0 0 0 0 0 0 0 0 0 0\n",
      " 0 0 0 0 0 0 0 0 0 0 0 0 0 0 0 0 0 0 0 0 0 0 0 0 0 0 0 0 0 0 0 0 0 0 0 0 0\n",
      " 0 0 0 0 0 0 0 0 0 0 0 0 0 0 0 0 0 0 0 0 0 0 0 0 0 0 0 0 0 0 0]\n",
      "Attention Mask: [1 1 1 1 1 1 1 1 1 1 1 0 0 0 0 0 0 0 0 0 0 0 0 0 0 0 0 0 0 0 0 0 0 0 0 0 0\n",
      " 0 0 0 0 0 0 0 0 0 0 0 0 0 0 0 0 0 0 0 0 0 0 0 0 0 0 0 0 0 0 0 0 0 0 0 0 0\n",
      " 0 0 0 0 0 0 0 0 0 0 0 0 0 0 0 0 0 0 0 0 0 0 0 0 0 0 0 0 0 0 0 0 0 0 0 0 0\n",
      " 0 0 0 0 0 0 0 0 0 0 0 0 0 0 0 0 0 0 0 0 0 0 0 0 0 0 0 0 0 0 0 0 0 0 0 0 0\n",
      " 0 0 0 0 0 0 0 0 0 0 0 0 0 0 0 0 0 0 0 0 0 0 0 0 0 0 0 0 0 0 0 0 0 0 0 0 0\n",
      " 0 0 0 0 0 0 0 0 0 0 0 0 0 0 0 0 0 0 0 0 0 0 0 0 0 0 0 0 0 0 0 0 0 0 0 0 0\n",
      " 0 0 0 0 0 0 0 0 0 0 0 0 0 0 0 0 0 0 0 0 0 0 0 0 0 0 0 0 0 0 0 0 0 0 0 0 0\n",
      " 0 0 0 0 0 0 0 0 0 0 0 0 0 0 0 0 0 0 0 0 0 0 0 0 0 0 0 0 0 0 0 0 0 0 0 0 0\n",
      " 0 0 0 0 0 0 0 0 0 0 0 0 0 0 0 0 0 0 0 0 0 0 0 0 0 0 0 0 0 0 0 0 0 0 0 0 0\n",
      " 0 0 0 0 0 0 0 0 0 0 0 0 0 0 0 0 0 0 0 0 0 0 0 0 0 0 0 0 0 0 0 0 0 0 0 0 0\n",
      " 0 0 0 0 0 0 0 0 0 0 0 0 0 0 0 0 0 0 0 0 0 0 0 0 0 0 0 0 0 0 0 0 0 0 0 0 0\n",
      " 0 0 0 0 0 0 0 0 0 0 0 0 0 0 0 0 0 0 0 0 0 0 0 0 0 0 0 0 0 0 0 0 0 0 0 0 0\n",
      " 0 0 0 0 0 0 0 0 0 0 0 0 0 0 0 0 0 0 0 0 0 0 0 0 0 0 0 0 0 0 0 0 0 0 0 0 0\n",
      " 0 0 0 0 0 0 0 0 0 0 0 0 0 0 0 0 0 0 0 0 0 0 0 0 0 0 0 0 0 0 0]\n",
      "Label ID: 0\n",
      "Label Scores: tensor([0.5000, 0.3333, 0.1667, 0.0000, 0.0000, 0.0000])\n"
     ]
    },
    {
     "name": "stderr",
     "output_type": "stream",
     "text": [
      "\n"
     ]
    }
   ],
   "source": [
    "import json\n",
    "import numpy as np\n",
    "from tqdm import tqdm\n",
    "from torch.utils.data import Dataset\n",
    "import torch\n",
    "\n",
    "class SinaNewsDataset(Dataset):\n",
    "    def __init__(self,filename,tokenizer):\n",
    "        \n",
    "        self.labels = [\"moved\",\"angry\",\"funny\",\"sad\",\"novel\",\"shocked\"]\n",
    "        self.labels_id  = list(range(len(self.labels)))\n",
    "        self.tokenizer = tokenizer\n",
    "        self.input_ids = []\n",
    "        self.token_type_ids = []\n",
    "        self.attention_mask = []\n",
    "        self.label_id = []\n",
    "        self.label_scores = []\n",
    "        self.load_data(filename)\n",
    "        \n",
    "    def load_data(self,filename):\n",
    "        print('loading data from:', filename)\n",
    "        with open(filename,'r',encoding='utf-8') as f:\n",
    "            data = json.load(f)\n",
    "        for item in tqdm(data):\n",
    "            emotions = {k: v for k, v in item.items() if k in self.labels}\n",
    "            label = max(emotions, key=emotions.get)\n",
    "            text = item['news']\n",
    "            label_id = self.labels.index(label)\n",
    "            token = self.tokenizer(text, add_special_tokens=True, padding='max_length', truncation=True, max_length=512)\n",
    "            self.input_ids.append(np.array(token['input_ids']))\n",
    "            self.token_type_ids.append(np.array(token['token_type_ids']))\n",
    "            self.attention_mask.append(np.array(token['attention_mask']))\n",
    "            self.label_id.append(label_id)\n",
    "            \n",
    "            ## 添加的部分\n",
    "            total = int(item[\"Total\"])\n",
    "            if total > 0:\n",
    "                scores =torch.tensor([emotions[label] for label in self.labels], dtype=torch.float32)\n",
    "                # label_vector = torch.softmax(scores,dim=0)  # 使用 softmax 归一化 \n",
    "                label_vector = (scores / scores.sum())\n",
    "            else:\n",
    "                label_vector = [0.0] * len(self.labels)  # 如果 Total 为 0，所有情感归为 0\n",
    "            self.label_scores.append(label_vector)\n",
    "            \n",
    "    def __getitem__(self, index):\n",
    "        return self.input_ids[index], self.token_type_ids[index], self.attention_mask[index], self.label_id[index],self.label_scores[index],\n",
    "\n",
    "    def __len__(self):\n",
    "        return len(self.input_ids)\n",
    "    \n",
    "from transformers import BertTokenizer\n",
    "   \n",
    "def test_sina_news_dataset():\n",
    "    # 创建一个测试数据文件\n",
    "    test_data = [\n",
    "        {\n",
    "            \"news\": \"這是一篇簡單的文章\",\n",
    "            \"moved\": 3,\n",
    "            \"angry\": 2,\n",
    "            \"funny\": 1,\n",
    "            \"sad\": 0,\n",
    "            \"novel\": 0,\n",
    "            \"shocked\": 0,\n",
    "            \"Total\": 6\n",
    "        }\n",
    "    ]\n",
    "\n",
    "    test_filename = 'test_data.json'\n",
    "    with open(test_filename, 'w', encoding='utf-8') as f:\n",
    "        json.dump(test_data, f, ensure_ascii=False, indent=4)\n",
    "\n",
    "\n",
    "    # 使用 BertTokenizer\n",
    "    tokenizer = BertTokenizer.from_pretrained('model/bert-base-chinese')\n",
    "\n",
    "    # 加载数据集\n",
    "    dataset = SinaNewsDataset(test_filename, tokenizer)\n",
    "\n",
    "    # 打印第一行\n",
    "    first_item = dataset[0]\n",
    "    print(\"Input IDs:\", first_item[0])\n",
    "    print(\"Token Type IDs:\", first_item[1])\n",
    "    print(\"Attention Mask:\", first_item[2])\n",
    "    print(\"Label ID:\", first_item[3])\n",
    "    print(\"Label Scores:\", first_item[4])\n",
    "\n",
    "# 调用测试函数\n",
    "test_sina_news_dataset()"
   ]
  },
  {
   "cell_type": "code",
   "execution_count": 4,
   "metadata": {},
   "outputs": [],
   "source": [
    "import os\n",
    "import torch\n",
    "import torch.nn as nn\n",
    "from transformers import BertTokenizer, BertConfig\n",
    "from torch.utils.data import DataLoader\n",
    "from tqdm import tqdm\n",
    "from sklearn import metrics\n",
    "from scipy.stats import pearsonr\n",
    "from torch.optim import AdamW\n",
    "\n",
    "def calculate_acc1(pred_labels, labels_score):\n",
    "    \"\"\"\n",
    "    计算 ACC@1\n",
    "    :param pred_labels: 模型预测的标签 (Tensor)\n",
    "    :param labels_score: 真实标签的分数 (Tensor 或列表)\n",
    "    :return: 当前 batch 的 ACC@1\n",
    "    \"\"\"\n",
    "    correct = 0  # 正确计数\n",
    "    batch_size = len(pred_labels)  # 批次大小\n",
    "    label_id_rank = torch.argsort(labels_score, dim=1, descending=True)  # 对情感进行排序\n",
    "    for i in range(batch_size):\n",
    "        pred_label = pred_labels[i].item()\n",
    "        true_rank = label_id_rank[i]\n",
    "        scores = labels_score[i]\n",
    "\n",
    "        # 判断预测是否正确\n",
    "        for rank_idx in range(len(true_rank)):\n",
    "            if scores[true_rank[rank_idx]] == scores[true_rank[0]]:  # 判断是否与第一分数相同\n",
    "                if pred_label == true_rank[rank_idx]:  # 检查预测是否在相同分数的排名中\n",
    "                    correct += 1\n",
    "                    break  # 预测正确，跳出循环\n",
    "            else:\n",
    "                break  # 一旦分数不同，结束判断\n",
    "\n",
    "    return correct / batch_size  # 返回准确率\n",
    "def train(learning_rate = 5e-6):\n",
    "    MODEL_PATH = 'model/bert-base-chinese'\n",
    "    DATA_PATH = 'data/'\n",
    "    batch_size = 16\n",
    "    device = 'cuda' if torch.cuda.is_available() else 'cpu'\n",
    "    epochs = 20\n",
    "        # Learning Rate不宜太大\n",
    "    tokenizer = BertTokenizer.from_pretrained(MODEL_PATH)\n",
    "\n",
    "    train_dataset = SinaNewsDataset(DATA_PATH + 'train.json', tokenizer)\n",
    "    valid_dataset = SinaNewsDataset(DATA_PATH + 'test.json', tokenizer)\n",
    "\n",
    "    bert_config = BertConfig.from_pretrained(MODEL_PATH)\n",
    "    num_labels = len(train_dataset.labels)\n",
    "\n",
    "    model = BertClassifier(bert_config, num_labels).to(device)\n",
    "    model = nn.DataParallel(model)\n",
    "    optimizer = AdamW(model.parameters(), lr=learning_rate,)\n",
    "    criterion = nn.CrossEntropyLoss()\n",
    "\n",
    "    best_f1 = 0\n",
    "\n",
    "    metrics_history = {\n",
    "        'train_accuracy': [],\n",
    "        'train_pearson': [],\n",
    "        'valid_accuracy': [],\n",
    "        'valid_pearson': []\n",
    "    }\n",
    "\n",
    "    for epoch in range(epochs):\n",
    "        model.train()\n",
    "\n",
    "        train_dataloader = DataLoader(train_dataset, batch_size=batch_size, shuffle=True)\n",
    "        train_bar = tqdm(train_dataloader, ncols=100)\n",
    "        \n",
    "        train_losses, train_acc,train_pearson,pearson_count  = 0, 0, 0,0\n",
    "\n",
    "        for input_ids, token_type_ids, attention_mask, label_id ,labels_score in train_bar:\n",
    "            model.zero_grad()\n",
    "            train_bar.set_description(f'Epoch {epoch} train')\n",
    "\n",
    "            output = model(\n",
    "                input_ids=input_ids.to(device),\n",
    "                attention_mask=attention_mask.to(device),\n",
    "                token_type_ids=token_type_ids.to(device),\n",
    "            )\n",
    "\n",
    "            loss = criterion(output, label_id.to(device))\n",
    "            train_losses += loss.item()\n",
    "            \n",
    "            pred_labels = torch.argmax(output, dim=1)\n",
    "            acc = calculate_acc1(pred_labels, labels_score)\n",
    "            train_acc += acc\n",
    "            logits = output.clone().detach()\n",
    "            \n",
    "            for i in range(logits.size(0)):\n",
    "                pearson, _ = pearsonr(logits[i].cpu().numpy(), labels_score[i].cpu().detach().numpy())\n",
    "                train_pearson += pearson\n",
    "                pearson_count += 1\n",
    "                \n",
    "            \n",
    "            loss.backward()\n",
    "            optimizer.step()\n",
    "            train_bar.set_postfix(loss=loss.item(), acc=acc)\n",
    "            \n",
    "        train_pearson = train_pearson / pearson_count\n",
    "        train_accuracy = train_acc / len(train_dataloader)\n",
    "        metrics_history['train_accuracy'].append(train_accuracy)\n",
    "        metrics_history['train_pearson'].append(train_pearson)\n",
    "        print(f'\\tTrain ACC: {train_accuracy}, Train Pearson: {train_pearson}')\n",
    "\n",
    "\n",
    "\n",
    "\n",
    "\n",
    "        # Validation\n",
    "        model.eval()\n",
    "        \n",
    "        valid_dataloader = DataLoader(valid_dataset, batch_size=batch_size, shuffle=False)\n",
    "        valid_bar = tqdm(valid_dataloader, ncols=100)\n",
    "        \n",
    "        valid_losses, valid_acc,valid_pearson, pearson_count,valid_preds, valid_labels = 0, 0,0,0, [], []\n",
    "\n",
    "        for input_ids, token_type_ids, attention_mask, label_id,labels_score in valid_bar:\n",
    "            valid_bar.set_description(f'Epoch {epoch} valid')\n",
    "\n",
    "            with torch.no_grad():\n",
    "                output = model(\n",
    "                    input_ids=input_ids.to(device),\n",
    "                    attention_mask=attention_mask.to(device),\n",
    "                    token_type_ids=token_type_ids.to(device),\n",
    "                )\n",
    "\n",
    "            loss = criterion(output, label_id.to(device))\n",
    "            valid_losses += loss.item()\n",
    "\n",
    "            pred_label = torch.argmax(output, dim=1)\n",
    "            # acc = torch.sum(pred_label == label_id.to(device)).item() / len(pred_label)\n",
    "            acc = calculate_acc1(pred_label, labels_score)\n",
    "            valid_acc += acc\n",
    "            logits = output.clone()\n",
    "            for i in range(logits.size(0)):\n",
    "                    pearson, _ = pearsonr(logits[i].cpu().numpy(), labels_score[i].cpu().numpy())\n",
    "                    valid_pearson += pearson\n",
    "                    pearson_count += 1\n",
    "\n",
    "            valid_preds.extend(pred_label.cpu().numpy())\n",
    "            valid_labels.extend(label_id.cpu().numpy())\n",
    "            valid_bar.set_postfix(loss=loss.item(), acc=acc)\n",
    "\n",
    "        \n",
    "        valid_pearson = valid_pearson / pearson_count\n",
    "        valid_accuracy = valid_acc / len(valid_dataloader)\n",
    "        metrics_history['valid_accuracy'].append(valid_accuracy)\n",
    "        metrics_history['valid_pearson'].append(valid_pearson)\n",
    "        print(f'\\tValid ACC: {valid_accuracy}, Valid Pearson: {valid_pearson}')\n",
    "\n",
    "        report = metrics.classification_report(valid_labels, valid_preds, labels=valid_dataset.labels_id, target_names=valid_dataset.labels)\n",
    "        print('* Classification Report:')\n",
    "        print(report)\n",
    "\n",
    "        f1 = metrics.f1_score(valid_labels, valid_preds, labels=valid_dataset.labels_id, average='micro')\n",
    "\n",
    "        if not os.path.exists('models'):\n",
    "            os.makedirs('models')\n",
    "\n",
    "        if f1 > best_f1:\n",
    "            best_f1 = f1\n",
    "            torch.save(model.state_dict(), 'model/best_model.pkl')\n",
    "\n",
    "    return metrics_history\n",
    "\n",
    "        "
   ]
  },
  {
   "cell_type": "code",
   "execution_count": 5,
   "metadata": {},
   "outputs": [
    {
     "name": "stdout",
     "output_type": "stream",
     "text": [
      "loading data from: data/train.json\n"
     ]
    },
    {
     "name": "stderr",
     "output_type": "stream",
     "text": [
      "100%|██████████| 3109/3109 [00:09<00:00, 340.00it/s]\n"
     ]
    },
    {
     "name": "stdout",
     "output_type": "stream",
     "text": [
      "loading data from: data/test.json\n"
     ]
    },
    {
     "name": "stderr",
     "output_type": "stream",
     "text": [
      "100%|██████████| 2148/2148 [00:06<00:00, 310.27it/s]\n",
      "Epoch 0 train: 100%|██████████████████████████| 195/195 [01:03<00:00,  3.07it/s, acc=0.8, loss=1.17]\n"
     ]
    },
    {
     "name": "stdout",
     "output_type": "stream",
     "text": [
      "\tTrain ACC: 0.3246153846153846, Train Pearson: 0.32790862089989836\n"
     ]
    },
    {
     "name": "stderr",
     "output_type": "stream",
     "text": [
      "Epoch 0 valid: 100%|████████████████████████████| 135/135 [00:17<00:00,  7.70it/s, acc=0, loss=1.81]\n",
      "/home/lijianhang/anaconda3/envs/LLM/lib/python3.11/site-packages/sklearn/metrics/_classification.py:1565: UndefinedMetricWarning: Precision is ill-defined and being set to 0.0 in labels with no predicted samples. Use `zero_division` parameter to control this behavior.\n",
      "  _warn_prf(average, modifier, f\"{metric.capitalize()} is\", len(result))\n",
      "/home/lijianhang/anaconda3/envs/LLM/lib/python3.11/site-packages/sklearn/metrics/_classification.py:1565: UndefinedMetricWarning: Precision is ill-defined and being set to 0.0 in labels with no predicted samples. Use `zero_division` parameter to control this behavior.\n",
      "  _warn_prf(average, modifier, f\"{metric.capitalize()} is\", len(result))\n",
      "/home/lijianhang/anaconda3/envs/LLM/lib/python3.11/site-packages/sklearn/metrics/_classification.py:1565: UndefinedMetricWarning: Precision is ill-defined and being set to 0.0 in labels with no predicted samples. Use `zero_division` parameter to control this behavior.\n",
      "  _warn_prf(average, modifier, f\"{metric.capitalize()} is\", len(result))\n"
     ]
    },
    {
     "name": "stdout",
     "output_type": "stream",
     "text": [
      "\tValid ACC: 0.3875, Valid Pearson: 0.3504342410494019\n",
      "* Classification Report:\n",
      "              precision    recall  f1-score   support\n",
      "\n",
      "       moved       0.00      0.00      0.00       365\n",
      "       angry       0.39      1.00      0.56       837\n",
      "       funny       0.00      0.00      0.00       530\n",
      "         sad       0.00      0.00      0.00       292\n",
      "       novel       0.00      0.00      0.00        34\n",
      "     shocked       0.00      0.00      0.00        90\n",
      "\n",
      "    accuracy                           0.39      2148\n",
      "   macro avg       0.06      0.17      0.09      2148\n",
      "weighted avg       0.15      0.39      0.22      2148\n",
      "\n"
     ]
    },
    {
     "name": "stderr",
     "output_type": "stream",
     "text": [
      "Epoch 1 train: 100%|██████████████████████████| 195/195 [01:05<00:00,  2.99it/s, acc=0.4, loss=1.35]\n"
     ]
    },
    {
     "name": "stdout",
     "output_type": "stream",
     "text": [
      "\tTrain ACC: 0.3446794871794872, Train Pearson: 0.3342864343815944\n"
     ]
    },
    {
     "name": "stderr",
     "output_type": "stream",
     "text": [
      "Epoch 1 valid: 100%|████████████████████████████| 135/135 [00:17<00:00,  7.51it/s, acc=0, loss=1.83]\n",
      "/home/lijianhang/anaconda3/envs/LLM/lib/python3.11/site-packages/sklearn/metrics/_classification.py:1565: UndefinedMetricWarning: Precision is ill-defined and being set to 0.0 in labels with no predicted samples. Use `zero_division` parameter to control this behavior.\n",
      "  _warn_prf(average, modifier, f\"{metric.capitalize()} is\", len(result))\n",
      "/home/lijianhang/anaconda3/envs/LLM/lib/python3.11/site-packages/sklearn/metrics/_classification.py:1565: UndefinedMetricWarning: Precision is ill-defined and being set to 0.0 in labels with no predicted samples. Use `zero_division` parameter to control this behavior.\n",
      "  _warn_prf(average, modifier, f\"{metric.capitalize()} is\", len(result))\n",
      "/home/lijianhang/anaconda3/envs/LLM/lib/python3.11/site-packages/sklearn/metrics/_classification.py:1565: UndefinedMetricWarning: Precision is ill-defined and being set to 0.0 in labels with no predicted samples. Use `zero_division` parameter to control this behavior.\n",
      "  _warn_prf(average, modifier, f\"{metric.capitalize()} is\", len(result))\n"
     ]
    },
    {
     "name": "stdout",
     "output_type": "stream",
     "text": [
      "\tValid ACC: 0.3875, Valid Pearson: 0.35738179163762374\n",
      "* Classification Report:\n",
      "              precision    recall  f1-score   support\n",
      "\n",
      "       moved       0.00      0.00      0.00       365\n",
      "       angry       0.39      1.00      0.56       837\n",
      "       funny       0.00      0.00      0.00       530\n",
      "         sad       0.00      0.00      0.00       292\n",
      "       novel       0.00      0.00      0.00        34\n",
      "     shocked       0.00      0.00      0.00        90\n",
      "\n",
      "    accuracy                           0.39      2148\n",
      "   macro avg       0.06      0.17      0.09      2148\n",
      "weighted avg       0.15      0.39      0.22      2148\n",
      "\n"
     ]
    },
    {
     "name": "stderr",
     "output_type": "stream",
     "text": [
      "Epoch 2 train: 100%|██████████████████████████| 195/195 [01:04<00:00,  3.03it/s, acc=0.4, loss=1.19]\n"
     ]
    },
    {
     "name": "stdout",
     "output_type": "stream",
     "text": [
      "\tTrain ACC: 0.341474358974359, Train Pearson: 0.3352621548201756\n"
     ]
    },
    {
     "name": "stderr",
     "output_type": "stream",
     "text": [
      "Epoch 2 valid: 100%|████████████████████████████| 135/135 [00:18<00:00,  7.42it/s, acc=0, loss=1.92]\n",
      "/home/lijianhang/anaconda3/envs/LLM/lib/python3.11/site-packages/sklearn/metrics/_classification.py:1565: UndefinedMetricWarning: Precision is ill-defined and being set to 0.0 in labels with no predicted samples. Use `zero_division` parameter to control this behavior.\n",
      "  _warn_prf(average, modifier, f\"{metric.capitalize()} is\", len(result))\n",
      "/home/lijianhang/anaconda3/envs/LLM/lib/python3.11/site-packages/sklearn/metrics/_classification.py:1565: UndefinedMetricWarning: Precision is ill-defined and being set to 0.0 in labels with no predicted samples. Use `zero_division` parameter to control this behavior.\n",
      "  _warn_prf(average, modifier, f\"{metric.capitalize()} is\", len(result))\n",
      "/home/lijianhang/anaconda3/envs/LLM/lib/python3.11/site-packages/sklearn/metrics/_classification.py:1565: UndefinedMetricWarning: Precision is ill-defined and being set to 0.0 in labels with no predicted samples. Use `zero_division` parameter to control this behavior.\n",
      "  _warn_prf(average, modifier, f\"{metric.capitalize()} is\", len(result))\n"
     ]
    },
    {
     "name": "stdout",
     "output_type": "stream",
     "text": [
      "\tValid ACC: 0.38472222222222224, Valid Pearson: 0.352346166717276\n",
      "* Classification Report:\n",
      "              precision    recall  f1-score   support\n",
      "\n",
      "       moved       0.00      0.00      0.00       365\n",
      "       angry       0.39      0.99      0.56       837\n",
      "       funny       0.20      0.01      0.01       530\n",
      "         sad       0.00      0.00      0.00       292\n",
      "       novel       0.00      0.00      0.00        34\n",
      "     shocked       0.00      0.00      0.00        90\n",
      "\n",
      "    accuracy                           0.39      2148\n",
      "   macro avg       0.10      0.17      0.10      2148\n",
      "weighted avg       0.20      0.39      0.22      2148\n",
      "\n"
     ]
    },
    {
     "name": "stderr",
     "output_type": "stream",
     "text": [
      "Epoch 3 train: 100%|██████████████████████████| 195/195 [01:04<00:00,  3.02it/s, acc=0.6, loss=1.29]\n"
     ]
    },
    {
     "name": "stdout",
     "output_type": "stream",
     "text": [
      "\tTrain ACC: 0.3367307692307692, Train Pearson: 0.33381401994447085\n"
     ]
    },
    {
     "name": "stderr",
     "output_type": "stream",
     "text": [
      "Epoch 3 valid: 100%|████████████████████████████| 135/135 [00:18<00:00,  7.42it/s, acc=0, loss=1.83]\n",
      "/home/lijianhang/anaconda3/envs/LLM/lib/python3.11/site-packages/sklearn/metrics/_classification.py:1565: UndefinedMetricWarning: Precision is ill-defined and being set to 0.0 in labels with no predicted samples. Use `zero_division` parameter to control this behavior.\n",
      "  _warn_prf(average, modifier, f\"{metric.capitalize()} is\", len(result))\n",
      "/home/lijianhang/anaconda3/envs/LLM/lib/python3.11/site-packages/sklearn/metrics/_classification.py:1565: UndefinedMetricWarning: Precision is ill-defined and being set to 0.0 in labels with no predicted samples. Use `zero_division` parameter to control this behavior.\n",
      "  _warn_prf(average, modifier, f\"{metric.capitalize()} is\", len(result))\n",
      "/home/lijianhang/anaconda3/envs/LLM/lib/python3.11/site-packages/sklearn/metrics/_classification.py:1565: UndefinedMetricWarning: Precision is ill-defined and being set to 0.0 in labels with no predicted samples. Use `zero_division` parameter to control this behavior.\n",
      "  _warn_prf(average, modifier, f\"{metric.capitalize()} is\", len(result))\n"
     ]
    },
    {
     "name": "stdout",
     "output_type": "stream",
     "text": [
      "\tValid ACC: 0.3875, Valid Pearson: 0.3537026800562251\n",
      "* Classification Report:\n",
      "              precision    recall  f1-score   support\n",
      "\n",
      "       moved       0.00      0.00      0.00       365\n",
      "       angry       0.39      1.00      0.56       837\n",
      "       funny       0.00      0.00      0.00       530\n",
      "         sad       0.00      0.00      0.00       292\n",
      "       novel       0.00      0.00      0.00        34\n",
      "     shocked       0.00      0.00      0.00        90\n",
      "\n",
      "    accuracy                           0.39      2148\n",
      "   macro avg       0.06      0.17      0.09      2148\n",
      "weighted avg       0.15      0.39      0.22      2148\n",
      "\n"
     ]
    },
    {
     "name": "stderr",
     "output_type": "stream",
     "text": [
      "Epoch 4 train: 100%|████████████████████████████| 195/195 [01:04<00:00,  3.02it/s, acc=0, loss=1.63]\n"
     ]
    },
    {
     "name": "stdout",
     "output_type": "stream",
     "text": [
      "\tTrain ACC: 0.3368589743589744, Train Pearson: 0.33171296839119924\n"
     ]
    },
    {
     "name": "stderr",
     "output_type": "stream",
     "text": [
      "Epoch 4 valid: 100%|████████████████████████████| 135/135 [00:17<00:00,  7.75it/s, acc=0, loss=1.88]\n",
      "/home/lijianhang/anaconda3/envs/LLM/lib/python3.11/site-packages/sklearn/metrics/_classification.py:1565: UndefinedMetricWarning: Precision is ill-defined and being set to 0.0 in labels with no predicted samples. Use `zero_division` parameter to control this behavior.\n",
      "  _warn_prf(average, modifier, f\"{metric.capitalize()} is\", len(result))\n",
      "/home/lijianhang/anaconda3/envs/LLM/lib/python3.11/site-packages/sklearn/metrics/_classification.py:1565: UndefinedMetricWarning: Precision is ill-defined and being set to 0.0 in labels with no predicted samples. Use `zero_division` parameter to control this behavior.\n",
      "  _warn_prf(average, modifier, f\"{metric.capitalize()} is\", len(result))\n",
      "/home/lijianhang/anaconda3/envs/LLM/lib/python3.11/site-packages/sklearn/metrics/_classification.py:1565: UndefinedMetricWarning: Precision is ill-defined and being set to 0.0 in labels with no predicted samples. Use `zero_division` parameter to control this behavior.\n",
      "  _warn_prf(average, modifier, f\"{metric.capitalize()} is\", len(result))\n"
     ]
    },
    {
     "name": "stdout",
     "output_type": "stream",
     "text": [
      "\tValid ACC: 0.3875, Valid Pearson: 0.3563891811808943\n",
      "* Classification Report:\n",
      "              precision    recall  f1-score   support\n",
      "\n",
      "       moved       0.00      0.00      0.00       365\n",
      "       angry       0.39      1.00      0.56       837\n",
      "       funny       0.00      0.00      0.00       530\n",
      "         sad       0.00      0.00      0.00       292\n",
      "       novel       0.00      0.00      0.00        34\n",
      "     shocked       0.00      0.00      0.00        90\n",
      "\n",
      "    accuracy                           0.39      2148\n",
      "   macro avg       0.06      0.17      0.09      2148\n",
      "weighted avg       0.15      0.39      0.22      2148\n",
      "\n"
     ]
    },
    {
     "name": "stderr",
     "output_type": "stream",
     "text": [
      "Epoch 5 train: 100%|██████████████████████████| 195/195 [01:04<00:00,  3.02it/s, acc=0.6, loss=1.09]\n"
     ]
    },
    {
     "name": "stdout",
     "output_type": "stream",
     "text": [
      "\tTrain ACC: 0.34410256410256407, Train Pearson: 0.3321418794043716\n"
     ]
    },
    {
     "name": "stderr",
     "output_type": "stream",
     "text": [
      "Epoch 5 valid: 100%|████████████████████████████| 135/135 [00:18<00:00,  7.46it/s, acc=0, loss=1.87]\n",
      "/home/lijianhang/anaconda3/envs/LLM/lib/python3.11/site-packages/sklearn/metrics/_classification.py:1565: UndefinedMetricWarning: Precision is ill-defined and being set to 0.0 in labels with no predicted samples. Use `zero_division` parameter to control this behavior.\n",
      "  _warn_prf(average, modifier, f\"{metric.capitalize()} is\", len(result))\n",
      "/home/lijianhang/anaconda3/envs/LLM/lib/python3.11/site-packages/sklearn/metrics/_classification.py:1565: UndefinedMetricWarning: Precision is ill-defined and being set to 0.0 in labels with no predicted samples. Use `zero_division` parameter to control this behavior.\n",
      "  _warn_prf(average, modifier, f\"{metric.capitalize()} is\", len(result))\n",
      "/home/lijianhang/anaconda3/envs/LLM/lib/python3.11/site-packages/sklearn/metrics/_classification.py:1565: UndefinedMetricWarning: Precision is ill-defined and being set to 0.0 in labels with no predicted samples. Use `zero_division` parameter to control this behavior.\n",
      "  _warn_prf(average, modifier, f\"{metric.capitalize()} is\", len(result))\n"
     ]
    },
    {
     "name": "stdout",
     "output_type": "stream",
     "text": [
      "\tValid ACC: 0.3875, Valid Pearson: 0.3618092147323314\n",
      "* Classification Report:\n",
      "              precision    recall  f1-score   support\n",
      "\n",
      "       moved       0.00      0.00      0.00       365\n",
      "       angry       0.39      1.00      0.56       837\n",
      "       funny       0.00      0.00      0.00       530\n",
      "         sad       0.00      0.00      0.00       292\n",
      "       novel       0.00      0.00      0.00        34\n",
      "     shocked       0.00      0.00      0.00        90\n",
      "\n",
      "    accuracy                           0.39      2148\n",
      "   macro avg       0.06      0.17      0.09      2148\n",
      "weighted avg       0.15      0.39      0.22      2148\n",
      "\n"
     ]
    },
    {
     "name": "stderr",
     "output_type": "stream",
     "text": [
      "Epoch 6 train: 100%|██████████████████████████| 195/195 [01:04<00:00,  3.02it/s, acc=0.6, loss=1.29]\n"
     ]
    },
    {
     "name": "stdout",
     "output_type": "stream",
     "text": [
      "\tTrain ACC: 0.3533974358974359, Train Pearson: 0.3374448396106139\n"
     ]
    },
    {
     "name": "stderr",
     "output_type": "stream",
     "text": [
      "Epoch 6 valid: 100%|█████████████████████████| 135/135 [00:18<00:00,  7.47it/s, acc=0.25, loss=1.77]\n",
      "/home/lijianhang/anaconda3/envs/LLM/lib/python3.11/site-packages/sklearn/metrics/_classification.py:1565: UndefinedMetricWarning: Precision is ill-defined and being set to 0.0 in labels with no predicted samples. Use `zero_division` parameter to control this behavior.\n",
      "  _warn_prf(average, modifier, f\"{metric.capitalize()} is\", len(result))\n",
      "/home/lijianhang/anaconda3/envs/LLM/lib/python3.11/site-packages/sklearn/metrics/_classification.py:1565: UndefinedMetricWarning: Precision is ill-defined and being set to 0.0 in labels with no predicted samples. Use `zero_division` parameter to control this behavior.\n",
      "  _warn_prf(average, modifier, f\"{metric.capitalize()} is\", len(result))\n",
      "/home/lijianhang/anaconda3/envs/LLM/lib/python3.11/site-packages/sklearn/metrics/_classification.py:1565: UndefinedMetricWarning: Precision is ill-defined and being set to 0.0 in labels with no predicted samples. Use `zero_division` parameter to control this behavior.\n",
      "  _warn_prf(average, modifier, f\"{metric.capitalize()} is\", len(result))\n"
     ]
    },
    {
     "name": "stdout",
     "output_type": "stream",
     "text": [
      "\tValid ACC: 0.39537037037037037, Valid Pearson: 0.3457979216630721\n",
      "* Classification Report:\n",
      "              precision    recall  f1-score   support\n",
      "\n",
      "       moved       0.00      0.00      0.00       365\n",
      "       angry       0.40      0.98      0.56       837\n",
      "       funny       0.43      0.05      0.10       530\n",
      "         sad       0.00      0.00      0.00       292\n",
      "       novel       0.00      0.00      0.00        34\n",
      "     shocked       0.00      0.00      0.00        90\n",
      "\n",
      "    accuracy                           0.40      2148\n",
      "   macro avg       0.14      0.17      0.11      2148\n",
      "weighted avg       0.26      0.40      0.24      2148\n",
      "\n"
     ]
    },
    {
     "name": "stderr",
     "output_type": "stream",
     "text": [
      "Epoch 7 train: 100%|████████████████████████████| 195/195 [01:04<00:00,  3.02it/s, acc=0, loss=1.35]\n"
     ]
    },
    {
     "name": "stdout",
     "output_type": "stream",
     "text": [
      "\tTrain ACC: 0.3439102564102564, Train Pearson: 0.3344941366124212\n"
     ]
    },
    {
     "name": "stderr",
     "output_type": "stream",
     "text": [
      "Epoch 7 valid: 100%|████████████████████████████| 135/135 [00:17<00:00,  7.74it/s, acc=0, loss=1.78]\n",
      "/home/lijianhang/anaconda3/envs/LLM/lib/python3.11/site-packages/sklearn/metrics/_classification.py:1565: UndefinedMetricWarning: Precision is ill-defined and being set to 0.0 in labels with no predicted samples. Use `zero_division` parameter to control this behavior.\n",
      "  _warn_prf(average, modifier, f\"{metric.capitalize()} is\", len(result))\n",
      "/home/lijianhang/anaconda3/envs/LLM/lib/python3.11/site-packages/sklearn/metrics/_classification.py:1565: UndefinedMetricWarning: Precision is ill-defined and being set to 0.0 in labels with no predicted samples. Use `zero_division` parameter to control this behavior.\n",
      "  _warn_prf(average, modifier, f\"{metric.capitalize()} is\", len(result))\n",
      "/home/lijianhang/anaconda3/envs/LLM/lib/python3.11/site-packages/sklearn/metrics/_classification.py:1565: UndefinedMetricWarning: Precision is ill-defined and being set to 0.0 in labels with no predicted samples. Use `zero_division` parameter to control this behavior.\n",
      "  _warn_prf(average, modifier, f\"{metric.capitalize()} is\", len(result))\n"
     ]
    },
    {
     "name": "stdout",
     "output_type": "stream",
     "text": [
      "\tValid ACC: 0.38796296296296295, Valid Pearson: 0.3555288173155967\n",
      "* Classification Report:\n",
      "              precision    recall  f1-score   support\n",
      "\n",
      "       moved       0.00      0.00      0.00       365\n",
      "       angry       0.39      1.00      0.56       837\n",
      "       funny       1.00      0.00      0.00       530\n",
      "         sad       0.00      0.00      0.00       292\n",
      "       novel       0.00      0.00      0.00        34\n",
      "     shocked       0.00      0.00      0.00        90\n",
      "\n",
      "    accuracy                           0.39      2148\n",
      "   macro avg       0.23      0.17      0.09      2148\n",
      "weighted avg       0.40      0.39      0.22      2148\n",
      "\n"
     ]
    },
    {
     "name": "stderr",
     "output_type": "stream",
     "text": [
      "Epoch 8 train: 100%|██████████████████████████| 195/195 [01:05<00:00,  2.99it/s, acc=0.6, loss=1.38]\n"
     ]
    },
    {
     "name": "stdout",
     "output_type": "stream",
     "text": [
      "\tTrain ACC: 0.3556410256410256, Train Pearson: 0.3363287670673559\n"
     ]
    },
    {
     "name": "stderr",
     "output_type": "stream",
     "text": [
      "Epoch 8 valid: 100%|████████████████████████████| 135/135 [00:17<00:00,  7.76it/s, acc=0, loss=1.85]\n",
      "/home/lijianhang/anaconda3/envs/LLM/lib/python3.11/site-packages/sklearn/metrics/_classification.py:1565: UndefinedMetricWarning: Precision is ill-defined and being set to 0.0 in labels with no predicted samples. Use `zero_division` parameter to control this behavior.\n",
      "  _warn_prf(average, modifier, f\"{metric.capitalize()} is\", len(result))\n",
      "/home/lijianhang/anaconda3/envs/LLM/lib/python3.11/site-packages/sklearn/metrics/_classification.py:1565: UndefinedMetricWarning: Precision is ill-defined and being set to 0.0 in labels with no predicted samples. Use `zero_division` parameter to control this behavior.\n",
      "  _warn_prf(average, modifier, f\"{metric.capitalize()} is\", len(result))\n",
      "/home/lijianhang/anaconda3/envs/LLM/lib/python3.11/site-packages/sklearn/metrics/_classification.py:1565: UndefinedMetricWarning: Precision is ill-defined and being set to 0.0 in labels with no predicted samples. Use `zero_division` parameter to control this behavior.\n",
      "  _warn_prf(average, modifier, f\"{metric.capitalize()} is\", len(result))\n"
     ]
    },
    {
     "name": "stdout",
     "output_type": "stream",
     "text": [
      "\tValid ACC: 0.3875, Valid Pearson: 0.3578124538305105\n",
      "* Classification Report:\n",
      "              precision    recall  f1-score   support\n",
      "\n",
      "       moved       0.00      0.00      0.00       365\n",
      "       angry       0.39      1.00      0.56       837\n",
      "       funny       0.00      0.00      0.00       530\n",
      "         sad       0.00      0.00      0.00       292\n",
      "       novel       0.00      0.00      0.00        34\n",
      "     shocked       0.00      0.00      0.00        90\n",
      "\n",
      "    accuracy                           0.39      2148\n",
      "   macro avg       0.06      0.17      0.09      2148\n",
      "weighted avg       0.15      0.39      0.22      2148\n",
      "\n"
     ]
    },
    {
     "name": "stderr",
     "output_type": "stream",
     "text": [
      "Epoch 9 train: 100%|██████████████████████████| 195/195 [01:04<00:00,  3.02it/s, acc=0.4, loss=1.65]\n"
     ]
    },
    {
     "name": "stdout",
     "output_type": "stream",
     "text": [
      "\tTrain ACC: 0.3510897435897436, Train Pearson: 0.33602877265774056\n"
     ]
    },
    {
     "name": "stderr",
     "output_type": "stream",
     "text": [
      "Epoch 9 valid: 100%|████████████████████████████| 135/135 [00:18<00:00,  7.46it/s, acc=0, loss=1.81]\n",
      "/home/lijianhang/anaconda3/envs/LLM/lib/python3.11/site-packages/sklearn/metrics/_classification.py:1565: UndefinedMetricWarning: Precision is ill-defined and being set to 0.0 in labels with no predicted samples. Use `zero_division` parameter to control this behavior.\n",
      "  _warn_prf(average, modifier, f\"{metric.capitalize()} is\", len(result))\n",
      "/home/lijianhang/anaconda3/envs/LLM/lib/python3.11/site-packages/sklearn/metrics/_classification.py:1565: UndefinedMetricWarning: Precision is ill-defined and being set to 0.0 in labels with no predicted samples. Use `zero_division` parameter to control this behavior.\n",
      "  _warn_prf(average, modifier, f\"{metric.capitalize()} is\", len(result))\n",
      "/home/lijianhang/anaconda3/envs/LLM/lib/python3.11/site-packages/sklearn/metrics/_classification.py:1565: UndefinedMetricWarning: Precision is ill-defined and being set to 0.0 in labels with no predicted samples. Use `zero_division` parameter to control this behavior.\n",
      "  _warn_prf(average, modifier, f\"{metric.capitalize()} is\", len(result))\n"
     ]
    },
    {
     "name": "stdout",
     "output_type": "stream",
     "text": [
      "\tValid ACC: 0.38796296296296295, Valid Pearson: 0.3537664938714317\n",
      "* Classification Report:\n",
      "              precision    recall  f1-score   support\n",
      "\n",
      "       moved       0.00      0.00      0.00       365\n",
      "       angry       0.39      1.00      0.56       837\n",
      "       funny       1.00      0.00      0.00       530\n",
      "         sad       0.00      0.00      0.00       292\n",
      "       novel       0.00      0.00      0.00        34\n",
      "     shocked       0.00      0.00      0.00        90\n",
      "\n",
      "    accuracy                           0.39      2148\n",
      "   macro avg       0.23      0.17      0.09      2148\n",
      "weighted avg       0.40      0.39      0.22      2148\n",
      "\n"
     ]
    },
    {
     "name": "stderr",
     "output_type": "stream",
     "text": [
      "Epoch 10 train: 100%|█████████████████████████| 195/195 [01:04<00:00,  3.02it/s, acc=0.2, loss=1.52]\n"
     ]
    },
    {
     "name": "stdout",
     "output_type": "stream",
     "text": [
      "\tTrain ACC: 0.35102564102564104, Train Pearson: 0.33605194098822705\n"
     ]
    },
    {
     "name": "stderr",
     "output_type": "stream",
     "text": [
      "Epoch 10 valid: 100%|████████████████████████| 135/135 [00:18<00:00,  7.46it/s, acc=0.25, loss=1.86]\n",
      "/home/lijianhang/anaconda3/envs/LLM/lib/python3.11/site-packages/sklearn/metrics/_classification.py:1565: UndefinedMetricWarning: Precision is ill-defined and being set to 0.0 in labels with no predicted samples. Use `zero_division` parameter to control this behavior.\n",
      "  _warn_prf(average, modifier, f\"{metric.capitalize()} is\", len(result))\n",
      "/home/lijianhang/anaconda3/envs/LLM/lib/python3.11/site-packages/sklearn/metrics/_classification.py:1565: UndefinedMetricWarning: Precision is ill-defined and being set to 0.0 in labels with no predicted samples. Use `zero_division` parameter to control this behavior.\n",
      "  _warn_prf(average, modifier, f\"{metric.capitalize()} is\", len(result))\n",
      "/home/lijianhang/anaconda3/envs/LLM/lib/python3.11/site-packages/sklearn/metrics/_classification.py:1565: UndefinedMetricWarning: Precision is ill-defined and being set to 0.0 in labels with no predicted samples. Use `zero_division` parameter to control this behavior.\n",
      "  _warn_prf(average, modifier, f\"{metric.capitalize()} is\", len(result))\n"
     ]
    },
    {
     "name": "stdout",
     "output_type": "stream",
     "text": [
      "\tValid ACC: 0.42268518518518516, Valid Pearson: 0.3615690577862958\n",
      "* Classification Report:\n",
      "              precision    recall  f1-score   support\n",
      "\n",
      "       moved       0.00      0.00      0.00       365\n",
      "       angry       0.44      0.81      0.57       837\n",
      "       funny       0.39      0.44      0.41       530\n",
      "         sad       0.00      0.00      0.00       292\n",
      "       novel       0.00      0.00      0.00        34\n",
      "     shocked       0.00      0.00      0.00        90\n",
      "\n",
      "    accuracy                           0.42      2148\n",
      "   macro avg       0.14      0.21      0.16      2148\n",
      "weighted avg       0.27      0.42      0.32      2148\n",
      "\n"
     ]
    },
    {
     "name": "stderr",
     "output_type": "stream",
     "text": [
      "Epoch 11 train: 100%|█████████████████████████| 195/195 [01:04<00:00,  3.02it/s, acc=0.2, loss=1.51]\n"
     ]
    },
    {
     "name": "stdout",
     "output_type": "stream",
     "text": [
      "\tTrain ACC: 0.3587179487179487, Train Pearson: 0.3413632371441837\n"
     ]
    },
    {
     "name": "stderr",
     "output_type": "stream",
     "text": [
      "Epoch 11 valid: 100%|████████████████████████| 135/135 [00:17<00:00,  7.76it/s, acc=0.25, loss=1.72]\n",
      "/home/lijianhang/anaconda3/envs/LLM/lib/python3.11/site-packages/sklearn/metrics/_classification.py:1565: UndefinedMetricWarning: Precision is ill-defined and being set to 0.0 in labels with no predicted samples. Use `zero_division` parameter to control this behavior.\n",
      "  _warn_prf(average, modifier, f\"{metric.capitalize()} is\", len(result))\n",
      "/home/lijianhang/anaconda3/envs/LLM/lib/python3.11/site-packages/sklearn/metrics/_classification.py:1565: UndefinedMetricWarning: Precision is ill-defined and being set to 0.0 in labels with no predicted samples. Use `zero_division` parameter to control this behavior.\n",
      "  _warn_prf(average, modifier, f\"{metric.capitalize()} is\", len(result))\n",
      "/home/lijianhang/anaconda3/envs/LLM/lib/python3.11/site-packages/sklearn/metrics/_classification.py:1565: UndefinedMetricWarning: Precision is ill-defined and being set to 0.0 in labels with no predicted samples. Use `zero_division` parameter to control this behavior.\n",
      "  _warn_prf(average, modifier, f\"{metric.capitalize()} is\", len(result))\n"
     ]
    },
    {
     "name": "stdout",
     "output_type": "stream",
     "text": [
      "\tValid ACC: 0.4222222222222222, Valid Pearson: 0.3437933713321061\n",
      "* Classification Report:\n",
      "              precision    recall  f1-score   support\n",
      "\n",
      "       moved       0.00      0.00      0.00       365\n",
      "       angry       0.43      0.85      0.57       837\n",
      "       funny       0.40      0.37      0.39       530\n",
      "         sad       0.00      0.00      0.00       292\n",
      "       novel       0.00      0.00      0.00        34\n",
      "     shocked       0.00      0.00      0.00        90\n",
      "\n",
      "    accuracy                           0.42      2148\n",
      "   macro avg       0.14      0.20      0.16      2148\n",
      "weighted avg       0.27      0.42      0.32      2148\n",
      "\n"
     ]
    },
    {
     "name": "stderr",
     "output_type": "stream",
     "text": [
      "Epoch 12 train: 100%|█████████████████████████| 195/195 [01:05<00:00,  2.99it/s, acc=0.8, loss=1.28]\n"
     ]
    },
    {
     "name": "stdout",
     "output_type": "stream",
     "text": [
      "\tTrain ACC: 0.35858974358974355, Train Pearson: 0.3361077305081581\n"
     ]
    },
    {
     "name": "stderr",
     "output_type": "stream",
     "text": [
      "Epoch 12 valid: 100%|████████████████████████| 135/135 [00:17<00:00,  7.76it/s, acc=0.25, loss=1.91]\n",
      "/home/lijianhang/anaconda3/envs/LLM/lib/python3.11/site-packages/sklearn/metrics/_classification.py:1565: UndefinedMetricWarning: Precision is ill-defined and being set to 0.0 in labels with no predicted samples. Use `zero_division` parameter to control this behavior.\n",
      "  _warn_prf(average, modifier, f\"{metric.capitalize()} is\", len(result))\n",
      "/home/lijianhang/anaconda3/envs/LLM/lib/python3.11/site-packages/sklearn/metrics/_classification.py:1565: UndefinedMetricWarning: Precision is ill-defined and being set to 0.0 in labels with no predicted samples. Use `zero_division` parameter to control this behavior.\n",
      "  _warn_prf(average, modifier, f\"{metric.capitalize()} is\", len(result))\n",
      "/home/lijianhang/anaconda3/envs/LLM/lib/python3.11/site-packages/sklearn/metrics/_classification.py:1565: UndefinedMetricWarning: Precision is ill-defined and being set to 0.0 in labels with no predicted samples. Use `zero_division` parameter to control this behavior.\n",
      "  _warn_prf(average, modifier, f\"{metric.capitalize()} is\", len(result))\n"
     ]
    },
    {
     "name": "stdout",
     "output_type": "stream",
     "text": [
      "\tValid ACC: 0.3921296296296296, Valid Pearson: 0.36486587134198334\n",
      "* Classification Report:\n",
      "              precision    recall  f1-score   support\n",
      "\n",
      "       moved       0.00      0.00      0.00       365\n",
      "       angry       0.39      1.00      0.56       837\n",
      "       funny       0.45      0.02      0.03       530\n",
      "         sad       0.00      0.00      0.00       292\n",
      "       novel       0.00      0.00      0.00        34\n",
      "     shocked       0.00      0.00      0.00        90\n",
      "\n",
      "    accuracy                           0.39      2148\n",
      "   macro avg       0.14      0.17      0.10      2148\n",
      "weighted avg       0.26      0.39      0.23      2148\n",
      "\n"
     ]
    },
    {
     "name": "stderr",
     "output_type": "stream",
     "text": [
      "Epoch 13 train: 100%|████████████████████████████| 195/195 [01:04<00:00,  3.02it/s, acc=0, loss=1.9]\n"
     ]
    },
    {
     "name": "stdout",
     "output_type": "stream",
     "text": [
      "\tTrain ACC: 0.35, Train Pearson: 0.34019609059453537\n"
     ]
    },
    {
     "name": "stderr",
     "output_type": "stream",
     "text": [
      "Epoch 13 valid: 100%|███████████████████████████| 135/135 [00:18<00:00,  7.46it/s, acc=0, loss=1.85]\n",
      "/home/lijianhang/anaconda3/envs/LLM/lib/python3.11/site-packages/sklearn/metrics/_classification.py:1565: UndefinedMetricWarning: Precision is ill-defined and being set to 0.0 in labels with no predicted samples. Use `zero_division` parameter to control this behavior.\n",
      "  _warn_prf(average, modifier, f\"{metric.capitalize()} is\", len(result))\n",
      "/home/lijianhang/anaconda3/envs/LLM/lib/python3.11/site-packages/sklearn/metrics/_classification.py:1565: UndefinedMetricWarning: Precision is ill-defined and being set to 0.0 in labels with no predicted samples. Use `zero_division` parameter to control this behavior.\n",
      "  _warn_prf(average, modifier, f\"{metric.capitalize()} is\", len(result))\n",
      "/home/lijianhang/anaconda3/envs/LLM/lib/python3.11/site-packages/sklearn/metrics/_classification.py:1565: UndefinedMetricWarning: Precision is ill-defined and being set to 0.0 in labels with no predicted samples. Use `zero_division` parameter to control this behavior.\n",
      "  _warn_prf(average, modifier, f\"{metric.capitalize()} is\", len(result))\n"
     ]
    },
    {
     "name": "stdout",
     "output_type": "stream",
     "text": [
      "\tValid ACC: 0.3888888888888889, Valid Pearson: 0.36030768173584626\n",
      "* Classification Report:\n",
      "              precision    recall  f1-score   support\n",
      "\n",
      "       moved       0.00      0.00      0.00       365\n",
      "       angry       0.39      1.00      0.56       837\n",
      "       funny       0.42      0.01      0.02       530\n",
      "         sad       0.00      0.00      0.00       292\n",
      "       novel       0.00      0.00      0.00        34\n",
      "     shocked       0.00      0.00      0.00        90\n",
      "\n",
      "    accuracy                           0.39      2148\n",
      "   macro avg       0.13      0.17      0.10      2148\n",
      "weighted avg       0.26      0.39      0.22      2148\n",
      "\n"
     ]
    },
    {
     "name": "stderr",
     "output_type": "stream",
     "text": [
      "Epoch 14 train: 100%|█████████████████████████| 195/195 [01:04<00:00,  3.02it/s, acc=0.2, loss=1.82]\n"
     ]
    },
    {
     "name": "stdout",
     "output_type": "stream",
     "text": [
      "\tTrain ACC: 0.3641666666666667, Train Pearson: 0.34009192297032176\n"
     ]
    },
    {
     "name": "stderr",
     "output_type": "stream",
     "text": [
      "Epoch 14 valid: 100%|████████████████████████| 135/135 [00:18<00:00,  7.45it/s, acc=0.25, loss=1.82]\n",
      "/home/lijianhang/anaconda3/envs/LLM/lib/python3.11/site-packages/sklearn/metrics/_classification.py:1565: UndefinedMetricWarning: Precision is ill-defined and being set to 0.0 in labels with no predicted samples. Use `zero_division` parameter to control this behavior.\n",
      "  _warn_prf(average, modifier, f\"{metric.capitalize()} is\", len(result))\n",
      "/home/lijianhang/anaconda3/envs/LLM/lib/python3.11/site-packages/sklearn/metrics/_classification.py:1565: UndefinedMetricWarning: Precision is ill-defined and being set to 0.0 in labels with no predicted samples. Use `zero_division` parameter to control this behavior.\n",
      "  _warn_prf(average, modifier, f\"{metric.capitalize()} is\", len(result))\n",
      "/home/lijianhang/anaconda3/envs/LLM/lib/python3.11/site-packages/sklearn/metrics/_classification.py:1565: UndefinedMetricWarning: Precision is ill-defined and being set to 0.0 in labels with no predicted samples. Use `zero_division` parameter to control this behavior.\n",
      "  _warn_prf(average, modifier, f\"{metric.capitalize()} is\", len(result))\n"
     ]
    },
    {
     "name": "stdout",
     "output_type": "stream",
     "text": [
      "\tValid ACC: 0.3912037037037037, Valid Pearson: 0.35853739498719434\n",
      "* Classification Report:\n",
      "              precision    recall  f1-score   support\n",
      "\n",
      "       moved       0.00      0.00      0.00       365\n",
      "       angry       0.54      0.50      0.52       837\n",
      "       funny       0.31      0.79      0.44       530\n",
      "         sad       0.00      0.00      0.00       292\n",
      "       novel       0.00      0.00      0.00        34\n",
      "     shocked       0.00      0.00      0.00        90\n",
      "\n",
      "    accuracy                           0.39      2148\n",
      "   macro avg       0.14      0.22      0.16      2148\n",
      "weighted avg       0.28      0.39      0.31      2148\n",
      "\n"
     ]
    },
    {
     "name": "stderr",
     "output_type": "stream",
     "text": [
      "Epoch 15 train: 100%|█████████████████████████| 195/195 [01:04<00:00,  3.02it/s, acc=0.4, loss=1.45]\n"
     ]
    },
    {
     "name": "stdout",
     "output_type": "stream",
     "text": [
      "\tTrain ACC: 0.3584615384615385, Train Pearson: 0.3385359344137903\n"
     ]
    },
    {
     "name": "stderr",
     "output_type": "stream",
     "text": [
      "Epoch 15 valid: 100%|████████████████████████| 135/135 [00:17<00:00,  7.75it/s, acc=0.25, loss=1.86]\n",
      "/home/lijianhang/anaconda3/envs/LLM/lib/python3.11/site-packages/sklearn/metrics/_classification.py:1565: UndefinedMetricWarning: Precision is ill-defined and being set to 0.0 in labels with no predicted samples. Use `zero_division` parameter to control this behavior.\n",
      "  _warn_prf(average, modifier, f\"{metric.capitalize()} is\", len(result))\n",
      "/home/lijianhang/anaconda3/envs/LLM/lib/python3.11/site-packages/sklearn/metrics/_classification.py:1565: UndefinedMetricWarning: Precision is ill-defined and being set to 0.0 in labels with no predicted samples. Use `zero_division` parameter to control this behavior.\n",
      "  _warn_prf(average, modifier, f\"{metric.capitalize()} is\", len(result))\n",
      "/home/lijianhang/anaconda3/envs/LLM/lib/python3.11/site-packages/sklearn/metrics/_classification.py:1565: UndefinedMetricWarning: Precision is ill-defined and being set to 0.0 in labels with no predicted samples. Use `zero_division` parameter to control this behavior.\n",
      "  _warn_prf(average, modifier, f\"{metric.capitalize()} is\", len(result))\n"
     ]
    },
    {
     "name": "stdout",
     "output_type": "stream",
     "text": [
      "\tValid ACC: 0.42592592592592593, Valid Pearson: 0.3673950187018684\n",
      "* Classification Report:\n",
      "              precision    recall  f1-score   support\n",
      "\n",
      "       moved       0.00      0.00      0.00       365\n",
      "       angry       0.43      0.86      0.57       837\n",
      "       funny       0.41      0.38      0.39       530\n",
      "         sad       0.00      0.00      0.00       292\n",
      "       novel       0.00      0.00      0.00        34\n",
      "     shocked       0.00      0.00      0.00        90\n",
      "\n",
      "    accuracy                           0.43      2148\n",
      "   macro avg       0.14      0.21      0.16      2148\n",
      "weighted avg       0.27      0.43      0.32      2148\n",
      "\n"
     ]
    },
    {
     "name": "stderr",
     "output_type": "stream",
     "text": [
      "Epoch 16 train: 100%|█████████████████████████| 195/195 [01:05<00:00,  2.98it/s, acc=0.6, loss=1.48]\n"
     ]
    },
    {
     "name": "stdout",
     "output_type": "stream",
     "text": [
      "\tTrain ACC: 0.36076923076923073, Train Pearson: 0.34578116014881854\n"
     ]
    },
    {
     "name": "stderr",
     "output_type": "stream",
     "text": [
      "Epoch 16 valid: 100%|████████████████████████| 135/135 [00:17<00:00,  7.71it/s, acc=0.25, loss=1.75]\n",
      "/home/lijianhang/anaconda3/envs/LLM/lib/python3.11/site-packages/sklearn/metrics/_classification.py:1565: UndefinedMetricWarning: Precision is ill-defined and being set to 0.0 in labels with no predicted samples. Use `zero_division` parameter to control this behavior.\n",
      "  _warn_prf(average, modifier, f\"{metric.capitalize()} is\", len(result))\n",
      "/home/lijianhang/anaconda3/envs/LLM/lib/python3.11/site-packages/sklearn/metrics/_classification.py:1565: UndefinedMetricWarning: Precision is ill-defined and being set to 0.0 in labels with no predicted samples. Use `zero_division` parameter to control this behavior.\n",
      "  _warn_prf(average, modifier, f\"{metric.capitalize()} is\", len(result))\n",
      "/home/lijianhang/anaconda3/envs/LLM/lib/python3.11/site-packages/sklearn/metrics/_classification.py:1565: UndefinedMetricWarning: Precision is ill-defined and being set to 0.0 in labels with no predicted samples. Use `zero_division` parameter to control this behavior.\n",
      "  _warn_prf(average, modifier, f\"{metric.capitalize()} is\", len(result))\n"
     ]
    },
    {
     "name": "stdout",
     "output_type": "stream",
     "text": [
      "\tValid ACC: 0.40879629629629627, Valid Pearson: 0.3598970242799681\n",
      "* Classification Report:\n",
      "              precision    recall  f1-score   support\n",
      "\n",
      "       moved       0.00      0.00      0.00       365\n",
      "       angry       0.40      0.97      0.57       837\n",
      "       funny       0.49      0.13      0.20       530\n",
      "         sad       0.00      0.00      0.00       292\n",
      "       novel       0.00      0.00      0.00        34\n",
      "     shocked       0.00      0.00      0.00        90\n",
      "\n",
      "    accuracy                           0.41      2148\n",
      "   macro avg       0.15      0.18      0.13      2148\n",
      "weighted avg       0.28      0.41      0.27      2148\n",
      "\n"
     ]
    },
    {
     "name": "stderr",
     "output_type": "stream",
     "text": [
      "Epoch 17 train: 100%|█████████████████████████| 195/195 [01:04<00:00,  3.01it/s, acc=0.4, loss=1.22]\n"
     ]
    },
    {
     "name": "stdout",
     "output_type": "stream",
     "text": [
      "\tTrain ACC: 0.37801282051282054, Train Pearson: 0.34581611134478407\n"
     ]
    },
    {
     "name": "stderr",
     "output_type": "stream",
     "text": [
      "Epoch 17 valid: 100%|████████████████████████| 135/135 [00:18<00:00,  7.42it/s, acc=0.25, loss=1.73]\n",
      "/home/lijianhang/anaconda3/envs/LLM/lib/python3.11/site-packages/sklearn/metrics/_classification.py:1565: UndefinedMetricWarning: Precision is ill-defined and being set to 0.0 in labels with no predicted samples. Use `zero_division` parameter to control this behavior.\n",
      "  _warn_prf(average, modifier, f\"{metric.capitalize()} is\", len(result))\n",
      "/home/lijianhang/anaconda3/envs/LLM/lib/python3.11/site-packages/sklearn/metrics/_classification.py:1565: UndefinedMetricWarning: Precision is ill-defined and being set to 0.0 in labels with no predicted samples. Use `zero_division` parameter to control this behavior.\n",
      "  _warn_prf(average, modifier, f\"{metric.capitalize()} is\", len(result))\n",
      "/home/lijianhang/anaconda3/envs/LLM/lib/python3.11/site-packages/sklearn/metrics/_classification.py:1565: UndefinedMetricWarning: Precision is ill-defined and being set to 0.0 in labels with no predicted samples. Use `zero_division` parameter to control this behavior.\n",
      "  _warn_prf(average, modifier, f\"{metric.capitalize()} is\", len(result))\n"
     ]
    },
    {
     "name": "stdout",
     "output_type": "stream",
     "text": [
      "\tValid ACC: 0.3958333333333333, Valid Pearson: 0.3617756390110728\n",
      "* Classification Report:\n",
      "              precision    recall  f1-score   support\n",
      "\n",
      "       moved       0.00      0.00      0.00       365\n",
      "       angry       0.39      1.00      0.56       837\n",
      "       funny       0.53      0.04      0.07       530\n",
      "         sad       0.00      0.00      0.00       292\n",
      "       novel       0.00      0.00      0.00        34\n",
      "     shocked       0.00      0.00      0.00        90\n",
      "\n",
      "    accuracy                           0.40      2148\n",
      "   macro avg       0.15      0.17      0.11      2148\n",
      "weighted avg       0.28      0.40      0.24      2148\n",
      "\n"
     ]
    },
    {
     "name": "stderr",
     "output_type": "stream",
     "text": [
      "Epoch 18 train: 100%|█████████████████████████| 195/195 [01:04<00:00,  3.01it/s, acc=0.2, loss=1.54]\n"
     ]
    },
    {
     "name": "stdout",
     "output_type": "stream",
     "text": [
      "\tTrain ACC: 0.38083333333333336, Train Pearson: 0.34479788561223157\n"
     ]
    },
    {
     "name": "stderr",
     "output_type": "stream",
     "text": [
      "Epoch 18 valid: 100%|████████████████████████| 135/135 [00:18<00:00,  7.45it/s, acc=0.25, loss=1.82]\n",
      "/home/lijianhang/anaconda3/envs/LLM/lib/python3.11/site-packages/sklearn/metrics/_classification.py:1565: UndefinedMetricWarning: Precision is ill-defined and being set to 0.0 in labels with no predicted samples. Use `zero_division` parameter to control this behavior.\n",
      "  _warn_prf(average, modifier, f\"{metric.capitalize()} is\", len(result))\n",
      "/home/lijianhang/anaconda3/envs/LLM/lib/python3.11/site-packages/sklearn/metrics/_classification.py:1565: UndefinedMetricWarning: Precision is ill-defined and being set to 0.0 in labels with no predicted samples. Use `zero_division` parameter to control this behavior.\n",
      "  _warn_prf(average, modifier, f\"{metric.capitalize()} is\", len(result))\n",
      "/home/lijianhang/anaconda3/envs/LLM/lib/python3.11/site-packages/sklearn/metrics/_classification.py:1565: UndefinedMetricWarning: Precision is ill-defined and being set to 0.0 in labels with no predicted samples. Use `zero_division` parameter to control this behavior.\n",
      "  _warn_prf(average, modifier, f\"{metric.capitalize()} is\", len(result))\n"
     ]
    },
    {
     "name": "stdout",
     "output_type": "stream",
     "text": [
      "\tValid ACC: 0.41064814814814815, Valid Pearson: 0.3651237941376713\n",
      "* Classification Report:\n",
      "              precision    recall  f1-score   support\n",
      "\n",
      "       moved       0.00      0.00      0.00       365\n",
      "       angry       0.47      0.68      0.56       837\n",
      "       funny       0.33      0.60      0.43       530\n",
      "         sad       0.00      0.00      0.00       292\n",
      "       novel       0.00      0.00      0.00        34\n",
      "     shocked       0.00      0.00      0.00        90\n",
      "\n",
      "    accuracy                           0.41      2148\n",
      "   macro avg       0.13      0.21      0.16      2148\n",
      "weighted avg       0.27      0.41      0.32      2148\n",
      "\n"
     ]
    },
    {
     "name": "stderr",
     "output_type": "stream",
     "text": [
      "Epoch 19 train: 100%|█████████████████████████| 195/195 [01:04<00:00,  3.02it/s, acc=0.4, loss=1.55]\n"
     ]
    },
    {
     "name": "stdout",
     "output_type": "stream",
     "text": [
      "\tTrain ACC: 0.3825, Train Pearson: 0.3475048242353969\n"
     ]
    },
    {
     "name": "stderr",
     "output_type": "stream",
     "text": [
      "Epoch 19 valid: 100%|████████████████████████| 135/135 [00:17<00:00,  7.75it/s, acc=0.25, loss=1.79]\n",
      "/home/lijianhang/anaconda3/envs/LLM/lib/python3.11/site-packages/sklearn/metrics/_classification.py:1565: UndefinedMetricWarning: Precision is ill-defined and being set to 0.0 in labels with no predicted samples. Use `zero_division` parameter to control this behavior.\n",
      "  _warn_prf(average, modifier, f\"{metric.capitalize()} is\", len(result))\n",
      "/home/lijianhang/anaconda3/envs/LLM/lib/python3.11/site-packages/sklearn/metrics/_classification.py:1565: UndefinedMetricWarning: Precision is ill-defined and being set to 0.0 in labels with no predicted samples. Use `zero_division` parameter to control this behavior.\n",
      "  _warn_prf(average, modifier, f\"{metric.capitalize()} is\", len(result))\n",
      "/home/lijianhang/anaconda3/envs/LLM/lib/python3.11/site-packages/sklearn/metrics/_classification.py:1565: UndefinedMetricWarning: Precision is ill-defined and being set to 0.0 in labels with no predicted samples. Use `zero_division` parameter to control this behavior.\n",
      "  _warn_prf(average, modifier, f\"{metric.capitalize()} is\", len(result))\n"
     ]
    },
    {
     "name": "stdout",
     "output_type": "stream",
     "text": [
      "\tValid ACC: 0.3972222222222222, Valid Pearson: 0.3718426021744815\n",
      "* Classification Report:\n",
      "              precision    recall  f1-score   support\n",
      "\n",
      "       moved       0.00      0.00      0.00       365\n",
      "       angry       0.40      0.99      0.57       837\n",
      "       funny       0.53      0.05      0.08       530\n",
      "         sad       0.00      0.00      0.00       292\n",
      "       novel       0.00      0.00      0.00        34\n",
      "     shocked       0.00      0.00      0.00        90\n",
      "\n",
      "    accuracy                           0.40      2148\n",
      "   macro avg       0.15      0.17      0.11      2148\n",
      "weighted avg       0.29      0.40      0.24      2148\n",
      "\n",
      "loading data from: data/train.json\n"
     ]
    },
    {
     "name": "stderr",
     "output_type": "stream",
     "text": [
      "100%|██████████| 3109/3109 [00:09<00:00, 333.06it/s]\n"
     ]
    },
    {
     "name": "stdout",
     "output_type": "stream",
     "text": [
      "loading data from: data/test.json\n"
     ]
    },
    {
     "name": "stderr",
     "output_type": "stream",
     "text": [
      "100%|██████████| 2148/2148 [00:06<00:00, 321.19it/s]\n",
      "Epoch 0 train: 100%|██████████████████████████| 195/195 [01:05<00:00,  2.99it/s, acc=0.2, loss=1.35]\n"
     ]
    },
    {
     "name": "stdout",
     "output_type": "stream",
     "text": [
      "\tTrain ACC: 0.3398076923076923, Train Pearson: 0.331189630341132\n"
     ]
    },
    {
     "name": "stderr",
     "output_type": "stream",
     "text": [
      "Epoch 0 valid: 100%|████████████████████████████| 135/135 [00:17<00:00,  7.78it/s, acc=0, loss=1.86]\n",
      "/home/lijianhang/anaconda3/envs/LLM/lib/python3.11/site-packages/sklearn/metrics/_classification.py:1565: UndefinedMetricWarning: Precision is ill-defined and being set to 0.0 in labels with no predicted samples. Use `zero_division` parameter to control this behavior.\n",
      "  _warn_prf(average, modifier, f\"{metric.capitalize()} is\", len(result))\n",
      "/home/lijianhang/anaconda3/envs/LLM/lib/python3.11/site-packages/sklearn/metrics/_classification.py:1565: UndefinedMetricWarning: Precision is ill-defined and being set to 0.0 in labels with no predicted samples. Use `zero_division` parameter to control this behavior.\n",
      "  _warn_prf(average, modifier, f\"{metric.capitalize()} is\", len(result))\n",
      "/home/lijianhang/anaconda3/envs/LLM/lib/python3.11/site-packages/sklearn/metrics/_classification.py:1565: UndefinedMetricWarning: Precision is ill-defined and being set to 0.0 in labels with no predicted samples. Use `zero_division` parameter to control this behavior.\n",
      "  _warn_prf(average, modifier, f\"{metric.capitalize()} is\", len(result))\n"
     ]
    },
    {
     "name": "stdout",
     "output_type": "stream",
     "text": [
      "\tValid ACC: 0.3875, Valid Pearson: 0.3577633076004665\n",
      "* Classification Report:\n",
      "              precision    recall  f1-score   support\n",
      "\n",
      "       moved       0.00      0.00      0.00       365\n",
      "       angry       0.39      1.00      0.56       837\n",
      "       funny       0.00      0.00      0.00       530\n",
      "         sad       0.00      0.00      0.00       292\n",
      "       novel       0.00      0.00      0.00        34\n",
      "     shocked       0.00      0.00      0.00        90\n",
      "\n",
      "    accuracy                           0.39      2148\n",
      "   macro avg       0.06      0.17      0.09      2148\n",
      "weighted avg       0.15      0.39      0.22      2148\n",
      "\n"
     ]
    },
    {
     "name": "stderr",
     "output_type": "stream",
     "text": [
      "Epoch 1 train: 100%|██████████████████████████| 195/195 [01:04<00:00,  3.02it/s, acc=0.2, loss=1.52]\n"
     ]
    },
    {
     "name": "stdout",
     "output_type": "stream",
     "text": [
      "\tTrain ACC: 0.3362820512820513, Train Pearson: 0.33131104548339935\n"
     ]
    },
    {
     "name": "stderr",
     "output_type": "stream",
     "text": [
      "Epoch 1 valid: 100%|█████████████████████████| 135/135 [00:18<00:00,  7.36it/s, acc=0.25, loss=1.78]\n",
      "/home/lijianhang/anaconda3/envs/LLM/lib/python3.11/site-packages/sklearn/metrics/_classification.py:1565: UndefinedMetricWarning: Precision is ill-defined and being set to 0.0 in labels with no predicted samples. Use `zero_division` parameter to control this behavior.\n",
      "  _warn_prf(average, modifier, f\"{metric.capitalize()} is\", len(result))\n",
      "/home/lijianhang/anaconda3/envs/LLM/lib/python3.11/site-packages/sklearn/metrics/_classification.py:1565: UndefinedMetricWarning: Precision is ill-defined and being set to 0.0 in labels with no predicted samples. Use `zero_division` parameter to control this behavior.\n",
      "  _warn_prf(average, modifier, f\"{metric.capitalize()} is\", len(result))\n",
      "/home/lijianhang/anaconda3/envs/LLM/lib/python3.11/site-packages/sklearn/metrics/_classification.py:1565: UndefinedMetricWarning: Precision is ill-defined and being set to 0.0 in labels with no predicted samples. Use `zero_division` parameter to control this behavior.\n",
      "  _warn_prf(average, modifier, f\"{metric.capitalize()} is\", len(result))\n"
     ]
    },
    {
     "name": "stdout",
     "output_type": "stream",
     "text": [
      "\tValid ACC: 0.25046296296296294, Valid Pearson: 0.3433046854273895\n",
      "* Classification Report:\n",
      "              precision    recall  f1-score   support\n",
      "\n",
      "       moved       0.00      0.00      0.00       365\n",
      "       angry       0.50      0.00      0.00       837\n",
      "       funny       0.25      1.00      0.40       530\n",
      "         sad       0.00      0.00      0.00       292\n",
      "       novel       0.00      0.00      0.00        34\n",
      "     shocked       0.00      0.00      0.00        90\n",
      "\n",
      "    accuracy                           0.25      2148\n",
      "   macro avg       0.12      0.17      0.07      2148\n",
      "weighted avg       0.26      0.25      0.10      2148\n",
      "\n"
     ]
    },
    {
     "name": "stderr",
     "output_type": "stream",
     "text": [
      "Epoch 2 train: 100%|██████████████████████████| 195/195 [01:04<00:00,  3.01it/s, acc=0.2, loss=1.25]\n"
     ]
    },
    {
     "name": "stdout",
     "output_type": "stream",
     "text": [
      "\tTrain ACC: 0.3487820512820513, Train Pearson: 0.3332331049980333\n"
     ]
    },
    {
     "name": "stderr",
     "output_type": "stream",
     "text": [
      "Epoch 2 valid: 100%|████████████████████████████| 135/135 [00:18<00:00,  7.45it/s, acc=0, loss=1.86]\n",
      "/home/lijianhang/anaconda3/envs/LLM/lib/python3.11/site-packages/sklearn/metrics/_classification.py:1565: UndefinedMetricWarning: Precision is ill-defined and being set to 0.0 in labels with no predicted samples. Use `zero_division` parameter to control this behavior.\n",
      "  _warn_prf(average, modifier, f\"{metric.capitalize()} is\", len(result))\n",
      "/home/lijianhang/anaconda3/envs/LLM/lib/python3.11/site-packages/sklearn/metrics/_classification.py:1565: UndefinedMetricWarning: Precision is ill-defined and being set to 0.0 in labels with no predicted samples. Use `zero_division` parameter to control this behavior.\n",
      "  _warn_prf(average, modifier, f\"{metric.capitalize()} is\", len(result))\n",
      "/home/lijianhang/anaconda3/envs/LLM/lib/python3.11/site-packages/sklearn/metrics/_classification.py:1565: UndefinedMetricWarning: Precision is ill-defined and being set to 0.0 in labels with no predicted samples. Use `zero_division` parameter to control this behavior.\n",
      "  _warn_prf(average, modifier, f\"{metric.capitalize()} is\", len(result))\n"
     ]
    },
    {
     "name": "stdout",
     "output_type": "stream",
     "text": [
      "\tValid ACC: 0.3875, Valid Pearson: 0.3553068453383711\n",
      "* Classification Report:\n",
      "              precision    recall  f1-score   support\n",
      "\n",
      "       moved       0.00      0.00      0.00       365\n",
      "       angry       0.39      1.00      0.56       837\n",
      "       funny       0.00      0.00      0.00       530\n",
      "         sad       0.00      0.00      0.00       292\n",
      "       novel       0.00      0.00      0.00        34\n",
      "     shocked       0.00      0.00      0.00        90\n",
      "\n",
      "    accuracy                           0.39      2148\n",
      "   macro avg       0.06      0.17      0.09      2148\n",
      "weighted avg       0.15      0.39      0.22      2148\n",
      "\n"
     ]
    },
    {
     "name": "stderr",
     "output_type": "stream",
     "text": [
      "Epoch 3 train: 100%|██████████████████████████| 195/195 [01:04<00:00,  3.01it/s, acc=0.4, loss=1.53]\n"
     ]
    },
    {
     "name": "stdout",
     "output_type": "stream",
     "text": [
      "\tTrain ACC: 0.3494871794871795, Train Pearson: 0.33261242028503674\n"
     ]
    },
    {
     "name": "stderr",
     "output_type": "stream",
     "text": [
      "Epoch 3 valid: 100%|████████████████████████████| 135/135 [00:18<00:00,  7.42it/s, acc=0, loss=1.82]\n",
      "/home/lijianhang/anaconda3/envs/LLM/lib/python3.11/site-packages/sklearn/metrics/_classification.py:1565: UndefinedMetricWarning: Precision is ill-defined and being set to 0.0 in labels with no predicted samples. Use `zero_division` parameter to control this behavior.\n",
      "  _warn_prf(average, modifier, f\"{metric.capitalize()} is\", len(result))\n",
      "/home/lijianhang/anaconda3/envs/LLM/lib/python3.11/site-packages/sklearn/metrics/_classification.py:1565: UndefinedMetricWarning: Precision is ill-defined and being set to 0.0 in labels with no predicted samples. Use `zero_division` parameter to control this behavior.\n",
      "  _warn_prf(average, modifier, f\"{metric.capitalize()} is\", len(result))\n",
      "/home/lijianhang/anaconda3/envs/LLM/lib/python3.11/site-packages/sklearn/metrics/_classification.py:1565: UndefinedMetricWarning: Precision is ill-defined and being set to 0.0 in labels with no predicted samples. Use `zero_division` parameter to control this behavior.\n",
      "  _warn_prf(average, modifier, f\"{metric.capitalize()} is\", len(result))\n"
     ]
    },
    {
     "name": "stdout",
     "output_type": "stream",
     "text": [
      "\tValid ACC: 0.3875, Valid Pearson: 0.3624598259484933\n",
      "* Classification Report:\n",
      "              precision    recall  f1-score   support\n",
      "\n",
      "       moved       0.00      0.00      0.00       365\n",
      "       angry       0.39      1.00      0.56       837\n",
      "       funny       0.00      0.00      0.00       530\n",
      "         sad       0.00      0.00      0.00       292\n",
      "       novel       0.00      0.00      0.00        34\n",
      "     shocked       0.00      0.00      0.00        90\n",
      "\n",
      "    accuracy                           0.39      2148\n",
      "   macro avg       0.06      0.17      0.09      2148\n",
      "weighted avg       0.15      0.39      0.22      2148\n",
      "\n"
     ]
    },
    {
     "name": "stderr",
     "output_type": "stream",
     "text": [
      "Epoch 4 train: 100%|██████████████████████████| 195/195 [01:04<00:00,  3.02it/s, acc=0.2, loss=1.64]\n"
     ]
    },
    {
     "name": "stdout",
     "output_type": "stream",
     "text": [
      "\tTrain ACC: 0.33051282051282055, Train Pearson: 0.33581961340693184\n"
     ]
    },
    {
     "name": "stderr",
     "output_type": "stream",
     "text": [
      "Epoch 4 valid: 100%|████████████████████████████| 135/135 [00:17<00:00,  7.74it/s, acc=0, loss=1.86]\n",
      "/home/lijianhang/anaconda3/envs/LLM/lib/python3.11/site-packages/sklearn/metrics/_classification.py:1565: UndefinedMetricWarning: Precision is ill-defined and being set to 0.0 in labels with no predicted samples. Use `zero_division` parameter to control this behavior.\n",
      "  _warn_prf(average, modifier, f\"{metric.capitalize()} is\", len(result))\n",
      "/home/lijianhang/anaconda3/envs/LLM/lib/python3.11/site-packages/sklearn/metrics/_classification.py:1565: UndefinedMetricWarning: Precision is ill-defined and being set to 0.0 in labels with no predicted samples. Use `zero_division` parameter to control this behavior.\n",
      "  _warn_prf(average, modifier, f\"{metric.capitalize()} is\", len(result))\n",
      "/home/lijianhang/anaconda3/envs/LLM/lib/python3.11/site-packages/sklearn/metrics/_classification.py:1565: UndefinedMetricWarning: Precision is ill-defined and being set to 0.0 in labels with no predicted samples. Use `zero_division` parameter to control this behavior.\n",
      "  _warn_prf(average, modifier, f\"{metric.capitalize()} is\", len(result))\n"
     ]
    },
    {
     "name": "stdout",
     "output_type": "stream",
     "text": [
      "\tValid ACC: 0.3875, Valid Pearson: 0.3539513237312833\n",
      "* Classification Report:\n",
      "              precision    recall  f1-score   support\n",
      "\n",
      "       moved       0.00      0.00      0.00       365\n",
      "       angry       0.39      1.00      0.56       837\n",
      "       funny       0.00      0.00      0.00       530\n",
      "         sad       0.00      0.00      0.00       292\n",
      "       novel       0.00      0.00      0.00        34\n",
      "     shocked       0.00      0.00      0.00        90\n",
      "\n",
      "    accuracy                           0.39      2148\n",
      "   macro avg       0.06      0.17      0.09      2148\n",
      "weighted avg       0.15      0.39      0.22      2148\n",
      "\n"
     ]
    },
    {
     "name": "stderr",
     "output_type": "stream",
     "text": [
      "Epoch 5 train: 100%|████████████████████████████| 195/195 [01:04<00:00,  3.01it/s, acc=0, loss=1.49]\n"
     ]
    },
    {
     "name": "stdout",
     "output_type": "stream",
     "text": [
      "\tTrain ACC: 0.358974358974359, Train Pearson: 0.336485760338041\n"
     ]
    },
    {
     "name": "stderr",
     "output_type": "stream",
     "text": [
      "Epoch 5 valid: 100%|██████████████████████████| 135/135 [00:18<00:00,  7.42it/s, acc=0.25, loss=1.8]\n",
      "/home/lijianhang/anaconda3/envs/LLM/lib/python3.11/site-packages/sklearn/metrics/_classification.py:1565: UndefinedMetricWarning: Precision is ill-defined and being set to 0.0 in labels with no predicted samples. Use `zero_division` parameter to control this behavior.\n",
      "  _warn_prf(average, modifier, f\"{metric.capitalize()} is\", len(result))\n",
      "/home/lijianhang/anaconda3/envs/LLM/lib/python3.11/site-packages/sklearn/metrics/_classification.py:1565: UndefinedMetricWarning: Precision is ill-defined and being set to 0.0 in labels with no predicted samples. Use `zero_division` parameter to control this behavior.\n",
      "  _warn_prf(average, modifier, f\"{metric.capitalize()} is\", len(result))\n",
      "/home/lijianhang/anaconda3/envs/LLM/lib/python3.11/site-packages/sklearn/metrics/_classification.py:1565: UndefinedMetricWarning: Precision is ill-defined and being set to 0.0 in labels with no predicted samples. Use `zero_division` parameter to control this behavior.\n",
      "  _warn_prf(average, modifier, f\"{metric.capitalize()} is\", len(result))\n"
     ]
    },
    {
     "name": "stdout",
     "output_type": "stream",
     "text": [
      "\tValid ACC: 0.24953703703703703, Valid Pearson: 0.34703104819439073\n",
      "* Classification Report:\n",
      "              precision    recall  f1-score   support\n",
      "\n",
      "       moved       0.00      0.00      0.00       365\n",
      "       angry       0.00      0.00      0.00       837\n",
      "       funny       0.25      1.00      0.40       530\n",
      "         sad       0.00      0.00      0.00       292\n",
      "       novel       0.00      0.00      0.00        34\n",
      "     shocked       0.00      0.00      0.00        90\n",
      "\n",
      "    accuracy                           0.25      2148\n",
      "   macro avg       0.04      0.17      0.07      2148\n",
      "weighted avg       0.06      0.25      0.10      2148\n",
      "\n"
     ]
    },
    {
     "name": "stderr",
     "output_type": "stream",
     "text": [
      "Epoch 6 train: 100%|████████████████████████████| 195/195 [01:04<00:00,  3.02it/s, acc=0, loss=1.78]\n"
     ]
    },
    {
     "name": "stdout",
     "output_type": "stream",
     "text": [
      "\tTrain ACC: 0.35, Train Pearson: 0.33255714347910337\n"
     ]
    },
    {
     "name": "stderr",
     "output_type": "stream",
     "text": [
      "Epoch 6 valid: 100%|████████████████████████████| 135/135 [00:18<00:00,  7.45it/s, acc=0, loss=1.73]\n",
      "/home/lijianhang/anaconda3/envs/LLM/lib/python3.11/site-packages/sklearn/metrics/_classification.py:1565: UndefinedMetricWarning: Precision is ill-defined and being set to 0.0 in labels with no predicted samples. Use `zero_division` parameter to control this behavior.\n",
      "  _warn_prf(average, modifier, f\"{metric.capitalize()} is\", len(result))\n",
      "/home/lijianhang/anaconda3/envs/LLM/lib/python3.11/site-packages/sklearn/metrics/_classification.py:1565: UndefinedMetricWarning: Precision is ill-defined and being set to 0.0 in labels with no predicted samples. Use `zero_division` parameter to control this behavior.\n",
      "  _warn_prf(average, modifier, f\"{metric.capitalize()} is\", len(result))\n",
      "/home/lijianhang/anaconda3/envs/LLM/lib/python3.11/site-packages/sklearn/metrics/_classification.py:1565: UndefinedMetricWarning: Precision is ill-defined and being set to 0.0 in labels with no predicted samples. Use `zero_division` parameter to control this behavior.\n",
      "  _warn_prf(average, modifier, f\"{metric.capitalize()} is\", len(result))\n"
     ]
    },
    {
     "name": "stdout",
     "output_type": "stream",
     "text": [
      "\tValid ACC: 0.38842592592592595, Valid Pearson: 0.3534423692326832\n",
      "* Classification Report:\n",
      "              precision    recall  f1-score   support\n",
      "\n",
      "       moved       0.00      0.00      0.00       365\n",
      "       angry       0.39      1.00      0.56       837\n",
      "       funny       1.00      0.00      0.01       530\n",
      "         sad       0.00      0.00      0.00       292\n",
      "       novel       0.00      0.00      0.00        34\n",
      "     shocked       0.00      0.00      0.00        90\n",
      "\n",
      "    accuracy                           0.39      2148\n",
      "   macro avg       0.23      0.17      0.09      2148\n",
      "weighted avg       0.40      0.39      0.22      2148\n",
      "\n"
     ]
    },
    {
     "name": "stderr",
     "output_type": "stream",
     "text": [
      "Epoch 7 train: 100%|██████████████████████████| 195/195 [01:04<00:00,  3.01it/s, acc=0.6, loss=1.18]\n"
     ]
    },
    {
     "name": "stdout",
     "output_type": "stream",
     "text": [
      "\tTrain ACC: 0.34570512820512816, Train Pearson: 0.33804117031038694\n"
     ]
    },
    {
     "name": "stderr",
     "output_type": "stream",
     "text": [
      "Epoch 7 valid: 100%|████████████████████████████| 135/135 [00:17<00:00,  7.67it/s, acc=0, loss=1.85]\n",
      "/home/lijianhang/anaconda3/envs/LLM/lib/python3.11/site-packages/sklearn/metrics/_classification.py:1565: UndefinedMetricWarning: Precision is ill-defined and being set to 0.0 in labels with no predicted samples. Use `zero_division` parameter to control this behavior.\n",
      "  _warn_prf(average, modifier, f\"{metric.capitalize()} is\", len(result))\n",
      "/home/lijianhang/anaconda3/envs/LLM/lib/python3.11/site-packages/sklearn/metrics/_classification.py:1565: UndefinedMetricWarning: Precision is ill-defined and being set to 0.0 in labels with no predicted samples. Use `zero_division` parameter to control this behavior.\n",
      "  _warn_prf(average, modifier, f\"{metric.capitalize()} is\", len(result))\n",
      "/home/lijianhang/anaconda3/envs/LLM/lib/python3.11/site-packages/sklearn/metrics/_classification.py:1565: UndefinedMetricWarning: Precision is ill-defined and being set to 0.0 in labels with no predicted samples. Use `zero_division` parameter to control this behavior.\n",
      "  _warn_prf(average, modifier, f\"{metric.capitalize()} is\", len(result))\n"
     ]
    },
    {
     "name": "stdout",
     "output_type": "stream",
     "text": [
      "\tValid ACC: 0.38935185185185184, Valid Pearson: 0.36952637087320483\n",
      "* Classification Report:\n",
      "              precision    recall  f1-score   support\n",
      "\n",
      "       moved       0.00      0.00      0.00       365\n",
      "       angry       0.39      1.00      0.56       837\n",
      "       funny       0.80      0.01      0.01       530\n",
      "         sad       0.00      0.00      0.00       292\n",
      "       novel       0.00      0.00      0.00        34\n",
      "     shocked       0.00      0.00      0.00        90\n",
      "\n",
      "    accuracy                           0.39      2148\n",
      "   macro avg       0.20      0.17      0.10      2148\n",
      "weighted avg       0.35      0.39      0.22      2148\n",
      "\n"
     ]
    },
    {
     "name": "stderr",
     "output_type": "stream",
     "text": [
      "Epoch 8 train: 100%|██████████████████████████| 195/195 [01:05<00:00,  2.98it/s, acc=0.4, loss=1.64]\n"
     ]
    },
    {
     "name": "stdout",
     "output_type": "stream",
     "text": [
      "\tTrain ACC: 0.36455128205128207, Train Pearson: 0.33964968979668586\n"
     ]
    },
    {
     "name": "stderr",
     "output_type": "stream",
     "text": [
      "Epoch 8 valid: 100%|████████████████████████████| 135/135 [00:17<00:00,  7.70it/s, acc=0, loss=1.81]\n",
      "/home/lijianhang/anaconda3/envs/LLM/lib/python3.11/site-packages/sklearn/metrics/_classification.py:1565: UndefinedMetricWarning: Precision is ill-defined and being set to 0.0 in labels with no predicted samples. Use `zero_division` parameter to control this behavior.\n",
      "  _warn_prf(average, modifier, f\"{metric.capitalize()} is\", len(result))\n",
      "/home/lijianhang/anaconda3/envs/LLM/lib/python3.11/site-packages/sklearn/metrics/_classification.py:1565: UndefinedMetricWarning: Precision is ill-defined and being set to 0.0 in labels with no predicted samples. Use `zero_division` parameter to control this behavior.\n",
      "  _warn_prf(average, modifier, f\"{metric.capitalize()} is\", len(result))\n",
      "/home/lijianhang/anaconda3/envs/LLM/lib/python3.11/site-packages/sklearn/metrics/_classification.py:1565: UndefinedMetricWarning: Precision is ill-defined and being set to 0.0 in labels with no predicted samples. Use `zero_division` parameter to control this behavior.\n",
      "  _warn_prf(average, modifier, f\"{metric.capitalize()} is\", len(result))\n"
     ]
    },
    {
     "name": "stdout",
     "output_type": "stream",
     "text": [
      "\tValid ACC: 0.38981481481481484, Valid Pearson: 0.3674329924044669\n",
      "* Classification Report:\n",
      "              precision    recall  f1-score   support\n",
      "\n",
      "       moved       0.00      0.00      0.00       365\n",
      "       angry       0.39      1.00      0.56       837\n",
      "       funny       0.62      0.01      0.02       530\n",
      "         sad       0.00      0.00      0.00       292\n",
      "       novel       0.00      0.00      0.00        34\n",
      "     shocked       0.00      0.00      0.00        90\n",
      "\n",
      "    accuracy                           0.39      2148\n",
      "   macro avg       0.17      0.17      0.10      2148\n",
      "weighted avg       0.31      0.39      0.22      2148\n",
      "\n"
     ]
    },
    {
     "name": "stderr",
     "output_type": "stream",
     "text": [
      "Epoch 9 train: 100%|██████████████████████████| 195/195 [01:04<00:00,  3.01it/s, acc=0.2, loss=1.67]\n"
     ]
    },
    {
     "name": "stdout",
     "output_type": "stream",
     "text": [
      "\tTrain ACC: 0.36192307692307696, Train Pearson: 0.338920730556343\n"
     ]
    },
    {
     "name": "stderr",
     "output_type": "stream",
     "text": [
      "Epoch 9 valid: 100%|█████████████████████████| 135/135 [00:18<00:00,  7.40it/s, acc=0.25, loss=1.77]\n",
      "/home/lijianhang/anaconda3/envs/LLM/lib/python3.11/site-packages/sklearn/metrics/_classification.py:1565: UndefinedMetricWarning: Precision is ill-defined and being set to 0.0 in labels with no predicted samples. Use `zero_division` parameter to control this behavior.\n",
      "  _warn_prf(average, modifier, f\"{metric.capitalize()} is\", len(result))\n",
      "/home/lijianhang/anaconda3/envs/LLM/lib/python3.11/site-packages/sklearn/metrics/_classification.py:1565: UndefinedMetricWarning: Precision is ill-defined and being set to 0.0 in labels with no predicted samples. Use `zero_division` parameter to control this behavior.\n",
      "  _warn_prf(average, modifier, f\"{metric.capitalize()} is\", len(result))\n",
      "/home/lijianhang/anaconda3/envs/LLM/lib/python3.11/site-packages/sklearn/metrics/_classification.py:1565: UndefinedMetricWarning: Precision is ill-defined and being set to 0.0 in labels with no predicted samples. Use `zero_division` parameter to control this behavior.\n",
      "  _warn_prf(average, modifier, f\"{metric.capitalize()} is\", len(result))\n"
     ]
    },
    {
     "name": "stdout",
     "output_type": "stream",
     "text": [
      "\tValid ACC: 0.39814814814814814, Valid Pearson: 0.37124539581136\n",
      "* Classification Report:\n",
      "              precision    recall  f1-score   support\n",
      "\n",
      "       moved       0.00      0.00      0.00       365\n",
      "       angry       0.40      0.99      0.57       837\n",
      "       funny       0.53      0.05      0.10       530\n",
      "         sad       0.00      0.00      0.00       292\n",
      "       novel       0.00      0.00      0.00        34\n",
      "     shocked       0.00      0.00      0.00        90\n",
      "\n",
      "    accuracy                           0.40      2148\n",
      "   macro avg       0.15      0.17      0.11      2148\n",
      "weighted avg       0.28      0.40      0.24      2148\n",
      "\n"
     ]
    },
    {
     "name": "stderr",
     "output_type": "stream",
     "text": [
      "Epoch 10 train: 100%|█████████████████████████| 195/195 [01:04<00:00,  3.01it/s, acc=0.4, loss=1.22]\n"
     ]
    },
    {
     "name": "stdout",
     "output_type": "stream",
     "text": [
      "\tTrain ACC: 0.36423076923076925, Train Pearson: 0.3472557093101026\n"
     ]
    },
    {
     "name": "stderr",
     "output_type": "stream",
     "text": [
      "Epoch 10 valid: 100%|████████████████████████| 135/135 [00:18<00:00,  7.42it/s, acc=0.25, loss=1.76]\n",
      "/home/lijianhang/anaconda3/envs/LLM/lib/python3.11/site-packages/sklearn/metrics/_classification.py:1565: UndefinedMetricWarning: Precision is ill-defined and being set to 0.0 in labels with no predicted samples. Use `zero_division` parameter to control this behavior.\n",
      "  _warn_prf(average, modifier, f\"{metric.capitalize()} is\", len(result))\n",
      "/home/lijianhang/anaconda3/envs/LLM/lib/python3.11/site-packages/sklearn/metrics/_classification.py:1565: UndefinedMetricWarning: Precision is ill-defined and being set to 0.0 in labels with no predicted samples. Use `zero_division` parameter to control this behavior.\n",
      "  _warn_prf(average, modifier, f\"{metric.capitalize()} is\", len(result))\n",
      "/home/lijianhang/anaconda3/envs/LLM/lib/python3.11/site-packages/sklearn/metrics/_classification.py:1565: UndefinedMetricWarning: Precision is ill-defined and being set to 0.0 in labels with no predicted samples. Use `zero_division` parameter to control this behavior.\n",
      "  _warn_prf(average, modifier, f\"{metric.capitalize()} is\", len(result))\n"
     ]
    },
    {
     "name": "stdout",
     "output_type": "stream",
     "text": [
      "\tValid ACC: 0.4013888888888889, Valid Pearson: 0.37041229934494135\n",
      "* Classification Report:\n",
      "              precision    recall  f1-score   support\n",
      "\n",
      "       moved       0.00      0.00      0.00       365\n",
      "       angry       0.40      0.98      0.57       837\n",
      "       funny       0.49      0.08      0.14       530\n",
      "         sad       0.00      0.00      0.00       292\n",
      "       novel       0.00      0.00      0.00        34\n",
      "     shocked       0.00      0.00      0.00        90\n",
      "\n",
      "    accuracy                           0.40      2148\n",
      "   macro avg       0.15      0.18      0.12      2148\n",
      "weighted avg       0.28      0.40      0.26      2148\n",
      "\n"
     ]
    },
    {
     "name": "stderr",
     "output_type": "stream",
     "text": [
      "Epoch 11 train: 100%|█████████████████████████| 195/195 [01:04<00:00,  3.02it/s, acc=0.2, loss=1.57]\n"
     ]
    },
    {
     "name": "stdout",
     "output_type": "stream",
     "text": [
      "\tTrain ACC: 0.3830769230769231, Train Pearson: 0.34940335925296906\n"
     ]
    },
    {
     "name": "stderr",
     "output_type": "stream",
     "text": [
      "Epoch 11 valid: 100%|████████████████████████| 135/135 [00:17<00:00,  7.73it/s, acc=0.25, loss=1.61]\n",
      "/home/lijianhang/anaconda3/envs/LLM/lib/python3.11/site-packages/sklearn/metrics/_classification.py:1565: UndefinedMetricWarning: Precision is ill-defined and being set to 0.0 in labels with no predicted samples. Use `zero_division` parameter to control this behavior.\n",
      "  _warn_prf(average, modifier, f\"{metric.capitalize()} is\", len(result))\n",
      "/home/lijianhang/anaconda3/envs/LLM/lib/python3.11/site-packages/sklearn/metrics/_classification.py:1565: UndefinedMetricWarning: Precision is ill-defined and being set to 0.0 in labels with no predicted samples. Use `zero_division` parameter to control this behavior.\n",
      "  _warn_prf(average, modifier, f\"{metric.capitalize()} is\", len(result))\n",
      "/home/lijianhang/anaconda3/envs/LLM/lib/python3.11/site-packages/sklearn/metrics/_classification.py:1565: UndefinedMetricWarning: Precision is ill-defined and being set to 0.0 in labels with no predicted samples. Use `zero_division` parameter to control this behavior.\n",
      "  _warn_prf(average, modifier, f\"{metric.capitalize()} is\", len(result))\n"
     ]
    },
    {
     "name": "stdout",
     "output_type": "stream",
     "text": [
      "\tValid ACC: 0.325, Valid Pearson: 0.3575123283348524\n",
      "* Classification Report:\n",
      "              precision    recall  f1-score   support\n",
      "\n",
      "       moved       0.00      0.00      0.00       365\n",
      "       angry       0.62      0.25      0.36       837\n",
      "       funny       0.27      0.91      0.41       530\n",
      "         sad       0.00      0.00      0.00       292\n",
      "       novel       0.00      0.00      0.00        34\n",
      "     shocked       0.00      0.00      0.00        90\n",
      "\n",
      "    accuracy                           0.32      2148\n",
      "   macro avg       0.15      0.19      0.13      2148\n",
      "weighted avg       0.31      0.32      0.24      2148\n",
      "\n"
     ]
    },
    {
     "name": "stderr",
     "output_type": "stream",
     "text": [
      "Epoch 12 train: 100%|█████████████████████████| 195/195 [01:05<00:00,  2.98it/s, acc=0.6, loss=1.57]\n"
     ]
    },
    {
     "name": "stdout",
     "output_type": "stream",
     "text": [
      "\tTrain ACC: 0.3989102564102564, Train Pearson: 0.3539586615260003\n"
     ]
    },
    {
     "name": "stderr",
     "output_type": "stream",
     "text": [
      "Epoch 12 valid: 100%|████████████████████████| 135/135 [00:17<00:00,  7.72it/s, acc=0.25, loss=1.83]\n",
      "/home/lijianhang/anaconda3/envs/LLM/lib/python3.11/site-packages/sklearn/metrics/_classification.py:1565: UndefinedMetricWarning: Precision is ill-defined and being set to 0.0 in labels with no predicted samples. Use `zero_division` parameter to control this behavior.\n",
      "  _warn_prf(average, modifier, f\"{metric.capitalize()} is\", len(result))\n",
      "/home/lijianhang/anaconda3/envs/LLM/lib/python3.11/site-packages/sklearn/metrics/_classification.py:1565: UndefinedMetricWarning: Precision is ill-defined and being set to 0.0 in labels with no predicted samples. Use `zero_division` parameter to control this behavior.\n",
      "  _warn_prf(average, modifier, f\"{metric.capitalize()} is\", len(result))\n",
      "/home/lijianhang/anaconda3/envs/LLM/lib/python3.11/site-packages/sklearn/metrics/_classification.py:1565: UndefinedMetricWarning: Precision is ill-defined and being set to 0.0 in labels with no predicted samples. Use `zero_division` parameter to control this behavior.\n",
      "  _warn_prf(average, modifier, f\"{metric.capitalize()} is\", len(result))\n"
     ]
    },
    {
     "name": "stdout",
     "output_type": "stream",
     "text": [
      "\tValid ACC: 0.4060185185185185, Valid Pearson: 0.3864398111216371\n",
      "* Classification Report:\n",
      "              precision    recall  f1-score   support\n",
      "\n",
      "       moved       0.00      0.00      0.00       365\n",
      "       angry       0.41      0.95      0.57       837\n",
      "       funny       0.42      0.15      0.22       530\n",
      "         sad       0.00      0.00      0.00       292\n",
      "       novel       0.00      0.00      0.00        34\n",
      "     shocked       0.00      0.00      0.00        90\n",
      "\n",
      "    accuracy                           0.41      2148\n",
      "   macro avg       0.14      0.18      0.13      2148\n",
      "weighted avg       0.26      0.41      0.28      2148\n",
      "\n"
     ]
    },
    {
     "name": "stderr",
     "output_type": "stream",
     "text": [
      "Epoch 13 train: 100%|█████████████████████████| 195/195 [01:04<00:00,  3.02it/s, acc=0.6, loss=1.56]\n"
     ]
    },
    {
     "name": "stdout",
     "output_type": "stream",
     "text": [
      "\tTrain ACC: 0.41365384615384615, Train Pearson: 0.3690155370618846\n"
     ]
    },
    {
     "name": "stderr",
     "output_type": "stream",
     "text": [
      "Epoch 13 valid: 100%|████████████████████████| 135/135 [00:18<00:00,  7.43it/s, acc=0.25, loss=1.64]\n",
      "/home/lijianhang/anaconda3/envs/LLM/lib/python3.11/site-packages/sklearn/metrics/_classification.py:1565: UndefinedMetricWarning: Precision is ill-defined and being set to 0.0 in labels with no predicted samples. Use `zero_division` parameter to control this behavior.\n",
      "  _warn_prf(average, modifier, f\"{metric.capitalize()} is\", len(result))\n",
      "/home/lijianhang/anaconda3/envs/LLM/lib/python3.11/site-packages/sklearn/metrics/_classification.py:1565: UndefinedMetricWarning: Precision is ill-defined and being set to 0.0 in labels with no predicted samples. Use `zero_division` parameter to control this behavior.\n",
      "  _warn_prf(average, modifier, f\"{metric.capitalize()} is\", len(result))\n",
      "/home/lijianhang/anaconda3/envs/LLM/lib/python3.11/site-packages/sklearn/metrics/_classification.py:1565: UndefinedMetricWarning: Precision is ill-defined and being set to 0.0 in labels with no predicted samples. Use `zero_division` parameter to control this behavior.\n",
      "  _warn_prf(average, modifier, f\"{metric.capitalize()} is\", len(result))\n"
     ]
    },
    {
     "name": "stdout",
     "output_type": "stream",
     "text": [
      "\tValid ACC: 0.4027777777777778, Valid Pearson: 0.3908708131034549\n",
      "* Classification Report:\n",
      "              precision    recall  f1-score   support\n",
      "\n",
      "       moved       0.00      0.00      0.00       365\n",
      "       angry       0.40      0.98      0.57       837\n",
      "       funny       0.52      0.09      0.15       530\n",
      "         sad       0.00      0.00      0.00       292\n",
      "       novel       0.00      0.00      0.00        34\n",
      "     shocked       0.00      0.00      0.00        90\n",
      "\n",
      "    accuracy                           0.40      2148\n",
      "   macro avg       0.15      0.18      0.12      2148\n",
      "weighted avg       0.28      0.40      0.26      2148\n",
      "\n"
     ]
    },
    {
     "name": "stderr",
     "output_type": "stream",
     "text": [
      "Epoch 14 train: 100%|█████████████████████████| 195/195 [01:04<00:00,  3.02it/s, acc=0.2, loss=1.68]\n"
     ]
    },
    {
     "name": "stdout",
     "output_type": "stream",
     "text": [
      "\tTrain ACC: 0.431474358974359, Train Pearson: 0.38169473049052455\n"
     ]
    },
    {
     "name": "stderr",
     "output_type": "stream",
     "text": [
      "Epoch 14 valid: 100%|████████████████████████| 135/135 [00:18<00:00,  7.42it/s, acc=0.25, loss=1.59]\n",
      "/home/lijianhang/anaconda3/envs/LLM/lib/python3.11/site-packages/sklearn/metrics/_classification.py:1565: UndefinedMetricWarning: Precision is ill-defined and being set to 0.0 in labels with no predicted samples. Use `zero_division` parameter to control this behavior.\n",
      "  _warn_prf(average, modifier, f\"{metric.capitalize()} is\", len(result))\n",
      "/home/lijianhang/anaconda3/envs/LLM/lib/python3.11/site-packages/sklearn/metrics/_classification.py:1565: UndefinedMetricWarning: Precision is ill-defined and being set to 0.0 in labels with no predicted samples. Use `zero_division` parameter to control this behavior.\n",
      "  _warn_prf(average, modifier, f\"{metric.capitalize()} is\", len(result))\n",
      "/home/lijianhang/anaconda3/envs/LLM/lib/python3.11/site-packages/sklearn/metrics/_classification.py:1565: UndefinedMetricWarning: Precision is ill-defined and being set to 0.0 in labels with no predicted samples. Use `zero_division` parameter to control this behavior.\n",
      "  _warn_prf(average, modifier, f\"{metric.capitalize()} is\", len(result))\n"
     ]
    },
    {
     "name": "stdout",
     "output_type": "stream",
     "text": [
      "\tValid ACC: 0.4217592592592593, Valid Pearson: 0.3916276508011768\n",
      "* Classification Report:\n",
      "              precision    recall  f1-score   support\n",
      "\n",
      "       moved       0.50      0.11      0.18       365\n",
      "       angry       0.50      0.63      0.56       837\n",
      "       funny       0.33      0.65      0.44       530\n",
      "         sad       0.00      0.00      0.00       292\n",
      "       novel       0.00      0.00      0.00        34\n",
      "     shocked       0.00      0.00      0.00        90\n",
      "\n",
      "    accuracy                           0.42      2148\n",
      "   macro avg       0.22      0.23      0.20      2148\n",
      "weighted avg       0.36      0.42      0.36      2148\n",
      "\n"
     ]
    },
    {
     "name": "stderr",
     "output_type": "stream",
     "text": [
      "Epoch 15 train: 100%|█████████████████████████| 195/195 [01:04<00:00,  3.02it/s, acc=0.6, loss=1.24]\n"
     ]
    },
    {
     "name": "stdout",
     "output_type": "stream",
     "text": [
      "\tTrain ACC: 0.4473076923076923, Train Pearson: 0.40474534358645675\n"
     ]
    },
    {
     "name": "stderr",
     "output_type": "stream",
     "text": [
      "Epoch 15 valid: 100%|█████████████████████████| 135/135 [00:17<00:00,  7.71it/s, acc=0.5, loss=1.34]\n",
      "/home/lijianhang/anaconda3/envs/LLM/lib/python3.11/site-packages/sklearn/metrics/_classification.py:1565: UndefinedMetricWarning: Precision is ill-defined and being set to 0.0 in labels with no predicted samples. Use `zero_division` parameter to control this behavior.\n",
      "  _warn_prf(average, modifier, f\"{metric.capitalize()} is\", len(result))\n",
      "/home/lijianhang/anaconda3/envs/LLM/lib/python3.11/site-packages/sklearn/metrics/_classification.py:1565: UndefinedMetricWarning: Precision is ill-defined and being set to 0.0 in labels with no predicted samples. Use `zero_division` parameter to control this behavior.\n",
      "  _warn_prf(average, modifier, f\"{metric.capitalize()} is\", len(result))\n",
      "/home/lijianhang/anaconda3/envs/LLM/lib/python3.11/site-packages/sklearn/metrics/_classification.py:1565: UndefinedMetricWarning: Precision is ill-defined and being set to 0.0 in labels with no predicted samples. Use `zero_division` parameter to control this behavior.\n",
      "  _warn_prf(average, modifier, f\"{metric.capitalize()} is\", len(result))\n"
     ]
    },
    {
     "name": "stdout",
     "output_type": "stream",
     "text": [
      "\tValid ACC: 0.4810185185185185, Valid Pearson: 0.4255986981812584\n",
      "* Classification Report:\n",
      "              precision    recall  f1-score   support\n",
      "\n",
      "       moved       0.53      0.39      0.45       365\n",
      "       angry       0.48      0.84      0.61       837\n",
      "       funny       0.46      0.36      0.40       530\n",
      "         sad       0.00      0.00      0.00       292\n",
      "       novel       0.00      0.00      0.00        34\n",
      "     shocked       0.00      0.00      0.00        90\n",
      "\n",
      "    accuracy                           0.48      2148\n",
      "   macro avg       0.24      0.26      0.24      2148\n",
      "weighted avg       0.39      0.48      0.41      2148\n",
      "\n"
     ]
    },
    {
     "name": "stderr",
     "output_type": "stream",
     "text": [
      "Epoch 16 train: 100%|█████████████████████████| 195/195 [01:05<00:00,  2.98it/s, acc=0.2, loss=1.72]\n"
     ]
    },
    {
     "name": "stdout",
     "output_type": "stream",
     "text": [
      "\tTrain ACC: 0.4644871794871795, Train Pearson: 0.4256343580724345\n"
     ]
    },
    {
     "name": "stderr",
     "output_type": "stream",
     "text": [
      "Epoch 16 valid: 100%|█████████████████████████| 135/135 [00:17<00:00,  7.70it/s, acc=0.5, loss=1.37]\n",
      "/home/lijianhang/anaconda3/envs/LLM/lib/python3.11/site-packages/sklearn/metrics/_classification.py:1565: UndefinedMetricWarning: Precision is ill-defined and being set to 0.0 in labels with no predicted samples. Use `zero_division` parameter to control this behavior.\n",
      "  _warn_prf(average, modifier, f\"{metric.capitalize()} is\", len(result))\n",
      "/home/lijianhang/anaconda3/envs/LLM/lib/python3.11/site-packages/sklearn/metrics/_classification.py:1565: UndefinedMetricWarning: Precision is ill-defined and being set to 0.0 in labels with no predicted samples. Use `zero_division` parameter to control this behavior.\n",
      "  _warn_prf(average, modifier, f\"{metric.capitalize()} is\", len(result))\n",
      "/home/lijianhang/anaconda3/envs/LLM/lib/python3.11/site-packages/sklearn/metrics/_classification.py:1565: UndefinedMetricWarning: Precision is ill-defined and being set to 0.0 in labels with no predicted samples. Use `zero_division` parameter to control this behavior.\n",
      "  _warn_prf(average, modifier, f\"{metric.capitalize()} is\", len(result))\n"
     ]
    },
    {
     "name": "stdout",
     "output_type": "stream",
     "text": [
      "\tValid ACC: 0.4759259259259259, Valid Pearson: 0.45235118492513876\n",
      "* Classification Report:\n",
      "              precision    recall  f1-score   support\n",
      "\n",
      "       moved       0.57      0.35      0.43       365\n",
      "       angry       0.51      0.72      0.60       837\n",
      "       funny       0.40      0.54      0.46       530\n",
      "         sad       0.00      0.00      0.00       292\n",
      "       novel       0.00      0.00      0.00        34\n",
      "     shocked       0.00      0.00      0.00        90\n",
      "\n",
      "    accuracy                           0.47      2148\n",
      "   macro avg       0.25      0.27      0.25      2148\n",
      "weighted avg       0.39      0.47      0.42      2148\n",
      "\n"
     ]
    },
    {
     "name": "stderr",
     "output_type": "stream",
     "text": [
      "Epoch 17 train: 100%|█████████████████████████| 195/195 [01:04<00:00,  3.01it/s, acc=0.4, loss=1.31]\n"
     ]
    },
    {
     "name": "stdout",
     "output_type": "stream",
     "text": [
      "\tTrain ACC: 0.4956410256410257, Train Pearson: 0.45373401999524793\n"
     ]
    },
    {
     "name": "stderr",
     "output_type": "stream",
     "text": [
      "Epoch 17 valid: 100%|█████████████████████████| 135/135 [00:18<00:00,  7.41it/s, acc=0.5, loss=1.34]\n",
      "/home/lijianhang/anaconda3/envs/LLM/lib/python3.11/site-packages/sklearn/metrics/_classification.py:1565: UndefinedMetricWarning: Precision is ill-defined and being set to 0.0 in labels with no predicted samples. Use `zero_division` parameter to control this behavior.\n",
      "  _warn_prf(average, modifier, f\"{metric.capitalize()} is\", len(result))\n",
      "/home/lijianhang/anaconda3/envs/LLM/lib/python3.11/site-packages/sklearn/metrics/_classification.py:1565: UndefinedMetricWarning: Precision is ill-defined and being set to 0.0 in labels with no predicted samples. Use `zero_division` parameter to control this behavior.\n",
      "  _warn_prf(average, modifier, f\"{metric.capitalize()} is\", len(result))\n",
      "/home/lijianhang/anaconda3/envs/LLM/lib/python3.11/site-packages/sklearn/metrics/_classification.py:1565: UndefinedMetricWarning: Precision is ill-defined and being set to 0.0 in labels with no predicted samples. Use `zero_division` parameter to control this behavior.\n",
      "  _warn_prf(average, modifier, f\"{metric.capitalize()} is\", len(result))\n"
     ]
    },
    {
     "name": "stdout",
     "output_type": "stream",
     "text": [
      "\tValid ACC: 0.5013888888888889, Valid Pearson: 0.48135798388397594\n",
      "* Classification Report:\n",
      "              precision    recall  f1-score   support\n",
      "\n",
      "       moved       0.53      0.45      0.49       365\n",
      "       angry       0.51      0.78      0.62       837\n",
      "       funny       0.46      0.48      0.47       530\n",
      "         sad       0.00      0.00      0.00       292\n",
      "       novel       0.00      0.00      0.00        34\n",
      "     shocked       0.00      0.00      0.00        90\n",
      "\n",
      "    accuracy                           0.50      2148\n",
      "   macro avg       0.25      0.29      0.26      2148\n",
      "weighted avg       0.40      0.50      0.44      2148\n",
      "\n"
     ]
    },
    {
     "name": "stderr",
     "output_type": "stream",
     "text": [
      "Epoch 18 train: 100%|█████████████████████████| 195/195 [01:04<00:00,  3.01it/s, acc=0.6, loss=1.16]\n"
     ]
    },
    {
     "name": "stdout",
     "output_type": "stream",
     "text": [
      "\tTrain ACC: 0.5110897435897436, Train Pearson: 0.46950603914041406\n"
     ]
    },
    {
     "name": "stderr",
     "output_type": "stream",
     "text": [
      "Epoch 18 valid: 100%|█████████████████████████| 135/135 [00:18<00:00,  7.37it/s, acc=0.5, loss=1.31]\n",
      "/home/lijianhang/anaconda3/envs/LLM/lib/python3.11/site-packages/sklearn/metrics/_classification.py:1565: UndefinedMetricWarning: Precision is ill-defined and being set to 0.0 in labels with no predicted samples. Use `zero_division` parameter to control this behavior.\n",
      "  _warn_prf(average, modifier, f\"{metric.capitalize()} is\", len(result))\n",
      "/home/lijianhang/anaconda3/envs/LLM/lib/python3.11/site-packages/sklearn/metrics/_classification.py:1565: UndefinedMetricWarning: Precision is ill-defined and being set to 0.0 in labels with no predicted samples. Use `zero_division` parameter to control this behavior.\n",
      "  _warn_prf(average, modifier, f\"{metric.capitalize()} is\", len(result))\n",
      "/home/lijianhang/anaconda3/envs/LLM/lib/python3.11/site-packages/sklearn/metrics/_classification.py:1565: UndefinedMetricWarning: Precision is ill-defined and being set to 0.0 in labels with no predicted samples. Use `zero_division` parameter to control this behavior.\n",
      "  _warn_prf(average, modifier, f\"{metric.capitalize()} is\", len(result))\n"
     ]
    },
    {
     "name": "stdout",
     "output_type": "stream",
     "text": [
      "\tValid ACC: 0.46296296296296297, Valid Pearson: 0.4778231940193481\n",
      "* Classification Report:\n",
      "              precision    recall  f1-score   support\n",
      "\n",
      "       moved       0.52      0.45      0.49       365\n",
      "       angry       0.59      0.48      0.53       837\n",
      "       funny       0.37      0.80      0.51       530\n",
      "         sad       0.00      0.00      0.00       292\n",
      "       novel       0.00      0.00      0.00        34\n",
      "     shocked       0.00      0.00      0.00        90\n",
      "\n",
      "    accuracy                           0.46      2148\n",
      "   macro avg       0.25      0.29      0.25      2148\n",
      "weighted avg       0.41      0.46      0.41      2148\n",
      "\n"
     ]
    },
    {
     "name": "stderr",
     "output_type": "stream",
     "text": [
      "Epoch 19 train: 100%|██████████████████████████| 195/195 [01:04<00:00,  3.01it/s, acc=1, loss=0.577]\n"
     ]
    },
    {
     "name": "stdout",
     "output_type": "stream",
     "text": [
      "\tTrain ACC: 0.5240384615384616, Train Pearson: 0.49042449970204005\n"
     ]
    },
    {
     "name": "stderr",
     "output_type": "stream",
     "text": [
      "Epoch 19 valid: 100%|████████████████████████| 135/135 [00:17<00:00,  7.69it/s, acc=0.25, loss=1.29]\n",
      "/home/lijianhang/anaconda3/envs/LLM/lib/python3.11/site-packages/sklearn/metrics/_classification.py:1565: UndefinedMetricWarning: Precision is ill-defined and being set to 0.0 in labels with no predicted samples. Use `zero_division` parameter to control this behavior.\n",
      "  _warn_prf(average, modifier, f\"{metric.capitalize()} is\", len(result))\n",
      "/home/lijianhang/anaconda3/envs/LLM/lib/python3.11/site-packages/sklearn/metrics/_classification.py:1565: UndefinedMetricWarning: Precision is ill-defined and being set to 0.0 in labels with no predicted samples. Use `zero_division` parameter to control this behavior.\n",
      "  _warn_prf(average, modifier, f\"{metric.capitalize()} is\", len(result))\n",
      "/home/lijianhang/anaconda3/envs/LLM/lib/python3.11/site-packages/sklearn/metrics/_classification.py:1565: UndefinedMetricWarning: Precision is ill-defined and being set to 0.0 in labels with no predicted samples. Use `zero_division` parameter to control this behavior.\n",
      "  _warn_prf(average, modifier, f\"{metric.capitalize()} is\", len(result))\n"
     ]
    },
    {
     "name": "stdout",
     "output_type": "stream",
     "text": [
      "\tValid ACC: 0.49074074074074076, Valid Pearson: 0.5053876353531361\n",
      "* Classification Report:\n",
      "              precision    recall  f1-score   support\n",
      "\n",
      "       moved       0.63      0.28      0.39       365\n",
      "       angry       0.51      0.74      0.61       837\n",
      "       funny       0.43      0.62      0.50       530\n",
      "         sad       0.75      0.01      0.02       292\n",
      "       novel       0.00      0.00      0.00        34\n",
      "     shocked       0.00      0.00      0.00        90\n",
      "\n",
      "    accuracy                           0.49      2148\n",
      "   macro avg       0.39      0.28      0.25      2148\n",
      "weighted avg       0.51      0.49      0.43      2148\n",
      "\n",
      "loading data from: data/train.json\n"
     ]
    },
    {
     "name": "stderr",
     "output_type": "stream",
     "text": [
      "100%|██████████| 3109/3109 [00:09<00:00, 341.15it/s]\n"
     ]
    },
    {
     "name": "stdout",
     "output_type": "stream",
     "text": [
      "loading data from: data/test.json\n"
     ]
    },
    {
     "name": "stderr",
     "output_type": "stream",
     "text": [
      "100%|██████████| 2148/2148 [00:06<00:00, 308.53it/s]\n",
      "Epoch 0 train: 100%|███████████████████████████| 195/195 [01:06<00:00,  2.93it/s, acc=0.2, loss=1.5]\n"
     ]
    },
    {
     "name": "stdout",
     "output_type": "stream",
     "text": [
      "\tTrain ACC: 0.3346794871794872, Train Pearson: 0.32672326923071215\n"
     ]
    },
    {
     "name": "stderr",
     "output_type": "stream",
     "text": [
      "Epoch 0 valid: 100%|█████████████████████████| 135/135 [00:17<00:00,  7.79it/s, acc=0.25, loss=1.75]\n",
      "/home/lijianhang/anaconda3/envs/LLM/lib/python3.11/site-packages/sklearn/metrics/_classification.py:1565: UndefinedMetricWarning: Precision is ill-defined and being set to 0.0 in labels with no predicted samples. Use `zero_division` parameter to control this behavior.\n",
      "  _warn_prf(average, modifier, f\"{metric.capitalize()} is\", len(result))\n",
      "/home/lijianhang/anaconda3/envs/LLM/lib/python3.11/site-packages/sklearn/metrics/_classification.py:1565: UndefinedMetricWarning: Precision is ill-defined and being set to 0.0 in labels with no predicted samples. Use `zero_division` parameter to control this behavior.\n",
      "  _warn_prf(average, modifier, f\"{metric.capitalize()} is\", len(result))\n",
      "/home/lijianhang/anaconda3/envs/LLM/lib/python3.11/site-packages/sklearn/metrics/_classification.py:1565: UndefinedMetricWarning: Precision is ill-defined and being set to 0.0 in labels with no predicted samples. Use `zero_division` parameter to control this behavior.\n",
      "  _warn_prf(average, modifier, f\"{metric.capitalize()} is\", len(result))\n"
     ]
    },
    {
     "name": "stdout",
     "output_type": "stream",
     "text": [
      "\tValid ACC: 0.24953703703703703, Valid Pearson: 0.3450298109762033\n",
      "* Classification Report:\n",
      "              precision    recall  f1-score   support\n",
      "\n",
      "       moved       0.00      0.00      0.00       365\n",
      "       angry       0.00      0.00      0.00       837\n",
      "       funny       0.25      1.00      0.40       530\n",
      "         sad       0.00      0.00      0.00       292\n",
      "       novel       0.00      0.00      0.00        34\n",
      "     shocked       0.00      0.00      0.00        90\n",
      "\n",
      "    accuracy                           0.25      2148\n",
      "   macro avg       0.04      0.17      0.07      2148\n",
      "weighted avg       0.06      0.25      0.10      2148\n",
      "\n"
     ]
    },
    {
     "name": "stderr",
     "output_type": "stream",
     "text": [
      "Epoch 1 train: 100%|██████████████████████████| 195/195 [01:04<00:00,  3.03it/s, acc=0.6, loss=1.05]\n"
     ]
    },
    {
     "name": "stdout",
     "output_type": "stream",
     "text": [
      "\tTrain ACC: 0.3325641025641025, Train Pearson: 0.3322906585410876\n"
     ]
    },
    {
     "name": "stderr",
     "output_type": "stream",
     "text": [
      "Epoch 1 valid: 100%|█████████████████████████| 135/135 [00:18<00:00,  7.41it/s, acc=0.25, loss=1.84]\n",
      "/home/lijianhang/anaconda3/envs/LLM/lib/python3.11/site-packages/sklearn/metrics/_classification.py:1565: UndefinedMetricWarning: Precision is ill-defined and being set to 0.0 in labels with no predicted samples. Use `zero_division` parameter to control this behavior.\n",
      "  _warn_prf(average, modifier, f\"{metric.capitalize()} is\", len(result))\n",
      "/home/lijianhang/anaconda3/envs/LLM/lib/python3.11/site-packages/sklearn/metrics/_classification.py:1565: UndefinedMetricWarning: Precision is ill-defined and being set to 0.0 in labels with no predicted samples. Use `zero_division` parameter to control this behavior.\n",
      "  _warn_prf(average, modifier, f\"{metric.capitalize()} is\", len(result))\n",
      "/home/lijianhang/anaconda3/envs/LLM/lib/python3.11/site-packages/sklearn/metrics/_classification.py:1565: UndefinedMetricWarning: Precision is ill-defined and being set to 0.0 in labels with no predicted samples. Use `zero_division` parameter to control this behavior.\n",
      "  _warn_prf(average, modifier, f\"{metric.capitalize()} is\", len(result))\n"
     ]
    },
    {
     "name": "stdout",
     "output_type": "stream",
     "text": [
      "\tValid ACC: 0.40324074074074073, Valid Pearson: 0.3470058531118147\n",
      "* Classification Report:\n",
      "              precision    recall  f1-score   support\n",
      "\n",
      "       moved       0.00      0.00      0.00       365\n",
      "       angry       0.40      0.96      0.57       837\n",
      "       funny       0.42      0.12      0.19       530\n",
      "         sad       0.00      0.00      0.00       292\n",
      "       novel       0.00      0.00      0.00        34\n",
      "     shocked       0.00      0.00      0.00        90\n",
      "\n",
      "    accuracy                           0.40      2148\n",
      "   macro avg       0.14      0.18      0.13      2148\n",
      "weighted avg       0.26      0.40      0.27      2148\n",
      "\n"
     ]
    },
    {
     "name": "stderr",
     "output_type": "stream",
     "text": [
      "Epoch 2 train: 100%|███████████████████████████| 195/195 [01:04<00:00,  3.02it/s, acc=0.2, loss=1.5]\n"
     ]
    },
    {
     "name": "stdout",
     "output_type": "stream",
     "text": [
      "\tTrain ACC: 0.34365384615384614, Train Pearson: 0.333784805319728\n"
     ]
    },
    {
     "name": "stderr",
     "output_type": "stream",
     "text": [
      "Epoch 2 valid: 100%|████████████████████████████| 135/135 [00:18<00:00,  7.48it/s, acc=0, loss=1.89]\n",
      "/home/lijianhang/anaconda3/envs/LLM/lib/python3.11/site-packages/sklearn/metrics/_classification.py:1565: UndefinedMetricWarning: Precision is ill-defined and being set to 0.0 in labels with no predicted samples. Use `zero_division` parameter to control this behavior.\n",
      "  _warn_prf(average, modifier, f\"{metric.capitalize()} is\", len(result))\n",
      "/home/lijianhang/anaconda3/envs/LLM/lib/python3.11/site-packages/sklearn/metrics/_classification.py:1565: UndefinedMetricWarning: Precision is ill-defined and being set to 0.0 in labels with no predicted samples. Use `zero_division` parameter to control this behavior.\n",
      "  _warn_prf(average, modifier, f\"{metric.capitalize()} is\", len(result))\n",
      "/home/lijianhang/anaconda3/envs/LLM/lib/python3.11/site-packages/sklearn/metrics/_classification.py:1565: UndefinedMetricWarning: Precision is ill-defined and being set to 0.0 in labels with no predicted samples. Use `zero_division` parameter to control this behavior.\n",
      "  _warn_prf(average, modifier, f\"{metric.capitalize()} is\", len(result))\n"
     ]
    },
    {
     "name": "stdout",
     "output_type": "stream",
     "text": [
      "\tValid ACC: 0.3875, Valid Pearson: 0.3568698645952777\n",
      "* Classification Report:\n",
      "              precision    recall  f1-score   support\n",
      "\n",
      "       moved       0.00      0.00      0.00       365\n",
      "       angry       0.39      1.00      0.56       837\n",
      "       funny       0.00      0.00      0.00       530\n",
      "         sad       0.00      0.00      0.00       292\n",
      "       novel       0.00      0.00      0.00        34\n",
      "     shocked       0.00      0.00      0.00        90\n",
      "\n",
      "    accuracy                           0.39      2148\n",
      "   macro avg       0.06      0.17      0.09      2148\n",
      "weighted avg       0.15      0.39      0.22      2148\n",
      "\n"
     ]
    },
    {
     "name": "stderr",
     "output_type": "stream",
     "text": [
      "Epoch 3 train: 100%|██████████████████████████| 195/195 [01:04<00:00,  3.02it/s, acc=0.4, loss=1.45]\n"
     ]
    },
    {
     "name": "stdout",
     "output_type": "stream",
     "text": [
      "\tTrain ACC: 0.33442307692307693, Train Pearson: 0.3316178820970854\n"
     ]
    },
    {
     "name": "stderr",
     "output_type": "stream",
     "text": [
      "Epoch 3 valid: 100%|████████████████████████████| 135/135 [00:17<00:00,  7.76it/s, acc=0, loss=1.63]\n",
      "/home/lijianhang/anaconda3/envs/LLM/lib/python3.11/site-packages/sklearn/metrics/_classification.py:1565: UndefinedMetricWarning: Precision is ill-defined and being set to 0.0 in labels with no predicted samples. Use `zero_division` parameter to control this behavior.\n",
      "  _warn_prf(average, modifier, f\"{metric.capitalize()} is\", len(result))\n",
      "/home/lijianhang/anaconda3/envs/LLM/lib/python3.11/site-packages/sklearn/metrics/_classification.py:1565: UndefinedMetricWarning: Precision is ill-defined and being set to 0.0 in labels with no predicted samples. Use `zero_division` parameter to control this behavior.\n",
      "  _warn_prf(average, modifier, f\"{metric.capitalize()} is\", len(result))\n",
      "/home/lijianhang/anaconda3/envs/LLM/lib/python3.11/site-packages/sklearn/metrics/_classification.py:1565: UndefinedMetricWarning: Precision is ill-defined and being set to 0.0 in labels with no predicted samples. Use `zero_division` parameter to control this behavior.\n",
      "  _warn_prf(average, modifier, f\"{metric.capitalize()} is\", len(result))\n"
     ]
    },
    {
     "name": "stdout",
     "output_type": "stream",
     "text": [
      "\tValid ACC: 0.38842592592592595, Valid Pearson: 0.33734928661012\n",
      "* Classification Report:\n",
      "              precision    recall  f1-score   support\n",
      "\n",
      "       moved       0.00      0.00      0.00       365\n",
      "       angry       0.39      1.00      0.56       837\n",
      "       funny       0.67      0.00      0.01       530\n",
      "         sad       0.00      0.00      0.00       292\n",
      "       novel       0.00      0.00      0.00        34\n",
      "     shocked       0.00      0.00      0.00        90\n",
      "\n",
      "    accuracy                           0.39      2148\n",
      "   macro avg       0.18      0.17      0.09      2148\n",
      "weighted avg       0.32      0.39      0.22      2148\n",
      "\n"
     ]
    },
    {
     "name": "stderr",
     "output_type": "stream",
     "text": [
      "Epoch 4 train: 100%|███████████████████████████| 195/195 [01:05<00:00,  2.99it/s, acc=0.2, loss=1.4]\n"
     ]
    },
    {
     "name": "stdout",
     "output_type": "stream",
     "text": [
      "\tTrain ACC: 0.35583333333333333, Train Pearson: 0.3301802962113617\n"
     ]
    },
    {
     "name": "stderr",
     "output_type": "stream",
     "text": [
      "Epoch 4 valid: 100%|█████████████████████████| 135/135 [00:17<00:00,  7.73it/s, acc=0.25, loss=1.71]\n",
      "/home/lijianhang/anaconda3/envs/LLM/lib/python3.11/site-packages/sklearn/metrics/_classification.py:1565: UndefinedMetricWarning: Precision is ill-defined and being set to 0.0 in labels with no predicted samples. Use `zero_division` parameter to control this behavior.\n",
      "  _warn_prf(average, modifier, f\"{metric.capitalize()} is\", len(result))\n",
      "/home/lijianhang/anaconda3/envs/LLM/lib/python3.11/site-packages/sklearn/metrics/_classification.py:1565: UndefinedMetricWarning: Precision is ill-defined and being set to 0.0 in labels with no predicted samples. Use `zero_division` parameter to control this behavior.\n",
      "  _warn_prf(average, modifier, f\"{metric.capitalize()} is\", len(result))\n",
      "/home/lijianhang/anaconda3/envs/LLM/lib/python3.11/site-packages/sklearn/metrics/_classification.py:1565: UndefinedMetricWarning: Precision is ill-defined and being set to 0.0 in labels with no predicted samples. Use `zero_division` parameter to control this behavior.\n",
      "  _warn_prf(average, modifier, f\"{metric.capitalize()} is\", len(result))\n"
     ]
    },
    {
     "name": "stdout",
     "output_type": "stream",
     "text": [
      "\tValid ACC: 0.39351851851851855, Valid Pearson: 0.35670672210990756\n",
      "* Classification Report:\n",
      "              precision    recall  f1-score   support\n",
      "\n",
      "       moved       0.00      0.00      0.00       365\n",
      "       angry       0.39      1.00      0.56       837\n",
      "       funny       0.59      0.02      0.05       530\n",
      "         sad       0.00      0.00      0.00       292\n",
      "       novel       0.00      0.00      0.00        34\n",
      "     shocked       0.00      0.00      0.00        90\n",
      "\n",
      "    accuracy                           0.39      2148\n",
      "   macro avg       0.16      0.17      0.10      2148\n",
      "weighted avg       0.30      0.39      0.23      2148\n",
      "\n"
     ]
    },
    {
     "name": "stderr",
     "output_type": "stream",
     "text": [
      "Epoch 5 train: 100%|██████████████████████████| 195/195 [01:04<00:00,  3.02it/s, acc=0.6, loss=1.14]\n"
     ]
    },
    {
     "name": "stdout",
     "output_type": "stream",
     "text": [
      "\tTrain ACC: 0.3533974358974359, Train Pearson: 0.3386935373988295\n"
     ]
    },
    {
     "name": "stderr",
     "output_type": "stream",
     "text": [
      "Epoch 5 valid: 100%|█████████████████████████| 135/135 [00:18<00:00,  7.44it/s, acc=0.25, loss=1.87]\n",
      "/home/lijianhang/anaconda3/envs/LLM/lib/python3.11/site-packages/sklearn/metrics/_classification.py:1565: UndefinedMetricWarning: Precision is ill-defined and being set to 0.0 in labels with no predicted samples. Use `zero_division` parameter to control this behavior.\n",
      "  _warn_prf(average, modifier, f\"{metric.capitalize()} is\", len(result))\n",
      "/home/lijianhang/anaconda3/envs/LLM/lib/python3.11/site-packages/sklearn/metrics/_classification.py:1565: UndefinedMetricWarning: Precision is ill-defined and being set to 0.0 in labels with no predicted samples. Use `zero_division` parameter to control this behavior.\n",
      "  _warn_prf(average, modifier, f\"{metric.capitalize()} is\", len(result))\n",
      "/home/lijianhang/anaconda3/envs/LLM/lib/python3.11/site-packages/sklearn/metrics/_classification.py:1565: UndefinedMetricWarning: Precision is ill-defined and being set to 0.0 in labels with no predicted samples. Use `zero_division` parameter to control this behavior.\n",
      "  _warn_prf(average, modifier, f\"{metric.capitalize()} is\", len(result))\n"
     ]
    },
    {
     "name": "stdout",
     "output_type": "stream",
     "text": [
      "\tValid ACC: 0.3958333333333333, Valid Pearson: 0.35934075712099317\n",
      "* Classification Report:\n",
      "              precision    recall  f1-score   support\n",
      "\n",
      "       moved       0.00      0.00      0.00       365\n",
      "       angry       0.39      1.00      0.56       837\n",
      "       funny       0.56      0.04      0.07       530\n",
      "         sad       0.00      0.00      0.00       292\n",
      "       novel       0.00      0.00      0.00        34\n",
      "     shocked       0.00      0.00      0.00        90\n",
      "\n",
      "    accuracy                           0.40      2148\n",
      "   macro avg       0.16      0.17      0.11      2148\n",
      "weighted avg       0.29      0.40      0.24      2148\n",
      "\n"
     ]
    },
    {
     "name": "stderr",
     "output_type": "stream",
     "text": [
      "Epoch 6 train: 100%|██████████████████████████| 195/195 [01:04<00:00,  3.01it/s, acc=0.6, loss=1.56]\n"
     ]
    },
    {
     "name": "stdout",
     "output_type": "stream",
     "text": [
      "\tTrain ACC: 0.36878205128205127, Train Pearson: 0.339030554597222\n"
     ]
    },
    {
     "name": "stderr",
     "output_type": "stream",
     "text": [
      "Epoch 6 valid: 100%|█████████████████████████| 135/135 [00:18<00:00,  7.43it/s, acc=0.25, loss=1.79]\n",
      "/home/lijianhang/anaconda3/envs/LLM/lib/python3.11/site-packages/sklearn/metrics/_classification.py:1565: UndefinedMetricWarning: Precision is ill-defined and being set to 0.0 in labels with no predicted samples. Use `zero_division` parameter to control this behavior.\n",
      "  _warn_prf(average, modifier, f\"{metric.capitalize()} is\", len(result))\n",
      "/home/lijianhang/anaconda3/envs/LLM/lib/python3.11/site-packages/sklearn/metrics/_classification.py:1565: UndefinedMetricWarning: Precision is ill-defined and being set to 0.0 in labels with no predicted samples. Use `zero_division` parameter to control this behavior.\n",
      "  _warn_prf(average, modifier, f\"{metric.capitalize()} is\", len(result))\n",
      "/home/lijianhang/anaconda3/envs/LLM/lib/python3.11/site-packages/sklearn/metrics/_classification.py:1565: UndefinedMetricWarning: Precision is ill-defined and being set to 0.0 in labels with no predicted samples. Use `zero_division` parameter to control this behavior.\n",
      "  _warn_prf(average, modifier, f\"{metric.capitalize()} is\", len(result))\n"
     ]
    },
    {
     "name": "stdout",
     "output_type": "stream",
     "text": [
      "\tValid ACC: 0.2513888888888889, Valid Pearson: 0.35693845870283747\n",
      "* Classification Report:\n",
      "              precision    recall  f1-score   support\n",
      "\n",
      "       moved       0.00      0.00      0.00       365\n",
      "       angry       0.80      0.00      0.01       837\n",
      "       funny       0.25      1.00      0.40       530\n",
      "         sad       0.00      0.00      0.00       292\n",
      "       novel       0.00      0.00      0.00        34\n",
      "     shocked       0.00      0.00      0.00        90\n",
      "\n",
      "    accuracy                           0.25      2148\n",
      "   macro avg       0.17      0.17      0.07      2148\n",
      "weighted avg       0.37      0.25      0.10      2148\n",
      "\n"
     ]
    },
    {
     "name": "stderr",
     "output_type": "stream",
     "text": [
      "Epoch 7 train: 100%|██████████████████████████| 195/195 [01:04<00:00,  3.02it/s, acc=0.4, loss=1.29]\n"
     ]
    },
    {
     "name": "stdout",
     "output_type": "stream",
     "text": [
      "\tTrain ACC: 0.3680769230769231, Train Pearson: 0.3432849780790037\n"
     ]
    },
    {
     "name": "stderr",
     "output_type": "stream",
     "text": [
      "Epoch 7 valid: 100%|█████████████████████████| 135/135 [00:17<00:00,  7.74it/s, acc=0.25, loss=1.81]\n",
      "/home/lijianhang/anaconda3/envs/LLM/lib/python3.11/site-packages/sklearn/metrics/_classification.py:1565: UndefinedMetricWarning: Precision is ill-defined and being set to 0.0 in labels with no predicted samples. Use `zero_division` parameter to control this behavior.\n",
      "  _warn_prf(average, modifier, f\"{metric.capitalize()} is\", len(result))\n",
      "/home/lijianhang/anaconda3/envs/LLM/lib/python3.11/site-packages/sklearn/metrics/_classification.py:1565: UndefinedMetricWarning: Precision is ill-defined and being set to 0.0 in labels with no predicted samples. Use `zero_division` parameter to control this behavior.\n",
      "  _warn_prf(average, modifier, f\"{metric.capitalize()} is\", len(result))\n",
      "/home/lijianhang/anaconda3/envs/LLM/lib/python3.11/site-packages/sklearn/metrics/_classification.py:1565: UndefinedMetricWarning: Precision is ill-defined and being set to 0.0 in labels with no predicted samples. Use `zero_division` parameter to control this behavior.\n",
      "  _warn_prf(average, modifier, f\"{metric.capitalize()} is\", len(result))\n"
     ]
    },
    {
     "name": "stdout",
     "output_type": "stream",
     "text": [
      "\tValid ACC: 0.38657407407407407, Valid Pearson: 0.38671919090970147\n",
      "* Classification Report:\n",
      "              precision    recall  f1-score   support\n",
      "\n",
      "       moved       0.00      0.00      0.00       365\n",
      "       angry       0.54      0.59      0.56       837\n",
      "       funny       0.27      0.64      0.38       530\n",
      "         sad       0.00      0.00      0.00       292\n",
      "       novel       0.00      0.00      0.00        34\n",
      "     shocked       0.00      0.00      0.00        90\n",
      "\n",
      "    accuracy                           0.39      2148\n",
      "   macro avg       0.14      0.20      0.16      2148\n",
      "weighted avg       0.28      0.39      0.31      2148\n",
      "\n"
     ]
    },
    {
     "name": "stderr",
     "output_type": "stream",
     "text": [
      "Epoch 8 train: 100%|██████████████████████████| 195/195 [01:05<00:00,  2.99it/s, acc=0.4, loss=1.41]\n"
     ]
    },
    {
     "name": "stdout",
     "output_type": "stream",
     "text": [
      "\tTrain ACC: 0.3930769230769231, Train Pearson: 0.37003671654789844\n"
     ]
    },
    {
     "name": "stderr",
     "output_type": "stream",
     "text": [
      "Epoch 8 valid: 100%|█████████████████████████| 135/135 [00:17<00:00,  7.76it/s, acc=0.25, loss=1.52]\n",
      "/home/lijianhang/anaconda3/envs/LLM/lib/python3.11/site-packages/sklearn/metrics/_classification.py:1565: UndefinedMetricWarning: Precision is ill-defined and being set to 0.0 in labels with no predicted samples. Use `zero_division` parameter to control this behavior.\n",
      "  _warn_prf(average, modifier, f\"{metric.capitalize()} is\", len(result))\n",
      "/home/lijianhang/anaconda3/envs/LLM/lib/python3.11/site-packages/sklearn/metrics/_classification.py:1565: UndefinedMetricWarning: Precision is ill-defined and being set to 0.0 in labels with no predicted samples. Use `zero_division` parameter to control this behavior.\n",
      "  _warn_prf(average, modifier, f\"{metric.capitalize()} is\", len(result))\n",
      "/home/lijianhang/anaconda3/envs/LLM/lib/python3.11/site-packages/sklearn/metrics/_classification.py:1565: UndefinedMetricWarning: Precision is ill-defined and being set to 0.0 in labels with no predicted samples. Use `zero_division` parameter to control this behavior.\n",
      "  _warn_prf(average, modifier, f\"{metric.capitalize()} is\", len(result))\n"
     ]
    },
    {
     "name": "stdout",
     "output_type": "stream",
     "text": [
      "\tValid ACC: 0.29305555555555557, Valid Pearson: 0.37268362986813464\n",
      "* Classification Report:\n",
      "              precision    recall  f1-score   support\n",
      "\n",
      "       moved       0.00      0.00      0.00       365\n",
      "       angry       0.79      0.13      0.23       837\n",
      "       funny       0.26      0.97      0.41       530\n",
      "         sad       0.00      0.00      0.00       292\n",
      "       novel       0.00      0.00      0.00        34\n",
      "     shocked       0.00      0.00      0.00        90\n",
      "\n",
      "    accuracy                           0.29      2148\n",
      "   macro avg       0.17      0.18      0.11      2148\n",
      "weighted avg       0.37      0.29      0.19      2148\n",
      "\n"
     ]
    },
    {
     "name": "stderr",
     "output_type": "stream",
     "text": [
      "Epoch 9 train: 100%|███████████████████████████| 195/195 [01:04<00:00,  3.03it/s, acc=0.2, loss=1.9]\n"
     ]
    },
    {
     "name": "stdout",
     "output_type": "stream",
     "text": [
      "\tTrain ACC: 0.4337179487179487, Train Pearson: 0.4016143941751496\n"
     ]
    },
    {
     "name": "stderr",
     "output_type": "stream",
     "text": [
      "Epoch 9 valid: 100%|█████████████████████████| 135/135 [00:18<00:00,  7.47it/s, acc=0.25, loss=1.78]\n",
      "/home/lijianhang/anaconda3/envs/LLM/lib/python3.11/site-packages/sklearn/metrics/_classification.py:1565: UndefinedMetricWarning: Precision is ill-defined and being set to 0.0 in labels with no predicted samples. Use `zero_division` parameter to control this behavior.\n",
      "  _warn_prf(average, modifier, f\"{metric.capitalize()} is\", len(result))\n",
      "/home/lijianhang/anaconda3/envs/LLM/lib/python3.11/site-packages/sklearn/metrics/_classification.py:1565: UndefinedMetricWarning: Precision is ill-defined and being set to 0.0 in labels with no predicted samples. Use `zero_division` parameter to control this behavior.\n",
      "  _warn_prf(average, modifier, f\"{metric.capitalize()} is\", len(result))\n",
      "/home/lijianhang/anaconda3/envs/LLM/lib/python3.11/site-packages/sklearn/metrics/_classification.py:1565: UndefinedMetricWarning: Precision is ill-defined and being set to 0.0 in labels with no predicted samples. Use `zero_division` parameter to control this behavior.\n",
      "  _warn_prf(average, modifier, f\"{metric.capitalize()} is\", len(result))\n"
     ]
    },
    {
     "name": "stdout",
     "output_type": "stream",
     "text": [
      "\tValid ACC: 0.4009259259259259, Valid Pearson: 0.44666183921598324\n",
      "* Classification Report:\n",
      "              precision    recall  f1-score   support\n",
      "\n",
      "       moved       0.43      0.02      0.03       365\n",
      "       angry       0.55      0.63      0.59       837\n",
      "       funny       0.28      0.62      0.39       530\n",
      "         sad       0.00      0.00      0.00       292\n",
      "       novel       0.00      0.00      0.00        34\n",
      "     shocked       0.00      0.00      0.00        90\n",
      "\n",
      "    accuracy                           0.40      2148\n",
      "   macro avg       0.21      0.21      0.17      2148\n",
      "weighted avg       0.36      0.40      0.33      2148\n",
      "\n"
     ]
    },
    {
     "name": "stderr",
     "output_type": "stream",
     "text": [
      "Epoch 10 train: 100%|█████████████████████████| 195/195 [01:04<00:00,  3.03it/s, acc=0.4, loss=1.51]\n"
     ]
    },
    {
     "name": "stdout",
     "output_type": "stream",
     "text": [
      "\tTrain ACC: 0.47000000000000003, Train Pearson: 0.4439973532291864\n"
     ]
    },
    {
     "name": "stderr",
     "output_type": "stream",
     "text": [
      "Epoch 10 valid: 100%|█████████████████████████| 135/135 [00:18<00:00,  7.48it/s, acc=0.5, loss=1.53]\n",
      "/home/lijianhang/anaconda3/envs/LLM/lib/python3.11/site-packages/sklearn/metrics/_classification.py:1565: UndefinedMetricWarning: Precision is ill-defined and being set to 0.0 in labels with no predicted samples. Use `zero_division` parameter to control this behavior.\n",
      "  _warn_prf(average, modifier, f\"{metric.capitalize()} is\", len(result))\n",
      "/home/lijianhang/anaconda3/envs/LLM/lib/python3.11/site-packages/sklearn/metrics/_classification.py:1565: UndefinedMetricWarning: Precision is ill-defined and being set to 0.0 in labels with no predicted samples. Use `zero_division` parameter to control this behavior.\n",
      "  _warn_prf(average, modifier, f\"{metric.capitalize()} is\", len(result))\n",
      "/home/lijianhang/anaconda3/envs/LLM/lib/python3.11/site-packages/sklearn/metrics/_classification.py:1565: UndefinedMetricWarning: Precision is ill-defined and being set to 0.0 in labels with no predicted samples. Use `zero_division` parameter to control this behavior.\n",
      "  _warn_prf(average, modifier, f\"{metric.capitalize()} is\", len(result))\n"
     ]
    },
    {
     "name": "stdout",
     "output_type": "stream",
     "text": [
      "\tValid ACC: 0.4847222222222222, Valid Pearson: 0.4915827095051227\n",
      "* Classification Report:\n",
      "              precision    recall  f1-score   support\n",
      "\n",
      "       moved       0.48      0.48      0.48       365\n",
      "       angry       0.53      0.76      0.62       837\n",
      "       funny       0.40      0.44      0.42       530\n",
      "         sad       0.00      0.00      0.00       292\n",
      "       novel       0.00      0.00      0.00        34\n",
      "     shocked       0.00      0.00      0.00        90\n",
      "\n",
      "    accuracy                           0.48      2148\n",
      "   macro avg       0.23      0.28      0.25      2148\n",
      "weighted avg       0.38      0.48      0.43      2148\n",
      "\n"
     ]
    },
    {
     "name": "stderr",
     "output_type": "stream",
     "text": [
      "Epoch 11 train: 100%|█████████████████████████| 195/195 [01:04<00:00,  3.03it/s, acc=0.4, loss=1.33]\n"
     ]
    },
    {
     "name": "stdout",
     "output_type": "stream",
     "text": [
      "\tTrain ACC: 0.5030128205128206, Train Pearson: 0.48732545672017225\n"
     ]
    },
    {
     "name": "stderr",
     "output_type": "stream",
     "text": [
      "Epoch 11 valid: 100%|█████████████████████████| 135/135 [00:17<00:00,  7.72it/s, acc=0.5, loss=1.21]\n",
      "/home/lijianhang/anaconda3/envs/LLM/lib/python3.11/site-packages/sklearn/metrics/_classification.py:1565: UndefinedMetricWarning: Precision is ill-defined and being set to 0.0 in labels with no predicted samples. Use `zero_division` parameter to control this behavior.\n",
      "  _warn_prf(average, modifier, f\"{metric.capitalize()} is\", len(result))\n",
      "/home/lijianhang/anaconda3/envs/LLM/lib/python3.11/site-packages/sklearn/metrics/_classification.py:1565: UndefinedMetricWarning: Precision is ill-defined and being set to 0.0 in labels with no predicted samples. Use `zero_division` parameter to control this behavior.\n",
      "  _warn_prf(average, modifier, f\"{metric.capitalize()} is\", len(result))\n",
      "/home/lijianhang/anaconda3/envs/LLM/lib/python3.11/site-packages/sklearn/metrics/_classification.py:1565: UndefinedMetricWarning: Precision is ill-defined and being set to 0.0 in labels with no predicted samples. Use `zero_division` parameter to control this behavior.\n",
      "  _warn_prf(average, modifier, f\"{metric.capitalize()} is\", len(result))\n"
     ]
    },
    {
     "name": "stdout",
     "output_type": "stream",
     "text": [
      "\tValid ACC: 0.5222222222222223, Valid Pearson: 0.5016051142259966\n",
      "* Classification Report:\n",
      "              precision    recall  f1-score   support\n",
      "\n",
      "       moved       0.48      0.54      0.51       365\n",
      "       angry       0.55      0.78      0.64       837\n",
      "       funny       0.48      0.39      0.43       530\n",
      "         sad       0.56      0.21      0.30       292\n",
      "       novel       0.00      0.00      0.00        34\n",
      "     shocked       0.00      0.00      0.00        90\n",
      "\n",
      "    accuracy                           0.52      2148\n",
      "   macro avg       0.35      0.32      0.31      2148\n",
      "weighted avg       0.49      0.52      0.49      2148\n",
      "\n"
     ]
    },
    {
     "name": "stderr",
     "output_type": "stream",
     "text": [
      "Epoch 12 train: 100%|████████████████████████| 195/195 [01:05<00:00,  2.99it/s, acc=0.6, loss=0.681]\n"
     ]
    },
    {
     "name": "stdout",
     "output_type": "stream",
     "text": [
      "\tTrain ACC: 0.5235897435897435, Train Pearson: 0.5022302664679174\n"
     ]
    },
    {
     "name": "stderr",
     "output_type": "stream",
     "text": [
      "Epoch 12 valid: 100%|████████████████████████| 135/135 [00:17<00:00,  7.75it/s, acc=0.75, loss=1.05]\n",
      "/home/lijianhang/anaconda3/envs/LLM/lib/python3.11/site-packages/sklearn/metrics/_classification.py:1565: UndefinedMetricWarning: Precision is ill-defined and being set to 0.0 in labels with no predicted samples. Use `zero_division` parameter to control this behavior.\n",
      "  _warn_prf(average, modifier, f\"{metric.capitalize()} is\", len(result))\n",
      "/home/lijianhang/anaconda3/envs/LLM/lib/python3.11/site-packages/sklearn/metrics/_classification.py:1565: UndefinedMetricWarning: Precision is ill-defined and being set to 0.0 in labels with no predicted samples. Use `zero_division` parameter to control this behavior.\n",
      "  _warn_prf(average, modifier, f\"{metric.capitalize()} is\", len(result))\n",
      "/home/lijianhang/anaconda3/envs/LLM/lib/python3.11/site-packages/sklearn/metrics/_classification.py:1565: UndefinedMetricWarning: Precision is ill-defined and being set to 0.0 in labels with no predicted samples. Use `zero_division` parameter to control this behavior.\n",
      "  _warn_prf(average, modifier, f\"{metric.capitalize()} is\", len(result))\n"
     ]
    },
    {
     "name": "stdout",
     "output_type": "stream",
     "text": [
      "\tValid ACC: 0.5069444444444444, Valid Pearson: 0.5098388708883362\n",
      "* Classification Report:\n",
      "              precision    recall  f1-score   support\n",
      "\n",
      "       moved       0.50      0.51      0.50       365\n",
      "       angry       0.66      0.47      0.55       837\n",
      "       funny       0.42      0.71      0.52       530\n",
      "         sad       0.46      0.43      0.45       292\n",
      "       novel       0.00      0.00      0.00        34\n",
      "     shocked       0.00      0.00      0.00        90\n",
      "\n",
      "    accuracy                           0.50      2148\n",
      "   macro avg       0.34      0.35      0.34      2148\n",
      "weighted avg       0.51      0.50      0.49      2148\n",
      "\n"
     ]
    },
    {
     "name": "stderr",
     "output_type": "stream",
     "text": [
      "Epoch 13 train: 100%|██████████████████████████| 195/195 [01:04<00:00,  3.02it/s, acc=1, loss=0.472]\n"
     ]
    },
    {
     "name": "stdout",
     "output_type": "stream",
     "text": [
      "\tTrain ACC: 0.5573717948717949, Train Pearson: 0.5383795344945626\n"
     ]
    },
    {
     "name": "stderr",
     "output_type": "stream",
     "text": [
      "Epoch 13 valid: 100%|█████████████████████████| 135/135 [00:18<00:00,  7.47it/s, acc=0.25, loss=1.1]\n",
      "/home/lijianhang/anaconda3/envs/LLM/lib/python3.11/site-packages/sklearn/metrics/_classification.py:1565: UndefinedMetricWarning: Precision is ill-defined and being set to 0.0 in labels with no predicted samples. Use `zero_division` parameter to control this behavior.\n",
      "  _warn_prf(average, modifier, f\"{metric.capitalize()} is\", len(result))\n",
      "/home/lijianhang/anaconda3/envs/LLM/lib/python3.11/site-packages/sklearn/metrics/_classification.py:1565: UndefinedMetricWarning: Precision is ill-defined and being set to 0.0 in labels with no predicted samples. Use `zero_division` parameter to control this behavior.\n",
      "  _warn_prf(average, modifier, f\"{metric.capitalize()} is\", len(result))\n",
      "/home/lijianhang/anaconda3/envs/LLM/lib/python3.11/site-packages/sklearn/metrics/_classification.py:1565: UndefinedMetricWarning: Precision is ill-defined and being set to 0.0 in labels with no predicted samples. Use `zero_division` parameter to control this behavior.\n",
      "  _warn_prf(average, modifier, f\"{metric.capitalize()} is\", len(result))\n"
     ]
    },
    {
     "name": "stdout",
     "output_type": "stream",
     "text": [
      "\tValid ACC: 0.5175925925925926, Valid Pearson: 0.5345600150918349\n",
      "* Classification Report:\n",
      "              precision    recall  f1-score   support\n",
      "\n",
      "       moved       0.49      0.51      0.50       365\n",
      "       angry       0.63      0.57      0.60       837\n",
      "       funny       0.43      0.64      0.51       530\n",
      "         sad       0.53      0.38      0.44       292\n",
      "       novel       0.00      0.00      0.00        34\n",
      "     shocked       0.00      0.00      0.00        90\n",
      "\n",
      "    accuracy                           0.52      2148\n",
      "   macro avg       0.34      0.35      0.34      2148\n",
      "weighted avg       0.50      0.52      0.50      2148\n",
      "\n"
     ]
    },
    {
     "name": "stderr",
     "output_type": "stream",
     "text": [
      "Epoch 14 train: 100%|█████████████████████████| 195/195 [01:04<00:00,  3.02it/s, acc=0.6, loss=1.42]\n"
     ]
    },
    {
     "name": "stdout",
     "output_type": "stream",
     "text": [
      "\tTrain ACC: 0.5607692307692307, Train Pearson: 0.5406348750974497\n"
     ]
    },
    {
     "name": "stderr",
     "output_type": "stream",
     "text": [
      "Epoch 14 valid: 100%|██████████████████████████| 135/135 [00:18<00:00,  7.48it/s, acc=1, loss=0.898]\n",
      "/home/lijianhang/anaconda3/envs/LLM/lib/python3.11/site-packages/sklearn/metrics/_classification.py:1565: UndefinedMetricWarning: Precision is ill-defined and being set to 0.0 in labels with no predicted samples. Use `zero_division` parameter to control this behavior.\n",
      "  _warn_prf(average, modifier, f\"{metric.capitalize()} is\", len(result))\n",
      "/home/lijianhang/anaconda3/envs/LLM/lib/python3.11/site-packages/sklearn/metrics/_classification.py:1565: UndefinedMetricWarning: Precision is ill-defined and being set to 0.0 in labels with no predicted samples. Use `zero_division` parameter to control this behavior.\n",
      "  _warn_prf(average, modifier, f\"{metric.capitalize()} is\", len(result))\n",
      "/home/lijianhang/anaconda3/envs/LLM/lib/python3.11/site-packages/sklearn/metrics/_classification.py:1565: UndefinedMetricWarning: Precision is ill-defined and being set to 0.0 in labels with no predicted samples. Use `zero_division` parameter to control this behavior.\n",
      "  _warn_prf(average, modifier, f\"{metric.capitalize()} is\", len(result))\n"
     ]
    },
    {
     "name": "stdout",
     "output_type": "stream",
     "text": [
      "\tValid ACC: 0.5537037037037037, Valid Pearson: 0.5293559547564213\n",
      "* Classification Report:\n",
      "              precision    recall  f1-score   support\n",
      "\n",
      "       moved       0.49      0.57      0.53       365\n",
      "       angry       0.62      0.70      0.66       837\n",
      "       funny       0.53      0.47      0.50       530\n",
      "         sad       0.44      0.47      0.46       292\n",
      "       novel       0.00      0.00      0.00        34\n",
      "     shocked       0.00      0.00      0.00        90\n",
      "\n",
      "    accuracy                           0.55      2148\n",
      "   macro avg       0.35      0.37      0.36      2148\n",
      "weighted avg       0.52      0.55      0.53      2148\n",
      "\n"
     ]
    },
    {
     "name": "stderr",
     "output_type": "stream",
     "text": [
      "Epoch 15 train: 100%|███████████████████████████| 195/195 [01:04<00:00,  3.02it/s, acc=0, loss=2.11]\n"
     ]
    },
    {
     "name": "stdout",
     "output_type": "stream",
     "text": [
      "\tTrain ACC: 0.5833333333333334, Train Pearson: 0.5617488407554165\n"
     ]
    },
    {
     "name": "stderr",
     "output_type": "stream",
     "text": [
      "Epoch 15 valid: 100%|█████████████████████████| 135/135 [00:17<00:00,  7.74it/s, acc=0.5, loss=0.99]\n",
      "/home/lijianhang/anaconda3/envs/LLM/lib/python3.11/site-packages/sklearn/metrics/_classification.py:1565: UndefinedMetricWarning: Precision is ill-defined and being set to 0.0 in labels with no predicted samples. Use `zero_division` parameter to control this behavior.\n",
      "  _warn_prf(average, modifier, f\"{metric.capitalize()} is\", len(result))\n",
      "/home/lijianhang/anaconda3/envs/LLM/lib/python3.11/site-packages/sklearn/metrics/_classification.py:1565: UndefinedMetricWarning: Precision is ill-defined and being set to 0.0 in labels with no predicted samples. Use `zero_division` parameter to control this behavior.\n",
      "  _warn_prf(average, modifier, f\"{metric.capitalize()} is\", len(result))\n",
      "/home/lijianhang/anaconda3/envs/LLM/lib/python3.11/site-packages/sklearn/metrics/_classification.py:1565: UndefinedMetricWarning: Precision is ill-defined and being set to 0.0 in labels with no predicted samples. Use `zero_division` parameter to control this behavior.\n",
      "  _warn_prf(average, modifier, f\"{metric.capitalize()} is\", len(result))\n"
     ]
    },
    {
     "name": "stdout",
     "output_type": "stream",
     "text": [
      "\tValid ACC: 0.5115740740740741, Valid Pearson: 0.47607759649647347\n",
      "* Classification Report:\n",
      "              precision    recall  f1-score   support\n",
      "\n",
      "       moved       0.40      0.72      0.51       365\n",
      "       angry       0.58      0.76      0.66       837\n",
      "       funny       0.73      0.14      0.23       530\n",
      "         sad       0.44      0.43      0.44       292\n",
      "       novel       0.00      0.00      0.00        34\n",
      "     shocked       0.00      0.00      0.00        90\n",
      "\n",
      "    accuracy                           0.51      2148\n",
      "   macro avg       0.36      0.34      0.31      2148\n",
      "weighted avg       0.53      0.51      0.46      2148\n",
      "\n"
     ]
    },
    {
     "name": "stderr",
     "output_type": "stream",
     "text": [
      "Epoch 16 train: 100%|████████████████████████| 195/195 [01:05<00:00,  2.99it/s, acc=0.4, loss=0.758]\n"
     ]
    },
    {
     "name": "stdout",
     "output_type": "stream",
     "text": [
      "\tTrain ACC: 0.5853846153846154, Train Pearson: 0.5688443185376791\n"
     ]
    },
    {
     "name": "stderr",
     "output_type": "stream",
     "text": [
      "Epoch 16 valid: 100%|████████████████████████| 135/135 [00:17<00:00,  7.76it/s, acc=0.25, loss=1.31]\n",
      "/home/lijianhang/anaconda3/envs/LLM/lib/python3.11/site-packages/sklearn/metrics/_classification.py:1565: UndefinedMetricWarning: Precision is ill-defined and being set to 0.0 in labels with no predicted samples. Use `zero_division` parameter to control this behavior.\n",
      "  _warn_prf(average, modifier, f\"{metric.capitalize()} is\", len(result))\n",
      "/home/lijianhang/anaconda3/envs/LLM/lib/python3.11/site-packages/sklearn/metrics/_classification.py:1565: UndefinedMetricWarning: Precision is ill-defined and being set to 0.0 in labels with no predicted samples. Use `zero_division` parameter to control this behavior.\n",
      "  _warn_prf(average, modifier, f\"{metric.capitalize()} is\", len(result))\n",
      "/home/lijianhang/anaconda3/envs/LLM/lib/python3.11/site-packages/sklearn/metrics/_classification.py:1565: UndefinedMetricWarning: Precision is ill-defined and being set to 0.0 in labels with no predicted samples. Use `zero_division` parameter to control this behavior.\n",
      "  _warn_prf(average, modifier, f\"{metric.capitalize()} is\", len(result))\n"
     ]
    },
    {
     "name": "stdout",
     "output_type": "stream",
     "text": [
      "\tValid ACC: 0.5342592592592592, Valid Pearson: 0.561891370540174\n",
      "* Classification Report:\n",
      "              precision    recall  f1-score   support\n",
      "\n",
      "       moved       0.53      0.46      0.50       365\n",
      "       angry       0.59      0.69      0.63       837\n",
      "       funny       0.46      0.64      0.54       530\n",
      "         sad       0.57      0.22      0.31       292\n",
      "       novel       0.00      0.00      0.00        34\n",
      "     shocked       0.00      0.00      0.00        90\n",
      "\n",
      "    accuracy                           0.53      2148\n",
      "   macro avg       0.36      0.33      0.33      2148\n",
      "weighted avg       0.51      0.53      0.51      2148\n",
      "\n"
     ]
    },
    {
     "name": "stderr",
     "output_type": "stream",
     "text": [
      "Epoch 17 train: 100%|██████████████████████████| 195/195 [01:04<00:00,  3.02it/s, acc=0.2, loss=1.7]\n"
     ]
    },
    {
     "name": "stdout",
     "output_type": "stream",
     "text": [
      "\tTrain ACC: 0.5894871794871795, Train Pearson: 0.5757013604824263\n"
     ]
    },
    {
     "name": "stderr",
     "output_type": "stream",
     "text": [
      "Epoch 17 valid: 100%|███████████████████████| 135/135 [00:18<00:00,  7.40it/s, acc=0.75, loss=0.973]\n",
      "/home/lijianhang/anaconda3/envs/LLM/lib/python3.11/site-packages/sklearn/metrics/_classification.py:1565: UndefinedMetricWarning: Precision is ill-defined and being set to 0.0 in labels with no predicted samples. Use `zero_division` parameter to control this behavior.\n",
      "  _warn_prf(average, modifier, f\"{metric.capitalize()} is\", len(result))\n",
      "/home/lijianhang/anaconda3/envs/LLM/lib/python3.11/site-packages/sklearn/metrics/_classification.py:1565: UndefinedMetricWarning: Precision is ill-defined and being set to 0.0 in labels with no predicted samples. Use `zero_division` parameter to control this behavior.\n",
      "  _warn_prf(average, modifier, f\"{metric.capitalize()} is\", len(result))\n",
      "/home/lijianhang/anaconda3/envs/LLM/lib/python3.11/site-packages/sklearn/metrics/_classification.py:1565: UndefinedMetricWarning: Precision is ill-defined and being set to 0.0 in labels with no predicted samples. Use `zero_division` parameter to control this behavior.\n",
      "  _warn_prf(average, modifier, f\"{metric.capitalize()} is\", len(result))\n"
     ]
    },
    {
     "name": "stdout",
     "output_type": "stream",
     "text": [
      "\tValid ACC: 0.5648148148148148, Valid Pearson: 0.5554997829869042\n",
      "* Classification Report:\n",
      "              precision    recall  f1-score   support\n",
      "\n",
      "       moved       0.51      0.53      0.52       365\n",
      "       angry       0.60      0.75      0.67       837\n",
      "       funny       0.53      0.51      0.52       530\n",
      "         sad       0.55      0.40      0.46       292\n",
      "       novel       0.00      0.00      0.00        34\n",
      "     shocked       0.00      0.00      0.00        90\n",
      "\n",
      "    accuracy                           0.56      2148\n",
      "   macro avg       0.36      0.36      0.36      2148\n",
      "weighted avg       0.53      0.56      0.54      2148\n",
      "\n"
     ]
    },
    {
     "name": "stderr",
     "output_type": "stream",
     "text": [
      "Epoch 18 train: 100%|████████████████████████| 195/195 [01:04<00:00,  3.02it/s, acc=0.6, loss=0.798]\n"
     ]
    },
    {
     "name": "stdout",
     "output_type": "stream",
     "text": [
      "\tTrain ACC: 0.6011538461538461, Train Pearson: 0.5781048669152051\n"
     ]
    },
    {
     "name": "stderr",
     "output_type": "stream",
     "text": [
      "Epoch 18 valid: 100%|████████████████████████| 135/135 [00:18<00:00,  7.47it/s, acc=0.25, loss=1.35]\n",
      "/home/lijianhang/anaconda3/envs/LLM/lib/python3.11/site-packages/sklearn/metrics/_classification.py:1565: UndefinedMetricWarning: Precision is ill-defined and being set to 0.0 in labels with no predicted samples. Use `zero_division` parameter to control this behavior.\n",
      "  _warn_prf(average, modifier, f\"{metric.capitalize()} is\", len(result))\n",
      "/home/lijianhang/anaconda3/envs/LLM/lib/python3.11/site-packages/sklearn/metrics/_classification.py:1565: UndefinedMetricWarning: Precision is ill-defined and being set to 0.0 in labels with no predicted samples. Use `zero_division` parameter to control this behavior.\n",
      "  _warn_prf(average, modifier, f\"{metric.capitalize()} is\", len(result))\n",
      "/home/lijianhang/anaconda3/envs/LLM/lib/python3.11/site-packages/sklearn/metrics/_classification.py:1565: UndefinedMetricWarning: Precision is ill-defined and being set to 0.0 in labels with no predicted samples. Use `zero_division` parameter to control this behavior.\n",
      "  _warn_prf(average, modifier, f\"{metric.capitalize()} is\", len(result))\n"
     ]
    },
    {
     "name": "stdout",
     "output_type": "stream",
     "text": [
      "\tValid ACC: 0.5328703703703703, Valid Pearson: 0.5623975225781083\n",
      "* Classification Report:\n",
      "              precision    recall  f1-score   support\n",
      "\n",
      "       moved       0.47      0.59      0.52       365\n",
      "       angry       0.63      0.63      0.63       837\n",
      "       funny       0.46      0.68      0.55       530\n",
      "         sad       0.61      0.14      0.23       292\n",
      "       novel       0.00      0.00      0.00        34\n",
      "     shocked       0.00      0.00      0.00        90\n",
      "\n",
      "    accuracy                           0.53      2148\n",
      "   macro avg       0.36      0.34      0.32      2148\n",
      "weighted avg       0.52      0.53      0.50      2148\n",
      "\n"
     ]
    },
    {
     "name": "stderr",
     "output_type": "stream",
     "text": [
      "Epoch 19 train: 100%|██████████████████████████| 195/195 [01:04<00:00,  3.03it/s, acc=0.6, loss=1.1]\n"
     ]
    },
    {
     "name": "stdout",
     "output_type": "stream",
     "text": [
      "\tTrain ACC: 0.6245512820512821, Train Pearson: 0.5948740602534909\n"
     ]
    },
    {
     "name": "stderr",
     "output_type": "stream",
     "text": [
      "Epoch 19 valid: 100%|█████████████████████████| 135/135 [00:17<00:00,  7.77it/s, acc=0.5, loss=1.02]\n",
      "/home/lijianhang/anaconda3/envs/LLM/lib/python3.11/site-packages/sklearn/metrics/_classification.py:1565: UndefinedMetricWarning: Precision is ill-defined and being set to 0.0 in labels with no predicted samples. Use `zero_division` parameter to control this behavior.\n",
      "  _warn_prf(average, modifier, f\"{metric.capitalize()} is\", len(result))\n",
      "/home/lijianhang/anaconda3/envs/LLM/lib/python3.11/site-packages/sklearn/metrics/_classification.py:1565: UndefinedMetricWarning: Precision is ill-defined and being set to 0.0 in labels with no predicted samples. Use `zero_division` parameter to control this behavior.\n",
      "  _warn_prf(average, modifier, f\"{metric.capitalize()} is\", len(result))\n",
      "/home/lijianhang/anaconda3/envs/LLM/lib/python3.11/site-packages/sklearn/metrics/_classification.py:1565: UndefinedMetricWarning: Precision is ill-defined and being set to 0.0 in labels with no predicted samples. Use `zero_division` parameter to control this behavior.\n",
      "  _warn_prf(average, modifier, f\"{metric.capitalize()} is\", len(result))\n"
     ]
    },
    {
     "name": "stdout",
     "output_type": "stream",
     "text": [
      "\tValid ACC: 0.5638888888888889, Valid Pearson: 0.5631648384124103\n",
      "* Classification Report:\n",
      "              precision    recall  f1-score   support\n",
      "\n",
      "       moved       0.46      0.65      0.54       365\n",
      "       angry       0.63      0.72      0.67       837\n",
      "       funny       0.53      0.53      0.53       530\n",
      "         sad       0.61      0.30      0.40       292\n",
      "       novel       0.00      0.00      0.00        34\n",
      "     shocked       0.00      0.00      0.00        90\n",
      "\n",
      "    accuracy                           0.56      2148\n",
      "   macro avg       0.37      0.37      0.36      2148\n",
      "weighted avg       0.54      0.56      0.54      2148\n",
      "\n",
      "loading data from: data/train.json\n"
     ]
    },
    {
     "name": "stderr",
     "output_type": "stream",
     "text": [
      "100%|██████████| 3109/3109 [00:09<00:00, 341.12it/s]\n"
     ]
    },
    {
     "name": "stdout",
     "output_type": "stream",
     "text": [
      "loading data from: data/test.json\n"
     ]
    },
    {
     "name": "stderr",
     "output_type": "stream",
     "text": [
      "100%|██████████| 2148/2148 [00:06<00:00, 315.24it/s]\n",
      "Epoch 0 train: 100%|████████████████████████████| 195/195 [01:05<00:00,  2.95it/s, acc=0, loss=1.55]\n"
     ]
    },
    {
     "name": "stdout",
     "output_type": "stream",
     "text": [
      "\tTrain ACC: 0.33621794871794874, Train Pearson: 0.32364148160272493\n"
     ]
    },
    {
     "name": "stderr",
     "output_type": "stream",
     "text": [
      "Epoch 0 valid: 100%|████████████████████████████| 135/135 [00:17<00:00,  7.77it/s, acc=0, loss=1.86]\n",
      "/home/lijianhang/anaconda3/envs/LLM/lib/python3.11/site-packages/sklearn/metrics/_classification.py:1565: UndefinedMetricWarning: Precision is ill-defined and being set to 0.0 in labels with no predicted samples. Use `zero_division` parameter to control this behavior.\n",
      "  _warn_prf(average, modifier, f\"{metric.capitalize()} is\", len(result))\n",
      "/home/lijianhang/anaconda3/envs/LLM/lib/python3.11/site-packages/sklearn/metrics/_classification.py:1565: UndefinedMetricWarning: Precision is ill-defined and being set to 0.0 in labels with no predicted samples. Use `zero_division` parameter to control this behavior.\n",
      "  _warn_prf(average, modifier, f\"{metric.capitalize()} is\", len(result))\n",
      "/home/lijianhang/anaconda3/envs/LLM/lib/python3.11/site-packages/sklearn/metrics/_classification.py:1565: UndefinedMetricWarning: Precision is ill-defined and being set to 0.0 in labels with no predicted samples. Use `zero_division` parameter to control this behavior.\n",
      "  _warn_prf(average, modifier, f\"{metric.capitalize()} is\", len(result))\n"
     ]
    },
    {
     "name": "stdout",
     "output_type": "stream",
     "text": [
      "\tValid ACC: 0.3875, Valid Pearson: 0.350306309608197\n",
      "* Classification Report:\n",
      "              precision    recall  f1-score   support\n",
      "\n",
      "       moved       0.00      0.00      0.00       365\n",
      "       angry       0.39      1.00      0.56       837\n",
      "       funny       0.00      0.00      0.00       530\n",
      "         sad       0.00      0.00      0.00       292\n",
      "       novel       0.00      0.00      0.00        34\n",
      "     shocked       0.00      0.00      0.00        90\n",
      "\n",
      "    accuracy                           0.39      2148\n",
      "   macro avg       0.06      0.17      0.09      2148\n",
      "weighted avg       0.15      0.39      0.22      2148\n",
      "\n"
     ]
    },
    {
     "name": "stderr",
     "output_type": "stream",
     "text": [
      "Epoch 1 train: 100%|██████████████████████████| 195/195 [01:04<00:00,  3.03it/s, acc=0.4, loss=1.59]\n"
     ]
    },
    {
     "name": "stdout",
     "output_type": "stream",
     "text": [
      "\tTrain ACC: 0.3475641025641026, Train Pearson: 0.3291602066147937\n"
     ]
    },
    {
     "name": "stderr",
     "output_type": "stream",
     "text": [
      "Epoch 1 valid: 100%|████████████████████████████| 135/135 [00:18<00:00,  7.38it/s, acc=0, loss=1.75]\n",
      "/home/lijianhang/anaconda3/envs/LLM/lib/python3.11/site-packages/sklearn/metrics/_classification.py:1565: UndefinedMetricWarning: Precision is ill-defined and being set to 0.0 in labels with no predicted samples. Use `zero_division` parameter to control this behavior.\n",
      "  _warn_prf(average, modifier, f\"{metric.capitalize()} is\", len(result))\n",
      "/home/lijianhang/anaconda3/envs/LLM/lib/python3.11/site-packages/sklearn/metrics/_classification.py:1565: UndefinedMetricWarning: Precision is ill-defined and being set to 0.0 in labels with no predicted samples. Use `zero_division` parameter to control this behavior.\n",
      "  _warn_prf(average, modifier, f\"{metric.capitalize()} is\", len(result))\n",
      "/home/lijianhang/anaconda3/envs/LLM/lib/python3.11/site-packages/sklearn/metrics/_classification.py:1565: UndefinedMetricWarning: Precision is ill-defined and being set to 0.0 in labels with no predicted samples. Use `zero_division` parameter to control this behavior.\n",
      "  _warn_prf(average, modifier, f\"{metric.capitalize()} is\", len(result))\n"
     ]
    },
    {
     "name": "stdout",
     "output_type": "stream",
     "text": [
      "\tValid ACC: 0.3875, Valid Pearson: 0.3562459214284818\n",
      "* Classification Report:\n",
      "              precision    recall  f1-score   support\n",
      "\n",
      "       moved       0.00      0.00      0.00       365\n",
      "       angry       0.39      1.00      0.56       837\n",
      "       funny       0.00      0.00      0.00       530\n",
      "         sad       0.00      0.00      0.00       292\n",
      "       novel       0.00      0.00      0.00        34\n",
      "     shocked       0.00      0.00      0.00        90\n",
      "\n",
      "    accuracy                           0.39      2148\n",
      "   macro avg       0.06      0.17      0.09      2148\n",
      "weighted avg       0.15      0.39      0.22      2148\n",
      "\n"
     ]
    },
    {
     "name": "stderr",
     "output_type": "stream",
     "text": [
      "Epoch 2 train: 100%|███████████████████████████| 195/195 [01:04<00:00,  3.02it/s, acc=0.2, loss=2.1]\n"
     ]
    },
    {
     "name": "stdout",
     "output_type": "stream",
     "text": [
      "\tTrain ACC: 0.3487820512820513, Train Pearson: 0.33036620913615417\n"
     ]
    },
    {
     "name": "stderr",
     "output_type": "stream",
     "text": [
      "Epoch 2 valid: 100%|█████████████████████████| 135/135 [00:18<00:00,  7.43it/s, acc=0.25, loss=1.71]\n",
      "/home/lijianhang/anaconda3/envs/LLM/lib/python3.11/site-packages/sklearn/metrics/_classification.py:1565: UndefinedMetricWarning: Precision is ill-defined and being set to 0.0 in labels with no predicted samples. Use `zero_division` parameter to control this behavior.\n",
      "  _warn_prf(average, modifier, f\"{metric.capitalize()} is\", len(result))\n",
      "/home/lijianhang/anaconda3/envs/LLM/lib/python3.11/site-packages/sklearn/metrics/_classification.py:1565: UndefinedMetricWarning: Precision is ill-defined and being set to 0.0 in labels with no predicted samples. Use `zero_division` parameter to control this behavior.\n",
      "  _warn_prf(average, modifier, f\"{metric.capitalize()} is\", len(result))\n",
      "/home/lijianhang/anaconda3/envs/LLM/lib/python3.11/site-packages/sklearn/metrics/_classification.py:1565: UndefinedMetricWarning: Precision is ill-defined and being set to 0.0 in labels with no predicted samples. Use `zero_division` parameter to control this behavior.\n",
      "  _warn_prf(average, modifier, f\"{metric.capitalize()} is\", len(result))\n"
     ]
    },
    {
     "name": "stdout",
     "output_type": "stream",
     "text": [
      "\tValid ACC: 0.24953703703703703, Valid Pearson: 0.34862715628349406\n",
      "* Classification Report:\n",
      "              precision    recall  f1-score   support\n",
      "\n",
      "       moved       0.00      0.00      0.00       365\n",
      "       angry       0.00      0.00      0.00       837\n",
      "       funny       0.25      1.00      0.40       530\n",
      "         sad       0.00      0.00      0.00       292\n",
      "       novel       0.00      0.00      0.00        34\n",
      "     shocked       0.00      0.00      0.00        90\n",
      "\n",
      "    accuracy                           0.25      2148\n",
      "   macro avg       0.04      0.17      0.07      2148\n",
      "weighted avg       0.06      0.25      0.10      2148\n",
      "\n"
     ]
    },
    {
     "name": "stderr",
     "output_type": "stream",
     "text": [
      "Epoch 3 train: 100%|████████████████████████████| 195/195 [01:04<00:00,  3.02it/s, acc=0, loss=1.76]\n"
     ]
    },
    {
     "name": "stdout",
     "output_type": "stream",
     "text": [
      "\tTrain ACC: 0.3368589743589744, Train Pearson: 0.3360650666912514\n"
     ]
    },
    {
     "name": "stderr",
     "output_type": "stream",
     "text": [
      "Epoch 3 valid: 100%|████████████████████████████| 135/135 [00:17<00:00,  7.70it/s, acc=0, loss=1.71]\n",
      "/home/lijianhang/anaconda3/envs/LLM/lib/python3.11/site-packages/sklearn/metrics/_classification.py:1565: UndefinedMetricWarning: Precision is ill-defined and being set to 0.0 in labels with no predicted samples. Use `zero_division` parameter to control this behavior.\n",
      "  _warn_prf(average, modifier, f\"{metric.capitalize()} is\", len(result))\n",
      "/home/lijianhang/anaconda3/envs/LLM/lib/python3.11/site-packages/sklearn/metrics/_classification.py:1565: UndefinedMetricWarning: Precision is ill-defined and being set to 0.0 in labels with no predicted samples. Use `zero_division` parameter to control this behavior.\n",
      "  _warn_prf(average, modifier, f\"{metric.capitalize()} is\", len(result))\n",
      "/home/lijianhang/anaconda3/envs/LLM/lib/python3.11/site-packages/sklearn/metrics/_classification.py:1565: UndefinedMetricWarning: Precision is ill-defined and being set to 0.0 in labels with no predicted samples. Use `zero_division` parameter to control this behavior.\n",
      "  _warn_prf(average, modifier, f\"{metric.capitalize()} is\", len(result))\n"
     ]
    },
    {
     "name": "stdout",
     "output_type": "stream",
     "text": [
      "\tValid ACC: 0.38842592592592595, Valid Pearson: 0.3534557844276211\n",
      "* Classification Report:\n",
      "              precision    recall  f1-score   support\n",
      "\n",
      "       moved       0.00      0.00      0.00       365\n",
      "       angry       0.39      1.00      0.56       837\n",
      "       funny       0.67      0.00      0.01       530\n",
      "         sad       0.00      0.00      0.00       292\n",
      "       novel       0.00      0.00      0.00        34\n",
      "     shocked       0.00      0.00      0.00        90\n",
      "\n",
      "    accuracy                           0.39      2148\n",
      "   macro avg       0.18      0.17      0.09      2148\n",
      "weighted avg       0.32      0.39      0.22      2148\n",
      "\n"
     ]
    },
    {
     "name": "stderr",
     "output_type": "stream",
     "text": [
      "Epoch 4 train: 100%|██████████████████████████| 195/195 [01:05<00:00,  2.98it/s, acc=0.4, loss=1.71]\n"
     ]
    },
    {
     "name": "stdout",
     "output_type": "stream",
     "text": [
      "\tTrain ACC: 0.3587820512820513, Train Pearson: 0.3329936868935045\n"
     ]
    },
    {
     "name": "stderr",
     "output_type": "stream",
     "text": [
      "Epoch 4 valid: 100%|████████████████████████████| 135/135 [00:17<00:00,  7.72it/s, acc=0, loss=1.96]\n",
      "/home/lijianhang/anaconda3/envs/LLM/lib/python3.11/site-packages/sklearn/metrics/_classification.py:1565: UndefinedMetricWarning: Precision is ill-defined and being set to 0.0 in labels with no predicted samples. Use `zero_division` parameter to control this behavior.\n",
      "  _warn_prf(average, modifier, f\"{metric.capitalize()} is\", len(result))\n",
      "/home/lijianhang/anaconda3/envs/LLM/lib/python3.11/site-packages/sklearn/metrics/_classification.py:1565: UndefinedMetricWarning: Precision is ill-defined and being set to 0.0 in labels with no predicted samples. Use `zero_division` parameter to control this behavior.\n",
      "  _warn_prf(average, modifier, f\"{metric.capitalize()} is\", len(result))\n",
      "/home/lijianhang/anaconda3/envs/LLM/lib/python3.11/site-packages/sklearn/metrics/_classification.py:1565: UndefinedMetricWarning: Precision is ill-defined and being set to 0.0 in labels with no predicted samples. Use `zero_division` parameter to control this behavior.\n",
      "  _warn_prf(average, modifier, f\"{metric.capitalize()} is\", len(result))\n"
     ]
    },
    {
     "name": "stdout",
     "output_type": "stream",
     "text": [
      "\tValid ACC: 0.38796296296296295, Valid Pearson: 0.38552191200809816\n",
      "* Classification Report:\n",
      "              precision    recall  f1-score   support\n",
      "\n",
      "       moved       0.00      0.00      0.00       365\n",
      "       angry       0.39      1.00      0.56       837\n",
      "       funny       1.00      0.00      0.00       530\n",
      "         sad       0.00      0.00      0.00       292\n",
      "       novel       0.00      0.00      0.00        34\n",
      "     shocked       0.00      0.00      0.00        90\n",
      "\n",
      "    accuracy                           0.39      2148\n",
      "   macro avg       0.23      0.17      0.09      2148\n",
      "weighted avg       0.40      0.39      0.22      2148\n",
      "\n"
     ]
    },
    {
     "name": "stderr",
     "output_type": "stream",
     "text": [
      "Epoch 5 train: 100%|██████████████████████████| 195/195 [01:04<00:00,  3.03it/s, acc=0.6, loss=1.11]\n"
     ]
    },
    {
     "name": "stdout",
     "output_type": "stream",
     "text": [
      "\tTrain ACC: 0.41365384615384615, Train Pearson: 0.3731642788894999\n"
     ]
    },
    {
     "name": "stderr",
     "output_type": "stream",
     "text": [
      "Epoch 5 valid: 100%|█████████████████████████| 135/135 [00:18<00:00,  7.48it/s, acc=0.25, loss=1.62]\n",
      "/home/lijianhang/anaconda3/envs/LLM/lib/python3.11/site-packages/sklearn/metrics/_classification.py:1565: UndefinedMetricWarning: Precision is ill-defined and being set to 0.0 in labels with no predicted samples. Use `zero_division` parameter to control this behavior.\n",
      "  _warn_prf(average, modifier, f\"{metric.capitalize()} is\", len(result))\n",
      "/home/lijianhang/anaconda3/envs/LLM/lib/python3.11/site-packages/sklearn/metrics/_classification.py:1565: UndefinedMetricWarning: Precision is ill-defined and being set to 0.0 in labels with no predicted samples. Use `zero_division` parameter to control this behavior.\n",
      "  _warn_prf(average, modifier, f\"{metric.capitalize()} is\", len(result))\n",
      "/home/lijianhang/anaconda3/envs/LLM/lib/python3.11/site-packages/sklearn/metrics/_classification.py:1565: UndefinedMetricWarning: Precision is ill-defined and being set to 0.0 in labels with no predicted samples. Use `zero_division` parameter to control this behavior.\n",
      "  _warn_prf(average, modifier, f\"{metric.capitalize()} is\", len(result))\n"
     ]
    },
    {
     "name": "stdout",
     "output_type": "stream",
     "text": [
      "\tValid ACC: 0.41435185185185186, Valid Pearson: 0.4269099461889184\n",
      "* Classification Report:\n",
      "              precision    recall  f1-score   support\n",
      "\n",
      "       moved       0.58      0.04      0.07       365\n",
      "       angry       0.52      0.71      0.60       837\n",
      "       funny       0.28      0.53      0.37       530\n",
      "         sad       0.00      0.00      0.00       292\n",
      "       novel       0.00      0.00      0.00        34\n",
      "     shocked       0.00      0.00      0.00        90\n",
      "\n",
      "    accuracy                           0.41      2148\n",
      "   macro avg       0.23      0.21      0.17      2148\n",
      "weighted avg       0.37      0.41      0.34      2148\n",
      "\n"
     ]
    },
    {
     "name": "stderr",
     "output_type": "stream",
     "text": [
      "Epoch 6 train: 100%|██████████████████████████| 195/195 [01:04<00:00,  3.01it/s, acc=0.6, loss=1.64]\n"
     ]
    },
    {
     "name": "stdout",
     "output_type": "stream",
     "text": [
      "\tTrain ACC: 0.47583333333333333, Train Pearson: 0.4351576001766562\n"
     ]
    },
    {
     "name": "stderr",
     "output_type": "stream",
     "text": [
      "Epoch 6 valid: 100%|█████████████████████████| 135/135 [00:18<00:00,  7.41it/s, acc=0.25, loss=1.72]\n",
      "/home/lijianhang/anaconda3/envs/LLM/lib/python3.11/site-packages/sklearn/metrics/_classification.py:1565: UndefinedMetricWarning: Precision is ill-defined and being set to 0.0 in labels with no predicted samples. Use `zero_division` parameter to control this behavior.\n",
      "  _warn_prf(average, modifier, f\"{metric.capitalize()} is\", len(result))\n",
      "/home/lijianhang/anaconda3/envs/LLM/lib/python3.11/site-packages/sklearn/metrics/_classification.py:1565: UndefinedMetricWarning: Precision is ill-defined and being set to 0.0 in labels with no predicted samples. Use `zero_division` parameter to control this behavior.\n",
      "  _warn_prf(average, modifier, f\"{metric.capitalize()} is\", len(result))\n",
      "/home/lijianhang/anaconda3/envs/LLM/lib/python3.11/site-packages/sklearn/metrics/_classification.py:1565: UndefinedMetricWarning: Precision is ill-defined and being set to 0.0 in labels with no predicted samples. Use `zero_division` parameter to control this behavior.\n",
      "  _warn_prf(average, modifier, f\"{metric.capitalize()} is\", len(result))\n"
     ]
    },
    {
     "name": "stdout",
     "output_type": "stream",
     "text": [
      "\tValid ACC: 0.40879629629629627, Valid Pearson: 0.46030171127282293\n",
      "* Classification Report:\n",
      "              precision    recall  f1-score   support\n",
      "\n",
      "       moved       0.41      0.04      0.07       365\n",
      "       angry       0.64      0.54      0.59       837\n",
      "       funny       0.29      0.77      0.42       530\n",
      "         sad       0.00      0.00      0.00       292\n",
      "       novel       0.00      0.00      0.00        34\n",
      "     shocked       0.00      0.00      0.00        90\n",
      "\n",
      "    accuracy                           0.41      2148\n",
      "   macro avg       0.22      0.22      0.18      2148\n",
      "weighted avg       0.39      0.41      0.34      2148\n",
      "\n"
     ]
    },
    {
     "name": "stderr",
     "output_type": "stream",
     "text": [
      "Epoch 7 train: 100%|██████████████████████████| 195/195 [01:04<00:00,  3.01it/s, acc=0.6, loss=1.04]\n"
     ]
    },
    {
     "name": "stdout",
     "output_type": "stream",
     "text": [
      "\tTrain ACC: 0.5123717948717949, Train Pearson: 0.4820760478429417\n"
     ]
    },
    {
     "name": "stderr",
     "output_type": "stream",
     "text": [
      "Epoch 7 valid: 100%|█████████████████████████| 135/135 [00:17<00:00,  7.69it/s, acc=0.25, loss=1.64]\n",
      "/home/lijianhang/anaconda3/envs/LLM/lib/python3.11/site-packages/sklearn/metrics/_classification.py:1565: UndefinedMetricWarning: Precision is ill-defined and being set to 0.0 in labels with no predicted samples. Use `zero_division` parameter to control this behavior.\n",
      "  _warn_prf(average, modifier, f\"{metric.capitalize()} is\", len(result))\n",
      "/home/lijianhang/anaconda3/envs/LLM/lib/python3.11/site-packages/sklearn/metrics/_classification.py:1565: UndefinedMetricWarning: Precision is ill-defined and being set to 0.0 in labels with no predicted samples. Use `zero_division` parameter to control this behavior.\n",
      "  _warn_prf(average, modifier, f\"{metric.capitalize()} is\", len(result))\n",
      "/home/lijianhang/anaconda3/envs/LLM/lib/python3.11/site-packages/sklearn/metrics/_classification.py:1565: UndefinedMetricWarning: Precision is ill-defined and being set to 0.0 in labels with no predicted samples. Use `zero_division` parameter to control this behavior.\n",
      "  _warn_prf(average, modifier, f\"{metric.capitalize()} is\", len(result))\n"
     ]
    },
    {
     "name": "stdout",
     "output_type": "stream",
     "text": [
      "\tValid ACC: 0.5087962962962963, Valid Pearson: 0.534130906125742\n",
      "* Classification Report:\n",
      "              precision    recall  f1-score   support\n",
      "\n",
      "       moved       0.57      0.33      0.42       365\n",
      "       angry       0.55      0.71      0.62       837\n",
      "       funny       0.44      0.66      0.53       530\n",
      "         sad       0.47      0.10      0.17       292\n",
      "       novel       0.00      0.00      0.00        34\n",
      "     shocked       0.00      0.00      0.00        90\n",
      "\n",
      "    accuracy                           0.51      2148\n",
      "   macro avg       0.34      0.30      0.29      2148\n",
      "weighted avg       0.48      0.51      0.47      2148\n",
      "\n"
     ]
    },
    {
     "name": "stderr",
     "output_type": "stream",
     "text": [
      "Epoch 8 train: 100%|██████████████████████████| 195/195 [01:05<00:00,  2.98it/s, acc=0.6, loss=0.88]\n"
     ]
    },
    {
     "name": "stdout",
     "output_type": "stream",
     "text": [
      "\tTrain ACC: 0.5626923076923077, Train Pearson: 0.541164793375864\n"
     ]
    },
    {
     "name": "stderr",
     "output_type": "stream",
     "text": [
      "Epoch 8 valid: 100%|█████████████████████████| 135/135 [00:17<00:00,  7.69it/s, acc=0.25, loss=1.19]\n",
      "/home/lijianhang/anaconda3/envs/LLM/lib/python3.11/site-packages/sklearn/metrics/_classification.py:1565: UndefinedMetricWarning: Precision is ill-defined and being set to 0.0 in labels with no predicted samples. Use `zero_division` parameter to control this behavior.\n",
      "  _warn_prf(average, modifier, f\"{metric.capitalize()} is\", len(result))\n",
      "/home/lijianhang/anaconda3/envs/LLM/lib/python3.11/site-packages/sklearn/metrics/_classification.py:1565: UndefinedMetricWarning: Precision is ill-defined and being set to 0.0 in labels with no predicted samples. Use `zero_division` parameter to control this behavior.\n",
      "  _warn_prf(average, modifier, f\"{metric.capitalize()} is\", len(result))\n",
      "/home/lijianhang/anaconda3/envs/LLM/lib/python3.11/site-packages/sklearn/metrics/_classification.py:1565: UndefinedMetricWarning: Precision is ill-defined and being set to 0.0 in labels with no predicted samples. Use `zero_division` parameter to control this behavior.\n",
      "  _warn_prf(average, modifier, f\"{metric.capitalize()} is\", len(result))\n"
     ]
    },
    {
     "name": "stdout",
     "output_type": "stream",
     "text": [
      "\tValid ACC: 0.5425925925925926, Valid Pearson: 0.5223451635963358\n",
      "* Classification Report:\n",
      "              precision    recall  f1-score   support\n",
      "\n",
      "       moved       0.55      0.38      0.45       365\n",
      "       angry       0.57      0.81      0.67       837\n",
      "       funny       0.52      0.52      0.52       530\n",
      "         sad       0.41      0.25      0.31       292\n",
      "       novel       0.00      0.00      0.00        34\n",
      "     shocked       0.00      0.00      0.00        90\n",
      "\n",
      "    accuracy                           0.54      2148\n",
      "   macro avg       0.34      0.33      0.33      2148\n",
      "weighted avg       0.50      0.54      0.51      2148\n",
      "\n"
     ]
    },
    {
     "name": "stderr",
     "output_type": "stream",
     "text": [
      "Epoch 9 train: 100%|██████████████████████████| 195/195 [01:04<00:00,  3.02it/s, acc=0.4, loss=1.85]\n"
     ]
    },
    {
     "name": "stdout",
     "output_type": "stream",
     "text": [
      "\tTrain ACC: 0.5885897435897436, Train Pearson: 0.5630656061284275\n"
     ]
    },
    {
     "name": "stderr",
     "output_type": "stream",
     "text": [
      "Epoch 9 valid: 100%|█████████████████████████| 135/135 [00:18<00:00,  7.47it/s, acc=0.75, loss=1.14]\n",
      "/home/lijianhang/anaconda3/envs/LLM/lib/python3.11/site-packages/sklearn/metrics/_classification.py:1565: UndefinedMetricWarning: Precision is ill-defined and being set to 0.0 in labels with no predicted samples. Use `zero_division` parameter to control this behavior.\n",
      "  _warn_prf(average, modifier, f\"{metric.capitalize()} is\", len(result))\n",
      "/home/lijianhang/anaconda3/envs/LLM/lib/python3.11/site-packages/sklearn/metrics/_classification.py:1565: UndefinedMetricWarning: Precision is ill-defined and being set to 0.0 in labels with no predicted samples. Use `zero_division` parameter to control this behavior.\n",
      "  _warn_prf(average, modifier, f\"{metric.capitalize()} is\", len(result))\n",
      "/home/lijianhang/anaconda3/envs/LLM/lib/python3.11/site-packages/sklearn/metrics/_classification.py:1565: UndefinedMetricWarning: Precision is ill-defined and being set to 0.0 in labels with no predicted samples. Use `zero_division` parameter to control this behavior.\n",
      "  _warn_prf(average, modifier, f\"{metric.capitalize()} is\", len(result))\n"
     ]
    },
    {
     "name": "stdout",
     "output_type": "stream",
     "text": [
      "\tValid ACC: 0.5657407407407408, Valid Pearson: 0.5558800185650873\n",
      "* Classification Report:\n",
      "              precision    recall  f1-score   support\n",
      "\n",
      "       moved       0.52      0.57      0.54       365\n",
      "       angry       0.63      0.68      0.66       837\n",
      "       funny       0.51      0.62      0.56       530\n",
      "         sad       0.52      0.36      0.42       292\n",
      "       novel       0.00      0.00      0.00        34\n",
      "     shocked       0.00      0.00      0.00        90\n",
      "\n",
      "    accuracy                           0.56      2148\n",
      "   macro avg       0.36      0.37      0.36      2148\n",
      "weighted avg       0.53      0.56      0.54      2148\n",
      "\n"
     ]
    },
    {
     "name": "stderr",
     "output_type": "stream",
     "text": [
      "Epoch 10 train: 100%|██████████████████████████| 195/195 [01:04<00:00,  3.01it/s, acc=1, loss=0.494]\n"
     ]
    },
    {
     "name": "stdout",
     "output_type": "stream",
     "text": [
      "\tTrain ACC: 0.6051282051282051, Train Pearson: 0.5841188533531745\n"
     ]
    },
    {
     "name": "stderr",
     "output_type": "stream",
     "text": [
      "Epoch 10 valid: 100%|████████████████████████| 135/135 [00:18<00:00,  7.41it/s, acc=0.25, loss=2.13]\n",
      "/home/lijianhang/anaconda3/envs/LLM/lib/python3.11/site-packages/sklearn/metrics/_classification.py:1565: UndefinedMetricWarning: Precision is ill-defined and being set to 0.0 in labels with no predicted samples. Use `zero_division` parameter to control this behavior.\n",
      "  _warn_prf(average, modifier, f\"{metric.capitalize()} is\", len(result))\n",
      "/home/lijianhang/anaconda3/envs/LLM/lib/python3.11/site-packages/sklearn/metrics/_classification.py:1565: UndefinedMetricWarning: Precision is ill-defined and being set to 0.0 in labels with no predicted samples. Use `zero_division` parameter to control this behavior.\n",
      "  _warn_prf(average, modifier, f\"{metric.capitalize()} is\", len(result))\n",
      "/home/lijianhang/anaconda3/envs/LLM/lib/python3.11/site-packages/sklearn/metrics/_classification.py:1565: UndefinedMetricWarning: Precision is ill-defined and being set to 0.0 in labels with no predicted samples. Use `zero_division` parameter to control this behavior.\n",
      "  _warn_prf(average, modifier, f\"{metric.capitalize()} is\", len(result))\n"
     ]
    },
    {
     "name": "stdout",
     "output_type": "stream",
     "text": [
      "\tValid ACC: 0.4486111111111111, Valid Pearson: 0.5260014231970193\n",
      "* Classification Report:\n",
      "              precision    recall  f1-score   support\n",
      "\n",
      "       moved       0.55      0.20      0.29       365\n",
      "       angry       0.67      0.45      0.54       837\n",
      "       funny       0.34      0.91      0.50       530\n",
      "         sad       0.58      0.12      0.19       292\n",
      "       novel       0.00      0.00      0.00        34\n",
      "     shocked       0.00      0.00      0.00        90\n",
      "\n",
      "    accuracy                           0.45      2148\n",
      "   macro avg       0.36      0.28      0.25      2148\n",
      "weighted avg       0.52      0.45      0.41      2148\n",
      "\n"
     ]
    },
    {
     "name": "stderr",
     "output_type": "stream",
     "text": [
      "Epoch 11 train: 100%|██████████████████████████| 195/195 [01:04<00:00,  3.01it/s, acc=1, loss=0.502]\n"
     ]
    },
    {
     "name": "stdout",
     "output_type": "stream",
     "text": [
      "\tTrain ACC: 0.6275641025641026, Train Pearson: 0.598685878489215\n"
     ]
    },
    {
     "name": "stderr",
     "output_type": "stream",
     "text": [
      "Epoch 11 valid: 100%|█████████████████████████| 135/135 [00:17<00:00,  7.69it/s, acc=0.25, loss=1.6]\n",
      "/home/lijianhang/anaconda3/envs/LLM/lib/python3.11/site-packages/sklearn/metrics/_classification.py:1565: UndefinedMetricWarning: Precision is ill-defined and being set to 0.0 in labels with no predicted samples. Use `zero_division` parameter to control this behavior.\n",
      "  _warn_prf(average, modifier, f\"{metric.capitalize()} is\", len(result))\n",
      "/home/lijianhang/anaconda3/envs/LLM/lib/python3.11/site-packages/sklearn/metrics/_classification.py:1565: UndefinedMetricWarning: Precision is ill-defined and being set to 0.0 in labels with no predicted samples. Use `zero_division` parameter to control this behavior.\n",
      "  _warn_prf(average, modifier, f\"{metric.capitalize()} is\", len(result))\n",
      "/home/lijianhang/anaconda3/envs/LLM/lib/python3.11/site-packages/sklearn/metrics/_classification.py:1565: UndefinedMetricWarning: Precision is ill-defined and being set to 0.0 in labels with no predicted samples. Use `zero_division` parameter to control this behavior.\n",
      "  _warn_prf(average, modifier, f\"{metric.capitalize()} is\", len(result))\n"
     ]
    },
    {
     "name": "stdout",
     "output_type": "stream",
     "text": [
      "\tValid ACC: 0.5388888888888889, Valid Pearson: 0.5740974609876013\n",
      "* Classification Report:\n",
      "              precision    recall  f1-score   support\n",
      "\n",
      "       moved       0.53      0.42      0.47       365\n",
      "       angry       0.63      0.71      0.66       837\n",
      "       funny       0.44      0.68      0.54       530\n",
      "         sad       0.51      0.18      0.27       292\n",
      "       novel       0.00      0.00      0.00        34\n",
      "     shocked       0.00      0.00      0.00        90\n",
      "\n",
      "    accuracy                           0.54      2148\n",
      "   macro avg       0.35      0.33      0.32      2148\n",
      "weighted avg       0.51      0.54      0.51      2148\n",
      "\n"
     ]
    },
    {
     "name": "stderr",
     "output_type": "stream",
     "text": [
      "Epoch 12 train: 100%|████████████████████████| 195/195 [01:05<00:00,  2.99it/s, acc=0.4, loss=0.964]\n"
     ]
    },
    {
     "name": "stdout",
     "output_type": "stream",
     "text": [
      "\tTrain ACC: 0.6417948717948718, Train Pearson: 0.6108748502905684\n"
     ]
    },
    {
     "name": "stderr",
     "output_type": "stream",
     "text": [
      "Epoch 12 valid: 100%|█████████████████████████| 135/135 [00:17<00:00,  7.73it/s, acc=0.5, loss=1.55]\n",
      "/home/lijianhang/anaconda3/envs/LLM/lib/python3.11/site-packages/sklearn/metrics/_classification.py:1565: UndefinedMetricWarning: Precision is ill-defined and being set to 0.0 in labels with no predicted samples. Use `zero_division` parameter to control this behavior.\n",
      "  _warn_prf(average, modifier, f\"{metric.capitalize()} is\", len(result))\n",
      "/home/lijianhang/anaconda3/envs/LLM/lib/python3.11/site-packages/sklearn/metrics/_classification.py:1565: UndefinedMetricWarning: Precision is ill-defined and being set to 0.0 in labels with no predicted samples. Use `zero_division` parameter to control this behavior.\n",
      "  _warn_prf(average, modifier, f\"{metric.capitalize()} is\", len(result))\n",
      "/home/lijianhang/anaconda3/envs/LLM/lib/python3.11/site-packages/sklearn/metrics/_classification.py:1565: UndefinedMetricWarning: Precision is ill-defined and being set to 0.0 in labels with no predicted samples. Use `zero_division` parameter to control this behavior.\n",
      "  _warn_prf(average, modifier, f\"{metric.capitalize()} is\", len(result))\n"
     ]
    },
    {
     "name": "stdout",
     "output_type": "stream",
     "text": [
      "\tValid ACC: 0.5314814814814814, Valid Pearson: 0.5749137426043914\n",
      "* Classification Report:\n",
      "              precision    recall  f1-score   support\n",
      "\n",
      "       moved       0.54      0.39      0.45       365\n",
      "       angry       0.66      0.61      0.63       837\n",
      "       funny       0.42      0.78      0.55       530\n",
      "         sad       0.54      0.25      0.34       292\n",
      "       novel       0.00      0.00      0.00        34\n",
      "     shocked       0.00      0.00      0.00        90\n",
      "\n",
      "    accuracy                           0.53      2148\n",
      "   macro avg       0.36      0.34      0.33      2148\n",
      "weighted avg       0.53      0.53      0.51      2148\n",
      "\n"
     ]
    },
    {
     "name": "stderr",
     "output_type": "stream",
     "text": [
      "Epoch 13 train: 100%|█████████████████████████| 195/195 [01:04<00:00,  3.01it/s, acc=0.6, loss=0.84]\n"
     ]
    },
    {
     "name": "stdout",
     "output_type": "stream",
     "text": [
      "\tTrain ACC: 0.6607692307692308, Train Pearson: 0.6349108582343319\n"
     ]
    },
    {
     "name": "stderr",
     "output_type": "stream",
     "text": [
      "Epoch 13 valid: 100%|████████████████████████| 135/135 [00:18<00:00,  7.43it/s, acc=0.75, loss=1.06]\n",
      "/home/lijianhang/anaconda3/envs/LLM/lib/python3.11/site-packages/sklearn/metrics/_classification.py:1565: UndefinedMetricWarning: Precision is ill-defined and being set to 0.0 in labels with no predicted samples. Use `zero_division` parameter to control this behavior.\n",
      "  _warn_prf(average, modifier, f\"{metric.capitalize()} is\", len(result))\n",
      "/home/lijianhang/anaconda3/envs/LLM/lib/python3.11/site-packages/sklearn/metrics/_classification.py:1565: UndefinedMetricWarning: Precision is ill-defined and being set to 0.0 in labels with no predicted samples. Use `zero_division` parameter to control this behavior.\n",
      "  _warn_prf(average, modifier, f\"{metric.capitalize()} is\", len(result))\n",
      "/home/lijianhang/anaconda3/envs/LLM/lib/python3.11/site-packages/sklearn/metrics/_classification.py:1565: UndefinedMetricWarning: Precision is ill-defined and being set to 0.0 in labels with no predicted samples. Use `zero_division` parameter to control this behavior.\n",
      "  _warn_prf(average, modifier, f\"{metric.capitalize()} is\", len(result))\n"
     ]
    },
    {
     "name": "stdout",
     "output_type": "stream",
     "text": [
      "\tValid ACC: 0.5578703703703703, Valid Pearson: 0.553608989422821\n",
      "* Classification Report:\n",
      "              precision    recall  f1-score   support\n",
      "\n",
      "       moved       0.50      0.50      0.50       365\n",
      "       angry       0.58      0.88      0.70       837\n",
      "       funny       0.68      0.26      0.38       530\n",
      "         sad       0.44      0.48      0.46       292\n",
      "       novel       0.00      0.00      0.00        34\n",
      "     shocked       0.00      0.00      0.00        90\n",
      "\n",
      "    accuracy                           0.56      2148\n",
      "   macro avg       0.37      0.35      0.34      2148\n",
      "weighted avg       0.54      0.56      0.51      2148\n",
      "\n"
     ]
    },
    {
     "name": "stderr",
     "output_type": "stream",
     "text": [
      "Epoch 14 train: 100%|████████████████████████| 195/195 [01:04<00:00,  3.02it/s, acc=0.6, loss=0.703]\n"
     ]
    },
    {
     "name": "stdout",
     "output_type": "stream",
     "text": [
      "\tTrain ACC: 0.6915384615384615, Train Pearson: 0.644369452797381\n"
     ]
    },
    {
     "name": "stderr",
     "output_type": "stream",
     "text": [
      "Epoch 14 valid: 100%|████████████████████████| 135/135 [00:18<00:00,  7.43it/s, acc=0.25, loss=1.78]\n",
      "/home/lijianhang/anaconda3/envs/LLM/lib/python3.11/site-packages/sklearn/metrics/_classification.py:1565: UndefinedMetricWarning: Precision is ill-defined and being set to 0.0 in labels with no predicted samples. Use `zero_division` parameter to control this behavior.\n",
      "  _warn_prf(average, modifier, f\"{metric.capitalize()} is\", len(result))\n",
      "/home/lijianhang/anaconda3/envs/LLM/lib/python3.11/site-packages/sklearn/metrics/_classification.py:1565: UndefinedMetricWarning: Precision is ill-defined and being set to 0.0 in labels with no predicted samples. Use `zero_division` parameter to control this behavior.\n",
      "  _warn_prf(average, modifier, f\"{metric.capitalize()} is\", len(result))\n",
      "/home/lijianhang/anaconda3/envs/LLM/lib/python3.11/site-packages/sklearn/metrics/_classification.py:1565: UndefinedMetricWarning: Precision is ill-defined and being set to 0.0 in labels with no predicted samples. Use `zero_division` parameter to control this behavior.\n",
      "  _warn_prf(average, modifier, f\"{metric.capitalize()} is\", len(result))\n"
     ]
    },
    {
     "name": "stdout",
     "output_type": "stream",
     "text": [
      "\tValid ACC: 0.49907407407407406, Valid Pearson: 0.509268799674043\n",
      "* Classification Report:\n",
      "              precision    recall  f1-score   support\n",
      "\n",
      "       moved       0.43      0.59      0.50       365\n",
      "       angry       0.76      0.45      0.56       837\n",
      "       funny       0.41      0.83      0.55       530\n",
      "         sad       0.60      0.11      0.19       292\n",
      "       novel       0.24      0.15      0.18        34\n",
      "     shocked       0.00      0.00      0.00        90\n",
      "\n",
      "    accuracy                           0.50      2148\n",
      "   macro avg       0.41      0.35      0.33      2148\n",
      "weighted avg       0.55      0.50      0.47      2148\n",
      "\n"
     ]
    },
    {
     "name": "stderr",
     "output_type": "stream",
     "text": [
      "Epoch 15 train: 100%|██████████████████████████| 195/195 [01:04<00:00,  3.01it/s, acc=0.6, loss=1.1]\n"
     ]
    },
    {
     "name": "stdout",
     "output_type": "stream",
     "text": [
      "\tTrain ACC: 0.6883333333333334, Train Pearson: 0.6519422812455975\n"
     ]
    },
    {
     "name": "stderr",
     "output_type": "stream",
     "text": [
      "Epoch 15 valid: 100%|████████████████████████| 135/135 [00:17<00:00,  7.70it/s, acc=0.25, loss=1.67]\n",
      "/home/lijianhang/anaconda3/envs/LLM/lib/python3.11/site-packages/sklearn/metrics/_classification.py:1565: UndefinedMetricWarning: Precision is ill-defined and being set to 0.0 in labels with no predicted samples. Use `zero_division` parameter to control this behavior.\n",
      "  _warn_prf(average, modifier, f\"{metric.capitalize()} is\", len(result))\n",
      "/home/lijianhang/anaconda3/envs/LLM/lib/python3.11/site-packages/sklearn/metrics/_classification.py:1565: UndefinedMetricWarning: Precision is ill-defined and being set to 0.0 in labels with no predicted samples. Use `zero_division` parameter to control this behavior.\n",
      "  _warn_prf(average, modifier, f\"{metric.capitalize()} is\", len(result))\n",
      "/home/lijianhang/anaconda3/envs/LLM/lib/python3.11/site-packages/sklearn/metrics/_classification.py:1565: UndefinedMetricWarning: Precision is ill-defined and being set to 0.0 in labels with no predicted samples. Use `zero_division` parameter to control this behavior.\n",
      "  _warn_prf(average, modifier, f\"{metric.capitalize()} is\", len(result))\n"
     ]
    },
    {
     "name": "stdout",
     "output_type": "stream",
     "text": [
      "\tValid ACC: 0.5337962962962963, Valid Pearson: 0.5689691678873174\n",
      "* Classification Report:\n",
      "              precision    recall  f1-score   support\n",
      "\n",
      "       moved       0.61      0.24      0.35       365\n",
      "       angry       0.55      0.80      0.65       837\n",
      "       funny       0.51      0.60      0.55       530\n",
      "         sad       0.46      0.24      0.31       292\n",
      "       novel       0.00      0.00      0.00        34\n",
      "     shocked       0.00      0.00      0.00        90\n",
      "\n",
      "    accuracy                           0.53      2148\n",
      "   macro avg       0.35      0.31      0.31      2148\n",
      "weighted avg       0.50      0.53      0.49      2148\n",
      "\n"
     ]
    },
    {
     "name": "stderr",
     "output_type": "stream",
     "text": [
      "Epoch 16 train: 100%|████████████████████████| 195/195 [01:05<00:00,  2.99it/s, acc=0.8, loss=0.469]\n"
     ]
    },
    {
     "name": "stdout",
     "output_type": "stream",
     "text": [
      "\tTrain ACC: 0.6999358974358975, Train Pearson: 0.6561901742390948\n"
     ]
    },
    {
     "name": "stderr",
     "output_type": "stream",
     "text": [
      "Epoch 16 valid: 100%|██████████████████████████| 135/135 [00:17<00:00,  7.72it/s, acc=1, loss=0.662]\n",
      "/home/lijianhang/anaconda3/envs/LLM/lib/python3.11/site-packages/sklearn/metrics/_classification.py:1565: UndefinedMetricWarning: Precision is ill-defined and being set to 0.0 in labels with no predicted samples. Use `zero_division` parameter to control this behavior.\n",
      "  _warn_prf(average, modifier, f\"{metric.capitalize()} is\", len(result))\n",
      "/home/lijianhang/anaconda3/envs/LLM/lib/python3.11/site-packages/sklearn/metrics/_classification.py:1565: UndefinedMetricWarning: Precision is ill-defined and being set to 0.0 in labels with no predicted samples. Use `zero_division` parameter to control this behavior.\n",
      "  _warn_prf(average, modifier, f\"{metric.capitalize()} is\", len(result))\n",
      "/home/lijianhang/anaconda3/envs/LLM/lib/python3.11/site-packages/sklearn/metrics/_classification.py:1565: UndefinedMetricWarning: Precision is ill-defined and being set to 0.0 in labels with no predicted samples. Use `zero_division` parameter to control this behavior.\n",
      "  _warn_prf(average, modifier, f\"{metric.capitalize()} is\", len(result))\n"
     ]
    },
    {
     "name": "stdout",
     "output_type": "stream",
     "text": [
      "\tValid ACC: 0.5671296296296297, Valid Pearson: 0.5849246606200809\n",
      "* Classification Report:\n",
      "              precision    recall  f1-score   support\n",
      "\n",
      "       moved       0.51      0.61      0.56       365\n",
      "       angry       0.71      0.59      0.65       837\n",
      "       funny       0.50      0.67      0.57       530\n",
      "         sad       0.45      0.46      0.45       292\n",
      "       novel       0.00      0.00      0.00        34\n",
      "     shocked       0.00      0.00      0.00        90\n",
      "\n",
      "    accuracy                           0.56      2148\n",
      "   macro avg       0.36      0.39      0.37      2148\n",
      "weighted avg       0.55      0.56      0.55      2148\n",
      "\n"
     ]
    },
    {
     "name": "stderr",
     "output_type": "stream",
     "text": [
      "Epoch 17 train: 100%|████████████████████████| 195/195 [01:04<00:00,  3.01it/s, acc=0.8, loss=0.546]\n"
     ]
    },
    {
     "name": "stdout",
     "output_type": "stream",
     "text": [
      "\tTrain ACC: 0.7300641025641026, Train Pearson: 0.680830066191309\n"
     ]
    },
    {
     "name": "stderr",
     "output_type": "stream",
     "text": [
      "Epoch 17 valid: 100%|████████████████████████| 135/135 [00:18<00:00,  7.43it/s, acc=0.75, loss=1.06]\n"
     ]
    },
    {
     "name": "stdout",
     "output_type": "stream",
     "text": [
      "\tValid ACC: 0.5407407407407407, Valid Pearson: 0.5732844344761191\n",
      "* Classification Report:\n",
      "              precision    recall  f1-score   support\n",
      "\n",
      "       moved       0.55      0.53      0.54       365\n",
      "       angry       0.74      0.50      0.60       837\n",
      "       funny       0.42      0.81      0.56       530\n",
      "         sad       0.54      0.38      0.45       292\n",
      "       novel       0.23      0.09      0.13        34\n",
      "     shocked       0.00      0.00      0.00        90\n",
      "\n",
      "    accuracy                           0.54      2148\n",
      "   macro avg       0.41      0.38      0.38      2148\n",
      "weighted avg       0.56      0.54      0.52      2148\n",
      "\n"
     ]
    },
    {
     "name": "stderr",
     "output_type": "stream",
     "text": [
      "Epoch 18 train: 100%|████████████████████████| 195/195 [01:04<00:00,  3.02it/s, acc=0.8, loss=0.564]\n"
     ]
    },
    {
     "name": "stdout",
     "output_type": "stream",
     "text": [
      "\tTrain ACC: 0.731025641025641, Train Pearson: 0.6808049337369462\n"
     ]
    },
    {
     "name": "stderr",
     "output_type": "stream",
     "text": [
      "Epoch 18 valid: 100%|████████████████████████| 135/135 [00:18<00:00,  7.43it/s, acc=0.5, loss=0.881]\n"
     ]
    },
    {
     "name": "stdout",
     "output_type": "stream",
     "text": [
      "\tValid ACC: 0.5634259259259259, Valid Pearson: 0.5664649046742156\n",
      "* Classification Report:\n",
      "              precision    recall  f1-score   support\n",
      "\n",
      "       moved       0.50      0.67      0.57       365\n",
      "       angry       0.70      0.63      0.66       837\n",
      "       funny       0.50      0.60      0.55       530\n",
      "         sad       0.52      0.36      0.43       292\n",
      "       novel       0.15      0.32      0.20        34\n",
      "     shocked       0.33      0.01      0.02        90\n",
      "\n",
      "    accuracy                           0.56      2148\n",
      "   macro avg       0.45      0.43      0.41      2148\n",
      "weighted avg       0.57      0.56      0.55      2148\n",
      "\n"
     ]
    },
    {
     "name": "stderr",
     "output_type": "stream",
     "text": [
      "Epoch 19 train: 100%|████████████████████████| 195/195 [01:04<00:00,  3.01it/s, acc=0.8, loss=0.916]\n"
     ]
    },
    {
     "name": "stdout",
     "output_type": "stream",
     "text": [
      "\tTrain ACC: 0.7560256410256411, Train Pearson: 0.6955866159512514\n"
     ]
    },
    {
     "name": "stderr",
     "output_type": "stream",
     "text": [
      "Epoch 19 valid: 100%|█████████████████████████| 135/135 [00:17<00:00,  7.71it/s, acc=0.5, loss=1.37]\n"
     ]
    },
    {
     "name": "stdout",
     "output_type": "stream",
     "text": [
      "\tValid ACC: 0.5638888888888889, Valid Pearson: 0.5752784239116873\n",
      "* Classification Report:\n",
      "              precision    recall  f1-score   support\n",
      "\n",
      "       moved       0.56      0.45      0.50       365\n",
      "       angry       0.58      0.89      0.70       837\n",
      "       funny       0.67      0.27      0.39       530\n",
      "         sad       0.44      0.52      0.48       292\n",
      "       novel       0.00      0.00      0.00        34\n",
      "     shocked       1.00      0.01      0.02        90\n",
      "\n",
      "    accuracy                           0.56      2148\n",
      "   macro avg       0.54      0.36      0.35      2148\n",
      "weighted avg       0.59      0.56      0.52      2148\n",
      "\n",
      "loading data from: data/train.json\n"
     ]
    },
    {
     "name": "stderr",
     "output_type": "stream",
     "text": [
      "100%|██████████| 3109/3109 [00:09<00:00, 333.17it/s]\n"
     ]
    },
    {
     "name": "stdout",
     "output_type": "stream",
     "text": [
      "loading data from: data/test.json\n"
     ]
    },
    {
     "name": "stderr",
     "output_type": "stream",
     "text": [
      "100%|██████████| 2148/2148 [00:06<00:00, 315.43it/s]\n",
      "Epoch 0 train: 100%|██████████████████████████| 195/195 [01:06<00:00,  2.92it/s, acc=0.4, loss=1.38]\n"
     ]
    },
    {
     "name": "stdout",
     "output_type": "stream",
     "text": [
      "\tTrain ACC: 0.33891025641025646, Train Pearson: 0.32499058898516436\n"
     ]
    },
    {
     "name": "stderr",
     "output_type": "stream",
     "text": [
      "Epoch 0 valid: 100%|████████████████████████████| 135/135 [00:17<00:00,  7.78it/s, acc=0, loss=1.64]\n",
      "/home/lijianhang/anaconda3/envs/LLM/lib/python3.11/site-packages/sklearn/metrics/_classification.py:1565: UndefinedMetricWarning: Precision is ill-defined and being set to 0.0 in labels with no predicted samples. Use `zero_division` parameter to control this behavior.\n",
      "  _warn_prf(average, modifier, f\"{metric.capitalize()} is\", len(result))\n",
      "/home/lijianhang/anaconda3/envs/LLM/lib/python3.11/site-packages/sklearn/metrics/_classification.py:1565: UndefinedMetricWarning: Precision is ill-defined and being set to 0.0 in labels with no predicted samples. Use `zero_division` parameter to control this behavior.\n",
      "  _warn_prf(average, modifier, f\"{metric.capitalize()} is\", len(result))\n",
      "/home/lijianhang/anaconda3/envs/LLM/lib/python3.11/site-packages/sklearn/metrics/_classification.py:1565: UndefinedMetricWarning: Precision is ill-defined and being set to 0.0 in labels with no predicted samples. Use `zero_division` parameter to control this behavior.\n",
      "  _warn_prf(average, modifier, f\"{metric.capitalize()} is\", len(result))\n"
     ]
    },
    {
     "name": "stdout",
     "output_type": "stream",
     "text": [
      "\tValid ACC: 0.3875, Valid Pearson: 0.3352978186189635\n",
      "* Classification Report:\n",
      "              precision    recall  f1-score   support\n",
      "\n",
      "       moved       0.00      0.00      0.00       365\n",
      "       angry       0.39      1.00      0.56       837\n",
      "       funny       0.00      0.00      0.00       530\n",
      "         sad       0.00      0.00      0.00       292\n",
      "       novel       0.00      0.00      0.00        34\n",
      "     shocked       0.00      0.00      0.00        90\n",
      "\n",
      "    accuracy                           0.39      2148\n",
      "   macro avg       0.06      0.17      0.09      2148\n",
      "weighted avg       0.15      0.39      0.22      2148\n",
      "\n"
     ]
    },
    {
     "name": "stderr",
     "output_type": "stream",
     "text": [
      "Epoch 1 train: 100%|████████████████████████████| 195/195 [01:04<00:00,  3.02it/s, acc=0, loss=2.04]\n"
     ]
    },
    {
     "name": "stdout",
     "output_type": "stream",
     "text": [
      "\tTrain ACC: 0.34134615384615385, Train Pearson: 0.3270833965670464\n"
     ]
    },
    {
     "name": "stderr",
     "output_type": "stream",
     "text": [
      "Epoch 1 valid: 100%|█████████████████████████| 135/135 [00:18<00:00,  7.40it/s, acc=0.25, loss=1.88]\n",
      "/home/lijianhang/anaconda3/envs/LLM/lib/python3.11/site-packages/sklearn/metrics/_classification.py:1565: UndefinedMetricWarning: Precision is ill-defined and being set to 0.0 in labels with no predicted samples. Use `zero_division` parameter to control this behavior.\n",
      "  _warn_prf(average, modifier, f\"{metric.capitalize()} is\", len(result))\n",
      "/home/lijianhang/anaconda3/envs/LLM/lib/python3.11/site-packages/sklearn/metrics/_classification.py:1565: UndefinedMetricWarning: Precision is ill-defined and being set to 0.0 in labels with no predicted samples. Use `zero_division` parameter to control this behavior.\n",
      "  _warn_prf(average, modifier, f\"{metric.capitalize()} is\", len(result))\n",
      "/home/lijianhang/anaconda3/envs/LLM/lib/python3.11/site-packages/sklearn/metrics/_classification.py:1565: UndefinedMetricWarning: Precision is ill-defined and being set to 0.0 in labels with no predicted samples. Use `zero_division` parameter to control this behavior.\n",
      "  _warn_prf(average, modifier, f\"{metric.capitalize()} is\", len(result))\n"
     ]
    },
    {
     "name": "stdout",
     "output_type": "stream",
     "text": [
      "\tValid ACC: 0.24953703703703703, Valid Pearson: 0.36361965660966783\n",
      "* Classification Report:\n",
      "              precision    recall  f1-score   support\n",
      "\n",
      "       moved       0.00      0.00      0.00       365\n",
      "       angry       0.00      0.00      0.00       837\n",
      "       funny       0.25      1.00      0.40       530\n",
      "         sad       0.00      0.00      0.00       292\n",
      "       novel       0.00      0.00      0.00        34\n",
      "     shocked       0.00      0.00      0.00        90\n",
      "\n",
      "    accuracy                           0.25      2148\n",
      "   macro avg       0.04      0.17      0.07      2148\n",
      "weighted avg       0.06      0.25      0.10      2148\n",
      "\n"
     ]
    },
    {
     "name": "stderr",
     "output_type": "stream",
     "text": [
      "Epoch 2 train: 100%|██████████████████████████| 195/195 [01:04<00:00,  3.01it/s, acc=0.2, loss=1.46]\n"
     ]
    },
    {
     "name": "stdout",
     "output_type": "stream",
     "text": [
      "\tTrain ACC: 0.32121794871794873, Train Pearson: 0.32841970787347663\n"
     ]
    },
    {
     "name": "stderr",
     "output_type": "stream",
     "text": [
      "Epoch 2 valid: 100%|█████████████████████████| 135/135 [00:18<00:00,  7.44it/s, acc=0.25, loss=1.72]\n",
      "/home/lijianhang/anaconda3/envs/LLM/lib/python3.11/site-packages/sklearn/metrics/_classification.py:1565: UndefinedMetricWarning: Precision is ill-defined and being set to 0.0 in labels with no predicted samples. Use `zero_division` parameter to control this behavior.\n",
      "  _warn_prf(average, modifier, f\"{metric.capitalize()} is\", len(result))\n",
      "/home/lijianhang/anaconda3/envs/LLM/lib/python3.11/site-packages/sklearn/metrics/_classification.py:1565: UndefinedMetricWarning: Precision is ill-defined and being set to 0.0 in labels with no predicted samples. Use `zero_division` parameter to control this behavior.\n",
      "  _warn_prf(average, modifier, f\"{metric.capitalize()} is\", len(result))\n",
      "/home/lijianhang/anaconda3/envs/LLM/lib/python3.11/site-packages/sklearn/metrics/_classification.py:1565: UndefinedMetricWarning: Precision is ill-defined and being set to 0.0 in labels with no predicted samples. Use `zero_division` parameter to control this behavior.\n",
      "  _warn_prf(average, modifier, f\"{metric.capitalize()} is\", len(result))\n"
     ]
    },
    {
     "name": "stdout",
     "output_type": "stream",
     "text": [
      "\tValid ACC: 0.24953703703703703, Valid Pearson: 0.33758456968364037\n",
      "* Classification Report:\n",
      "              precision    recall  f1-score   support\n",
      "\n",
      "       moved       0.00      0.00      0.00       365\n",
      "       angry       0.00      0.00      0.00       837\n",
      "       funny       0.25      1.00      0.40       530\n",
      "         sad       0.00      0.00      0.00       292\n",
      "       novel       0.00      0.00      0.00        34\n",
      "     shocked       0.00      0.00      0.00        90\n",
      "\n",
      "    accuracy                           0.25      2148\n",
      "   macro avg       0.04      0.17      0.07      2148\n",
      "weighted avg       0.06      0.25      0.10      2148\n",
      "\n"
     ]
    },
    {
     "name": "stderr",
     "output_type": "stream",
     "text": [
      "Epoch 3 train: 100%|██████████████████████████| 195/195 [01:04<00:00,  3.01it/s, acc=0.8, loss=1.08]\n"
     ]
    },
    {
     "name": "stdout",
     "output_type": "stream",
     "text": [
      "\tTrain ACC: 0.3367948717948718, Train Pearson: 0.32750114033820177\n"
     ]
    },
    {
     "name": "stderr",
     "output_type": "stream",
     "text": [
      "Epoch 3 valid: 100%|███████████████████████████████| 135/135 [00:17<00:00,  7.71it/s, acc=0, loss=2]\n",
      "/home/lijianhang/anaconda3/envs/LLM/lib/python3.11/site-packages/sklearn/metrics/_classification.py:1565: UndefinedMetricWarning: Precision is ill-defined and being set to 0.0 in labels with no predicted samples. Use `zero_division` parameter to control this behavior.\n",
      "  _warn_prf(average, modifier, f\"{metric.capitalize()} is\", len(result))\n",
      "/home/lijianhang/anaconda3/envs/LLM/lib/python3.11/site-packages/sklearn/metrics/_classification.py:1565: UndefinedMetricWarning: Precision is ill-defined and being set to 0.0 in labels with no predicted samples. Use `zero_division` parameter to control this behavior.\n",
      "  _warn_prf(average, modifier, f\"{metric.capitalize()} is\", len(result))\n",
      "/home/lijianhang/anaconda3/envs/LLM/lib/python3.11/site-packages/sklearn/metrics/_classification.py:1565: UndefinedMetricWarning: Precision is ill-defined and being set to 0.0 in labels with no predicted samples. Use `zero_division` parameter to control this behavior.\n",
      "  _warn_prf(average, modifier, f\"{metric.capitalize()} is\", len(result))\n"
     ]
    },
    {
     "name": "stdout",
     "output_type": "stream",
     "text": [
      "\tValid ACC: 0.3875, Valid Pearson: 0.37064339703514043\n",
      "* Classification Report:\n",
      "              precision    recall  f1-score   support\n",
      "\n",
      "       moved       0.00      0.00      0.00       365\n",
      "       angry       0.39      1.00      0.56       837\n",
      "       funny       0.00      0.00      0.00       530\n",
      "         sad       0.00      0.00      0.00       292\n",
      "       novel       0.00      0.00      0.00        34\n",
      "     shocked       0.00      0.00      0.00        90\n",
      "\n",
      "    accuracy                           0.39      2148\n",
      "   macro avg       0.06      0.17      0.09      2148\n",
      "weighted avg       0.15      0.39      0.22      2148\n",
      "\n"
     ]
    },
    {
     "name": "stderr",
     "output_type": "stream",
     "text": [
      "Epoch 4 train: 100%|██████████████████████████| 195/195 [01:05<00:00,  2.98it/s, acc=0.4, loss=1.53]\n"
     ]
    },
    {
     "name": "stdout",
     "output_type": "stream",
     "text": [
      "\tTrain ACC: 0.35012820512820514, Train Pearson: 0.34365588174868333\n"
     ]
    },
    {
     "name": "stderr",
     "output_type": "stream",
     "text": [
      "Epoch 4 valid: 100%|█████████████████████████| 135/135 [00:17<00:00,  7.71it/s, acc=0.25, loss=1.59]\n",
      "/home/lijianhang/anaconda3/envs/LLM/lib/python3.11/site-packages/sklearn/metrics/_classification.py:1565: UndefinedMetricWarning: Precision is ill-defined and being set to 0.0 in labels with no predicted samples. Use `zero_division` parameter to control this behavior.\n",
      "  _warn_prf(average, modifier, f\"{metric.capitalize()} is\", len(result))\n",
      "/home/lijianhang/anaconda3/envs/LLM/lib/python3.11/site-packages/sklearn/metrics/_classification.py:1565: UndefinedMetricWarning: Precision is ill-defined and being set to 0.0 in labels with no predicted samples. Use `zero_division` parameter to control this behavior.\n",
      "  _warn_prf(average, modifier, f\"{metric.capitalize()} is\", len(result))\n",
      "/home/lijianhang/anaconda3/envs/LLM/lib/python3.11/site-packages/sklearn/metrics/_classification.py:1565: UndefinedMetricWarning: Precision is ill-defined and being set to 0.0 in labels with no predicted samples. Use `zero_division` parameter to control this behavior.\n",
      "  _warn_prf(average, modifier, f\"{metric.capitalize()} is\", len(result))\n"
     ]
    },
    {
     "name": "stdout",
     "output_type": "stream",
     "text": [
      "\tValid ACC: 0.21342592592592594, Valid Pearson: 0.21404427298675838\n",
      "* Classification Report:\n",
      "              precision    recall  f1-score   support\n",
      "\n",
      "       moved       0.19      0.99      0.32       365\n",
      "       angry       0.71      0.03      0.05       837\n",
      "       funny       0.33      0.14      0.19       530\n",
      "         sad       0.00      0.00      0.00       292\n",
      "       novel       0.00      0.00      0.00        34\n",
      "     shocked       0.00      0.00      0.00        90\n",
      "\n",
      "    accuracy                           0.21      2148\n",
      "   macro avg       0.21      0.19      0.09      2148\n",
      "weighted avg       0.39      0.21      0.12      2148\n",
      "\n"
     ]
    },
    {
     "name": "stderr",
     "output_type": "stream",
     "text": [
      "Epoch 5 train: 100%|██████████████████████████| 195/195 [01:04<00:00,  3.01it/s, acc=0.2, loss=1.07]\n"
     ]
    },
    {
     "name": "stdout",
     "output_type": "stream",
     "text": [
      "\tTrain ACC: 0.40102564102564103, Train Pearson: 0.40134067658070555\n"
     ]
    },
    {
     "name": "stderr",
     "output_type": "stream",
     "text": [
      "Epoch 5 valid: 100%|█████████████████████████| 135/135 [00:18<00:00,  7.42it/s, acc=0.25, loss=1.71]\n",
      "/home/lijianhang/anaconda3/envs/LLM/lib/python3.11/site-packages/sklearn/metrics/_classification.py:1565: UndefinedMetricWarning: Precision is ill-defined and being set to 0.0 in labels with no predicted samples. Use `zero_division` parameter to control this behavior.\n",
      "  _warn_prf(average, modifier, f\"{metric.capitalize()} is\", len(result))\n",
      "/home/lijianhang/anaconda3/envs/LLM/lib/python3.11/site-packages/sklearn/metrics/_classification.py:1565: UndefinedMetricWarning: Precision is ill-defined and being set to 0.0 in labels with no predicted samples. Use `zero_division` parameter to control this behavior.\n",
      "  _warn_prf(average, modifier, f\"{metric.capitalize()} is\", len(result))\n",
      "/home/lijianhang/anaconda3/envs/LLM/lib/python3.11/site-packages/sklearn/metrics/_classification.py:1565: UndefinedMetricWarning: Precision is ill-defined and being set to 0.0 in labels with no predicted samples. Use `zero_division` parameter to control this behavior.\n",
      "  _warn_prf(average, modifier, f\"{metric.capitalize()} is\", len(result))\n"
     ]
    },
    {
     "name": "stdout",
     "output_type": "stream",
     "text": [
      "\tValid ACC: 0.41712962962962963, Valid Pearson: 0.43918661480352417\n",
      "* Classification Report:\n",
      "              precision    recall  f1-score   support\n",
      "\n",
      "       moved       0.53      0.05      0.09       365\n",
      "       angry       0.56      0.75      0.64       837\n",
      "       funny       0.25      0.47      0.33       530\n",
      "         sad       0.00      0.00      0.00       292\n",
      "       novel       0.00      0.00      0.00        34\n",
      "     shocked       0.00      0.00      0.00        90\n",
      "\n",
      "    accuracy                           0.42      2148\n",
      "   macro avg       0.22      0.21      0.18      2148\n",
      "weighted avg       0.37      0.42      0.34      2148\n",
      "\n"
     ]
    },
    {
     "name": "stderr",
     "output_type": "stream",
     "text": [
      "Epoch 6 train: 100%|█████████████████████████| 195/195 [01:04<00:00,  3.01it/s, acc=0.8, loss=0.844]\n"
     ]
    },
    {
     "name": "stdout",
     "output_type": "stream",
     "text": [
      "\tTrain ACC: 0.49256410256410255, Train Pearson: 0.47089286590751456\n"
     ]
    },
    {
     "name": "stderr",
     "output_type": "stream",
     "text": [
      "Epoch 6 valid: 100%|██████████████████████████| 135/135 [00:18<00:00,  7.42it/s, acc=0.5, loss=1.43]\n",
      "/home/lijianhang/anaconda3/envs/LLM/lib/python3.11/site-packages/sklearn/metrics/_classification.py:1565: UndefinedMetricWarning: Precision is ill-defined and being set to 0.0 in labels with no predicted samples. Use `zero_division` parameter to control this behavior.\n",
      "  _warn_prf(average, modifier, f\"{metric.capitalize()} is\", len(result))\n",
      "/home/lijianhang/anaconda3/envs/LLM/lib/python3.11/site-packages/sklearn/metrics/_classification.py:1565: UndefinedMetricWarning: Precision is ill-defined and being set to 0.0 in labels with no predicted samples. Use `zero_division` parameter to control this behavior.\n",
      "  _warn_prf(average, modifier, f\"{metric.capitalize()} is\", len(result))\n",
      "/home/lijianhang/anaconda3/envs/LLM/lib/python3.11/site-packages/sklearn/metrics/_classification.py:1565: UndefinedMetricWarning: Precision is ill-defined and being set to 0.0 in labels with no predicted samples. Use `zero_division` parameter to control this behavior.\n",
      "  _warn_prf(average, modifier, f\"{metric.capitalize()} is\", len(result))\n"
     ]
    },
    {
     "name": "stdout",
     "output_type": "stream",
     "text": [
      "\tValid ACC: 0.48703703703703705, Valid Pearson: 0.5281466541792162\n",
      "* Classification Report:\n",
      "              precision    recall  f1-score   support\n",
      "\n",
      "       moved       0.53      0.42      0.47       365\n",
      "       angry       0.64      0.46      0.54       837\n",
      "       funny       0.38      0.77      0.51       530\n",
      "         sad       0.53      0.32      0.40       292\n",
      "       novel       0.00      0.00      0.00        34\n",
      "     shocked       0.00      0.00      0.00        90\n",
      "\n",
      "    accuracy                           0.49      2148\n",
      "   macro avg       0.35      0.33      0.32      2148\n",
      "weighted avg       0.50      0.49      0.47      2148\n",
      "\n"
     ]
    },
    {
     "name": "stderr",
     "output_type": "stream",
     "text": [
      "Epoch 7 train: 100%|█████████████████████████| 195/195 [01:04<00:00,  3.02it/s, acc=0.6, loss=0.793]\n"
     ]
    },
    {
     "name": "stdout",
     "output_type": "stream",
     "text": [
      "\tTrain ACC: 0.5658974358974359, Train Pearson: 0.5510415304768457\n"
     ]
    },
    {
     "name": "stderr",
     "output_type": "stream",
     "text": [
      "Epoch 7 valid: 100%|██████████████████████████| 135/135 [00:17<00:00,  7.70it/s, acc=0.5, loss=1.16]\n",
      "/home/lijianhang/anaconda3/envs/LLM/lib/python3.11/site-packages/sklearn/metrics/_classification.py:1565: UndefinedMetricWarning: Precision is ill-defined and being set to 0.0 in labels with no predicted samples. Use `zero_division` parameter to control this behavior.\n",
      "  _warn_prf(average, modifier, f\"{metric.capitalize()} is\", len(result))\n",
      "/home/lijianhang/anaconda3/envs/LLM/lib/python3.11/site-packages/sklearn/metrics/_classification.py:1565: UndefinedMetricWarning: Precision is ill-defined and being set to 0.0 in labels with no predicted samples. Use `zero_division` parameter to control this behavior.\n",
      "  _warn_prf(average, modifier, f\"{metric.capitalize()} is\", len(result))\n",
      "/home/lijianhang/anaconda3/envs/LLM/lib/python3.11/site-packages/sklearn/metrics/_classification.py:1565: UndefinedMetricWarning: Precision is ill-defined and being set to 0.0 in labels with no predicted samples. Use `zero_division` parameter to control this behavior.\n",
      "  _warn_prf(average, modifier, f\"{metric.capitalize()} is\", len(result))\n"
     ]
    },
    {
     "name": "stdout",
     "output_type": "stream",
     "text": [
      "\tValid ACC: 0.5717592592592593, Valid Pearson: 0.5728691362410817\n",
      "* Classification Report:\n",
      "              precision    recall  f1-score   support\n",
      "\n",
      "       moved       0.54      0.58      0.56       365\n",
      "       angry       0.61      0.78      0.68       837\n",
      "       funny       0.56      0.48      0.51       530\n",
      "         sad       0.49      0.37      0.42       292\n",
      "       novel       0.00      0.00      0.00        34\n",
      "     shocked       0.00      0.00      0.00        90\n",
      "\n",
      "    accuracy                           0.57      2148\n",
      "   macro avg       0.36      0.37      0.36      2148\n",
      "weighted avg       0.53      0.57      0.55      2148\n",
      "\n"
     ]
    },
    {
     "name": "stderr",
     "output_type": "stream",
     "text": [
      "Epoch 8 train: 100%|█████████████████████████| 195/195 [01:05<00:00,  2.99it/s, acc=0.8, loss=0.522]\n"
     ]
    },
    {
     "name": "stdout",
     "output_type": "stream",
     "text": [
      "\tTrain ACC: 0.6175641025641025, Train Pearson: 0.5829799811061668\n"
     ]
    },
    {
     "name": "stderr",
     "output_type": "stream",
     "text": [
      "Epoch 8 valid: 100%|█████████████████████████| 135/135 [00:17<00:00,  7.76it/s, acc=0.25, loss=1.83]\n",
      "/home/lijianhang/anaconda3/envs/LLM/lib/python3.11/site-packages/sklearn/metrics/_classification.py:1565: UndefinedMetricWarning: Precision is ill-defined and being set to 0.0 in labels with no predicted samples. Use `zero_division` parameter to control this behavior.\n",
      "  _warn_prf(average, modifier, f\"{metric.capitalize()} is\", len(result))\n",
      "/home/lijianhang/anaconda3/envs/LLM/lib/python3.11/site-packages/sklearn/metrics/_classification.py:1565: UndefinedMetricWarning: Precision is ill-defined and being set to 0.0 in labels with no predicted samples. Use `zero_division` parameter to control this behavior.\n",
      "  _warn_prf(average, modifier, f\"{metric.capitalize()} is\", len(result))\n",
      "/home/lijianhang/anaconda3/envs/LLM/lib/python3.11/site-packages/sklearn/metrics/_classification.py:1565: UndefinedMetricWarning: Precision is ill-defined and being set to 0.0 in labels with no predicted samples. Use `zero_division` parameter to control this behavior.\n",
      "  _warn_prf(average, modifier, f\"{metric.capitalize()} is\", len(result))\n"
     ]
    },
    {
     "name": "stdout",
     "output_type": "stream",
     "text": [
      "\tValid ACC: 0.5, Valid Pearson: 0.5531121430211037\n",
      "* Classification Report:\n",
      "              precision    recall  f1-score   support\n",
      "\n",
      "       moved       0.61      0.21      0.31       365\n",
      "       angry       0.60      0.58      0.59       837\n",
      "       funny       0.41      0.79      0.54       530\n",
      "         sad       0.48      0.33      0.39       292\n",
      "       novel       0.00      0.00      0.00        34\n",
      "     shocked       0.00      0.00      0.00        90\n",
      "\n",
      "    accuracy                           0.50      2148\n",
      "   macro avg       0.35      0.32      0.30      2148\n",
      "weighted avg       0.50      0.50      0.47      2148\n",
      "\n"
     ]
    },
    {
     "name": "stderr",
     "output_type": "stream",
     "text": [
      "Epoch 9 train: 100%|██████████████████████████| 195/195 [01:04<00:00,  3.02it/s, acc=0.6, loss=1.21]\n"
     ]
    },
    {
     "name": "stdout",
     "output_type": "stream",
     "text": [
      "\tTrain ACC: 0.640576923076923, Train Pearson: 0.6017434407130476\n"
     ]
    },
    {
     "name": "stderr",
     "output_type": "stream",
     "text": [
      "Epoch 9 valid: 100%|█████████████████████████| 135/135 [00:18<00:00,  7.47it/s, acc=0.25, loss=1.27]\n",
      "/home/lijianhang/anaconda3/envs/LLM/lib/python3.11/site-packages/sklearn/metrics/_classification.py:1565: UndefinedMetricWarning: Precision is ill-defined and being set to 0.0 in labels with no predicted samples. Use `zero_division` parameter to control this behavior.\n",
      "  _warn_prf(average, modifier, f\"{metric.capitalize()} is\", len(result))\n",
      "/home/lijianhang/anaconda3/envs/LLM/lib/python3.11/site-packages/sklearn/metrics/_classification.py:1565: UndefinedMetricWarning: Precision is ill-defined and being set to 0.0 in labels with no predicted samples. Use `zero_division` parameter to control this behavior.\n",
      "  _warn_prf(average, modifier, f\"{metric.capitalize()} is\", len(result))\n",
      "/home/lijianhang/anaconda3/envs/LLM/lib/python3.11/site-packages/sklearn/metrics/_classification.py:1565: UndefinedMetricWarning: Precision is ill-defined and being set to 0.0 in labels with no predicted samples. Use `zero_division` parameter to control this behavior.\n",
      "  _warn_prf(average, modifier, f\"{metric.capitalize()} is\", len(result))\n"
     ]
    },
    {
     "name": "stdout",
     "output_type": "stream",
     "text": [
      "\tValid ACC: 0.5712962962962963, Valid Pearson: 0.5741897063717282\n",
      "* Classification Report:\n",
      "              precision    recall  f1-score   support\n",
      "\n",
      "       moved       0.50      0.65      0.57       365\n",
      "       angry       0.67      0.65      0.66       837\n",
      "       funny       0.52      0.58      0.55       530\n",
      "         sad       0.51      0.47      0.49       292\n",
      "       novel       0.00      0.00      0.00        34\n",
      "     shocked       0.00      0.00      0.00        90\n",
      "\n",
      "    accuracy                           0.57      2148\n",
      "   macro avg       0.37      0.39      0.38      2148\n",
      "weighted avg       0.55      0.57      0.56      2148\n",
      "\n"
     ]
    },
    {
     "name": "stderr",
     "output_type": "stream",
     "text": [
      "Epoch 10 train: 100%|████████████████████████| 195/195 [01:04<00:00,  3.01it/s, acc=0.6, loss=0.736]\n"
     ]
    },
    {
     "name": "stdout",
     "output_type": "stream",
     "text": [
      "\tTrain ACC: 0.6687820512820513, Train Pearson: 0.6336638901885484\n"
     ]
    },
    {
     "name": "stderr",
     "output_type": "stream",
     "text": [
      "Epoch 10 valid: 100%|██████████████████████████| 135/135 [00:18<00:00,  7.44it/s, acc=0.5, loss=1.2]\n",
      "/home/lijianhang/anaconda3/envs/LLM/lib/python3.11/site-packages/sklearn/metrics/_classification.py:1565: UndefinedMetricWarning: Precision is ill-defined and being set to 0.0 in labels with no predicted samples. Use `zero_division` parameter to control this behavior.\n",
      "  _warn_prf(average, modifier, f\"{metric.capitalize()} is\", len(result))\n",
      "/home/lijianhang/anaconda3/envs/LLM/lib/python3.11/site-packages/sklearn/metrics/_classification.py:1565: UndefinedMetricWarning: Precision is ill-defined and being set to 0.0 in labels with no predicted samples. Use `zero_division` parameter to control this behavior.\n",
      "  _warn_prf(average, modifier, f\"{metric.capitalize()} is\", len(result))\n",
      "/home/lijianhang/anaconda3/envs/LLM/lib/python3.11/site-packages/sklearn/metrics/_classification.py:1565: UndefinedMetricWarning: Precision is ill-defined and being set to 0.0 in labels with no predicted samples. Use `zero_division` parameter to control this behavior.\n",
      "  _warn_prf(average, modifier, f\"{metric.capitalize()} is\", len(result))\n"
     ]
    },
    {
     "name": "stdout",
     "output_type": "stream",
     "text": [
      "\tValid ACC: 0.5810185185185185, Valid Pearson: 0.5947244672882134\n",
      "* Classification Report:\n",
      "              precision    recall  f1-score   support\n",
      "\n",
      "       moved       0.60      0.46      0.52       365\n",
      "       angry       0.66      0.70      0.68       837\n",
      "       funny       0.50      0.64      0.56       530\n",
      "         sad       0.51      0.53      0.52       292\n",
      "       novel       0.00      0.00      0.00        34\n",
      "     shocked       0.00      0.00      0.00        90\n",
      "\n",
      "    accuracy                           0.58      2148\n",
      "   macro avg       0.38      0.39      0.38      2148\n",
      "weighted avg       0.55      0.58      0.56      2148\n",
      "\n"
     ]
    },
    {
     "name": "stderr",
     "output_type": "stream",
     "text": [
      "Epoch 11 train: 100%|█████████████████████████| 195/195 [01:04<00:00,  3.02it/s, acc=0.8, loss=1.48]\n"
     ]
    },
    {
     "name": "stdout",
     "output_type": "stream",
     "text": [
      "\tTrain ACC: 0.6861538461538462, Train Pearson: 0.6527199518459905\n"
     ]
    },
    {
     "name": "stderr",
     "output_type": "stream",
     "text": [
      "Epoch 11 valid: 100%|████████████████████████| 135/135 [00:17<00:00,  7.70it/s, acc=0.25, loss=1.81]\n",
      "/home/lijianhang/anaconda3/envs/LLM/lib/python3.11/site-packages/sklearn/metrics/_classification.py:1565: UndefinedMetricWarning: Precision is ill-defined and being set to 0.0 in labels with no predicted samples. Use `zero_division` parameter to control this behavior.\n",
      "  _warn_prf(average, modifier, f\"{metric.capitalize()} is\", len(result))\n",
      "/home/lijianhang/anaconda3/envs/LLM/lib/python3.11/site-packages/sklearn/metrics/_classification.py:1565: UndefinedMetricWarning: Precision is ill-defined and being set to 0.0 in labels with no predicted samples. Use `zero_division` parameter to control this behavior.\n",
      "  _warn_prf(average, modifier, f\"{metric.capitalize()} is\", len(result))\n",
      "/home/lijianhang/anaconda3/envs/LLM/lib/python3.11/site-packages/sklearn/metrics/_classification.py:1565: UndefinedMetricWarning: Precision is ill-defined and being set to 0.0 in labels with no predicted samples. Use `zero_division` parameter to control this behavior.\n",
      "  _warn_prf(average, modifier, f\"{metric.capitalize()} is\", len(result))\n"
     ]
    },
    {
     "name": "stdout",
     "output_type": "stream",
     "text": [
      "\tValid ACC: 0.5481481481481482, Valid Pearson: 0.5831697702964351\n",
      "* Classification Report:\n",
      "              precision    recall  f1-score   support\n",
      "\n",
      "       moved       0.60      0.42      0.49       365\n",
      "       angry       0.69      0.58      0.63       837\n",
      "       funny       0.43      0.80      0.56       530\n",
      "         sad       0.58      0.40      0.47       292\n",
      "       novel       0.00      0.00      0.00        34\n",
      "     shocked       0.00      0.00      0.00        90\n",
      "\n",
      "    accuracy                           0.55      2148\n",
      "   macro avg       0.38      0.37      0.36      2148\n",
      "weighted avg       0.56      0.55      0.53      2148\n",
      "\n"
     ]
    },
    {
     "name": "stderr",
     "output_type": "stream",
     "text": [
      "Epoch 12 train: 100%|██████████████████████████| 195/195 [01:05<00:00,  2.99it/s, acc=1, loss=0.392]\n"
     ]
    },
    {
     "name": "stdout",
     "output_type": "stream",
     "text": [
      "\tTrain ACC: 0.7237179487179487, Train Pearson: 0.6667832639740284\n"
     ]
    },
    {
     "name": "stderr",
     "output_type": "stream",
     "text": [
      "Epoch 12 valid: 100%|████████████████████████| 135/135 [00:17<00:00,  7.76it/s, acc=0.25, loss=1.25]\n",
      "/home/lijianhang/anaconda3/envs/LLM/lib/python3.11/site-packages/sklearn/metrics/_classification.py:1565: UndefinedMetricWarning: Precision is ill-defined and being set to 0.0 in labels with no predicted samples. Use `zero_division` parameter to control this behavior.\n",
      "  _warn_prf(average, modifier, f\"{metric.capitalize()} is\", len(result))\n",
      "/home/lijianhang/anaconda3/envs/LLM/lib/python3.11/site-packages/sklearn/metrics/_classification.py:1565: UndefinedMetricWarning: Precision is ill-defined and being set to 0.0 in labels with no predicted samples. Use `zero_division` parameter to control this behavior.\n",
      "  _warn_prf(average, modifier, f\"{metric.capitalize()} is\", len(result))\n",
      "/home/lijianhang/anaconda3/envs/LLM/lib/python3.11/site-packages/sklearn/metrics/_classification.py:1565: UndefinedMetricWarning: Precision is ill-defined and being set to 0.0 in labels with no predicted samples. Use `zero_division` parameter to control this behavior.\n",
      "  _warn_prf(average, modifier, f\"{metric.capitalize()} is\", len(result))\n"
     ]
    },
    {
     "name": "stdout",
     "output_type": "stream",
     "text": [
      "\tValid ACC: 0.575925925925926, Valid Pearson: 0.5915822711115907\n",
      "* Classification Report:\n",
      "              precision    recall  f1-score   support\n",
      "\n",
      "       moved       0.55      0.48      0.51       365\n",
      "       angry       0.68      0.68      0.68       837\n",
      "       funny       0.54      0.57      0.55       530\n",
      "         sad       0.46      0.62      0.53       292\n",
      "       novel       0.33      0.21      0.25        34\n",
      "     shocked       0.00      0.00      0.00        90\n",
      "\n",
      "    accuracy                           0.58      2148\n",
      "   macro avg       0.43      0.43      0.42      2148\n",
      "weighted avg       0.56      0.58      0.56      2148\n",
      "\n"
     ]
    },
    {
     "name": "stderr",
     "output_type": "stream",
     "text": [
      "Epoch 13 train: 100%|██████████████████████████| 195/195 [01:04<00:00,  3.02it/s, acc=0.6, loss=0.5]\n"
     ]
    },
    {
     "name": "stdout",
     "output_type": "stream",
     "text": [
      "\tTrain ACC: 0.7399358974358974, Train Pearson: 0.6874457593471668\n"
     ]
    },
    {
     "name": "stderr",
     "output_type": "stream",
     "text": [
      "Epoch 13 valid: 100%|█████████████████████████| 135/135 [00:18<00:00,  7.43it/s, acc=0.25, loss=1.5]\n",
      "/home/lijianhang/anaconda3/envs/LLM/lib/python3.11/site-packages/sklearn/metrics/_classification.py:1565: UndefinedMetricWarning: Precision is ill-defined and being set to 0.0 in labels with no predicted samples. Use `zero_division` parameter to control this behavior.\n",
      "  _warn_prf(average, modifier, f\"{metric.capitalize()} is\", len(result))\n",
      "/home/lijianhang/anaconda3/envs/LLM/lib/python3.11/site-packages/sklearn/metrics/_classification.py:1565: UndefinedMetricWarning: Precision is ill-defined and being set to 0.0 in labels with no predicted samples. Use `zero_division` parameter to control this behavior.\n",
      "  _warn_prf(average, modifier, f\"{metric.capitalize()} is\", len(result))\n",
      "/home/lijianhang/anaconda3/envs/LLM/lib/python3.11/site-packages/sklearn/metrics/_classification.py:1565: UndefinedMetricWarning: Precision is ill-defined and being set to 0.0 in labels with no predicted samples. Use `zero_division` parameter to control this behavior.\n",
      "  _warn_prf(average, modifier, f\"{metric.capitalize()} is\", len(result))\n"
     ]
    },
    {
     "name": "stdout",
     "output_type": "stream",
     "text": [
      "\tValid ACC: 0.5731481481481482, Valid Pearson: 0.5724974950336644\n",
      "* Classification Report:\n",
      "              precision    recall  f1-score   support\n",
      "\n",
      "       moved       0.47      0.66      0.55       365\n",
      "       angry       0.65      0.73      0.69       837\n",
      "       funny       0.59      0.45      0.51       530\n",
      "         sad       0.47      0.47      0.47       292\n",
      "       novel       0.25      0.03      0.05        34\n",
      "     shocked       0.00      0.00      0.00        90\n",
      "\n",
      "    accuracy                           0.57      2148\n",
      "   macro avg       0.41      0.39      0.38      2148\n",
      "weighted avg       0.55      0.57      0.55      2148\n",
      "\n"
     ]
    },
    {
     "name": "stderr",
     "output_type": "stream",
     "text": [
      "Epoch 14 train: 100%|█████████████████████████| 195/195 [01:04<00:00,  3.02it/s, acc=0.4, loss=1.29]\n"
     ]
    },
    {
     "name": "stdout",
     "output_type": "stream",
     "text": [
      "\tTrain ACC: 0.7639102564102564, Train Pearson: 0.7037517333441107\n"
     ]
    },
    {
     "name": "stderr",
     "output_type": "stream",
     "text": [
      "Epoch 14 valid: 100%|████████████████████████| 135/135 [00:18<00:00,  7.44it/s, acc=0.75, loss=1.84]\n",
      "/home/lijianhang/anaconda3/envs/LLM/lib/python3.11/site-packages/sklearn/metrics/_classification.py:1565: UndefinedMetricWarning: Precision is ill-defined and being set to 0.0 in labels with no predicted samples. Use `zero_division` parameter to control this behavior.\n",
      "  _warn_prf(average, modifier, f\"{metric.capitalize()} is\", len(result))\n",
      "/home/lijianhang/anaconda3/envs/LLM/lib/python3.11/site-packages/sklearn/metrics/_classification.py:1565: UndefinedMetricWarning: Precision is ill-defined and being set to 0.0 in labels with no predicted samples. Use `zero_division` parameter to control this behavior.\n",
      "  _warn_prf(average, modifier, f\"{metric.capitalize()} is\", len(result))\n",
      "/home/lijianhang/anaconda3/envs/LLM/lib/python3.11/site-packages/sklearn/metrics/_classification.py:1565: UndefinedMetricWarning: Precision is ill-defined and being set to 0.0 in labels with no predicted samples. Use `zero_division` parameter to control this behavior.\n",
      "  _warn_prf(average, modifier, f\"{metric.capitalize()} is\", len(result))\n"
     ]
    },
    {
     "name": "stdout",
     "output_type": "stream",
     "text": [
      "\tValid ACC: 0.5504629629629629, Valid Pearson: 0.5830312586159265\n",
      "* Classification Report:\n",
      "              precision    recall  f1-score   support\n",
      "\n",
      "       moved       0.57      0.27      0.37       365\n",
      "       angry       0.58      0.80      0.67       837\n",
      "       funny       0.54      0.54      0.54       530\n",
      "         sad       0.44      0.42      0.43       292\n",
      "       novel       0.00      0.00      0.00        34\n",
      "     shocked       0.17      0.01      0.02        90\n",
      "\n",
      "    accuracy                           0.55      2148\n",
      "   macro avg       0.38      0.34      0.34      2148\n",
      "weighted avg       0.52      0.55      0.52      2148\n",
      "\n"
     ]
    },
    {
     "name": "stderr",
     "output_type": "stream",
     "text": [
      "Epoch 15 train: 100%|██████████████████████████| 195/195 [01:04<00:00,  3.01it/s, acc=1, loss=0.117]\n"
     ]
    },
    {
     "name": "stdout",
     "output_type": "stream",
     "text": [
      "\tTrain ACC: 0.7775641025641026, Train Pearson: 0.7043745395343147\n"
     ]
    },
    {
     "name": "stderr",
     "output_type": "stream",
     "text": [
      "Epoch 15 valid: 100%|████████████████████████| 135/135 [00:17<00:00,  7.70it/s, acc=0.25, loss=2.12]\n"
     ]
    },
    {
     "name": "stdout",
     "output_type": "stream",
     "text": [
      "\tValid ACC: 0.5569444444444445, Valid Pearson: 0.5762366681441915\n",
      "* Classification Report:\n",
      "              precision    recall  f1-score   support\n",
      "\n",
      "       moved       0.51      0.59      0.55       365\n",
      "       angry       0.70      0.59      0.64       837\n",
      "       funny       0.49      0.65      0.56       530\n",
      "         sad       0.47      0.45      0.46       292\n",
      "       novel       0.29      0.26      0.28        34\n",
      "     shocked       0.33      0.01      0.02        90\n",
      "\n",
      "    accuracy                           0.56      2148\n",
      "   macro avg       0.47      0.43      0.42      2148\n",
      "weighted avg       0.56      0.56      0.55      2148\n",
      "\n"
     ]
    },
    {
     "name": "stderr",
     "output_type": "stream",
     "text": [
      "Epoch 16 train: 100%|█████████████████████████| 195/195 [01:05<00:00,  2.98it/s, acc=0.8, loss=1.53]\n"
     ]
    },
    {
     "name": "stdout",
     "output_type": "stream",
     "text": [
      "\tTrain ACC: 0.791923076923077, Train Pearson: 0.7155440208892033\n"
     ]
    },
    {
     "name": "stderr",
     "output_type": "stream",
     "text": [
      "Epoch 16 valid: 100%|████████████████████████| 135/135 [00:17<00:00,  7.71it/s, acc=0.25, loss=2.64]\n"
     ]
    },
    {
     "name": "stdout",
     "output_type": "stream",
     "text": [
      "\tValid ACC: 0.5361111111111111, Valid Pearson: 0.5788249585601603\n",
      "* Classification Report:\n",
      "              precision    recall  f1-score   support\n",
      "\n",
      "       moved       0.62      0.25      0.35       365\n",
      "       angry       0.59      0.81      0.68       837\n",
      "       funny       0.44      0.58      0.50       530\n",
      "         sad       0.53      0.24      0.33       292\n",
      "       novel       0.30      0.09      0.14        34\n",
      "     shocked       0.00      0.00      0.00        90\n",
      "\n",
      "    accuracy                           0.54      2148\n",
      "   macro avg       0.41      0.33      0.33      2148\n",
      "weighted avg       0.52      0.54      0.50      2148\n",
      "\n"
     ]
    },
    {
     "name": "stderr",
     "output_type": "stream",
     "text": [
      "Epoch 17 train: 100%|██████████████████████████| 195/195 [01:04<00:00,  3.01it/s, acc=1, loss=0.273]\n"
     ]
    },
    {
     "name": "stdout",
     "output_type": "stream",
     "text": [
      "\tTrain ACC: 0.8288461538461539, Train Pearson: 0.7363669205787343\n"
     ]
    },
    {
     "name": "stderr",
     "output_type": "stream",
     "text": [
      "Epoch 17 valid: 100%|████████████████████████| 135/135 [00:18<00:00,  7.44it/s, acc=0.25, loss=2.43]\n"
     ]
    },
    {
     "name": "stdout",
     "output_type": "stream",
     "text": [
      "\tValid ACC: 0.562037037037037, Valid Pearson: 0.5853430652020358\n",
      "* Classification Report:\n",
      "              precision    recall  f1-score   support\n",
      "\n",
      "       moved       0.57      0.46      0.51       365\n",
      "       angry       0.67      0.68      0.68       837\n",
      "       funny       0.52      0.58      0.55       530\n",
      "         sad       0.45      0.50      0.48       292\n",
      "       novel       0.42      0.29      0.34        34\n",
      "     shocked       0.14      0.12      0.13        90\n",
      "\n",
      "    accuracy                           0.56      2148\n",
      "   macro avg       0.46      0.44      0.45      2148\n",
      "weighted avg       0.56      0.56      0.56      2148\n",
      "\n"
     ]
    },
    {
     "name": "stderr",
     "output_type": "stream",
     "text": [
      "Epoch 18 train: 100%|████████████████████████| 195/195 [01:04<00:00,  3.02it/s, acc=0.8, loss=0.528]\n"
     ]
    },
    {
     "name": "stdout",
     "output_type": "stream",
     "text": [
      "\tTrain ACC: 0.861474358974359, Train Pearson: 0.7647366808827231\n"
     ]
    },
    {
     "name": "stderr",
     "output_type": "stream",
     "text": [
      "Epoch 18 valid: 100%|█████████████████████████| 135/135 [00:18<00:00,  7.42it/s, acc=0.5, loss=2.13]\n"
     ]
    },
    {
     "name": "stdout",
     "output_type": "stream",
     "text": [
      "\tValid ACC: 0.5472222222222223, Valid Pearson: 0.5618839553333522\n",
      "* Classification Report:\n",
      "              precision    recall  f1-score   support\n",
      "\n",
      "       moved       0.62      0.35      0.45       365\n",
      "       angry       0.58      0.85      0.69       837\n",
      "       funny       0.53      0.38      0.44       530\n",
      "         sad       0.41      0.42      0.42       292\n",
      "       novel       0.40      0.18      0.24        34\n",
      "     shocked       0.20      0.04      0.07        90\n",
      "\n",
      "    accuracy                           0.55      2148\n",
      "   macro avg       0.46      0.37      0.39      2148\n",
      "weighted avg       0.53      0.55      0.52      2148\n",
      "\n"
     ]
    },
    {
     "name": "stderr",
     "output_type": "stream",
     "text": [
      "Epoch 19 train: 100%|██████████████████████████| 195/195 [01:04<00:00,  3.02it/s, acc=1, loss=0.138]\n"
     ]
    },
    {
     "name": "stdout",
     "output_type": "stream",
     "text": [
      "\tTrain ACC: 0.882051282051282, Train Pearson: 0.7784223302953241\n"
     ]
    },
    {
     "name": "stderr",
     "output_type": "stream",
     "text": [
      "Epoch 19 valid: 100%|████████████████████████| 135/135 [00:17<00:00,  7.75it/s, acc=0.25, loss=2.81]\n"
     ]
    },
    {
     "name": "stdout",
     "output_type": "stream",
     "text": [
      "\tValid ACC: 0.5555555555555556, Valid Pearson: 0.5715232866757827\n",
      "* Classification Report:\n",
      "              precision    recall  f1-score   support\n",
      "\n",
      "       moved       0.55      0.55      0.55       365\n",
      "       angry       0.69      0.62      0.65       837\n",
      "       funny       0.49      0.58      0.53       530\n",
      "         sad       0.45      0.51      0.48       292\n",
      "       novel       0.26      0.35      0.30        34\n",
      "     shocked       0.17      0.02      0.04        90\n",
      "\n",
      "    accuracy                           0.56      2148\n",
      "   macro avg       0.43      0.44      0.43      2148\n",
      "weighted avg       0.55      0.56      0.55      2148\n",
      "\n",
      "loading data from: data/train.json\n"
     ]
    },
    {
     "name": "stderr",
     "output_type": "stream",
     "text": [
      "100%|██████████| 3109/3109 [00:09<00:00, 332.99it/s]\n"
     ]
    },
    {
     "name": "stdout",
     "output_type": "stream",
     "text": [
      "loading data from: data/test.json\n"
     ]
    },
    {
     "name": "stderr",
     "output_type": "stream",
     "text": [
      "100%|██████████| 2148/2148 [00:06<00:00, 312.81it/s]\n",
      "Epoch 0 train: 100%|██████████████████████████| 195/195 [01:05<00:00,  2.96it/s, acc=0.4, loss=1.25]\n"
     ]
    },
    {
     "name": "stdout",
     "output_type": "stream",
     "text": [
      "\tTrain ACC: 0.33666666666666667, Train Pearson: 0.3211485223522335\n"
     ]
    },
    {
     "name": "stderr",
     "output_type": "stream",
     "text": [
      "Epoch 0 valid: 100%|████████████████████████████| 135/135 [00:17<00:00,  7.83it/s, acc=0, loss=1.74]\n",
      "/home/lijianhang/anaconda3/envs/LLM/lib/python3.11/site-packages/sklearn/metrics/_classification.py:1565: UndefinedMetricWarning: Precision is ill-defined and being set to 0.0 in labels with no predicted samples. Use `zero_division` parameter to control this behavior.\n",
      "  _warn_prf(average, modifier, f\"{metric.capitalize()} is\", len(result))\n",
      "/home/lijianhang/anaconda3/envs/LLM/lib/python3.11/site-packages/sklearn/metrics/_classification.py:1565: UndefinedMetricWarning: Precision is ill-defined and being set to 0.0 in labels with no predicted samples. Use `zero_division` parameter to control this behavior.\n",
      "  _warn_prf(average, modifier, f\"{metric.capitalize()} is\", len(result))\n",
      "/home/lijianhang/anaconda3/envs/LLM/lib/python3.11/site-packages/sklearn/metrics/_classification.py:1565: UndefinedMetricWarning: Precision is ill-defined and being set to 0.0 in labels with no predicted samples. Use `zero_division` parameter to control this behavior.\n",
      "  _warn_prf(average, modifier, f\"{metric.capitalize()} is\", len(result))\n"
     ]
    },
    {
     "name": "stdout",
     "output_type": "stream",
     "text": [
      "\tValid ACC: 0.3875, Valid Pearson: 0.3255121033614551\n",
      "* Classification Report:\n",
      "              precision    recall  f1-score   support\n",
      "\n",
      "       moved       0.00      0.00      0.00       365\n",
      "       angry       0.39      1.00      0.56       837\n",
      "       funny       0.00      0.00      0.00       530\n",
      "         sad       0.00      0.00      0.00       292\n",
      "       novel       0.00      0.00      0.00        34\n",
      "     shocked       0.00      0.00      0.00        90\n",
      "\n",
      "    accuracy                           0.39      2148\n",
      "   macro avg       0.06      0.17      0.09      2148\n",
      "weighted avg       0.15      0.39      0.22      2148\n",
      "\n"
     ]
    },
    {
     "name": "stderr",
     "output_type": "stream",
     "text": [
      "Epoch 1 train: 100%|████████████████████████████| 195/195 [01:04<00:00,  3.03it/s, acc=0, loss=1.86]\n"
     ]
    },
    {
     "name": "stdout",
     "output_type": "stream",
     "text": [
      "\tTrain ACC: 0.33653846153846156, Train Pearson: 0.3304646951259818\n"
     ]
    },
    {
     "name": "stderr",
     "output_type": "stream",
     "text": [
      "Epoch 1 valid: 100%|████████████████████████████| 135/135 [00:18<00:00,  7.39it/s, acc=0, loss=1.91]\n",
      "/home/lijianhang/anaconda3/envs/LLM/lib/python3.11/site-packages/sklearn/metrics/_classification.py:1565: UndefinedMetricWarning: Precision is ill-defined and being set to 0.0 in labels with no predicted samples. Use `zero_division` parameter to control this behavior.\n",
      "  _warn_prf(average, modifier, f\"{metric.capitalize()} is\", len(result))\n",
      "/home/lijianhang/anaconda3/envs/LLM/lib/python3.11/site-packages/sklearn/metrics/_classification.py:1565: UndefinedMetricWarning: Precision is ill-defined and being set to 0.0 in labels with no predicted samples. Use `zero_division` parameter to control this behavior.\n",
      "  _warn_prf(average, modifier, f\"{metric.capitalize()} is\", len(result))\n",
      "/home/lijianhang/anaconda3/envs/LLM/lib/python3.11/site-packages/sklearn/metrics/_classification.py:1565: UndefinedMetricWarning: Precision is ill-defined and being set to 0.0 in labels with no predicted samples. Use `zero_division` parameter to control this behavior.\n",
      "  _warn_prf(average, modifier, f\"{metric.capitalize()} is\", len(result))\n"
     ]
    },
    {
     "name": "stdout",
     "output_type": "stream",
     "text": [
      "\tValid ACC: 0.3875, Valid Pearson: 0.36843046913464206\n",
      "* Classification Report:\n",
      "              precision    recall  f1-score   support\n",
      "\n",
      "       moved       0.00      0.00      0.00       365\n",
      "       angry       0.39      1.00      0.56       837\n",
      "       funny       0.00      0.00      0.00       530\n",
      "         sad       0.00      0.00      0.00       292\n",
      "       novel       0.00      0.00      0.00        34\n",
      "     shocked       0.00      0.00      0.00        90\n",
      "\n",
      "    accuracy                           0.39      2148\n",
      "   macro avg       0.06      0.17      0.09      2148\n",
      "weighted avg       0.15      0.39      0.22      2148\n",
      "\n"
     ]
    },
    {
     "name": "stderr",
     "output_type": "stream",
     "text": [
      "Epoch 2 train: 100%|██████████████████████████| 195/195 [01:04<00:00,  3.02it/s, acc=0.6, loss=1.31]\n"
     ]
    },
    {
     "name": "stdout",
     "output_type": "stream",
     "text": [
      "\tTrain ACC: 0.34570512820512816, Train Pearson: 0.32686372474555175\n"
     ]
    },
    {
     "name": "stderr",
     "output_type": "stream",
     "text": [
      "Epoch 2 valid: 100%|████████████████████████████| 135/135 [00:18<00:00,  7.48it/s, acc=0, loss=1.68]\n",
      "/home/lijianhang/anaconda3/envs/LLM/lib/python3.11/site-packages/sklearn/metrics/_classification.py:1565: UndefinedMetricWarning: Precision is ill-defined and being set to 0.0 in labels with no predicted samples. Use `zero_division` parameter to control this behavior.\n",
      "  _warn_prf(average, modifier, f\"{metric.capitalize()} is\", len(result))\n",
      "/home/lijianhang/anaconda3/envs/LLM/lib/python3.11/site-packages/sklearn/metrics/_classification.py:1565: UndefinedMetricWarning: Precision is ill-defined and being set to 0.0 in labels with no predicted samples. Use `zero_division` parameter to control this behavior.\n",
      "  _warn_prf(average, modifier, f\"{metric.capitalize()} is\", len(result))\n",
      "/home/lijianhang/anaconda3/envs/LLM/lib/python3.11/site-packages/sklearn/metrics/_classification.py:1565: UndefinedMetricWarning: Precision is ill-defined and being set to 0.0 in labels with no predicted samples. Use `zero_division` parameter to control this behavior.\n",
      "  _warn_prf(average, modifier, f\"{metric.capitalize()} is\", len(result))\n"
     ]
    },
    {
     "name": "stdout",
     "output_type": "stream",
     "text": [
      "\tValid ACC: 0.3875, Valid Pearson: 0.32145950595646755\n",
      "* Classification Report:\n",
      "              precision    recall  f1-score   support\n",
      "\n",
      "       moved       0.00      0.00      0.00       365\n",
      "       angry       0.39      1.00      0.56       837\n",
      "       funny       0.00      0.00      0.00       530\n",
      "         sad       0.00      0.00      0.00       292\n",
      "       novel       0.00      0.00      0.00        34\n",
      "     shocked       0.00      0.00      0.00        90\n",
      "\n",
      "    accuracy                           0.39      2148\n",
      "   macro avg       0.06      0.17      0.09      2148\n",
      "weighted avg       0.15      0.39      0.22      2148\n",
      "\n"
     ]
    },
    {
     "name": "stderr",
     "output_type": "stream",
     "text": [
      "Epoch 3 train: 100%|████████████████████████████| 195/195 [01:04<00:00,  3.03it/s, acc=0, loss=1.43]\n"
     ]
    },
    {
     "name": "stdout",
     "output_type": "stream",
     "text": [
      "\tTrain ACC: 0.3387820512820513, Train Pearson: 0.32680563085093856\n"
     ]
    },
    {
     "name": "stderr",
     "output_type": "stream",
     "text": [
      "Epoch 3 valid: 100%|████████████████████████████| 135/135 [00:17<00:00,  7.74it/s, acc=0, loss=1.78]\n",
      "/home/lijianhang/anaconda3/envs/LLM/lib/python3.11/site-packages/sklearn/metrics/_classification.py:1565: UndefinedMetricWarning: Precision is ill-defined and being set to 0.0 in labels with no predicted samples. Use `zero_division` parameter to control this behavior.\n",
      "  _warn_prf(average, modifier, f\"{metric.capitalize()} is\", len(result))\n",
      "/home/lijianhang/anaconda3/envs/LLM/lib/python3.11/site-packages/sklearn/metrics/_classification.py:1565: UndefinedMetricWarning: Precision is ill-defined and being set to 0.0 in labels with no predicted samples. Use `zero_division` parameter to control this behavior.\n",
      "  _warn_prf(average, modifier, f\"{metric.capitalize()} is\", len(result))\n",
      "/home/lijianhang/anaconda3/envs/LLM/lib/python3.11/site-packages/sklearn/metrics/_classification.py:1565: UndefinedMetricWarning: Precision is ill-defined and being set to 0.0 in labels with no predicted samples. Use `zero_division` parameter to control this behavior.\n",
      "  _warn_prf(average, modifier, f\"{metric.capitalize()} is\", len(result))\n"
     ]
    },
    {
     "name": "stdout",
     "output_type": "stream",
     "text": [
      "\tValid ACC: 0.3875, Valid Pearson: 0.33517430605615095\n",
      "* Classification Report:\n",
      "              precision    recall  f1-score   support\n",
      "\n",
      "       moved       0.00      0.00      0.00       365\n",
      "       angry       0.39      1.00      0.56       837\n",
      "       funny       0.00      0.00      0.00       530\n",
      "         sad       0.00      0.00      0.00       292\n",
      "       novel       0.00      0.00      0.00        34\n",
      "     shocked       0.00      0.00      0.00        90\n",
      "\n",
      "    accuracy                           0.39      2148\n",
      "   macro avg       0.06      0.17      0.09      2148\n",
      "weighted avg       0.15      0.39      0.22      2148\n",
      "\n"
     ]
    },
    {
     "name": "stderr",
     "output_type": "stream",
     "text": [
      "Epoch 4 train: 100%|██████████████████████████| 195/195 [01:05<00:00,  2.99it/s, acc=0.4, loss=1.23]\n"
     ]
    },
    {
     "name": "stdout",
     "output_type": "stream",
     "text": [
      "\tTrain ACC: 0.3523717948717949, Train Pearson: 0.348817677100733\n"
     ]
    },
    {
     "name": "stderr",
     "output_type": "stream",
     "text": [
      "Epoch 4 valid: 100%|█████████████████████████| 135/135 [00:17<00:00,  7.75it/s, acc=0.25, loss=2.01]\n",
      "/home/lijianhang/anaconda3/envs/LLM/lib/python3.11/site-packages/sklearn/metrics/_classification.py:1565: UndefinedMetricWarning: Precision is ill-defined and being set to 0.0 in labels with no predicted samples. Use `zero_division` parameter to control this behavior.\n",
      "  _warn_prf(average, modifier, f\"{metric.capitalize()} is\", len(result))\n",
      "/home/lijianhang/anaconda3/envs/LLM/lib/python3.11/site-packages/sklearn/metrics/_classification.py:1565: UndefinedMetricWarning: Precision is ill-defined and being set to 0.0 in labels with no predicted samples. Use `zero_division` parameter to control this behavior.\n",
      "  _warn_prf(average, modifier, f\"{metric.capitalize()} is\", len(result))\n",
      "/home/lijianhang/anaconda3/envs/LLM/lib/python3.11/site-packages/sklearn/metrics/_classification.py:1565: UndefinedMetricWarning: Precision is ill-defined and being set to 0.0 in labels with no predicted samples. Use `zero_division` parameter to control this behavior.\n",
      "  _warn_prf(average, modifier, f\"{metric.capitalize()} is\", len(result))\n"
     ]
    },
    {
     "name": "stdout",
     "output_type": "stream",
     "text": [
      "\tValid ACC: 0.4023148148148148, Valid Pearson: 0.4194415832963567\n",
      "* Classification Report:\n",
      "              precision    recall  f1-score   support\n",
      "\n",
      "       moved       0.00      0.00      0.00       365\n",
      "       angry       0.51      0.83      0.63       837\n",
      "       funny       0.22      0.32      0.26       530\n",
      "         sad       0.00      0.00      0.00       292\n",
      "       novel       0.00      0.00      0.00        34\n",
      "     shocked       0.00      0.00      0.00        90\n",
      "\n",
      "    accuracy                           0.40      2148\n",
      "   macro avg       0.12      0.19      0.15      2148\n",
      "weighted avg       0.25      0.40      0.31      2148\n",
      "\n"
     ]
    },
    {
     "name": "stderr",
     "output_type": "stream",
     "text": [
      "Epoch 5 train: 100%|████████████████████████████| 195/195 [01:04<00:00,  3.02it/s, acc=0, loss=1.84]\n"
     ]
    },
    {
     "name": "stdout",
     "output_type": "stream",
     "text": [
      "\tTrain ACC: 0.4205128205128205, Train Pearson: 0.41661717357439454\n"
     ]
    },
    {
     "name": "stderr",
     "output_type": "stream",
     "text": [
      "Epoch 5 valid: 100%|█████████████████████████| 135/135 [00:18<00:00,  7.44it/s, acc=0.25, loss=1.65]\n",
      "/home/lijianhang/anaconda3/envs/LLM/lib/python3.11/site-packages/sklearn/metrics/_classification.py:1565: UndefinedMetricWarning: Precision is ill-defined and being set to 0.0 in labels with no predicted samples. Use `zero_division` parameter to control this behavior.\n",
      "  _warn_prf(average, modifier, f\"{metric.capitalize()} is\", len(result))\n",
      "/home/lijianhang/anaconda3/envs/LLM/lib/python3.11/site-packages/sklearn/metrics/_classification.py:1565: UndefinedMetricWarning: Precision is ill-defined and being set to 0.0 in labels with no predicted samples. Use `zero_division` parameter to control this behavior.\n",
      "  _warn_prf(average, modifier, f\"{metric.capitalize()} is\", len(result))\n",
      "/home/lijianhang/anaconda3/envs/LLM/lib/python3.11/site-packages/sklearn/metrics/_classification.py:1565: UndefinedMetricWarning: Precision is ill-defined and being set to 0.0 in labels with no predicted samples. Use `zero_division` parameter to control this behavior.\n",
      "  _warn_prf(average, modifier, f\"{metric.capitalize()} is\", len(result))\n"
     ]
    },
    {
     "name": "stdout",
     "output_type": "stream",
     "text": [
      "\tValid ACC: 0.3435185185185185, Valid Pearson: 0.4160569882509632\n",
      "* Classification Report:\n",
      "              precision    recall  f1-score   support\n",
      "\n",
      "       moved       0.50      0.01      0.02       365\n",
      "       angry       0.40      0.69      0.51       837\n",
      "       funny       0.22      0.29      0.25       530\n",
      "         sad       0.00      0.00      0.00       292\n",
      "       novel       0.00      0.00      0.00        34\n",
      "     shocked       0.00      0.00      0.00        90\n",
      "\n",
      "    accuracy                           0.34      2148\n",
      "   macro avg       0.19      0.17      0.13      2148\n",
      "weighted avg       0.30      0.34      0.26      2148\n",
      "\n"
     ]
    },
    {
     "name": "stderr",
     "output_type": "stream",
     "text": [
      "Epoch 6 train: 100%|█████████████████████████| 195/195 [01:04<00:00,  3.03it/s, acc=0.8, loss=0.957]\n"
     ]
    },
    {
     "name": "stdout",
     "output_type": "stream",
     "text": [
      "\tTrain ACC: 0.45955128205128204, Train Pearson: 0.46033231596386553\n"
     ]
    },
    {
     "name": "stderr",
     "output_type": "stream",
     "text": [
      "Epoch 6 valid: 100%|█████████████████████████| 135/135 [00:18<00:00,  7.48it/s, acc=0.25, loss=1.56]\n",
      "/home/lijianhang/anaconda3/envs/LLM/lib/python3.11/site-packages/sklearn/metrics/_classification.py:1565: UndefinedMetricWarning: Precision is ill-defined and being set to 0.0 in labels with no predicted samples. Use `zero_division` parameter to control this behavior.\n",
      "  _warn_prf(average, modifier, f\"{metric.capitalize()} is\", len(result))\n",
      "/home/lijianhang/anaconda3/envs/LLM/lib/python3.11/site-packages/sklearn/metrics/_classification.py:1565: UndefinedMetricWarning: Precision is ill-defined and being set to 0.0 in labels with no predicted samples. Use `zero_division` parameter to control this behavior.\n",
      "  _warn_prf(average, modifier, f\"{metric.capitalize()} is\", len(result))\n",
      "/home/lijianhang/anaconda3/envs/LLM/lib/python3.11/site-packages/sklearn/metrics/_classification.py:1565: UndefinedMetricWarning: Precision is ill-defined and being set to 0.0 in labels with no predicted samples. Use `zero_division` parameter to control this behavior.\n",
      "  _warn_prf(average, modifier, f\"{metric.capitalize()} is\", len(result))\n"
     ]
    },
    {
     "name": "stdout",
     "output_type": "stream",
     "text": [
      "\tValid ACC: 0.45046296296296295, Valid Pearson: 0.44794788418640974\n",
      "* Classification Report:\n",
      "              precision    recall  f1-score   support\n",
      "\n",
      "       moved       0.54      0.32      0.40       365\n",
      "       angry       0.47      0.97      0.63       837\n",
      "       funny       0.75      0.01      0.02       530\n",
      "         sad       0.17      0.11      0.13       292\n",
      "       novel       0.00      0.00      0.00        34\n",
      "     shocked       0.00      0.00      0.00        90\n",
      "\n",
      "    accuracy                           0.45      2148\n",
      "   macro avg       0.32      0.24      0.20      2148\n",
      "weighted avg       0.48      0.45      0.34      2148\n",
      "\n"
     ]
    },
    {
     "name": "stderr",
     "output_type": "stream",
     "text": [
      "Epoch 7 train: 100%|█████████████████████████| 195/195 [01:04<00:00,  3.02it/s, acc=0.6, loss=0.994]\n"
     ]
    },
    {
     "name": "stdout",
     "output_type": "stream",
     "text": [
      "\tTrain ACC: 0.5146153846153846, Train Pearson: 0.5056452044438968\n"
     ]
    },
    {
     "name": "stderr",
     "output_type": "stream",
     "text": [
      "Epoch 7 valid: 100%|█████████████████████████| 135/135 [00:17<00:00,  7.76it/s, acc=0.25, loss=1.64]\n",
      "/home/lijianhang/anaconda3/envs/LLM/lib/python3.11/site-packages/sklearn/metrics/_classification.py:1565: UndefinedMetricWarning: Precision is ill-defined and being set to 0.0 in labels with no predicted samples. Use `zero_division` parameter to control this behavior.\n",
      "  _warn_prf(average, modifier, f\"{metric.capitalize()} is\", len(result))\n",
      "/home/lijianhang/anaconda3/envs/LLM/lib/python3.11/site-packages/sklearn/metrics/_classification.py:1565: UndefinedMetricWarning: Precision is ill-defined and being set to 0.0 in labels with no predicted samples. Use `zero_division` parameter to control this behavior.\n",
      "  _warn_prf(average, modifier, f\"{metric.capitalize()} is\", len(result))\n",
      "/home/lijianhang/anaconda3/envs/LLM/lib/python3.11/site-packages/sklearn/metrics/_classification.py:1565: UndefinedMetricWarning: Precision is ill-defined and being set to 0.0 in labels with no predicted samples. Use `zero_division` parameter to control this behavior.\n",
      "  _warn_prf(average, modifier, f\"{metric.capitalize()} is\", len(result))\n"
     ]
    },
    {
     "name": "stdout",
     "output_type": "stream",
     "text": [
      "\tValid ACC: 0.4583333333333333, Valid Pearson: 0.47634363486488396\n",
      "* Classification Report:\n",
      "              precision    recall  f1-score   support\n",
      "\n",
      "       moved       0.60      0.22      0.32       365\n",
      "       angry       0.57      0.82      0.68       837\n",
      "       funny       0.26      0.38      0.31       530\n",
      "         sad       0.58      0.05      0.09       292\n",
      "       novel       0.00      0.00      0.00        34\n",
      "     shocked       0.00      0.00      0.00        90\n",
      "\n",
      "    accuracy                           0.46      2148\n",
      "   macro avg       0.33      0.25      0.23      2148\n",
      "weighted avg       0.47      0.46      0.41      2148\n",
      "\n"
     ]
    },
    {
     "name": "stderr",
     "output_type": "stream",
     "text": [
      "Epoch 8 train: 100%|█████████████████████████| 195/195 [01:05<00:00,  2.99it/s, acc=0.6, loss=0.897]\n"
     ]
    },
    {
     "name": "stdout",
     "output_type": "stream",
     "text": [
      "\tTrain ACC: 0.6017948717948718, Train Pearson: 0.5667000226652347\n"
     ]
    },
    {
     "name": "stderr",
     "output_type": "stream",
     "text": [
      "Epoch 8 valid: 100%|█████████████████████████| 135/135 [00:17<00:00,  7.75it/s, acc=0.5, loss=0.868]\n",
      "/home/lijianhang/anaconda3/envs/LLM/lib/python3.11/site-packages/sklearn/metrics/_classification.py:1565: UndefinedMetricWarning: Precision is ill-defined and being set to 0.0 in labels with no predicted samples. Use `zero_division` parameter to control this behavior.\n",
      "  _warn_prf(average, modifier, f\"{metric.capitalize()} is\", len(result))\n",
      "/home/lijianhang/anaconda3/envs/LLM/lib/python3.11/site-packages/sklearn/metrics/_classification.py:1565: UndefinedMetricWarning: Precision is ill-defined and being set to 0.0 in labels with no predicted samples. Use `zero_division` parameter to control this behavior.\n",
      "  _warn_prf(average, modifier, f\"{metric.capitalize()} is\", len(result))\n",
      "/home/lijianhang/anaconda3/envs/LLM/lib/python3.11/site-packages/sklearn/metrics/_classification.py:1565: UndefinedMetricWarning: Precision is ill-defined and being set to 0.0 in labels with no predicted samples. Use `zero_division` parameter to control this behavior.\n",
      "  _warn_prf(average, modifier, f\"{metric.capitalize()} is\", len(result))\n"
     ]
    },
    {
     "name": "stdout",
     "output_type": "stream",
     "text": [
      "\tValid ACC: 0.5319444444444444, Valid Pearson: 0.537301819935164\n",
      "* Classification Report:\n",
      "              precision    recall  f1-score   support\n",
      "\n",
      "       moved       0.55      0.31      0.40       365\n",
      "       angry       0.63      0.79      0.70       837\n",
      "       funny       0.58      0.40      0.48       530\n",
      "         sad       0.30      0.52      0.38       292\n",
      "       novel       0.00      0.00      0.00        34\n",
      "     shocked       0.00      0.00      0.00        90\n",
      "\n",
      "    accuracy                           0.53      2148\n",
      "   macro avg       0.34      0.34      0.33      2148\n",
      "weighted avg       0.52      0.53      0.51      2148\n",
      "\n"
     ]
    },
    {
     "name": "stderr",
     "output_type": "stream",
     "text": [
      "Epoch 9 train: 100%|█████████████████████████| 195/195 [01:04<00:00,  3.03it/s, acc=0.6, loss=0.903]\n"
     ]
    },
    {
     "name": "stdout",
     "output_type": "stream",
     "text": [
      "\tTrain ACC: 0.6559615384615385, Train Pearson: 0.6101288925548788\n"
     ]
    },
    {
     "name": "stderr",
     "output_type": "stream",
     "text": [
      "Epoch 9 valid: 100%|██████████████████████████| 135/135 [00:18<00:00,  7.48it/s, acc=0.5, loss=1.65]\n",
      "/home/lijianhang/anaconda3/envs/LLM/lib/python3.11/site-packages/sklearn/metrics/_classification.py:1565: UndefinedMetricWarning: Precision is ill-defined and being set to 0.0 in labels with no predicted samples. Use `zero_division` parameter to control this behavior.\n",
      "  _warn_prf(average, modifier, f\"{metric.capitalize()} is\", len(result))\n",
      "/home/lijianhang/anaconda3/envs/LLM/lib/python3.11/site-packages/sklearn/metrics/_classification.py:1565: UndefinedMetricWarning: Precision is ill-defined and being set to 0.0 in labels with no predicted samples. Use `zero_division` parameter to control this behavior.\n",
      "  _warn_prf(average, modifier, f\"{metric.capitalize()} is\", len(result))\n",
      "/home/lijianhang/anaconda3/envs/LLM/lib/python3.11/site-packages/sklearn/metrics/_classification.py:1565: UndefinedMetricWarning: Precision is ill-defined and being set to 0.0 in labels with no predicted samples. Use `zero_division` parameter to control this behavior.\n",
      "  _warn_prf(average, modifier, f\"{metric.capitalize()} is\", len(result))\n"
     ]
    },
    {
     "name": "stdout",
     "output_type": "stream",
     "text": [
      "\tValid ACC: 0.5287037037037037, Valid Pearson: 0.5416599937752086\n",
      "* Classification Report:\n",
      "              precision    recall  f1-score   support\n",
      "\n",
      "       moved       0.61      0.37      0.46       365\n",
      "       angry       0.66      0.66      0.66       837\n",
      "       funny       0.39      0.66      0.49       530\n",
      "         sad       0.53      0.33      0.40       292\n",
      "       novel       0.00      0.00      0.00        34\n",
      "     shocked       0.00      0.00      0.00        90\n",
      "\n",
      "    accuracy                           0.53      2148\n",
      "   macro avg       0.36      0.34      0.33      2148\n",
      "weighted avg       0.53      0.53      0.51      2148\n",
      "\n"
     ]
    },
    {
     "name": "stderr",
     "output_type": "stream",
     "text": [
      "Epoch 10 train: 100%|█████████████████████████| 195/195 [01:04<00:00,  3.03it/s, acc=0.8, loss=1.12]\n"
     ]
    },
    {
     "name": "stdout",
     "output_type": "stream",
     "text": [
      "\tTrain ACC: 0.7367948717948719, Train Pearson: 0.6633508969020134\n"
     ]
    },
    {
     "name": "stderr",
     "output_type": "stream",
     "text": [
      "Epoch 10 valid: 100%|█████████████████████████| 135/135 [00:18<00:00,  7.45it/s, acc=0.5, loss=1.93]\n",
      "/home/lijianhang/anaconda3/envs/LLM/lib/python3.11/site-packages/sklearn/metrics/_classification.py:1565: UndefinedMetricWarning: Precision is ill-defined and being set to 0.0 in labels with no predicted samples. Use `zero_division` parameter to control this behavior.\n",
      "  _warn_prf(average, modifier, f\"{metric.capitalize()} is\", len(result))\n",
      "/home/lijianhang/anaconda3/envs/LLM/lib/python3.11/site-packages/sklearn/metrics/_classification.py:1565: UndefinedMetricWarning: Precision is ill-defined and being set to 0.0 in labels with no predicted samples. Use `zero_division` parameter to control this behavior.\n",
      "  _warn_prf(average, modifier, f\"{metric.capitalize()} is\", len(result))\n",
      "/home/lijianhang/anaconda3/envs/LLM/lib/python3.11/site-packages/sklearn/metrics/_classification.py:1565: UndefinedMetricWarning: Precision is ill-defined and being set to 0.0 in labels with no predicted samples. Use `zero_division` parameter to control this behavior.\n",
      "  _warn_prf(average, modifier, f\"{metric.capitalize()} is\", len(result))\n"
     ]
    },
    {
     "name": "stdout",
     "output_type": "stream",
     "text": [
      "\tValid ACC: 0.49398148148148147, Valid Pearson: 0.49840304834184457\n",
      "* Classification Report:\n",
      "              precision    recall  f1-score   support\n",
      "\n",
      "       moved       0.53      0.52      0.52       365\n",
      "       angry       0.77      0.40      0.53       837\n",
      "       funny       0.37      0.80      0.51       530\n",
      "         sad       0.53      0.35      0.42       292\n",
      "       novel       0.14      0.06      0.08        34\n",
      "     shocked       0.00      0.00      0.00        90\n",
      "\n",
      "    accuracy                           0.49      2148\n",
      "   macro avg       0.39      0.36      0.34      2148\n",
      "weighted avg       0.56      0.49      0.48      2148\n",
      "\n"
     ]
    },
    {
     "name": "stderr",
     "output_type": "stream",
     "text": [
      "Epoch 11 train: 100%|████████████████████████| 195/195 [01:04<00:00,  3.03it/s, acc=0.6, loss=0.829]\n"
     ]
    },
    {
     "name": "stdout",
     "output_type": "stream",
     "text": [
      "\tTrain ACC: 0.7976282051282051, Train Pearson: 0.7124111162681596\n"
     ]
    },
    {
     "name": "stderr",
     "output_type": "stream",
     "text": [
      "Epoch 11 valid: 100%|████████████████████████| 135/135 [00:17<00:00,  7.76it/s, acc=0.25, loss=2.89]\n",
      "/home/lijianhang/anaconda3/envs/LLM/lib/python3.11/site-packages/sklearn/metrics/_classification.py:1565: UndefinedMetricWarning: Precision is ill-defined and being set to 0.0 in labels with no predicted samples. Use `zero_division` parameter to control this behavior.\n",
      "  _warn_prf(average, modifier, f\"{metric.capitalize()} is\", len(result))\n",
      "/home/lijianhang/anaconda3/envs/LLM/lib/python3.11/site-packages/sklearn/metrics/_classification.py:1565: UndefinedMetricWarning: Precision is ill-defined and being set to 0.0 in labels with no predicted samples. Use `zero_division` parameter to control this behavior.\n",
      "  _warn_prf(average, modifier, f\"{metric.capitalize()} is\", len(result))\n",
      "/home/lijianhang/anaconda3/envs/LLM/lib/python3.11/site-packages/sklearn/metrics/_classification.py:1565: UndefinedMetricWarning: Precision is ill-defined and being set to 0.0 in labels with no predicted samples. Use `zero_division` parameter to control this behavior.\n",
      "  _warn_prf(average, modifier, f\"{metric.capitalize()} is\", len(result))\n"
     ]
    },
    {
     "name": "stdout",
     "output_type": "stream",
     "text": [
      "\tValid ACC: 0.5300925925925926, Valid Pearson: 0.5509957853928467\n",
      "* Classification Report:\n",
      "              precision    recall  f1-score   support\n",
      "\n",
      "       moved       0.64      0.26      0.37       365\n",
      "       angry       0.62      0.68      0.65       837\n",
      "       funny       0.43      0.69      0.53       530\n",
      "         sad       0.50      0.35      0.41       292\n",
      "       novel       0.00      0.00      0.00        34\n",
      "     shocked       0.17      0.06      0.08        90\n",
      "\n",
      "    accuracy                           0.53      2148\n",
      "   macro avg       0.39      0.34      0.34      2148\n",
      "weighted avg       0.53      0.53      0.51      2148\n",
      "\n"
     ]
    },
    {
     "name": "stderr",
     "output_type": "stream",
     "text": [
      "Epoch 12 train: 100%|█████████████████████████| 195/195 [01:04<00:00,  3.00it/s, acc=0.8, loss=1.23]\n"
     ]
    },
    {
     "name": "stdout",
     "output_type": "stream",
     "text": [
      "\tTrain ACC: 0.8294230769230769, Train Pearson: 0.7307708949125822\n"
     ]
    },
    {
     "name": "stderr",
     "output_type": "stream",
     "text": [
      "Epoch 12 valid: 100%|████████████████████████| 135/135 [00:17<00:00,  7.77it/s, acc=0.25, loss=3.42]\n",
      "/home/lijianhang/anaconda3/envs/LLM/lib/python3.11/site-packages/sklearn/metrics/_classification.py:1565: UndefinedMetricWarning: Precision is ill-defined and being set to 0.0 in labels with no predicted samples. Use `zero_division` parameter to control this behavior.\n",
      "  _warn_prf(average, modifier, f\"{metric.capitalize()} is\", len(result))\n",
      "/home/lijianhang/anaconda3/envs/LLM/lib/python3.11/site-packages/sklearn/metrics/_classification.py:1565: UndefinedMetricWarning: Precision is ill-defined and being set to 0.0 in labels with no predicted samples. Use `zero_division` parameter to control this behavior.\n",
      "  _warn_prf(average, modifier, f\"{metric.capitalize()} is\", len(result))\n",
      "/home/lijianhang/anaconda3/envs/LLM/lib/python3.11/site-packages/sklearn/metrics/_classification.py:1565: UndefinedMetricWarning: Precision is ill-defined and being set to 0.0 in labels with no predicted samples. Use `zero_division` parameter to control this behavior.\n",
      "  _warn_prf(average, modifier, f\"{metric.capitalize()} is\", len(result))\n"
     ]
    },
    {
     "name": "stdout",
     "output_type": "stream",
     "text": [
      "\tValid ACC: 0.5018518518518519, Valid Pearson: 0.5326306741951015\n",
      "* Classification Report:\n",
      "              precision    recall  f1-score   support\n",
      "\n",
      "       moved       0.65      0.22      0.33       365\n",
      "       angry       0.64      0.63      0.64       837\n",
      "       funny       0.40      0.69      0.50       530\n",
      "         sad       0.47      0.32      0.38       292\n",
      "       novel       0.00      0.00      0.00        34\n",
      "     shocked       0.11      0.09      0.10        90\n",
      "\n",
      "    accuracy                           0.50      2148\n",
      "   macro avg       0.38      0.32      0.32      2148\n",
      "weighted avg       0.52      0.50      0.48      2148\n",
      "\n"
     ]
    },
    {
     "name": "stderr",
     "output_type": "stream",
     "text": [
      "Epoch 13 train: 100%|██████████████████████████| 195/195 [01:04<00:00,  3.03it/s, acc=0.2, loss=2.6]\n"
     ]
    },
    {
     "name": "stdout",
     "output_type": "stream",
     "text": [
      "\tTrain ACC: 0.8583974358974359, Train Pearson: 0.7570418052205954\n"
     ]
    },
    {
     "name": "stderr",
     "output_type": "stream",
     "text": [
      "Epoch 13 valid: 100%|█████████████████████████| 135/135 [00:18<00:00,  7.46it/s, acc=0.5, loss=2.18]\n"
     ]
    },
    {
     "name": "stdout",
     "output_type": "stream",
     "text": [
      "\tValid ACC: 0.5388888888888889, Valid Pearson: 0.5455446778906556\n",
      "* Classification Report:\n",
      "              precision    recall  f1-score   support\n",
      "\n",
      "       moved       0.61      0.25      0.35       365\n",
      "       angry       0.63      0.76      0.69       837\n",
      "       funny       0.51      0.52      0.51       530\n",
      "         sad       0.37      0.51      0.43       292\n",
      "       novel       0.12      0.03      0.05        34\n",
      "     shocked       0.13      0.08      0.10        90\n",
      "\n",
      "    accuracy                           0.54      2148\n",
      "   macro avg       0.40      0.36      0.36      2148\n",
      "weighted avg       0.53      0.54      0.52      2148\n",
      "\n"
     ]
    },
    {
     "name": "stderr",
     "output_type": "stream",
     "text": [
      "Epoch 14 train: 100%|██████████████████████████| 195/195 [01:04<00:00,  3.03it/s, acc=1, loss=0.087]\n"
     ]
    },
    {
     "name": "stdout",
     "output_type": "stream",
     "text": [
      "\tTrain ACC: 0.8695512820512821, Train Pearson: 0.7583688680731163\n"
     ]
    },
    {
     "name": "stderr",
     "output_type": "stream",
     "text": [
      "Epoch 14 valid: 100%|████████████████████████| 135/135 [00:18<00:00,  7.44it/s, acc=0.75, loss=1.44]\n",
      "/home/lijianhang/anaconda3/envs/LLM/lib/python3.11/site-packages/sklearn/metrics/_classification.py:1565: UndefinedMetricWarning: Precision is ill-defined and being set to 0.0 in labels with no predicted samples. Use `zero_division` parameter to control this behavior.\n",
      "  _warn_prf(average, modifier, f\"{metric.capitalize()} is\", len(result))\n",
      "/home/lijianhang/anaconda3/envs/LLM/lib/python3.11/site-packages/sklearn/metrics/_classification.py:1565: UndefinedMetricWarning: Precision is ill-defined and being set to 0.0 in labels with no predicted samples. Use `zero_division` parameter to control this behavior.\n",
      "  _warn_prf(average, modifier, f\"{metric.capitalize()} is\", len(result))\n",
      "/home/lijianhang/anaconda3/envs/LLM/lib/python3.11/site-packages/sklearn/metrics/_classification.py:1565: UndefinedMetricWarning: Precision is ill-defined and being set to 0.0 in labels with no predicted samples. Use `zero_division` parameter to control this behavior.\n",
      "  _warn_prf(average, modifier, f\"{metric.capitalize()} is\", len(result))\n"
     ]
    },
    {
     "name": "stdout",
     "output_type": "stream",
     "text": [
      "\tValid ACC: 0.5078703703703704, Valid Pearson: 0.5132580269914037\n",
      "* Classification Report:\n",
      "              precision    recall  f1-score   support\n",
      "\n",
      "       moved       0.56      0.31      0.40       365\n",
      "       angry       0.68      0.58      0.63       837\n",
      "       funny       0.48      0.54      0.51       530\n",
      "         sad       0.33      0.66      0.44       292\n",
      "       novel       0.00      0.00      0.00        34\n",
      "     shocked       0.11      0.07      0.08        90\n",
      "\n",
      "    accuracy                           0.50      2148\n",
      "   macro avg       0.36      0.36      0.34      2148\n",
      "weighted avg       0.53      0.50      0.50      2148\n",
      "\n"
     ]
    },
    {
     "name": "stderr",
     "output_type": "stream",
     "text": [
      "Epoch 15 train: 100%|█████████████████████████| 195/195 [01:04<00:00,  3.02it/s, acc=1, loss=0.0756]\n"
     ]
    },
    {
     "name": "stdout",
     "output_type": "stream",
     "text": [
      "\tTrain ACC: 0.9166666666666666, Train Pearson: 0.7974814632517806\n"
     ]
    },
    {
     "name": "stderr",
     "output_type": "stream",
     "text": [
      "Epoch 15 valid: 100%|████████████████████████| 135/135 [00:17<00:00,  7.75it/s, acc=0.75, loss=1.94]\n"
     ]
    },
    {
     "name": "stdout",
     "output_type": "stream",
     "text": [
      "\tValid ACC: 0.5106481481481482, Valid Pearson: 0.5277057800071763\n",
      "* Classification Report:\n",
      "              precision    recall  f1-score   support\n",
      "\n",
      "       moved       0.52      0.33      0.41       365\n",
      "       angry       0.66      0.64      0.65       837\n",
      "       funny       0.51      0.52      0.51       530\n",
      "         sad       0.32      0.53      0.40       292\n",
      "       novel       0.09      0.03      0.04        34\n",
      "     shocked       0.05      0.04      0.05        90\n",
      "\n",
      "    accuracy                           0.51      2148\n",
      "   macro avg       0.36      0.35      0.34      2148\n",
      "weighted avg       0.52      0.51      0.51      2148\n",
      "\n"
     ]
    },
    {
     "name": "stderr",
     "output_type": "stream",
     "text": [
      "Epoch 16 train: 100%|█████████████████████████| 195/195 [01:05<00:00,  2.99it/s, acc=1, loss=0.0768]\n"
     ]
    },
    {
     "name": "stdout",
     "output_type": "stream",
     "text": [
      "\tTrain ACC: 0.9278846153846154, Train Pearson: 0.8064124787472468\n"
     ]
    },
    {
     "name": "stderr",
     "output_type": "stream",
     "text": [
      "Epoch 16 valid: 100%|█████████████████████████| 135/135 [00:17<00:00,  7.74it/s, acc=0.5, loss=2.06]\n"
     ]
    },
    {
     "name": "stdout",
     "output_type": "stream",
     "text": [
      "\tValid ACC: 0.5087962962962963, Valid Pearson: 0.5264253462226287\n",
      "* Classification Report:\n",
      "              precision    recall  f1-score   support\n",
      "\n",
      "       moved       0.59      0.26      0.36       365\n",
      "       angry       0.64      0.67      0.65       837\n",
      "       funny       0.48      0.53      0.50       530\n",
      "         sad       0.39      0.49      0.44       292\n",
      "       novel       0.00      0.00      0.00        34\n",
      "     shocked       0.09      0.16      0.11        90\n",
      "\n",
      "    accuracy                           0.51      2148\n",
      "   macro avg       0.37      0.35      0.34      2148\n",
      "weighted avg       0.53      0.51      0.50      2148\n",
      "\n"
     ]
    },
    {
     "name": "stderr",
     "output_type": "stream",
     "text": [
      "Epoch 17 train: 100%|██████████████████████████| 195/195 [01:04<00:00,  3.02it/s, acc=1, loss=0.166]\n"
     ]
    },
    {
     "name": "stdout",
     "output_type": "stream",
     "text": [
      "\tTrain ACC: 0.9400641025641026, Train Pearson: 0.8190795225926857\n"
     ]
    },
    {
     "name": "stderr",
     "output_type": "stream",
     "text": [
      "Epoch 17 valid: 100%|████████████████████████| 135/135 [00:18<00:00,  7.48it/s, acc=0.75, loss=1.99]\n"
     ]
    },
    {
     "name": "stdout",
     "output_type": "stream",
     "text": [
      "\tValid ACC: 0.5027777777777778, Valid Pearson: 0.5080890390556947\n",
      "* Classification Report:\n",
      "              precision    recall  f1-score   support\n",
      "\n",
      "       moved       0.52      0.47      0.49       365\n",
      "       angry       0.65      0.63      0.64       837\n",
      "       funny       0.44      0.48      0.46       530\n",
      "         sad       0.40      0.39      0.40       292\n",
      "       novel       0.00      0.00      0.00        34\n",
      "     shocked       0.07      0.10      0.08        90\n",
      "\n",
      "    accuracy                           0.50      2148\n",
      "   macro avg       0.35      0.34      0.34      2148\n",
      "weighted avg       0.51      0.50      0.50      2148\n",
      "\n"
     ]
    },
    {
     "name": "stderr",
     "output_type": "stream",
     "text": [
      "Epoch 18 train: 100%|████████████████████████| 195/195 [01:04<00:00,  3.03it/s, acc=0.8, loss=0.538]\n"
     ]
    },
    {
     "name": "stdout",
     "output_type": "stream",
     "text": [
      "\tTrain ACC: 0.9358333333333334, Train Pearson: 0.8194003964611737\n"
     ]
    },
    {
     "name": "stderr",
     "output_type": "stream",
     "text": [
      "Epoch 18 valid: 100%|█████████████████████████| 135/135 [00:18<00:00,  7.49it/s, acc=0.5, loss=2.47]\n"
     ]
    },
    {
     "name": "stdout",
     "output_type": "stream",
     "text": [
      "\tValid ACC: 0.5175925925925926, Valid Pearson: 0.5354623675750978\n",
      "* Classification Report:\n",
      "              precision    recall  f1-score   support\n",
      "\n",
      "       moved       0.58      0.42      0.49       365\n",
      "       angry       0.62      0.71      0.66       837\n",
      "       funny       0.48      0.42      0.45       530\n",
      "         sad       0.37      0.42      0.39       292\n",
      "       novel       0.11      0.03      0.05        34\n",
      "     shocked       0.10      0.12      0.11        90\n",
      "\n",
      "    accuracy                           0.52      2148\n",
      "   macro avg       0.38      0.36      0.36      2148\n",
      "weighted avg       0.51      0.52      0.51      2148\n",
      "\n"
     ]
    },
    {
     "name": "stderr",
     "output_type": "stream",
     "text": [
      "Epoch 19 train: 100%|█████████████████████████| 195/195 [01:04<00:00,  3.03it/s, acc=1, loss=0.0461]\n"
     ]
    },
    {
     "name": "stdout",
     "output_type": "stream",
     "text": [
      "\tTrain ACC: 0.9570512820512821, Train Pearson: 0.8302267651075149\n"
     ]
    },
    {
     "name": "stderr",
     "output_type": "stream",
     "text": [
      "Epoch 19 valid: 100%|█████████████████████████| 135/135 [00:17<00:00,  7.76it/s, acc=0.5, loss=2.83]\n"
     ]
    },
    {
     "name": "stdout",
     "output_type": "stream",
     "text": [
      "\tValid ACC: 0.5097222222222222, Valid Pearson: 0.5262005953508887\n",
      "* Classification Report:\n",
      "              precision    recall  f1-score   support\n",
      "\n",
      "       moved       0.61      0.30      0.41       365\n",
      "       angry       0.62      0.73      0.67       837\n",
      "       funny       0.49      0.42      0.45       530\n",
      "         sad       0.35      0.47      0.40       292\n",
      "       novel       0.06      0.03      0.04        34\n",
      "     shocked       0.09      0.12      0.10        90\n",
      "\n",
      "    accuracy                           0.51      2148\n",
      "   macro avg       0.37      0.35      0.35      2148\n",
      "weighted avg       0.52      0.51      0.50      2148\n",
      "\n",
      "loading data from: data/train.json\n"
     ]
    },
    {
     "name": "stderr",
     "output_type": "stream",
     "text": [
      "100%|██████████| 3109/3109 [00:09<00:00, 325.13it/s]\n"
     ]
    },
    {
     "name": "stdout",
     "output_type": "stream",
     "text": [
      "loading data from: data/test.json\n"
     ]
    },
    {
     "name": "stderr",
     "output_type": "stream",
     "text": [
      "100%|██████████| 2148/2148 [00:07<00:00, 303.39it/s]\n",
      "Epoch 0 train: 100%|██████████████████████████| 195/195 [01:05<00:00,  2.96it/s, acc=0.4, loss=1.45]\n"
     ]
    },
    {
     "name": "stdout",
     "output_type": "stream",
     "text": [
      "\tTrain ACC: 0.3337820512820513, Train Pearson: 0.32084965489149175\n"
     ]
    },
    {
     "name": "stderr",
     "output_type": "stream",
     "text": [
      "Epoch 0 valid: 100%|████████████████████████████| 135/135 [00:17<00:00,  7.83it/s, acc=0, loss=1.85]\n",
      "/home/lijianhang/anaconda3/envs/LLM/lib/python3.11/site-packages/sklearn/metrics/_classification.py:1565: UndefinedMetricWarning: Precision is ill-defined and being set to 0.0 in labels with no predicted samples. Use `zero_division` parameter to control this behavior.\n",
      "  _warn_prf(average, modifier, f\"{metric.capitalize()} is\", len(result))\n",
      "/home/lijianhang/anaconda3/envs/LLM/lib/python3.11/site-packages/sklearn/metrics/_classification.py:1565: UndefinedMetricWarning: Precision is ill-defined and being set to 0.0 in labels with no predicted samples. Use `zero_division` parameter to control this behavior.\n",
      "  _warn_prf(average, modifier, f\"{metric.capitalize()} is\", len(result))\n",
      "/home/lijianhang/anaconda3/envs/LLM/lib/python3.11/site-packages/sklearn/metrics/_classification.py:1565: UndefinedMetricWarning: Precision is ill-defined and being set to 0.0 in labels with no predicted samples. Use `zero_division` parameter to control this behavior.\n",
      "  _warn_prf(average, modifier, f\"{metric.capitalize()} is\", len(result))\n"
     ]
    },
    {
     "name": "stdout",
     "output_type": "stream",
     "text": [
      "\tValid ACC: 0.3875, Valid Pearson: 0.3646827452469025\n",
      "* Classification Report:\n",
      "              precision    recall  f1-score   support\n",
      "\n",
      "       moved       0.00      0.00      0.00       365\n",
      "       angry       0.39      1.00      0.56       837\n",
      "       funny       0.00      0.00      0.00       530\n",
      "         sad       0.00      0.00      0.00       292\n",
      "       novel       0.00      0.00      0.00        34\n",
      "     shocked       0.00      0.00      0.00        90\n",
      "\n",
      "    accuracy                           0.39      2148\n",
      "   macro avg       0.06      0.17      0.09      2148\n",
      "weighted avg       0.15      0.39      0.22      2148\n",
      "\n"
     ]
    },
    {
     "name": "stderr",
     "output_type": "stream",
     "text": [
      "Epoch 1 train: 100%|██████████████████████████| 195/195 [01:04<00:00,  3.02it/s, acc=0.4, loss=1.34]\n"
     ]
    },
    {
     "name": "stdout",
     "output_type": "stream",
     "text": [
      "\tTrain ACC: 0.3536538461538462, Train Pearson: 0.3247356387311812\n"
     ]
    },
    {
     "name": "stderr",
     "output_type": "stream",
     "text": [
      "Epoch 1 valid: 100%|████████████████████████████| 135/135 [00:18<00:00,  7.34it/s, acc=0, loss=1.88]\n",
      "/home/lijianhang/anaconda3/envs/LLM/lib/python3.11/site-packages/sklearn/metrics/_classification.py:1565: UndefinedMetricWarning: Precision is ill-defined and being set to 0.0 in labels with no predicted samples. Use `zero_division` parameter to control this behavior.\n",
      "  _warn_prf(average, modifier, f\"{metric.capitalize()} is\", len(result))\n",
      "/home/lijianhang/anaconda3/envs/LLM/lib/python3.11/site-packages/sklearn/metrics/_classification.py:1565: UndefinedMetricWarning: Precision is ill-defined and being set to 0.0 in labels with no predicted samples. Use `zero_division` parameter to control this behavior.\n",
      "  _warn_prf(average, modifier, f\"{metric.capitalize()} is\", len(result))\n",
      "/home/lijianhang/anaconda3/envs/LLM/lib/python3.11/site-packages/sklearn/metrics/_classification.py:1565: UndefinedMetricWarning: Precision is ill-defined and being set to 0.0 in labels with no predicted samples. Use `zero_division` parameter to control this behavior.\n",
      "  _warn_prf(average, modifier, f\"{metric.capitalize()} is\", len(result))\n"
     ]
    },
    {
     "name": "stdout",
     "output_type": "stream",
     "text": [
      "\tValid ACC: 0.3875, Valid Pearson: 0.34174904171129433\n",
      "* Classification Report:\n",
      "              precision    recall  f1-score   support\n",
      "\n",
      "       moved       0.00      0.00      0.00       365\n",
      "       angry       0.39      1.00      0.56       837\n",
      "       funny       0.00      0.00      0.00       530\n",
      "         sad       0.00      0.00      0.00       292\n",
      "       novel       0.00      0.00      0.00        34\n",
      "     shocked       0.00      0.00      0.00        90\n",
      "\n",
      "    accuracy                           0.39      2148\n",
      "   macro avg       0.06      0.17      0.09      2148\n",
      "weighted avg       0.15      0.39      0.22      2148\n",
      "\n"
     ]
    },
    {
     "name": "stderr",
     "output_type": "stream",
     "text": [
      "Epoch 2 train: 100%|██████████████████████████| 195/195 [01:04<00:00,  3.00it/s, acc=0.8, loss=1.07]\n"
     ]
    },
    {
     "name": "stdout",
     "output_type": "stream",
     "text": [
      "\tTrain ACC: 0.34128205128205125, Train Pearson: 0.3250176574536731\n"
     ]
    },
    {
     "name": "stderr",
     "output_type": "stream",
     "text": [
      "Epoch 2 valid: 100%|████████████████████████████| 135/135 [00:18<00:00,  7.42it/s, acc=0, loss=1.88]\n",
      "/home/lijianhang/anaconda3/envs/LLM/lib/python3.11/site-packages/sklearn/metrics/_classification.py:1565: UndefinedMetricWarning: Precision is ill-defined and being set to 0.0 in labels with no predicted samples. Use `zero_division` parameter to control this behavior.\n",
      "  _warn_prf(average, modifier, f\"{metric.capitalize()} is\", len(result))\n",
      "/home/lijianhang/anaconda3/envs/LLM/lib/python3.11/site-packages/sklearn/metrics/_classification.py:1565: UndefinedMetricWarning: Precision is ill-defined and being set to 0.0 in labels with no predicted samples. Use `zero_division` parameter to control this behavior.\n",
      "  _warn_prf(average, modifier, f\"{metric.capitalize()} is\", len(result))\n",
      "/home/lijianhang/anaconda3/envs/LLM/lib/python3.11/site-packages/sklearn/metrics/_classification.py:1565: UndefinedMetricWarning: Precision is ill-defined and being set to 0.0 in labels with no predicted samples. Use `zero_division` parameter to control this behavior.\n",
      "  _warn_prf(average, modifier, f\"{metric.capitalize()} is\", len(result))\n"
     ]
    },
    {
     "name": "stdout",
     "output_type": "stream",
     "text": [
      "\tValid ACC: 0.3875, Valid Pearson: 0.3507842063481278\n",
      "* Classification Report:\n",
      "              precision    recall  f1-score   support\n",
      "\n",
      "       moved       0.00      0.00      0.00       365\n",
      "       angry       0.39      1.00      0.56       837\n",
      "       funny       0.00      0.00      0.00       530\n",
      "         sad       0.00      0.00      0.00       292\n",
      "       novel       0.00      0.00      0.00        34\n",
      "     shocked       0.00      0.00      0.00        90\n",
      "\n",
      "    accuracy                           0.39      2148\n",
      "   macro avg       0.06      0.17      0.09      2148\n",
      "weighted avg       0.15      0.39      0.22      2148\n",
      "\n"
     ]
    },
    {
     "name": "stderr",
     "output_type": "stream",
     "text": [
      "Epoch 3 train: 100%|███████████████████████████| 195/195 [01:04<00:00,  3.01it/s, acc=0.4, loss=1.4]\n"
     ]
    },
    {
     "name": "stdout",
     "output_type": "stream",
     "text": [
      "\tTrain ACC: 0.31487179487179484, Train Pearson: 0.32047756343970607\n"
     ]
    },
    {
     "name": "stderr",
     "output_type": "stream",
     "text": [
      "Epoch 3 valid: 100%|█████████████████████████| 135/135 [00:17<00:00,  7.74it/s, acc=0.25, loss=1.92]\n",
      "/home/lijianhang/anaconda3/envs/LLM/lib/python3.11/site-packages/sklearn/metrics/_classification.py:1565: UndefinedMetricWarning: Precision is ill-defined and being set to 0.0 in labels with no predicted samples. Use `zero_division` parameter to control this behavior.\n",
      "  _warn_prf(average, modifier, f\"{metric.capitalize()} is\", len(result))\n",
      "/home/lijianhang/anaconda3/envs/LLM/lib/python3.11/site-packages/sklearn/metrics/_classification.py:1565: UndefinedMetricWarning: Precision is ill-defined and being set to 0.0 in labels with no predicted samples. Use `zero_division` parameter to control this behavior.\n",
      "  _warn_prf(average, modifier, f\"{metric.capitalize()} is\", len(result))\n",
      "/home/lijianhang/anaconda3/envs/LLM/lib/python3.11/site-packages/sklearn/metrics/_classification.py:1565: UndefinedMetricWarning: Precision is ill-defined and being set to 0.0 in labels with no predicted samples. Use `zero_division` parameter to control this behavior.\n",
      "  _warn_prf(average, modifier, f\"{metric.capitalize()} is\", len(result))\n"
     ]
    },
    {
     "name": "stdout",
     "output_type": "stream",
     "text": [
      "\tValid ACC: 0.24953703703703703, Valid Pearson: 0.36990904024100224\n",
      "* Classification Report:\n",
      "              precision    recall  f1-score   support\n",
      "\n",
      "       moved       0.00      0.00      0.00       365\n",
      "       angry       0.00      0.00      0.00       837\n",
      "       funny       0.25      1.00      0.40       530\n",
      "         sad       0.00      0.00      0.00       292\n",
      "       novel       0.00      0.00      0.00        34\n",
      "     shocked       0.00      0.00      0.00        90\n",
      "\n",
      "    accuracy                           0.25      2148\n",
      "   macro avg       0.04      0.17      0.07      2148\n",
      "weighted avg       0.06      0.25      0.10      2148\n",
      "\n"
     ]
    },
    {
     "name": "stderr",
     "output_type": "stream",
     "text": [
      "Epoch 4 train: 100%|██████████████████████████| 195/195 [01:05<00:00,  2.98it/s, acc=0.2, loss=1.39]\n"
     ]
    },
    {
     "name": "stdout",
     "output_type": "stream",
     "text": [
      "\tTrain ACC: 0.3414102564102564, Train Pearson: 0.32863268081917824\n"
     ]
    },
    {
     "name": "stderr",
     "output_type": "stream",
     "text": [
      "Epoch 4 valid: 100%|████████████████████████████| 135/135 [00:17<00:00,  7.70it/s, acc=0, loss=1.73]\n",
      "/home/lijianhang/anaconda3/envs/LLM/lib/python3.11/site-packages/sklearn/metrics/_classification.py:1565: UndefinedMetricWarning: Precision is ill-defined and being set to 0.0 in labels with no predicted samples. Use `zero_division` parameter to control this behavior.\n",
      "  _warn_prf(average, modifier, f\"{metric.capitalize()} is\", len(result))\n",
      "/home/lijianhang/anaconda3/envs/LLM/lib/python3.11/site-packages/sklearn/metrics/_classification.py:1565: UndefinedMetricWarning: Precision is ill-defined and being set to 0.0 in labels with no predicted samples. Use `zero_division` parameter to control this behavior.\n",
      "  _warn_prf(average, modifier, f\"{metric.capitalize()} is\", len(result))\n",
      "/home/lijianhang/anaconda3/envs/LLM/lib/python3.11/site-packages/sklearn/metrics/_classification.py:1565: UndefinedMetricWarning: Precision is ill-defined and being set to 0.0 in labels with no predicted samples. Use `zero_division` parameter to control this behavior.\n",
      "  _warn_prf(average, modifier, f\"{metric.capitalize()} is\", len(result))\n"
     ]
    },
    {
     "name": "stdout",
     "output_type": "stream",
     "text": [
      "\tValid ACC: 0.3875, Valid Pearson: 0.3306315276756189\n",
      "* Classification Report:\n",
      "              precision    recall  f1-score   support\n",
      "\n",
      "       moved       0.00      0.00      0.00       365\n",
      "       angry       0.39      1.00      0.56       837\n",
      "       funny       0.00      0.00      0.00       530\n",
      "         sad       0.00      0.00      0.00       292\n",
      "       novel       0.00      0.00      0.00        34\n",
      "     shocked       0.00      0.00      0.00        90\n",
      "\n",
      "    accuracy                           0.39      2148\n",
      "   macro avg       0.06      0.17      0.09      2148\n",
      "weighted avg       0.15      0.39      0.22      2148\n",
      "\n"
     ]
    },
    {
     "name": "stderr",
     "output_type": "stream",
     "text": [
      "Epoch 5 train: 100%|██████████████████████████| 195/195 [01:04<00:00,  3.01it/s, acc=0.6, loss=1.26]\n"
     ]
    },
    {
     "name": "stdout",
     "output_type": "stream",
     "text": [
      "\tTrain ACC: 0.3306410256410256, Train Pearson: 0.3278422862776742\n"
     ]
    },
    {
     "name": "stderr",
     "output_type": "stream",
     "text": [
      "Epoch 5 valid: 100%|█████████████████████████| 135/135 [00:18<00:00,  7.41it/s, acc=0.25, loss=1.72]\n",
      "/home/lijianhang/anaconda3/envs/LLM/lib/python3.11/site-packages/sklearn/metrics/_classification.py:1565: UndefinedMetricWarning: Precision is ill-defined and being set to 0.0 in labels with no predicted samples. Use `zero_division` parameter to control this behavior.\n",
      "  _warn_prf(average, modifier, f\"{metric.capitalize()} is\", len(result))\n",
      "/home/lijianhang/anaconda3/envs/LLM/lib/python3.11/site-packages/sklearn/metrics/_classification.py:1565: UndefinedMetricWarning: Precision is ill-defined and being set to 0.0 in labels with no predicted samples. Use `zero_division` parameter to control this behavior.\n",
      "  _warn_prf(average, modifier, f\"{metric.capitalize()} is\", len(result))\n",
      "/home/lijianhang/anaconda3/envs/LLM/lib/python3.11/site-packages/sklearn/metrics/_classification.py:1565: UndefinedMetricWarning: Precision is ill-defined and being set to 0.0 in labels with no predicted samples. Use `zero_division` parameter to control this behavior.\n",
      "  _warn_prf(average, modifier, f\"{metric.capitalize()} is\", len(result))\n"
     ]
    },
    {
     "name": "stdout",
     "output_type": "stream",
     "text": [
      "\tValid ACC: 0.24953703703703703, Valid Pearson: 0.3376462797893291\n",
      "* Classification Report:\n",
      "              precision    recall  f1-score   support\n",
      "\n",
      "       moved       0.00      0.00      0.00       365\n",
      "       angry       0.00      0.00      0.00       837\n",
      "       funny       0.25      1.00      0.40       530\n",
      "         sad       0.00      0.00      0.00       292\n",
      "       novel       0.00      0.00      0.00        34\n",
      "     shocked       0.00      0.00      0.00        90\n",
      "\n",
      "    accuracy                           0.25      2148\n",
      "   macro avg       0.04      0.17      0.07      2148\n",
      "weighted avg       0.06      0.25      0.10      2148\n",
      "\n"
     ]
    },
    {
     "name": "stderr",
     "output_type": "stream",
     "text": [
      "Epoch 6 train: 100%|██████████████████████████| 195/195 [01:04<00:00,  3.01it/s, acc=0.4, loss=1.38]\n"
     ]
    },
    {
     "name": "stdout",
     "output_type": "stream",
     "text": [
      "\tTrain ACC: 0.33666666666666667, Train Pearson: 0.32921093202269963\n"
     ]
    },
    {
     "name": "stderr",
     "output_type": "stream",
     "text": [
      "Epoch 6 valid: 100%|█████████████████████████| 135/135 [00:18<00:00,  7.42it/s, acc=0.25, loss=1.85]\n",
      "/home/lijianhang/anaconda3/envs/LLM/lib/python3.11/site-packages/sklearn/metrics/_classification.py:1565: UndefinedMetricWarning: Precision is ill-defined and being set to 0.0 in labels with no predicted samples. Use `zero_division` parameter to control this behavior.\n",
      "  _warn_prf(average, modifier, f\"{metric.capitalize()} is\", len(result))\n",
      "/home/lijianhang/anaconda3/envs/LLM/lib/python3.11/site-packages/sklearn/metrics/_classification.py:1565: UndefinedMetricWarning: Precision is ill-defined and being set to 0.0 in labels with no predicted samples. Use `zero_division` parameter to control this behavior.\n",
      "  _warn_prf(average, modifier, f\"{metric.capitalize()} is\", len(result))\n",
      "/home/lijianhang/anaconda3/envs/LLM/lib/python3.11/site-packages/sklearn/metrics/_classification.py:1565: UndefinedMetricWarning: Precision is ill-defined and being set to 0.0 in labels with no predicted samples. Use `zero_division` parameter to control this behavior.\n",
      "  _warn_prf(average, modifier, f\"{metric.capitalize()} is\", len(result))\n"
     ]
    },
    {
     "name": "stdout",
     "output_type": "stream",
     "text": [
      "\tValid ACC: 0.24953703703703703, Valid Pearson: 0.3392735166852121\n",
      "* Classification Report:\n",
      "              precision    recall  f1-score   support\n",
      "\n",
      "       moved       0.00      0.00      0.00       365\n",
      "       angry       0.00      0.00      0.00       837\n",
      "       funny       0.25      1.00      0.40       530\n",
      "         sad       0.00      0.00      0.00       292\n",
      "       novel       0.00      0.00      0.00        34\n",
      "     shocked       0.00      0.00      0.00        90\n",
      "\n",
      "    accuracy                           0.25      2148\n",
      "   macro avg       0.04      0.17      0.07      2148\n",
      "weighted avg       0.06      0.25      0.10      2148\n",
      "\n"
     ]
    },
    {
     "name": "stderr",
     "output_type": "stream",
     "text": [
      "Epoch 7 train: 100%|██████████████████████████| 195/195 [01:04<00:00,  3.01it/s, acc=0.2, loss=1.51]\n"
     ]
    },
    {
     "name": "stdout",
     "output_type": "stream",
     "text": [
      "\tTrain ACC: 0.33532051282051284, Train Pearson: 0.3299201065203615\n"
     ]
    },
    {
     "name": "stderr",
     "output_type": "stream",
     "text": [
      "Epoch 7 valid: 100%|████████████████████████████| 135/135 [00:17<00:00,  7.69it/s, acc=0, loss=1.65]\n",
      "/home/lijianhang/anaconda3/envs/LLM/lib/python3.11/site-packages/sklearn/metrics/_classification.py:1565: UndefinedMetricWarning: Precision is ill-defined and being set to 0.0 in labels with no predicted samples. Use `zero_division` parameter to control this behavior.\n",
      "  _warn_prf(average, modifier, f\"{metric.capitalize()} is\", len(result))\n",
      "/home/lijianhang/anaconda3/envs/LLM/lib/python3.11/site-packages/sklearn/metrics/_classification.py:1565: UndefinedMetricWarning: Precision is ill-defined and being set to 0.0 in labels with no predicted samples. Use `zero_division` parameter to control this behavior.\n",
      "  _warn_prf(average, modifier, f\"{metric.capitalize()} is\", len(result))\n",
      "/home/lijianhang/anaconda3/envs/LLM/lib/python3.11/site-packages/sklearn/metrics/_classification.py:1565: UndefinedMetricWarning: Precision is ill-defined and being set to 0.0 in labels with no predicted samples. Use `zero_division` parameter to control this behavior.\n",
      "  _warn_prf(average, modifier, f\"{metric.capitalize()} is\", len(result))\n"
     ]
    },
    {
     "name": "stdout",
     "output_type": "stream",
     "text": [
      "\tValid ACC: 0.3875, Valid Pearson: 0.32530955239722237\n",
      "* Classification Report:\n",
      "              precision    recall  f1-score   support\n",
      "\n",
      "       moved       0.00      0.00      0.00       365\n",
      "       angry       0.39      1.00      0.56       837\n",
      "       funny       0.00      0.00      0.00       530\n",
      "         sad       0.00      0.00      0.00       292\n",
      "       novel       0.00      0.00      0.00        34\n",
      "     shocked       0.00      0.00      0.00        90\n",
      "\n",
      "    accuracy                           0.39      2148\n",
      "   macro avg       0.06      0.17      0.09      2148\n",
      "weighted avg       0.15      0.39      0.22      2148\n",
      "\n"
     ]
    },
    {
     "name": "stderr",
     "output_type": "stream",
     "text": [
      "Epoch 8 train: 100%|██████████████████████████| 195/195 [01:05<00:00,  2.98it/s, acc=0.4, loss=1.22]\n"
     ]
    },
    {
     "name": "stdout",
     "output_type": "stream",
     "text": [
      "\tTrain ACC: 0.3228846153846154, Train Pearson: 0.32314426932949597\n"
     ]
    },
    {
     "name": "stderr",
     "output_type": "stream",
     "text": [
      "Epoch 8 valid: 100%|█████████████████████████| 135/135 [00:17<00:00,  7.70it/s, acc=0.25, loss=1.78]\n",
      "/home/lijianhang/anaconda3/envs/LLM/lib/python3.11/site-packages/sklearn/metrics/_classification.py:1565: UndefinedMetricWarning: Precision is ill-defined and being set to 0.0 in labels with no predicted samples. Use `zero_division` parameter to control this behavior.\n",
      "  _warn_prf(average, modifier, f\"{metric.capitalize()} is\", len(result))\n",
      "/home/lijianhang/anaconda3/envs/LLM/lib/python3.11/site-packages/sklearn/metrics/_classification.py:1565: UndefinedMetricWarning: Precision is ill-defined and being set to 0.0 in labels with no predicted samples. Use `zero_division` parameter to control this behavior.\n",
      "  _warn_prf(average, modifier, f\"{metric.capitalize()} is\", len(result))\n",
      "/home/lijianhang/anaconda3/envs/LLM/lib/python3.11/site-packages/sklearn/metrics/_classification.py:1565: UndefinedMetricWarning: Precision is ill-defined and being set to 0.0 in labels with no predicted samples. Use `zero_division` parameter to control this behavior.\n",
      "  _warn_prf(average, modifier, f\"{metric.capitalize()} is\", len(result))\n"
     ]
    },
    {
     "name": "stdout",
     "output_type": "stream",
     "text": [
      "\tValid ACC: 0.24953703703703703, Valid Pearson: 0.3414944790610659\n",
      "* Classification Report:\n",
      "              precision    recall  f1-score   support\n",
      "\n",
      "       moved       0.00      0.00      0.00       365\n",
      "       angry       0.00      0.00      0.00       837\n",
      "       funny       0.25      1.00      0.40       530\n",
      "         sad       0.00      0.00      0.00       292\n",
      "       novel       0.00      0.00      0.00        34\n",
      "     shocked       0.00      0.00      0.00        90\n",
      "\n",
      "    accuracy                           0.25      2148\n",
      "   macro avg       0.04      0.17      0.07      2148\n",
      "weighted avg       0.06      0.25      0.10      2148\n",
      "\n"
     ]
    },
    {
     "name": "stderr",
     "output_type": "stream",
     "text": [
      "Epoch 9 train: 100%|███████████████████████████| 195/195 [01:04<00:00,  3.01it/s, acc=0.4, loss=1.2]\n"
     ]
    },
    {
     "name": "stdout",
     "output_type": "stream",
     "text": [
      "\tTrain ACC: 0.33891025641025646, Train Pearson: 0.32785173728972994\n"
     ]
    },
    {
     "name": "stderr",
     "output_type": "stream",
     "text": [
      "Epoch 9 valid: 100%|████████████████████████████| 135/135 [00:18<00:00,  7.44it/s, acc=0, loss=1.91]\n",
      "/home/lijianhang/anaconda3/envs/LLM/lib/python3.11/site-packages/sklearn/metrics/_classification.py:1565: UndefinedMetricWarning: Precision is ill-defined and being set to 0.0 in labels with no predicted samples. Use `zero_division` parameter to control this behavior.\n",
      "  _warn_prf(average, modifier, f\"{metric.capitalize()} is\", len(result))\n",
      "/home/lijianhang/anaconda3/envs/LLM/lib/python3.11/site-packages/sklearn/metrics/_classification.py:1565: UndefinedMetricWarning: Precision is ill-defined and being set to 0.0 in labels with no predicted samples. Use `zero_division` parameter to control this behavior.\n",
      "  _warn_prf(average, modifier, f\"{metric.capitalize()} is\", len(result))\n",
      "/home/lijianhang/anaconda3/envs/LLM/lib/python3.11/site-packages/sklearn/metrics/_classification.py:1565: UndefinedMetricWarning: Precision is ill-defined and being set to 0.0 in labels with no predicted samples. Use `zero_division` parameter to control this behavior.\n",
      "  _warn_prf(average, modifier, f\"{metric.capitalize()} is\", len(result))\n"
     ]
    },
    {
     "name": "stdout",
     "output_type": "stream",
     "text": [
      "\tValid ACC: 0.3875, Valid Pearson: 0.3469723367838746\n",
      "* Classification Report:\n",
      "              precision    recall  f1-score   support\n",
      "\n",
      "       moved       0.00      0.00      0.00       365\n",
      "       angry       0.39      1.00      0.56       837\n",
      "       funny       0.00      0.00      0.00       530\n",
      "         sad       0.00      0.00      0.00       292\n",
      "       novel       0.00      0.00      0.00        34\n",
      "     shocked       0.00      0.00      0.00        90\n",
      "\n",
      "    accuracy                           0.39      2148\n",
      "   macro avg       0.06      0.17      0.09      2148\n",
      "weighted avg       0.15      0.39      0.22      2148\n",
      "\n"
     ]
    },
    {
     "name": "stderr",
     "output_type": "stream",
     "text": [
      "Epoch 10 train: 100%|█████████████████████████| 195/195 [01:04<00:00,  3.02it/s, acc=0.2, loss=1.79]\n"
     ]
    },
    {
     "name": "stdout",
     "output_type": "stream",
     "text": [
      "\tTrain ACC: 0.3362820512820513, Train Pearson: 0.3291456633157489\n"
     ]
    },
    {
     "name": "stderr",
     "output_type": "stream",
     "text": [
      "Epoch 10 valid: 100%|████████████████████████| 135/135 [00:18<00:00,  7.42it/s, acc=0.25, loss=1.81]\n",
      "/home/lijianhang/anaconda3/envs/LLM/lib/python3.11/site-packages/sklearn/metrics/_classification.py:1565: UndefinedMetricWarning: Precision is ill-defined and being set to 0.0 in labels with no predicted samples. Use `zero_division` parameter to control this behavior.\n",
      "  _warn_prf(average, modifier, f\"{metric.capitalize()} is\", len(result))\n",
      "/home/lijianhang/anaconda3/envs/LLM/lib/python3.11/site-packages/sklearn/metrics/_classification.py:1565: UndefinedMetricWarning: Precision is ill-defined and being set to 0.0 in labels with no predicted samples. Use `zero_division` parameter to control this behavior.\n",
      "  _warn_prf(average, modifier, f\"{metric.capitalize()} is\", len(result))\n",
      "/home/lijianhang/anaconda3/envs/LLM/lib/python3.11/site-packages/sklearn/metrics/_classification.py:1565: UndefinedMetricWarning: Precision is ill-defined and being set to 0.0 in labels with no predicted samples. Use `zero_division` parameter to control this behavior.\n",
      "  _warn_prf(average, modifier, f\"{metric.capitalize()} is\", len(result))\n"
     ]
    },
    {
     "name": "stdout",
     "output_type": "stream",
     "text": [
      "\tValid ACC: 0.24953703703703703, Valid Pearson: 0.33967389701246536\n",
      "* Classification Report:\n",
      "              precision    recall  f1-score   support\n",
      "\n",
      "       moved       0.00      0.00      0.00       365\n",
      "       angry       0.00      0.00      0.00       837\n",
      "       funny       0.25      1.00      0.40       530\n",
      "         sad       0.00      0.00      0.00       292\n",
      "       novel       0.00      0.00      0.00        34\n",
      "     shocked       0.00      0.00      0.00        90\n",
      "\n",
      "    accuracy                           0.25      2148\n",
      "   macro avg       0.04      0.17      0.07      2148\n",
      "weighted avg       0.06      0.25      0.10      2148\n",
      "\n"
     ]
    },
    {
     "name": "stderr",
     "output_type": "stream",
     "text": [
      "Epoch 11 train: 100%|█████████████████████████| 195/195 [01:04<00:00,  3.02it/s, acc=0.8, loss=1.11]\n"
     ]
    },
    {
     "name": "stdout",
     "output_type": "stream",
     "text": [
      "\tTrain ACC: 0.34673076923076923, Train Pearson: 0.3274413527823141\n"
     ]
    },
    {
     "name": "stderr",
     "output_type": "stream",
     "text": [
      "Epoch 11 valid: 100%|███████████████████████████| 135/135 [00:17<00:00,  7.72it/s, acc=0, loss=1.83]\n",
      "/home/lijianhang/anaconda3/envs/LLM/lib/python3.11/site-packages/sklearn/metrics/_classification.py:1565: UndefinedMetricWarning: Precision is ill-defined and being set to 0.0 in labels with no predicted samples. Use `zero_division` parameter to control this behavior.\n",
      "  _warn_prf(average, modifier, f\"{metric.capitalize()} is\", len(result))\n",
      "/home/lijianhang/anaconda3/envs/LLM/lib/python3.11/site-packages/sklearn/metrics/_classification.py:1565: UndefinedMetricWarning: Precision is ill-defined and being set to 0.0 in labels with no predicted samples. Use `zero_division` parameter to control this behavior.\n",
      "  _warn_prf(average, modifier, f\"{metric.capitalize()} is\", len(result))\n",
      "/home/lijianhang/anaconda3/envs/LLM/lib/python3.11/site-packages/sklearn/metrics/_classification.py:1565: UndefinedMetricWarning: Precision is ill-defined and being set to 0.0 in labels with no predicted samples. Use `zero_division` parameter to control this behavior.\n",
      "  _warn_prf(average, modifier, f\"{metric.capitalize()} is\", len(result))\n"
     ]
    },
    {
     "name": "stdout",
     "output_type": "stream",
     "text": [
      "\tValid ACC: 0.3875, Valid Pearson: 0.34852323279839253\n",
      "* Classification Report:\n",
      "              precision    recall  f1-score   support\n",
      "\n",
      "       moved       0.00      0.00      0.00       365\n",
      "       angry       0.39      1.00      0.56       837\n",
      "       funny       0.00      0.00      0.00       530\n",
      "         sad       0.00      0.00      0.00       292\n",
      "       novel       0.00      0.00      0.00        34\n",
      "     shocked       0.00      0.00      0.00        90\n",
      "\n",
      "    accuracy                           0.39      2148\n",
      "   macro avg       0.06      0.17      0.09      2148\n",
      "weighted avg       0.15      0.39      0.22      2148\n",
      "\n"
     ]
    },
    {
     "name": "stderr",
     "output_type": "stream",
     "text": [
      "Epoch 12 train: 100%|█████████████████████████| 195/195 [01:05<00:00,  2.99it/s, acc=0.2, loss=1.64]\n"
     ]
    },
    {
     "name": "stdout",
     "output_type": "stream",
     "text": [
      "\tTrain ACC: 0.3394871794871795, Train Pearson: 0.3286109483684579\n"
     ]
    },
    {
     "name": "stderr",
     "output_type": "stream",
     "text": [
      "Epoch 12 valid: 100%|███████████████████████████| 135/135 [00:17<00:00,  7.73it/s, acc=0, loss=1.73]\n",
      "/home/lijianhang/anaconda3/envs/LLM/lib/python3.11/site-packages/sklearn/metrics/_classification.py:1565: UndefinedMetricWarning: Precision is ill-defined and being set to 0.0 in labels with no predicted samples. Use `zero_division` parameter to control this behavior.\n",
      "  _warn_prf(average, modifier, f\"{metric.capitalize()} is\", len(result))\n",
      "/home/lijianhang/anaconda3/envs/LLM/lib/python3.11/site-packages/sklearn/metrics/_classification.py:1565: UndefinedMetricWarning: Precision is ill-defined and being set to 0.0 in labels with no predicted samples. Use `zero_division` parameter to control this behavior.\n",
      "  _warn_prf(average, modifier, f\"{metric.capitalize()} is\", len(result))\n",
      "/home/lijianhang/anaconda3/envs/LLM/lib/python3.11/site-packages/sklearn/metrics/_classification.py:1565: UndefinedMetricWarning: Precision is ill-defined and being set to 0.0 in labels with no predicted samples. Use `zero_division` parameter to control this behavior.\n",
      "  _warn_prf(average, modifier, f\"{metric.capitalize()} is\", len(result))\n"
     ]
    },
    {
     "name": "stdout",
     "output_type": "stream",
     "text": [
      "\tValid ACC: 0.3875, Valid Pearson: 0.3387995528259061\n",
      "* Classification Report:\n",
      "              precision    recall  f1-score   support\n",
      "\n",
      "       moved       0.00      0.00      0.00       365\n",
      "       angry       0.39      1.00      0.56       837\n",
      "       funny       0.00      0.00      0.00       530\n",
      "         sad       0.00      0.00      0.00       292\n",
      "       novel       0.00      0.00      0.00        34\n",
      "     shocked       0.00      0.00      0.00        90\n",
      "\n",
      "    accuracy                           0.39      2148\n",
      "   macro avg       0.06      0.17      0.09      2148\n",
      "weighted avg       0.15      0.39      0.22      2148\n",
      "\n"
     ]
    },
    {
     "name": "stderr",
     "output_type": "stream",
     "text": [
      "Epoch 13 train: 100%|█████████████████████████| 195/195 [01:04<00:00,  3.02it/s, acc=0.2, loss=1.07]\n"
     ]
    },
    {
     "name": "stdout",
     "output_type": "stream",
     "text": [
      "\tTrain ACC: 0.3311538461538462, Train Pearson: 0.32563554603680883\n"
     ]
    },
    {
     "name": "stderr",
     "output_type": "stream",
     "text": [
      "Epoch 13 valid: 100%|████████████████████████| 135/135 [00:18<00:00,  7.42it/s, acc=0.25, loss=2.08]\n",
      "/home/lijianhang/anaconda3/envs/LLM/lib/python3.11/site-packages/sklearn/metrics/_classification.py:1565: UndefinedMetricWarning: Precision is ill-defined and being set to 0.0 in labels with no predicted samples. Use `zero_division` parameter to control this behavior.\n",
      "  _warn_prf(average, modifier, f\"{metric.capitalize()} is\", len(result))\n",
      "/home/lijianhang/anaconda3/envs/LLM/lib/python3.11/site-packages/sklearn/metrics/_classification.py:1565: UndefinedMetricWarning: Precision is ill-defined and being set to 0.0 in labels with no predicted samples. Use `zero_division` parameter to control this behavior.\n",
      "  _warn_prf(average, modifier, f\"{metric.capitalize()} is\", len(result))\n",
      "/home/lijianhang/anaconda3/envs/LLM/lib/python3.11/site-packages/sklearn/metrics/_classification.py:1565: UndefinedMetricWarning: Precision is ill-defined and being set to 0.0 in labels with no predicted samples. Use `zero_division` parameter to control this behavior.\n",
      "  _warn_prf(average, modifier, f\"{metric.capitalize()} is\", len(result))\n"
     ]
    },
    {
     "name": "stdout",
     "output_type": "stream",
     "text": [
      "\tValid ACC: 0.24953703703703703, Valid Pearson: 0.3622174073160152\n",
      "* Classification Report:\n",
      "              precision    recall  f1-score   support\n",
      "\n",
      "       moved       0.00      0.00      0.00       365\n",
      "       angry       0.00      0.00      0.00       837\n",
      "       funny       0.25      1.00      0.40       530\n",
      "         sad       0.00      0.00      0.00       292\n",
      "       novel       0.00      0.00      0.00        34\n",
      "     shocked       0.00      0.00      0.00        90\n",
      "\n",
      "    accuracy                           0.25      2148\n",
      "   macro avg       0.04      0.17      0.07      2148\n",
      "weighted avg       0.06      0.25      0.10      2148\n",
      "\n"
     ]
    },
    {
     "name": "stderr",
     "output_type": "stream",
     "text": [
      "Epoch 14 train: 100%|█████████████████████████| 195/195 [01:04<00:00,  3.02it/s, acc=0.4, loss=1.83]\n"
     ]
    },
    {
     "name": "stdout",
     "output_type": "stream",
     "text": [
      "\tTrain ACC: 0.341474358974359, Train Pearson: 0.32835939738002884\n"
     ]
    },
    {
     "name": "stderr",
     "output_type": "stream",
     "text": [
      "Epoch 14 valid: 100%|███████████████████████████| 135/135 [00:18<00:00,  7.44it/s, acc=0, loss=1.66]\n",
      "/home/lijianhang/anaconda3/envs/LLM/lib/python3.11/site-packages/sklearn/metrics/_classification.py:1565: UndefinedMetricWarning: Precision is ill-defined and being set to 0.0 in labels with no predicted samples. Use `zero_division` parameter to control this behavior.\n",
      "  _warn_prf(average, modifier, f\"{metric.capitalize()} is\", len(result))\n",
      "/home/lijianhang/anaconda3/envs/LLM/lib/python3.11/site-packages/sklearn/metrics/_classification.py:1565: UndefinedMetricWarning: Precision is ill-defined and being set to 0.0 in labels with no predicted samples. Use `zero_division` parameter to control this behavior.\n",
      "  _warn_prf(average, modifier, f\"{metric.capitalize()} is\", len(result))\n",
      "/home/lijianhang/anaconda3/envs/LLM/lib/python3.11/site-packages/sklearn/metrics/_classification.py:1565: UndefinedMetricWarning: Precision is ill-defined and being set to 0.0 in labels with no predicted samples. Use `zero_division` parameter to control this behavior.\n",
      "  _warn_prf(average, modifier, f\"{metric.capitalize()} is\", len(result))\n"
     ]
    },
    {
     "name": "stdout",
     "output_type": "stream",
     "text": [
      "\tValid ACC: 0.3875, Valid Pearson: 0.31987077168738576\n",
      "* Classification Report:\n",
      "              precision    recall  f1-score   support\n",
      "\n",
      "       moved       0.00      0.00      0.00       365\n",
      "       angry       0.39      1.00      0.56       837\n",
      "       funny       0.00      0.00      0.00       530\n",
      "         sad       0.00      0.00      0.00       292\n",
      "       novel       0.00      0.00      0.00        34\n",
      "     shocked       0.00      0.00      0.00        90\n",
      "\n",
      "    accuracy                           0.39      2148\n",
      "   macro avg       0.06      0.17      0.09      2148\n",
      "weighted avg       0.15      0.39      0.22      2148\n",
      "\n"
     ]
    },
    {
     "name": "stderr",
     "output_type": "stream",
     "text": [
      "Epoch 15 train: 100%|███████████████████████████| 195/195 [01:04<00:00,  3.01it/s, acc=0, loss=1.73]\n"
     ]
    },
    {
     "name": "stdout",
     "output_type": "stream",
     "text": [
      "\tTrain ACC: 0.33942307692307694, Train Pearson: 0.33089869992180493\n"
     ]
    },
    {
     "name": "stderr",
     "output_type": "stream",
     "text": [
      "Epoch 15 valid: 100%|████████████████████████| 135/135 [00:17<00:00,  7.73it/s, acc=0.25, loss=1.76]\n",
      "/home/lijianhang/anaconda3/envs/LLM/lib/python3.11/site-packages/sklearn/metrics/_classification.py:1565: UndefinedMetricWarning: Precision is ill-defined and being set to 0.0 in labels with no predicted samples. Use `zero_division` parameter to control this behavior.\n",
      "  _warn_prf(average, modifier, f\"{metric.capitalize()} is\", len(result))\n",
      "/home/lijianhang/anaconda3/envs/LLM/lib/python3.11/site-packages/sklearn/metrics/_classification.py:1565: UndefinedMetricWarning: Precision is ill-defined and being set to 0.0 in labels with no predicted samples. Use `zero_division` parameter to control this behavior.\n",
      "  _warn_prf(average, modifier, f\"{metric.capitalize()} is\", len(result))\n",
      "/home/lijianhang/anaconda3/envs/LLM/lib/python3.11/site-packages/sklearn/metrics/_classification.py:1565: UndefinedMetricWarning: Precision is ill-defined and being set to 0.0 in labels with no predicted samples. Use `zero_division` parameter to control this behavior.\n",
      "  _warn_prf(average, modifier, f\"{metric.capitalize()} is\", len(result))\n"
     ]
    },
    {
     "name": "stdout",
     "output_type": "stream",
     "text": [
      "\tValid ACC: 0.24953703703703703, Valid Pearson: 0.33277015024230944\n",
      "* Classification Report:\n",
      "              precision    recall  f1-score   support\n",
      "\n",
      "       moved       0.00      0.00      0.00       365\n",
      "       angry       0.00      0.00      0.00       837\n",
      "       funny       0.25      1.00      0.40       530\n",
      "         sad       0.00      0.00      0.00       292\n",
      "       novel       0.00      0.00      0.00        34\n",
      "     shocked       0.00      0.00      0.00        90\n",
      "\n",
      "    accuracy                           0.25      2148\n",
      "   macro avg       0.04      0.17      0.07      2148\n",
      "weighted avg       0.06      0.25      0.10      2148\n",
      "\n"
     ]
    },
    {
     "name": "stderr",
     "output_type": "stream",
     "text": [
      "Epoch 16 train: 100%|█████████████████████████| 195/195 [01:04<00:00,  3.01it/s, acc=0.4, loss=1.51]\n"
     ]
    },
    {
     "name": "stdout",
     "output_type": "stream",
     "text": [
      "\tTrain ACC: 0.3325, Train Pearson: 0.33017565226809004\n"
     ]
    },
    {
     "name": "stderr",
     "output_type": "stream",
     "text": [
      "Epoch 16 valid: 100%|███████████████████████████| 135/135 [00:18<00:00,  7.44it/s, acc=0, loss=1.81]\n",
      "/home/lijianhang/anaconda3/envs/LLM/lib/python3.11/site-packages/sklearn/metrics/_classification.py:1565: UndefinedMetricWarning: Precision is ill-defined and being set to 0.0 in labels with no predicted samples. Use `zero_division` parameter to control this behavior.\n",
      "  _warn_prf(average, modifier, f\"{metric.capitalize()} is\", len(result))\n",
      "/home/lijianhang/anaconda3/envs/LLM/lib/python3.11/site-packages/sklearn/metrics/_classification.py:1565: UndefinedMetricWarning: Precision is ill-defined and being set to 0.0 in labels with no predicted samples. Use `zero_division` parameter to control this behavior.\n",
      "  _warn_prf(average, modifier, f\"{metric.capitalize()} is\", len(result))\n",
      "/home/lijianhang/anaconda3/envs/LLM/lib/python3.11/site-packages/sklearn/metrics/_classification.py:1565: UndefinedMetricWarning: Precision is ill-defined and being set to 0.0 in labels with no predicted samples. Use `zero_division` parameter to control this behavior.\n",
      "  _warn_prf(average, modifier, f\"{metric.capitalize()} is\", len(result))\n"
     ]
    },
    {
     "name": "stdout",
     "output_type": "stream",
     "text": [
      "\tValid ACC: 0.3875, Valid Pearson: 0.3347080920886441\n",
      "* Classification Report:\n",
      "              precision    recall  f1-score   support\n",
      "\n",
      "       moved       0.00      0.00      0.00       365\n",
      "       angry       0.39      1.00      0.56       837\n",
      "       funny       0.00      0.00      0.00       530\n",
      "         sad       0.00      0.00      0.00       292\n",
      "       novel       0.00      0.00      0.00        34\n",
      "     shocked       0.00      0.00      0.00        90\n",
      "\n",
      "    accuracy                           0.39      2148\n",
      "   macro avg       0.06      0.17      0.09      2148\n",
      "weighted avg       0.15      0.39      0.22      2148\n",
      "\n"
     ]
    },
    {
     "name": "stderr",
     "output_type": "stream",
     "text": [
      "Epoch 17 train: 100%|█████████████████████████| 195/195 [01:04<00:00,  3.01it/s, acc=0.4, loss=1.25]\n"
     ]
    },
    {
     "name": "stdout",
     "output_type": "stream",
     "text": [
      "\tTrain ACC: 0.3443589743589744, Train Pearson: 0.32890228197658106\n"
     ]
    },
    {
     "name": "stderr",
     "output_type": "stream",
     "text": [
      "Epoch 17 valid: 100%|███████████████████████████| 135/135 [00:18<00:00,  7.45it/s, acc=0, loss=1.78]\n",
      "/home/lijianhang/anaconda3/envs/LLM/lib/python3.11/site-packages/sklearn/metrics/_classification.py:1565: UndefinedMetricWarning: Precision is ill-defined and being set to 0.0 in labels with no predicted samples. Use `zero_division` parameter to control this behavior.\n",
      "  _warn_prf(average, modifier, f\"{metric.capitalize()} is\", len(result))\n",
      "/home/lijianhang/anaconda3/envs/LLM/lib/python3.11/site-packages/sklearn/metrics/_classification.py:1565: UndefinedMetricWarning: Precision is ill-defined and being set to 0.0 in labels with no predicted samples. Use `zero_division` parameter to control this behavior.\n",
      "  _warn_prf(average, modifier, f\"{metric.capitalize()} is\", len(result))\n",
      "/home/lijianhang/anaconda3/envs/LLM/lib/python3.11/site-packages/sklearn/metrics/_classification.py:1565: UndefinedMetricWarning: Precision is ill-defined and being set to 0.0 in labels with no predicted samples. Use `zero_division` parameter to control this behavior.\n",
      "  _warn_prf(average, modifier, f\"{metric.capitalize()} is\", len(result))\n"
     ]
    },
    {
     "name": "stdout",
     "output_type": "stream",
     "text": [
      "\tValid ACC: 0.3875, Valid Pearson: 0.34856336794107295\n",
      "* Classification Report:\n",
      "              precision    recall  f1-score   support\n",
      "\n",
      "       moved       0.00      0.00      0.00       365\n",
      "       angry       0.39      1.00      0.56       837\n",
      "       funny       0.00      0.00      0.00       530\n",
      "         sad       0.00      0.00      0.00       292\n",
      "       novel       0.00      0.00      0.00        34\n",
      "     shocked       0.00      0.00      0.00        90\n",
      "\n",
      "    accuracy                           0.39      2148\n",
      "   macro avg       0.06      0.17      0.09      2148\n",
      "weighted avg       0.15      0.39      0.22      2148\n",
      "\n"
     ]
    },
    {
     "name": "stderr",
     "output_type": "stream",
     "text": [
      "Epoch 18 train: 100%|███████████████████████████| 195/195 [01:04<00:00,  3.02it/s, acc=0, loss=1.85]\n"
     ]
    },
    {
     "name": "stdout",
     "output_type": "stream",
     "text": [
      "\tTrain ACC: 0.3326923076923077, Train Pearson: 0.33122022583180993\n"
     ]
    },
    {
     "name": "stderr",
     "output_type": "stream",
     "text": [
      "Epoch 18 valid: 100%|████████████████████████| 135/135 [00:18<00:00,  7.43it/s, acc=0.25, loss=1.64]\n",
      "/home/lijianhang/anaconda3/envs/LLM/lib/python3.11/site-packages/sklearn/metrics/_classification.py:1565: UndefinedMetricWarning: Precision is ill-defined and being set to 0.0 in labels with no predicted samples. Use `zero_division` parameter to control this behavior.\n",
      "  _warn_prf(average, modifier, f\"{metric.capitalize()} is\", len(result))\n",
      "/home/lijianhang/anaconda3/envs/LLM/lib/python3.11/site-packages/sklearn/metrics/_classification.py:1565: UndefinedMetricWarning: Precision is ill-defined and being set to 0.0 in labels with no predicted samples. Use `zero_division` parameter to control this behavior.\n",
      "  _warn_prf(average, modifier, f\"{metric.capitalize()} is\", len(result))\n",
      "/home/lijianhang/anaconda3/envs/LLM/lib/python3.11/site-packages/sklearn/metrics/_classification.py:1565: UndefinedMetricWarning: Precision is ill-defined and being set to 0.0 in labels with no predicted samples. Use `zero_division` parameter to control this behavior.\n",
      "  _warn_prf(average, modifier, f\"{metric.capitalize()} is\", len(result))\n"
     ]
    },
    {
     "name": "stdout",
     "output_type": "stream",
     "text": [
      "\tValid ACC: 0.24953703703703703, Valid Pearson: 0.3244285475868049\n",
      "* Classification Report:\n",
      "              precision    recall  f1-score   support\n",
      "\n",
      "       moved       0.00      0.00      0.00       365\n",
      "       angry       0.00      0.00      0.00       837\n",
      "       funny       0.25      1.00      0.40       530\n",
      "         sad       0.00      0.00      0.00       292\n",
      "       novel       0.00      0.00      0.00        34\n",
      "     shocked       0.00      0.00      0.00        90\n",
      "\n",
      "    accuracy                           0.25      2148\n",
      "   macro avg       0.04      0.17      0.07      2148\n",
      "weighted avg       0.06      0.25      0.10      2148\n",
      "\n"
     ]
    },
    {
     "name": "stderr",
     "output_type": "stream",
     "text": [
      "Epoch 19 train: 100%|█████████████████████████| 195/195 [01:04<00:00,  3.01it/s, acc=0.6, loss=1.24]\n"
     ]
    },
    {
     "name": "stdout",
     "output_type": "stream",
     "text": [
      "\tTrain ACC: 0.3447435897435897, Train Pearson: 0.3264599875533783\n"
     ]
    },
    {
     "name": "stderr",
     "output_type": "stream",
     "text": [
      "Epoch 19 valid: 100%|████████████████████████| 135/135 [00:17<00:00,  7.71it/s, acc=0.25, loss=1.81]\n",
      "/home/lijianhang/anaconda3/envs/LLM/lib/python3.11/site-packages/sklearn/metrics/_classification.py:1565: UndefinedMetricWarning: Precision is ill-defined and being set to 0.0 in labels with no predicted samples. Use `zero_division` parameter to control this behavior.\n",
      "  _warn_prf(average, modifier, f\"{metric.capitalize()} is\", len(result))\n",
      "/home/lijianhang/anaconda3/envs/LLM/lib/python3.11/site-packages/sklearn/metrics/_classification.py:1565: UndefinedMetricWarning: Precision is ill-defined and being set to 0.0 in labels with no predicted samples. Use `zero_division` parameter to control this behavior.\n",
      "  _warn_prf(average, modifier, f\"{metric.capitalize()} is\", len(result))\n",
      "/home/lijianhang/anaconda3/envs/LLM/lib/python3.11/site-packages/sklearn/metrics/_classification.py:1565: UndefinedMetricWarning: Precision is ill-defined and being set to 0.0 in labels with no predicted samples. Use `zero_division` parameter to control this behavior.\n",
      "  _warn_prf(average, modifier, f\"{metric.capitalize()} is\", len(result))\n"
     ]
    },
    {
     "name": "stdout",
     "output_type": "stream",
     "text": [
      "\tValid ACC: 0.24953703703703703, Valid Pearson: 0.34140785107233934\n",
      "* Classification Report:\n",
      "              precision    recall  f1-score   support\n",
      "\n",
      "       moved       0.00      0.00      0.00       365\n",
      "       angry       0.00      0.00      0.00       837\n",
      "       funny       0.25      1.00      0.40       530\n",
      "         sad       0.00      0.00      0.00       292\n",
      "       novel       0.00      0.00      0.00        34\n",
      "     shocked       0.00      0.00      0.00        90\n",
      "\n",
      "    accuracy                           0.25      2148\n",
      "   macro avg       0.04      0.17      0.07      2148\n",
      "weighted avg       0.06      0.25      0.10      2148\n",
      "\n",
      "loading data from: data/train.json\n"
     ]
    },
    {
     "name": "stderr",
     "output_type": "stream",
     "text": [
      "100%|██████████| 3109/3109 [00:09<00:00, 328.89it/s]\n"
     ]
    },
    {
     "name": "stdout",
     "output_type": "stream",
     "text": [
      "loading data from: data/test.json\n"
     ]
    },
    {
     "name": "stderr",
     "output_type": "stream",
     "text": [
      "100%|██████████| 2148/2148 [00:06<00:00, 313.22it/s]\n",
      "Epoch 0 train: 100%|██████████████████████████| 195/195 [01:06<00:00,  2.92it/s, acc=0.6, loss=1.31]\n"
     ]
    },
    {
     "name": "stdout",
     "output_type": "stream",
     "text": [
      "\tTrain ACC: 0.3399358974358974, Train Pearson: 0.31553684992800524\n"
     ]
    },
    {
     "name": "stderr",
     "output_type": "stream",
     "text": [
      "Epoch 0 valid: 100%|█████████████████████████| 135/135 [00:17<00:00,  7.80it/s, acc=0.25, loss=1.57]\n",
      "/home/lijianhang/anaconda3/envs/LLM/lib/python3.11/site-packages/sklearn/metrics/_classification.py:1565: UndefinedMetricWarning: Precision is ill-defined and being set to 0.0 in labels with no predicted samples. Use `zero_division` parameter to control this behavior.\n",
      "  _warn_prf(average, modifier, f\"{metric.capitalize()} is\", len(result))\n",
      "/home/lijianhang/anaconda3/envs/LLM/lib/python3.11/site-packages/sklearn/metrics/_classification.py:1565: UndefinedMetricWarning: Precision is ill-defined and being set to 0.0 in labels with no predicted samples. Use `zero_division` parameter to control this behavior.\n",
      "  _warn_prf(average, modifier, f\"{metric.capitalize()} is\", len(result))\n",
      "/home/lijianhang/anaconda3/envs/LLM/lib/python3.11/site-packages/sklearn/metrics/_classification.py:1565: UndefinedMetricWarning: Precision is ill-defined and being set to 0.0 in labels with no predicted samples. Use `zero_division` parameter to control this behavior.\n",
      "  _warn_prf(average, modifier, f\"{metric.capitalize()} is\", len(result))\n"
     ]
    },
    {
     "name": "stdout",
     "output_type": "stream",
     "text": [
      "\tValid ACC: 0.24953703703703703, Valid Pearson: 0.32735675929941377\n",
      "* Classification Report:\n",
      "              precision    recall  f1-score   support\n",
      "\n",
      "       moved       0.00      0.00      0.00       365\n",
      "       angry       0.00      0.00      0.00       837\n",
      "       funny       0.25      1.00      0.40       530\n",
      "         sad       0.00      0.00      0.00       292\n",
      "       novel       0.00      0.00      0.00        34\n",
      "     shocked       0.00      0.00      0.00        90\n",
      "\n",
      "    accuracy                           0.25      2148\n",
      "   macro avg       0.04      0.17      0.07      2148\n",
      "weighted avg       0.06      0.25      0.10      2148\n",
      "\n"
     ]
    },
    {
     "name": "stderr",
     "output_type": "stream",
     "text": [
      "Epoch 1 train: 100%|██████████████████████████| 195/195 [01:04<00:00,  3.01it/s, acc=0.8, loss=0.93]\n"
     ]
    },
    {
     "name": "stdout",
     "output_type": "stream",
     "text": [
      "\tTrain ACC: 0.3448076923076923, Train Pearson: 0.32631329043712776\n"
     ]
    },
    {
     "name": "stderr",
     "output_type": "stream",
     "text": [
      "Epoch 1 valid: 100%|█████████████████████████| 135/135 [00:18<00:00,  7.39it/s, acc=0.25, loss=1.72]\n",
      "/home/lijianhang/anaconda3/envs/LLM/lib/python3.11/site-packages/sklearn/metrics/_classification.py:1565: UndefinedMetricWarning: Precision is ill-defined and being set to 0.0 in labels with no predicted samples. Use `zero_division` parameter to control this behavior.\n",
      "  _warn_prf(average, modifier, f\"{metric.capitalize()} is\", len(result))\n",
      "/home/lijianhang/anaconda3/envs/LLM/lib/python3.11/site-packages/sklearn/metrics/_classification.py:1565: UndefinedMetricWarning: Precision is ill-defined and being set to 0.0 in labels with no predicted samples. Use `zero_division` parameter to control this behavior.\n",
      "  _warn_prf(average, modifier, f\"{metric.capitalize()} is\", len(result))\n",
      "/home/lijianhang/anaconda3/envs/LLM/lib/python3.11/site-packages/sklearn/metrics/_classification.py:1565: UndefinedMetricWarning: Precision is ill-defined and being set to 0.0 in labels with no predicted samples. Use `zero_division` parameter to control this behavior.\n",
      "  _warn_prf(average, modifier, f\"{metric.capitalize()} is\", len(result))\n"
     ]
    },
    {
     "name": "stdout",
     "output_type": "stream",
     "text": [
      "\tValid ACC: 0.24953703703703703, Valid Pearson: 0.3271930852045933\n",
      "* Classification Report:\n",
      "              precision    recall  f1-score   support\n",
      "\n",
      "       moved       0.00      0.00      0.00       365\n",
      "       angry       0.00      0.00      0.00       837\n",
      "       funny       0.25      1.00      0.40       530\n",
      "         sad       0.00      0.00      0.00       292\n",
      "       novel       0.00      0.00      0.00        34\n",
      "     shocked       0.00      0.00      0.00        90\n",
      "\n",
      "    accuracy                           0.25      2148\n",
      "   macro avg       0.04      0.17      0.07      2148\n",
      "weighted avg       0.06      0.25      0.10      2148\n",
      "\n"
     ]
    },
    {
     "name": "stderr",
     "output_type": "stream",
     "text": [
      "Epoch 2 train: 100%|██████████████████████████| 195/195 [01:04<00:00,  3.02it/s, acc=0.2, loss=2.18]\n"
     ]
    },
    {
     "name": "stdout",
     "output_type": "stream",
     "text": [
      "\tTrain ACC: 0.33532051282051284, Train Pearson: 0.3224909682768756\n"
     ]
    },
    {
     "name": "stderr",
     "output_type": "stream",
     "text": [
      "Epoch 2 valid: 100%|████████████████████████████| 135/135 [00:18<00:00,  7.44it/s, acc=0, loss=1.93]\n",
      "/home/lijianhang/anaconda3/envs/LLM/lib/python3.11/site-packages/sklearn/metrics/_classification.py:1565: UndefinedMetricWarning: Precision is ill-defined and being set to 0.0 in labels with no predicted samples. Use `zero_division` parameter to control this behavior.\n",
      "  _warn_prf(average, modifier, f\"{metric.capitalize()} is\", len(result))\n",
      "/home/lijianhang/anaconda3/envs/LLM/lib/python3.11/site-packages/sklearn/metrics/_classification.py:1565: UndefinedMetricWarning: Precision is ill-defined and being set to 0.0 in labels with no predicted samples. Use `zero_division` parameter to control this behavior.\n",
      "  _warn_prf(average, modifier, f\"{metric.capitalize()} is\", len(result))\n",
      "/home/lijianhang/anaconda3/envs/LLM/lib/python3.11/site-packages/sklearn/metrics/_classification.py:1565: UndefinedMetricWarning: Precision is ill-defined and being set to 0.0 in labels with no predicted samples. Use `zero_division` parameter to control this behavior.\n",
      "  _warn_prf(average, modifier, f\"{metric.capitalize()} is\", len(result))\n"
     ]
    },
    {
     "name": "stdout",
     "output_type": "stream",
     "text": [
      "\tValid ACC: 0.3875, Valid Pearson: 0.3812732275230208\n",
      "* Classification Report:\n",
      "              precision    recall  f1-score   support\n",
      "\n",
      "       moved       0.00      0.00      0.00       365\n",
      "       angry       0.39      1.00      0.56       837\n",
      "       funny       0.00      0.00      0.00       530\n",
      "         sad       0.00      0.00      0.00       292\n",
      "       novel       0.00      0.00      0.00        34\n",
      "     shocked       0.00      0.00      0.00        90\n",
      "\n",
      "    accuracy                           0.39      2148\n",
      "   macro avg       0.06      0.17      0.09      2148\n",
      "weighted avg       0.15      0.39      0.22      2148\n",
      "\n"
     ]
    },
    {
     "name": "stderr",
     "output_type": "stream",
     "text": [
      "Epoch 3 train: 100%|██████████████████████████| 195/195 [01:04<00:00,  3.01it/s, acc=0.2, loss=1.42]\n"
     ]
    },
    {
     "name": "stdout",
     "output_type": "stream",
     "text": [
      "\tTrain ACC: 0.3221794871794872, Train Pearson: 0.32523866195715395\n"
     ]
    },
    {
     "name": "stderr",
     "output_type": "stream",
     "text": [
      "Epoch 3 valid: 100%|█████████████████████████| 135/135 [00:17<00:00,  7.71it/s, acc=0.25, loss=1.89]\n",
      "/home/lijianhang/anaconda3/envs/LLM/lib/python3.11/site-packages/sklearn/metrics/_classification.py:1565: UndefinedMetricWarning: Precision is ill-defined and being set to 0.0 in labels with no predicted samples. Use `zero_division` parameter to control this behavior.\n",
      "  _warn_prf(average, modifier, f\"{metric.capitalize()} is\", len(result))\n",
      "/home/lijianhang/anaconda3/envs/LLM/lib/python3.11/site-packages/sklearn/metrics/_classification.py:1565: UndefinedMetricWarning: Precision is ill-defined and being set to 0.0 in labels with no predicted samples. Use `zero_division` parameter to control this behavior.\n",
      "  _warn_prf(average, modifier, f\"{metric.capitalize()} is\", len(result))\n",
      "/home/lijianhang/anaconda3/envs/LLM/lib/python3.11/site-packages/sklearn/metrics/_classification.py:1565: UndefinedMetricWarning: Precision is ill-defined and being set to 0.0 in labels with no predicted samples. Use `zero_division` parameter to control this behavior.\n",
      "  _warn_prf(average, modifier, f\"{metric.capitalize()} is\", len(result))\n"
     ]
    },
    {
     "name": "stdout",
     "output_type": "stream",
     "text": [
      "\tValid ACC: 0.24953703703703703, Valid Pearson: 0.33263079590078953\n",
      "* Classification Report:\n",
      "              precision    recall  f1-score   support\n",
      "\n",
      "       moved       0.00      0.00      0.00       365\n",
      "       angry       0.00      0.00      0.00       837\n",
      "       funny       0.25      1.00      0.40       530\n",
      "         sad       0.00      0.00      0.00       292\n",
      "       novel       0.00      0.00      0.00        34\n",
      "     shocked       0.00      0.00      0.00        90\n",
      "\n",
      "    accuracy                           0.25      2148\n",
      "   macro avg       0.04      0.17      0.07      2148\n",
      "weighted avg       0.06      0.25      0.10      2148\n",
      "\n"
     ]
    },
    {
     "name": "stderr",
     "output_type": "stream",
     "text": [
      "Epoch 4 train: 100%|██████████████████████████| 195/195 [01:05<00:00,  2.99it/s, acc=0.6, loss=1.23]\n"
     ]
    },
    {
     "name": "stdout",
     "output_type": "stream",
     "text": [
      "\tTrain ACC: 0.33448717948717943, Train Pearson: 0.3229946439184016\n"
     ]
    },
    {
     "name": "stderr",
     "output_type": "stream",
     "text": [
      "Epoch 4 valid: 100%|█████████████████████████| 135/135 [00:17<00:00,  7.76it/s, acc=0.25, loss=1.59]\n",
      "/home/lijianhang/anaconda3/envs/LLM/lib/python3.11/site-packages/sklearn/metrics/_classification.py:1565: UndefinedMetricWarning: Precision is ill-defined and being set to 0.0 in labels with no predicted samples. Use `zero_division` parameter to control this behavior.\n",
      "  _warn_prf(average, modifier, f\"{metric.capitalize()} is\", len(result))\n",
      "/home/lijianhang/anaconda3/envs/LLM/lib/python3.11/site-packages/sklearn/metrics/_classification.py:1565: UndefinedMetricWarning: Precision is ill-defined and being set to 0.0 in labels with no predicted samples. Use `zero_division` parameter to control this behavior.\n",
      "  _warn_prf(average, modifier, f\"{metric.capitalize()} is\", len(result))\n",
      "/home/lijianhang/anaconda3/envs/LLM/lib/python3.11/site-packages/sklearn/metrics/_classification.py:1565: UndefinedMetricWarning: Precision is ill-defined and being set to 0.0 in labels with no predicted samples. Use `zero_division` parameter to control this behavior.\n",
      "  _warn_prf(average, modifier, f\"{metric.capitalize()} is\", len(result))\n"
     ]
    },
    {
     "name": "stdout",
     "output_type": "stream",
     "text": [
      "\tValid ACC: 0.24953703703703703, Valid Pearson: 0.3126084364441469\n",
      "* Classification Report:\n",
      "              precision    recall  f1-score   support\n",
      "\n",
      "       moved       0.00      0.00      0.00       365\n",
      "       angry       0.00      0.00      0.00       837\n",
      "       funny       0.25      1.00      0.40       530\n",
      "         sad       0.00      0.00      0.00       292\n",
      "       novel       0.00      0.00      0.00        34\n",
      "     shocked       0.00      0.00      0.00        90\n",
      "\n",
      "    accuracy                           0.25      2148\n",
      "   macro avg       0.04      0.17      0.07      2148\n",
      "weighted avg       0.06      0.25      0.10      2148\n",
      "\n"
     ]
    },
    {
     "name": "stderr",
     "output_type": "stream",
     "text": [
      "Epoch 5 train: 100%|██████████████████████████| 195/195 [01:04<00:00,  3.02it/s, acc=0.4, loss=1.75]\n"
     ]
    },
    {
     "name": "stdout",
     "output_type": "stream",
     "text": [
      "\tTrain ACC: 0.3286538461538462, Train Pearson: 0.3233444808013666\n"
     ]
    },
    {
     "name": "stderr",
     "output_type": "stream",
     "text": [
      "Epoch 5 valid: 100%|█████████████████████████| 135/135 [00:18<00:00,  7.45it/s, acc=0.25, loss=1.73]\n",
      "/home/lijianhang/anaconda3/envs/LLM/lib/python3.11/site-packages/sklearn/metrics/_classification.py:1565: UndefinedMetricWarning: Precision is ill-defined and being set to 0.0 in labels with no predicted samples. Use `zero_division` parameter to control this behavior.\n",
      "  _warn_prf(average, modifier, f\"{metric.capitalize()} is\", len(result))\n",
      "/home/lijianhang/anaconda3/envs/LLM/lib/python3.11/site-packages/sklearn/metrics/_classification.py:1565: UndefinedMetricWarning: Precision is ill-defined and being set to 0.0 in labels with no predicted samples. Use `zero_division` parameter to control this behavior.\n",
      "  _warn_prf(average, modifier, f\"{metric.capitalize()} is\", len(result))\n",
      "/home/lijianhang/anaconda3/envs/LLM/lib/python3.11/site-packages/sklearn/metrics/_classification.py:1565: UndefinedMetricWarning: Precision is ill-defined and being set to 0.0 in labels with no predicted samples. Use `zero_division` parameter to control this behavior.\n",
      "  _warn_prf(average, modifier, f\"{metric.capitalize()} is\", len(result))\n"
     ]
    },
    {
     "name": "stdout",
     "output_type": "stream",
     "text": [
      "\tValid ACC: 0.24953703703703703, Valid Pearson: 0.33820845983013786\n",
      "* Classification Report:\n",
      "              precision    recall  f1-score   support\n",
      "\n",
      "       moved       0.00      0.00      0.00       365\n",
      "       angry       0.00      0.00      0.00       837\n",
      "       funny       0.25      1.00      0.40       530\n",
      "         sad       0.00      0.00      0.00       292\n",
      "       novel       0.00      0.00      0.00        34\n",
      "     shocked       0.00      0.00      0.00        90\n",
      "\n",
      "    accuracy                           0.25      2148\n",
      "   macro avg       0.04      0.17      0.07      2148\n",
      "weighted avg       0.06      0.25      0.10      2148\n",
      "\n"
     ]
    },
    {
     "name": "stderr",
     "output_type": "stream",
     "text": [
      "Epoch 6 train: 100%|████████████████████████████| 195/195 [01:04<00:00,  3.02it/s, acc=0, loss=2.02]\n"
     ]
    },
    {
     "name": "stdout",
     "output_type": "stream",
     "text": [
      "\tTrain ACC: 0.32596153846153847, Train Pearson: 0.3233809290522678\n"
     ]
    },
    {
     "name": "stderr",
     "output_type": "stream",
     "text": [
      "Epoch 6 valid: 100%|████████████████████████████| 135/135 [00:18<00:00,  7.47it/s, acc=0, loss=1.88]\n",
      "/home/lijianhang/anaconda3/envs/LLM/lib/python3.11/site-packages/sklearn/metrics/_classification.py:1565: UndefinedMetricWarning: Precision is ill-defined and being set to 0.0 in labels with no predicted samples. Use `zero_division` parameter to control this behavior.\n",
      "  _warn_prf(average, modifier, f\"{metric.capitalize()} is\", len(result))\n",
      "/home/lijianhang/anaconda3/envs/LLM/lib/python3.11/site-packages/sklearn/metrics/_classification.py:1565: UndefinedMetricWarning: Precision is ill-defined and being set to 0.0 in labels with no predicted samples. Use `zero_division` parameter to control this behavior.\n",
      "  _warn_prf(average, modifier, f\"{metric.capitalize()} is\", len(result))\n",
      "/home/lijianhang/anaconda3/envs/LLM/lib/python3.11/site-packages/sklearn/metrics/_classification.py:1565: UndefinedMetricWarning: Precision is ill-defined and being set to 0.0 in labels with no predicted samples. Use `zero_division` parameter to control this behavior.\n",
      "  _warn_prf(average, modifier, f\"{metric.capitalize()} is\", len(result))\n"
     ]
    },
    {
     "name": "stdout",
     "output_type": "stream",
     "text": [
      "\tValid ACC: 0.3875, Valid Pearson: 0.34514223297385\n",
      "* Classification Report:\n",
      "              precision    recall  f1-score   support\n",
      "\n",
      "       moved       0.00      0.00      0.00       365\n",
      "       angry       0.39      1.00      0.56       837\n",
      "       funny       0.00      0.00      0.00       530\n",
      "         sad       0.00      0.00      0.00       292\n",
      "       novel       0.00      0.00      0.00        34\n",
      "     shocked       0.00      0.00      0.00        90\n",
      "\n",
      "    accuracy                           0.39      2148\n",
      "   macro avg       0.06      0.17      0.09      2148\n",
      "weighted avg       0.15      0.39      0.22      2148\n",
      "\n"
     ]
    },
    {
     "name": "stderr",
     "output_type": "stream",
     "text": [
      "Epoch 7 train: 100%|██████████████████████████| 195/195 [01:04<00:00,  3.02it/s, acc=0.4, loss=1.77]\n"
     ]
    },
    {
     "name": "stdout",
     "output_type": "stream",
     "text": [
      "\tTrain ACC: 0.3357051282051282, Train Pearson: 0.32729325238161533\n"
     ]
    },
    {
     "name": "stderr",
     "output_type": "stream",
     "text": [
      "Epoch 7 valid: 100%|████████████████████████████| 135/135 [00:17<00:00,  7.74it/s, acc=0, loss=1.68]\n",
      "/home/lijianhang/anaconda3/envs/LLM/lib/python3.11/site-packages/sklearn/metrics/_classification.py:1565: UndefinedMetricWarning: Precision is ill-defined and being set to 0.0 in labels with no predicted samples. Use `zero_division` parameter to control this behavior.\n",
      "  _warn_prf(average, modifier, f\"{metric.capitalize()} is\", len(result))\n",
      "/home/lijianhang/anaconda3/envs/LLM/lib/python3.11/site-packages/sklearn/metrics/_classification.py:1565: UndefinedMetricWarning: Precision is ill-defined and being set to 0.0 in labels with no predicted samples. Use `zero_division` parameter to control this behavior.\n",
      "  _warn_prf(average, modifier, f\"{metric.capitalize()} is\", len(result))\n",
      "/home/lijianhang/anaconda3/envs/LLM/lib/python3.11/site-packages/sklearn/metrics/_classification.py:1565: UndefinedMetricWarning: Precision is ill-defined and being set to 0.0 in labels with no predicted samples. Use `zero_division` parameter to control this behavior.\n",
      "  _warn_prf(average, modifier, f\"{metric.capitalize()} is\", len(result))\n"
     ]
    },
    {
     "name": "stdout",
     "output_type": "stream",
     "text": [
      "\tValid ACC: 0.3875, Valid Pearson: 0.3183731899816188\n",
      "* Classification Report:\n",
      "              precision    recall  f1-score   support\n",
      "\n",
      "       moved       0.00      0.00      0.00       365\n",
      "       angry       0.39      1.00      0.56       837\n",
      "       funny       0.00      0.00      0.00       530\n",
      "         sad       0.00      0.00      0.00       292\n",
      "       novel       0.00      0.00      0.00        34\n",
      "     shocked       0.00      0.00      0.00        90\n",
      "\n",
      "    accuracy                           0.39      2148\n",
      "   macro avg       0.06      0.17      0.09      2148\n",
      "weighted avg       0.15      0.39      0.22      2148\n",
      "\n"
     ]
    },
    {
     "name": "stderr",
     "output_type": "stream",
     "text": [
      "Epoch 8 train: 100%|██████████████████████████| 195/195 [01:05<00:00,  2.99it/s, acc=0.4, loss=1.29]\n"
     ]
    },
    {
     "name": "stdout",
     "output_type": "stream",
     "text": [
      "\tTrain ACC: 0.34051282051282056, Train Pearson: 0.32531102291855785\n"
     ]
    },
    {
     "name": "stderr",
     "output_type": "stream",
     "text": [
      "Epoch 8 valid: 100%|████████████████████████████| 135/135 [00:17<00:00,  7.75it/s, acc=0, loss=2.02]\n",
      "/home/lijianhang/anaconda3/envs/LLM/lib/python3.11/site-packages/sklearn/metrics/_classification.py:1565: UndefinedMetricWarning: Precision is ill-defined and being set to 0.0 in labels with no predicted samples. Use `zero_division` parameter to control this behavior.\n",
      "  _warn_prf(average, modifier, f\"{metric.capitalize()} is\", len(result))\n",
      "/home/lijianhang/anaconda3/envs/LLM/lib/python3.11/site-packages/sklearn/metrics/_classification.py:1565: UndefinedMetricWarning: Precision is ill-defined and being set to 0.0 in labels with no predicted samples. Use `zero_division` parameter to control this behavior.\n",
      "  _warn_prf(average, modifier, f\"{metric.capitalize()} is\", len(result))\n",
      "/home/lijianhang/anaconda3/envs/LLM/lib/python3.11/site-packages/sklearn/metrics/_classification.py:1565: UndefinedMetricWarning: Precision is ill-defined and being set to 0.0 in labels with no predicted samples. Use `zero_division` parameter to control this behavior.\n",
      "  _warn_prf(average, modifier, f\"{metric.capitalize()} is\", len(result))\n"
     ]
    },
    {
     "name": "stdout",
     "output_type": "stream",
     "text": [
      "\tValid ACC: 0.3875, Valid Pearson: 0.36088048592439204\n",
      "* Classification Report:\n",
      "              precision    recall  f1-score   support\n",
      "\n",
      "       moved       0.00      0.00      0.00       365\n",
      "       angry       0.39      1.00      0.56       837\n",
      "       funny       0.00      0.00      0.00       530\n",
      "         sad       0.00      0.00      0.00       292\n",
      "       novel       0.00      0.00      0.00        34\n",
      "     shocked       0.00      0.00      0.00        90\n",
      "\n",
      "    accuracy                           0.39      2148\n",
      "   macro avg       0.06      0.17      0.09      2148\n",
      "weighted avg       0.15      0.39      0.22      2148\n",
      "\n"
     ]
    },
    {
     "name": "stderr",
     "output_type": "stream",
     "text": [
      "Epoch 9 train: 100%|██████████████████████████| 195/195 [01:04<00:00,  3.02it/s, acc=0.4, loss=1.48]\n"
     ]
    },
    {
     "name": "stdout",
     "output_type": "stream",
     "text": [
      "\tTrain ACC: 0.3353846153846154, Train Pearson: 0.3274623624637834\n"
     ]
    },
    {
     "name": "stderr",
     "output_type": "stream",
     "text": [
      "Epoch 9 valid: 100%|████████████████████████████| 135/135 [00:18<00:00,  7.40it/s, acc=0, loss=1.88]\n",
      "/home/lijianhang/anaconda3/envs/LLM/lib/python3.11/site-packages/sklearn/metrics/_classification.py:1565: UndefinedMetricWarning: Precision is ill-defined and being set to 0.0 in labels with no predicted samples. Use `zero_division` parameter to control this behavior.\n",
      "  _warn_prf(average, modifier, f\"{metric.capitalize()} is\", len(result))\n",
      "/home/lijianhang/anaconda3/envs/LLM/lib/python3.11/site-packages/sklearn/metrics/_classification.py:1565: UndefinedMetricWarning: Precision is ill-defined and being set to 0.0 in labels with no predicted samples. Use `zero_division` parameter to control this behavior.\n",
      "  _warn_prf(average, modifier, f\"{metric.capitalize()} is\", len(result))\n",
      "/home/lijianhang/anaconda3/envs/LLM/lib/python3.11/site-packages/sklearn/metrics/_classification.py:1565: UndefinedMetricWarning: Precision is ill-defined and being set to 0.0 in labels with no predicted samples. Use `zero_division` parameter to control this behavior.\n",
      "  _warn_prf(average, modifier, f\"{metric.capitalize()} is\", len(result))\n"
     ]
    },
    {
     "name": "stdout",
     "output_type": "stream",
     "text": [
      "\tValid ACC: 0.3875, Valid Pearson: 0.34551215381432676\n",
      "* Classification Report:\n",
      "              precision    recall  f1-score   support\n",
      "\n",
      "       moved       0.00      0.00      0.00       365\n",
      "       angry       0.39      1.00      0.56       837\n",
      "       funny       0.00      0.00      0.00       530\n",
      "         sad       0.00      0.00      0.00       292\n",
      "       novel       0.00      0.00      0.00        34\n",
      "     shocked       0.00      0.00      0.00        90\n",
      "\n",
      "    accuracy                           0.39      2148\n",
      "   macro avg       0.06      0.17      0.09      2148\n",
      "weighted avg       0.15      0.39      0.22      2148\n",
      "\n"
     ]
    },
    {
     "name": "stderr",
     "output_type": "stream",
     "text": [
      "Epoch 10 train: 100%|█████████████████████████| 195/195 [01:04<00:00,  3.03it/s, acc=0.2, loss=1.72]\n"
     ]
    },
    {
     "name": "stdout",
     "output_type": "stream",
     "text": [
      "\tTrain ACC: 0.33692307692307694, Train Pearson: 0.32546566340467487\n"
     ]
    },
    {
     "name": "stderr",
     "output_type": "stream",
     "text": [
      "Epoch 10 valid: 100%|███████████████████████████| 135/135 [00:18<00:00,  7.49it/s, acc=0, loss=1.74]\n",
      "/home/lijianhang/anaconda3/envs/LLM/lib/python3.11/site-packages/sklearn/metrics/_classification.py:1565: UndefinedMetricWarning: Precision is ill-defined and being set to 0.0 in labels with no predicted samples. Use `zero_division` parameter to control this behavior.\n",
      "  _warn_prf(average, modifier, f\"{metric.capitalize()} is\", len(result))\n",
      "/home/lijianhang/anaconda3/envs/LLM/lib/python3.11/site-packages/sklearn/metrics/_classification.py:1565: UndefinedMetricWarning: Precision is ill-defined and being set to 0.0 in labels with no predicted samples. Use `zero_division` parameter to control this behavior.\n",
      "  _warn_prf(average, modifier, f\"{metric.capitalize()} is\", len(result))\n",
      "/home/lijianhang/anaconda3/envs/LLM/lib/python3.11/site-packages/sklearn/metrics/_classification.py:1565: UndefinedMetricWarning: Precision is ill-defined and being set to 0.0 in labels with no predicted samples. Use `zero_division` parameter to control this behavior.\n",
      "  _warn_prf(average, modifier, f\"{metric.capitalize()} is\", len(result))\n"
     ]
    },
    {
     "name": "stdout",
     "output_type": "stream",
     "text": [
      "\tValid ACC: 0.3875, Valid Pearson: 0.3379386289578744\n",
      "* Classification Report:\n",
      "              precision    recall  f1-score   support\n",
      "\n",
      "       moved       0.00      0.00      0.00       365\n",
      "       angry       0.39      1.00      0.56       837\n",
      "       funny       0.00      0.00      0.00       530\n",
      "         sad       0.00      0.00      0.00       292\n",
      "       novel       0.00      0.00      0.00        34\n",
      "     shocked       0.00      0.00      0.00        90\n",
      "\n",
      "    accuracy                           0.39      2148\n",
      "   macro avg       0.06      0.17      0.09      2148\n",
      "weighted avg       0.15      0.39      0.22      2148\n",
      "\n"
     ]
    },
    {
     "name": "stderr",
     "output_type": "stream",
     "text": [
      "Epoch 11 train: 100%|█████████████████████████| 195/195 [01:04<00:00,  3.03it/s, acc=0.2, loss=1.83]\n"
     ]
    },
    {
     "name": "stdout",
     "output_type": "stream",
     "text": [
      "\tTrain ACC: 0.32923076923076927, Train Pearson: 0.32334187393167907\n"
     ]
    },
    {
     "name": "stderr",
     "output_type": "stream",
     "text": [
      "Epoch 11 valid: 100%|████████████████████████| 135/135 [00:17<00:00,  7.78it/s, acc=0.25, loss=2.03]\n",
      "/home/lijianhang/anaconda3/envs/LLM/lib/python3.11/site-packages/sklearn/metrics/_classification.py:1565: UndefinedMetricWarning: Precision is ill-defined and being set to 0.0 in labels with no predicted samples. Use `zero_division` parameter to control this behavior.\n",
      "  _warn_prf(average, modifier, f\"{metric.capitalize()} is\", len(result))\n",
      "/home/lijianhang/anaconda3/envs/LLM/lib/python3.11/site-packages/sklearn/metrics/_classification.py:1565: UndefinedMetricWarning: Precision is ill-defined and being set to 0.0 in labels with no predicted samples. Use `zero_division` parameter to control this behavior.\n",
      "  _warn_prf(average, modifier, f\"{metric.capitalize()} is\", len(result))\n",
      "/home/lijianhang/anaconda3/envs/LLM/lib/python3.11/site-packages/sklearn/metrics/_classification.py:1565: UndefinedMetricWarning: Precision is ill-defined and being set to 0.0 in labels with no predicted samples. Use `zero_division` parameter to control this behavior.\n",
      "  _warn_prf(average, modifier, f\"{metric.capitalize()} is\", len(result))\n"
     ]
    },
    {
     "name": "stdout",
     "output_type": "stream",
     "text": [
      "\tValid ACC: 0.24953703703703703, Valid Pearson: 0.352407214784098\n",
      "* Classification Report:\n",
      "              precision    recall  f1-score   support\n",
      "\n",
      "       moved       0.00      0.00      0.00       365\n",
      "       angry       0.00      0.00      0.00       837\n",
      "       funny       0.25      1.00      0.40       530\n",
      "         sad       0.00      0.00      0.00       292\n",
      "       novel       0.00      0.00      0.00        34\n",
      "     shocked       0.00      0.00      0.00        90\n",
      "\n",
      "    accuracy                           0.25      2148\n",
      "   macro avg       0.04      0.17      0.07      2148\n",
      "weighted avg       0.06      0.25      0.10      2148\n",
      "\n"
     ]
    },
    {
     "name": "stderr",
     "output_type": "stream",
     "text": [
      "Epoch 12 train: 100%|█████████████████████████| 195/195 [01:04<00:00,  3.00it/s, acc=0.4, loss=1.41]\n"
     ]
    },
    {
     "name": "stdout",
     "output_type": "stream",
     "text": [
      "\tTrain ACC: 0.3321794871794872, Train Pearson: 0.32632740155227985\n"
     ]
    },
    {
     "name": "stderr",
     "output_type": "stream",
     "text": [
      "Epoch 12 valid: 100%|███████████████████████████| 135/135 [00:17<00:00,  7.79it/s, acc=0, loss=1.87]\n",
      "/home/lijianhang/anaconda3/envs/LLM/lib/python3.11/site-packages/sklearn/metrics/_classification.py:1565: UndefinedMetricWarning: Precision is ill-defined and being set to 0.0 in labels with no predicted samples. Use `zero_division` parameter to control this behavior.\n",
      "  _warn_prf(average, modifier, f\"{metric.capitalize()} is\", len(result))\n",
      "/home/lijianhang/anaconda3/envs/LLM/lib/python3.11/site-packages/sklearn/metrics/_classification.py:1565: UndefinedMetricWarning: Precision is ill-defined and being set to 0.0 in labels with no predicted samples. Use `zero_division` parameter to control this behavior.\n",
      "  _warn_prf(average, modifier, f\"{metric.capitalize()} is\", len(result))\n",
      "/home/lijianhang/anaconda3/envs/LLM/lib/python3.11/site-packages/sklearn/metrics/_classification.py:1565: UndefinedMetricWarning: Precision is ill-defined and being set to 0.0 in labels with no predicted samples. Use `zero_division` parameter to control this behavior.\n",
      "  _warn_prf(average, modifier, f\"{metric.capitalize()} is\", len(result))\n"
     ]
    },
    {
     "name": "stdout",
     "output_type": "stream",
     "text": [
      "\tValid ACC: 0.3875, Valid Pearson: 0.3514946955349078\n",
      "* Classification Report:\n",
      "              precision    recall  f1-score   support\n",
      "\n",
      "       moved       0.00      0.00      0.00       365\n",
      "       angry       0.39      1.00      0.56       837\n",
      "       funny       0.00      0.00      0.00       530\n",
      "         sad       0.00      0.00      0.00       292\n",
      "       novel       0.00      0.00      0.00        34\n",
      "     shocked       0.00      0.00      0.00        90\n",
      "\n",
      "    accuracy                           0.39      2148\n",
      "   macro avg       0.06      0.17      0.09      2148\n",
      "weighted avg       0.15      0.39      0.22      2148\n",
      "\n"
     ]
    },
    {
     "name": "stderr",
     "output_type": "stream",
     "text": [
      "Epoch 13 train: 100%|█████████████████████████| 195/195 [01:04<00:00,  3.03it/s, acc=0.4, loss=1.39]\n"
     ]
    },
    {
     "name": "stdout",
     "output_type": "stream",
     "text": [
      "\tTrain ACC: 0.3408333333333334, Train Pearson: 0.3236781684925652\n"
     ]
    },
    {
     "name": "stderr",
     "output_type": "stream",
     "text": [
      "Epoch 13 valid: 100%|███████████████████████████| 135/135 [00:17<00:00,  7.50it/s, acc=0, loss=1.83]\n",
      "/home/lijianhang/anaconda3/envs/LLM/lib/python3.11/site-packages/sklearn/metrics/_classification.py:1565: UndefinedMetricWarning: Precision is ill-defined and being set to 0.0 in labels with no predicted samples. Use `zero_division` parameter to control this behavior.\n",
      "  _warn_prf(average, modifier, f\"{metric.capitalize()} is\", len(result))\n",
      "/home/lijianhang/anaconda3/envs/LLM/lib/python3.11/site-packages/sklearn/metrics/_classification.py:1565: UndefinedMetricWarning: Precision is ill-defined and being set to 0.0 in labels with no predicted samples. Use `zero_division` parameter to control this behavior.\n",
      "  _warn_prf(average, modifier, f\"{metric.capitalize()} is\", len(result))\n",
      "/home/lijianhang/anaconda3/envs/LLM/lib/python3.11/site-packages/sklearn/metrics/_classification.py:1565: UndefinedMetricWarning: Precision is ill-defined and being set to 0.0 in labels with no predicted samples. Use `zero_division` parameter to control this behavior.\n",
      "  _warn_prf(average, modifier, f\"{metric.capitalize()} is\", len(result))\n"
     ]
    },
    {
     "name": "stdout",
     "output_type": "stream",
     "text": [
      "\tValid ACC: 0.3875, Valid Pearson: 0.3597604089448123\n",
      "* Classification Report:\n",
      "              precision    recall  f1-score   support\n",
      "\n",
      "       moved       0.00      0.00      0.00       365\n",
      "       angry       0.39      1.00      0.56       837\n",
      "       funny       0.00      0.00      0.00       530\n",
      "         sad       0.00      0.00      0.00       292\n",
      "       novel       0.00      0.00      0.00        34\n",
      "     shocked       0.00      0.00      0.00        90\n",
      "\n",
      "    accuracy                           0.39      2148\n",
      "   macro avg       0.06      0.17      0.09      2148\n",
      "weighted avg       0.15      0.39      0.22      2148\n",
      "\n"
     ]
    },
    {
     "name": "stderr",
     "output_type": "stream",
     "text": [
      "Epoch 14 train: 100%|█████████████████████████| 195/195 [01:04<00:00,  3.03it/s, acc=0.2, loss=1.25]\n"
     ]
    },
    {
     "name": "stdout",
     "output_type": "stream",
     "text": [
      "\tTrain ACC: 0.33243589743589746, Train Pearson: 0.33057067144457997\n"
     ]
    },
    {
     "name": "stderr",
     "output_type": "stream",
     "text": [
      "Epoch 14 valid: 100%|███████████████████████████| 135/135 [00:18<00:00,  7.49it/s, acc=0, loss=1.81]\n",
      "/home/lijianhang/anaconda3/envs/LLM/lib/python3.11/site-packages/sklearn/metrics/_classification.py:1565: UndefinedMetricWarning: Precision is ill-defined and being set to 0.0 in labels with no predicted samples. Use `zero_division` parameter to control this behavior.\n",
      "  _warn_prf(average, modifier, f\"{metric.capitalize()} is\", len(result))\n",
      "/home/lijianhang/anaconda3/envs/LLM/lib/python3.11/site-packages/sklearn/metrics/_classification.py:1565: UndefinedMetricWarning: Precision is ill-defined and being set to 0.0 in labels with no predicted samples. Use `zero_division` parameter to control this behavior.\n",
      "  _warn_prf(average, modifier, f\"{metric.capitalize()} is\", len(result))\n",
      "/home/lijianhang/anaconda3/envs/LLM/lib/python3.11/site-packages/sklearn/metrics/_classification.py:1565: UndefinedMetricWarning: Precision is ill-defined and being set to 0.0 in labels with no predicted samples. Use `zero_division` parameter to control this behavior.\n",
      "  _warn_prf(average, modifier, f\"{metric.capitalize()} is\", len(result))\n"
     ]
    },
    {
     "name": "stdout",
     "output_type": "stream",
     "text": [
      "\tValid ACC: 0.3875, Valid Pearson: 0.3445292432216424\n",
      "* Classification Report:\n",
      "              precision    recall  f1-score   support\n",
      "\n",
      "       moved       0.00      0.00      0.00       365\n",
      "       angry       0.39      1.00      0.56       837\n",
      "       funny       0.00      0.00      0.00       530\n",
      "         sad       0.00      0.00      0.00       292\n",
      "       novel       0.00      0.00      0.00        34\n",
      "     shocked       0.00      0.00      0.00        90\n",
      "\n",
      "    accuracy                           0.39      2148\n",
      "   macro avg       0.06      0.17      0.09      2148\n",
      "weighted avg       0.15      0.39      0.22      2148\n",
      "\n"
     ]
    },
    {
     "name": "stderr",
     "output_type": "stream",
     "text": [
      "Epoch 15 train: 100%|█████████████████████████| 195/195 [01:04<00:00,  3.03it/s, acc=0.4, loss=1.35]\n"
     ]
    },
    {
     "name": "stdout",
     "output_type": "stream",
     "text": [
      "\tTrain ACC: 0.3308974358974359, Train Pearson: 0.3251361898553734\n"
     ]
    },
    {
     "name": "stderr",
     "output_type": "stream",
     "text": [
      "Epoch 15 valid: 100%|████████████████████████| 135/135 [00:17<00:00,  7.78it/s, acc=0.25, loss=1.76]\n",
      "/home/lijianhang/anaconda3/envs/LLM/lib/python3.11/site-packages/sklearn/metrics/_classification.py:1565: UndefinedMetricWarning: Precision is ill-defined and being set to 0.0 in labels with no predicted samples. Use `zero_division` parameter to control this behavior.\n",
      "  _warn_prf(average, modifier, f\"{metric.capitalize()} is\", len(result))\n",
      "/home/lijianhang/anaconda3/envs/LLM/lib/python3.11/site-packages/sklearn/metrics/_classification.py:1565: UndefinedMetricWarning: Precision is ill-defined and being set to 0.0 in labels with no predicted samples. Use `zero_division` parameter to control this behavior.\n",
      "  _warn_prf(average, modifier, f\"{metric.capitalize()} is\", len(result))\n",
      "/home/lijianhang/anaconda3/envs/LLM/lib/python3.11/site-packages/sklearn/metrics/_classification.py:1565: UndefinedMetricWarning: Precision is ill-defined and being set to 0.0 in labels with no predicted samples. Use `zero_division` parameter to control this behavior.\n",
      "  _warn_prf(average, modifier, f\"{metric.capitalize()} is\", len(result))\n"
     ]
    },
    {
     "name": "stdout",
     "output_type": "stream",
     "text": [
      "\tValid ACC: 0.24953703703703703, Valid Pearson: 0.35136886019240565\n",
      "* Classification Report:\n",
      "              precision    recall  f1-score   support\n",
      "\n",
      "       moved       0.00      0.00      0.00       365\n",
      "       angry       0.00      0.00      0.00       837\n",
      "       funny       0.25      1.00      0.40       530\n",
      "         sad       0.00      0.00      0.00       292\n",
      "       novel       0.00      0.00      0.00        34\n",
      "     shocked       0.00      0.00      0.00        90\n",
      "\n",
      "    accuracy                           0.25      2148\n",
      "   macro avg       0.04      0.17      0.07      2148\n",
      "weighted avg       0.06      0.25      0.10      2148\n",
      "\n"
     ]
    },
    {
     "name": "stderr",
     "output_type": "stream",
     "text": [
      "Epoch 16 train: 100%|█████████████████████████| 195/195 [01:05<00:00,  3.00it/s, acc=0.2, loss=1.95]\n"
     ]
    },
    {
     "name": "stdout",
     "output_type": "stream",
     "text": [
      "\tTrain ACC: 0.3410897435897436, Train Pearson: 0.3293452439014763\n"
     ]
    },
    {
     "name": "stderr",
     "output_type": "stream",
     "text": [
      "Epoch 16 valid: 100%|████████████████████████| 135/135 [00:17<00:00,  7.79it/s, acc=0.25, loss=1.77]\n",
      "/home/lijianhang/anaconda3/envs/LLM/lib/python3.11/site-packages/sklearn/metrics/_classification.py:1565: UndefinedMetricWarning: Precision is ill-defined and being set to 0.0 in labels with no predicted samples. Use `zero_division` parameter to control this behavior.\n",
      "  _warn_prf(average, modifier, f\"{metric.capitalize()} is\", len(result))\n",
      "/home/lijianhang/anaconda3/envs/LLM/lib/python3.11/site-packages/sklearn/metrics/_classification.py:1565: UndefinedMetricWarning: Precision is ill-defined and being set to 0.0 in labels with no predicted samples. Use `zero_division` parameter to control this behavior.\n",
      "  _warn_prf(average, modifier, f\"{metric.capitalize()} is\", len(result))\n",
      "/home/lijianhang/anaconda3/envs/LLM/lib/python3.11/site-packages/sklearn/metrics/_classification.py:1565: UndefinedMetricWarning: Precision is ill-defined and being set to 0.0 in labels with no predicted samples. Use `zero_division` parameter to control this behavior.\n",
      "  _warn_prf(average, modifier, f\"{metric.capitalize()} is\", len(result))\n"
     ]
    },
    {
     "name": "stdout",
     "output_type": "stream",
     "text": [
      "\tValid ACC: 0.24953703703703703, Valid Pearson: 0.35154700673290934\n",
      "* Classification Report:\n",
      "              precision    recall  f1-score   support\n",
      "\n",
      "       moved       0.00      0.00      0.00       365\n",
      "       angry       0.00      0.00      0.00       837\n",
      "       funny       0.25      1.00      0.40       530\n",
      "         sad       0.00      0.00      0.00       292\n",
      "       novel       0.00      0.00      0.00        34\n",
      "     shocked       0.00      0.00      0.00        90\n",
      "\n",
      "    accuracy                           0.25      2148\n",
      "   macro avg       0.04      0.17      0.07      2148\n",
      "weighted avg       0.06      0.25      0.10      2148\n",
      "\n"
     ]
    },
    {
     "name": "stderr",
     "output_type": "stream",
     "text": [
      "Epoch 17 train: 100%|██████████████████████████| 195/195 [01:04<00:00,  3.03it/s, acc=0.2, loss=1.3]\n"
     ]
    },
    {
     "name": "stdout",
     "output_type": "stream",
     "text": [
      "\tTrain ACC: 0.32826923076923076, Train Pearson: 0.3286283489765392\n"
     ]
    },
    {
     "name": "stderr",
     "output_type": "stream",
     "text": [
      "Epoch 17 valid: 100%|███████████████████████████| 135/135 [00:18<00:00,  7.45it/s, acc=0, loss=1.87]\n",
      "/home/lijianhang/anaconda3/envs/LLM/lib/python3.11/site-packages/sklearn/metrics/_classification.py:1565: UndefinedMetricWarning: Precision is ill-defined and being set to 0.0 in labels with no predicted samples. Use `zero_division` parameter to control this behavior.\n",
      "  _warn_prf(average, modifier, f\"{metric.capitalize()} is\", len(result))\n",
      "/home/lijianhang/anaconda3/envs/LLM/lib/python3.11/site-packages/sklearn/metrics/_classification.py:1565: UndefinedMetricWarning: Precision is ill-defined and being set to 0.0 in labels with no predicted samples. Use `zero_division` parameter to control this behavior.\n",
      "  _warn_prf(average, modifier, f\"{metric.capitalize()} is\", len(result))\n",
      "/home/lijianhang/anaconda3/envs/LLM/lib/python3.11/site-packages/sklearn/metrics/_classification.py:1565: UndefinedMetricWarning: Precision is ill-defined and being set to 0.0 in labels with no predicted samples. Use `zero_division` parameter to control this behavior.\n",
      "  _warn_prf(average, modifier, f\"{metric.capitalize()} is\", len(result))\n"
     ]
    },
    {
     "name": "stdout",
     "output_type": "stream",
     "text": [
      "\tValid ACC: 0.3875, Valid Pearson: 0.36217998278747476\n",
      "* Classification Report:\n",
      "              precision    recall  f1-score   support\n",
      "\n",
      "       moved       0.00      0.00      0.00       365\n",
      "       angry       0.39      1.00      0.56       837\n",
      "       funny       0.00      0.00      0.00       530\n",
      "         sad       0.00      0.00      0.00       292\n",
      "       novel       0.00      0.00      0.00        34\n",
      "     shocked       0.00      0.00      0.00        90\n",
      "\n",
      "    accuracy                           0.39      2148\n",
      "   macro avg       0.06      0.17      0.09      2148\n",
      "weighted avg       0.15      0.39      0.22      2148\n",
      "\n"
     ]
    },
    {
     "name": "stderr",
     "output_type": "stream",
     "text": [
      "Epoch 18 train: 100%|█████████████████████████| 195/195 [01:04<00:00,  3.03it/s, acc=0.2, loss=1.39]\n"
     ]
    },
    {
     "name": "stdout",
     "output_type": "stream",
     "text": [
      "\tTrain ACC: 0.34205128205128205, Train Pearson: 0.32756076463364503\n"
     ]
    },
    {
     "name": "stderr",
     "output_type": "stream",
     "text": [
      "Epoch 18 valid: 100%|███████████████████████████| 135/135 [00:18<00:00,  7.49it/s, acc=0, loss=1.93]\n",
      "/home/lijianhang/anaconda3/envs/LLM/lib/python3.11/site-packages/sklearn/metrics/_classification.py:1565: UndefinedMetricWarning: Precision is ill-defined and being set to 0.0 in labels with no predicted samples. Use `zero_division` parameter to control this behavior.\n",
      "  _warn_prf(average, modifier, f\"{metric.capitalize()} is\", len(result))\n",
      "/home/lijianhang/anaconda3/envs/LLM/lib/python3.11/site-packages/sklearn/metrics/_classification.py:1565: UndefinedMetricWarning: Precision is ill-defined and being set to 0.0 in labels with no predicted samples. Use `zero_division` parameter to control this behavior.\n",
      "  _warn_prf(average, modifier, f\"{metric.capitalize()} is\", len(result))\n",
      "/home/lijianhang/anaconda3/envs/LLM/lib/python3.11/site-packages/sklearn/metrics/_classification.py:1565: UndefinedMetricWarning: Precision is ill-defined and being set to 0.0 in labels with no predicted samples. Use `zero_division` parameter to control this behavior.\n",
      "  _warn_prf(average, modifier, f\"{metric.capitalize()} is\", len(result))\n"
     ]
    },
    {
     "name": "stdout",
     "output_type": "stream",
     "text": [
      "\tValid ACC: 0.3875, Valid Pearson: 0.3685027214971437\n",
      "* Classification Report:\n",
      "              precision    recall  f1-score   support\n",
      "\n",
      "       moved       0.00      0.00      0.00       365\n",
      "       angry       0.39      1.00      0.56       837\n",
      "       funny       0.00      0.00      0.00       530\n",
      "         sad       0.00      0.00      0.00       292\n",
      "       novel       0.00      0.00      0.00        34\n",
      "     shocked       0.00      0.00      0.00        90\n",
      "\n",
      "    accuracy                           0.39      2148\n",
      "   macro avg       0.06      0.17      0.09      2148\n",
      "weighted avg       0.15      0.39      0.22      2148\n",
      "\n"
     ]
    },
    {
     "name": "stderr",
     "output_type": "stream",
     "text": [
      "Epoch 19 train: 100%|█████████████████████████| 195/195 [01:04<00:00,  3.03it/s, acc=0.2, loss=1.53]\n"
     ]
    },
    {
     "name": "stdout",
     "output_type": "stream",
     "text": [
      "\tTrain ACC: 0.3452564102564103, Train Pearson: 0.330051995674666\n"
     ]
    },
    {
     "name": "stderr",
     "output_type": "stream",
     "text": [
      "Epoch 19 valid: 100%|███████████████████████████| 135/135 [00:17<00:00,  7.78it/s, acc=0, loss=1.94]\n",
      "/home/lijianhang/anaconda3/envs/LLM/lib/python3.11/site-packages/sklearn/metrics/_classification.py:1565: UndefinedMetricWarning: Precision is ill-defined and being set to 0.0 in labels with no predicted samples. Use `zero_division` parameter to control this behavior.\n",
      "  _warn_prf(average, modifier, f\"{metric.capitalize()} is\", len(result))\n",
      "/home/lijianhang/anaconda3/envs/LLM/lib/python3.11/site-packages/sklearn/metrics/_classification.py:1565: UndefinedMetricWarning: Precision is ill-defined and being set to 0.0 in labels with no predicted samples. Use `zero_division` parameter to control this behavior.\n",
      "  _warn_prf(average, modifier, f\"{metric.capitalize()} is\", len(result))\n",
      "/home/lijianhang/anaconda3/envs/LLM/lib/python3.11/site-packages/sklearn/metrics/_classification.py:1565: UndefinedMetricWarning: Precision is ill-defined and being set to 0.0 in labels with no predicted samples. Use `zero_division` parameter to control this behavior.\n",
      "  _warn_prf(average, modifier, f\"{metric.capitalize()} is\", len(result))\n"
     ]
    },
    {
     "name": "stdout",
     "output_type": "stream",
     "text": [
      "\tValid ACC: 0.3875, Valid Pearson: 0.3633120068798387\n",
      "* Classification Report:\n",
      "              precision    recall  f1-score   support\n",
      "\n",
      "       moved       0.00      0.00      0.00       365\n",
      "       angry       0.39      1.00      0.56       837\n",
      "       funny       0.00      0.00      0.00       530\n",
      "         sad       0.00      0.00      0.00       292\n",
      "       novel       0.00      0.00      0.00        34\n",
      "     shocked       0.00      0.00      0.00        90\n",
      "\n",
      "    accuracy                           0.39      2148\n",
      "   macro avg       0.06      0.17      0.09      2148\n",
      "weighted avg       0.15      0.39      0.22      2148\n",
      "\n",
      "loading data from: data/train.json\n"
     ]
    },
    {
     "name": "stderr",
     "output_type": "stream",
     "text": [
      "100%|██████████| 3109/3109 [00:08<00:00, 348.89it/s]\n"
     ]
    },
    {
     "name": "stdout",
     "output_type": "stream",
     "text": [
      "loading data from: data/test.json\n"
     ]
    },
    {
     "name": "stderr",
     "output_type": "stream",
     "text": [
      "100%|██████████| 2148/2148 [00:06<00:00, 314.07it/s]\n",
      "Epoch 0 train: 100%|████████████████████████████| 195/195 [01:06<00:00,  2.93it/s, acc=0, loss=2.32]\n"
     ]
    },
    {
     "name": "stdout",
     "output_type": "stream",
     "text": [
      "\tTrain ACC: 0.3211538461538462, Train Pearson: 0.30007484615384966\n"
     ]
    },
    {
     "name": "stderr",
     "output_type": "stream",
     "text": [
      "Epoch 0 valid: 100%|████████████████████████████| 135/135 [00:17<00:00,  7.86it/s, acc=0, loss=1.71]\n",
      "/home/lijianhang/anaconda3/envs/LLM/lib/python3.11/site-packages/sklearn/metrics/_classification.py:1565: UndefinedMetricWarning: Precision is ill-defined and being set to 0.0 in labels with no predicted samples. Use `zero_division` parameter to control this behavior.\n",
      "  _warn_prf(average, modifier, f\"{metric.capitalize()} is\", len(result))\n",
      "/home/lijianhang/anaconda3/envs/LLM/lib/python3.11/site-packages/sklearn/metrics/_classification.py:1565: UndefinedMetricWarning: Precision is ill-defined and being set to 0.0 in labels with no predicted samples. Use `zero_division` parameter to control this behavior.\n",
      "  _warn_prf(average, modifier, f\"{metric.capitalize()} is\", len(result))\n",
      "/home/lijianhang/anaconda3/envs/LLM/lib/python3.11/site-packages/sklearn/metrics/_classification.py:1565: UndefinedMetricWarning: Precision is ill-defined and being set to 0.0 in labels with no predicted samples. Use `zero_division` parameter to control this behavior.\n",
      "  _warn_prf(average, modifier, f\"{metric.capitalize()} is\", len(result))\n"
     ]
    },
    {
     "name": "stdout",
     "output_type": "stream",
     "text": [
      "\tValid ACC: 0.3875, Valid Pearson: 0.2824897279442497\n",
      "* Classification Report:\n",
      "              precision    recall  f1-score   support\n",
      "\n",
      "       moved       0.00      0.00      0.00       365\n",
      "       angry       0.39      1.00      0.56       837\n",
      "       funny       0.00      0.00      0.00       530\n",
      "         sad       0.00      0.00      0.00       292\n",
      "       novel       0.00      0.00      0.00        34\n",
      "     shocked       0.00      0.00      0.00        90\n",
      "\n",
      "    accuracy                           0.39      2148\n",
      "   macro avg       0.06      0.17      0.09      2148\n",
      "weighted avg       0.15      0.39      0.22      2148\n",
      "\n"
     ]
    },
    {
     "name": "stderr",
     "output_type": "stream",
     "text": [
      "Epoch 1 train: 100%|██████████████████████████| 195/195 [01:04<00:00,  3.02it/s, acc=0.2, loss=1.36]\n"
     ]
    },
    {
     "name": "stdout",
     "output_type": "stream",
     "text": [
      "\tTrain ACC: 0.32121794871794873, Train Pearson: 0.29328644377285185\n"
     ]
    },
    {
     "name": "stderr",
     "output_type": "stream",
     "text": [
      "Epoch 1 valid: 100%|████████████████████████████| 135/135 [00:18<00:00,  7.43it/s, acc=0, loss=2.17]\n",
      "/home/lijianhang/anaconda3/envs/LLM/lib/python3.11/site-packages/sklearn/metrics/_classification.py:1565: UndefinedMetricWarning: Precision is ill-defined and being set to 0.0 in labels with no predicted samples. Use `zero_division` parameter to control this behavior.\n",
      "  _warn_prf(average, modifier, f\"{metric.capitalize()} is\", len(result))\n",
      "/home/lijianhang/anaconda3/envs/LLM/lib/python3.11/site-packages/sklearn/metrics/_classification.py:1565: UndefinedMetricWarning: Precision is ill-defined and being set to 0.0 in labels with no predicted samples. Use `zero_division` parameter to control this behavior.\n",
      "  _warn_prf(average, modifier, f\"{metric.capitalize()} is\", len(result))\n",
      "/home/lijianhang/anaconda3/envs/LLM/lib/python3.11/site-packages/sklearn/metrics/_classification.py:1565: UndefinedMetricWarning: Precision is ill-defined and being set to 0.0 in labels with no predicted samples. Use `zero_division` parameter to control this behavior.\n",
      "  _warn_prf(average, modifier, f\"{metric.capitalize()} is\", len(result))\n"
     ]
    },
    {
     "name": "stdout",
     "output_type": "stream",
     "text": [
      "\tValid ACC: 0.3875, Valid Pearson: 0.37156367365307125\n",
      "* Classification Report:\n",
      "              precision    recall  f1-score   support\n",
      "\n",
      "       moved       0.00      0.00      0.00       365\n",
      "       angry       0.39      1.00      0.56       837\n",
      "       funny       0.00      0.00      0.00       530\n",
      "         sad       0.00      0.00      0.00       292\n",
      "       novel       0.00      0.00      0.00        34\n",
      "     shocked       0.00      0.00      0.00        90\n",
      "\n",
      "    accuracy                           0.39      2148\n",
      "   macro avg       0.06      0.17      0.09      2148\n",
      "weighted avg       0.15      0.39      0.22      2148\n",
      "\n"
     ]
    },
    {
     "name": "stderr",
     "output_type": "stream",
     "text": [
      "Epoch 2 train: 100%|██████████████████████████| 195/195 [01:04<00:00,  3.02it/s, acc=0.2, loss=1.31]\n"
     ]
    },
    {
     "name": "stdout",
     "output_type": "stream",
     "text": [
      "\tTrain ACC: 0.335, Train Pearson: 0.31147458539399075\n"
     ]
    },
    {
     "name": "stderr",
     "output_type": "stream",
     "text": [
      "Epoch 2 valid: 100%|████████████████████████████| 135/135 [00:17<00:00,  7.50it/s, acc=0, loss=1.67]\n",
      "/home/lijianhang/anaconda3/envs/LLM/lib/python3.11/site-packages/sklearn/metrics/_classification.py:1565: UndefinedMetricWarning: Precision is ill-defined and being set to 0.0 in labels with no predicted samples. Use `zero_division` parameter to control this behavior.\n",
      "  _warn_prf(average, modifier, f\"{metric.capitalize()} is\", len(result))\n",
      "/home/lijianhang/anaconda3/envs/LLM/lib/python3.11/site-packages/sklearn/metrics/_classification.py:1565: UndefinedMetricWarning: Precision is ill-defined and being set to 0.0 in labels with no predicted samples. Use `zero_division` parameter to control this behavior.\n",
      "  _warn_prf(average, modifier, f\"{metric.capitalize()} is\", len(result))\n",
      "/home/lijianhang/anaconda3/envs/LLM/lib/python3.11/site-packages/sklearn/metrics/_classification.py:1565: UndefinedMetricWarning: Precision is ill-defined and being set to 0.0 in labels with no predicted samples. Use `zero_division` parameter to control this behavior.\n",
      "  _warn_prf(average, modifier, f\"{metric.capitalize()} is\", len(result))\n"
     ]
    },
    {
     "name": "stdout",
     "output_type": "stream",
     "text": [
      "\tValid ACC: 0.3875, Valid Pearson: 0.3386401297751847\n",
      "* Classification Report:\n",
      "              precision    recall  f1-score   support\n",
      "\n",
      "       moved       0.00      0.00      0.00       365\n",
      "       angry       0.39      1.00      0.56       837\n",
      "       funny       0.00      0.00      0.00       530\n",
      "         sad       0.00      0.00      0.00       292\n",
      "       novel       0.00      0.00      0.00        34\n",
      "     shocked       0.00      0.00      0.00        90\n",
      "\n",
      "    accuracy                           0.39      2148\n",
      "   macro avg       0.06      0.17      0.09      2148\n",
      "weighted avg       0.15      0.39      0.22      2148\n",
      "\n"
     ]
    },
    {
     "name": "stderr",
     "output_type": "stream",
     "text": [
      "Epoch 3 train: 100%|██████████████████████████| 195/195 [01:04<00:00,  3.02it/s, acc=0.2, loss=1.91]\n"
     ]
    },
    {
     "name": "stdout",
     "output_type": "stream",
     "text": [
      "\tTrain ACC: 0.3237820512820513, Train Pearson: 0.30690715629593046\n"
     ]
    },
    {
     "name": "stderr",
     "output_type": "stream",
     "text": [
      "Epoch 3 valid: 100%|██████████████████████████| 135/135 [00:17<00:00,  7.79it/s, acc=0.25, loss=1.8]\n",
      "/home/lijianhang/anaconda3/envs/LLM/lib/python3.11/site-packages/sklearn/metrics/_classification.py:1565: UndefinedMetricWarning: Precision is ill-defined and being set to 0.0 in labels with no predicted samples. Use `zero_division` parameter to control this behavior.\n",
      "  _warn_prf(average, modifier, f\"{metric.capitalize()} is\", len(result))\n",
      "/home/lijianhang/anaconda3/envs/LLM/lib/python3.11/site-packages/sklearn/metrics/_classification.py:1565: UndefinedMetricWarning: Precision is ill-defined and being set to 0.0 in labels with no predicted samples. Use `zero_division` parameter to control this behavior.\n",
      "  _warn_prf(average, modifier, f\"{metric.capitalize()} is\", len(result))\n",
      "/home/lijianhang/anaconda3/envs/LLM/lib/python3.11/site-packages/sklearn/metrics/_classification.py:1565: UndefinedMetricWarning: Precision is ill-defined and being set to 0.0 in labels with no predicted samples. Use `zero_division` parameter to control this behavior.\n",
      "  _warn_prf(average, modifier, f\"{metric.capitalize()} is\", len(result))\n"
     ]
    },
    {
     "name": "stdout",
     "output_type": "stream",
     "text": [
      "\tValid ACC: 0.24953703703703703, Valid Pearson: 0.25949089761260935\n",
      "* Classification Report:\n",
      "              precision    recall  f1-score   support\n",
      "\n",
      "       moved       0.00      0.00      0.00       365\n",
      "       angry       0.00      0.00      0.00       837\n",
      "       funny       0.25      1.00      0.40       530\n",
      "         sad       0.00      0.00      0.00       292\n",
      "       novel       0.00      0.00      0.00        34\n",
      "     shocked       0.00      0.00      0.00        90\n",
      "\n",
      "    accuracy                           0.25      2148\n",
      "   macro avg       0.04      0.17      0.07      2148\n",
      "weighted avg       0.06      0.25      0.10      2148\n",
      "\n"
     ]
    },
    {
     "name": "stderr",
     "output_type": "stream",
     "text": [
      "Epoch 4 train: 100%|████████████████████████████| 195/195 [01:05<00:00,  2.99it/s, acc=0, loss=1.51]\n"
     ]
    },
    {
     "name": "stdout",
     "output_type": "stream",
     "text": [
      "\tTrain ACC: 0.31506410256410255, Train Pearson: 0.29665873057232034\n"
     ]
    },
    {
     "name": "stderr",
     "output_type": "stream",
     "text": [
      "Epoch 4 valid: 100%|█████████████████████████| 135/135 [00:17<00:00,  7.81it/s, acc=0.25, loss=1.43]\n",
      "/home/lijianhang/anaconda3/envs/LLM/lib/python3.11/site-packages/sklearn/metrics/_classification.py:1565: UndefinedMetricWarning: Precision is ill-defined and being set to 0.0 in labels with no predicted samples. Use `zero_division` parameter to control this behavior.\n",
      "  _warn_prf(average, modifier, f\"{metric.capitalize()} is\", len(result))\n",
      "/home/lijianhang/anaconda3/envs/LLM/lib/python3.11/site-packages/sklearn/metrics/_classification.py:1565: UndefinedMetricWarning: Precision is ill-defined and being set to 0.0 in labels with no predicted samples. Use `zero_division` parameter to control this behavior.\n",
      "  _warn_prf(average, modifier, f\"{metric.capitalize()} is\", len(result))\n",
      "/home/lijianhang/anaconda3/envs/LLM/lib/python3.11/site-packages/sklearn/metrics/_classification.py:1565: UndefinedMetricWarning: Precision is ill-defined and being set to 0.0 in labels with no predicted samples. Use `zero_division` parameter to control this behavior.\n",
      "  _warn_prf(average, modifier, f\"{metric.capitalize()} is\", len(result))\n"
     ]
    },
    {
     "name": "stdout",
     "output_type": "stream",
     "text": [
      "\tValid ACC: 0.24953703703703703, Valid Pearson: 0.2767511194087189\n",
      "* Classification Report:\n",
      "              precision    recall  f1-score   support\n",
      "\n",
      "       moved       0.00      0.00      0.00       365\n",
      "       angry       0.00      0.00      0.00       837\n",
      "       funny       0.25      1.00      0.40       530\n",
      "         sad       0.00      0.00      0.00       292\n",
      "       novel       0.00      0.00      0.00        34\n",
      "     shocked       0.00      0.00      0.00        90\n",
      "\n",
      "    accuracy                           0.25      2148\n",
      "   macro avg       0.04      0.17      0.07      2148\n",
      "weighted avg       0.06      0.25      0.10      2148\n",
      "\n"
     ]
    },
    {
     "name": "stderr",
     "output_type": "stream",
     "text": [
      "Epoch 5 train: 100%|██████████████████████████| 195/195 [01:04<00:00,  3.01it/s, acc=0.2, loss=2.39]\n"
     ]
    },
    {
     "name": "stdout",
     "output_type": "stream",
     "text": [
      "\tTrain ACC: 0.3285897435897436, Train Pearson: 0.3039287005239395\n"
     ]
    },
    {
     "name": "stderr",
     "output_type": "stream",
     "text": [
      "Epoch 5 valid: 100%|████████████████████████████| 135/135 [00:18<00:00,  7.49it/s, acc=0, loss=2.25]\n",
      "/home/lijianhang/anaconda3/envs/LLM/lib/python3.11/site-packages/sklearn/metrics/_classification.py:1565: UndefinedMetricWarning: Precision is ill-defined and being set to 0.0 in labels with no predicted samples. Use `zero_division` parameter to control this behavior.\n",
      "  _warn_prf(average, modifier, f\"{metric.capitalize()} is\", len(result))\n",
      "/home/lijianhang/anaconda3/envs/LLM/lib/python3.11/site-packages/sklearn/metrics/_classification.py:1565: UndefinedMetricWarning: Precision is ill-defined and being set to 0.0 in labels with no predicted samples. Use `zero_division` parameter to control this behavior.\n",
      "  _warn_prf(average, modifier, f\"{metric.capitalize()} is\", len(result))\n",
      "/home/lijianhang/anaconda3/envs/LLM/lib/python3.11/site-packages/sklearn/metrics/_classification.py:1565: UndefinedMetricWarning: Precision is ill-defined and being set to 0.0 in labels with no predicted samples. Use `zero_division` parameter to control this behavior.\n",
      "  _warn_prf(average, modifier, f\"{metric.capitalize()} is\", len(result))\n"
     ]
    },
    {
     "name": "stdout",
     "output_type": "stream",
     "text": [
      "\tValid ACC: 0.3875, Valid Pearson: 0.3564777421532798\n",
      "* Classification Report:\n",
      "              precision    recall  f1-score   support\n",
      "\n",
      "       moved       0.00      0.00      0.00       365\n",
      "       angry       0.39      1.00      0.56       837\n",
      "       funny       0.00      0.00      0.00       530\n",
      "         sad       0.00      0.00      0.00       292\n",
      "       novel       0.00      0.00      0.00        34\n",
      "     shocked       0.00      0.00      0.00        90\n",
      "\n",
      "    accuracy                           0.39      2148\n",
      "   macro avg       0.06      0.17      0.09      2148\n",
      "weighted avg       0.15      0.39      0.22      2148\n",
      "\n"
     ]
    },
    {
     "name": "stderr",
     "output_type": "stream",
     "text": [
      "Epoch 6 train: 100%|████████████████████████████| 195/195 [01:04<00:00,  3.02it/s, acc=0, loss=1.97]\n"
     ]
    },
    {
     "name": "stdout",
     "output_type": "stream",
     "text": [
      "\tTrain ACC: 0.33621794871794874, Train Pearson: 0.3071799066921457\n"
     ]
    },
    {
     "name": "stderr",
     "output_type": "stream",
     "text": [
      "Epoch 6 valid: 100%|███████████████████████████████| 135/135 [00:17<00:00,  7.51it/s, acc=0, loss=2]\n",
      "/home/lijianhang/anaconda3/envs/LLM/lib/python3.11/site-packages/sklearn/metrics/_classification.py:1565: UndefinedMetricWarning: Precision is ill-defined and being set to 0.0 in labels with no predicted samples. Use `zero_division` parameter to control this behavior.\n",
      "  _warn_prf(average, modifier, f\"{metric.capitalize()} is\", len(result))\n",
      "/home/lijianhang/anaconda3/envs/LLM/lib/python3.11/site-packages/sklearn/metrics/_classification.py:1565: UndefinedMetricWarning: Precision is ill-defined and being set to 0.0 in labels with no predicted samples. Use `zero_division` parameter to control this behavior.\n",
      "  _warn_prf(average, modifier, f\"{metric.capitalize()} is\", len(result))\n",
      "/home/lijianhang/anaconda3/envs/LLM/lib/python3.11/site-packages/sklearn/metrics/_classification.py:1565: UndefinedMetricWarning: Precision is ill-defined and being set to 0.0 in labels with no predicted samples. Use `zero_division` parameter to control this behavior.\n",
      "  _warn_prf(average, modifier, f\"{metric.capitalize()} is\", len(result))\n"
     ]
    },
    {
     "name": "stdout",
     "output_type": "stream",
     "text": [
      "\tValid ACC: 0.3875, Valid Pearson: 0.3091999457683533\n",
      "* Classification Report:\n",
      "              precision    recall  f1-score   support\n",
      "\n",
      "       moved       0.00      0.00      0.00       365\n",
      "       angry       0.39      1.00      0.56       837\n",
      "       funny       0.00      0.00      0.00       530\n",
      "         sad       0.00      0.00      0.00       292\n",
      "       novel       0.00      0.00      0.00        34\n",
      "     shocked       0.00      0.00      0.00        90\n",
      "\n",
      "    accuracy                           0.39      2148\n",
      "   macro avg       0.06      0.17      0.09      2148\n",
      "weighted avg       0.15      0.39      0.22      2148\n",
      "\n"
     ]
    },
    {
     "name": "stderr",
     "output_type": "stream",
     "text": [
      "Epoch 7 train: 100%|███████████████████████████| 195/195 [01:04<00:00,  3.02it/s, acc=0.4, loss=1.3]\n"
     ]
    },
    {
     "name": "stdout",
     "output_type": "stream",
     "text": [
      "\tTrain ACC: 0.32416666666666666, Train Pearson: 0.3094445761106239\n"
     ]
    },
    {
     "name": "stderr",
     "output_type": "stream",
     "text": [
      "Epoch 7 valid: 100%|████████████████████████████| 135/135 [00:17<00:00,  7.80it/s, acc=0, loss=2.31]\n",
      "/home/lijianhang/anaconda3/envs/LLM/lib/python3.11/site-packages/sklearn/metrics/_classification.py:1565: UndefinedMetricWarning: Precision is ill-defined and being set to 0.0 in labels with no predicted samples. Use `zero_division` parameter to control this behavior.\n",
      "  _warn_prf(average, modifier, f\"{metric.capitalize()} is\", len(result))\n",
      "/home/lijianhang/anaconda3/envs/LLM/lib/python3.11/site-packages/sklearn/metrics/_classification.py:1565: UndefinedMetricWarning: Precision is ill-defined and being set to 0.0 in labels with no predicted samples. Use `zero_division` parameter to control this behavior.\n",
      "  _warn_prf(average, modifier, f\"{metric.capitalize()} is\", len(result))\n",
      "/home/lijianhang/anaconda3/envs/LLM/lib/python3.11/site-packages/sklearn/metrics/_classification.py:1565: UndefinedMetricWarning: Precision is ill-defined and being set to 0.0 in labels with no predicted samples. Use `zero_division` parameter to control this behavior.\n",
      "  _warn_prf(average, modifier, f\"{metric.capitalize()} is\", len(result))\n"
     ]
    },
    {
     "name": "stdout",
     "output_type": "stream",
     "text": [
      "\tValid ACC: 0.3875, Valid Pearson: 0.32789856244639776\n",
      "* Classification Report:\n",
      "              precision    recall  f1-score   support\n",
      "\n",
      "       moved       0.00      0.00      0.00       365\n",
      "       angry       0.39      1.00      0.56       837\n",
      "       funny       0.00      0.00      0.00       530\n",
      "         sad       0.00      0.00      0.00       292\n",
      "       novel       0.00      0.00      0.00        34\n",
      "     shocked       0.00      0.00      0.00        90\n",
      "\n",
      "    accuracy                           0.39      2148\n",
      "   macro avg       0.06      0.17      0.09      2148\n",
      "weighted avg       0.15      0.39      0.22      2148\n",
      "\n"
     ]
    },
    {
     "name": "stderr",
     "output_type": "stream",
     "text": [
      "Epoch 8 train: 100%|█████████████████████████| 195/195 [01:05<00:00,  2.99it/s, acc=0.6, loss=0.908]\n"
     ]
    },
    {
     "name": "stdout",
     "output_type": "stream",
     "text": [
      "\tTrain ACC: 0.34057692307692305, Train Pearson: 0.3110993644337068\n"
     ]
    },
    {
     "name": "stderr",
     "output_type": "stream",
     "text": [
      "Epoch 8 valid: 100%|█████████████████████████| 135/135 [00:17<00:00,  7.78it/s, acc=0.25, loss=2.05]\n",
      "/home/lijianhang/anaconda3/envs/LLM/lib/python3.11/site-packages/sklearn/metrics/_classification.py:1565: UndefinedMetricWarning: Precision is ill-defined and being set to 0.0 in labels with no predicted samples. Use `zero_division` parameter to control this behavior.\n",
      "  _warn_prf(average, modifier, f\"{metric.capitalize()} is\", len(result))\n",
      "/home/lijianhang/anaconda3/envs/LLM/lib/python3.11/site-packages/sklearn/metrics/_classification.py:1565: UndefinedMetricWarning: Precision is ill-defined and being set to 0.0 in labels with no predicted samples. Use `zero_division` parameter to control this behavior.\n",
      "  _warn_prf(average, modifier, f\"{metric.capitalize()} is\", len(result))\n",
      "/home/lijianhang/anaconda3/envs/LLM/lib/python3.11/site-packages/sklearn/metrics/_classification.py:1565: UndefinedMetricWarning: Precision is ill-defined and being set to 0.0 in labels with no predicted samples. Use `zero_division` parameter to control this behavior.\n",
      "  _warn_prf(average, modifier, f\"{metric.capitalize()} is\", len(result))\n"
     ]
    },
    {
     "name": "stdout",
     "output_type": "stream",
     "text": [
      "\tValid ACC: 0.24953703703703703, Valid Pearson: 0.299639635333137\n",
      "* Classification Report:\n",
      "              precision    recall  f1-score   support\n",
      "\n",
      "       moved       0.00      0.00      0.00       365\n",
      "       angry       0.00      0.00      0.00       837\n",
      "       funny       0.25      1.00      0.40       530\n",
      "         sad       0.00      0.00      0.00       292\n",
      "       novel       0.00      0.00      0.00        34\n",
      "     shocked       0.00      0.00      0.00        90\n",
      "\n",
      "    accuracy                           0.25      2148\n",
      "   macro avg       0.04      0.17      0.07      2148\n",
      "weighted avg       0.06      0.25      0.10      2148\n",
      "\n"
     ]
    },
    {
     "name": "stderr",
     "output_type": "stream",
     "text": [
      "Epoch 9 train: 100%|██████████████████████████| 195/195 [01:04<00:00,  3.02it/s, acc=0.4, loss=1.26]\n"
     ]
    },
    {
     "name": "stdout",
     "output_type": "stream",
     "text": [
      "\tTrain ACC: 0.3161538461538462, Train Pearson: 0.300318103938127\n"
     ]
    },
    {
     "name": "stderr",
     "output_type": "stream",
     "text": [
      "Epoch 9 valid: 100%|██████████████████████████| 135/135 [00:17<00:00,  7.50it/s, acc=0.25, loss=2.3]\n",
      "/home/lijianhang/anaconda3/envs/LLM/lib/python3.11/site-packages/sklearn/metrics/_classification.py:1565: UndefinedMetricWarning: Precision is ill-defined and being set to 0.0 in labels with no predicted samples. Use `zero_division` parameter to control this behavior.\n",
      "  _warn_prf(average, modifier, f\"{metric.capitalize()} is\", len(result))\n",
      "/home/lijianhang/anaconda3/envs/LLM/lib/python3.11/site-packages/sklearn/metrics/_classification.py:1565: UndefinedMetricWarning: Precision is ill-defined and being set to 0.0 in labels with no predicted samples. Use `zero_division` parameter to control this behavior.\n",
      "  _warn_prf(average, modifier, f\"{metric.capitalize()} is\", len(result))\n",
      "/home/lijianhang/anaconda3/envs/LLM/lib/python3.11/site-packages/sklearn/metrics/_classification.py:1565: UndefinedMetricWarning: Precision is ill-defined and being set to 0.0 in labels with no predicted samples. Use `zero_division` parameter to control this behavior.\n",
      "  _warn_prf(average, modifier, f\"{metric.capitalize()} is\", len(result))\n"
     ]
    },
    {
     "name": "stdout",
     "output_type": "stream",
     "text": [
      "\tValid ACC: 0.24953703703703703, Valid Pearson: 0.32424953367645215\n",
      "* Classification Report:\n",
      "              precision    recall  f1-score   support\n",
      "\n",
      "       moved       0.00      0.00      0.00       365\n",
      "       angry       0.00      0.00      0.00       837\n",
      "       funny       0.25      1.00      0.40       530\n",
      "         sad       0.00      0.00      0.00       292\n",
      "       novel       0.00      0.00      0.00        34\n",
      "     shocked       0.00      0.00      0.00        90\n",
      "\n",
      "    accuracy                           0.25      2148\n",
      "   macro avg       0.04      0.17      0.07      2148\n",
      "weighted avg       0.06      0.25      0.10      2148\n",
      "\n"
     ]
    },
    {
     "name": "stderr",
     "output_type": "stream",
     "text": [
      "Epoch 10 train: 100%|█████████████████████████| 195/195 [01:04<00:00,  3.02it/s, acc=0.2, loss=1.51]\n"
     ]
    },
    {
     "name": "stdout",
     "output_type": "stream",
     "text": [
      "\tTrain ACC: 0.326025641025641, Train Pearson: 0.30589897426134327\n"
     ]
    },
    {
     "name": "stderr",
     "output_type": "stream",
     "text": [
      "Epoch 10 valid: 100%|█████████████████████████| 135/135 [00:18<00:00,  7.49it/s, acc=0.25, loss=1.9]\n",
      "/home/lijianhang/anaconda3/envs/LLM/lib/python3.11/site-packages/sklearn/metrics/_classification.py:1565: UndefinedMetricWarning: Precision is ill-defined and being set to 0.0 in labels with no predicted samples. Use `zero_division` parameter to control this behavior.\n",
      "  _warn_prf(average, modifier, f\"{metric.capitalize()} is\", len(result))\n",
      "/home/lijianhang/anaconda3/envs/LLM/lib/python3.11/site-packages/sklearn/metrics/_classification.py:1565: UndefinedMetricWarning: Precision is ill-defined and being set to 0.0 in labels with no predicted samples. Use `zero_division` parameter to control this behavior.\n",
      "  _warn_prf(average, modifier, f\"{metric.capitalize()} is\", len(result))\n",
      "/home/lijianhang/anaconda3/envs/LLM/lib/python3.11/site-packages/sklearn/metrics/_classification.py:1565: UndefinedMetricWarning: Precision is ill-defined and being set to 0.0 in labels with no predicted samples. Use `zero_division` parameter to control this behavior.\n",
      "  _warn_prf(average, modifier, f\"{metric.capitalize()} is\", len(result))\n"
     ]
    },
    {
     "name": "stdout",
     "output_type": "stream",
     "text": [
      "\tValid ACC: 0.24953703703703703, Valid Pearson: 0.3213751172726943\n",
      "* Classification Report:\n",
      "              precision    recall  f1-score   support\n",
      "\n",
      "       moved       0.00      0.00      0.00       365\n",
      "       angry       0.00      0.00      0.00       837\n",
      "       funny       0.25      1.00      0.40       530\n",
      "         sad       0.00      0.00      0.00       292\n",
      "       novel       0.00      0.00      0.00        34\n",
      "     shocked       0.00      0.00      0.00        90\n",
      "\n",
      "    accuracy                           0.25      2148\n",
      "   macro avg       0.04      0.17      0.07      2148\n",
      "weighted avg       0.06      0.25      0.10      2148\n",
      "\n"
     ]
    },
    {
     "name": "stderr",
     "output_type": "stream",
     "text": [
      "Epoch 11 train: 100%|███████████████████████████| 195/195 [01:04<00:00,  3.02it/s, acc=0, loss=1.86]\n"
     ]
    },
    {
     "name": "stdout",
     "output_type": "stream",
     "text": [
      "\tTrain ACC: 0.3211538461538462, Train Pearson: 0.30488134519395826\n"
     ]
    },
    {
     "name": "stderr",
     "output_type": "stream",
     "text": [
      "Epoch 11 valid: 100%|███████████████████████████| 135/135 [00:17<00:00,  7.78it/s, acc=0, loss=1.81]\n",
      "/home/lijianhang/anaconda3/envs/LLM/lib/python3.11/site-packages/sklearn/metrics/_classification.py:1565: UndefinedMetricWarning: Precision is ill-defined and being set to 0.0 in labels with no predicted samples. Use `zero_division` parameter to control this behavior.\n",
      "  _warn_prf(average, modifier, f\"{metric.capitalize()} is\", len(result))\n",
      "/home/lijianhang/anaconda3/envs/LLM/lib/python3.11/site-packages/sklearn/metrics/_classification.py:1565: UndefinedMetricWarning: Precision is ill-defined and being set to 0.0 in labels with no predicted samples. Use `zero_division` parameter to control this behavior.\n",
      "  _warn_prf(average, modifier, f\"{metric.capitalize()} is\", len(result))\n",
      "/home/lijianhang/anaconda3/envs/LLM/lib/python3.11/site-packages/sklearn/metrics/_classification.py:1565: UndefinedMetricWarning: Precision is ill-defined and being set to 0.0 in labels with no predicted samples. Use `zero_division` parameter to control this behavior.\n",
      "  _warn_prf(average, modifier, f\"{metric.capitalize()} is\", len(result))\n"
     ]
    },
    {
     "name": "stdout",
     "output_type": "stream",
     "text": [
      "\tValid ACC: 0.3875, Valid Pearson: 0.33235478022685583\n",
      "* Classification Report:\n",
      "              precision    recall  f1-score   support\n",
      "\n",
      "       moved       0.00      0.00      0.00       365\n",
      "       angry       0.39      1.00      0.56       837\n",
      "       funny       0.00      0.00      0.00       530\n",
      "         sad       0.00      0.00      0.00       292\n",
      "       novel       0.00      0.00      0.00        34\n",
      "     shocked       0.00      0.00      0.00        90\n",
      "\n",
      "    accuracy                           0.39      2148\n",
      "   macro avg       0.06      0.17      0.09      2148\n",
      "weighted avg       0.15      0.39      0.22      2148\n",
      "\n"
     ]
    },
    {
     "name": "stderr",
     "output_type": "stream",
     "text": [
      "Epoch 12 train: 100%|█████████████████████████| 195/195 [01:05<00:00,  2.99it/s, acc=0.4, loss=1.23]\n"
     ]
    },
    {
     "name": "stdout",
     "output_type": "stream",
     "text": [
      "\tTrain ACC: 0.30974358974358973, Train Pearson: 0.300955164155635\n"
     ]
    },
    {
     "name": "stderr",
     "output_type": "stream",
     "text": [
      "Epoch 12 valid: 100%|███████████████████████████| 135/135 [00:17<00:00,  7.81it/s, acc=0, loss=1.89]\n",
      "/home/lijianhang/anaconda3/envs/LLM/lib/python3.11/site-packages/sklearn/metrics/_classification.py:1565: UndefinedMetricWarning: Precision is ill-defined and being set to 0.0 in labels with no predicted samples. Use `zero_division` parameter to control this behavior.\n",
      "  _warn_prf(average, modifier, f\"{metric.capitalize()} is\", len(result))\n",
      "/home/lijianhang/anaconda3/envs/LLM/lib/python3.11/site-packages/sklearn/metrics/_classification.py:1565: UndefinedMetricWarning: Precision is ill-defined and being set to 0.0 in labels with no predicted samples. Use `zero_division` parameter to control this behavior.\n",
      "  _warn_prf(average, modifier, f\"{metric.capitalize()} is\", len(result))\n",
      "/home/lijianhang/anaconda3/envs/LLM/lib/python3.11/site-packages/sklearn/metrics/_classification.py:1565: UndefinedMetricWarning: Precision is ill-defined and being set to 0.0 in labels with no predicted samples. Use `zero_division` parameter to control this behavior.\n",
      "  _warn_prf(average, modifier, f\"{metric.capitalize()} is\", len(result))\n"
     ]
    },
    {
     "name": "stdout",
     "output_type": "stream",
     "text": [
      "\tValid ACC: 0.3875, Valid Pearson: 0.31697637859446837\n",
      "* Classification Report:\n",
      "              precision    recall  f1-score   support\n",
      "\n",
      "       moved       0.00      0.00      0.00       365\n",
      "       angry       0.39      1.00      0.56       837\n",
      "       funny       0.00      0.00      0.00       530\n",
      "         sad       0.00      0.00      0.00       292\n",
      "       novel       0.00      0.00      0.00        34\n",
      "     shocked       0.00      0.00      0.00        90\n",
      "\n",
      "    accuracy                           0.39      2148\n",
      "   macro avg       0.06      0.17      0.09      2148\n",
      "weighted avg       0.15      0.39      0.22      2148\n",
      "\n"
     ]
    },
    {
     "name": "stderr",
     "output_type": "stream",
     "text": [
      "Epoch 13 train: 100%|█████████████████████████| 195/195 [01:04<00:00,  3.02it/s, acc=0.4, loss=1.44]\n"
     ]
    },
    {
     "name": "stdout",
     "output_type": "stream",
     "text": [
      "\tTrain ACC: 0.3232051282051282, Train Pearson: 0.3038606931029143\n"
     ]
    },
    {
     "name": "stderr",
     "output_type": "stream",
     "text": [
      "Epoch 13 valid: 100%|███████████████████████████| 135/135 [00:18<00:00,  7.50it/s, acc=0, loss=2.03]\n",
      "/home/lijianhang/anaconda3/envs/LLM/lib/python3.11/site-packages/sklearn/metrics/_classification.py:1565: UndefinedMetricWarning: Precision is ill-defined and being set to 0.0 in labels with no predicted samples. Use `zero_division` parameter to control this behavior.\n",
      "  _warn_prf(average, modifier, f\"{metric.capitalize()} is\", len(result))\n",
      "/home/lijianhang/anaconda3/envs/LLM/lib/python3.11/site-packages/sklearn/metrics/_classification.py:1565: UndefinedMetricWarning: Precision is ill-defined and being set to 0.0 in labels with no predicted samples. Use `zero_division` parameter to control this behavior.\n",
      "  _warn_prf(average, modifier, f\"{metric.capitalize()} is\", len(result))\n",
      "/home/lijianhang/anaconda3/envs/LLM/lib/python3.11/site-packages/sklearn/metrics/_classification.py:1565: UndefinedMetricWarning: Precision is ill-defined and being set to 0.0 in labels with no predicted samples. Use `zero_division` parameter to control this behavior.\n",
      "  _warn_prf(average, modifier, f\"{metric.capitalize()} is\", len(result))\n"
     ]
    },
    {
     "name": "stdout",
     "output_type": "stream",
     "text": [
      "\tValid ACC: 0.3875, Valid Pearson: 0.3686153974564656\n",
      "* Classification Report:\n",
      "              precision    recall  f1-score   support\n",
      "\n",
      "       moved       0.00      0.00      0.00       365\n",
      "       angry       0.39      1.00      0.56       837\n",
      "       funny       0.00      0.00      0.00       530\n",
      "         sad       0.00      0.00      0.00       292\n",
      "       novel       0.00      0.00      0.00        34\n",
      "     shocked       0.00      0.00      0.00        90\n",
      "\n",
      "    accuracy                           0.39      2148\n",
      "   macro avg       0.06      0.17      0.09      2148\n",
      "weighted avg       0.15      0.39      0.22      2148\n",
      "\n"
     ]
    },
    {
     "name": "stderr",
     "output_type": "stream",
     "text": [
      "Epoch 14 train: 100%|█████████████████████████| 195/195 [01:04<00:00,  3.02it/s, acc=0.2, loss=1.76]\n"
     ]
    },
    {
     "name": "stdout",
     "output_type": "stream",
     "text": [
      "\tTrain ACC: 0.30935897435897436, Train Pearson: 0.3072065586483088\n"
     ]
    },
    {
     "name": "stderr",
     "output_type": "stream",
     "text": [
      "Epoch 14 valid: 100%|███████████████████████████| 135/135 [00:18<00:00,  7.50it/s, acc=0, loss=1.91]\n",
      "/home/lijianhang/anaconda3/envs/LLM/lib/python3.11/site-packages/sklearn/metrics/_classification.py:1565: UndefinedMetricWarning: Precision is ill-defined and being set to 0.0 in labels with no predicted samples. Use `zero_division` parameter to control this behavior.\n",
      "  _warn_prf(average, modifier, f\"{metric.capitalize()} is\", len(result))\n",
      "/home/lijianhang/anaconda3/envs/LLM/lib/python3.11/site-packages/sklearn/metrics/_classification.py:1565: UndefinedMetricWarning: Precision is ill-defined and being set to 0.0 in labels with no predicted samples. Use `zero_division` parameter to control this behavior.\n",
      "  _warn_prf(average, modifier, f\"{metric.capitalize()} is\", len(result))\n",
      "/home/lijianhang/anaconda3/envs/LLM/lib/python3.11/site-packages/sklearn/metrics/_classification.py:1565: UndefinedMetricWarning: Precision is ill-defined and being set to 0.0 in labels with no predicted samples. Use `zero_division` parameter to control this behavior.\n",
      "  _warn_prf(average, modifier, f\"{metric.capitalize()} is\", len(result))\n"
     ]
    },
    {
     "name": "stdout",
     "output_type": "stream",
     "text": [
      "\tValid ACC: 0.3875, Valid Pearson: 0.3734024973506341\n",
      "* Classification Report:\n",
      "              precision    recall  f1-score   support\n",
      "\n",
      "       moved       0.00      0.00      0.00       365\n",
      "       angry       0.39      1.00      0.56       837\n",
      "       funny       0.00      0.00      0.00       530\n",
      "         sad       0.00      0.00      0.00       292\n",
      "       novel       0.00      0.00      0.00        34\n",
      "     shocked       0.00      0.00      0.00        90\n",
      "\n",
      "    accuracy                           0.39      2148\n",
      "   macro avg       0.06      0.17      0.09      2148\n",
      "weighted avg       0.15      0.39      0.22      2148\n",
      "\n"
     ]
    },
    {
     "name": "stderr",
     "output_type": "stream",
     "text": [
      "Epoch 15 train: 100%|███████████████████████████| 195/195 [01:04<00:00,  3.02it/s, acc=0, loss=2.08]\n"
     ]
    },
    {
     "name": "stdout",
     "output_type": "stream",
     "text": [
      "\tTrain ACC: 0.3314102564102564, Train Pearson: 0.310984651518739\n"
     ]
    },
    {
     "name": "stderr",
     "output_type": "stream",
     "text": [
      "Epoch 15 valid: 100%|███████████████████████████| 135/135 [00:17<00:00,  7.81it/s, acc=0, loss=1.99]\n",
      "/home/lijianhang/anaconda3/envs/LLM/lib/python3.11/site-packages/sklearn/metrics/_classification.py:1565: UndefinedMetricWarning: Precision is ill-defined and being set to 0.0 in labels with no predicted samples. Use `zero_division` parameter to control this behavior.\n",
      "  _warn_prf(average, modifier, f\"{metric.capitalize()} is\", len(result))\n",
      "/home/lijianhang/anaconda3/envs/LLM/lib/python3.11/site-packages/sklearn/metrics/_classification.py:1565: UndefinedMetricWarning: Precision is ill-defined and being set to 0.0 in labels with no predicted samples. Use `zero_division` parameter to control this behavior.\n",
      "  _warn_prf(average, modifier, f\"{metric.capitalize()} is\", len(result))\n",
      "/home/lijianhang/anaconda3/envs/LLM/lib/python3.11/site-packages/sklearn/metrics/_classification.py:1565: UndefinedMetricWarning: Precision is ill-defined and being set to 0.0 in labels with no predicted samples. Use `zero_division` parameter to control this behavior.\n",
      "  _warn_prf(average, modifier, f\"{metric.capitalize()} is\", len(result))\n"
     ]
    },
    {
     "name": "stdout",
     "output_type": "stream",
     "text": [
      "\tValid ACC: 0.3875, Valid Pearson: 0.3495168583095777\n",
      "* Classification Report:\n",
      "              precision    recall  f1-score   support\n",
      "\n",
      "       moved       0.00      0.00      0.00       365\n",
      "       angry       0.39      1.00      0.56       837\n",
      "       funny       0.00      0.00      0.00       530\n",
      "         sad       0.00      0.00      0.00       292\n",
      "       novel       0.00      0.00      0.00        34\n",
      "     shocked       0.00      0.00      0.00        90\n",
      "\n",
      "    accuracy                           0.39      2148\n",
      "   macro avg       0.06      0.17      0.09      2148\n",
      "weighted avg       0.15      0.39      0.22      2148\n",
      "\n"
     ]
    },
    {
     "name": "stderr",
     "output_type": "stream",
     "text": [
      "Epoch 16 train: 100%|█████████████████████████| 195/195 [01:05<00:00,  2.99it/s, acc=0.2, loss=2.11]\n"
     ]
    },
    {
     "name": "stdout",
     "output_type": "stream",
     "text": [
      "\tTrain ACC: 0.33403846153846156, Train Pearson: 0.30357648844058804\n"
     ]
    },
    {
     "name": "stderr",
     "output_type": "stream",
     "text": [
      "Epoch 16 valid: 100%|████████████████████████| 135/135 [00:17<00:00,  7.80it/s, acc=0.25, loss=2.02]\n",
      "/home/lijianhang/anaconda3/envs/LLM/lib/python3.11/site-packages/sklearn/metrics/_classification.py:1565: UndefinedMetricWarning: Precision is ill-defined and being set to 0.0 in labels with no predicted samples. Use `zero_division` parameter to control this behavior.\n",
      "  _warn_prf(average, modifier, f\"{metric.capitalize()} is\", len(result))\n",
      "/home/lijianhang/anaconda3/envs/LLM/lib/python3.11/site-packages/sklearn/metrics/_classification.py:1565: UndefinedMetricWarning: Precision is ill-defined and being set to 0.0 in labels with no predicted samples. Use `zero_division` parameter to control this behavior.\n",
      "  _warn_prf(average, modifier, f\"{metric.capitalize()} is\", len(result))\n",
      "/home/lijianhang/anaconda3/envs/LLM/lib/python3.11/site-packages/sklearn/metrics/_classification.py:1565: UndefinedMetricWarning: Precision is ill-defined and being set to 0.0 in labels with no predicted samples. Use `zero_division` parameter to control this behavior.\n",
      "  _warn_prf(average, modifier, f\"{metric.capitalize()} is\", len(result))\n"
     ]
    },
    {
     "name": "stdout",
     "output_type": "stream",
     "text": [
      "\tValid ACC: 0.24953703703703703, Valid Pearson: 0.34837108202178174\n",
      "* Classification Report:\n",
      "              precision    recall  f1-score   support\n",
      "\n",
      "       moved       0.00      0.00      0.00       365\n",
      "       angry       0.00      0.00      0.00       837\n",
      "       funny       0.25      1.00      0.40       530\n",
      "         sad       0.00      0.00      0.00       292\n",
      "       novel       0.00      0.00      0.00        34\n",
      "     shocked       0.00      0.00      0.00        90\n",
      "\n",
      "    accuracy                           0.25      2148\n",
      "   macro avg       0.04      0.17      0.07      2148\n",
      "weighted avg       0.06      0.25      0.10      2148\n",
      "\n"
     ]
    },
    {
     "name": "stderr",
     "output_type": "stream",
     "text": [
      "Epoch 17 train: 100%|██████████████████████████| 195/195 [01:04<00:00,  3.02it/s, acc=1, loss=0.962]\n"
     ]
    },
    {
     "name": "stdout",
     "output_type": "stream",
     "text": [
      "\tTrain ACC: 0.31666666666666665, Train Pearson: 0.30740837168177443\n"
     ]
    },
    {
     "name": "stderr",
     "output_type": "stream",
     "text": [
      "Epoch 17 valid: 100%|███████████████████████████| 135/135 [00:18<00:00,  7.45it/s, acc=0, loss=2.11]\n",
      "/home/lijianhang/anaconda3/envs/LLM/lib/python3.11/site-packages/sklearn/metrics/_classification.py:1565: UndefinedMetricWarning: Precision is ill-defined and being set to 0.0 in labels with no predicted samples. Use `zero_division` parameter to control this behavior.\n",
      "  _warn_prf(average, modifier, f\"{metric.capitalize()} is\", len(result))\n",
      "/home/lijianhang/anaconda3/envs/LLM/lib/python3.11/site-packages/sklearn/metrics/_classification.py:1565: UndefinedMetricWarning: Precision is ill-defined and being set to 0.0 in labels with no predicted samples. Use `zero_division` parameter to control this behavior.\n",
      "  _warn_prf(average, modifier, f\"{metric.capitalize()} is\", len(result))\n",
      "/home/lijianhang/anaconda3/envs/LLM/lib/python3.11/site-packages/sklearn/metrics/_classification.py:1565: UndefinedMetricWarning: Precision is ill-defined and being set to 0.0 in labels with no predicted samples. Use `zero_division` parameter to control this behavior.\n",
      "  _warn_prf(average, modifier, f\"{metric.capitalize()} is\", len(result))\n"
     ]
    },
    {
     "name": "stdout",
     "output_type": "stream",
     "text": [
      "\tValid ACC: 0.3875, Valid Pearson: 0.364994251577768\n",
      "* Classification Report:\n",
      "              precision    recall  f1-score   support\n",
      "\n",
      "       moved       0.00      0.00      0.00       365\n",
      "       angry       0.39      1.00      0.56       837\n",
      "       funny       0.00      0.00      0.00       530\n",
      "         sad       0.00      0.00      0.00       292\n",
      "       novel       0.00      0.00      0.00        34\n",
      "     shocked       0.00      0.00      0.00        90\n",
      "\n",
      "    accuracy                           0.39      2148\n",
      "   macro avg       0.06      0.17      0.09      2148\n",
      "weighted avg       0.15      0.39      0.22      2148\n",
      "\n"
     ]
    },
    {
     "name": "stderr",
     "output_type": "stream",
     "text": [
      "Epoch 18 train: 100%|█████████████████████████| 195/195 [01:04<00:00,  3.03it/s, acc=0.2, loss=2.25]\n"
     ]
    },
    {
     "name": "stdout",
     "output_type": "stream",
     "text": [
      "\tTrain ACC: 0.326025641025641, Train Pearson: 0.31420851240048997\n"
     ]
    },
    {
     "name": "stderr",
     "output_type": "stream",
     "text": [
      "Epoch 18 valid: 100%|████████████████████████| 135/135 [00:17<00:00,  7.55it/s, acc=0.25, loss=1.96]\n",
      "/home/lijianhang/anaconda3/envs/LLM/lib/python3.11/site-packages/sklearn/metrics/_classification.py:1565: UndefinedMetricWarning: Precision is ill-defined and being set to 0.0 in labels with no predicted samples. Use `zero_division` parameter to control this behavior.\n",
      "  _warn_prf(average, modifier, f\"{metric.capitalize()} is\", len(result))\n",
      "/home/lijianhang/anaconda3/envs/LLM/lib/python3.11/site-packages/sklearn/metrics/_classification.py:1565: UndefinedMetricWarning: Precision is ill-defined and being set to 0.0 in labels with no predicted samples. Use `zero_division` parameter to control this behavior.\n",
      "  _warn_prf(average, modifier, f\"{metric.capitalize()} is\", len(result))\n",
      "/home/lijianhang/anaconda3/envs/LLM/lib/python3.11/site-packages/sklearn/metrics/_classification.py:1565: UndefinedMetricWarning: Precision is ill-defined and being set to 0.0 in labels with no predicted samples. Use `zero_division` parameter to control this behavior.\n",
      "  _warn_prf(average, modifier, f\"{metric.capitalize()} is\", len(result))\n"
     ]
    },
    {
     "name": "stdout",
     "output_type": "stream",
     "text": [
      "\tValid ACC: 0.24953703703703703, Valid Pearson: 0.32041009853143926\n",
      "* Classification Report:\n",
      "              precision    recall  f1-score   support\n",
      "\n",
      "       moved       0.00      0.00      0.00       365\n",
      "       angry       0.00      0.00      0.00       837\n",
      "       funny       0.25      1.00      0.40       530\n",
      "         sad       0.00      0.00      0.00       292\n",
      "       novel       0.00      0.00      0.00        34\n",
      "     shocked       0.00      0.00      0.00        90\n",
      "\n",
      "    accuracy                           0.25      2148\n",
      "   macro avg       0.04      0.17      0.07      2148\n",
      "weighted avg       0.06      0.25      0.10      2148\n",
      "\n"
     ]
    },
    {
     "name": "stderr",
     "output_type": "stream",
     "text": [
      "Epoch 19 train: 100%|█████████████████████████| 195/195 [01:04<00:00,  3.03it/s, acc=0.2, loss=1.81]\n"
     ]
    },
    {
     "name": "stdout",
     "output_type": "stream",
     "text": [
      "\tTrain ACC: 0.31993589743589745, Train Pearson: 0.307904036051208\n"
     ]
    },
    {
     "name": "stderr",
     "output_type": "stream",
     "text": [
      "Epoch 19 valid: 100%|████████████████████████| 135/135 [00:17<00:00,  7.84it/s, acc=0.25, loss=1.69]\n",
      "/home/lijianhang/anaconda3/envs/LLM/lib/python3.11/site-packages/sklearn/metrics/_classification.py:1565: UndefinedMetricWarning: Precision is ill-defined and being set to 0.0 in labels with no predicted samples. Use `zero_division` parameter to control this behavior.\n",
      "  _warn_prf(average, modifier, f\"{metric.capitalize()} is\", len(result))\n",
      "/home/lijianhang/anaconda3/envs/LLM/lib/python3.11/site-packages/sklearn/metrics/_classification.py:1565: UndefinedMetricWarning: Precision is ill-defined and being set to 0.0 in labels with no predicted samples. Use `zero_division` parameter to control this behavior.\n",
      "  _warn_prf(average, modifier, f\"{metric.capitalize()} is\", len(result))\n",
      "/home/lijianhang/anaconda3/envs/LLM/lib/python3.11/site-packages/sklearn/metrics/_classification.py:1565: UndefinedMetricWarning: Precision is ill-defined and being set to 0.0 in labels with no predicted samples. Use `zero_division` parameter to control this behavior.\n",
      "  _warn_prf(average, modifier, f\"{metric.capitalize()} is\", len(result))\n"
     ]
    },
    {
     "name": "stdout",
     "output_type": "stream",
     "text": [
      "\tValid ACC: 0.24953703703703703, Valid Pearson: 0.3411533677813227\n",
      "* Classification Report:\n",
      "              precision    recall  f1-score   support\n",
      "\n",
      "       moved       0.00      0.00      0.00       365\n",
      "       angry       0.00      0.00      0.00       837\n",
      "       funny       0.25      1.00      0.40       530\n",
      "         sad       0.00      0.00      0.00       292\n",
      "       novel       0.00      0.00      0.00        34\n",
      "     shocked       0.00      0.00      0.00        90\n",
      "\n",
      "    accuracy                           0.25      2148\n",
      "   macro avg       0.04      0.17      0.07      2148\n",
      "weighted avg       0.06      0.25      0.10      2148\n",
      "\n",
      "图表已保存为 'learning_rate_vs_metrics.png' 文件。\n"
     ]
    },
    {
     "data": {
      "image/png": "[encoded data removed]",
      "text/plain": [
       "<Figure size 1200x600 with 2 Axes>"
      ]
     },
     "metadata": {},
     "output_type": "display_data"
    }
   ],
   "source": [
    "import matplotlib.pyplot as plt\n",
    "\n",
    "learning_rate = [5e-7,1e-6,2e-6,5e-6,1e-5,2e-5,5e-5,1e-4,1e-3]\n",
    "metrics_historys = []\n",
    "for lr in learning_rate:\n",
    "    metrics_historys.append(train(lr))\n",
    "    \n",
    "# 提取每个学习率的最大验证集准确率和皮尔逊系数\n",
    "max_valid_accuracy = [max(history['valid_accuracy']) for history in metrics_historys]\n",
    "max_valid_pearson = [max(history['valid_pearson']) for history in metrics_historys]\n",
    "\n",
    "# 保存图表为文件\n",
    "plt.figure(figsize=(12, 6))\n",
    "\n",
    "# 验证集准确率\n",
    "plt.subplot(1, 2, 1)\n",
    "plt.plot(learning_rate, max_valid_accuracy, marker='o')\n",
    "plt.xscale('log')\n",
    "plt.xlabel('Learning Rate (log scale)')\n",
    "plt.ylabel('Max Validation Accuracy')\n",
    "plt.title('Max Validation Accuracy vs Learning Rate')\n",
    "plt.grid(True)\n",
    "\n",
    "# 验证集皮尔逊系数\n",
    "plt.subplot(1, 2, 2)\n",
    "plt.plot(learning_rate, max_valid_pearson, marker='o', color='orange')\n",
    "plt.xscale('log')\n",
    "plt.xlabel('Learning Rate (log scale)')\n",
    "plt.ylabel('Max Validation Pearson')\n",
    "plt.title('Max Validation Pearson vs Learning Rate')\n",
    "plt.grid(True)\n",
    "\n",
    "plt.tight_layout()\n",
    "plt.savefig('learning_rate_vs_metrics.png')\n",
    "print(\"图表已保存为 'learning_rate_vs_metrics.png' 文件。\")\n"
   ]
  },
  {
   "cell_type": "code",
   "execution_count": 6,
   "metadata": {},
   "outputs": [],
   "source": [
    "# import matplotlib.pyplot as plt\n",
    "\n",
    "# def plot_metrics(metrics_history):\n",
    "#     epochs = range(1, len(metrics_history['train_accuracy']) + 1)\n",
    "\n",
    "#     plt.figure(figsize=(14, 8))\n",
    "\n",
    "#     # Plot accuracy\n",
    "#     plt.subplot(2, 1, 1)\n",
    "#     plt.plot(epochs, metrics_history['train_accuracy'], label='Train Accuracy', marker='o')\n",
    "#     plt.plot(epochs, metrics_history['valid_accuracy'], label='Valid Accuracy', marker='o')\n",
    "#     plt.title('Training and Validation Accuracy')\n",
    "#     plt.xlabel('Epoch')\n",
    "#     plt.ylabel('Accuracy')\n",
    "#     plt.legend()\n",
    "\n",
    "#     # Plot Pearson correlation\n",
    "#     plt.subplot(2, 1, 2)\n",
    "#     plt.plot(epochs, metrics_history['train_pearson'], label='Train Pearson', marker='o')\n",
    "#     plt.plot(epochs, metrics_history['valid_pearson'], label='Valid Pearson', marker='o')\n",
    "#     plt.title('Training and Validation Pearson Correlation')\n",
    "#     plt.xlabel('Epoch')\n",
    "#     plt.ylabel('Pearson Correlation')\n",
    "#     plt.legend()\n",
    "\n",
    "#     plt.tight_layout()\n",
    "#     plt.show()\n",
    "\n",
    "# # Call the train function and plot metrics\n",
    "# metrics_history = train()\n",
    "# plot_metrics(metrics_history)\n"
   ]
  }
 ],
 "metadata": {
  "kernelspec": {
   "display_name": "LLM",
   "language": "python",
   "name": "python3"
  },
  "language_info": {
   "codemirror_mode": {
    "name": "ipython",
    "version": 3
   },
   "file_extension": ".py",
   "mimetype": "text/x-python",
   "name": "python",
   "nbconvert_exporter": "python",
   "pygments_lexer": "ipython3",
   "version": "3.11.11"
  }
 },
 "nbformat": 4,
 "nbformat_minor": 2
}
