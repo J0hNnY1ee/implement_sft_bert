{
 "cells": [
  {
   "cell_type": "code",
   "execution_count": 26,
   "metadata": {},
   "outputs": [],
   "source": [
    "\n",
    "\n",
    "## 1. 定义模型\n",
    "import torch.nn as nn\n",
    "from transformers import BertModel, BertTokenizer\n",
    "class BertClassifier(nn.Module):\n",
    "    def __init__(self, bert_config, num_labels):\n",
    "        super().__init__()\n",
    "        # 定义BERT模型\n",
    "        self.bert = BertModel(config=bert_config)\n",
    "        # 定义分类器\n",
    "        self.classifier = nn.Linear(bert_config.hidden_size, num_labels)\n",
    "        \n",
    "    def forward(self, input_ids, attention_mask=None, token_type_ids=None):\n",
    "        outputs = self.bert(input_ids, attention_mask=attention_mask, token_type_ids=token_type_ids)\n",
    "        pooled_output = outputs[1]\n",
    "        logits = self.classifier(pooled_output)\n",
    "        return logits\n",
    "    \n",
    "    \n",
    "class BertLstmClassifier(nn.Module):\n",
    "    def __init__(self, bert_config, num_labels):\n",
    "        super().__init__()\n",
    "        self.bert = BertModel(config=bert_config)\n",
    "        self.lstm = nn.LSTM(bert_config.hidden_size, bert_config.hidden_size, num_layers=2,batch_first=True, bidirectional=True)\n",
    "        self.classifier = nn.Linear(bert_config.hidden_size * 2, num_labels) ## 双向LSTM\n",
    "        \n",
    "    def forward(self, input_ids, attention_mask=None, token_type_ids=None):\n",
    "        outputs = self.bert(input_ids, attention_mask=attention_mask, token_type_ids=token_type_ids)\n",
    "        sequence_output = outputs.last_hidden_state\n",
    "        lstm_output, _ = self.lstm(sequence_output)\n",
    "        logits = self.classifier(lstm_output[:, -1, :])\n",
    "        return logits\n",
    "    \n"
   ]
  },
  {
   "cell_type": "code",
   "execution_count": 27,
   "metadata": {},
   "outputs": [
    {
     "name": "stdout",
     "output_type": "stream",
     "text": [
      "数据集长度: 4570\n",
      "解码后的文本: 男 子 婚 房 房 贷 抢 劫 彩 票 店 本 报 记 者 赵 云 龙 2011 年 12 月 28 日 晚 10 时 17 分 许 水 屯 路 南 段 福 彩 投 注 站 女 老 板 林 丽 化 名 整 理 钱 款 欲 关 门 回 家 低 头 收 拾 时 男 子 突 然 快 步 走 进 店 里 手 持 红 色 形 锁 隔 柜 台 头 部 猛 砸 过 去 砸 两 下 后 男 子 绕 进 柜 台 内 侧 林 丽 连 砸 下 柜 台 两 提 包 抢 走 砸 完 跑 店 门 店 里 一 个 椅 子 追 四 五 米 骑 摩 托 车 跑 林 丽 告 诉 记 者 砸 后 头 部 留 下 处 伤 口 缝 20 多 针 抢 走 两 包 里 13000 余 元 现 金 一 些 银 行 存 折 部 分 刮 刮 乐 彩 票 案 发 后 调 取 监 控 录 像 警 方 很 快 掌 握 嫌 疑 人 体 貌 特 征 本 报 2011 年 12 月 30 日 刊 发 深 夜 抢 彩 票 站 狂 砸 女 老 板 文 显 示 嫌 疑 人 清 晰 面 容 监 控 截 图 刊 登 希 望 读 者 提 供 相 关 破 案 线 索 警 媒 联 动 下 2011 年 12 月 30 日 下 午 2 时 许 热 心 市 民 警 方 提 供 条 重 要 线 索 嫌 疑 人 居 住 梁 府 庄 一 带 民 警 梁 府 庄 犯 罪 嫌 疑 人 向 某 抓 获 缴 获 抢 劫 13000 余 元 现 金 银 行 存 折 刮 刮 乐 彩 票 物 今 年 30 岁 已 失 业 许 久 2 年 前 结 婚 时 曾 妻 子 老 家 泰 安 买 套 婚 房 目 前 尚 万 元 房 贷 春 节 向 某 身 上 钱 房 贷 近 期 一 直 为 难 2011 年 12 月 28 日 晚 6 时 向 某 朋 友 东 关 大 街 酒 店 吃 饭 席 间 喝 五 六 瓶 啤 酒 消 愁 饭 局 结 束 后 向 某 回 家 途 中 想 买 彩 票 碰 碰 运 气 当 晚 10 时 09 分 走 进 水 屯 路 南 段 福 彩 投 注 站 告 知 开 奖 时 间 已 结 束 该 店 关 门 无 意 间 向 某 看 到 该 店 女 老 板 林 丽 正 在 清 点 钱 款 萌 生 抢 劫 念 头 盯 林 丽 直 到 数 钱 结 束 观 察 店 情 况 随 后 持 车 锁 行 抢\n",
      "情感强度向量: [0.07894737 0.07894737 0.         0.42105263 0.18421052 0.21052632\n",
      " 0.02631579 0.        ]\n",
      "情感标签及归一化值:\n",
      "Touched: 0.0789\n",
      "Sympathy: 0.0789\n",
      "Bored: 0.0000\n",
      "Angry: 0.4211\n",
      "Funny: 0.1842\n",
      "Sad: 0.2105\n",
      "Novel: 0.0263\n",
      "Warm: 0.0000\n"
     ]
    },
    {
     "name": "stderr",
     "output_type": "stream",
     "text": [
      "数据加载成功...\n"
     ]
    }
   ],
   "source": [
    "from torch.utils.data import Dataset\n",
    "import json\n",
    "import numpy as np\n",
    "import torch\n",
    "import sys\n",
    "\n",
    "\n",
    "class _2012Dataset(Dataset):\n",
    "    def __init__(self, file_path, tokenizer, max_length=1024,is_dynamic_max_length=True):\n",
    "        self.lib_labels = [\n",
    "            \"Touched\",\n",
    "            \"Sympathy\",\n",
    "            \"Bored\",\n",
    "            \"Angry\",\n",
    "            \"Funny\",\n",
    "            \"Sad\",\n",
    "            \"Novel\",\n",
    "            \"Warm\",\n",
    "        ]\n",
    "        self.label_to_id = {label: i for i, label in enumerate(self.lib_labels)}\n",
    "        self.id_to_label = {i: label for i, label in enumerate(self.lib_labels)}\n",
    "        self.tokenizer = tokenizer\n",
    "        self.input_ids = []\n",
    "        self.attention_mask = []\n",
    "        self.token_type_ids = []\n",
    "        self.label_scores = []\n",
    "        self.max_length = max_length\n",
    "        self.load_data(file_path,is_dynamic_max_length)\n",
    "        \n",
    "        \n",
    "    def load_data(self, file_path,is_dynamic_max_length):\n",
    "        with open(file_path, \"r\", encoding=\"utf-8\") as f:\n",
    "            data = json.load(f)\n",
    "        if(is_dynamic_max_length):\n",
    "            for item in data:\n",
    "                text = item[\"news\"].replace(\" \", \"\")\n",
    "                self.max_length = min(512,max(self.max_length, len(text)))\n",
    "        for item in data:\n",
    "            text = item[\"news\"].replace(\" \", \"\")  # 移除空格\n",
    "            # 提取情感值并转换为整数\n",
    "            emotions = {k: int(v) for k, v in item.items() if k in self.lib_labels}\n",
    "            total = int(item[\"Total\"])  # 确保 Total 也转换为整数\n",
    "\n",
    "            # 情感强度归一化\n",
    "            if total > 0:\n",
    "                label_vector = [emotions[label] / total for label in self.lib_labels]\n",
    "            else:\n",
    "                label_vector = [0.0] * len(self.lib_labels)  # 如果 Total 为 0，所有情感归为 0\n",
    "\n",
    "            # Tokenization\n",
    "            token = self.tokenizer(\n",
    "                text,\n",
    "                max_length=self.max_length,\n",
    "                add_special_tokens=True,\n",
    "                padding=\"max_length\",\n",
    "                truncation=True,\n",
    "                return_tensors=\"pt\",\n",
    "            )\n",
    "            self.input_ids.append(token[\"input_ids\"].clone().detach())\n",
    "            self.attention_mask.append(token[\"attention_mask\"].clone().detach())\n",
    "            self.token_type_ids.append(token[\"token_type_ids\"].clone().detach())\n",
    "            self.label_scores.append(torch.tensor(label_vector, dtype=torch.float))\n",
    "\n",
    "    def __len__(self):\n",
    "        return len(self.input_ids)\n",
    "\n",
    "    def __getitem__(self, idx):\n",
    "        return (\n",
    "            self.input_ids[idx].squeeze(0),\n",
    "            self.attention_mask[idx].squeeze(0),\n",
    "            self.token_type_ids[idx].squeeze(0),\n",
    "            self.label_scores[idx],\n",
    "        )\n",
    "        \n",
    "        \n",
    "tokenizer = BertTokenizer.from_pretrained('model/bert-base-chinese')  # 替换为适合的 tokenizer 路径\n",
    "test_data = _2012Dataset('data/2012.json', tokenizer)\n",
    "print(\"数据集长度:\", len(test_data))\n",
    "input_ids, attention_mask, token_type_ids, label_scores = test_data[2]\n",
    "\n",
    "# 解码文本\n",
    "decoded_text = tokenizer.decode(input_ids.tolist(), skip_special_tokens=True)\n",
    "print(\"解码后的文本:\", decoded_text)\n",
    "print(\"情感强度向量:\", label_scores.numpy())\n",
    "\n",
    "# 输出对应情感标签和归一化值\n",
    "print(\"情感标签及归一化值:\")\n",
    "for i, score in enumerate(label_scores.numpy()):\n",
    "    print(f\"{test_data.id_to_label[i]}: {score:.4f}\")\n",
    "    \n",
    "    \n",
    "print(\"数据加载成功...\", file=sys.stderr)\n"
   ]
  },
  {
   "cell_type": "code",
   "execution_count": 28,
   "metadata": {},
   "outputs": [
    {
     "name": "stdout",
     "output_type": "stream",
     "text": [
      "训练集大小: 3656\n",
      "测试集大小: 914\n"
     ]
    }
   ],
   "source": [
    "#分割数据集\n",
    "import json\n",
    "import random\n",
    "\n",
    "# 加载原始数据集\n",
    "with open('data/2012.json', 'r', encoding='utf-8') as file:\n",
    "    data = json.load(file)\n",
    "\n",
    "# 打乱数据集\n",
    "random.shuffle(data)\n",
    "\n",
    "# 分割数据集\n",
    "split_index = int(len(data) * 0.8)\n",
    "train_data = data[:split_index]\n",
    "test_data = data[split_index:]\n",
    "\n",
    "# 保存训练集到 train.json\n",
    "with open('data/train.json', 'w', encoding='utf-8') as train_file:\n",
    "    json.dump(train_data, train_file, ensure_ascii=False, indent=4)\n",
    "\n",
    "# 保存测试集到 test.json\n",
    "with open('data/test.json', 'w', encoding='utf-8') as test_file:\n",
    "    json.dump(test_data, test_file, ensure_ascii=False, indent=4)\n",
    "\n",
    "print(f\"训练集大小: {len(train_data)}\")\n",
    "print(f\"测试集大小: {len(test_data)}\")"
   ]
  },
  {
   "cell_type": "code",
   "execution_count": 29,
   "metadata": {},
   "outputs": [],
   "source": [
    "import torch\n",
    "import torch.nn as nn\n",
    "from torch.utils.data import DataLoader\n",
    "from scipy.stats import pearsonr\n",
    "from tqdm import tqdm\n",
    "\n",
    "def train(\n",
    "    model,\n",
    "    train_dataset,\n",
    "    val_dataset,\n",
    "    epochs=10,\n",
    "    batch_size=5,\n",
    "    learning_rate=2e-5,\n",
    "    weight_decay=1e-4,  # 权重衰减参数\n",
    "    patience=3,  # 早停容忍次数\n",
    "    device=\"cuda\" if torch.cuda.is_available() else \"cpu\",\n",
    "):\n",
    "    train_loader = DataLoader(train_dataset, batch_size=batch_size, shuffle=True)\n",
    "    val_loader = DataLoader(val_dataset, batch_size=batch_size, shuffle=False)\n",
    "    optimizer = torch.optim.AdamW(model.parameters(), lr=learning_rate, weight_decay=weight_decay)\n",
    "    scheduler = torch.optim.lr_scheduler.StepLR(optimizer, step_size=3, gamma=0.1)  # 学习率调度器\n",
    "    loss_fn = nn.CrossEntropyLoss()\n",
    "    model.to(device)\n",
    "\n",
    "    train_losses = []\n",
    "    train_accuracies = []\n",
    "    train_pearsons = []\n",
    "    val_accuracies = []\n",
    "    val_pearsons = []\n",
    "    best_val_loss = float('inf')\n",
    "    no_improve_epochs = 0\n",
    "\n",
    "    for epoch in range(epochs):\n",
    "        print(f\"Epoch {epoch + 1}/{epochs}\")\n",
    "        model.train()\n",
    "        train_loss = 0.0\n",
    "        correct = 0\n",
    "        total = 0\n",
    "        pearson_sum = 0\n",
    "        pearson_count = 0\n",
    "\n",
    "        # 添加 tqdm 进度条\n",
    "        train_loader_tqdm = tqdm(train_loader, desc=\"Training\", leave=False)\n",
    "\n",
    "        for batch in train_loader_tqdm:\n",
    "            input_ids, attention_mask, token_type_ids, label_scores = batch\n",
    "            input_ids = input_ids.to(device)\n",
    "            attention_mask = attention_mask.to(device)\n",
    "            token_type_ids = token_type_ids.to(device)\n",
    "\n",
    "            # 提取标签索引\n",
    "            labels = torch.argmax(label_scores, dim=1).to(device)\n",
    "\n",
    "            optimizer.zero_grad()\n",
    "\n",
    "            logits = model(input_ids, attention_mask, token_type_ids)\n",
    "            loss = loss_fn(logits, labels)\n",
    "            train_loss += loss.item()\n",
    "\n",
    "            loss.backward()\n",
    "            optimizer.step()\n",
    "\n",
    "            _, pred = torch.max(logits, dim=1)  # 获取预测结果中最大值索引\n",
    "            correct += (pred == labels).sum().item()  # 累计预测正确的数量\n",
    "            total += labels.size(0)  # 累计样本数量\n",
    "\n",
    "            # 计算皮尔逊相关系数\n",
    "            for i in range(logits.size(0)):\n",
    "                pearson, _ = pearsonr(logits[i].cpu().detach().numpy(), label_scores[i].cpu().detach().numpy())\n",
    "                pearson_sum += pearson\n",
    "                pearson_count += 1\n",
    "\n",
    "        train_accuracy = correct / total\n",
    "        avg_train_loss = train_loss / len(train_loader)\n",
    "        avg_pearson = pearson_sum / pearson_count\n",
    "\n",
    "        train_losses.append(avg_train_loss)\n",
    "        train_accuracies.append(train_accuracy)\n",
    "        train_pearsons.append(avg_pearson)\n",
    "\n",
    "        print(f\"Train Loss={avg_train_loss:.4f}, Train Accuracy={train_accuracy:.4f}, Train Pearson={avg_pearson:.4f}\")\n",
    "\n",
    "        # 验证阶段\n",
    "        model.eval()\n",
    "        val_loss = 0.0\n",
    "        correct = 0\n",
    "        total = 0\n",
    "        pearson_sum = 0\n",
    "        pearson_count = 0\n",
    "\n",
    "        # 添加 tqdm 进度条\n",
    "        val_loader_tqdm = tqdm(val_loader, desc=\"Validating\", leave=False)\n",
    "\n",
    "        with torch.no_grad():\n",
    "            for batch in val_loader_tqdm:\n",
    "                input_ids, attention_mask, token_type_ids, label_scores = batch\n",
    "                input_ids = input_ids.to(device)\n",
    "                attention_mask = attention_mask.to(device)\n",
    "                token_type_ids = token_type_ids.to(device)\n",
    "\n",
    "                # 提取标签索引\n",
    "                labels = torch.argmax(label_scores, dim=1).to(device)\n",
    "\n",
    "                logits = model(input_ids, attention_mask, token_type_ids)\n",
    "\n",
    "                loss = loss_fn(logits, labels)\n",
    "                val_loss += loss.item()\n",
    "\n",
    "                _, pred = torch.max(logits, dim=1)  # 获取预测结果中最大值索引\n",
    "                correct += (pred == labels).sum().item()  # 累计预测正确的数量\n",
    "                total += labels.size(0)  # 累计样本数量\n",
    "\n",
    "                for i in range(logits.size(0)):\n",
    "                    pearson, _ = pearsonr(logits[i].cpu().numpy(), label_scores[i].cpu().numpy())\n",
    "                    pearson_sum += pearson\n",
    "                    pearson_count += 1\n",
    "\n",
    "        val_accuracy = correct / total\n",
    "        avg_val_loss = val_loss / len(val_loader)\n",
    "        avg_pearson = pearson_sum / pearson_count\n",
    "\n",
    "        val_accuracies.append(val_accuracy)\n",
    "        val_pearsons.append(avg_pearson)\n",
    "\n",
    "        print(f\"Validation Loss={avg_val_loss:.4f}, Validation Accuracy={val_accuracy:.4f}, Validation Pearson={avg_pearson:.4f}\")\n",
    "\n",
    "        # 检查早停条件\n",
    "        if avg_val_loss < best_val_loss:\n",
    "            best_val_loss = avg_val_loss\n",
    "            no_improve_epochs = 0\n",
    "        else:\n",
    "            no_improve_epochs += 1\n",
    "            if no_improve_epochs >= patience:\n",
    "                print(\"Early stopping triggered.\")\n",
    "                break\n",
    "\n",
    "        # 更新学习率\n",
    "        scheduler.step()\n",
    "\n",
    "    print(\"Training Complete\")\n",
    "\n",
    "    # 返回收集的指标数据\n",
    "    return train_losses, train_accuracies, train_pearsons, val_accuracies, val_pearsons\n"
   ]
  },
  {
   "cell_type": "code",
   "execution_count": 30,
   "metadata": {},
   "outputs": [
    {
     "name": "stdout",
     "output_type": "stream",
     "text": [
      "Epoch 1/20\n"
     ]
    },
    {
     "name": "stderr",
     "output_type": "stream",
     "text": [
      "                                                           \r"
     ]
    },
    {
     "name": "stdout",
     "output_type": "stream",
     "text": [
      "Train Loss=1.6622, Train Accuracy=0.4406, Train Pearson=0.3743\n"
     ]
    },
    {
     "name": "stderr",
     "output_type": "stream",
     "text": [
      "                                                             \r"
     ]
    },
    {
     "name": "stdout",
     "output_type": "stream",
     "text": [
      "Validation Loss=1.6257, Validation Accuracy=0.4540, Validation Pearson=0.4102\n",
      "Epoch 2/20\n"
     ]
    },
    {
     "name": "stderr",
     "output_type": "stream",
     "text": [
      "                                                           \r"
     ]
    },
    {
     "name": "stdout",
     "output_type": "stream",
     "text": [
      "Train Loss=1.6402, Train Accuracy=0.4467, Train Pearson=0.3850\n"
     ]
    },
    {
     "name": "stderr",
     "output_type": "stream",
     "text": [
      "                                                             \r"
     ]
    },
    {
     "name": "stdout",
     "output_type": "stream",
     "text": [
      "Validation Loss=1.6396, Validation Accuracy=0.4540, Validation Pearson=0.3914\n",
      "Epoch 3/20\n"
     ]
    },
    {
     "name": "stderr",
     "output_type": "stream",
     "text": [
      "                                                           \r"
     ]
    },
    {
     "name": "stdout",
     "output_type": "stream",
     "text": [
      "Train Loss=1.6390, Train Accuracy=0.4467, Train Pearson=0.3859\n"
     ]
    },
    {
     "name": "stderr",
     "output_type": "stream",
     "text": [
      "                                                             \r"
     ]
    },
    {
     "name": "stdout",
     "output_type": "stream",
     "text": [
      "Validation Loss=1.6322, Validation Accuracy=0.4540, Validation Pearson=0.4077\n",
      "Epoch 4/20\n"
     ]
    },
    {
     "name": "stderr",
     "output_type": "stream",
     "text": [
      "                                                           \r"
     ]
    },
    {
     "name": "stdout",
     "output_type": "stream",
     "text": [
      "Train Loss=1.6260, Train Accuracy=0.4467, Train Pearson=0.3877\n"
     ]
    },
    {
     "name": "stderr",
     "output_type": "stream",
     "text": [
      "                                                             \r"
     ]
    },
    {
     "name": "stdout",
     "output_type": "stream",
     "text": [
      "Validation Loss=1.6196, Validation Accuracy=0.4540, Validation Pearson=0.3968\n",
      "Epoch 5/20\n"
     ]
    },
    {
     "name": "stderr",
     "output_type": "stream",
     "text": [
      "                                                           \r"
     ]
    },
    {
     "name": "stdout",
     "output_type": "stream",
     "text": [
      "Train Loss=1.5957, Train Accuracy=0.4502, Train Pearson=0.4005\n"
     ]
    },
    {
     "name": "stderr",
     "output_type": "stream",
     "text": [
      "                                                             \r"
     ]
    },
    {
     "name": "stdout",
     "output_type": "stream",
     "text": [
      "Validation Loss=1.5046, Validation Accuracy=0.5066, Validation Pearson=0.4547\n",
      "Epoch 6/20\n"
     ]
    },
    {
     "name": "stderr",
     "output_type": "stream",
     "text": [
      "                                                           \r"
     ]
    },
    {
     "name": "stdout",
     "output_type": "stream",
     "text": [
      "Train Loss=1.4471, Train Accuracy=0.5167, Train Pearson=0.4797\n"
     ]
    },
    {
     "name": "stderr",
     "output_type": "stream",
     "text": [
      "                                                             \r"
     ]
    },
    {
     "name": "stdout",
     "output_type": "stream",
     "text": [
      "Validation Loss=1.4490, Validation Accuracy=0.5306, Validation Pearson=0.4835\n",
      "Epoch 7/20\n"
     ]
    },
    {
     "name": "stderr",
     "output_type": "stream",
     "text": [
      "                                                           \r"
     ]
    },
    {
     "name": "stdout",
     "output_type": "stream",
     "text": [
      "Train Loss=1.3867, Train Accuracy=0.5367, Train Pearson=0.4976\n"
     ]
    },
    {
     "name": "stderr",
     "output_type": "stream",
     "text": [
      "                                                             \r"
     ]
    },
    {
     "name": "stdout",
     "output_type": "stream",
     "text": [
      "Validation Loss=1.4409, Validation Accuracy=0.5295, Validation Pearson=0.5073\n",
      "Epoch 8/20\n"
     ]
    },
    {
     "name": "stderr",
     "output_type": "stream",
     "text": [
      "                                                           \r"
     ]
    },
    {
     "name": "stdout",
     "output_type": "stream",
     "text": [
      "Train Loss=1.3781, Train Accuracy=0.5353, Train Pearson=0.5081\n"
     ]
    },
    {
     "name": "stderr",
     "output_type": "stream",
     "text": [
      "                                                             \r"
     ]
    },
    {
     "name": "stdout",
     "output_type": "stream",
     "text": [
      "Validation Loss=1.4399, Validation Accuracy=0.5328, Validation Pearson=0.5131\n",
      "Epoch 9/20\n"
     ]
    },
    {
     "name": "stderr",
     "output_type": "stream",
     "text": [
      "                                                           \r"
     ]
    },
    {
     "name": "stdout",
     "output_type": "stream",
     "text": [
      "Train Loss=1.3745, Train Accuracy=0.5408, Train Pearson=0.5111\n"
     ]
    },
    {
     "name": "stderr",
     "output_type": "stream",
     "text": [
      "                                                             \r"
     ]
    },
    {
     "name": "stdout",
     "output_type": "stream",
     "text": [
      "Validation Loss=1.4367, Validation Accuracy=0.5383, Validation Pearson=0.5106\n",
      "Epoch 10/20\n"
     ]
    },
    {
     "name": "stderr",
     "output_type": "stream",
     "text": [
      "                                                           \r"
     ]
    },
    {
     "name": "stdout",
     "output_type": "stream",
     "text": [
      "Train Loss=1.3670, Train Accuracy=0.5405, Train Pearson=0.5100\n"
     ]
    },
    {
     "name": "stderr",
     "output_type": "stream",
     "text": [
      "                                                             \r"
     ]
    },
    {
     "name": "stdout",
     "output_type": "stream",
     "text": [
      "Validation Loss=1.4366, Validation Accuracy=0.5339, Validation Pearson=0.5107\n",
      "Epoch 11/20\n"
     ]
    },
    {
     "name": "stderr",
     "output_type": "stream",
     "text": [
      "                                                           \r"
     ]
    },
    {
     "name": "stdout",
     "output_type": "stream",
     "text": [
      "Train Loss=1.3679, Train Accuracy=0.5429, Train Pearson=0.5107\n"
     ]
    },
    {
     "name": "stderr",
     "output_type": "stream",
     "text": [
      "                                                             \r"
     ]
    },
    {
     "name": "stdout",
     "output_type": "stream",
     "text": [
      "Validation Loss=1.4367, Validation Accuracy=0.5361, Validation Pearson=0.5116\n",
      "Epoch 12/20\n"
     ]
    },
    {
     "name": "stderr",
     "output_type": "stream",
     "text": [
      "                                                           \r"
     ]
    },
    {
     "name": "stdout",
     "output_type": "stream",
     "text": [
      "Train Loss=1.3695, Train Accuracy=0.5397, Train Pearson=0.5110\n"
     ]
    },
    {
     "name": "stderr",
     "output_type": "stream",
     "text": [
      "                                                             \r"
     ]
    },
    {
     "name": "stdout",
     "output_type": "stream",
     "text": [
      "Validation Loss=1.4367, Validation Accuracy=0.5328, Validation Pearson=0.5117\n",
      "Epoch 13/20\n"
     ]
    },
    {
     "name": "stderr",
     "output_type": "stream",
     "text": [
      "                                                           \r"
     ]
    },
    {
     "name": "stdout",
     "output_type": "stream",
     "text": [
      "Train Loss=1.3662, Train Accuracy=0.5421, Train Pearson=0.5115\n"
     ]
    },
    {
     "name": "stderr",
     "output_type": "stream",
     "text": [
      "                                                             \r"
     ]
    },
    {
     "name": "stdout",
     "output_type": "stream",
     "text": [
      "Validation Loss=1.4367, Validation Accuracy=0.5328, Validation Pearson=0.5117\n",
      "Early stopping triggered.\n",
      "Training Complete\n"
     ]
    },
    {
     "data": {
      "image/png": "[encoded data removed]",
      "text/plain": [
       "<Figure size 1800x600 with 3 Axes>"
      ]
     },
     "metadata": {},
     "output_type": "display_data"
    }
   ],
   "source": [
    "import matplotlib.pyplot as plt\n",
    "from transformers import BertConfig, BertTokenizer\n",
    "\n",
    "tokenizer = BertTokenizer.from_pretrained('model/bert-base-chinese')  \n",
    "model = BertClassifier(BertConfig.from_pretrained('model/bert-base-chinese'), num_labels=8)  \n",
    "train_dataset = _2012Dataset('data/train.json', tokenizer)\n",
    "val_dataset = _2012Dataset('data/test.json', tokenizer)\n",
    "# 调用训练函数\n",
    "train_losses, train_accuracies, train_pearsons, val_accuracies, val_pearsons = train(\n",
    "    model, \n",
    "    train_dataset, \n",
    "    val_dataset, \n",
    "    epochs=20, \n",
    "    batch_size=8, \n",
    "    learning_rate=2e-5\n",
    ")\n",
    "\n",
    "# 绘制训练过程中的 Loss、Accuracy 和 Pearson Coefficient 曲线\n",
    "plt.figure(figsize=(18, 6))\n",
    "\n",
    "# Loss 曲线\n",
    "plt.subplot(1, 3, 1)\n",
    "plt.plot(range(1, len(train_losses) + 1), train_losses, label=\"Train Loss\", marker=\"o\")\n",
    "plt.xlabel(\"Epoch\")\n",
    "plt.ylabel(\"Loss\")\n",
    "plt.title(\"Training Loss\")\n",
    "plt.legend()\n",
    "\n",
    "# Accuracy 曲线\n",
    "plt.subplot(1, 3, 2)\n",
    "plt.plot(range(1, len(train_accuracies) + 1), train_accuracies, label=\"Train Accuracy\", marker=\"o\")\n",
    "plt.plot(range(1, len(val_accuracies) + 1), val_accuracies, label=\"Validation Accuracy\", marker=\"o\")\n",
    "plt.xlabel(\"Epoch\")\n",
    "plt.ylabel(\"Accuracy\")\n",
    "plt.title(\"Train & Validation Accuracy\")\n",
    "plt.legend()\n",
    "\n",
    "# Pearson Coefficient 曲线\n",
    "plt.subplot(1, 3, 3)\n",
    "plt.plot(range(1, len(train_pearsons) + 1), train_pearsons, label=\"Train Pearson\", marker=\"o\")\n",
    "plt.plot(range(1, len(val_pearsons) + 1), val_pearsons, label=\"Validation Pearson\", marker=\"o\")\n",
    "plt.xlabel(\"Epoch\")\n",
    "plt.ylabel(\"Pearson Coefficient\")\n",
    "plt.title(\"Train & Validation Pearson Coefficient\")\n",
    "plt.legend()\n",
    "\n",
    "plt.tight_layout()\n",
    "plt.show()\n"
   ]
  }
 ],
 "metadata": {
  "kernelspec": {
   "display_name": "LLM",
   "language": "python",
   "name": "python3"
  },
  "language_info": {
   "codemirror_mode": {
    "name": "ipython",
    "version": 3
   },
   "file_extension": ".py",
   "mimetype": "text/x-python",
   "name": "python",
   "nbconvert_exporter": "python",
   "pygments_lexer": "ipython3",
   "version": "3.11.11"
  }
 },
 "nbformat": 4,
 "nbformat_minor": 2
}
