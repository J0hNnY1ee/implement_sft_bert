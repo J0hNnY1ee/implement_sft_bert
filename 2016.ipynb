{
 "cells": [
  {
   "cell_type": "code",
   "execution_count": 1,
   "metadata": {},
   "outputs": [
    {
     "name": "stderr",
     "output_type": "stream",
     "text": [
      "/home/lijianhang/anaconda3/envs/LLM/lib/python3.11/site-packages/tqdm/auto.py:21: TqdmWarning: IProgress not found. Please update jupyter and ipywidgets. See https://ipywidgets.readthedocs.io/en/stable/user_install.html\n",
      "  from .autonotebook import tqdm as notebook_tqdm\n"
     ]
    }
   ],
   "source": [
    "\"\"\"\n",
    "该模块定义了两个用于文本分类的类，分别使用BERT和BERT与LSTM结合。\n",
    "类:\n",
    "    BertClassifier: 使用BERT进行文本分类的分类器。\n",
    "    BertLstmClassifier: 使用BERT和双向LSTM进行文本分类的分类器。\n",
    "类:\n",
    "    BertClassifier:\n",
    "        方法:\n",
    "            __init__(self, bert_config, num_labels): 使用给定的BERT配置和标签数量初始化BertClassifier。\n",
    "            forward(self, input_ids, attention_mask=None, token_type_ids=None): 定义BertClassifier的前向传播。\n",
    "    BertLstmClassifier:\n",
    "        方法:\n",
    "            __init__(self, bert_config, num_labels): 使用给定的BERT配置和标签数量初始化BertLstmClassifier。\n",
    "            forward(self, input_ids, attention_mask=None, token_type_ids=None): 定义BertLstmClassifier的前向传播。\n",
    "\"\"\"\n",
    "\n",
    "\n",
    "import torch.nn as nn\n",
    "from transformers import BertModel, BertTokenizer\n",
    "\n",
    "\n",
    "class BertClassifier(nn.Module):\n",
    "    def __init__(self, bert_config, num_labels):\n",
    "        super().__init__()\n",
    "        # 定义BERT模型\n",
    "        self.bert = BertModel(config=bert_config)\n",
    "        # 定义分类器\n",
    "        self.classifier = nn.Linear(bert_config.hidden_size, num_labels)\n",
    "        \n",
    "    def forward(self, input_ids, attention_mask=None, token_type_ids=None):\n",
    "        outputs = self.bert(input_ids, attention_mask=attention_mask, token_type_ids=token_type_ids)\n",
    "        pooled_output = outputs[1]\n",
    "        logits = self.classifier(pooled_output)\n",
    "        return logits\n",
    "    \n",
    "    \n",
    "class BertLstmClassifier(nn.Module):\n",
    "    def __init__(self, bert_config, num_labels):\n",
    "        super().__init__()\n",
    "        self.bert = BertModel(config=bert_config)\n",
    "        self.lstm = nn.LSTM(bert_config.hidden_size, bert_config.hidden_size, num_layers=2,batch_first=True, bidirectional=True)\n",
    "        self.classifier = nn.Linear(bert_config.hidden_size * 2, num_labels) ## 双向LSTM\n",
    "        \n",
    "    def forward(self, input_ids, attention_mask=None, token_type_ids=None):\n",
    "        outputs = self.bert(input_ids, attention_mask=attention_mask, token_type_ids=token_type_ids)\n",
    "        sequence_output = outputs.last_hidden_state\n",
    "        lstm_output, _ = self.lstm(sequence_output)\n",
    "        logits = self.classifier(lstm_output[:, -1, :])\n",
    "        return logits"
   ]
  },
  {
   "cell_type": "code",
   "execution_count": 2,
   "metadata": {},
   "outputs": [
    {
     "name": "stdout",
     "output_type": "stream",
     "text": [
      "5257\n",
      "解码后的文本: 媒 体 揭 课 程 辅 导 乱 象 : 让 学 员 续 费 是 老 师 首 要 任 务 暑 假 期 间 ， 不 少 孩 子 参 加 了 各 种 课 程 辅 导 班 。 记 者 调 查 发 现 ， 那 些 宣 称 一 对 一 独 创 教 学 法 的 课 程 辅 导 机 构 ， 不 少 利 用 中 高 考 状 元 高 分 获 得 者 等 进 行 夸 大 宣 传 ， 有 的 一 期 课 程 竟 高 达 5 万 元 ， 而 老 师 的 首 要 任 务 是 让 学 生 不 断 续 费 并 介 绍 新 学 员 。 专 门 招 募 尖 子 生 做 宣 传 培 训 基 本 费 用 每 课 时 200 元 ， 一 个 暑 假 50 个 课 时 ； 一 对 一 辅 导 每 课 时 300 元 ， 一 期 课 程 5 万 多 元 记 者 近 日 走 访 多 地 发 现 ， 暑 期 课 程 辅 导 班 市 场 火 热 。 不 少 机 构 都 打 出 了 培 养 出 中 高 考 状 元 学 员 成 绩 大 幅 提 升 等 宣 传 标 语 。 记 者 对 那 些 写 在 宣 传 单 和 网 站 上 的 成 功 案 例 作 了 分 析 ， 一 些 疑 点 浮 出 水 面 ， 甚 至 还 有 一 些 成 功 案 例 撞 车 的 现 象 。 比 如 在 深 圳 ， 学 而 思 培 优 和 邦 德 两 家 教 育 培 训 机 构 均 宣 称 ， 2015 年 深 圳 市 理 科 中 考 状 元 是 他 们 培 养 的 。 有 些 机 构 专 门 招 募 尖 子 生 进 行 免 费 培 训 ， 主 要 目 的 就 是 在 升 学 考 试 之 后 将 高 分 获 得 者 用 作 宣 传 。 南 京 一 家 教 育 机 构 在 其 2015 年 中 考 喜 报 里 突 出 宣 传 的 南 京 哈 佛 班 学 员 ， 实 际 上 是 今 年 4 月 份 该 机 构 在 南 京 多 所 重 点 中 学 里 集 中 选 拔 出 来 的 尖 子 生 ， 以 免 费 培 训 换 取 中 考 之 后 的 宣 传 权 。 记 者 调 查 发 现 ， 不 少 培 训 机 构 缺 乏 资 质 。 深 圳 市 教 育 局 最 新 发 布 的 《 深 圳 市 教 育 培 训 机\n",
      "情感标签ID: 1\n",
      "情感标签名称: angry\n"
     ]
    }
   ],
   "source": [
    "\n",
    "from torch.utils.data import Dataset\n",
    "import json\n",
    "import numpy as np\n",
    "import torch\n",
    "\n",
    "class _2016Dataset(Dataset):\n",
    "    def __init__(self, file_path, tokenizer,max_length=512):\n",
    "        self.labels = ['moved', 'angry', 'funny', 'sad', 'novel', 'shocked']\n",
    "        self.labels_id = {label: i for i, label in enumerate(self.labels)}\n",
    "        self.tokenizer = tokenizer\n",
    "        self.input_ids = []\n",
    "        self.token_type_ids = []\n",
    "        self.attention_mask = []\n",
    "        self.label_id = []\n",
    "        self.load_data(file_path,max_length)\n",
    "\n",
    "        \n",
    "    def load_data(self, file_path,max_length=512):\n",
    "        with open(file_path, 'r', encoding='utf-8') as file:\n",
    "            data = json.load(file)\n",
    "            \n",
    "        for item in data:\n",
    "            text = item['news']\n",
    "            # 过滤掉不需要的字段\n",
    "            emotions = {k: v for k, v in item.items() if k in self.labels}\n",
    "            # 找到值最大的情感字段\n",
    "            label = max(emotions, key=emotions.get)\n",
    "            label_id = self.labels_id[label]\n",
    "            token = self.tokenizer(text, max_length=max_length, add_special_tokens=True, padding='max_length', truncation=True, return_tensors='pt')\n",
    "            self.input_ids.append(token['input_ids'].clone().detach().to(dtype=torch.long))\n",
    "            self.token_type_ids.append(token['token_type_ids'].clone().detach().to(dtype=torch.long))\n",
    "            self.attention_mask.append(token['attention_mask'].clone().detach().to(dtype=torch.long))\n",
    "            self.label_id.append(label_id)\n",
    "    \n",
    "    def __len__(self):\n",
    "        return len(self.input_ids)\n",
    "    \n",
    "    def __getitem__(self, index):\n",
    "        return self.input_ids[index].squeeze(0), self.token_type_ids[index].squeeze(0), self.attention_mask[index].squeeze(0), self.label_id[index]\n",
    "\n",
    "tokenizer = BertTokenizer.from_pretrained('model/bert-base-chinese')\n",
    "test_data = _2016Dataset('data/2016.json', tokenizer)\n",
    "\n",
    "print(len(test_data))\n",
    "\n",
    "# 获取第一条数据\n",
    "input_ids, token_type_ids, attention_mask, label_id = test_data[0]\n",
    "\n",
    "# 解码 input_ids\n",
    "decoded_text = tokenizer.decode(input_ids.squeeze().tolist(), skip_special_tokens=True)\n",
    "\n",
    "print(\"解码后的文本:\", decoded_text)\n",
    "print(\"情感标签ID:\", label_id)\n",
    "print(\"情感标签名称:\", test_data.labels[label_id])\n"
   ]
  },
  {
   "cell_type": "code",
   "execution_count": 3,
   "metadata": {},
   "outputs": [
    {
     "name": "stdout",
     "output_type": "stream",
     "text": [
      "训练集大小: 3679\n",
      "测试集大小: 1578\n"
     ]
    }
   ],
   "source": [
    "#分割数据集\n",
    "import json\n",
    "import random\n",
    "\n",
    "# 加载原始数据集\n",
    "with open('data/2016.json', 'r', encoding='utf-8') as file:\n",
    "    data = json.load(file)\n",
    "\n",
    "# 打乱数据集\n",
    "random.shuffle(data)\n",
    "\n",
    "# 分割数据集\n",
    "split_index = int(len(data) * 0.7)\n",
    "train_data = data[:split_index]\n",
    "test_data = data[split_index:]\n",
    "\n",
    "# 保存训练集到 train.json\n",
    "with open('data/train.json', 'w', encoding='utf-8') as train_file:\n",
    "    json.dump(train_data, train_file, ensure_ascii=False, indent=4)\n",
    "\n",
    "# 保存测试集到 test.json\n",
    "with open('data/test.json', 'w', encoding='utf-8') as test_file:\n",
    "    json.dump(test_data, test_file, ensure_ascii=False, indent=4)\n",
    "\n",
    "print(f\"训练集大小: {len(train_data)}\")\n",
    "print(f\"测试集大小: {len(test_data)}\")"
   ]
  },
  {
   "cell_type": "code",
   "execution_count": 4,
   "metadata": {},
   "outputs": [],
   "source": [
    "import os\n",
    "import torch\n",
    "import torch.nn as nn\n",
    "from transformers import BertTokenizer, AdamW, BertConfig\n",
    "from torch.utils.data import DataLoader\n",
    "from tqdm import tqdm\n",
    "from sklearn import metrics\n",
    "import scipy.stats as stats  # 引入scipy库\n",
    "\n",
    "def train():\n",
    "    model_path = \"model/bert-base-chinese\"\n",
    "    data_path = \"data/\"\n",
    "    batch_size = 16\n",
    "    device = torch.device(\"cuda\" if torch.cuda.is_available() else \"cpu\")\n",
    "    epochs = 20\n",
    "    learning_rate = 5e-5\n",
    "    tokenizer = BertTokenizer.from_pretrained(model_path)\n",
    "    \n",
    "    train_dataset = _2016Dataset(data_path + 'train.json', tokenizer)\n",
    "    valid_dataset = _2016Dataset(data_path + 'test.json', tokenizer)\n",
    "\n",
    "    valid_dataloader = DataLoader(valid_dataset, batch_size=batch_size, shuffle=False)\n",
    "\n",
    "    bert_config = BertConfig.from_pretrained(model_path)\n",
    "    num_labels = len(train_dataset.labels)\n",
    "    \n",
    "    model = BertClassifier(bert_config, num_labels).to(device)\n",
    "\n",
    "    optimizer = AdamW(model.parameters(), lr=learning_rate)\n",
    "    \n",
    "    criterion = nn.CrossEntropyLoss()\n",
    "    \n",
    "    best_f1 = 0\n",
    "    \n",
    "    # 用于记录每个 epoch 的训练损失、验证损失、训练准确率、验证准确率\n",
    "    train_losses = []\n",
    "    valid_losses = []\n",
    "    train_accuracies = []\n",
    "    valid_accuracies = []\n",
    "    pearson_corrs = []  # 用于记录每一轮的皮尔逊相关系数\n",
    "    \n",
    "    for epoch in range(1, epochs + 1):\n",
    "        model.train()\n",
    "        losses = 0\n",
    "        accuracy = 0\n",
    "        \n",
    "        train_dataloader = DataLoader(train_dataset, batch_size=batch_size, shuffle=True)\n",
    "        train_bar = tqdm(train_dataloader, ncols=100)\n",
    "        \n",
    "        for input_ids, token_type_ids, attention_mask, label_id in train_bar:\n",
    "            \n",
    "            model.zero_grad()\n",
    "            train_bar.set_description(f\"Epoch {epoch}\")\n",
    "            \n",
    "            output = model(input_ids.to(device), attention_mask=attention_mask.to(device), token_type_ids=token_type_ids.to(device))\n",
    "\n",
    "            loss = criterion(output, label_id.to(device))\n",
    "            \n",
    "            losses += loss.item()\n",
    "            \n",
    "            pred_labels = torch.argmax(output, dim=1)\n",
    "            acc = torch.sum(pred_labels == label_id.to(device)).item() / len(label_id)\n",
    "            accuracy += acc\n",
    "            \n",
    "            loss.backward()\n",
    "            optimizer.step()\n",
    "            train_bar.set_postfix(loss=loss.item(), acc=acc)\n",
    "            \n",
    "        average_loss = losses / len(train_dataloader)\n",
    "        average_acc = accuracy / len(train_dataloader)\n",
    "        \n",
    "        # 保存训练损失和准确率\n",
    "        train_losses.append(average_loss)\n",
    "        train_accuracies.append(average_acc)\n",
    "        \n",
    "        print('\\tTrain ACC:', average_acc, '\\tLoss:', average_loss)\n",
    "        \n",
    "        model.eval()\n",
    "        losses = 0\n",
    "        pred_labels = []\n",
    "        true_labels = []\n",
    "        valid_bar = tqdm(valid_dataloader, ncols=100)\n",
    "        \n",
    "        for input_ids, token_type_ids, attention_mask, label_id in valid_bar:\n",
    "            valid_bar.set_description(f'Epoch {epoch} valid')\n",
    "\n",
    "            output = model(input_ids=input_ids.to(device), attention_mask=attention_mask.to(device), token_type_ids=token_type_ids.to(device))\n",
    "            \n",
    "            loss = criterion(output, label_id.to(device))\n",
    "            losses += loss.item()\n",
    "\n",
    "            pred_label = torch.argmax(output, dim=1)\n",
    "            acc = torch.sum(pred_label == label_id.to(device)).item() / len(pred_label)\n",
    "            valid_bar.set_postfix(loss=loss.item(), acc=acc)\n",
    "\n",
    "            pred_labels.extend(pred_label.cpu().numpy().tolist())\n",
    "            true_labels.extend(label_id.numpy().tolist())\n",
    "        \n",
    "        average_loss = losses / len(valid_dataloader)\n",
    "        valid_losses.append(average_loss)\n",
    "        valid_accuracies.append(acc)\n",
    "        \n",
    "        print('\\tValidation Loss:', average_loss)\n",
    "        \n",
    "        # 计算皮尔逊相关系数\n",
    "        pearson_corr, _ = stats.pearsonr(true_labels, pred_labels)\n",
    "        pearson_corrs.append(pearson_corr)  # 将每轮的皮尔逊系数添加到列表\n",
    "        \n",
    "        print(f'\\tPearson Correlation: {pearson_corr}')\n",
    "\n",
    "        f1 = metrics.f1_score(true_labels, pred_labels, labels=list(valid_dataset.labels_id.values()), average='micro')\n",
    "        \n",
    "        if not os.path.exists('models'):\n",
    "            os.makedirs('models')\n",
    "        \n",
    "        if f1 > best_f1:\n",
    "            best_f1 = f1\n",
    "            torch.save(model.state_dict(), 'models/best_model_2.pkl')\n",
    "    \n",
    "    # 返回训练和验证的损失数据、准确率数据和皮尔逊系数\n",
    "    return train_losses, valid_losses, train_accuracies, valid_accuracies, pearson_corrs\n"
   ]
  },
  {
   "cell_type": "code",
   "execution_count": 5,
   "metadata": {},
   "outputs": [
    {
     "name": "stderr",
     "output_type": "stream",
     "text": [
      "/home/lijianhang/anaconda3/envs/LLM/lib/python3.11/site-packages/transformers/optimization.py:591: FutureWarning: This implementation of AdamW is deprecated and will be removed in a future version. Use the PyTorch implementation torch.optim.AdamW instead, or set `no_deprecation_warning=True` to disable this warning\n",
      "  warnings.warn(\n",
      "Epoch 1: 100%|██████████████████████████████| 230/230 [01:24<00:00,  2.73it/s, acc=0.267, loss=1.41]\n"
     ]
    },
    {
     "name": "stdout",
     "output_type": "stream",
     "text": [
      "\tTrain ACC: 0.3416485507246377 \tLoss: 1.5269486302914828\n"
     ]
    },
    {
     "name": "stderr",
     "output_type": "stream",
     "text": [
      "Epoch 1 valid: 100%|████████████████████████████| 99/99 [00:11<00:00,  8.70it/s, acc=0.3, loss=1.35]\n",
      "/tmp/ipykernel_2580036/1951089149.py:106: ConstantInputWarning: An input array is constant; the correlation coefficient is not defined.\n",
      "  pearson_corr, _ = stats.pearsonr(true_labels, pred_labels)\n"
     ]
    },
    {
     "name": "stdout",
     "output_type": "stream",
     "text": [
      "\tValidation Loss: 1.5165848202175565\n",
      "\tPearson Correlation: nan\n"
     ]
    },
    {
     "name": "stderr",
     "output_type": "stream",
     "text": [
      "Epoch 2: 100%|██████████████████████████████| 230/230 [01:25<00:00,  2.70it/s, acc=0.333, loss=1.57]\n"
     ]
    },
    {
     "name": "stdout",
     "output_type": "stream",
     "text": [
      "\tTrain ACC: 0.3381340579710145 \tLoss: 1.5138813288315482\n"
     ]
    },
    {
     "name": "stderr",
     "output_type": "stream",
     "text": [
      "Epoch 2 valid: 100%|████████████████████████████| 99/99 [00:11<00:00,  8.33it/s, acc=0.3, loss=1.41]\n",
      "/tmp/ipykernel_2580036/1951089149.py:106: ConstantInputWarning: An input array is constant; the correlation coefficient is not defined.\n",
      "  pearson_corr, _ = stats.pearsonr(true_labels, pred_labels)\n"
     ]
    },
    {
     "name": "stdout",
     "output_type": "stream",
     "text": [
      "\tValidation Loss: 1.4966786028158785\n",
      "\tPearson Correlation: nan\n"
     ]
    },
    {
     "name": "stderr",
     "output_type": "stream",
     "text": [
      "Epoch 3: 100%|████████████████████████████████| 230/230 [01:26<00:00,  2.67it/s, acc=0.4, loss=1.39]\n"
     ]
    },
    {
     "name": "stdout",
     "output_type": "stream",
     "text": [
      "\tTrain ACC: 0.3539130434782609 \tLoss: 1.5018287492835003\n"
     ]
    },
    {
     "name": "stderr",
     "output_type": "stream",
     "text": [
      "Epoch 3 valid: 100%|████████████████████████████| 99/99 [00:11<00:00,  8.41it/s, acc=0.3, loss=1.44]\n",
      "/tmp/ipykernel_2580036/1951089149.py:106: ConstantInputWarning: An input array is constant; the correlation coefficient is not defined.\n",
      "  pearson_corr, _ = stats.pearsonr(true_labels, pred_labels)\n"
     ]
    },
    {
     "name": "stdout",
     "output_type": "stream",
     "text": [
      "\tValidation Loss: 1.4991589146431046\n",
      "\tPearson Correlation: nan\n"
     ]
    },
    {
     "name": "stderr",
     "output_type": "stream",
     "text": [
      "Epoch 4: 100%|██████████████████████████████| 230/230 [01:25<00:00,  2.68it/s, acc=0.533, loss=1.42]\n"
     ]
    },
    {
     "name": "stdout",
     "output_type": "stream",
     "text": [
      "\tTrain ACC: 0.3501449275362319 \tLoss: 1.5054274761158488\n"
     ]
    },
    {
     "name": "stderr",
     "output_type": "stream",
     "text": [
      "Epoch 4 valid: 100%|████████████████████████████| 99/99 [00:11<00:00,  8.43it/s, acc=0.3, loss=1.42]\n",
      "/tmp/ipykernel_2580036/1951089149.py:106: ConstantInputWarning: An input array is constant; the correlation coefficient is not defined.\n",
      "  pearson_corr, _ = stats.pearsonr(true_labels, pred_labels)\n"
     ]
    },
    {
     "name": "stdout",
     "output_type": "stream",
     "text": [
      "\tValidation Loss: 1.497209040805547\n",
      "\tPearson Correlation: nan\n"
     ]
    },
    {
     "name": "stderr",
     "output_type": "stream",
     "text": [
      "Epoch 5: 100%|██████████████████████████████| 230/230 [01:25<00:00,  2.68it/s, acc=0.467, loss=1.33]\n"
     ]
    },
    {
     "name": "stdout",
     "output_type": "stream",
     "text": [
      "\tTrain ACC: 0.351213768115942 \tLoss: 1.5016501675481382\n"
     ]
    },
    {
     "name": "stderr",
     "output_type": "stream",
     "text": [
      "Epoch 5 valid: 100%|████████████████████████████| 99/99 [00:11<00:00,  8.42it/s, acc=0.3, loss=1.41]\n",
      "/tmp/ipykernel_2580036/1951089149.py:106: ConstantInputWarning: An input array is constant; the correlation coefficient is not defined.\n",
      "  pearson_corr, _ = stats.pearsonr(true_labels, pred_labels)\n"
     ]
    },
    {
     "name": "stdout",
     "output_type": "stream",
     "text": [
      "\tValidation Loss: 1.500254415502452\n",
      "\tPearson Correlation: nan\n"
     ]
    },
    {
     "name": "stderr",
     "output_type": "stream",
     "text": [
      "Epoch 6: 100%|████████████████████████████████| 230/230 [01:25<00:00,  2.69it/s, acc=0.6, loss=1.46]\n"
     ]
    },
    {
     "name": "stdout",
     "output_type": "stream",
     "text": [
      "\tTrain ACC: 0.35043478260869565 \tLoss: 1.503815586152284\n"
     ]
    },
    {
     "name": "stderr",
     "output_type": "stream",
     "text": [
      "Epoch 6 valid: 100%|████████████████████████████| 99/99 [00:11<00:00,  8.46it/s, acc=0.3, loss=1.37]\n",
      "/tmp/ipykernel_2580036/1951089149.py:106: ConstantInputWarning: An input array is constant; the correlation coefficient is not defined.\n",
      "  pearson_corr, _ = stats.pearsonr(true_labels, pred_labels)\n"
     ]
    },
    {
     "name": "stdout",
     "output_type": "stream",
     "text": [
      "\tValidation Loss: 1.4957763630934435\n",
      "\tPearson Correlation: nan\n"
     ]
    },
    {
     "name": "stderr",
     "output_type": "stream",
     "text": [
      "Epoch 7: 100%|████████████████████████████████| 230/230 [01:25<00:00,  2.69it/s, acc=0.4, loss=1.42]\n"
     ]
    },
    {
     "name": "stdout",
     "output_type": "stream",
     "text": [
      "\tTrain ACC: 0.35010869565217395 \tLoss: 1.5042724298394246\n"
     ]
    },
    {
     "name": "stderr",
     "output_type": "stream",
     "text": [
      "Epoch 7 valid: 100%|████████████████████████████| 99/99 [00:11<00:00,  8.42it/s, acc=0.3, loss=1.44]\n",
      "/tmp/ipykernel_2580036/1951089149.py:106: ConstantInputWarning: An input array is constant; the correlation coefficient is not defined.\n",
      "  pearson_corr, _ = stats.pearsonr(true_labels, pred_labels)\n"
     ]
    },
    {
     "name": "stdout",
     "output_type": "stream",
     "text": [
      "\tValidation Loss: 1.5181946224636502\n",
      "\tPearson Correlation: nan\n"
     ]
    },
    {
     "name": "stderr",
     "output_type": "stream",
     "text": [
      "Epoch 8: 100%|██████████████████████████████| 230/230 [01:25<00:00,  2.68it/s, acc=0.333, loss=1.45]\n"
     ]
    },
    {
     "name": "stdout",
     "output_type": "stream",
     "text": [
      "\tTrain ACC: 0.34927536231884054 \tLoss: 1.5014232324517292\n"
     ]
    },
    {
     "name": "stderr",
     "output_type": "stream",
     "text": [
      "Epoch 8 valid: 100%|████████████████████████████| 99/99 [00:11<00:00,  8.42it/s, acc=0.3, loss=1.38]\n",
      "/tmp/ipykernel_2580036/1951089149.py:106: ConstantInputWarning: An input array is constant; the correlation coefficient is not defined.\n",
      "  pearson_corr, _ = stats.pearsonr(true_labels, pred_labels)\n"
     ]
    },
    {
     "name": "stdout",
     "output_type": "stream",
     "text": [
      "\tValidation Loss: 1.4944018005120634\n",
      "\tPearson Correlation: nan\n"
     ]
    },
    {
     "name": "stderr",
     "output_type": "stream",
     "text": [
      "Epoch 9: 100%|████████████████████████████████| 230/230 [01:25<00:00,  2.68it/s, acc=0.2, loss=1.61]\n"
     ]
    },
    {
     "name": "stdout",
     "output_type": "stream",
     "text": [
      "\tTrain ACC: 0.3560326086956522 \tLoss: 1.4980739754179249\n"
     ]
    },
    {
     "name": "stderr",
     "output_type": "stream",
     "text": [
      "Epoch 9 valid: 100%|████████████████████████████| 99/99 [00:11<00:00,  8.43it/s, acc=0.4, loss=1.38]\n",
      "/tmp/ipykernel_2580036/1951089149.py:106: ConstantInputWarning: An input array is constant; the correlation coefficient is not defined.\n",
      "  pearson_corr, _ = stats.pearsonr(true_labels, pred_labels)\n"
     ]
    },
    {
     "name": "stdout",
     "output_type": "stream",
     "text": [
      "\tValidation Loss: 1.5156996527103463\n",
      "\tPearson Correlation: nan\n"
     ]
    },
    {
     "name": "stderr",
     "output_type": "stream",
     "text": [
      "Epoch 10: 100%|███████████████████████████████| 230/230 [01:25<00:00,  2.68it/s, acc=0.4, loss=1.31]\n"
     ]
    },
    {
     "name": "stdout",
     "output_type": "stream",
     "text": [
      "\tTrain ACC: 0.35635869565217393 \tLoss: 1.4997928764509119\n"
     ]
    },
    {
     "name": "stderr",
     "output_type": "stream",
     "text": [
      "Epoch 10 valid: 100%|███████████████████████████| 99/99 [00:11<00:00,  8.41it/s, acc=0.4, loss=1.42]\n",
      "/tmp/ipykernel_2580036/1951089149.py:106: ConstantInputWarning: An input array is constant; the correlation coefficient is not defined.\n",
      "  pearson_corr, _ = stats.pearsonr(true_labels, pred_labels)\n"
     ]
    },
    {
     "name": "stdout",
     "output_type": "stream",
     "text": [
      "\tValidation Loss: 1.5167522406337237\n",
      "\tPearson Correlation: nan\n"
     ]
    },
    {
     "name": "stderr",
     "output_type": "stream",
     "text": [
      "Epoch 11: 100%|█████████████████████████████| 230/230 [01:25<00:00,  2.68it/s, acc=0.333, loss=1.64]\n"
     ]
    },
    {
     "name": "stdout",
     "output_type": "stream",
     "text": [
      "\tTrain ACC: 0.34791666666666665 \tLoss: 1.5019397424614949\n"
     ]
    },
    {
     "name": "stderr",
     "output_type": "stream",
     "text": [
      "Epoch 11 valid: 100%|███████████████████████████| 99/99 [00:11<00:00,  8.43it/s, acc=0.4, loss=1.36]\n",
      "/tmp/ipykernel_2580036/1951089149.py:106: ConstantInputWarning: An input array is constant; the correlation coefficient is not defined.\n",
      "  pearson_corr, _ = stats.pearsonr(true_labels, pred_labels)\n"
     ]
    },
    {
     "name": "stdout",
     "output_type": "stream",
     "text": [
      "\tValidation Loss: 1.5098292707192777\n",
      "\tPearson Correlation: nan\n"
     ]
    },
    {
     "name": "stderr",
     "output_type": "stream",
     "text": [
      "Epoch 12: 100%|███████████████████████████████| 230/230 [01:25<00:00,  2.69it/s, acc=0.4, loss=1.34]\n"
     ]
    },
    {
     "name": "stdout",
     "output_type": "stream",
     "text": [
      "\tTrain ACC: 0.3490217391304348 \tLoss: 1.498034473605778\n"
     ]
    },
    {
     "name": "stderr",
     "output_type": "stream",
     "text": [
      "Epoch 12 valid: 100%|███████████████████████████| 99/99 [00:11<00:00,  8.42it/s, acc=0.3, loss=1.42]\n",
      "/tmp/ipykernel_2580036/1951089149.py:106: ConstantInputWarning: An input array is constant; the correlation coefficient is not defined.\n",
      "  pearson_corr, _ = stats.pearsonr(true_labels, pred_labels)\n"
     ]
    },
    {
     "name": "stdout",
     "output_type": "stream",
     "text": [
      "\tValidation Loss: 1.4945846699705028\n",
      "\tPearson Correlation: nan\n"
     ]
    },
    {
     "name": "stderr",
     "output_type": "stream",
     "text": [
      "Epoch 13: 100%|█████████████████████████████| 230/230 [01:25<00:00,  2.69it/s, acc=0.333, loss=1.73]\n"
     ]
    },
    {
     "name": "stdout",
     "output_type": "stream",
     "text": [
      "\tTrain ACC: 0.3530797101449275 \tLoss: 1.4997044744698897\n"
     ]
    },
    {
     "name": "stderr",
     "output_type": "stream",
     "text": [
      "Epoch 13 valid: 100%|████████████████████████████| 99/99 [00:11<00:00,  8.43it/s, acc=0.3, loss=1.4]\n",
      "/tmp/ipykernel_2580036/1951089149.py:106: ConstantInputWarning: An input array is constant; the correlation coefficient is not defined.\n",
      "  pearson_corr, _ = stats.pearsonr(true_labels, pred_labels)\n"
     ]
    },
    {
     "name": "stdout",
     "output_type": "stream",
     "text": [
      "\tValidation Loss: 1.4952387436471803\n",
      "\tPearson Correlation: nan\n"
     ]
    },
    {
     "name": "stderr",
     "output_type": "stream",
     "text": [
      "Epoch 14: 100%|█████████████████████████████| 230/230 [01:25<00:00,  2.69it/s, acc=0.467, loss=1.27]\n"
     ]
    },
    {
     "name": "stdout",
     "output_type": "stream",
     "text": [
      "\tTrain ACC: 0.3468659420289855 \tLoss: 1.4975405573844909\n"
     ]
    },
    {
     "name": "stderr",
     "output_type": "stream",
     "text": [
      "Epoch 14 valid: 100%|████████████████████████████| 99/99 [00:11<00:00,  8.42it/s, acc=0.3, loss=1.4]\n",
      "/tmp/ipykernel_2580036/1951089149.py:106: ConstantInputWarning: An input array is constant; the correlation coefficient is not defined.\n",
      "  pearson_corr, _ = stats.pearsonr(true_labels, pred_labels)\n"
     ]
    },
    {
     "name": "stdout",
     "output_type": "stream",
     "text": [
      "\tValidation Loss: 1.5038309338116886\n",
      "\tPearson Correlation: nan\n"
     ]
    },
    {
     "name": "stderr",
     "output_type": "stream",
     "text": [
      "Epoch 15: 100%|██████████████████████████████| 230/230 [01:25<00:00,  2.69it/s, acc=0.533, loss=1.3]\n"
     ]
    },
    {
     "name": "stdout",
     "output_type": "stream",
     "text": [
      "\tTrain ACC: 0.34905797101449276 \tLoss: 1.50094887536505\n"
     ]
    },
    {
     "name": "stderr",
     "output_type": "stream",
     "text": [
      "Epoch 15 valid: 100%|████████████████████████████| 99/99 [00:11<00:00,  8.42it/s, acc=0.3, loss=1.4]\n",
      "/tmp/ipykernel_2580036/1951089149.py:106: ConstantInputWarning: An input array is constant; the correlation coefficient is not defined.\n",
      "  pearson_corr, _ = stats.pearsonr(true_labels, pred_labels)\n"
     ]
    },
    {
     "name": "stdout",
     "output_type": "stream",
     "text": [
      "\tValidation Loss: 1.5057498409290506\n",
      "\tPearson Correlation: nan\n"
     ]
    },
    {
     "name": "stderr",
     "output_type": "stream",
     "text": [
      "Epoch 16: 100%|███████████████████████████████| 230/230 [01:25<00:00,  2.69it/s, acc=0.4, loss=1.73]\n"
     ]
    },
    {
     "name": "stdout",
     "output_type": "stream",
     "text": [
      "\tTrain ACC: 0.36043478260869566 \tLoss: 1.498358730647875\n"
     ]
    },
    {
     "name": "stderr",
     "output_type": "stream",
     "text": [
      "Epoch 16 valid: 100%|███████████████████████████| 99/99 [00:11<00:00,  8.42it/s, acc=0.3, loss=1.38]\n",
      "/tmp/ipykernel_2580036/1951089149.py:106: ConstantInputWarning: An input array is constant; the correlation coefficient is not defined.\n",
      "  pearson_corr, _ = stats.pearsonr(true_labels, pred_labels)\n"
     ]
    },
    {
     "name": "stdout",
     "output_type": "stream",
     "text": [
      "\tValidation Loss: 1.502674365284467\n",
      "\tPearson Correlation: nan\n"
     ]
    },
    {
     "name": "stderr",
     "output_type": "stream",
     "text": [
      "Epoch 17: 100%|█████████████████████████████| 230/230 [01:25<00:00,  2.68it/s, acc=0.467, loss=1.48]\n"
     ]
    },
    {
     "name": "stdout",
     "output_type": "stream",
     "text": [
      "\tTrain ACC: 0.34795289855072464 \tLoss: 1.4980242236800816\n"
     ]
    },
    {
     "name": "stderr",
     "output_type": "stream",
     "text": [
      "Epoch 17 valid: 100%|████████████████████████████| 99/99 [00:11<00:00,  8.42it/s, acc=0.3, loss=1.4]\n",
      "/tmp/ipykernel_2580036/1951089149.py:106: ConstantInputWarning: An input array is constant; the correlation coefficient is not defined.\n",
      "  pearson_corr, _ = stats.pearsonr(true_labels, pred_labels)\n"
     ]
    },
    {
     "name": "stdout",
     "output_type": "stream",
     "text": [
      "\tValidation Loss: 1.5062920794342503\n",
      "\tPearson Correlation: nan\n"
     ]
    },
    {
     "name": "stderr",
     "output_type": "stream",
     "text": [
      "Epoch 18: 100%|███████████████████████████████| 230/230 [01:25<00:00,  2.68it/s, acc=0.4, loss=1.78]\n"
     ]
    },
    {
     "name": "stdout",
     "output_type": "stream",
     "text": [
      "\tTrain ACC: 0.34847826086956524 \tLoss: 1.5039755437685096\n"
     ]
    },
    {
     "name": "stderr",
     "output_type": "stream",
     "text": [
      "Epoch 18 valid: 100%|███████████████████████████| 99/99 [00:11<00:00,  8.42it/s, acc=0.4, loss=1.37]\n",
      "/tmp/ipykernel_2580036/1951089149.py:106: ConstantInputWarning: An input array is constant; the correlation coefficient is not defined.\n",
      "  pearson_corr, _ = stats.pearsonr(true_labels, pred_labels)\n"
     ]
    },
    {
     "name": "stdout",
     "output_type": "stream",
     "text": [
      "\tValidation Loss: 1.506698413328691\n",
      "\tPearson Correlation: nan\n"
     ]
    },
    {
     "name": "stderr",
     "output_type": "stream",
     "text": [
      "Epoch 19: 100%|█████████████████████████████| 230/230 [01:25<00:00,  2.68it/s, acc=0.267, loss=1.46]\n"
     ]
    },
    {
     "name": "stdout",
     "output_type": "stream",
     "text": [
      "\tTrain ACC: 0.35768115942028983 \tLoss: 1.4957275048546168\n"
     ]
    },
    {
     "name": "stderr",
     "output_type": "stream",
     "text": [
      "Epoch 19 valid: 100%|███████████████████████████| 99/99 [00:11<00:00,  8.39it/s, acc=0.3, loss=1.37]\n",
      "/tmp/ipykernel_2580036/1951089149.py:106: ConstantInputWarning: An input array is constant; the correlation coefficient is not defined.\n",
      "  pearson_corr, _ = stats.pearsonr(true_labels, pred_labels)\n"
     ]
    },
    {
     "name": "stdout",
     "output_type": "stream",
     "text": [
      "\tValidation Loss: 1.4983776530834159\n",
      "\tPearson Correlation: nan\n"
     ]
    },
    {
     "name": "stderr",
     "output_type": "stream",
     "text": [
      "Epoch 20: 100%|█████████████████████████████| 230/230 [01:25<00:00,  2.68it/s, acc=0.467, loss=1.44]\n"
     ]
    },
    {
     "name": "stdout",
     "output_type": "stream",
     "text": [
      "\tTrain ACC: 0.34740942028985505 \tLoss: 1.4978881628616996\n"
     ]
    },
    {
     "name": "stderr",
     "output_type": "stream",
     "text": [
      "Epoch 20 valid: 100%|███████████████████████████| 99/99 [00:11<00:00,  8.41it/s, acc=0.3, loss=1.43]\n",
      "/tmp/ipykernel_2580036/1951089149.py:106: ConstantInputWarning: An input array is constant; the correlation coefficient is not defined.\n",
      "  pearson_corr, _ = stats.pearsonr(true_labels, pred_labels)\n"
     ]
    },
    {
     "name": "stdout",
     "output_type": "stream",
     "text": [
      "\tValidation Loss: 1.5000128432957813\n",
      "\tPearson Correlation: nan\n"
     ]
    }
   ],
   "source": [
    "# 运行训练过程并获取分类报告数据、训练损失和验证损失\n",
    "train_losses, valid_losses, train_accuracies, valid_accuracies, pearson_corrs = train()\n"
   ]
  },
  {
   "cell_type": "code",
   "execution_count": null,
   "metadata": {},
   "outputs": [
    {
     "data": {
      "image/png": "[encoded data removed]",
      "text/plain": [
       "<Figure size 1000x600 with 1 Axes>"
      ]
     },
     "metadata": {},
     "output_type": "display_data"
    },
    {
     "data": {
      "image/png": "[encoded data removed]",
      "text/plain": [
       "<Figure size 1000x600 with 1 Axes>"
      ]
     },
     "metadata": {},
     "output_type": "display_data"
    },
    {
     "data": {
      "image/png": "[encoded data removed]",
      "text/plain": [
       "<Figure size 1000x600 with 1 Axes>"
      ]
     },
     "metadata": {},
     "output_type": "display_data"
    }
   ],
   "source": [
    "import matplotlib.pyplot as plt\n",
    "import seaborn as sns\n",
    "\n",
    "# 调用训练函数并获取结果\n",
    "\n",
    "# 设置 Seaborn 样式\n",
    "sns.set_style(\"whitegrid\")\n",
    "\n",
    "# 绘制训练和验证的损失曲线\n",
    "plt.figure(figsize=(10, 6))\n",
    "plt.plot(range(1, len(train_losses) + 1), train_losses, label=\"Train Loss\", color='blue', marker='o')\n",
    "plt.plot(range(1, len(valid_losses) + 1), valid_losses, label=\"Validation Loss\", color='red', marker='o')\n",
    "plt.title(\"Training and Validation Losses\")\n",
    "plt.xlabel(\"Epoch\")\n",
    "plt.ylabel(\"Loss\")\n",
    "plt.legend()\n",
    "plt.grid(True)\n",
    "plt.show()\n",
    "\n",
    "# 绘制训练和验证的准确率曲线\n",
    "plt.figure(figsize=(10, 6))\n",
    "plt.plot(range(1, len(train_accuracies) + 1), train_accuracies, label=\"Train Accuracy\", color='blue', marker='o')\n",
    "plt.plot(range(1, len(valid_accuracies) + 1), valid_accuracies, label=\"Validation Accuracy\", color='red', marker='o')\n",
    "plt.title(\"Training and Validation Accuracy\")\n",
    "plt.xlabel(\"Epoch\")\n",
    "plt.ylabel(\"Accuracy\")\n",
    "plt.legend()\n",
    "plt.grid(True)\n",
    "plt.show()\n",
    "\n",
    "# 绘制皮尔逊相关系数曲线\n",
    "plt.figure(figsize=(10, 6))\n",
    "plt.plot(range(1, len(pearson_corrs) + 1), pearson_corrs, label=\"Pearson Correlation\", color='green', marker='o')\n",
    "plt.title(\"Pearson Correlation Per Epoch\")\n",
    "plt.xlabel(\"Epoch\")\n",
    "plt.ylabel(\"Pearson Correlation\")\n",
    "plt.legend()\n",
    "plt.grid(True)\n",
    "plt.show()\n"
   ]
  }
 ],
 "metadata": {
  "kernelspec": {
   "display_name": "LLM",
   "language": "python",
   "name": "python3"
  },
  "language_info": {
   "codemirror_mode": {
    "name": "ipython",
    "version": 3
   },
   "file_extension": ".py",
   "mimetype": "text/x-python",
   "name": "python",
   "nbconvert_exporter": "python",
   "pygments_lexer": "ipython3",
   "version": "3.11.11"
  }
 },
 "nbformat": 4,
 "nbformat_minor": 2
}
