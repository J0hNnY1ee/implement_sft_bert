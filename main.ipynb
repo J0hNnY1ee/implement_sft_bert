{
 "cells": [
  {
   "cell_type": "code",
   "execution_count": 1,
   "metadata": {},
   "outputs": [
    {
     "name": "stderr",
     "output_type": "stream",
     "text": [
      "/data/inspur/workspace-j0hnny/implement_sft_bert/.conda/lib/python3.11/site-packages/tqdm/auto.py:21: TqdmWarning: IProgress not found. Please update jupyter and ipywidgets. See https://ipywidgets.readthedocs.io/en/stable/user_install.html\n",
      "  from .autonotebook import tqdm as notebook_tqdm\n"
     ]
    }
   ],
   "source": [
    "\"\"\"\n",
    "该模块定义了两个用于文本分类的类，分别使用BERT和BERT与LSTM结合。\n",
    "类:\n",
    "    BertClassifier: 使用BERT进行文本分类的分类器。\n",
    "    BertLstmClassifier: 使用BERT和双向LSTM进行文本分类的分类器。\n",
    "类:\n",
    "    BertClassifier:\n",
    "        方法:\n",
    "            __init__(self, bert_config, num_labels): 使用给定的BERT配置和标签数量初始化BertClassifier。\n",
    "            forward(self, input_ids, attention_mask=None, token_type_ids=None): 定义BertClassifier的前向传播。\n",
    "    BertLstmClassifier:\n",
    "        方法:\n",
    "            __init__(self, bert_config, num_labels): 使用给定的BERT配置和标签数量初始化BertLstmClassifier。\n",
    "            forward(self, input_ids, attention_mask=None, token_type_ids=None): 定义BertLstmClassifier的前向传播。\n",
    "\"\"\"\n",
    "\n",
    "\n",
    "import torch.nn as nn\n",
    "from transformers import BertModel, BertTokenizer\n",
    "\n",
    "\n",
    "class BertClassifier(nn.Module):\n",
    "    def __init__(self, bert_config, num_labels):\n",
    "        super().__init__()\n",
    "        # 定义BERT模型\n",
    "        self.bert = BertModel(config=bert_config)\n",
    "        # 定义分类器\n",
    "        self.classifier = nn.Linear(bert_config.hidden_size, num_labels)\n",
    "        \n",
    "    def forward(self, input_ids, attention_mask=None, token_type_ids=None):\n",
    "        outputs = self.bert(input_ids, attention_mask=attention_mask, token_type_ids=token_type_ids)\n",
    "        pooled_output = outputs[1]\n",
    "        logits = self.classifier(pooled_output)\n",
    "        return logits\n",
    "    \n",
    "    \n",
    "class BertLstmClassifier(nn.Module):\n",
    "    def __init__(self, bert_config, num_labels):\n",
    "        super().__init__()\n",
    "        self.bert = BertModel(config=bert_config)\n",
    "        self.lstm = nn.LSTM(bert_config.hidden_size, bert_config.hidden_size, num_layers=2,batch_first=True, bidirectional=True)\n",
    "        self.classifier = nn.Linear(bert_config.hidden_size * 2, num_labels) ## 双向LSTM\n",
    "        \n",
    "    def forward(self, input_ids, attention_mask=None, token_type_ids=None):\n",
    "        outputs = self.bert(input_ids, attention_mask=attention_mask, token_type_ids=token_type_ids)\n",
    "        sequence_output = outputs.last_hidden_state\n",
    "        lstm_output, _ = self.lstm(sequence_output)\n",
    "        logits = self.classifier(lstm_output[:, -1, :])\n",
    "        return logits"
   ]
  },
  {
   "cell_type": "code",
   "execution_count": 2,
   "metadata": {},
   "outputs": [
    {
     "name": "stdout",
     "output_type": "stream",
     "text": [
      "5257\n",
      "解码后的文本: 媒 体 揭 课 程 辅 导 乱 象 : 让 学 员 续 费 是 老 师 首 要 任 务 暑 假 期 间 ， 不 少 孩 子 参 加 了 各 种 课 程 辅 导 班 。 记 者 调 查 发 现 ， 那 些 宣 称 一 对 一 独 创 教 学 法 的 课 程 辅 导 机 构 ， 不 少 利 用 中 高 考 状 元 高 分 获 得 者 等 进 行 夸 大 宣 传 ， 有 的 一 期 课 程 竟 高 达 5 万 元 ， 而 老 师 的 首 要 任 务 是 让 学 生 不 断 续 费 并 介 绍 新 学 员 。 专 门 招 募 尖 子 生 做 宣 传 培 训 基 本 费 用 每 课 时 200 元 ， 一 个 暑 假 50 个 课 时 ； 一 对 一 辅 导 每 课 时 300 元 ， 一 期 课 程 5 万 多 元 记 者 近 日 走 访 多 地 发 现 ， 暑 期 课 程 辅 导 班 市 场 火 热 。 不 少 机 构 都 打 出 了 培 养 出 中 高 考 状 元 学 员 成 绩 大 幅 提 升 等 宣 传 标 语 。 记 者 对 那 些 写 在 宣 传 单 和 网 站 上 的 成 功 案 例 作 了 分 析 ， 一 些 疑 点 浮 出 水 面 ， 甚 至 还 有 一 些 成 功 案 例 撞 车 的 现 象 。 比 如 在 深 圳 ， 学 而 思 培 优 和 邦 德 两 家 教 育 培 训 机 构 均 宣 称 ， 2015 年 深 圳 市 理 科 中 考 状 元 是 他 们 培 养 的 。 有 些 机 构 专 门 招 募 尖 子 生 进 行 免 费 培 训 ， 主 要 目 的 就 是 在 升 学 考 试 之 后 将 高 分 获 得 者 用 作 宣 传 。 南 京 一 家 教 育 机 构 在 其 2015 年 中 考 喜 报 里 突 出 宣 传 的 南 京 哈 佛 班 学 员 ， 实 际 上 是 今 年 4 月 份 该 机 构 在 南 京 多 所 重 点 中 学 里 集 中 选 拔 出 来 的 尖 子 生 ， 以 免 费 培 训 换 取 中 考 之 后 的 宣 传 权 。 记 者 调 查 发 现 ， 不 少 培 训 机 构 缺 乏 资 质 。 深 圳 市 教 育 局 最 新 发 布 的 《 深 圳 市 教 育 培 训 机\n",
      "情感标签ID: 1\n",
      "情感标签名称: angry\n"
     ]
    }
   ],
   "source": [
    "\n",
    "from torch.utils.data import Dataset\n",
    "import json\n",
    "import numpy as np\n",
    "import torch\n",
    "\n",
    "class _2016Dataset(Dataset):\n",
    "    def __init__(self, file_path, tokenizer,max_length=512):\n",
    "        self.labels = ['moved', 'angry', 'funny', 'sad', 'novel', 'shocked']\n",
    "        self.labels_id = {label: i for i, label in enumerate(self.labels)}\n",
    "        self.tokenizer = tokenizer\n",
    "        self.input_ids = []\n",
    "        self.token_type_ids = []\n",
    "        self.attention_mask = []\n",
    "        self.label_id = []\n",
    "        self.load_data(file_path,max_length)\n",
    "\n",
    "        \n",
    "    def load_data(self, file_path,max_length=512):\n",
    "        with open(file_path, 'r', encoding='utf-8') as file:\n",
    "            data = json.load(file)\n",
    "            \n",
    "        for item in data:\n",
    "            text = item['news']\n",
    "            # 过滤掉不需要的字段\n",
    "            emotions = {k: v for k, v in item.items() if k in self.labels}\n",
    "            # 找到值最大的情感字段\n",
    "            label = max(emotions, key=emotions.get)\n",
    "            label_id = self.labels_id[label]\n",
    "            token = self.tokenizer(text, max_length=max_length, add_special_tokens=True, padding='max_length', truncation=True, return_tensors='pt')\n",
    "            self.input_ids.append(token['input_ids'].clone().detach().to(dtype=torch.long))\n",
    "            self.token_type_ids.append(token['token_type_ids'].clone().detach().to(dtype=torch.long))\n",
    "            self.attention_mask.append(token['attention_mask'].clone().detach().to(dtype=torch.long))\n",
    "            self.label_id.append(label_id)\n",
    "    \n",
    "    def __len__(self):\n",
    "        return len(self.input_ids)\n",
    "    \n",
    "    def __getitem__(self, index):\n",
    "        return self.input_ids[index].squeeze(0), self.token_type_ids[index].squeeze(0), self.attention_mask[index].squeeze(0), self.label_id[index]\n",
    "\n",
    "tokenizer = BertTokenizer.from_pretrained('model/bert-base-chinese')\n",
    "test_data = _2016Dataset('data/2016.json', tokenizer)\n",
    "\n",
    "print(len(test_data))\n",
    "\n",
    "# 获取第一条数据\n",
    "input_ids, token_type_ids, attention_mask, label_id = test_data[0]\n",
    "\n",
    "# 解码 input_ids\n",
    "decoded_text = tokenizer.decode(input_ids.squeeze().tolist(), skip_special_tokens=True)\n",
    "\n",
    "print(\"解码后的文本:\", decoded_text)\n",
    "print(\"情感标签ID:\", label_id)\n",
    "print(\"情感标签名称:\", test_data.labels[label_id])\n"
   ]
  },
  {
   "cell_type": "code",
   "execution_count": 3,
   "metadata": {},
   "outputs": [
    {
     "name": "stdout",
     "output_type": "stream",
     "text": [
      "训练集大小: 4731\n",
      "测试集大小: 526\n"
     ]
    }
   ],
   "source": [
    "#分割数据集\n",
    "import json\n",
    "import random\n",
    "\n",
    "# 加载原始数据集\n",
    "with open('data/2016.json', 'r', encoding='utf-8') as file:\n",
    "    data = json.load(file)\n",
    "\n",
    "# 打乱数据集\n",
    "random.shuffle(data)\n",
    "\n",
    "# 按 9:1 分割数据集\n",
    "split_index = int(len(data) * 0.9)\n",
    "train_data = data[:split_index]\n",
    "test_data = data[split_index:]\n",
    "\n",
    "# 保存训练集到 train.json\n",
    "with open('data/train.json', 'w', encoding='utf-8') as train_file:\n",
    "    json.dump(train_data, train_file, ensure_ascii=False, indent=4)\n",
    "\n",
    "# 保存测试集到 test.json\n",
    "with open('data/test.json', 'w', encoding='utf-8') as test_file:\n",
    "    json.dump(test_data, test_file, ensure_ascii=False, indent=4)\n",
    "\n",
    "print(f\"训练集大小: {len(train_data)}\")\n",
    "print(f\"测试集大小: {len(test_data)}\")"
   ]
  },
  {
   "cell_type": "code",
   "execution_count": 4,
   "metadata": {},
   "outputs": [],
   "source": [
    "import os\n",
    "import torch\n",
    "import torch.nn as nn\n",
    "from transformers import BertTokenizer, AdamW, BertConfig\n",
    "from torch.utils.data import DataLoader\n",
    "from tqdm import tqdm\n",
    "from sklearn import metrics\n",
    "\n",
    "def train():\n",
    "    model_path = \"model/bert-base-chinese\"\n",
    "    data_path = \"data/\"\n",
    "    batch_size = 8\n",
    "    device = torch.device(\"cuda\" if torch.cuda.is_available() else \"cpu\")\n",
    "    epochs = 10\n",
    "    learning_rate = 5e-6\n",
    "    tokenizer = BertTokenizer.from_pretrained(model_path)\n",
    "    \n",
    "    train_dataset = _2016Dataset(data_path + 'train.json', tokenizer)\n",
    "    valid_dataset = _2016Dataset(data_path + 'test.json', tokenizer)\n",
    "\n",
    "    valid_dataloader = DataLoader(valid_dataset, batch_size=batch_size, shuffle=False)\n",
    "\n",
    "    bert_config = BertConfig.from_pretrained(model_path)\n",
    "    num_labels = len(train_dataset.labels)\n",
    "    \n",
    "    model = BertClassifier(bert_config, num_labels).to(device)\n",
    "\n",
    "    optimizer = AdamW(model.parameters(), lr=learning_rate)\n",
    "    \n",
    "    criterion = nn.CrossEntropyLoss()\n",
    "    \n",
    "    best_f1 = 0\n",
    "    \n",
    "    # 用于记录每个 epoch 的分类报告、训练损失和验证损失数据\n",
    "    report_data = []\n",
    "    train_losses = []\n",
    "    valid_losses = []\n",
    "    \n",
    "    for epoch in range(1, epochs + 1):\n",
    "        model.train()\n",
    "        losses = 0\n",
    "        accuracy = 0\n",
    "        \n",
    "        train_dataloader = DataLoader(train_dataset, batch_size=batch_size, shuffle=True)\n",
    "        train_bar = tqdm(train_dataloader, ncols=100)\n",
    "        \n",
    "        for input_ids, token_type_ids, attention_mask, label_id in train_bar:\n",
    "            \n",
    "            model.zero_grad()\n",
    "            train_bar.set_description(f\"Epoch {epoch}\")\n",
    "            \n",
    "            output = model(input_ids.to(device), attention_mask=attention_mask.to(device), token_type_ids=token_type_ids.to(device))\n",
    "\n",
    "            loss = criterion(output, label_id.to(device))\n",
    "            \n",
    "            losses += loss.item()\n",
    "            \n",
    "            pred_labels = torch.argmax(output, dim=1)\n",
    "            acc = torch.sum(pred_labels == label_id.to(device)).item() / len(label_id)\n",
    "            accuracy += acc\n",
    "            \n",
    "            loss.backward()\n",
    "            optimizer.step()\n",
    "            train_bar.set_postfix(loss=loss.item(), acc=acc)\n",
    "            \n",
    "        average_loss = losses / len(train_dataloader)\n",
    "        average_acc = accuracy / len(train_dataloader)\n",
    "        \n",
    "        # 保存训练损失\n",
    "        train_losses.append(average_loss)\n",
    "        \n",
    "        print('\\tTrain ACC:', average_acc, '\\tLoss:', average_loss)\n",
    "        \n",
    "        model.eval()\n",
    "        losses = 0\n",
    "        pred_labels = []\n",
    "        true_labels = []\n",
    "        valid_bar = tqdm(valid_dataloader, ncols=100)\n",
    "        \n",
    "        for input_ids, token_type_ids, attention_mask, label_id in valid_bar:\n",
    "            valid_bar.set_description(f'Epoch {epoch} valid')\n",
    "\n",
    "            output = model(input_ids=input_ids.to(device), attention_mask=attention_mask.to(device), token_type_ids=token_type_ids.to(device))\n",
    "            \n",
    "            loss = criterion(output, label_id.to(device))\n",
    "            losses += loss.item()\n",
    "\n",
    "            pred_label = torch.argmax(output, dim=1)\n",
    "            acc = torch.sum(pred_label == label_id.to(device)).item() / len(pred_label)\n",
    "            valid_bar.set_postfix(loss=loss.item(), acc=acc)\n",
    "\n",
    "            pred_labels.extend(pred_label.cpu().numpy().tolist())\n",
    "            true_labels.extend(label_id.numpy().tolist())\n",
    "        \n",
    "        average_loss = losses / len(valid_dataloader)\n",
    "        valid_losses.append(average_loss)\n",
    "        \n",
    "        print('\\tValidation Loss:', average_loss)\n",
    "        \n",
    "        # 分类报告\n",
    "        labels = list(valid_dataset.labels_id.values())\n",
    "        report = metrics.classification_report(true_labels, pred_labels, labels=labels, target_names=valid_dataset.labels, output_dict=True)\n",
    "        report_data.append(report)\n",
    "\n",
    "        f1 = metrics.f1_score(true_labels, pred_labels, labels=list(valid_dataset.labels_id.values()), average='micro')\n",
    "        \n",
    "        if not os.path.exists('models'):\n",
    "            os.makedirs('models')\n",
    "        \n",
    "        if f1 > best_f1:\n",
    "            best_f1 = f1\n",
    "            torch.save(model.state_dict(), 'models/best_model_2.pkl')\n",
    "    \n",
    "    # 返回所有 epoch 的报告数据，以及训练和验证的损失数据\n",
    "    return report_data, train_losses, valid_losses\n",
    "\n"
   ]
  },
  {
   "cell_type": "code",
   "execution_count": 5,
   "metadata": {},
   "outputs": [
    {
     "name": "stderr",
     "output_type": "stream",
     "text": [
      "/data/inspur/workspace-j0hnny/implement_sft_bert/.conda/lib/python3.11/site-packages/transformers/optimization.py:591: FutureWarning: This implementation of AdamW is deprecated and will be removed in a future version. Use the PyTorch implementation torch.optim.AdamW instead, or set `no_deprecation_warning=True` to disable this warning\n",
      "  warnings.warn(\n",
      "Epoch 1: 100%|██████████████████████████████| 592/592 [01:41<00:00,  5.83it/s, acc=0.333, loss=1.33]\n"
     ]
    },
    {
     "name": "stdout",
     "output_type": "stream",
     "text": [
      "\tTrain ACC: 0.3487471846846847 \tLoss: 1.5088043786786698\n"
     ]
    },
    {
     "name": "stderr",
     "output_type": "stream",
     "text": [
      "Epoch 1 valid: 100%|██████████████████████████| 66/66 [00:03<00:00, 19.12it/s, acc=0.167, loss=1.34]\n",
      "/data/inspur/workspace-j0hnny/implement_sft_bert/.conda/lib/python3.11/site-packages/sklearn/metrics/_classification.py:1565: UndefinedMetricWarning: Precision is ill-defined and being set to 0.0 in labels with no predicted samples. Use `zero_division` parameter to control this behavior.\n",
      "  _warn_prf(average, modifier, f\"{metric.capitalize()} is\", len(result))\n",
      "/data/inspur/workspace-j0hnny/implement_sft_bert/.conda/lib/python3.11/site-packages/sklearn/metrics/_classification.py:1565: UndefinedMetricWarning: Precision is ill-defined and being set to 0.0 in labels with no predicted samples. Use `zero_division` parameter to control this behavior.\n",
      "  _warn_prf(average, modifier, f\"{metric.capitalize()} is\", len(result))\n",
      "/data/inspur/workspace-j0hnny/implement_sft_bert/.conda/lib/python3.11/site-packages/sklearn/metrics/_classification.py:1565: UndefinedMetricWarning: Precision is ill-defined and being set to 0.0 in labels with no predicted samples. Use `zero_division` parameter to control this behavior.\n",
      "  _warn_prf(average, modifier, f\"{metric.capitalize()} is\", len(result))\n"
     ]
    },
    {
     "name": "stdout",
     "output_type": "stream",
     "text": [
      "\tValidation Loss: 1.5227848833257502\n"
     ]
    },
    {
     "name": "stderr",
     "output_type": "stream",
     "text": [
      "Epoch 2: 100%|██████████████████████████████████| 592/592 [01:41<00:00,  5.80it/s, acc=0, loss=2.19]\n"
     ]
    },
    {
     "name": "stdout",
     "output_type": "stream",
     "text": [
      "\tTrain ACC: 0.3536739864864865 \tLoss: 1.49919031389259\n"
     ]
    },
    {
     "name": "stderr",
     "output_type": "stream",
     "text": [
      "Epoch 2 valid: 100%|██████████████████████████| 66/66 [00:03<00:00, 18.98it/s, acc=0.167, loss=1.43]\n",
      "/data/inspur/workspace-j0hnny/implement_sft_bert/.conda/lib/python3.11/site-packages/sklearn/metrics/_classification.py:1565: UndefinedMetricWarning: Precision is ill-defined and being set to 0.0 in labels with no predicted samples. Use `zero_division` parameter to control this behavior.\n",
      "  _warn_prf(average, modifier, f\"{metric.capitalize()} is\", len(result))\n",
      "/data/inspur/workspace-j0hnny/implement_sft_bert/.conda/lib/python3.11/site-packages/sklearn/metrics/_classification.py:1565: UndefinedMetricWarning: Precision is ill-defined and being set to 0.0 in labels with no predicted samples. Use `zero_division` parameter to control this behavior.\n",
      "  _warn_prf(average, modifier, f\"{metric.capitalize()} is\", len(result))\n",
      "/data/inspur/workspace-j0hnny/implement_sft_bert/.conda/lib/python3.11/site-packages/sklearn/metrics/_classification.py:1565: UndefinedMetricWarning: Precision is ill-defined and being set to 0.0 in labels with no predicted samples. Use `zero_division` parameter to control this behavior.\n",
      "  _warn_prf(average, modifier, f\"{metric.capitalize()} is\", len(result))\n"
     ]
    },
    {
     "name": "stdout",
     "output_type": "stream",
     "text": [
      "\tValidation Loss: 1.5120588215914639\n"
     ]
    },
    {
     "name": "stderr",
     "output_type": "stream",
     "text": [
      "Epoch 3: 100%|██████████████████████████████| 592/592 [01:42<00:00,  5.75it/s, acc=0.333, loss=1.44]\n"
     ]
    },
    {
     "name": "stdout",
     "output_type": "stream",
     "text": [
      "\tTrain ACC: 0.36585022522522526 \tLoss: 1.4864479299332645\n"
     ]
    },
    {
     "name": "stderr",
     "output_type": "stream",
     "text": [
      "Epoch 3 valid: 100%|██████████████████████████| 66/66 [00:03<00:00, 18.77it/s, acc=0.167, loss=1.46]\n",
      "/data/inspur/workspace-j0hnny/implement_sft_bert/.conda/lib/python3.11/site-packages/sklearn/metrics/_classification.py:1565: UndefinedMetricWarning: Precision is ill-defined and being set to 0.0 in labels with no predicted samples. Use `zero_division` parameter to control this behavior.\n",
      "  _warn_prf(average, modifier, f\"{metric.capitalize()} is\", len(result))\n",
      "/data/inspur/workspace-j0hnny/implement_sft_bert/.conda/lib/python3.11/site-packages/sklearn/metrics/_classification.py:1565: UndefinedMetricWarning: Precision is ill-defined and being set to 0.0 in labels with no predicted samples. Use `zero_division` parameter to control this behavior.\n",
      "  _warn_prf(average, modifier, f\"{metric.capitalize()} is\", len(result))\n",
      "/data/inspur/workspace-j0hnny/implement_sft_bert/.conda/lib/python3.11/site-packages/sklearn/metrics/_classification.py:1565: UndefinedMetricWarning: Precision is ill-defined and being set to 0.0 in labels with no predicted samples. Use `zero_division` parameter to control this behavior.\n",
      "  _warn_prf(average, modifier, f\"{metric.capitalize()} is\", len(result))\n"
     ]
    },
    {
     "name": "stdout",
     "output_type": "stream",
     "text": [
      "\tValidation Loss: 1.4432710499474497\n"
     ]
    },
    {
     "name": "stderr",
     "output_type": "stream",
     "text": [
      "Epoch 4: 100%|██████████████████████████████| 592/592 [01:42<00:00,  5.77it/s, acc=0.333, loss=1.65]\n"
     ]
    },
    {
     "name": "stdout",
     "output_type": "stream",
     "text": [
      "\tTrain ACC: 0.4448198198198198 \tLoss: 1.3266971591558006\n"
     ]
    },
    {
     "name": "stderr",
     "output_type": "stream",
     "text": [
      "Epoch 4 valid: 100%|██████████████████████████| 66/66 [00:03<00:00, 18.76it/s, acc=0.667, loss=1.31]\n",
      "/data/inspur/workspace-j0hnny/implement_sft_bert/.conda/lib/python3.11/site-packages/sklearn/metrics/_classification.py:1565: UndefinedMetricWarning: Precision is ill-defined and being set to 0.0 in labels with no predicted samples. Use `zero_division` parameter to control this behavior.\n",
      "  _warn_prf(average, modifier, f\"{metric.capitalize()} is\", len(result))\n",
      "/data/inspur/workspace-j0hnny/implement_sft_bert/.conda/lib/python3.11/site-packages/sklearn/metrics/_classification.py:1565: UndefinedMetricWarning: Precision is ill-defined and being set to 0.0 in labels with no predicted samples. Use `zero_division` parameter to control this behavior.\n",
      "  _warn_prf(average, modifier, f\"{metric.capitalize()} is\", len(result))\n",
      "/data/inspur/workspace-j0hnny/implement_sft_bert/.conda/lib/python3.11/site-packages/sklearn/metrics/_classification.py:1565: UndefinedMetricWarning: Precision is ill-defined and being set to 0.0 in labels with no predicted samples. Use `zero_division` parameter to control this behavior.\n",
      "  _warn_prf(average, modifier, f\"{metric.capitalize()} is\", len(result))\n"
     ]
    },
    {
     "name": "stdout",
     "output_type": "stream",
     "text": [
      "\tValidation Loss: 1.2048864283344962\n"
     ]
    },
    {
     "name": "stderr",
     "output_type": "stream",
     "text": [
      "Epoch 5: 100%|█████████████████████████████████| 592/592 [01:39<00:00,  5.92it/s, acc=1, loss=0.472]\n"
     ]
    },
    {
     "name": "stdout",
     "output_type": "stream",
     "text": [
      "\tTrain ACC: 0.5386402027027027 \tLoss: 1.173303993972572\n"
     ]
    },
    {
     "name": "stderr",
     "output_type": "stream",
     "text": [
      "Epoch 5 valid: 100%|██████████████████████████| 66/66 [00:03<00:00, 19.05it/s, acc=0.667, loss=1.33]\n",
      "/data/inspur/workspace-j0hnny/implement_sft_bert/.conda/lib/python3.11/site-packages/sklearn/metrics/_classification.py:1565: UndefinedMetricWarning: Precision is ill-defined and being set to 0.0 in labels with no predicted samples. Use `zero_division` parameter to control this behavior.\n",
      "  _warn_prf(average, modifier, f\"{metric.capitalize()} is\", len(result))\n",
      "/data/inspur/workspace-j0hnny/implement_sft_bert/.conda/lib/python3.11/site-packages/sklearn/metrics/_classification.py:1565: UndefinedMetricWarning: Precision is ill-defined and being set to 0.0 in labels with no predicted samples. Use `zero_division` parameter to control this behavior.\n",
      "  _warn_prf(average, modifier, f\"{metric.capitalize()} is\", len(result))\n",
      "/data/inspur/workspace-j0hnny/implement_sft_bert/.conda/lib/python3.11/site-packages/sklearn/metrics/_classification.py:1565: UndefinedMetricWarning: Precision is ill-defined and being set to 0.0 in labels with no predicted samples. Use `zero_division` parameter to control this behavior.\n",
      "  _warn_prf(average, modifier, f\"{metric.capitalize()} is\", len(result))\n"
     ]
    },
    {
     "name": "stdout",
     "output_type": "stream",
     "text": [
      "\tValidation Loss: 1.3112055406425938\n"
     ]
    },
    {
     "name": "stderr",
     "output_type": "stream",
     "text": [
      "Epoch 6: 100%|██████████████████████████████| 592/592 [01:39<00:00,  5.93it/s, acc=0.333, loss=1.87]\n"
     ]
    },
    {
     "name": "stdout",
     "output_type": "stream",
     "text": [
      "\tTrain ACC: 0.5759431306306306 \tLoss: 1.083730218227248\n"
     ]
    },
    {
     "name": "stderr",
     "output_type": "stream",
     "text": [
      "Epoch 6 valid: 100%|██████████████████████████| 66/66 [00:03<00:00, 18.92it/s, acc=0.667, loss=1.39]\n",
      "/data/inspur/workspace-j0hnny/implement_sft_bert/.conda/lib/python3.11/site-packages/sklearn/metrics/_classification.py:1565: UndefinedMetricWarning: Precision is ill-defined and being set to 0.0 in labels with no predicted samples. Use `zero_division` parameter to control this behavior.\n",
      "  _warn_prf(average, modifier, f\"{metric.capitalize()} is\", len(result))\n",
      "/data/inspur/workspace-j0hnny/implement_sft_bert/.conda/lib/python3.11/site-packages/sklearn/metrics/_classification.py:1565: UndefinedMetricWarning: Precision is ill-defined and being set to 0.0 in labels with no predicted samples. Use `zero_division` parameter to control this behavior.\n",
      "  _warn_prf(average, modifier, f\"{metric.capitalize()} is\", len(result))\n",
      "/data/inspur/workspace-j0hnny/implement_sft_bert/.conda/lib/python3.11/site-packages/sklearn/metrics/_classification.py:1565: UndefinedMetricWarning: Precision is ill-defined and being set to 0.0 in labels with no predicted samples. Use `zero_division` parameter to control this behavior.\n",
      "  _warn_prf(average, modifier, f\"{metric.capitalize()} is\", len(result))\n"
     ]
    },
    {
     "name": "stdout",
     "output_type": "stream",
     "text": [
      "\tValidation Loss: 1.2566880303801913\n"
     ]
    },
    {
     "name": "stderr",
     "output_type": "stream",
     "text": [
      "Epoch 7: 100%|██████████████████████████████████| 592/592 [01:41<00:00,  5.81it/s, acc=1, loss=0.14]\n"
     ]
    },
    {
     "name": "stdout",
     "output_type": "stream",
     "text": [
      "\tTrain ACC: 0.6049408783783784 \tLoss: 1.034161452833261\n"
     ]
    },
    {
     "name": "stderr",
     "output_type": "stream",
     "text": [
      "Epoch 7 valid: 100%|██████████████████████████| 66/66 [00:03<00:00, 18.76it/s, acc=0.667, loss=1.37]\n",
      "/data/inspur/workspace-j0hnny/implement_sft_bert/.conda/lib/python3.11/site-packages/sklearn/metrics/_classification.py:1565: UndefinedMetricWarning: Precision is ill-defined and being set to 0.0 in labels with no predicted samples. Use `zero_division` parameter to control this behavior.\n",
      "  _warn_prf(average, modifier, f\"{metric.capitalize()} is\", len(result))\n",
      "/data/inspur/workspace-j0hnny/implement_sft_bert/.conda/lib/python3.11/site-packages/sklearn/metrics/_classification.py:1565: UndefinedMetricWarning: Precision is ill-defined and being set to 0.0 in labels with no predicted samples. Use `zero_division` parameter to control this behavior.\n",
      "  _warn_prf(average, modifier, f\"{metric.capitalize()} is\", len(result))\n",
      "/data/inspur/workspace-j0hnny/implement_sft_bert/.conda/lib/python3.11/site-packages/sklearn/metrics/_classification.py:1565: UndefinedMetricWarning: Precision is ill-defined and being set to 0.0 in labels with no predicted samples. Use `zero_division` parameter to control this behavior.\n",
      "  _warn_prf(average, modifier, f\"{metric.capitalize()} is\", len(result))\n"
     ]
    },
    {
     "name": "stdout",
     "output_type": "stream",
     "text": [
      "\tValidation Loss: 1.2415762065034923\n"
     ]
    },
    {
     "name": "stderr",
     "output_type": "stream",
     "text": [
      "Epoch 8: 100%|███████████████████████████████| 592/592 [01:42<00:00,  5.79it/s, acc=0.333, loss=1.1]\n"
     ]
    },
    {
     "name": "stdout",
     "output_type": "stream",
     "text": [
      "\tTrain ACC: 0.6200731981981982 \tLoss: 0.9962479640805239\n"
     ]
    },
    {
     "name": "stderr",
     "output_type": "stream",
     "text": [
      "Epoch 8 valid: 100%|████████████████████████████| 66/66 [00:03<00:00, 18.78it/s, acc=0.5, loss=1.71]\n",
      "/data/inspur/workspace-j0hnny/implement_sft_bert/.conda/lib/python3.11/site-packages/sklearn/metrics/_classification.py:1565: UndefinedMetricWarning: Precision is ill-defined and being set to 0.0 in labels with no predicted samples. Use `zero_division` parameter to control this behavior.\n",
      "  _warn_prf(average, modifier, f\"{metric.capitalize()} is\", len(result))\n",
      "/data/inspur/workspace-j0hnny/implement_sft_bert/.conda/lib/python3.11/site-packages/sklearn/metrics/_classification.py:1565: UndefinedMetricWarning: Precision is ill-defined and being set to 0.0 in labels with no predicted samples. Use `zero_division` parameter to control this behavior.\n",
      "  _warn_prf(average, modifier, f\"{metric.capitalize()} is\", len(result))\n",
      "/data/inspur/workspace-j0hnny/implement_sft_bert/.conda/lib/python3.11/site-packages/sklearn/metrics/_classification.py:1565: UndefinedMetricWarning: Precision is ill-defined and being set to 0.0 in labels with no predicted samples. Use `zero_division` parameter to control this behavior.\n",
      "  _warn_prf(average, modifier, f\"{metric.capitalize()} is\", len(result))\n"
     ]
    },
    {
     "name": "stdout",
     "output_type": "stream",
     "text": [
      "\tValidation Loss: 1.217464024370367\n"
     ]
    },
    {
     "name": "stderr",
     "output_type": "stream",
     "text": [
      "Epoch 9: 100%|█████████████████████████████████| 592/592 [01:40<00:00,  5.90it/s, acc=1, loss=0.554]\n"
     ]
    },
    {
     "name": "stdout",
     "output_type": "stream",
     "text": [
      "\tTrain ACC: 0.644214527027027 \tLoss: 0.9385480807238334\n"
     ]
    },
    {
     "name": "stderr",
     "output_type": "stream",
     "text": [
      "Epoch 9 valid: 100%|████████████████████████████| 66/66 [00:03<00:00, 19.06it/s, acc=0.5, loss=1.64]\n",
      "/data/inspur/workspace-j0hnny/implement_sft_bert/.conda/lib/python3.11/site-packages/sklearn/metrics/_classification.py:1565: UndefinedMetricWarning: Precision is ill-defined and being set to 0.0 in labels with no predicted samples. Use `zero_division` parameter to control this behavior.\n",
      "  _warn_prf(average, modifier, f\"{metric.capitalize()} is\", len(result))\n",
      "/data/inspur/workspace-j0hnny/implement_sft_bert/.conda/lib/python3.11/site-packages/sklearn/metrics/_classification.py:1565: UndefinedMetricWarning: Precision is ill-defined and being set to 0.0 in labels with no predicted samples. Use `zero_division` parameter to control this behavior.\n",
      "  _warn_prf(average, modifier, f\"{metric.capitalize()} is\", len(result))\n",
      "/data/inspur/workspace-j0hnny/implement_sft_bert/.conda/lib/python3.11/site-packages/sklearn/metrics/_classification.py:1565: UndefinedMetricWarning: Precision is ill-defined and being set to 0.0 in labels with no predicted samples. Use `zero_division` parameter to control this behavior.\n",
      "  _warn_prf(average, modifier, f\"{metric.capitalize()} is\", len(result))\n"
     ]
    },
    {
     "name": "stdout",
     "output_type": "stream",
     "text": [
      "\tValidation Loss: 1.2079609569275018\n"
     ]
    },
    {
     "name": "stderr",
     "output_type": "stream",
     "text": [
      "Epoch 10: 100%|█████████████████████████████| 592/592 [01:42<00:00,  5.79it/s, acc=0.667, loss=1.74]\n"
     ]
    },
    {
     "name": "stdout",
     "output_type": "stream",
     "text": [
      "\tTrain ACC: 0.6615990990990991 \tLoss: 0.9164144502751328\n"
     ]
    },
    {
     "name": "stderr",
     "output_type": "stream",
     "text": [
      "Epoch 10 valid: 100%|███████████████████████████| 66/66 [00:03<00:00, 18.73it/s, acc=0.5, loss=1.34]"
     ]
    },
    {
     "name": "stdout",
     "output_type": "stream",
     "text": [
      "\tValidation Loss: 1.1652376078294986\n"
     ]
    },
    {
     "name": "stderr",
     "output_type": "stream",
     "text": [
      "\n",
      "/data/inspur/workspace-j0hnny/implement_sft_bert/.conda/lib/python3.11/site-packages/sklearn/metrics/_classification.py:1565: UndefinedMetricWarning: Precision is ill-defined and being set to 0.0 in labels with no predicted samples. Use `zero_division` parameter to control this behavior.\n",
      "  _warn_prf(average, modifier, f\"{metric.capitalize()} is\", len(result))\n",
      "/data/inspur/workspace-j0hnny/implement_sft_bert/.conda/lib/python3.11/site-packages/sklearn/metrics/_classification.py:1565: UndefinedMetricWarning: Precision is ill-defined and being set to 0.0 in labels with no predicted samples. Use `zero_division` parameter to control this behavior.\n",
      "  _warn_prf(average, modifier, f\"{metric.capitalize()} is\", len(result))\n",
      "/data/inspur/workspace-j0hnny/implement_sft_bert/.conda/lib/python3.11/site-packages/sklearn/metrics/_classification.py:1565: UndefinedMetricWarning: Precision is ill-defined and being set to 0.0 in labels with no predicted samples. Use `zero_division` parameter to control this behavior.\n",
      "  _warn_prf(average, modifier, f\"{metric.capitalize()} is\", len(result))\n"
     ]
    }
   ],
   "source": [
    "# 运行训练过程并获取分类报告数据、训练损失和验证损失\n",
    "report_data, train_losses, valid_losses = train()"
   ]
  },
  {
   "cell_type": "code",
   "execution_count": 10,
   "metadata": {},
   "outputs": [
    {
     "data": {
      "image/png": "[encoded data removed]",
      "text/plain": [
       "<Figure size 1000x600 with 1 Axes>"
      ]
     },
     "metadata": {},
     "output_type": "display_data"
    }
   ],
   "source": [
    "import matplotlib.pyplot as plt\n",
    "\n",
    "# 提取损失数据\n",
    "def extract_losses(loss_data):\n",
    "    train_losses = [loss.get('train_loss', 0) for loss in loss_data]\n",
    "    valid_losses = [loss.get('valid_loss', 0) for loss in loss_data]\n",
    "    return train_losses, valid_losses\n",
    "\n",
    "# 绘制训练损失和验证损失随 Epoch 变化的图\n",
    "def plot_losses(epochs, train_losses, valid_losses):\n",
    "    plt.figure(figsize=(10, 6))\n",
    "    plt.plot(epochs, train_losses, label='Train Loss', marker='x')\n",
    "    plt.plot(epochs, valid_losses, label='Validation Loss', marker='x')\n",
    "\n",
    "    plt.xlabel('Epochs')\n",
    "    plt.ylabel('Loss')\n",
    "    plt.legend()\n",
    "    plt.title('Loss vs Epochs')\n",
    "    plt.show()\n",
    "\n",
    "# 示例：假设 loss_data 是已获得的损失数据\n",
    "\n",
    "# 1. 设置 Epochs\n",
    "epochs = range(1, len(train_losses) + 1)\n",
    "\n",
    "# 2. 绘制损失图\n",
    "plot_losses(epochs, train_losses, valid_losses)\n"
   ]
  }
 ],
 "metadata": {
  "kernelspec": {
   "display_name": "Python 3",
   "language": "python",
   "name": "python3"
  },
  "language_info": {
   "codemirror_mode": {
    "name": "ipython",
    "version": 3
   },
   "file_extension": ".py",
   "mimetype": "text/x-python",
   "name": "python",
   "nbconvert_exporter": "python",
   "pygments_lexer": "ipython3",
   "version": "3.11.11"
  }
 },
 "nbformat": 4,
 "nbformat_minor": 2
}
